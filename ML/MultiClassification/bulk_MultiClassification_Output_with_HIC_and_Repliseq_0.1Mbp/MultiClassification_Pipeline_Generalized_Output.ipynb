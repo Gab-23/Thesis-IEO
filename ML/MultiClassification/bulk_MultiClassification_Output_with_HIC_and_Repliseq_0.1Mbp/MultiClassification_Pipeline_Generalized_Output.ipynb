{
 "cells": [
  {
   "cell_type": "markdown",
   "id": "b7856b0c",
   "metadata": {
    "papermill": {
     "duration": 0.00605,
     "end_time": "2025-06-10T07:53:21.361820",
     "exception": false,
     "start_time": "2025-06-10T07:53:21.355770",
     "status": "completed"
    },
    "tags": []
   },
   "source": [
    "# Machine Learning Pipeline - Production"
   ]
  },
  {
   "cell_type": "markdown",
   "id": "14cb215d",
   "metadata": {
    "papermill": {
     "duration": 0.005127,
     "end_time": "2025-06-10T07:53:21.373385",
     "exception": false,
     "start_time": "2025-06-10T07:53:21.368258",
     "status": "completed"
    },
    "tags": []
   },
   "source": [
    "Check the python kernel we are using, should be the local one, not the one in the virtual environment. <br>\n",
    "NOTE: A proper virtual environment will be setup later on"
   ]
  },
  {
   "cell_type": "code",
   "execution_count": 1,
   "id": "7008ff2e",
   "metadata": {
    "execution": {
     "iopub.execute_input": "2025-06-10T07:53:21.385866Z",
     "iopub.status.busy": "2025-06-10T07:53:21.384786Z",
     "iopub.status.idle": "2025-06-10T07:53:21.395073Z",
     "shell.execute_reply": "2025-06-10T07:53:21.394402Z"
    },
    "papermill": {
     "duration": 0.017525,
     "end_time": "2025-06-10T07:53:21.395799",
     "exception": false,
     "start_time": "2025-06-10T07:53:21.378274",
     "status": "completed"
    },
    "tags": []
   },
   "outputs": [
    {
     "name": "stdout",
     "output_type": "stream",
     "text": [
      "/usr/bin/python3\n"
     ]
    }
   ],
   "source": [
    "import sys\n",
    "print(sys.executable)"
   ]
  },
  {
   "cell_type": "code",
   "execution_count": 2,
   "id": "9296f578",
   "metadata": {
    "execution": {
     "iopub.execute_input": "2025-06-10T07:53:21.407341Z",
     "iopub.status.busy": "2025-06-10T07:53:21.406939Z",
     "iopub.status.idle": "2025-06-10T07:53:21.412547Z",
     "shell.execute_reply": "2025-06-10T07:53:21.411740Z"
    },
    "papermill": {
     "duration": 0.012489,
     "end_time": "2025-06-10T07:53:21.413288",
     "exception": false,
     "start_time": "2025-06-10T07:53:21.400799",
     "status": "completed"
    },
    "tags": []
   },
   "outputs": [
    {
     "name": "stdout",
     "output_type": "stream",
     "text": [
      "/home/ieo7429/Desktop/THESIS_GAB/ML/MultiClassification\n"
     ]
    }
   ],
   "source": [
    "import os\n",
    "print(os.getcwd())"
   ]
  },
  {
   "cell_type": "markdown",
   "id": "edd7506a",
   "metadata": {
    "papermill": {
     "duration": 0.004945,
     "end_time": "2025-06-10T07:53:21.423213",
     "exception": false,
     "start_time": "2025-06-10T07:53:21.418268",
     "status": "completed"
    },
    "tags": []
   },
   "source": [
    "## Define Variables"
   ]
  },
  {
   "cell_type": "markdown",
   "id": "0e119b9e",
   "metadata": {
    "papermill": {
     "duration": 0.004576,
     "end_time": "2025-06-10T07:53:21.432485",
     "exception": false,
     "start_time": "2025-06-10T07:53:21.427909",
     "status": "completed"
    },
    "tags": []
   },
   "source": [
    "Set up main variables that will be called later on, for readibility purposes"
   ]
  },
  {
   "cell_type": "code",
   "execution_count": 3,
   "id": "480c0577",
   "metadata": {
    "execution": {
     "iopub.execute_input": "2025-06-10T07:53:21.444711Z",
     "iopub.status.busy": "2025-06-10T07:53:21.443697Z",
     "iopub.status.idle": "2025-06-10T07:53:21.454706Z",
     "shell.execute_reply": "2025-06-10T07:53:21.453713Z"
    },
    "papermill": {
     "duration": 0.018473,
     "end_time": "2025-06-10T07:53:21.455454",
     "exception": false,
     "start_time": "2025-06-10T07:53:21.436981",
     "status": "completed"
    },
    "tags": []
   },
   "outputs": [
    {
     "name": "stdout",
     "output_type": "stream",
     "text": [
      "Base directory is consistent and exists: bulk_MultiClassification_Output_with_HIC_and_Repliseq_0.1Mbp\n"
     ]
    }
   ],
   "source": [
    "install_bool = False\n",
    "path_to_datasets = \"/home/ieo7429/Desktop/THESIS_GAB/outfiles/target_variables/bulk_ML_tables_regression_classification_BRCA_0.1Mbp_with_HIC_and_Repliseq.RData\"\n",
    "\n",
    "mode = \"regrout\"\n",
    "technology = \"bulk\"\n",
    "\n",
    "if technology == \"sc\":\n",
    "    \n",
    "    cols_to_drop = [\"mean_log2FC\", \"joint_probability\", \"bool_diff_acc\", \n",
    "                    \"sign_mean_log2FC_1\", \"sign_mean_log2FC_2\", \"sign_mean_log2FC_3\", \n",
    "                    \"weighted_coef_of_var_log2FC\", \"weighted_log2FC\", \"bin\", \"Type\", \"replication_class\"]\n",
    "\n",
    "    cols_to_check = [\"mean_log2FC\", \"weighted_log2FC\", \"weighted_coef_of_var_log2FC\",\n",
    "                 \"joint_probability\", \"bool_diff_acc\", \"sign_mean_log2FC_1\", \n",
    "                 \"sign_mean_log2FC_2\", \"sign_mean_log2FC_3\", \"joined_direction\", \"significant_dir_1\"]\n",
    "\n",
    "else:\n",
    "    \n",
    "    cols_to_drop = [\"bool_diff_acc\", \"logFC\", \"significant_dir_1\",\n",
    "                    \"sign_mean_log2FC_2\", \"sign_mean_log2FC_3\", \n",
    "                    \"bin\", \"Type\", \"replication_class\"]\n",
    "\n",
    "    cols_to_check = [\"logFC\", \"bool_diff_acc\", \"sign_mean_log2FC_1\", \n",
    "                     \"sign_mean_log2FC_2\", \"sign_mean_log2FC_3\", \"joined_direction\",\n",
    "                     \"significant_dir_1\"]\n",
    "\n",
    "if \"ampl_score\" in cols_to_drop and \"del_score\" in cols_to_drop:\n",
    "\n",
    "    condition = \"without_CNA\"\n",
    "\n",
    "else:\n",
    "\n",
    "    condition = \"with CNA\"\n",
    "\n",
    "n_jobs_boost = 60\n",
    "n_jobs_sk = 1\n",
    "n_iter_bsearch = 25\n",
    "n_iter_rsearch = 50\n",
    "\n",
    "split_random_state = 489574\n",
    "classifier_seed = 3737\n",
    "classifier_random_state = 39473209\n",
    "hypertune_random_state_bsearch = 3847\n",
    "hypertune_random_state_rsearch = 49574\n",
    "kfold_random_state = 4909\n",
    "\n",
    "outer_cv = 3\n",
    "inner_cv = 2\n",
    "plot_variation = True\n",
    "plot_shap = True\n",
    "\n",
    "import os\n",
    "\n",
    "X_train_filename = \"bulk_MultiClassification_Output_with_HIC_and_Repliseq_0.1Mbp/multiclass_X_train_red\"; \n",
    "X_test_filename = \"bulk_MultiClassification_Output_with_HIC_and_Repliseq_0.1Mbp/multiclass_X_test_red\"\n",
    "y_train_filename = \"bulk_MultiClassification_Output_with_HIC_and_Repliseq_0.1Mbp/multiclass_y_train_red\"; \n",
    "y_test_filename = \"bulk_MultiClassification_Output_with_HIC_and_Repliseq_0.1Mbp/multiclass_y_test_red\"\n",
    "bin_train_filename = \"bulk_MultiClassification_Output_with_HIC_and_Repliseq_0.1Mbp/multiclass_bin_train_red\"; \n",
    "bin_test_filename = \"bulk_MultiClassification_Output_with_HIC_and_Repliseq_0.1Mbp/multiclass_bin_test_red\"\n",
    "model_filename = \"bulk_MultiClassification_Output_with_HIC_and_Repliseq_0.1Mbp/multiclass_final_model\"\n",
    "\n",
    "file_paths = [\n",
    "    X_train_filename, X_test_filename,\n",
    "    y_train_filename, y_test_filename,\n",
    "    bin_train_filename, bin_test_filename,\n",
    "    model_filename\n",
    "]\n",
    "\n",
    "base_dirs = {os.path.dirname(path) for path in file_paths}\n",
    "\n",
    "if len(base_dirs) != 1:\n",
    "    raise ValueError(f\"Inconsistent base directories found: {base_dirs}\")\n",
    "\n",
    "base_dir = base_dirs.pop()\n",
    "\n",
    "if not os.path.exists(base_dir):\n",
    "    raise FileNotFoundError(f\"Base directory does not exist: {base_dir}\")\n",
    "\n",
    "print(f\"Base directory is consistent and exists: {base_dir}\")"
   ]
  },
  {
   "cell_type": "markdown",
   "id": "1650654c",
   "metadata": {
    "papermill": {
     "duration": 0.004879,
     "end_time": "2025-06-10T07:53:21.465296",
     "exception": false,
     "start_time": "2025-06-10T07:53:21.460417",
     "status": "completed"
    },
    "tags": []
   },
   "source": [
    "## Install packages"
   ]
  },
  {
   "cell_type": "markdown",
   "id": "e7ce7656",
   "metadata": {
    "papermill": {
     "duration": 0.004869,
     "end_time": "2025-06-10T07:53:21.475267",
     "exception": false,
     "start_time": "2025-06-10T07:53:21.470398",
     "status": "completed"
    },
    "tags": []
   },
   "source": [
    "Install all needed packages"
   ]
  },
  {
   "cell_type": "code",
   "execution_count": 4,
   "id": "6937455d",
   "metadata": {
    "execution": {
     "iopub.execute_input": "2025-06-10T07:53:21.487497Z",
     "iopub.status.busy": "2025-06-10T07:53:21.486734Z",
     "iopub.status.idle": "2025-06-10T07:53:21.501462Z",
     "shell.execute_reply": "2025-06-10T07:53:21.500792Z"
    },
    "papermill": {
     "duration": 0.021992,
     "end_time": "2025-06-10T07:53:21.502146",
     "exception": false,
     "start_time": "2025-06-10T07:53:21.480154",
     "status": "completed"
    },
    "tags": []
   },
   "outputs": [],
   "source": [
    "from IPython.display import clear_output\n",
    "\n",
    "if install_bool:\n",
    "    ! pip install pickleshare\n",
    "    ! pip install pandas\n",
    "    ! pip install scikit-learn\n",
    "    ! pip install seaborn\n",
    "    ! pip install scipy\n",
    "    ! pip install --upgrade pip setuptools wheel\n",
    "    ! pip install rpy2\n",
    "    ! pip install shap\n",
    "    ! pip install \"numpy<=2.1\"\n",
    "    %pip install -U ipywidgets\n",
    "\n",
    "clear_output(wait = False)"
   ]
  },
  {
   "cell_type": "markdown",
   "id": "2a2aa148",
   "metadata": {
    "papermill": {
     "duration": 0.004506,
     "end_time": "2025-06-10T07:53:21.511627",
     "exception": false,
     "start_time": "2025-06-10T07:53:21.507121",
     "status": "completed"
    },
    "tags": []
   },
   "source": [
    "## Import libraries"
   ]
  },
  {
   "cell_type": "markdown",
   "id": "369ac6a4",
   "metadata": {
    "papermill": {
     "duration": 0.004378,
     "end_time": "2025-06-10T07:53:21.520553",
     "exception": false,
     "start_time": "2025-06-10T07:53:21.516175",
     "status": "completed"
    },
    "tags": []
   },
   "source": [
    "Import all packages"
   ]
  },
  {
   "cell_type": "code",
   "execution_count": 5,
   "id": "17f21969",
   "metadata": {
    "execution": {
     "iopub.execute_input": "2025-06-10T07:53:21.531463Z",
     "iopub.status.busy": "2025-06-10T07:53:21.530722Z",
     "iopub.status.idle": "2025-06-10T07:53:22.982175Z",
     "shell.execute_reply": "2025-06-10T07:53:22.981341Z"
    },
    "papermill": {
     "duration": 1.459105,
     "end_time": "2025-06-10T07:53:22.983789",
     "exception": false,
     "start_time": "2025-06-10T07:53:21.524684",
     "status": "completed"
    },
    "tags": []
   },
   "outputs": [],
   "source": [
    "import numpy as np\n",
    "import pandas as pd\n",
    "import sklearn as sk\n",
    "import seaborn as sns\n",
    "import matplotlib.pyplot as plt\n",
    "import scipy as sp\n",
    "import rpy2.robjects as ro\n",
    "import xgboost as xgb\n",
    "import shap\n",
    "import warnings\n",
    "import pickleshare\n",
    "import pickle\n",
    "from rpy2.robjects import pandas2ri\n",
    "from rpy2.robjects.conversion import localconverter\n",
    "from skopt import BayesSearchCV\n",
    "from sklearn.feature_selection import SelectFromModel"
   ]
  },
  {
   "cell_type": "markdown",
   "id": "d5c8281d",
   "metadata": {
    "papermill": {
     "duration": 0.0058,
     "end_time": "2025-06-10T07:53:22.995768",
     "exception": false,
     "start_time": "2025-06-10T07:53:22.989968",
     "status": "completed"
    },
    "tags": []
   },
   "source": [
    "## Define Functions"
   ]
  },
  {
   "cell_type": "markdown",
   "id": "4aeb05cf",
   "metadata": {
    "papermill": {
     "duration": 0.005248,
     "end_time": "2025-06-10T07:53:23.006765",
     "exception": false,
     "start_time": "2025-06-10T07:53:23.001517",
     "status": "completed"
    },
    "tags": []
   },
   "source": [
    "### load_datasets_from_r\n",
    "Reads \"ML.Tables\" .Rdata file and converts it to a nested dictionary."
   ]
  },
  {
   "cell_type": "code",
   "execution_count": 6,
   "id": "ba30dfa8",
   "metadata": {
    "execution": {
     "iopub.execute_input": "2025-06-10T07:53:23.018894Z",
     "iopub.status.busy": "2025-06-10T07:53:23.017934Z",
     "iopub.status.idle": "2025-06-10T07:53:23.025720Z",
     "shell.execute_reply": "2025-06-10T07:53:23.025005Z"
    },
    "papermill": {
     "duration": 0.015093,
     "end_time": "2025-06-10T07:53:23.026415",
     "exception": false,
     "start_time": "2025-06-10T07:53:23.011322",
     "status": "completed"
    },
    "tags": []
   },
   "outputs": [],
   "source": [
    "def load_datasets_from_r(file_path):\n",
    "\n",
    "    \"\"\" \n",
    "    The function uses rpy2 to load datasets from an RData file.\n",
    "    In particular it expects a list of data.frames\n",
    "    It returns a dictionary of pandas DataFrames.\n",
    "    \"\"\"\n",
    "    \n",
    "    pandas2ri.activate()\n",
    "\n",
    "    ro.r['load'](file_path) # load the .RData\n",
    "\n",
    "    env = ro.globalenv # set the environment\n",
    "\n",
    "    r_list = env[list(env.keys())[0]] # take the list object\n",
    "\n",
    "    list_names = ro.r['names'](r_list) # take the names\n",
    "    list_names = [str(name) for name in list_names]\n",
    "\n",
    "    df_dict = {} # initialize outer dictionary\n",
    "    with (ro.default_converter + ro.pandas2ri.converter).context(): # start the conversion\n",
    "    # the conversion transforms a list of lists of lists of data.frames \n",
    "    # to a list of dictionaries of dictionaries of dictionaries of DataFrame\n",
    "        i = 0\n",
    "        for outer_dict in r_list:\n",
    "            df_dict[list_names[i]] = outer_dict\n",
    "            i += 1\n",
    "            \n",
    "    return(df_dict)"
   ]
  },
  {
   "cell_type": "markdown",
   "id": "a0a68c6d",
   "metadata": {
    "papermill": {
     "duration": 0.00457,
     "end_time": "2025-06-10T07:53:23.035823",
     "exception": false,
     "start_time": "2025-06-10T07:53:23.031253",
     "status": "completed"
    },
    "tags": []
   },
   "source": [
    "### gini_coefficient"
   ]
  },
  {
   "cell_type": "markdown",
   "id": "26838c63",
   "metadata": {
    "papermill": {
     "duration": 0.004514,
     "end_time": "2025-06-10T07:53:23.044939",
     "exception": false,
     "start_time": "2025-06-10T07:53:23.040425",
     "status": "completed"
    },
    "tags": []
   },
   "source": [
    "Function to compute the gini coefficient (2 * AUC - 1)"
   ]
  },
  {
   "cell_type": "code",
   "execution_count": 7,
   "id": "951351e0",
   "metadata": {
    "execution": {
     "iopub.execute_input": "2025-06-10T07:53:23.056707Z",
     "iopub.status.busy": "2025-06-10T07:53:23.055993Z",
     "iopub.status.idle": "2025-06-10T07:53:23.062053Z",
     "shell.execute_reply": "2025-06-10T07:53:23.061412Z"
    },
    "papermill": {
     "duration": 0.013085,
     "end_time": "2025-06-10T07:53:23.062608",
     "exception": false,
     "start_time": "2025-06-10T07:53:23.049523",
     "status": "completed"
    },
    "tags": []
   },
   "outputs": [],
   "source": [
    "def gini_coefficient_score(y_true, y_pred_prob, **kwargs):\n",
    "    y_score = y_pred_prob\n",
    "    auc_score = sk.metrics.roc_auc_score(y_true, y_score, multi_class='ovr')\n",
    "    gini_coef = 2 * auc_score - 1\n",
    "    return gini_coef"
   ]
  },
  {
   "cell_type": "code",
   "execution_count": 8,
   "id": "9f295e8e",
   "metadata": {
    "execution": {
     "iopub.execute_input": "2025-06-10T07:53:23.090900Z",
     "iopub.status.busy": "2025-06-10T07:53:23.090203Z",
     "iopub.status.idle": "2025-06-10T07:53:23.096452Z",
     "shell.execute_reply": "2025-06-10T07:53:23.095780Z"
    },
    "papermill": {
     "duration": 0.029647,
     "end_time": "2025-06-10T07:53:23.097029",
     "exception": false,
     "start_time": "2025-06-10T07:53:23.067382",
     "status": "completed"
    },
    "tags": []
   },
   "outputs": [],
   "source": [
    "gini_coefficient = sk.metrics.make_scorer(gini_coefficient_score, response_method = \"predict_proba\", greater_is_better= True)"
   ]
  },
  {
   "cell_type": "markdown",
   "id": "36bf2cbd",
   "metadata": {
    "papermill": {
     "duration": 0.004607,
     "end_time": "2025-06-10T07:53:23.106473",
     "exception": false,
     "start_time": "2025-06-10T07:53:23.101866",
     "status": "completed"
    },
    "tags": []
   },
   "source": [
    "### feature_selector\n",
    "his function performs Incremental Feature Selection (IFS) to produce a reduced model <br> with best gini coefficient (2 * AUC - 1) performance with cross validation.\n",
    "Mean absolute SHAP values are used to select features"
   ]
  },
  {
   "cell_type": "code",
   "execution_count": 9,
   "id": "1fba278e",
   "metadata": {
    "execution": {
     "iopub.execute_input": "2025-06-10T07:53:23.117822Z",
     "iopub.status.busy": "2025-06-10T07:53:23.117448Z",
     "iopub.status.idle": "2025-06-10T07:53:23.125738Z",
     "shell.execute_reply": "2025-06-10T07:53:23.125025Z"
    },
    "papermill": {
     "duration": 0.015138,
     "end_time": "2025-06-10T07:53:23.126314",
     "exception": false,
     "start_time": "2025-06-10T07:53:23.111176",
     "status": "completed"
    },
    "tags": []
   },
   "outputs": [],
   "source": [
    "def feature_selector_shap(feature_names, feature_importances, model, \n",
    "                          X_train, X_test, y_train, inner_cv,\n",
    "                          plot = True, verbose = True):\n",
    "\n",
    "    \"\"\"\n",
    "    The function takes as input feature names, feature importances, \n",
    "    a XGBoost Classifier object, the training and test dataset\n",
    "    and returns the reduced training and test datasets.\n",
    "    - plot parameter regulates whether or not to plot the Gini Coefficient vs number of feature plot\n",
    "    - verbose parameter regulates whether or not to produce a text output\n",
    "    \"\"\"\n",
    "\n",
    "    thresholds = np.sort(feature_importances) # sort the feature importances\n",
    "    num_features_list = [] # initialize list\n",
    "    gini_coef_list = [] # initialize list\n",
    "    \n",
    "    for threshold in thresholds: # iterate over thresholds\n",
    "        \n",
    "        vars_to_keep = np.where(feature_importances >= threshold)[0]\n",
    "        X_train_selected = X_train.iloc[:,vars_to_keep]\n",
    "\n",
    "        gini_coef_scores = sk.model_selection.cross_val_score(estimator = model, \n",
    "                                                              X = X_train_selected, y = y_train, \n",
    "                                                              scoring = gini_coefficient, cv = inner_cv)\n",
    "        mean_gini_coef_score = np.mean(gini_coef_scores)\n",
    "        \n",
    "        num_features_list.append(X_train_selected.shape[1]) # append\n",
    "        gini_coef_list.append(mean_gini_coef_score) # append\n",
    "\n",
    "        if verbose:\n",
    "            print(f'> threshold={threshold}, features={X_train_selected.shape[1]}, gini coefficient={mean_gini_coef_score}')\n",
    "        \n",
    "        if len(vars_to_keep) == 1:\n",
    "            break\n",
    "\n",
    "    if plot:\n",
    "        plt.figure(figsize=(8, 6))\n",
    "        plt.plot(num_features_list, gini_coef_list, marker='o')\n",
    "        plt.xlabel('Number of Selected Features')\n",
    "        plt.ylabel('cross validated mean Ginny coefficient')\n",
    "        plt.title('Gini coefficient vs. Number of Selected Features')\n",
    "        plt.grid(True)\n",
    "        plt.show()\n",
    "\n",
    "    optimal_threshold_index = np.argmax(gini_coef_list)\n",
    "    optimal_num_features = num_features_list[optimal_threshold_index]\n",
    "    \n",
    "    if (optimal_threshold_index) == 0:\n",
    "        optimal_threshold = 0\n",
    "    else:   \n",
    "        optimal_threshold = thresholds[optimal_threshold_index - 1]\n",
    "\n",
    "    if verbose:\n",
    "        print(f\"Optimal Threshold: {optimal_threshold:.4f}\")\n",
    "        print(f\"Number of Selected Features: {optimal_num_features}\")\n",
    "        print(f\"Gini coef at Optimal Threshold: {gini_coef_list[optimal_threshold_index]:.4f}\")\n",
    "        print(\"\\n\")\n",
    "        \n",
    "    n = 5\n",
    "    selected_features = feature_names[np.where(feature_importances > optimal_threshold)]\n",
    "    selected_features = [str(name) for name in selected_features]\n",
    "    discarded_features = [str(name) for name in feature_names if str(name) not in selected_features]\n",
    "\n",
    "    if verbose:\n",
    "        print(\"Selected features are: \\n\")\n",
    "        for i in range(0,len(selected_features), n):\n",
    "            print(\"  \".join(selected_features[i:i+n]))\n",
    "        print(\"\\n\")\n",
    "        print(\"Discarded features are: \\n\")\n",
    "        for i in range(0,len(discarded_features), n):\n",
    "            print(\"  \".join(discarded_features[i:i+n]))\n",
    "\n",
    "    X_train_reduced = X_train[selected_features]\n",
    "    X_test_reduced = X_test[selected_features]\n",
    "    \n",
    "    return(X_train_reduced, X_test_reduced, selected_features)    "
   ]
  },
  {
   "cell_type": "markdown",
   "id": "444682aa",
   "metadata": {
    "papermill": {
     "duration": 0.004642,
     "end_time": "2025-06-10T07:53:23.135784",
     "exception": false,
     "start_time": "2025-06-10T07:53:23.131142",
     "status": "completed"
    },
    "tags": []
   },
   "source": [
    "### Nested CV la vendetta"
   ]
  },
  {
   "cell_type": "code",
   "execution_count": 10,
   "id": "7687e37e",
   "metadata": {
    "execution": {
     "iopub.execute_input": "2025-06-10T07:53:23.147727Z",
     "iopub.status.busy": "2025-06-10T07:53:23.147143Z",
     "iopub.status.idle": "2025-06-10T07:53:23.156970Z",
     "shell.execute_reply": "2025-06-10T07:53:23.156323Z"
    },
    "papermill": {
     "duration": 0.017035,
     "end_time": "2025-06-10T07:53:23.157536",
     "exception": false,
     "start_time": "2025-06-10T07:53:23.140501",
     "status": "completed"
    },
    "tags": []
   },
   "outputs": [],
   "source": [
    "def nested_CV_revenge(outer_cv, inner_cv,\n",
    "                      X_train, y_train, \n",
    "                      model, search_space, \n",
    "                      n_jobs, n_iter_bsearch, verbose):\n",
    "    \n",
    "    \"\"\"\n",
    "    The function performs nested cross validation to estimate model's error rate\n",
    "    It take the cv number, the training dataset, the target variable, the model or a BayesSearchCV\n",
    "    and a search space to perform hyperparameter tuning\n",
    "    \"\"\"\n",
    "    \n",
    "    kf = sk.model_selection.KFold(n_splits = outer_cv, \n",
    "                                  shuffle=True, \n",
    "                                  random_state = kfold_random_state)\n",
    "    \n",
    "\n",
    "    hyperparam_list = []\n",
    "    selected_features_list = []\n",
    "    accuracy_array = np.zeros(outer_cv)\n",
    "    f1_array = np.zeros(outer_cv)\n",
    "    precision_array = np.zeros(outer_cv)\n",
    "    recall_array = np.zeros(outer_cv)\n",
    "    roc_auc_array = np.zeros(outer_cv)\n",
    "    predictions_array = np.zeros(len(X_train))\n",
    "    probas_array = np.zeros((len(X_train),len(np.unique(y_train))))\n",
    "    \n",
    "    i = 0\n",
    "    for train_index, val_index in kf.split(X_train):\n",
    "\n",
    "        if verbose:\n",
    "            print(f\"Fold #{i + 1}\")\n",
    "            \n",
    "        if verbose:\n",
    "            print(\"STEP 1 (Splitting)\")\n",
    "            \n",
    "        X_train_cv, X_val = X_train.iloc[train_index], X_train.iloc[val_index]\n",
    "        y_train_cv, y_val = y_train.iloc[train_index], y_train.iloc[val_index]\n",
    "        \n",
    "        if verbose:\n",
    "            print(\"STEP 2 (Tuning)\")\n",
    "\n",
    "        if verbose:\n",
    "            print(\"STEP 2.1 (HyperParameter Tuning Part 1)\")\n",
    "        \n",
    "        opti = BayesSearchCV(\n",
    "            estimator = model,\n",
    "            search_spaces = search_space,\n",
    "            n_iter = n_iter_bsearch,\n",
    "            cv = inner_cv,\n",
    "            random_state = hypertune_random_state_bsearch,\n",
    "            refit = True,\n",
    "            n_jobs = n_jobs,\n",
    "            verbose = 3\n",
    "        )\n",
    "        \n",
    "        opti.fit(X_train_cv, y_train_cv)\n",
    "        best_model = opti.best_estimator_\n",
    "\n",
    "        if verbose:\n",
    "            print(\"STEP 2.2 (SHAP)\")\n",
    "        \n",
    "        explainer = shap.TreeExplainer(best_model)\n",
    "\n",
    "        feature_names = best_model.feature_names_in_\n",
    "        feature_importances_shap = np.mean(np.mean(np.abs(explainer.shap_values(X_train_cv)), axis = 0), axis = 1)\n",
    "    \n",
    "        if verbose:\n",
    "            print(\"STEP 2.3 (Feature selection)\")\n",
    "        \n",
    "        X_train_cv_reduced, X_val_cv_reduced, selected_features = feature_selector_shap(feature_names, feature_importances_shap, \n",
    "                                                                                        best_model, \n",
    "                                                                                        X_train_cv, X_val, y_train_cv,\n",
    "                                                                                        inner_cv,\n",
    "                                                                                        plot = False, verbose = False)\n",
    "\n",
    "        if verbose:\n",
    "            print(\"STEP 2.4 (HyperParameter Tuning Part 2)\")\n",
    "        \n",
    "        opti_fs = BayesSearchCV(\n",
    "            estimator = best_model, \n",
    "            search_spaces = search_space, \n",
    "            n_iter = n_iter_bsearch, \n",
    "            cv = inner_cv,\n",
    "            random_state = hypertune_random_state_bsearch,\n",
    "            refit = True, \n",
    "            n_jobs = n_jobs,\n",
    "            verbose = 3\n",
    "        )\n",
    "        \n",
    "        opti_fs.fit(X_train_cv_reduced, y_train_cv)\n",
    "        best_model_fs = opti_fs.best_estimator_\n",
    "        best_params_fs = opti_fs.best_params_\n",
    "        \n",
    "        if verbose:\n",
    "            print(\"STEP 3 (Prediction)\")\n",
    "        \n",
    "        cv_predictions = best_model_fs.predict(X_val_cv_reduced)\n",
    "        cv_pred_probas = best_model_fs.predict_proba(X_val_cv_reduced)\n",
    "        \n",
    "        cv_accuracy = sk.metrics.accuracy_score(y_val, cv_predictions)\n",
    "        cv_f1 = sk.metrics.f1_score(y_val, cv_predictions, average = \"macro\")\n",
    "        cv_precision = sk.metrics.precision_score(y_val, cv_predictions, average = \"macro\")\n",
    "        cv_recall = sk.metrics.recall_score(y_val, cv_predictions, average = \"macro\")\n",
    "        cv_roc_auc = sk.metrics.roc_auc_score(y_val, cv_pred_probas, multi_class='ovr', average = \"macro\")\n",
    "        \n",
    "        hyperparam_list.append(best_params_fs)\n",
    "        selected_features_list.append(selected_features)\n",
    "        accuracy_array[i] = cv_accuracy \n",
    "        f1_array[i] = cv_f1\n",
    "        precision_array[i] = cv_precision\n",
    "        recall_array[i] = cv_recall\n",
    "        roc_auc_array[i] = cv_roc_auc\n",
    "        predictions_array[val_index] = cv_predictions\n",
    "        probas_array[val_index] = cv_pred_probas\n",
    "        \n",
    "        i += 1\n",
    "\n",
    "    return(hyperparam_list, selected_features_list, \n",
    "           accuracy_array, f1_array, precision_array, \n",
    "           recall_array, roc_auc_array, predictions_array, probas_array)"
   ]
  },
  {
   "cell_type": "code",
   "execution_count": 11,
   "id": "72d61cd6",
   "metadata": {
    "execution": {
     "iopub.execute_input": "2025-06-10T07:53:23.168633Z",
     "iopub.status.busy": "2025-06-10T07:53:23.168507Z",
     "iopub.status.idle": "2025-06-10T07:53:23.176093Z",
     "shell.execute_reply": "2025-06-10T07:53:23.175391Z"
    },
    "papermill": {
     "duration": 0.014187,
     "end_time": "2025-06-10T07:53:23.176624",
     "exception": false,
     "start_time": "2025-06-10T07:53:23.162437",
     "status": "completed"
    },
    "tags": []
   },
   "outputs": [],
   "source": [
    "def nested_CV_revenge_binary(outer_cv, inner_cv,\n",
    "                      X_train, y_train, \n",
    "                      model, search_space, \n",
    "                      n_jobs, n_iter_bsearch, verbose):\n",
    "    \n",
    "    \"\"\"\n",
    "    The function performs nested cross validation to estimate model's error rate\n",
    "    It take the cv number, the training dataset, the target variable, the model or a BayesSearchCV\n",
    "    and a search space to perform hyperparameter tuning\n",
    "    \"\"\"\n",
    "    \n",
    "    kf = sk.model_selection.KFold(n_splits = outer_cv, \n",
    "                                  shuffle=True, \n",
    "                                  random_state = kfold_random_state)\n",
    "    \n",
    "\n",
    "    hyperparam_list = []\n",
    "    selected_features_list = []\n",
    "    accuracy_array = np.zeros(outer_cv)\n",
    "    f1_array = np.zeros(outer_cv)\n",
    "    precision_array = np.zeros(outer_cv)\n",
    "    recall_array = np.zeros(outer_cv)\n",
    "    roc_auc_array = np.zeros(outer_cv)\n",
    "    predictions_array = np.zeros(len(X_train))\n",
    "    probas_array = np.zeros((len(X_train)))\n",
    "    \n",
    "    i = 0\n",
    "    for train_index, val_index in kf.split(X_train):\n",
    "\n",
    "        if verbose:\n",
    "            print(f\"Fold #{i + 1}\")\n",
    "            \n",
    "        if verbose:\n",
    "            print(\"STEP 1 (Splitting)\")\n",
    "            \n",
    "        X_train_cv, X_val = X_train.iloc[train_index], X_train.iloc[val_index]\n",
    "        y_train_cv, y_val = y_train.iloc[train_index], y_train.iloc[val_index]\n",
    "        \n",
    "        if verbose:\n",
    "            print(\"STEP 2 (Tuning)\")\n",
    "\n",
    "        if verbose:\n",
    "            print(\"STEP 2.1 (HyperParameter Tuning Part 1)\")\n",
    "        \n",
    "        opti = BayesSearchCV(\n",
    "            estimator = model,\n",
    "            search_spaces = search_space,\n",
    "            n_iter = n_iter_bsearch,\n",
    "            cv = inner_cv,\n",
    "            random_state = hypertune_random_state_bsearch,\n",
    "            refit = True,\n",
    "            n_jobs = n_jobs,\n",
    "            verbose = 0\n",
    "        )\n",
    "        \n",
    "        opti.fit(X_train_cv, y_train_cv)\n",
    "        best_model = opti.best_estimator_\n",
    "\n",
    "        if verbose:\n",
    "            print(\"STEP 2.2 (SHAP)\")\n",
    "        \n",
    "        explainer = shap.TreeExplainer(best_model)\n",
    "\n",
    "        feature_names = best_model.feature_names_in_\n",
    "        feature_importances_shap = np.mean(np.abs(explainer.shap_values(X_train_cv)), axis = 0)\n",
    "    \n",
    "        if verbose:\n",
    "            print(\"STEP 2.3 (Feature selection)\")\n",
    "        \n",
    "        X_train_cv_reduced, X_val_cv_reduced, selected_features = feature_selector_shap(feature_names, feature_importances_shap, \n",
    "                                                                                        best_model, \n",
    "                                                                                        X_train_cv, X_val, y_train_cv,\n",
    "                                                                                        inner_cv,\n",
    "                                                                                        plot = False, verbose = True)\n",
    "\n",
    "        if verbose:\n",
    "            print(\"STEP 2.4 (HyperParameter Tuning Part 2)\")\n",
    "        \n",
    "        opti_fs = BayesSearchCV(\n",
    "            estimator = best_model, \n",
    "            search_spaces = search_space, \n",
    "            n_iter = n_iter_bsearch, \n",
    "            cv = inner_cv,\n",
    "            random_state = hypertune_random_state_bsearch,\n",
    "            refit = True, \n",
    "            n_jobs = n_jobs,\n",
    "            verbose = 0\n",
    "        )\n",
    "        \n",
    "        opti_fs.fit(X_train_cv_reduced, y_train_cv)\n",
    "        best_model_fs = opti_fs.best_estimator_\n",
    "        best_params_fs = opti_fs.best_params_\n",
    "        \n",
    "        if verbose:\n",
    "            print(\"STEP 3 (Prediction)\")\n",
    "        \n",
    "        cv_predictions = best_model_fs.predict(X_val_cv_reduced)\n",
    "        cv_pred_probas = best_model_fs.predict_proba(X_val_cv_reduced)[:,1]\n",
    "        \n",
    "        cv_accuracy = sk.metrics.accuracy_score(y_val, cv_predictions)\n",
    "        cv_f1 = sk.metrics.f1_score(y_val, cv_predictions)\n",
    "        cv_precision = sk.metrics.precision_score(y_val, cv_predictions)\n",
    "        cv_recall = sk.metrics.recall_score(y_val, cv_predictions)\n",
    "        cv_roc_auc = sk.metrics.roc_auc_score(y_val, cv_pred_probas)\n",
    "        \n",
    "        hyperparam_list.append(best_params_fs)\n",
    "        selected_features_list.append(selected_features)\n",
    "        accuracy_array[i] = cv_accuracy \n",
    "        f1_array[i] = cv_f1\n",
    "        precision_array[i] = cv_precision\n",
    "        recall_array[i] = cv_recall\n",
    "        roc_auc_array[i] = cv_roc_auc\n",
    "        predictions_array[val_index] = cv_predictions\n",
    "        probas_array[val_index] = cv_pred_probas\n",
    "        \n",
    "        i += 1\n",
    "\n",
    "    return(hyperparam_list, selected_features_list, \n",
    "           accuracy_array, f1_array, precision_array, \n",
    "           recall_array, roc_auc_array, predictions_array, probas_array)"
   ]
  },
  {
   "cell_type": "markdown",
   "id": "ea5e340d",
   "metadata": {
    "papermill": {
     "duration": 0.004685,
     "end_time": "2025-06-10T07:53:23.186316",
     "exception": false,
     "start_time": "2025-06-10T07:53:23.181631",
     "status": "completed"
    },
    "tags": []
   },
   "source": [
    "## Load Data"
   ]
  },
  {
   "cell_type": "code",
   "execution_count": 12,
   "id": "c53d59eb",
   "metadata": {
    "execution": {
     "iopub.execute_input": "2025-06-10T07:53:23.198378Z",
     "iopub.status.busy": "2025-06-10T07:53:23.197671Z",
     "iopub.status.idle": "2025-06-10T07:53:23.307590Z",
     "shell.execute_reply": "2025-06-10T07:53:23.306789Z"
    },
    "papermill": {
     "duration": 0.119589,
     "end_time": "2025-06-10T07:53:23.310621",
     "exception": false,
     "start_time": "2025-06-10T07:53:23.191032",
     "status": "completed"
    },
    "tags": []
   },
   "outputs": [],
   "source": [
    "output_dict = load_datasets_from_r(path_to_datasets)"
   ]
  },
  {
   "cell_type": "code",
   "execution_count": 13,
   "id": "969fc0a5",
   "metadata": {
    "execution": {
     "iopub.execute_input": "2025-06-10T07:53:23.322819Z",
     "iopub.status.busy": "2025-06-10T07:53:23.322493Z",
     "iopub.status.idle": "2025-06-10T07:53:23.325936Z",
     "shell.execute_reply": "2025-06-10T07:53:23.325289Z"
    },
    "papermill": {
     "duration": 0.009867,
     "end_time": "2025-06-10T07:53:23.326499",
     "exception": false,
     "start_time": "2025-06-10T07:53:23.316632",
     "status": "completed"
    },
    "tags": []
   },
   "outputs": [],
   "source": [
    "working_df = output_dict[mode]"
   ]
  },
  {
   "cell_type": "code",
   "execution_count": 14,
   "id": "bced8cdf",
   "metadata": {
    "execution": {
     "iopub.execute_input": "2025-06-10T07:53:23.337266Z",
     "iopub.status.busy": "2025-06-10T07:53:23.337144Z",
     "iopub.status.idle": "2025-06-10T07:53:23.351679Z",
     "shell.execute_reply": "2025-06-10T07:53:23.351092Z"
    },
    "papermill": {
     "duration": 0.020926,
     "end_time": "2025-06-10T07:53:23.352360",
     "exception": false,
     "start_time": "2025-06-10T07:53:23.331434",
     "status": "completed"
    },
    "tags": []
   },
   "outputs": [
    {
     "data": {
      "text/html": [
       "<div>\n",
       "<style scoped>\n",
       "    .dataframe tbody tr th:only-of-type {\n",
       "        vertical-align: middle;\n",
       "    }\n",
       "\n",
       "    .dataframe tbody tr th {\n",
       "        vertical-align: top;\n",
       "    }\n",
       "\n",
       "    .dataframe thead th {\n",
       "        text-align: right;\n",
       "    }\n",
       "</style>\n",
       "<table border=\"1\" class=\"dataframe\">\n",
       "  <thead>\n",
       "    <tr style=\"text-align: right;\">\n",
       "      <th></th>\n",
       "      <th>bin</th>\n",
       "      <th>logFC</th>\n",
       "      <th>bool_diff_acc</th>\n",
       "      <th>sign_mean_log2FC_1</th>\n",
       "      <th>sign_mean_log2FC_2</th>\n",
       "      <th>sign_mean_log2FC_3</th>\n",
       "      <th>Type</th>\n",
       "      <th>ampl_score</th>\n",
       "      <th>del_score</th>\n",
       "      <th>mean.GC.content</th>\n",
       "      <th>...</th>\n",
       "      <th>7_725</th>\n",
       "      <th>9_534</th>\n",
       "      <th>19_21</th>\n",
       "      <th>2_1423</th>\n",
       "      <th>7_1413</th>\n",
       "      <th>8_843</th>\n",
       "      <th>19_159</th>\n",
       "      <th>4_4</th>\n",
       "      <th>log2smoothed</th>\n",
       "      <th>replication_class</th>\n",
       "    </tr>\n",
       "  </thead>\n",
       "  <tbody>\n",
       "    <tr>\n",
       "      <th>1</th>\n",
       "      <td>1_100</td>\n",
       "      <td>0.101322</td>\n",
       "      <td>0</td>\n",
       "      <td>1</td>\n",
       "      <td>0</td>\n",
       "      <td>0</td>\n",
       "      <td>BRCA</td>\n",
       "      <td>0.028116</td>\n",
       "      <td>0.294283</td>\n",
       "      <td>47.64</td>\n",
       "      <td>...</td>\n",
       "      <td>-0.2210</td>\n",
       "      <td>-0.2190</td>\n",
       "      <td>-0.2312</td>\n",
       "      <td>-0.2398</td>\n",
       "      <td>-0.2309</td>\n",
       "      <td>7.0273</td>\n",
       "      <td>-0.2335</td>\n",
       "      <td>-0.2108</td>\n",
       "      <td>1.735620</td>\n",
       "      <td>E</td>\n",
       "    </tr>\n",
       "    <tr>\n",
       "      <th>2</th>\n",
       "      <td>1_105</td>\n",
       "      <td>0.082890</td>\n",
       "      <td>0</td>\n",
       "      <td>1</td>\n",
       "      <td>0</td>\n",
       "      <td>0</td>\n",
       "      <td>BRCA</td>\n",
       "      <td>0.024367</td>\n",
       "      <td>0.304592</td>\n",
       "      <td>47.69</td>\n",
       "      <td>...</td>\n",
       "      <td>-0.2484</td>\n",
       "      <td>-0.2444</td>\n",
       "      <td>-0.2361</td>\n",
       "      <td>-0.2363</td>\n",
       "      <td>-0.2359</td>\n",
       "      <td>-0.2549</td>\n",
       "      <td>-0.2402</td>\n",
       "      <td>-0.2237</td>\n",
       "      <td>1.496313</td>\n",
       "      <td>E</td>\n",
       "    </tr>\n",
       "    <tr>\n",
       "      <th>3</th>\n",
       "      <td>1_106</td>\n",
       "      <td>-0.107556</td>\n",
       "      <td>0</td>\n",
       "      <td>-1</td>\n",
       "      <td>0</td>\n",
       "      <td>0</td>\n",
       "      <td>BRCA</td>\n",
       "      <td>0.022493</td>\n",
       "      <td>0.304592</td>\n",
       "      <td>47.84</td>\n",
       "      <td>...</td>\n",
       "      <td>-0.2485</td>\n",
       "      <td>4.1102</td>\n",
       "      <td>-0.2415</td>\n",
       "      <td>-0.2213</td>\n",
       "      <td>-0.2372</td>\n",
       "      <td>-0.2663</td>\n",
       "      <td>-0.2390</td>\n",
       "      <td>-0.2262</td>\n",
       "      <td>1.484598</td>\n",
       "      <td>E</td>\n",
       "    </tr>\n",
       "    <tr>\n",
       "      <th>4</th>\n",
       "      <td>1_108</td>\n",
       "      <td>-0.106950</td>\n",
       "      <td>0</td>\n",
       "      <td>-1</td>\n",
       "      <td>0</td>\n",
       "      <td>0</td>\n",
       "      <td>BRCA</td>\n",
       "      <td>0.023430</td>\n",
       "      <td>0.309278</td>\n",
       "      <td>56.73</td>\n",
       "      <td>...</td>\n",
       "      <td>-0.2464</td>\n",
       "      <td>-0.1992</td>\n",
       "      <td>9.1282</td>\n",
       "      <td>-0.2409</td>\n",
       "      <td>-0.2283</td>\n",
       "      <td>-0.2795</td>\n",
       "      <td>-0.2043</td>\n",
       "      <td>-0.2149</td>\n",
       "      <td>1.478465</td>\n",
       "      <td>E</td>\n",
       "    </tr>\n",
       "    <tr>\n",
       "      <th>5</th>\n",
       "      <td>1_109</td>\n",
       "      <td>-0.201741</td>\n",
       "      <td>0</td>\n",
       "      <td>-1</td>\n",
       "      <td>0</td>\n",
       "      <td>0</td>\n",
       "      <td>BRCA</td>\n",
       "      <td>0.023430</td>\n",
       "      <td>0.309278</td>\n",
       "      <td>NaN</td>\n",
       "      <td>...</td>\n",
       "      <td>-0.2361</td>\n",
       "      <td>-0.2030</td>\n",
       "      <td>-0.2378</td>\n",
       "      <td>-0.2341</td>\n",
       "      <td>-0.2226</td>\n",
       "      <td>-0.2649</td>\n",
       "      <td>8.3414</td>\n",
       "      <td>-0.2112</td>\n",
       "      <td>1.463025</td>\n",
       "      <td>E</td>\n",
       "    </tr>\n",
       "  </tbody>\n",
       "</table>\n",
       "<p>5 rows × 260 columns</p>\n",
       "</div>"
      ],
      "text/plain": [
       "     bin     logFC  bool_diff_acc  sign_mean_log2FC_1  sign_mean_log2FC_2  \\\n",
       "1  1_100  0.101322              0                   1                   0   \n",
       "2  1_105  0.082890              0                   1                   0   \n",
       "3  1_106 -0.107556              0                  -1                   0   \n",
       "4  1_108 -0.106950              0                  -1                   0   \n",
       "5  1_109 -0.201741              0                  -1                   0   \n",
       "\n",
       "   sign_mean_log2FC_3  Type  ampl_score  del_score  mean.GC.content  ...  \\\n",
       "1                   0  BRCA    0.028116   0.294283            47.64  ...   \n",
       "2                   0  BRCA    0.024367   0.304592            47.69  ...   \n",
       "3                   0  BRCA    0.022493   0.304592            47.84  ...   \n",
       "4                   0  BRCA    0.023430   0.309278            56.73  ...   \n",
       "5                   0  BRCA    0.023430   0.309278              NaN  ...   \n",
       "\n",
       "    7_725   9_534   19_21  2_1423  7_1413   8_843  19_159     4_4  \\\n",
       "1 -0.2210 -0.2190 -0.2312 -0.2398 -0.2309  7.0273 -0.2335 -0.2108   \n",
       "2 -0.2484 -0.2444 -0.2361 -0.2363 -0.2359 -0.2549 -0.2402 -0.2237   \n",
       "3 -0.2485  4.1102 -0.2415 -0.2213 -0.2372 -0.2663 -0.2390 -0.2262   \n",
       "4 -0.2464 -0.1992  9.1282 -0.2409 -0.2283 -0.2795 -0.2043 -0.2149   \n",
       "5 -0.2361 -0.2030 -0.2378 -0.2341 -0.2226 -0.2649  8.3414 -0.2112   \n",
       "\n",
       "   log2smoothed  replication_class  \n",
       "1      1.735620                  E  \n",
       "2      1.496313                  E  \n",
       "3      1.484598                  E  \n",
       "4      1.478465                  E  \n",
       "5      1.463025                  E  \n",
       "\n",
       "[5 rows x 260 columns]"
      ]
     },
     "execution_count": 14,
     "metadata": {},
     "output_type": "execute_result"
    }
   ],
   "source": [
    "working_df.head()"
   ]
  },
  {
   "cell_type": "code",
   "execution_count": 15,
   "id": "467bfcb7",
   "metadata": {
    "execution": {
     "iopub.execute_input": "2025-06-10T07:53:23.363210Z",
     "iopub.status.busy": "2025-06-10T07:53:23.363090Z",
     "iopub.status.idle": "2025-06-10T07:53:23.367511Z",
     "shell.execute_reply": "2025-06-10T07:53:23.366958Z"
    },
    "papermill": {
     "duration": 0.01083,
     "end_time": "2025-06-10T07:53:23.368187",
     "exception": false,
     "start_time": "2025-06-10T07:53:23.357357",
     "status": "completed"
    },
    "tags": []
   },
   "outputs": [],
   "source": [
    "significant_dir_1 = np.where(\n",
    "    (working_df.bool_diff_acc == 1) & (working_df.sign_mean_log2FC_1 == 1), 2,\n",
    "    np.where(\n",
    "        (working_df.bool_diff_acc == 1) & (working_df.sign_mean_log2FC_1 == -1), 0, 1\n",
    "    )\n",
    ")\n",
    "\n",
    "sign_mean_log2FC_1 = np.where(working_df.sign_mean_log2FC_1 == -1, 0, 1)"
   ]
  },
  {
   "cell_type": "code",
   "execution_count": 16,
   "id": "18aad19b",
   "metadata": {
    "execution": {
     "iopub.execute_input": "2025-06-10T07:53:23.379543Z",
     "iopub.status.busy": "2025-06-10T07:53:23.379435Z",
     "iopub.status.idle": "2025-06-10T07:53:23.383335Z",
     "shell.execute_reply": "2025-06-10T07:53:23.382695Z"
    },
    "papermill": {
     "duration": 0.010244,
     "end_time": "2025-06-10T07:53:23.383896",
     "exception": false,
     "start_time": "2025-06-10T07:53:23.373652",
     "status": "completed"
    },
    "tags": []
   },
   "outputs": [],
   "source": [
    "working_df[\"significant_dir_1\"] = significant_dir_1\n",
    "working_df[\"sign_mean_log2FC_1\"] = sign_mean_log2FC_1"
   ]
  },
  {
   "cell_type": "code",
   "execution_count": 17,
   "id": "d947b61c",
   "metadata": {
    "execution": {
     "iopub.execute_input": "2025-06-10T07:53:23.394778Z",
     "iopub.status.busy": "2025-06-10T07:53:23.394653Z",
     "iopub.status.idle": "2025-06-10T07:53:23.661675Z",
     "shell.execute_reply": "2025-06-10T07:53:23.660946Z"
    },
    "papermill": {
     "duration": 0.274254,
     "end_time": "2025-06-10T07:53:23.663153",
     "exception": false,
     "start_time": "2025-06-10T07:53:23.388899",
     "status": "completed"
    },
    "tags": []
   },
   "outputs": [
    {
     "data": {
      "image/png": "[encoded data removed]",
      "text/plain": [
       "<Figure size 1200x500 with 6 Axes>"
      ]
     },
     "metadata": {},
     "output_type": "display_data"
    }
   ],
   "source": [
    "fig, axes = plt.subplots(3, 2, figsize=(12, 5))\n",
    "\n",
    "A = axes[0,0]\n",
    "B = axes[0,1]\n",
    "C = axes[1,0]\n",
    "D = axes[1,1]\n",
    "E = axes[2,0]\n",
    "F = axes[2,1]\n",
    "\n",
    "sns.barplot(working_df.bool_diff_acc.value_counts(), ax = A)\n",
    "sns.barplot(working_df.sign_mean_log2FC_1.value_counts(), ax = B)\n",
    "sns.barplot(working_df.sign_mean_log2FC_2.value_counts(), ax = C)\n",
    "sns.barplot(working_df.sign_mean_log2FC_3.value_counts(), ax = D)\n",
    "sns.barplot(working_df.significant_dir_1.value_counts(), ax = E)\n",
    "\n",
    "\n",
    "A.set_title(\"Differential Accessibility across patients (boolean) [A]\")\n",
    "B.set_title(\"Differential Accessibility direction (v = 1) [B]\")\n",
    "C.set_title(\"Differential Accessibility direction (v = 2) [C]\")\n",
    "D.set_title(\"Differential Accessibility direction (v = 3) [D]\")\n",
    "E.set_title(\"Signficant Direction (v = 1) [E]\")\n",
    "\n",
    "A.set_xlabel(\"\"); A.set_ylabel(\"\")\n",
    "B.set_xlabel(\"\"); B.set_ylabel(\"\")\n",
    "C.set_xlabel(\"\"); C.set_ylabel(\"\")\n",
    "D.set_xlabel(\"\"); D.set_ylabel(\"\")\n",
    "E.set_xlabel(\"\"); E.set_ylabel(\"\")\n",
    "\n",
    "F.axis('off')\n",
    "\n",
    "plt.tight_layout()"
   ]
  },
  {
   "cell_type": "markdown",
   "id": "e9c385ac",
   "metadata": {
    "papermill": {
     "duration": 0.005944,
     "end_time": "2025-06-10T07:53:23.676477",
     "exception": false,
     "start_time": "2025-06-10T07:53:23.670533",
     "status": "completed"
    },
    "tags": []
   },
   "source": [
    "## Prepare Data"
   ]
  },
  {
   "cell_type": "code",
   "execution_count": 18,
   "id": "7afa458d",
   "metadata": {
    "execution": {
     "iopub.execute_input": "2025-06-10T07:53:23.690177Z",
     "iopub.status.busy": "2025-06-10T07:53:23.689413Z",
     "iopub.status.idle": "2025-06-10T07:53:23.695269Z",
     "shell.execute_reply": "2025-06-10T07:53:23.694542Z"
    },
    "papermill": {
     "duration": 0.013743,
     "end_time": "2025-06-10T07:53:23.695912",
     "exception": false,
     "start_time": "2025-06-10T07:53:23.682169",
     "status": "completed"
    },
    "tags": []
   },
   "outputs": [],
   "source": [
    "bin_ids = working_df[[\"bin\"]]"
   ]
  },
  {
   "cell_type": "code",
   "execution_count": 19,
   "id": "b526621d",
   "metadata": {
    "execution": {
     "iopub.execute_input": "2025-06-10T07:53:23.707859Z",
     "iopub.status.busy": "2025-06-10T07:53:23.707699Z",
     "iopub.status.idle": "2025-06-10T07:53:23.711800Z",
     "shell.execute_reply": "2025-06-10T07:53:23.711098Z"
    },
    "papermill": {
     "duration": 0.010802,
     "end_time": "2025-06-10T07:53:23.712300",
     "exception": false,
     "start_time": "2025-06-10T07:53:23.701498",
     "status": "completed"
    },
    "tags": []
   },
   "outputs": [],
   "source": [
    "working_df = working_df.drop(cols_to_drop, axis= 1)"
   ]
  },
  {
   "cell_type": "code",
   "execution_count": 20,
   "id": "930b8202",
   "metadata": {
    "execution": {
     "iopub.execute_input": "2025-06-10T07:53:23.724658Z",
     "iopub.status.busy": "2025-06-10T07:53:23.724349Z",
     "iopub.status.idle": "2025-06-10T07:53:23.736848Z",
     "shell.execute_reply": "2025-06-10T07:53:23.736403Z"
    },
    "papermill": {
     "duration": 0.019538,
     "end_time": "2025-06-10T07:53:23.737410",
     "exception": false,
     "start_time": "2025-06-10T07:53:23.717872",
     "status": "completed"
    },
    "tags": []
   },
   "outputs": [
    {
     "data": {
      "text/html": [
       "<div>\n",
       "<style scoped>\n",
       "    .dataframe tbody tr th:only-of-type {\n",
       "        vertical-align: middle;\n",
       "    }\n",
       "\n",
       "    .dataframe tbody tr th {\n",
       "        vertical-align: top;\n",
       "    }\n",
       "\n",
       "    .dataframe thead th {\n",
       "        text-align: right;\n",
       "    }\n",
       "</style>\n",
       "<table border=\"1\" class=\"dataframe\">\n",
       "  <thead>\n",
       "    <tr style=\"text-align: right;\">\n",
       "      <th></th>\n",
       "      <th>sign_mean_log2FC_1</th>\n",
       "      <th>ampl_score</th>\n",
       "      <th>del_score</th>\n",
       "      <th>mean.GC.content</th>\n",
       "      <th>total_n_partners.trans</th>\n",
       "      <th>total_n_PPIs.trans_IntINSIDER</th>\n",
       "      <th>total_n_ohnologs.mmpaper_trans</th>\n",
       "      <th>total_n_paralogs_trans</th>\n",
       "      <th>dist.to.closest.FGS</th>\n",
       "      <th>Length_Counts.E1</th>\n",
       "      <th>...</th>\n",
       "      <th>9_1370</th>\n",
       "      <th>7_725</th>\n",
       "      <th>9_534</th>\n",
       "      <th>19_21</th>\n",
       "      <th>2_1423</th>\n",
       "      <th>7_1413</th>\n",
       "      <th>8_843</th>\n",
       "      <th>19_159</th>\n",
       "      <th>4_4</th>\n",
       "      <th>log2smoothed</th>\n",
       "    </tr>\n",
       "  </thead>\n",
       "  <tbody>\n",
       "    <tr>\n",
       "      <th>1</th>\n",
       "      <td>1</td>\n",
       "      <td>0.028116</td>\n",
       "      <td>0.294283</td>\n",
       "      <td>47.64</td>\n",
       "      <td>2.0</td>\n",
       "      <td>11.0</td>\n",
       "      <td>NaN</td>\n",
       "      <td>NaN</td>\n",
       "      <td>61798000.0</td>\n",
       "      <td>600.0</td>\n",
       "      <td>...</td>\n",
       "      <td>-0.2532</td>\n",
       "      <td>-0.2210</td>\n",
       "      <td>-0.2190</td>\n",
       "      <td>-0.2312</td>\n",
       "      <td>-0.2398</td>\n",
       "      <td>-0.2309</td>\n",
       "      <td>7.0273</td>\n",
       "      <td>-0.2335</td>\n",
       "      <td>-0.2108</td>\n",
       "      <td>1.735620</td>\n",
       "    </tr>\n",
       "    <tr>\n",
       "      <th>2</th>\n",
       "      <td>1</td>\n",
       "      <td>0.024367</td>\n",
       "      <td>0.304592</td>\n",
       "      <td>47.69</td>\n",
       "      <td>0.0</td>\n",
       "      <td>44.0</td>\n",
       "      <td>NaN</td>\n",
       "      <td>NaN</td>\n",
       "      <td>61297900.0</td>\n",
       "      <td>900.0</td>\n",
       "      <td>...</td>\n",
       "      <td>-0.2135</td>\n",
       "      <td>-0.2484</td>\n",
       "      <td>-0.2444</td>\n",
       "      <td>-0.2361</td>\n",
       "      <td>-0.2363</td>\n",
       "      <td>-0.2359</td>\n",
       "      <td>-0.2549</td>\n",
       "      <td>-0.2402</td>\n",
       "      <td>-0.2237</td>\n",
       "      <td>1.496313</td>\n",
       "    </tr>\n",
       "    <tr>\n",
       "      <th>3</th>\n",
       "      <td>0</td>\n",
       "      <td>0.022493</td>\n",
       "      <td>0.304592</td>\n",
       "      <td>47.84</td>\n",
       "      <td>0.0</td>\n",
       "      <td>35.0</td>\n",
       "      <td>NaN</td>\n",
       "      <td>NaN</td>\n",
       "      <td>61197880.0</td>\n",
       "      <td>200.0</td>\n",
       "      <td>...</td>\n",
       "      <td>-0.1961</td>\n",
       "      <td>-0.2485</td>\n",
       "      <td>4.1102</td>\n",
       "      <td>-0.2415</td>\n",
       "      <td>-0.2213</td>\n",
       "      <td>-0.2372</td>\n",
       "      <td>-0.2663</td>\n",
       "      <td>-0.2390</td>\n",
       "      <td>-0.2262</td>\n",
       "      <td>1.484598</td>\n",
       "    </tr>\n",
       "    <tr>\n",
       "      <th>4</th>\n",
       "      <td>0</td>\n",
       "      <td>0.023430</td>\n",
       "      <td>0.309278</td>\n",
       "      <td>56.73</td>\n",
       "      <td>0.0</td>\n",
       "      <td>9.0</td>\n",
       "      <td>NaN</td>\n",
       "      <td>NaN</td>\n",
       "      <td>60997840.0</td>\n",
       "      <td>1100.0</td>\n",
       "      <td>...</td>\n",
       "      <td>-0.1689</td>\n",
       "      <td>-0.2464</td>\n",
       "      <td>-0.1992</td>\n",
       "      <td>9.1282</td>\n",
       "      <td>-0.2409</td>\n",
       "      <td>-0.2283</td>\n",
       "      <td>-0.2795</td>\n",
       "      <td>-0.2043</td>\n",
       "      <td>-0.2149</td>\n",
       "      <td>1.478465</td>\n",
       "    </tr>\n",
       "    <tr>\n",
       "      <th>5</th>\n",
       "      <td>0</td>\n",
       "      <td>0.023430</td>\n",
       "      <td>0.309278</td>\n",
       "      <td>NaN</td>\n",
       "      <td>NaN</td>\n",
       "      <td>NaN</td>\n",
       "      <td>NaN</td>\n",
       "      <td>NaN</td>\n",
       "      <td>60897820.0</td>\n",
       "      <td>700.0</td>\n",
       "      <td>...</td>\n",
       "      <td>-0.2416</td>\n",
       "      <td>-0.2361</td>\n",
       "      <td>-0.2030</td>\n",
       "      <td>-0.2378</td>\n",
       "      <td>-0.2341</td>\n",
       "      <td>-0.2226</td>\n",
       "      <td>-0.2649</td>\n",
       "      <td>8.3414</td>\n",
       "      <td>-0.2112</td>\n",
       "      <td>1.463025</td>\n",
       "    </tr>\n",
       "  </tbody>\n",
       "</table>\n",
       "<p>5 rows × 253 columns</p>\n",
       "</div>"
      ],
      "text/plain": [
       "   sign_mean_log2FC_1  ampl_score  del_score  mean.GC.content  \\\n",
       "1                   1    0.028116   0.294283            47.64   \n",
       "2                   1    0.024367   0.304592            47.69   \n",
       "3                   0    0.022493   0.304592            47.84   \n",
       "4                   0    0.023430   0.309278            56.73   \n",
       "5                   0    0.023430   0.309278              NaN   \n",
       "\n",
       "   total_n_partners.trans  total_n_PPIs.trans_IntINSIDER  \\\n",
       "1                     2.0                           11.0   \n",
       "2                     0.0                           44.0   \n",
       "3                     0.0                           35.0   \n",
       "4                     0.0                            9.0   \n",
       "5                     NaN                            NaN   \n",
       "\n",
       "   total_n_ohnologs.mmpaper_trans  total_n_paralogs_trans  \\\n",
       "1                             NaN                     NaN   \n",
       "2                             NaN                     NaN   \n",
       "3                             NaN                     NaN   \n",
       "4                             NaN                     NaN   \n",
       "5                             NaN                     NaN   \n",
       "\n",
       "   dist.to.closest.FGS  Length_Counts.E1  ...  9_1370   7_725   9_534   19_21  \\\n",
       "1           61798000.0             600.0  ... -0.2532 -0.2210 -0.2190 -0.2312   \n",
       "2           61297900.0             900.0  ... -0.2135 -0.2484 -0.2444 -0.2361   \n",
       "3           61197880.0             200.0  ... -0.1961 -0.2485  4.1102 -0.2415   \n",
       "4           60997840.0            1100.0  ... -0.1689 -0.2464 -0.1992  9.1282   \n",
       "5           60897820.0             700.0  ... -0.2416 -0.2361 -0.2030 -0.2378   \n",
       "\n",
       "   2_1423  7_1413   8_843  19_159     4_4  log2smoothed  \n",
       "1 -0.2398 -0.2309  7.0273 -0.2335 -0.2108      1.735620  \n",
       "2 -0.2363 -0.2359 -0.2549 -0.2402 -0.2237      1.496313  \n",
       "3 -0.2213 -0.2372 -0.2663 -0.2390 -0.2262      1.484598  \n",
       "4 -0.2409 -0.2283 -0.2795 -0.2043 -0.2149      1.478465  \n",
       "5 -0.2341 -0.2226 -0.2649  8.3414 -0.2112      1.463025  \n",
       "\n",
       "[5 rows x 253 columns]"
      ]
     },
     "execution_count": 20,
     "metadata": {},
     "output_type": "execute_result"
    }
   ],
   "source": [
    "working_df.head()"
   ]
  },
  {
   "cell_type": "code",
   "execution_count": 21,
   "id": "a7df5cba",
   "metadata": {
    "execution": {
     "iopub.execute_input": "2025-06-10T07:53:23.750321Z",
     "iopub.status.busy": "2025-06-10T07:53:23.750158Z",
     "iopub.status.idle": "2025-06-10T07:53:23.755984Z",
     "shell.execute_reply": "2025-06-10T07:53:23.755272Z"
    },
    "papermill": {
     "duration": 0.013237,
     "end_time": "2025-06-10T07:53:23.756664",
     "exception": false,
     "start_time": "2025-06-10T07:53:23.743427",
     "status": "completed"
    },
    "tags": []
   },
   "outputs": [],
   "source": [
    "if technology == \"sc\":\n",
    "    X = working_df.iloc[:, 0:-1]\n",
    "    y = working_df.iloc[:, -1]\n",
    "else:\n",
    "    X = working_df.iloc[:,1:]\n",
    "    y = working_df.iloc[:,0]"
   ]
  },
  {
   "cell_type": "code",
   "execution_count": 22,
   "id": "29fc2772",
   "metadata": {
    "execution": {
     "iopub.execute_input": "2025-06-10T07:53:23.769489Z",
     "iopub.status.busy": "2025-06-10T07:53:23.769360Z",
     "iopub.status.idle": "2025-06-10T07:53:23.782718Z",
     "shell.execute_reply": "2025-06-10T07:53:23.782048Z"
    },
    "papermill": {
     "duration": 0.020559,
     "end_time": "2025-06-10T07:53:23.783546",
     "exception": false,
     "start_time": "2025-06-10T07:53:23.762987",
     "status": "completed"
    },
    "tags": []
   },
   "outputs": [
    {
     "data": {
      "text/html": [
       "<div>\n",
       "<style scoped>\n",
       "    .dataframe tbody tr th:only-of-type {\n",
       "        vertical-align: middle;\n",
       "    }\n",
       "\n",
       "    .dataframe tbody tr th {\n",
       "        vertical-align: top;\n",
       "    }\n",
       "\n",
       "    .dataframe thead th {\n",
       "        text-align: right;\n",
       "    }\n",
       "</style>\n",
       "<table border=\"1\" class=\"dataframe\">\n",
       "  <thead>\n",
       "    <tr style=\"text-align: right;\">\n",
       "      <th></th>\n",
       "      <th>ampl_score</th>\n",
       "      <th>del_score</th>\n",
       "      <th>mean.GC.content</th>\n",
       "      <th>total_n_partners.trans</th>\n",
       "      <th>total_n_PPIs.trans_IntINSIDER</th>\n",
       "      <th>total_n_ohnologs.mmpaper_trans</th>\n",
       "      <th>total_n_paralogs_trans</th>\n",
       "      <th>dist.to.closest.FGS</th>\n",
       "      <th>Length_Counts.E1</th>\n",
       "      <th>Length_Counts.E10</th>\n",
       "      <th>...</th>\n",
       "      <th>9_1370</th>\n",
       "      <th>7_725</th>\n",
       "      <th>9_534</th>\n",
       "      <th>19_21</th>\n",
       "      <th>2_1423</th>\n",
       "      <th>7_1413</th>\n",
       "      <th>8_843</th>\n",
       "      <th>19_159</th>\n",
       "      <th>4_4</th>\n",
       "      <th>log2smoothed</th>\n",
       "    </tr>\n",
       "  </thead>\n",
       "  <tbody>\n",
       "    <tr>\n",
       "      <th>1</th>\n",
       "      <td>0.028116</td>\n",
       "      <td>0.294283</td>\n",
       "      <td>47.64</td>\n",
       "      <td>2.0</td>\n",
       "      <td>11.0</td>\n",
       "      <td>NaN</td>\n",
       "      <td>NaN</td>\n",
       "      <td>61798000.0</td>\n",
       "      <td>600.0</td>\n",
       "      <td>2800.0</td>\n",
       "      <td>...</td>\n",
       "      <td>-0.2532</td>\n",
       "      <td>-0.2210</td>\n",
       "      <td>-0.2190</td>\n",
       "      <td>-0.2312</td>\n",
       "      <td>-0.2398</td>\n",
       "      <td>-0.2309</td>\n",
       "      <td>7.0273</td>\n",
       "      <td>-0.2335</td>\n",
       "      <td>-0.2108</td>\n",
       "      <td>1.735620</td>\n",
       "    </tr>\n",
       "    <tr>\n",
       "      <th>2</th>\n",
       "      <td>0.024367</td>\n",
       "      <td>0.304592</td>\n",
       "      <td>47.69</td>\n",
       "      <td>0.0</td>\n",
       "      <td>44.0</td>\n",
       "      <td>NaN</td>\n",
       "      <td>NaN</td>\n",
       "      <td>61297900.0</td>\n",
       "      <td>900.0</td>\n",
       "      <td>900.0</td>\n",
       "      <td>...</td>\n",
       "      <td>-0.2135</td>\n",
       "      <td>-0.2484</td>\n",
       "      <td>-0.2444</td>\n",
       "      <td>-0.2361</td>\n",
       "      <td>-0.2363</td>\n",
       "      <td>-0.2359</td>\n",
       "      <td>-0.2549</td>\n",
       "      <td>-0.2402</td>\n",
       "      <td>-0.2237</td>\n",
       "      <td>1.496313</td>\n",
       "    </tr>\n",
       "    <tr>\n",
       "      <th>3</th>\n",
       "      <td>0.022493</td>\n",
       "      <td>0.304592</td>\n",
       "      <td>47.84</td>\n",
       "      <td>0.0</td>\n",
       "      <td>35.0</td>\n",
       "      <td>NaN</td>\n",
       "      <td>NaN</td>\n",
       "      <td>61197880.0</td>\n",
       "      <td>200.0</td>\n",
       "      <td>6500.0</td>\n",
       "      <td>...</td>\n",
       "      <td>-0.1961</td>\n",
       "      <td>-0.2485</td>\n",
       "      <td>4.1102</td>\n",
       "      <td>-0.2415</td>\n",
       "      <td>-0.2213</td>\n",
       "      <td>-0.2372</td>\n",
       "      <td>-0.2663</td>\n",
       "      <td>-0.2390</td>\n",
       "      <td>-0.2262</td>\n",
       "      <td>1.484598</td>\n",
       "    </tr>\n",
       "    <tr>\n",
       "      <th>4</th>\n",
       "      <td>0.023430</td>\n",
       "      <td>0.309278</td>\n",
       "      <td>56.73</td>\n",
       "      <td>0.0</td>\n",
       "      <td>9.0</td>\n",
       "      <td>NaN</td>\n",
       "      <td>NaN</td>\n",
       "      <td>60997840.0</td>\n",
       "      <td>1100.0</td>\n",
       "      <td>600.0</td>\n",
       "      <td>...</td>\n",
       "      <td>-0.1689</td>\n",
       "      <td>-0.2464</td>\n",
       "      <td>-0.1992</td>\n",
       "      <td>9.1282</td>\n",
       "      <td>-0.2409</td>\n",
       "      <td>-0.2283</td>\n",
       "      <td>-0.2795</td>\n",
       "      <td>-0.2043</td>\n",
       "      <td>-0.2149</td>\n",
       "      <td>1.478465</td>\n",
       "    </tr>\n",
       "    <tr>\n",
       "      <th>5</th>\n",
       "      <td>0.023430</td>\n",
       "      <td>0.309278</td>\n",
       "      <td>NaN</td>\n",
       "      <td>NaN</td>\n",
       "      <td>NaN</td>\n",
       "      <td>NaN</td>\n",
       "      <td>NaN</td>\n",
       "      <td>60897820.0</td>\n",
       "      <td>700.0</td>\n",
       "      <td>0.0</td>\n",
       "      <td>...</td>\n",
       "      <td>-0.2416</td>\n",
       "      <td>-0.2361</td>\n",
       "      <td>-0.2030</td>\n",
       "      <td>-0.2378</td>\n",
       "      <td>-0.2341</td>\n",
       "      <td>-0.2226</td>\n",
       "      <td>-0.2649</td>\n",
       "      <td>8.3414</td>\n",
       "      <td>-0.2112</td>\n",
       "      <td>1.463025</td>\n",
       "    </tr>\n",
       "  </tbody>\n",
       "</table>\n",
       "<p>5 rows × 252 columns</p>\n",
       "</div>"
      ],
      "text/plain": [
       "   ampl_score  del_score  mean.GC.content  total_n_partners.trans  \\\n",
       "1    0.028116   0.294283            47.64                     2.0   \n",
       "2    0.024367   0.304592            47.69                     0.0   \n",
       "3    0.022493   0.304592            47.84                     0.0   \n",
       "4    0.023430   0.309278            56.73                     0.0   \n",
       "5    0.023430   0.309278              NaN                     NaN   \n",
       "\n",
       "   total_n_PPIs.trans_IntINSIDER  total_n_ohnologs.mmpaper_trans  \\\n",
       "1                           11.0                             NaN   \n",
       "2                           44.0                             NaN   \n",
       "3                           35.0                             NaN   \n",
       "4                            9.0                             NaN   \n",
       "5                            NaN                             NaN   \n",
       "\n",
       "   total_n_paralogs_trans  dist.to.closest.FGS  Length_Counts.E1  \\\n",
       "1                     NaN           61798000.0             600.0   \n",
       "2                     NaN           61297900.0             900.0   \n",
       "3                     NaN           61197880.0             200.0   \n",
       "4                     NaN           60997840.0            1100.0   \n",
       "5                     NaN           60897820.0             700.0   \n",
       "\n",
       "   Length_Counts.E10  ...  9_1370   7_725   9_534   19_21  2_1423  7_1413  \\\n",
       "1             2800.0  ... -0.2532 -0.2210 -0.2190 -0.2312 -0.2398 -0.2309   \n",
       "2              900.0  ... -0.2135 -0.2484 -0.2444 -0.2361 -0.2363 -0.2359   \n",
       "3             6500.0  ... -0.1961 -0.2485  4.1102 -0.2415 -0.2213 -0.2372   \n",
       "4              600.0  ... -0.1689 -0.2464 -0.1992  9.1282 -0.2409 -0.2283   \n",
       "5                0.0  ... -0.2416 -0.2361 -0.2030 -0.2378 -0.2341 -0.2226   \n",
       "\n",
       "    8_843  19_159     4_4  log2smoothed  \n",
       "1  7.0273 -0.2335 -0.2108      1.735620  \n",
       "2 -0.2549 -0.2402 -0.2237      1.496313  \n",
       "3 -0.2663 -0.2390 -0.2262      1.484598  \n",
       "4 -0.2795 -0.2043 -0.2149      1.478465  \n",
       "5 -0.2649  8.3414 -0.2112      1.463025  \n",
       "\n",
       "[5 rows x 252 columns]"
      ]
     },
     "execution_count": 22,
     "metadata": {},
     "output_type": "execute_result"
    }
   ],
   "source": [
    "X.head()"
   ]
  },
  {
   "cell_type": "code",
   "execution_count": 23,
   "id": "e71d9885",
   "metadata": {
    "execution": {
     "iopub.execute_input": "2025-06-10T07:53:23.797178Z",
     "iopub.status.busy": "2025-06-10T07:53:23.796947Z",
     "iopub.status.idle": "2025-06-10T07:53:23.802961Z",
     "shell.execute_reply": "2025-06-10T07:53:23.801963Z"
    },
    "papermill": {
     "duration": 0.013702,
     "end_time": "2025-06-10T07:53:23.803583",
     "exception": false,
     "start_time": "2025-06-10T07:53:23.789881",
     "status": "completed"
    },
    "tags": []
   },
   "outputs": [
    {
     "name": "stdout",
     "output_type": "stream",
     "text": [
      "Target Variable outside training set!\n"
     ]
    }
   ],
   "source": [
    "if len([col for col in cols_to_check if col in X.columns]) > 0:\n",
    "    raise Exception(\"Target Variable and derivated in the training set!\")\n",
    "else:\n",
    "    print(\"Target Variable outside training set!\")"
   ]
  },
  {
   "cell_type": "code",
   "execution_count": 24,
   "id": "482c474f",
   "metadata": {
    "execution": {
     "iopub.execute_input": "2025-06-10T07:53:23.816381Z",
     "iopub.status.busy": "2025-06-10T07:53:23.816153Z",
     "iopub.status.idle": "2025-06-10T07:53:23.821802Z",
     "shell.execute_reply": "2025-06-10T07:53:23.821239Z"
    },
    "papermill": {
     "duration": 0.012818,
     "end_time": "2025-06-10T07:53:23.822399",
     "exception": false,
     "start_time": "2025-06-10T07:53:23.809581",
     "status": "completed"
    },
    "tags": []
   },
   "outputs": [
    {
     "data": {
      "text/plain": [
       "Index(['ampl_score', 'del_score', 'mean.GC.content', 'total_n_partners.trans',\n",
       "       'total_n_PPIs.trans_IntINSIDER', 'total_n_ohnologs.mmpaper_trans',\n",
       "       'total_n_paralogs_trans', 'dist.to.closest.FGS', 'Length_Counts.E1',\n",
       "       'Length_Counts.E10',\n",
       "       ...\n",
       "       '9_1370', '7_725', '9_534', '19_21', '2_1423', '7_1413', '8_843',\n",
       "       '19_159', '4_4', 'log2smoothed'],\n",
       "      dtype='object', length=252)"
      ]
     },
     "execution_count": 24,
     "metadata": {},
     "output_type": "execute_result"
    }
   ],
   "source": [
    "X.columns"
   ]
  },
  {
   "cell_type": "code",
   "execution_count": 25,
   "id": "0dfde871",
   "metadata": {
    "execution": {
     "iopub.execute_input": "2025-06-10T07:53:23.835549Z",
     "iopub.status.busy": "2025-06-10T07:53:23.835359Z",
     "iopub.status.idle": "2025-06-10T07:53:23.843315Z",
     "shell.execute_reply": "2025-06-10T07:53:23.842696Z"
    },
    "papermill": {
     "duration": 0.015394,
     "end_time": "2025-06-10T07:53:23.843828",
     "exception": false,
     "start_time": "2025-06-10T07:53:23.828434",
     "status": "completed"
    },
    "tags": []
   },
   "outputs": [],
   "source": [
    "X_train, X_test, y_train, y_test, bin_train, bin_test = sk.model_selection.train_test_split(X, y, bin_ids, test_size=0.3, random_state=split_random_state)"
   ]
  },
  {
   "cell_type": "code",
   "execution_count": 26,
   "id": "e68e0e4b-5a0e-494a-b6ba-e2835d10889f",
   "metadata": {
    "execution": {
     "iopub.execute_input": "2025-06-10T07:53:23.858988Z",
     "iopub.status.busy": "2025-06-10T07:53:23.858230Z",
     "iopub.status.idle": "2025-06-10T07:53:23.875932Z",
     "shell.execute_reply": "2025-06-10T07:53:23.875270Z"
    },
    "papermill": {
     "duration": 0.026238,
     "end_time": "2025-06-10T07:53:23.876532",
     "exception": false,
     "start_time": "2025-06-10T07:53:23.850294",
     "status": "completed"
    },
    "tags": []
   },
   "outputs": [
    {
     "data": {
      "text/html": [
       "<div>\n",
       "<style scoped>\n",
       "    .dataframe tbody tr th:only-of-type {\n",
       "        vertical-align: middle;\n",
       "    }\n",
       "\n",
       "    .dataframe tbody tr th {\n",
       "        vertical-align: top;\n",
       "    }\n",
       "\n",
       "    .dataframe thead th {\n",
       "        text-align: right;\n",
       "    }\n",
       "</style>\n",
       "<table border=\"1\" class=\"dataframe\">\n",
       "  <thead>\n",
       "    <tr style=\"text-align: right;\">\n",
       "      <th></th>\n",
       "      <th>ampl_score</th>\n",
       "      <th>del_score</th>\n",
       "      <th>mean.GC.content</th>\n",
       "      <th>total_n_partners.trans</th>\n",
       "      <th>total_n_PPIs.trans_IntINSIDER</th>\n",
       "      <th>total_n_ohnologs.mmpaper_trans</th>\n",
       "      <th>total_n_paralogs_trans</th>\n",
       "      <th>dist.to.closest.FGS</th>\n",
       "      <th>Length_Counts.E1</th>\n",
       "      <th>Length_Counts.E10</th>\n",
       "      <th>...</th>\n",
       "      <th>9_1370</th>\n",
       "      <th>7_725</th>\n",
       "      <th>9_534</th>\n",
       "      <th>19_21</th>\n",
       "      <th>2_1423</th>\n",
       "      <th>7_1413</th>\n",
       "      <th>8_843</th>\n",
       "      <th>19_159</th>\n",
       "      <th>4_4</th>\n",
       "      <th>log2smoothed</th>\n",
       "    </tr>\n",
       "  </thead>\n",
       "  <tbody>\n",
       "    <tr>\n",
       "      <th>577</th>\n",
       "      <td>0.063730</td>\n",
       "      <td>0.145267</td>\n",
       "      <td>51.990000</td>\n",
       "      <td>0.0</td>\n",
       "      <td>1.0</td>\n",
       "      <td>2.0</td>\n",
       "      <td>5.0</td>\n",
       "      <td>16917776.0</td>\n",
       "      <td>0.0</td>\n",
       "      <td>6200.0</td>\n",
       "      <td>...</td>\n",
       "      <td>-0.2267</td>\n",
       "      <td>-0.2184</td>\n",
       "      <td>-0.2361</td>\n",
       "      <td>-0.2472</td>\n",
       "      <td>-0.2347</td>\n",
       "      <td>-0.2342</td>\n",
       "      <td>-0.2464</td>\n",
       "      <td>-0.2370</td>\n",
       "      <td>-0.2474</td>\n",
       "      <td>1.911984</td>\n",
       "    </tr>\n",
       "    <tr>\n",
       "      <th>2490</th>\n",
       "      <td>0.059981</td>\n",
       "      <td>0.075914</td>\n",
       "      <td>NaN</td>\n",
       "      <td>NaN</td>\n",
       "      <td>NaN</td>\n",
       "      <td>NaN</td>\n",
       "      <td>NaN</td>\n",
       "      <td>41460240.0</td>\n",
       "      <td>800.0</td>\n",
       "      <td>0.0</td>\n",
       "      <td>...</td>\n",
       "      <td>-0.2415</td>\n",
       "      <td>-0.2399</td>\n",
       "      <td>-0.2439</td>\n",
       "      <td>-0.2350</td>\n",
       "      <td>-0.2632</td>\n",
       "      <td>-0.2469</td>\n",
       "      <td>-0.2402</td>\n",
       "      <td>-0.2286</td>\n",
       "      <td>-0.2469</td>\n",
       "      <td>1.197399</td>\n",
       "    </tr>\n",
       "    <tr>\n",
       "      <th>3337</th>\n",
       "      <td>0.175258</td>\n",
       "      <td>0.081537</td>\n",
       "      <td>46.000000</td>\n",
       "      <td>0.0</td>\n",
       "      <td>15.0</td>\n",
       "      <td>NaN</td>\n",
       "      <td>11.0</td>\n",
       "      <td>135097872.0</td>\n",
       "      <td>4000.0</td>\n",
       "      <td>0.0</td>\n",
       "      <td>...</td>\n",
       "      <td>-0.2379</td>\n",
       "      <td>-0.2485</td>\n",
       "      <td>-0.2476</td>\n",
       "      <td>-0.2531</td>\n",
       "      <td>-0.2458</td>\n",
       "      <td>-0.3059</td>\n",
       "      <td>-0.2491</td>\n",
       "      <td>-0.2517</td>\n",
       "      <td>-0.2464</td>\n",
       "      <td>0.568615</td>\n",
       "    </tr>\n",
       "    <tr>\n",
       "      <th>178</th>\n",
       "      <td>0.024367</td>\n",
       "      <td>0.312090</td>\n",
       "      <td>54.955000</td>\n",
       "      <td>0.0</td>\n",
       "      <td>6.0</td>\n",
       "      <td>NaN</td>\n",
       "      <td>17.0</td>\n",
       "      <td>51796000.0</td>\n",
       "      <td>800.0</td>\n",
       "      <td>6100.0</td>\n",
       "      <td>...</td>\n",
       "      <td>-0.2119</td>\n",
       "      <td>-0.2031</td>\n",
       "      <td>-0.2745</td>\n",
       "      <td>-0.2365</td>\n",
       "      <td>-0.2333</td>\n",
       "      <td>-0.2197</td>\n",
       "      <td>-0.2443</td>\n",
       "      <td>-0.2546</td>\n",
       "      <td>-0.2353</td>\n",
       "      <td>1.894993</td>\n",
       "    </tr>\n",
       "    <tr>\n",
       "      <th>96</th>\n",
       "      <td>0.660731</td>\n",
       "      <td>0.008435</td>\n",
       "      <td>54.703333</td>\n",
       "      <td>0.0</td>\n",
       "      <td>16.0</td>\n",
       "      <td>4.0</td>\n",
       "      <td>24.0</td>\n",
       "      <td>85667980.0</td>\n",
       "      <td>300.0</td>\n",
       "      <td>200.0</td>\n",
       "      <td>...</td>\n",
       "      <td>-0.2897</td>\n",
       "      <td>-0.2451</td>\n",
       "      <td>-0.2366</td>\n",
       "      <td>-0.2445</td>\n",
       "      <td>-0.2379</td>\n",
       "      <td>-0.2227</td>\n",
       "      <td>-0.2218</td>\n",
       "      <td>-0.2428</td>\n",
       "      <td>-0.2249</td>\n",
       "      <td>1.634899</td>\n",
       "    </tr>\n",
       "    <tr>\n",
       "      <th>...</th>\n",
       "      <td>...</td>\n",
       "      <td>...</td>\n",
       "      <td>...</td>\n",
       "      <td>...</td>\n",
       "      <td>...</td>\n",
       "      <td>...</td>\n",
       "      <td>...</td>\n",
       "      <td>...</td>\n",
       "      <td>...</td>\n",
       "      <td>...</td>\n",
       "      <td>...</td>\n",
       "      <td>...</td>\n",
       "      <td>...</td>\n",
       "      <td>...</td>\n",
       "      <td>...</td>\n",
       "      <td>...</td>\n",
       "      <td>...</td>\n",
       "      <td>...</td>\n",
       "      <td>...</td>\n",
       "      <td>...</td>\n",
       "      <td>...</td>\n",
       "    </tr>\n",
       "    <tr>\n",
       "      <th>2175</th>\n",
       "      <td>0.080600</td>\n",
       "      <td>0.162137</td>\n",
       "      <td>60.546000</td>\n",
       "      <td>16.0</td>\n",
       "      <td>33.0</td>\n",
       "      <td>2.0</td>\n",
       "      <td>8.0</td>\n",
       "      <td>NaN</td>\n",
       "      <td>200.0</td>\n",
       "      <td>0.0</td>\n",
       "      <td>...</td>\n",
       "      <td>-0.2317</td>\n",
       "      <td>-0.2315</td>\n",
       "      <td>6.5121</td>\n",
       "      <td>-0.6223</td>\n",
       "      <td>-0.5879</td>\n",
       "      <td>-0.2328</td>\n",
       "      <td>-0.2346</td>\n",
       "      <td>-0.5786</td>\n",
       "      <td>-0.2448</td>\n",
       "      <td>1.763217</td>\n",
       "    </tr>\n",
       "    <tr>\n",
       "      <th>373</th>\n",
       "      <td>0.081537</td>\n",
       "      <td>0.183693</td>\n",
       "      <td>52.240000</td>\n",
       "      <td>0.0</td>\n",
       "      <td>16.0</td>\n",
       "      <td>2.0</td>\n",
       "      <td>2.0</td>\n",
       "      <td>17989240.0</td>\n",
       "      <td>300.0</td>\n",
       "      <td>1800.0</td>\n",
       "      <td>...</td>\n",
       "      <td>-0.2227</td>\n",
       "      <td>-0.2089</td>\n",
       "      <td>-0.2322</td>\n",
       "      <td>-0.2450</td>\n",
       "      <td>-0.2545</td>\n",
       "      <td>-0.2266</td>\n",
       "      <td>-0.2343</td>\n",
       "      <td>-0.2434</td>\n",
       "      <td>-0.2241</td>\n",
       "      <td>1.834388</td>\n",
       "    </tr>\n",
       "    <tr>\n",
       "      <th>3508</th>\n",
       "      <td>0.204311</td>\n",
       "      <td>0.099344</td>\n",
       "      <td>55.650000</td>\n",
       "      <td>1.0</td>\n",
       "      <td>46.0</td>\n",
       "      <td>NaN</td>\n",
       "      <td>NaN</td>\n",
       "      <td>66999520.0</td>\n",
       "      <td>0.0</td>\n",
       "      <td>200.0</td>\n",
       "      <td>...</td>\n",
       "      <td>-0.2416</td>\n",
       "      <td>-0.5106</td>\n",
       "      <td>-0.2384</td>\n",
       "      <td>-0.2504</td>\n",
       "      <td>-0.2361</td>\n",
       "      <td>-0.9067</td>\n",
       "      <td>-0.2429</td>\n",
       "      <td>-0.2468</td>\n",
       "      <td>-0.2620</td>\n",
       "      <td>0.891529</td>\n",
       "    </tr>\n",
       "    <tr>\n",
       "      <th>2099</th>\n",
       "      <td>0.099344</td>\n",
       "      <td>0.107779</td>\n",
       "      <td>57.510000</td>\n",
       "      <td>0.0</td>\n",
       "      <td>117.0</td>\n",
       "      <td>2.0</td>\n",
       "      <td>11.0</td>\n",
       "      <td>NaN</td>\n",
       "      <td>700.0</td>\n",
       "      <td>2200.0</td>\n",
       "      <td>...</td>\n",
       "      <td>-0.2325</td>\n",
       "      <td>-0.2442</td>\n",
       "      <td>-0.2205</td>\n",
       "      <td>-0.7947</td>\n",
       "      <td>2.3805</td>\n",
       "      <td>-0.2374</td>\n",
       "      <td>-0.2270</td>\n",
       "      <td>-0.7406</td>\n",
       "      <td>-0.2342</td>\n",
       "      <td>1.792952</td>\n",
       "    </tr>\n",
       "    <tr>\n",
       "      <th>920</th>\n",
       "      <td>0.148079</td>\n",
       "      <td>0.124649</td>\n",
       "      <td>43.190000</td>\n",
       "      <td>0.0</td>\n",
       "      <td>10.0</td>\n",
       "      <td>1.0</td>\n",
       "      <td>1.0</td>\n",
       "      <td>NaN</td>\n",
       "      <td>0.0</td>\n",
       "      <td>26300.0</td>\n",
       "      <td>...</td>\n",
       "      <td>11.8807</td>\n",
       "      <td>-0.2220</td>\n",
       "      <td>-0.2095</td>\n",
       "      <td>-0.2361</td>\n",
       "      <td>-0.2423</td>\n",
       "      <td>-0.2289</td>\n",
       "      <td>-0.2316</td>\n",
       "      <td>-0.2294</td>\n",
       "      <td>-0.2392</td>\n",
       "      <td>1.537468</td>\n",
       "    </tr>\n",
       "  </tbody>\n",
       "</table>\n",
       "<p>2744 rows × 252 columns</p>\n",
       "</div>"
      ],
      "text/plain": [
       "      ampl_score  del_score  mean.GC.content  total_n_partners.trans  \\\n",
       "577     0.063730   0.145267        51.990000                     0.0   \n",
       "2490    0.059981   0.075914              NaN                     NaN   \n",
       "3337    0.175258   0.081537        46.000000                     0.0   \n",
       "178     0.024367   0.312090        54.955000                     0.0   \n",
       "96      0.660731   0.008435        54.703333                     0.0   \n",
       "...          ...        ...              ...                     ...   \n",
       "2175    0.080600   0.162137        60.546000                    16.0   \n",
       "373     0.081537   0.183693        52.240000                     0.0   \n",
       "3508    0.204311   0.099344        55.650000                     1.0   \n",
       "2099    0.099344   0.107779        57.510000                     0.0   \n",
       "920     0.148079   0.124649        43.190000                     0.0   \n",
       "\n",
       "      total_n_PPIs.trans_IntINSIDER  total_n_ohnologs.mmpaper_trans  \\\n",
       "577                             1.0                             2.0   \n",
       "2490                            NaN                             NaN   \n",
       "3337                           15.0                             NaN   \n",
       "178                             6.0                             NaN   \n",
       "96                             16.0                             4.0   \n",
       "...                             ...                             ...   \n",
       "2175                           33.0                             2.0   \n",
       "373                            16.0                             2.0   \n",
       "3508                           46.0                             NaN   \n",
       "2099                          117.0                             2.0   \n",
       "920                            10.0                             1.0   \n",
       "\n",
       "      total_n_paralogs_trans  dist.to.closest.FGS  Length_Counts.E1  \\\n",
       "577                      5.0           16917776.0               0.0   \n",
       "2490                     NaN           41460240.0             800.0   \n",
       "3337                    11.0          135097872.0            4000.0   \n",
       "178                     17.0           51796000.0             800.0   \n",
       "96                      24.0           85667980.0             300.0   \n",
       "...                      ...                  ...               ...   \n",
       "2175                     8.0                  NaN             200.0   \n",
       "373                      2.0           17989240.0             300.0   \n",
       "3508                     NaN           66999520.0               0.0   \n",
       "2099                    11.0                  NaN             700.0   \n",
       "920                      1.0                  NaN               0.0   \n",
       "\n",
       "      Length_Counts.E10  ...   9_1370   7_725   9_534   19_21  2_1423  7_1413  \\\n",
       "577              6200.0  ...  -0.2267 -0.2184 -0.2361 -0.2472 -0.2347 -0.2342   \n",
       "2490                0.0  ...  -0.2415 -0.2399 -0.2439 -0.2350 -0.2632 -0.2469   \n",
       "3337                0.0  ...  -0.2379 -0.2485 -0.2476 -0.2531 -0.2458 -0.3059   \n",
       "178              6100.0  ...  -0.2119 -0.2031 -0.2745 -0.2365 -0.2333 -0.2197   \n",
       "96                200.0  ...  -0.2897 -0.2451 -0.2366 -0.2445 -0.2379 -0.2227   \n",
       "...                 ...  ...      ...     ...     ...     ...     ...     ...   \n",
       "2175                0.0  ...  -0.2317 -0.2315  6.5121 -0.6223 -0.5879 -0.2328   \n",
       "373              1800.0  ...  -0.2227 -0.2089 -0.2322 -0.2450 -0.2545 -0.2266   \n",
       "3508              200.0  ...  -0.2416 -0.5106 -0.2384 -0.2504 -0.2361 -0.9067   \n",
       "2099             2200.0  ...  -0.2325 -0.2442 -0.2205 -0.7947  2.3805 -0.2374   \n",
       "920             26300.0  ...  11.8807 -0.2220 -0.2095 -0.2361 -0.2423 -0.2289   \n",
       "\n",
       "       8_843  19_159     4_4  log2smoothed  \n",
       "577  -0.2464 -0.2370 -0.2474      1.911984  \n",
       "2490 -0.2402 -0.2286 -0.2469      1.197399  \n",
       "3337 -0.2491 -0.2517 -0.2464      0.568615  \n",
       "178  -0.2443 -0.2546 -0.2353      1.894993  \n",
       "96   -0.2218 -0.2428 -0.2249      1.634899  \n",
       "...      ...     ...     ...           ...  \n",
       "2175 -0.2346 -0.5786 -0.2448      1.763217  \n",
       "373  -0.2343 -0.2434 -0.2241      1.834388  \n",
       "3508 -0.2429 -0.2468 -0.2620      0.891529  \n",
       "2099 -0.2270 -0.7406 -0.2342      1.792952  \n",
       "920  -0.2316 -0.2294 -0.2392      1.537468  \n",
       "\n",
       "[2744 rows x 252 columns]"
      ]
     },
     "execution_count": 26,
     "metadata": {},
     "output_type": "execute_result"
    }
   ],
   "source": [
    "X_train"
   ]
  },
  {
   "cell_type": "markdown",
   "id": "5125b311",
   "metadata": {
    "papermill": {
     "duration": 0.006218,
     "end_time": "2025-06-10T07:53:23.889071",
     "exception": false,
     "start_time": "2025-06-10T07:53:23.882853",
     "status": "completed"
    },
    "tags": []
   },
   "source": [
    "## Prepare the Classifier and the Search Space"
   ]
  },
  {
   "cell_type": "code",
   "execution_count": 27,
   "id": "dac38e0b",
   "metadata": {
    "execution": {
     "iopub.execute_input": "2025-06-10T07:53:23.904323Z",
     "iopub.status.busy": "2025-06-10T07:53:23.903538Z",
     "iopub.status.idle": "2025-06-10T07:53:23.911244Z",
     "shell.execute_reply": "2025-06-10T07:53:23.910730Z"
    },
    "papermill": {
     "duration": 0.016433,
     "end_time": "2025-06-10T07:53:23.911869",
     "exception": false,
     "start_time": "2025-06-10T07:53:23.895436",
     "status": "completed"
    },
    "tags": []
   },
   "outputs": [],
   "source": [
    "classifier = xgb.XGBClassifier(n_jobs = n_jobs_boost, seed = classifier_seed, random_state = classifier_random_state, tree_method = \"hist\", device = \"cpu\")\n",
    "\n",
    "if technology == \"sc\":\n",
    "\n",
    "    search_space_bayes = {\n",
    "        'learning_rate': (0.01, 0.3),                     # conservative to prevent noisy learning\n",
    "        'max_depth': (1, 14),                             # captures 4–6 feature interactions without overfitting\n",
    "        'min_child_weight': (1, 50),                      # helps avoid splits on small samples\n",
    "        'gamma': (0.1, 1.0, 'log-uniform'),               # require meaningful splits\n",
    "        'subsample': (0.6, 1.0),                          # stabilize with row sampling\n",
    "        'colsample_bytree': (0.5, 1.0),                   # feature subsampling per tree\n",
    "        'colsample_bylevel': (0.5, 1.0),                  # feature subsampling per split level\n",
    "        'reg_alpha': (1e-3, 10, 'log-uniform'),           # L1 penalty for sparsity\n",
    "        'reg_lambda': (0.1, 100, 'log-uniform'),          # L2 penalty to reduce overfitting\n",
    "        'max_delta_step': (0, 10),                        # improves convergence in imbalanced/unstable targets\n",
    "        'n_estimators': (100, 500),                       # enough boosting rounds for complexity\n",
    "        'objective': ['multi:softmax'],  \n",
    "        'booster': ['gbtree', 'dart'],  \n",
    "        'eval_metric': ['mlogloss', 'error', 'auc']\n",
    "    }\n",
    "\n",
    "else: \n",
    "\n",
    "    search_space_bayes = {\n",
    "        'learning_rate': (0.01, 0.3),                     # conservative to prevent noisy learning\n",
    "        'max_depth': (1, 14),                             # captures 4–6 feature interactions without overfitting\n",
    "        'min_child_weight': (1, 50),                      # helps avoid splits on small samples\n",
    "        'gamma': (0.1, 1.0, 'log-uniform'),               # require meaningful splits\n",
    "        'subsample': (0.6, 1.0),                          # stabilize with row sampling\n",
    "        'colsample_bytree': (0.5, 1.0),                   # feature subsampling per tree\n",
    "        'colsample_bylevel': (0.5, 1.0),                  # feature subsampling per split level\n",
    "        'reg_alpha': (1e-3, 10, 'log-uniform'),           # L1 penalty for sparsity\n",
    "        'reg_lambda': (0.1, 100, 'log-uniform'),          # L2 penalty to reduce overfitting\n",
    "        'max_delta_step': (0, 10),                        # improves convergence in imbalanced/unstable targets\n",
    "        'n_estimators': (100, 500),                       # enough boosting rounds for complexity\n",
    "        'objective': ['binary:logistic'],  \n",
    "        'booster': ['gbtree', 'dart'],  \n",
    "        'eval_metric': ['mlogloss', 'error', 'auc']\n",
    "    }\n"
   ]
  },
  {
   "cell_type": "markdown",
   "id": "c6c7e6f0",
   "metadata": {
    "papermill": {
     "duration": 0.00622,
     "end_time": "2025-06-10T07:53:23.924651",
     "exception": false,
     "start_time": "2025-06-10T07:53:23.918431",
     "status": "completed"
    },
    "tags": []
   },
   "source": [
    "### NESTED CV PIPELINE"
   ]
  },
  {
   "cell_type": "code",
   "execution_count": 28,
   "id": "d8699bfd",
   "metadata": {
    "execution": {
     "iopub.execute_input": "2025-06-10T07:53:23.940169Z",
     "iopub.status.busy": "2025-06-10T07:53:23.938915Z",
     "iopub.status.idle": "2025-06-10T16:32:14.275346Z",
     "shell.execute_reply": "2025-06-10T16:32:14.274992Z"
    },
    "papermill": {
     "duration": 31130.368721,
     "end_time": "2025-06-10T16:32:14.299618",
     "exception": false,
     "start_time": "2025-06-10T07:53:23.930897",
     "status": "completed"
    },
    "tags": []
   },
   "outputs": [],
   "source": [
    "results = nested_CV_revenge_binary(\n",
    "    outer_cv, inner_cv,\n",
    "    X_train=X_train,\n",
    "    y_train=y_train,\n",
    "    model=classifier,\n",
    "    search_space=search_space_bayes,\n",
    "    n_jobs= n_jobs_sk, n_iter_bsearch = n_iter_bsearch,\n",
    "    verbose=True\n",
    ")\n",
    "\n",
    "(\n",
    "    hyperparam_list,\n",
    "    selected_features_list,\n",
    "    accuracy_array,\n",
    "    f1_array,\n",
    "    precision_array,\n",
    "    recall_array,\n",
    "    roc_auc_array,\n",
    "    predictions_array,\n",
    "    probas_array\n",
    ") = results\n",
    "\n",
    "clear_output(wait = False)"
   ]
  },
  {
   "cell_type": "code",
   "execution_count": 29,
   "id": "d842999a",
   "metadata": {
    "execution": {
     "iopub.execute_input": "2025-06-10T16:32:14.312343Z",
     "iopub.status.busy": "2025-06-10T16:32:14.312176Z",
     "iopub.status.idle": "2025-06-10T16:32:14.316752Z",
     "shell.execute_reply": "2025-06-10T16:32:14.315691Z"
    },
    "papermill": {
     "duration": 0.012119,
     "end_time": "2025-06-10T16:32:14.317713",
     "exception": false,
     "start_time": "2025-06-10T16:32:14.305594",
     "status": "completed"
    },
    "tags": []
   },
   "outputs": [
    {
     "name": "stdout",
     "output_type": "stream",
     "text": [
      "The cross-validated accuracy (cv = 3) is: 0.6636327039813784\n",
      "The cross-validated f1 (cv = 3) is: 0.6662837545393082\n",
      "The cross-validated precision (cv = 3) is: 0.6709418861081117\n",
      "The cross-validated recall (cv = 3) is: 0.6617664564093401\n",
      "The cross-validated AUC (cv = 3) is: 0.7325904943189435\n"
     ]
    }
   ],
   "source": [
    "print(f\"The cross-validated accuracy (cv = {outer_cv}) is: {np.mean(accuracy_array)}\")\n",
    "print(f\"The cross-validated f1 (cv = {outer_cv}) is: {np.mean(f1_array)}\")\n",
    "print(f\"The cross-validated precision (cv = {outer_cv}) is: {np.mean(precision_array)}\")\n",
    "print(f\"The cross-validated recall (cv = {outer_cv}) is: {np.mean(recall_array)}\")\n",
    "print(f\"The cross-validated AUC (cv = {outer_cv}) is: {np.mean(roc_auc_array)}\")"
   ]
  },
  {
   "cell_type": "code",
   "execution_count": 30,
   "id": "6a2d161e",
   "metadata": {
    "execution": {
     "iopub.execute_input": "2025-06-10T16:32:14.330827Z",
     "iopub.status.busy": "2025-06-10T16:32:14.330613Z",
     "iopub.status.idle": "2025-06-10T16:32:14.333852Z",
     "shell.execute_reply": "2025-06-10T16:32:14.333485Z"
    },
    "papermill": {
     "duration": 0.010473,
     "end_time": "2025-06-10T16:32:14.334388",
     "exception": false,
     "start_time": "2025-06-10T16:32:14.323915",
     "status": "completed"
    },
    "tags": []
   },
   "outputs": [],
   "source": [
    "selected_features_in_at_least_one_cv = set([elem for inner_list in selected_features_list for elem in inner_list])"
   ]
  },
  {
   "cell_type": "code",
   "execution_count": 31,
   "id": "1700f1db",
   "metadata": {
    "execution": {
     "iopub.execute_input": "2025-06-10T16:32:14.347061Z",
     "iopub.status.busy": "2025-06-10T16:32:14.346884Z",
     "iopub.status.idle": "2025-06-10T16:32:14.350701Z",
     "shell.execute_reply": "2025-06-10T16:32:14.350360Z"
    },
    "papermill": {
     "duration": 0.010936,
     "end_time": "2025-06-10T16:32:14.351350",
     "exception": false,
     "start_time": "2025-06-10T16:32:14.340414",
     "status": "completed"
    },
    "tags": []
   },
   "outputs": [],
   "source": [
    "search_space_grid = {}\n",
    "\n",
    "for dictionary in hyperparam_list:\n",
    "    for k,v in dictionary.items():\n",
    "        if k in search_space_grid:\n",
    "            search_space_grid[k].update([v])\n",
    "        else:\n",
    "            search_space_grid[k] = set([v])\n",
    "\n",
    "search_space_grid = {k : list(v) for k,v in search_space_grid.items()}"
   ]
  },
  {
   "cell_type": "markdown",
   "id": "2244d9d3",
   "metadata": {
    "papermill": {
     "duration": 0.006943,
     "end_time": "2025-06-10T16:32:14.366794",
     "exception": false,
     "start_time": "2025-06-10T16:32:14.359851",
     "status": "completed"
    },
    "tags": []
   },
   "source": [
    "## Full Dataset Hyperparameter Tuning"
   ]
  },
  {
   "cell_type": "code",
   "execution_count": 32,
   "id": "513024fe",
   "metadata": {
    "execution": {
     "iopub.execute_input": "2025-06-10T16:32:14.380847Z",
     "iopub.status.busy": "2025-06-10T16:32:14.379979Z",
     "iopub.status.idle": "2025-06-10T16:32:16.986604Z",
     "shell.execute_reply": "2025-06-10T16:32:16.986233Z"
    },
    "papermill": {
     "duration": 2.614724,
     "end_time": "2025-06-10T16:32:16.987320",
     "exception": false,
     "start_time": "2025-06-10T16:32:14.372596",
     "status": "completed"
    },
    "tags": []
   },
   "outputs": [
    {
     "name": "stderr",
     "output_type": "stream",
     "text": [
      "/home/ieo7429/.local/lib/python3.10/site-packages/sklearn/model_selection/_search.py:317: UserWarning: The total space of parameters 1 is smaller than n_iter=50. Running 1 iterations. For exhaustive searches, use GridSearchCV.\n",
      "  warnings.warn(\n"
     ]
    },
    {
     "data": {
      "text/html": [
       "<style>#sk-container-id-1 {\n",
       "  /* Definition of color scheme common for light and dark mode */\n",
       "  --sklearn-color-text: #000;\n",
       "  --sklearn-color-text-muted: #666;\n",
       "  --sklearn-color-line: gray;\n",
       "  /* Definition of color scheme for unfitted estimators */\n",
       "  --sklearn-color-unfitted-level-0: #fff5e6;\n",
       "  --sklearn-color-unfitted-level-1: #f6e4d2;\n",
       "  --sklearn-color-unfitted-level-2: #ffe0b3;\n",
       "  --sklearn-color-unfitted-level-3: chocolate;\n",
       "  /* Definition of color scheme for fitted estimators */\n",
       "  --sklearn-color-fitted-level-0: #f0f8ff;\n",
       "  --sklearn-color-fitted-level-1: #d4ebff;\n",
       "  --sklearn-color-fitted-level-2: #b3dbfd;\n",
       "  --sklearn-color-fitted-level-3: cornflowerblue;\n",
       "\n",
       "  /* Specific color for light theme */\n",
       "  --sklearn-color-text-on-default-background: var(--sg-text-color, var(--theme-code-foreground, var(--jp-content-font-color1, black)));\n",
       "  --sklearn-color-background: var(--sg-background-color, var(--theme-background, var(--jp-layout-color0, white)));\n",
       "  --sklearn-color-border-box: var(--sg-text-color, var(--theme-code-foreground, var(--jp-content-font-color1, black)));\n",
       "  --sklearn-color-icon: #696969;\n",
       "\n",
       "  @media (prefers-color-scheme: dark) {\n",
       "    /* Redefinition of color scheme for dark theme */\n",
       "    --sklearn-color-text-on-default-background: var(--sg-text-color, var(--theme-code-foreground, var(--jp-content-font-color1, white)));\n",
       "    --sklearn-color-background: var(--sg-background-color, var(--theme-background, var(--jp-layout-color0, #111)));\n",
       "    --sklearn-color-border-box: var(--sg-text-color, var(--theme-code-foreground, var(--jp-content-font-color1, white)));\n",
       "    --sklearn-color-icon: #878787;\n",
       "  }\n",
       "}\n",
       "\n",
       "#sk-container-id-1 {\n",
       "  color: var(--sklearn-color-text);\n",
       "}\n",
       "\n",
       "#sk-container-id-1 pre {\n",
       "  padding: 0;\n",
       "}\n",
       "\n",
       "#sk-container-id-1 input.sk-hidden--visually {\n",
       "  border: 0;\n",
       "  clip: rect(1px 1px 1px 1px);\n",
       "  clip: rect(1px, 1px, 1px, 1px);\n",
       "  height: 1px;\n",
       "  margin: -1px;\n",
       "  overflow: hidden;\n",
       "  padding: 0;\n",
       "  position: absolute;\n",
       "  width: 1px;\n",
       "}\n",
       "\n",
       "#sk-container-id-1 div.sk-dashed-wrapped {\n",
       "  border: 1px dashed var(--sklearn-color-line);\n",
       "  margin: 0 0.4em 0.5em 0.4em;\n",
       "  box-sizing: border-box;\n",
       "  padding-bottom: 0.4em;\n",
       "  background-color: var(--sklearn-color-background);\n",
       "}\n",
       "\n",
       "#sk-container-id-1 div.sk-container {\n",
       "  /* jupyter's `normalize.less` sets `[hidden] { display: none; }`\n",
       "     but bootstrap.min.css set `[hidden] { display: none !important; }`\n",
       "     so we also need the `!important` here to be able to override the\n",
       "     default hidden behavior on the sphinx rendered scikit-learn.org.\n",
       "     See: https://github.com/scikit-learn/scikit-learn/issues/21755 */\n",
       "  display: inline-block !important;\n",
       "  position: relative;\n",
       "}\n",
       "\n",
       "#sk-container-id-1 div.sk-text-repr-fallback {\n",
       "  display: none;\n",
       "}\n",
       "\n",
       "div.sk-parallel-item,\n",
       "div.sk-serial,\n",
       "div.sk-item {\n",
       "  /* draw centered vertical line to link estimators */\n",
       "  background-image: linear-gradient(var(--sklearn-color-text-on-default-background), var(--sklearn-color-text-on-default-background));\n",
       "  background-size: 2px 100%;\n",
       "  background-repeat: no-repeat;\n",
       "  background-position: center center;\n",
       "}\n",
       "\n",
       "/* Parallel-specific style estimator block */\n",
       "\n",
       "#sk-container-id-1 div.sk-parallel-item::after {\n",
       "  content: \"\";\n",
       "  width: 100%;\n",
       "  border-bottom: 2px solid var(--sklearn-color-text-on-default-background);\n",
       "  flex-grow: 1;\n",
       "}\n",
       "\n",
       "#sk-container-id-1 div.sk-parallel {\n",
       "  display: flex;\n",
       "  align-items: stretch;\n",
       "  justify-content: center;\n",
       "  background-color: var(--sklearn-color-background);\n",
       "  position: relative;\n",
       "}\n",
       "\n",
       "#sk-container-id-1 div.sk-parallel-item {\n",
       "  display: flex;\n",
       "  flex-direction: column;\n",
       "}\n",
       "\n",
       "#sk-container-id-1 div.sk-parallel-item:first-child::after {\n",
       "  align-self: flex-end;\n",
       "  width: 50%;\n",
       "}\n",
       "\n",
       "#sk-container-id-1 div.sk-parallel-item:last-child::after {\n",
       "  align-self: flex-start;\n",
       "  width: 50%;\n",
       "}\n",
       "\n",
       "#sk-container-id-1 div.sk-parallel-item:only-child::after {\n",
       "  width: 0;\n",
       "}\n",
       "\n",
       "/* Serial-specific style estimator block */\n",
       "\n",
       "#sk-container-id-1 div.sk-serial {\n",
       "  display: flex;\n",
       "  flex-direction: column;\n",
       "  align-items: center;\n",
       "  background-color: var(--sklearn-color-background);\n",
       "  padding-right: 1em;\n",
       "  padding-left: 1em;\n",
       "}\n",
       "\n",
       "\n",
       "/* Toggleable style: style used for estimator/Pipeline/ColumnTransformer box that is\n",
       "clickable and can be expanded/collapsed.\n",
       "- Pipeline and ColumnTransformer use this feature and define the default style\n",
       "- Estimators will overwrite some part of the style using the `sk-estimator` class\n",
       "*/\n",
       "\n",
       "/* Pipeline and ColumnTransformer style (default) */\n",
       "\n",
       "#sk-container-id-1 div.sk-toggleable {\n",
       "  /* Default theme specific background. It is overwritten whether we have a\n",
       "  specific estimator or a Pipeline/ColumnTransformer */\n",
       "  background-color: var(--sklearn-color-background);\n",
       "}\n",
       "\n",
       "/* Toggleable label */\n",
       "#sk-container-id-1 label.sk-toggleable__label {\n",
       "  cursor: pointer;\n",
       "  display: flex;\n",
       "  width: 100%;\n",
       "  margin-bottom: 0;\n",
       "  padding: 0.5em;\n",
       "  box-sizing: border-box;\n",
       "  text-align: center;\n",
       "  align-items: start;\n",
       "  justify-content: space-between;\n",
       "  gap: 0.5em;\n",
       "}\n",
       "\n",
       "#sk-container-id-1 label.sk-toggleable__label .caption {\n",
       "  font-size: 0.6rem;\n",
       "  font-weight: lighter;\n",
       "  color: var(--sklearn-color-text-muted);\n",
       "}\n",
       "\n",
       "#sk-container-id-1 label.sk-toggleable__label-arrow:before {\n",
       "  /* Arrow on the left of the label */\n",
       "  content: \"▸\";\n",
       "  float: left;\n",
       "  margin-right: 0.25em;\n",
       "  color: var(--sklearn-color-icon);\n",
       "}\n",
       "\n",
       "#sk-container-id-1 label.sk-toggleable__label-arrow:hover:before {\n",
       "  color: var(--sklearn-color-text);\n",
       "}\n",
       "\n",
       "/* Toggleable content - dropdown */\n",
       "\n",
       "#sk-container-id-1 div.sk-toggleable__content {\n",
       "  max-height: 0;\n",
       "  max-width: 0;\n",
       "  overflow: hidden;\n",
       "  text-align: left;\n",
       "  /* unfitted */\n",
       "  background-color: var(--sklearn-color-unfitted-level-0);\n",
       "}\n",
       "\n",
       "#sk-container-id-1 div.sk-toggleable__content.fitted {\n",
       "  /* fitted */\n",
       "  background-color: var(--sklearn-color-fitted-level-0);\n",
       "}\n",
       "\n",
       "#sk-container-id-1 div.sk-toggleable__content pre {\n",
       "  margin: 0.2em;\n",
       "  border-radius: 0.25em;\n",
       "  color: var(--sklearn-color-text);\n",
       "  /* unfitted */\n",
       "  background-color: var(--sklearn-color-unfitted-level-0);\n",
       "}\n",
       "\n",
       "#sk-container-id-1 div.sk-toggleable__content.fitted pre {\n",
       "  /* unfitted */\n",
       "  background-color: var(--sklearn-color-fitted-level-0);\n",
       "}\n",
       "\n",
       "#sk-container-id-1 input.sk-toggleable__control:checked~div.sk-toggleable__content {\n",
       "  /* Expand drop-down */\n",
       "  max-height: 200px;\n",
       "  max-width: 100%;\n",
       "  overflow: auto;\n",
       "}\n",
       "\n",
       "#sk-container-id-1 input.sk-toggleable__control:checked~label.sk-toggleable__label-arrow:before {\n",
       "  content: \"▾\";\n",
       "}\n",
       "\n",
       "/* Pipeline/ColumnTransformer-specific style */\n",
       "\n",
       "#sk-container-id-1 div.sk-label input.sk-toggleable__control:checked~label.sk-toggleable__label {\n",
       "  color: var(--sklearn-color-text);\n",
       "  background-color: var(--sklearn-color-unfitted-level-2);\n",
       "}\n",
       "\n",
       "#sk-container-id-1 div.sk-label.fitted input.sk-toggleable__control:checked~label.sk-toggleable__label {\n",
       "  background-color: var(--sklearn-color-fitted-level-2);\n",
       "}\n",
       "\n",
       "/* Estimator-specific style */\n",
       "\n",
       "/* Colorize estimator box */\n",
       "#sk-container-id-1 div.sk-estimator input.sk-toggleable__control:checked~label.sk-toggleable__label {\n",
       "  /* unfitted */\n",
       "  background-color: var(--sklearn-color-unfitted-level-2);\n",
       "}\n",
       "\n",
       "#sk-container-id-1 div.sk-estimator.fitted input.sk-toggleable__control:checked~label.sk-toggleable__label {\n",
       "  /* fitted */\n",
       "  background-color: var(--sklearn-color-fitted-level-2);\n",
       "}\n",
       "\n",
       "#sk-container-id-1 div.sk-label label.sk-toggleable__label,\n",
       "#sk-container-id-1 div.sk-label label {\n",
       "  /* The background is the default theme color */\n",
       "  color: var(--sklearn-color-text-on-default-background);\n",
       "}\n",
       "\n",
       "/* On hover, darken the color of the background */\n",
       "#sk-container-id-1 div.sk-label:hover label.sk-toggleable__label {\n",
       "  color: var(--sklearn-color-text);\n",
       "  background-color: var(--sklearn-color-unfitted-level-2);\n",
       "}\n",
       "\n",
       "/* Label box, darken color on hover, fitted */\n",
       "#sk-container-id-1 div.sk-label.fitted:hover label.sk-toggleable__label.fitted {\n",
       "  color: var(--sklearn-color-text);\n",
       "  background-color: var(--sklearn-color-fitted-level-2);\n",
       "}\n",
       "\n",
       "/* Estimator label */\n",
       "\n",
       "#sk-container-id-1 div.sk-label label {\n",
       "  font-family: monospace;\n",
       "  font-weight: bold;\n",
       "  display: inline-block;\n",
       "  line-height: 1.2em;\n",
       "}\n",
       "\n",
       "#sk-container-id-1 div.sk-label-container {\n",
       "  text-align: center;\n",
       "}\n",
       "\n",
       "/* Estimator-specific */\n",
       "#sk-container-id-1 div.sk-estimator {\n",
       "  font-family: monospace;\n",
       "  border: 1px dotted var(--sklearn-color-border-box);\n",
       "  border-radius: 0.25em;\n",
       "  box-sizing: border-box;\n",
       "  margin-bottom: 0.5em;\n",
       "  /* unfitted */\n",
       "  background-color: var(--sklearn-color-unfitted-level-0);\n",
       "}\n",
       "\n",
       "#sk-container-id-1 div.sk-estimator.fitted {\n",
       "  /* fitted */\n",
       "  background-color: var(--sklearn-color-fitted-level-0);\n",
       "}\n",
       "\n",
       "/* on hover */\n",
       "#sk-container-id-1 div.sk-estimator:hover {\n",
       "  /* unfitted */\n",
       "  background-color: var(--sklearn-color-unfitted-level-2);\n",
       "}\n",
       "\n",
       "#sk-container-id-1 div.sk-estimator.fitted:hover {\n",
       "  /* fitted */\n",
       "  background-color: var(--sklearn-color-fitted-level-2);\n",
       "}\n",
       "\n",
       "/* Specification for estimator info (e.g. \"i\" and \"?\") */\n",
       "\n",
       "/* Common style for \"i\" and \"?\" */\n",
       "\n",
       ".sk-estimator-doc-link,\n",
       "a:link.sk-estimator-doc-link,\n",
       "a:visited.sk-estimator-doc-link {\n",
       "  float: right;\n",
       "  font-size: smaller;\n",
       "  line-height: 1em;\n",
       "  font-family: monospace;\n",
       "  background-color: var(--sklearn-color-background);\n",
       "  border-radius: 1em;\n",
       "  height: 1em;\n",
       "  width: 1em;\n",
       "  text-decoration: none !important;\n",
       "  margin-left: 0.5em;\n",
       "  text-align: center;\n",
       "  /* unfitted */\n",
       "  border: var(--sklearn-color-unfitted-level-1) 1pt solid;\n",
       "  color: var(--sklearn-color-unfitted-level-1);\n",
       "}\n",
       "\n",
       ".sk-estimator-doc-link.fitted,\n",
       "a:link.sk-estimator-doc-link.fitted,\n",
       "a:visited.sk-estimator-doc-link.fitted {\n",
       "  /* fitted */\n",
       "  border: var(--sklearn-color-fitted-level-1) 1pt solid;\n",
       "  color: var(--sklearn-color-fitted-level-1);\n",
       "}\n",
       "\n",
       "/* On hover */\n",
       "div.sk-estimator:hover .sk-estimator-doc-link:hover,\n",
       ".sk-estimator-doc-link:hover,\n",
       "div.sk-label-container:hover .sk-estimator-doc-link:hover,\n",
       ".sk-estimator-doc-link:hover {\n",
       "  /* unfitted */\n",
       "  background-color: var(--sklearn-color-unfitted-level-3);\n",
       "  color: var(--sklearn-color-background);\n",
       "  text-decoration: none;\n",
       "}\n",
       "\n",
       "div.sk-estimator.fitted:hover .sk-estimator-doc-link.fitted:hover,\n",
       ".sk-estimator-doc-link.fitted:hover,\n",
       "div.sk-label-container:hover .sk-estimator-doc-link.fitted:hover,\n",
       ".sk-estimator-doc-link.fitted:hover {\n",
       "  /* fitted */\n",
       "  background-color: var(--sklearn-color-fitted-level-3);\n",
       "  color: var(--sklearn-color-background);\n",
       "  text-decoration: none;\n",
       "}\n",
       "\n",
       "/* Span, style for the box shown on hovering the info icon */\n",
       ".sk-estimator-doc-link span {\n",
       "  display: none;\n",
       "  z-index: 9999;\n",
       "  position: relative;\n",
       "  font-weight: normal;\n",
       "  right: .2ex;\n",
       "  padding: .5ex;\n",
       "  margin: .5ex;\n",
       "  width: min-content;\n",
       "  min-width: 20ex;\n",
       "  max-width: 50ex;\n",
       "  color: var(--sklearn-color-text);\n",
       "  box-shadow: 2pt 2pt 4pt #999;\n",
       "  /* unfitted */\n",
       "  background: var(--sklearn-color-unfitted-level-0);\n",
       "  border: .5pt solid var(--sklearn-color-unfitted-level-3);\n",
       "}\n",
       "\n",
       ".sk-estimator-doc-link.fitted span {\n",
       "  /* fitted */\n",
       "  background: var(--sklearn-color-fitted-level-0);\n",
       "  border: var(--sklearn-color-fitted-level-3);\n",
       "}\n",
       "\n",
       ".sk-estimator-doc-link:hover span {\n",
       "  display: block;\n",
       "}\n",
       "\n",
       "/* \"?\"-specific style due to the `<a>` HTML tag */\n",
       "\n",
       "#sk-container-id-1 a.estimator_doc_link {\n",
       "  float: right;\n",
       "  font-size: 1rem;\n",
       "  line-height: 1em;\n",
       "  font-family: monospace;\n",
       "  background-color: var(--sklearn-color-background);\n",
       "  border-radius: 1rem;\n",
       "  height: 1rem;\n",
       "  width: 1rem;\n",
       "  text-decoration: none;\n",
       "  /* unfitted */\n",
       "  color: var(--sklearn-color-unfitted-level-1);\n",
       "  border: var(--sklearn-color-unfitted-level-1) 1pt solid;\n",
       "}\n",
       "\n",
       "#sk-container-id-1 a.estimator_doc_link.fitted {\n",
       "  /* fitted */\n",
       "  border: var(--sklearn-color-fitted-level-1) 1pt solid;\n",
       "  color: var(--sklearn-color-fitted-level-1);\n",
       "}\n",
       "\n",
       "/* On hover */\n",
       "#sk-container-id-1 a.estimator_doc_link:hover {\n",
       "  /* unfitted */\n",
       "  background-color: var(--sklearn-color-unfitted-level-3);\n",
       "  color: var(--sklearn-color-background);\n",
       "  text-decoration: none;\n",
       "}\n",
       "\n",
       "#sk-container-id-1 a.estimator_doc_link.fitted:hover {\n",
       "  /* fitted */\n",
       "  background-color: var(--sklearn-color-fitted-level-3);\n",
       "}\n",
       "</style><div id=\"sk-container-id-1\" class=\"sk-top-container\"><div class=\"sk-text-repr-fallback\"><pre>RandomizedSearchCV(cv=2,\n",
       "                   estimator=XGBClassifier(base_score=None, booster=None,\n",
       "                                           callbacks=None,\n",
       "                                           colsample_bylevel=None,\n",
       "                                           colsample_bynode=None,\n",
       "                                           colsample_bytree=None, device=&#x27;cpu&#x27;,\n",
       "                                           early_stopping_rounds=None,\n",
       "                                           enable_categorical=False,\n",
       "                                           eval_metric=None, feature_types=None,\n",
       "                                           feature_weights=None, gamma=None,\n",
       "                                           grow_policy=None,\n",
       "                                           importance_type=None,\n",
       "                                           interaction_constrai...\n",
       "                                        &#x27;colsample_bytree&#x27;: [0.523144201265553],\n",
       "                                        &#x27;eval_metric&#x27;: [&#x27;error&#x27;],\n",
       "                                        &#x27;gamma&#x27;: [0.3567238036938387],\n",
       "                                        &#x27;learning_rate&#x27;: [0.08063537422501207],\n",
       "                                        &#x27;max_delta_step&#x27;: [8],\n",
       "                                        &#x27;max_depth&#x27;: [13],\n",
       "                                        &#x27;min_child_weight&#x27;: [7],\n",
       "                                        &#x27;n_estimators&#x27;: [295],\n",
       "                                        &#x27;objective&#x27;: [&#x27;binary:logistic&#x27;],\n",
       "                                        &#x27;reg_alpha&#x27;: [6.810265373749562],\n",
       "                                        &#x27;reg_lambda&#x27;: [1.5636486012079303],\n",
       "                                        &#x27;subsample&#x27;: [0.9097624701131881]},\n",
       "                   random_state=49574)</pre><b>In a Jupyter environment, please rerun this cell to show the HTML representation or trust the notebook. <br />On GitHub, the HTML representation is unable to render, please try loading this page with nbviewer.org.</b></div><div class=\"sk-container\" hidden><div class=\"sk-item sk-dashed-wrapped\"><div class=\"sk-label-container\"><div class=\"sk-label fitted sk-toggleable\"><input class=\"sk-toggleable__control sk-hidden--visually\" id=\"sk-estimator-id-1\" type=\"checkbox\" ><label for=\"sk-estimator-id-1\" class=\"sk-toggleable__label fitted sk-toggleable__label-arrow\"><div><div>RandomizedSearchCV</div></div><div><a class=\"sk-estimator-doc-link fitted\" rel=\"noreferrer\" target=\"_blank\" href=\"https://scikit-learn.org/1.6/modules/generated/sklearn.model_selection.RandomizedSearchCV.html\">?<span>Documentation for RandomizedSearchCV</span></a><span class=\"sk-estimator-doc-link fitted\">i<span>Fitted</span></span></div></label><div class=\"sk-toggleable__content fitted\"><pre>RandomizedSearchCV(cv=2,\n",
       "                   estimator=XGBClassifier(base_score=None, booster=None,\n",
       "                                           callbacks=None,\n",
       "                                           colsample_bylevel=None,\n",
       "                                           colsample_bynode=None,\n",
       "                                           colsample_bytree=None, device=&#x27;cpu&#x27;,\n",
       "                                           early_stopping_rounds=None,\n",
       "                                           enable_categorical=False,\n",
       "                                           eval_metric=None, feature_types=None,\n",
       "                                           feature_weights=None, gamma=None,\n",
       "                                           grow_policy=None,\n",
       "                                           importance_type=None,\n",
       "                                           interaction_constrai...\n",
       "                                        &#x27;colsample_bytree&#x27;: [0.523144201265553],\n",
       "                                        &#x27;eval_metric&#x27;: [&#x27;error&#x27;],\n",
       "                                        &#x27;gamma&#x27;: [0.3567238036938387],\n",
       "                                        &#x27;learning_rate&#x27;: [0.08063537422501207],\n",
       "                                        &#x27;max_delta_step&#x27;: [8],\n",
       "                                        &#x27;max_depth&#x27;: [13],\n",
       "                                        &#x27;min_child_weight&#x27;: [7],\n",
       "                                        &#x27;n_estimators&#x27;: [295],\n",
       "                                        &#x27;objective&#x27;: [&#x27;binary:logistic&#x27;],\n",
       "                                        &#x27;reg_alpha&#x27;: [6.810265373749562],\n",
       "                                        &#x27;reg_lambda&#x27;: [1.5636486012079303],\n",
       "                                        &#x27;subsample&#x27;: [0.9097624701131881]},\n",
       "                   random_state=49574)</pre></div> </div></div><div class=\"sk-parallel\"><div class=\"sk-parallel-item\"><div class=\"sk-item\"><div class=\"sk-label-container\"><div class=\"sk-label fitted sk-toggleable\"><input class=\"sk-toggleable__control sk-hidden--visually\" id=\"sk-estimator-id-2\" type=\"checkbox\" ><label for=\"sk-estimator-id-2\" class=\"sk-toggleable__label fitted sk-toggleable__label-arrow\"><div><div>best_estimator_: XGBClassifier</div></div></label><div class=\"sk-toggleable__content fitted\"><pre>XGBClassifier(base_score=None, booster=&#x27;gbtree&#x27;, callbacks=None,\n",
       "              colsample_bylevel=0.5823201338785988, colsample_bynode=None,\n",
       "              colsample_bytree=0.523144201265553, device=&#x27;cpu&#x27;,\n",
       "              early_stopping_rounds=None, enable_categorical=False,\n",
       "              eval_metric=&#x27;error&#x27;, feature_types=None, feature_weights=None,\n",
       "              gamma=0.3567238036938387, grow_policy=None, importance_type=None,\n",
       "              interaction_constraints=None, learning_rate=0.08063537422501207,\n",
       "              max_bin=None, max_cat_threshold=None, max_cat_to_onehot=None,\n",
       "              max_delta_step=8, max_depth=13, max_leaves=None,\n",
       "              min_child_weight=7, missing=nan, monotone_constraints=None,\n",
       "              multi_strategy=None, n_estimators=295, n_jobs=60,\n",
       "              num_parallel_tree=None, ...)</pre></div> </div></div><div class=\"sk-serial\"><div class=\"sk-item\"><div class=\"sk-estimator fitted sk-toggleable\"><input class=\"sk-toggleable__control sk-hidden--visually\" id=\"sk-estimator-id-3\" type=\"checkbox\" ><label for=\"sk-estimator-id-3\" class=\"sk-toggleable__label fitted sk-toggleable__label-arrow\"><div><div>XGBClassifier</div></div><div><a class=\"sk-estimator-doc-link fitted\" rel=\"noreferrer\" target=\"_blank\" href=\"https://xgboost.readthedocs.io/en/release_3.0.0/python/python_api.html#xgboost.XGBClassifier\">?<span>Documentation for XGBClassifier</span></a></div></label><div class=\"sk-toggleable__content fitted\"><pre>XGBClassifier(base_score=None, booster=&#x27;gbtree&#x27;, callbacks=None,\n",
       "              colsample_bylevel=0.5823201338785988, colsample_bynode=None,\n",
       "              colsample_bytree=0.523144201265553, device=&#x27;cpu&#x27;,\n",
       "              early_stopping_rounds=None, enable_categorical=False,\n",
       "              eval_metric=&#x27;error&#x27;, feature_types=None, feature_weights=None,\n",
       "              gamma=0.3567238036938387, grow_policy=None, importance_type=None,\n",
       "              interaction_constraints=None, learning_rate=0.08063537422501207,\n",
       "              max_bin=None, max_cat_threshold=None, max_cat_to_onehot=None,\n",
       "              max_delta_step=8, max_depth=13, max_leaves=None,\n",
       "              min_child_weight=7, missing=nan, monotone_constraints=None,\n",
       "              multi_strategy=None, n_estimators=295, n_jobs=60,\n",
       "              num_parallel_tree=None, ...)</pre></div> </div></div></div></div></div></div></div></div></div>"
      ],
      "text/plain": [
       "RandomizedSearchCV(cv=2,\n",
       "                   estimator=XGBClassifier(base_score=None, booster=None,\n",
       "                                           callbacks=None,\n",
       "                                           colsample_bylevel=None,\n",
       "                                           colsample_bynode=None,\n",
       "                                           colsample_bytree=None, device='cpu',\n",
       "                                           early_stopping_rounds=None,\n",
       "                                           enable_categorical=False,\n",
       "                                           eval_metric=None, feature_types=None,\n",
       "                                           feature_weights=None, gamma=None,\n",
       "                                           grow_policy=None,\n",
       "                                           importance_type=None,\n",
       "                                           interaction_constrai...\n",
       "                                        'colsample_bytree': [0.523144201265553],\n",
       "                                        'eval_metric': ['error'],\n",
       "                                        'gamma': [0.3567238036938387],\n",
       "                                        'learning_rate': [0.08063537422501207],\n",
       "                                        'max_delta_step': [8],\n",
       "                                        'max_depth': [13],\n",
       "                                        'min_child_weight': [7],\n",
       "                                        'n_estimators': [295],\n",
       "                                        'objective': ['binary:logistic'],\n",
       "                                        'reg_alpha': [6.810265373749562],\n",
       "                                        'reg_lambda': [1.5636486012079303],\n",
       "                                        'subsample': [0.9097624701131881]},\n",
       "                   random_state=49574)"
      ]
     },
     "execution_count": 32,
     "metadata": {},
     "output_type": "execute_result"
    }
   ],
   "source": [
    "opti = sk.model_selection.RandomizedSearchCV(estimator = classifier, \n",
    "                                             param_distributions = search_space_grid, \n",
    "                                             cv = inner_cv, \n",
    "                                             n_jobs = n_jobs_sk,\n",
    "                                             n_iter = n_iter_rsearch,\n",
    "                                             random_state = hypertune_random_state_rsearch, \n",
    "                                             verbose = 0, refit = True)\n",
    "opti.fit(X_train, y_train)"
   ]
  },
  {
   "cell_type": "code",
   "execution_count": 33,
   "id": "02b5780f",
   "metadata": {
    "execution": {
     "iopub.execute_input": "2025-06-10T16:32:17.003540Z",
     "iopub.status.busy": "2025-06-10T16:32:17.002790Z",
     "iopub.status.idle": "2025-06-10T16:32:17.006794Z",
     "shell.execute_reply": "2025-06-10T16:32:17.006245Z"
    },
    "papermill": {
     "duration": 0.013158,
     "end_time": "2025-06-10T16:32:17.007388",
     "exception": false,
     "start_time": "2025-06-10T16:32:16.994230",
     "status": "completed"
    },
    "tags": []
   },
   "outputs": [],
   "source": [
    "model = opti.best_estimator_"
   ]
  },
  {
   "cell_type": "markdown",
   "id": "203c1847",
   "metadata": {
    "papermill": {
     "duration": 0.006499,
     "end_time": "2025-06-10T16:32:17.020711",
     "exception": false,
     "start_time": "2025-06-10T16:32:17.014212",
     "status": "completed"
    },
    "tags": []
   },
   "source": [
    "## Feature Importance Analysis"
   ]
  },
  {
   "cell_type": "markdown",
   "id": "b9e85b45",
   "metadata": {
    "papermill": {
     "duration": 0.006273,
     "end_time": "2025-06-10T16:32:17.033124",
     "exception": false,
     "start_time": "2025-06-10T16:32:17.026851",
     "status": "completed"
    },
    "tags": []
   },
   "source": [
    "Let's look at both XGBoost native feature importance and at mean absolute SHAP values as metric of feature importance"
   ]
  },
  {
   "cell_type": "code",
   "execution_count": 34,
   "id": "41844850",
   "metadata": {
    "execution": {
     "iopub.execute_input": "2025-06-10T16:32:17.049936Z",
     "iopub.status.busy": "2025-06-10T16:32:17.048924Z",
     "iopub.status.idle": "2025-06-10T16:32:17.441894Z",
     "shell.execute_reply": "2025-06-10T16:32:17.441332Z"
    },
    "papermill": {
     "duration": 0.403819,
     "end_time": "2025-06-10T16:32:17.443109",
     "exception": false,
     "start_time": "2025-06-10T16:32:17.039290",
     "status": "completed"
    },
    "tags": []
   },
   "outputs": [],
   "source": [
    "explainer = shap.TreeExplainer(model)\n",
    "shap_values = explainer(X_train)\n",
    "shap_values_numpy = explainer.shap_values(X_train)"
   ]
  },
  {
   "cell_type": "code",
   "execution_count": 35,
   "id": "e52ec716",
   "metadata": {
    "execution": {
     "iopub.execute_input": "2025-06-10T16:32:17.458004Z",
     "iopub.status.busy": "2025-06-10T16:32:17.457778Z",
     "iopub.status.idle": "2025-06-10T16:32:17.576296Z",
     "shell.execute_reply": "2025-06-10T16:32:17.575856Z"
    },
    "papermill": {
     "duration": 0.126868,
     "end_time": "2025-06-10T16:32:17.577426",
     "exception": false,
     "start_time": "2025-06-10T16:32:17.450558",
     "status": "completed"
    },
    "tags": []
   },
   "outputs": [
    {
     "name": "stdout",
     "output_type": "stream",
     "text": [
      "regrout / with CNA\n"
     ]
    },
    {
     "data": {
      "image/png": "[encoded data removed]",
      "text/plain": [
       "<Figure size 2500x1000 with 1 Axes>"
      ]
     },
     "metadata": {},
     "output_type": "display_data"
    }
   ],
   "source": [
    "if plot_shap:\n",
    "    print(\" / \".join([mode, condition]))\n",
    "    plt.figure(figsize = (100,25))\n",
    "    summary_plot = shap.summary_plot(shap_values, X_train, \n",
    "                                     plot_type='bar', max_display=10, plot_size= (25,10))\n",
    "    plt.show()"
   ]
  },
  {
   "cell_type": "markdown",
   "id": "5d77c6f8",
   "metadata": {
    "papermill": {
     "duration": 0.006978,
     "end_time": "2025-06-10T16:32:17.592047",
     "exception": false,
     "start_time": "2025-06-10T16:32:17.585069",
     "status": "completed"
    },
    "tags": []
   },
   "source": [
    "## Feature Selection"
   ]
  },
  {
   "cell_type": "markdown",
   "id": "0f0d72ea",
   "metadata": {
    "papermill": {
     "duration": 0.006909,
     "end_time": "2025-06-10T16:32:17.605931",
     "exception": false,
     "start_time": "2025-06-10T16:32:17.599022",
     "status": "completed"
    },
    "tags": []
   },
   "source": [
    "Let's perform Feature Selection using mean absolute SHAP values"
   ]
  },
  {
   "cell_type": "code",
   "execution_count": 36,
   "id": "e0ca8aff",
   "metadata": {
    "execution": {
     "iopub.execute_input": "2025-06-10T16:32:17.622407Z",
     "iopub.status.busy": "2025-06-10T16:32:17.621634Z",
     "iopub.status.idle": "2025-06-10T16:36:09.585688Z",
     "shell.execute_reply": "2025-06-10T16:36:09.585163Z"
    },
    "papermill": {
     "duration": 231.97531,
     "end_time": "2025-06-10T16:36:09.588299",
     "exception": false,
     "start_time": "2025-06-10T16:32:17.612989",
     "status": "completed"
    },
    "tags": []
   },
   "outputs": [
    {
     "name": "stdout",
     "output_type": "stream",
     "text": [
      "> threshold=0.0, features=252, gini coefficient=0.4392386993352053\n"
     ]
    },
    {
     "name": "stdout",
     "output_type": "stream",
     "text": [
      "> threshold=0.0, features=252, gini coefficient=0.4392386993352053\n"
     ]
    },
    {
     "name": "stdout",
     "output_type": "stream",
     "text": [
      "> threshold=0.0016375049017369747, features=250, gini coefficient=0.4436225508126421\n"
     ]
    },
    {
     "name": "stdout",
     "output_type": "stream",
     "text": [
      "> threshold=0.0017155009554699063, features=249, gini coefficient=0.44703928366978896\n"
     ]
    },
    {
     "name": "stdout",
     "output_type": "stream",
     "text": [
      "> threshold=0.0020425396505743265, features=248, gini coefficient=0.43978278928306813\n"
     ]
    },
    {
     "name": "stdout",
     "output_type": "stream",
     "text": [
      "> threshold=0.0033693418372422457, features=247, gini coefficient=0.45229438783687237\n"
     ]
    },
    {
     "name": "stdout",
     "output_type": "stream",
     "text": [
      "> threshold=0.003519022837281227, features=246, gini coefficient=0.4401015237875512\n"
     ]
    },
    {
     "name": "stdout",
     "output_type": "stream",
     "text": [
      "> threshold=0.0052380808629095554, features=245, gini coefficient=0.4392142566176034\n"
     ]
    },
    {
     "name": "stdout",
     "output_type": "stream",
     "text": [
      "> threshold=0.005400603637099266, features=244, gini coefficient=0.453455840434156\n"
     ]
    },
    {
     "name": "stdout",
     "output_type": "stream",
     "text": [
      "> threshold=0.005595954600721598, features=243, gini coefficient=0.4468980071245726\n"
     ]
    },
    {
     "name": "stdout",
     "output_type": "stream",
     "text": [
      "> threshold=0.006045742426067591, features=242, gini coefficient=0.4491687235874383\n"
     ]
    },
    {
     "name": "stdout",
     "output_type": "stream",
     "text": [
      "> threshold=0.006156153976917267, features=241, gini coefficient=0.4515304257086963\n"
     ]
    },
    {
     "name": "stdout",
     "output_type": "stream",
     "text": [
      "> threshold=0.006239843554794788, features=240, gini coefficient=0.44687970163290225\n"
     ]
    },
    {
     "name": "stdout",
     "output_type": "stream",
     "text": [
      "> threshold=0.006265225354582071, features=239, gini coefficient=0.44682886885124873\n"
     ]
    },
    {
     "name": "stdout",
     "output_type": "stream",
     "text": [
      "> threshold=0.0063901254907250404, features=238, gini coefficient=0.4334426095753249\n"
     ]
    },
    {
     "name": "stdout",
     "output_type": "stream",
     "text": [
      "> threshold=0.006567227188497782, features=237, gini coefficient=0.44522398105475824\n"
     ]
    },
    {
     "name": "stdout",
     "output_type": "stream",
     "text": [
      "> threshold=0.006627062801271677, features=236, gini coefficient=0.45013158482856686\n"
     ]
    },
    {
     "name": "stdout",
     "output_type": "stream",
     "text": [
      "> threshold=0.006640799809247255, features=235, gini coefficient=0.45905441568173366\n"
     ]
    },
    {
     "name": "stdout",
     "output_type": "stream",
     "text": [
      "> threshold=0.006754537578672171, features=234, gini coefficient=0.44631221047238545\n"
     ]
    },
    {
     "name": "stdout",
     "output_type": "stream",
     "text": [
      "> threshold=0.006916780024766922, features=233, gini coefficient=0.43866485459876425\n"
     ]
    },
    {
     "name": "stdout",
     "output_type": "stream",
     "text": [
      "> threshold=0.006991158239543438, features=232, gini coefficient=0.4482826975279566\n"
     ]
    },
    {
     "name": "stdout",
     "output_type": "stream",
     "text": [
      "> threshold=0.007018707226961851, features=231, gini coefficient=0.43995603203268496\n"
     ]
    },
    {
     "name": "stdout",
     "output_type": "stream",
     "text": [
      "> threshold=0.007283803075551987, features=230, gini coefficient=0.4394428927310944\n"
     ]
    },
    {
     "name": "stdout",
     "output_type": "stream",
     "text": [
      "> threshold=0.00731156999245286, features=229, gini coefficient=0.4490308530824344\n"
     ]
    },
    {
     "name": "stdout",
     "output_type": "stream",
     "text": [
      "> threshold=0.007384927943348885, features=228, gini coefficient=0.4422378688526475\n"
     ]
    },
    {
     "name": "stdout",
     "output_type": "stream",
     "text": [
      "> threshold=0.007389831822365522, features=227, gini coefficient=0.44363849627535124\n"
     ]
    },
    {
     "name": "stdout",
     "output_type": "stream",
     "text": [
      "> threshold=0.007437342312186956, features=226, gini coefficient=0.4529480385337097\n"
     ]
    },
    {
     "name": "stdout",
     "output_type": "stream",
     "text": [
      "> threshold=0.007501067128032446, features=225, gini coefficient=0.4563656725363159\n"
     ]
    },
    {
     "name": "stdout",
     "output_type": "stream",
     "text": [
      "> threshold=0.007609470747411251, features=224, gini coefficient=0.4467692691480267\n"
     ]
    },
    {
     "name": "stdout",
     "output_type": "stream",
     "text": [
      "> threshold=0.007620090618729591, features=223, gini coefficient=0.4614158171614102\n"
     ]
    },
    {
     "name": "stdout",
     "output_type": "stream",
     "text": [
      "> threshold=0.007803816813975573, features=222, gini coefficient=0.44390850026659423\n"
     ]
    },
    {
     "name": "stdout",
     "output_type": "stream",
     "text": [
      "> threshold=0.007858315482735634, features=221, gini coefficient=0.4591392944046844\n"
     ]
    },
    {
     "name": "stdout",
     "output_type": "stream",
     "text": [
      "> threshold=0.007889442145824432, features=220, gini coefficient=0.45574957381348635\n"
     ]
    },
    {
     "name": "stdout",
     "output_type": "stream",
     "text": [
      "> threshold=0.00790485180914402, features=219, gini coefficient=0.4586354325447789\n"
     ]
    },
    {
     "name": "stdout",
     "output_type": "stream",
     "text": [
      "> threshold=0.007943209260702133, features=218, gini coefficient=0.450954535815307\n"
     ]
    },
    {
     "name": "stdout",
     "output_type": "stream",
     "text": [
      "> threshold=0.007985621690750122, features=217, gini coefficient=0.4499957713392042\n"
     ]
    },
    {
     "name": "stdout",
     "output_type": "stream",
     "text": [
      "> threshold=0.008133911527693272, features=216, gini coefficient=0.46920136429396\n"
     ]
    },
    {
     "name": "stdout",
     "output_type": "stream",
     "text": [
      "> threshold=0.008295620791614056, features=215, gini coefficient=0.4517067424076908\n"
     ]
    },
    {
     "name": "stdout",
     "output_type": "stream",
     "text": [
      "> threshold=0.008357643149793148, features=214, gini coefficient=0.4527693414088023\n"
     ]
    },
    {
     "name": "stdout",
     "output_type": "stream",
     "text": [
      "> threshold=0.008383982814848423, features=213, gini coefficient=0.4476978832295576\n"
     ]
    },
    {
     "name": "stdout",
     "output_type": "stream",
     "text": [
      "> threshold=0.008533976972103119, features=212, gini coefficient=0.4595198117096535\n"
     ]
    },
    {
     "name": "stdout",
     "output_type": "stream",
     "text": [
      "> threshold=0.008720261976122856, features=211, gini coefficient=0.45086746820805057\n"
     ]
    },
    {
     "name": "stdout",
     "output_type": "stream",
     "text": [
      "> threshold=0.008741800673305988, features=210, gini coefficient=0.4560576968885359\n"
     ]
    },
    {
     "name": "stdout",
     "output_type": "stream",
     "text": [
      "> threshold=0.008875519037246704, features=209, gini coefficient=0.45322006491321076\n"
     ]
    },
    {
     "name": "stdout",
     "output_type": "stream",
     "text": [
      "> threshold=0.00889202393591404, features=208, gini coefficient=0.44985547752725386\n"
     ]
    },
    {
     "name": "stdout",
     "output_type": "stream",
     "text": [
      "> threshold=0.008930000476539135, features=207, gini coefficient=0.45662409593120357\n"
     ]
    },
    {
     "name": "stdout",
     "output_type": "stream",
     "text": [
      "> threshold=0.009406261146068573, features=206, gini coefficient=0.4553538324134837\n"
     ]
    },
    {
     "name": "stdout",
     "output_type": "stream",
     "text": [
      "> threshold=0.009407446719706059, features=205, gini coefficient=0.45267066891858765\n"
     ]
    },
    {
     "name": "stdout",
     "output_type": "stream",
     "text": [
      "> threshold=0.009542090818285942, features=204, gini coefficient=0.4585700590134094\n"
     ]
    },
    {
     "name": "stdout",
     "output_type": "stream",
     "text": [
      "> threshold=0.009664105251431465, features=203, gini coefficient=0.4624298120155127\n"
     ]
    },
    {
     "name": "stdout",
     "output_type": "stream",
     "text": [
      "> threshold=0.009699651971459389, features=202, gini coefficient=0.45912901976212805\n"
     ]
    },
    {
     "name": "stdout",
     "output_type": "stream",
     "text": [
      "> threshold=0.009775656275451183, features=201, gini coefficient=0.46376848084446765\n"
     ]
    },
    {
     "name": "stdout",
     "output_type": "stream",
     "text": [
      "> threshold=0.009777555242180824, features=200, gini coefficient=0.4591819383048943\n"
     ]
    },
    {
     "name": "stdout",
     "output_type": "stream",
     "text": [
      "> threshold=0.00983785092830658, features=199, gini coefficient=0.46544817318069687\n"
     ]
    },
    {
     "name": "stdout",
     "output_type": "stream",
     "text": [
      "> threshold=0.00984394084662199, features=198, gini coefficient=0.44872477506946373\n"
     ]
    },
    {
     "name": "stdout",
     "output_type": "stream",
     "text": [
      "> threshold=0.00995591189712286, features=197, gini coefficient=0.46794972502957477\n"
     ]
    },
    {
     "name": "stdout",
     "output_type": "stream",
     "text": [
      "> threshold=0.010041268542408943, features=196, gini coefficient=0.473027237566205\n"
     ]
    },
    {
     "name": "stdout",
     "output_type": "stream",
     "text": [
      "> threshold=0.010055824182927608, features=195, gini coefficient=0.4624763155068907\n"
     ]
    },
    {
     "name": "stdout",
     "output_type": "stream",
     "text": [
      "> threshold=0.010077835991978645, features=194, gini coefficient=0.46397370142000416\n"
     ]
    },
    {
     "name": "stdout",
     "output_type": "stream",
     "text": [
      "> threshold=0.01011851616203785, features=193, gini coefficient=0.4544613764080958\n"
     ]
    },
    {
     "name": "stdout",
     "output_type": "stream",
     "text": [
      "> threshold=0.010201191529631615, features=192, gini coefficient=0.4594262267816417\n"
     ]
    },
    {
     "name": "stdout",
     "output_type": "stream",
     "text": [
      "> threshold=0.010328195989131927, features=191, gini coefficient=0.4581076817207935\n"
     ]
    },
    {
     "name": "stdout",
     "output_type": "stream",
     "text": [
      "> threshold=0.010402059182524681, features=190, gini coefficient=0.46562326859695935\n"
     ]
    },
    {
     "name": "stdout",
     "output_type": "stream",
     "text": [
      "> threshold=0.010430681519210339, features=189, gini coefficient=0.45140689606328155\n"
     ]
    },
    {
     "name": "stdout",
     "output_type": "stream",
     "text": [
      "> threshold=0.010491514578461647, features=188, gini coefficient=0.45777721563507767\n"
     ]
    },
    {
     "name": "stdout",
     "output_type": "stream",
     "text": [
      "> threshold=0.010748680680990219, features=187, gini coefficient=0.45981974144439086\n"
     ]
    },
    {
     "name": "stdout",
     "output_type": "stream",
     "text": [
      "> threshold=0.01088779792189598, features=186, gini coefficient=0.45531999290831193\n"
     ]
    },
    {
     "name": "stdout",
     "output_type": "stream",
     "text": [
      "> threshold=0.010928758420050144, features=185, gini coefficient=0.4654415140299749\n"
     ]
    },
    {
     "name": "stdout",
     "output_type": "stream",
     "text": [
      "> threshold=0.01098132785409689, features=184, gini coefficient=0.4609822272455376\n"
     ]
    },
    {
     "name": "stdout",
     "output_type": "stream",
     "text": [
      "> threshold=0.01100913342088461, features=183, gini coefficient=0.45265043069037747\n"
     ]
    },
    {
     "name": "stdout",
     "output_type": "stream",
     "text": [
      "> threshold=0.011042038910090923, features=182, gini coefficient=0.455690008642778\n"
     ]
    },
    {
     "name": "stdout",
     "output_type": "stream",
     "text": [
      "> threshold=0.01114649511873722, features=181, gini coefficient=0.4547014184156788\n"
     ]
    },
    {
     "name": "stdout",
     "output_type": "stream",
     "text": [
      "> threshold=0.011152594350278378, features=180, gini coefficient=0.46669756863131073\n"
     ]
    },
    {
     "name": "stdout",
     "output_type": "stream",
     "text": [
      "> threshold=0.01125770341604948, features=179, gini coefficient=0.47585397748798863\n"
     ]
    },
    {
     "name": "stdout",
     "output_type": "stream",
     "text": [
      "> threshold=0.011268976144492626, features=178, gini coefficient=0.46795907941045867\n"
     ]
    },
    {
     "name": "stdout",
     "output_type": "stream",
     "text": [
      "> threshold=0.011353375390172005, features=177, gini coefficient=0.45793199479293056\n"
     ]
    },
    {
     "name": "stdout",
     "output_type": "stream",
     "text": [
      "> threshold=0.01143948920071125, features=176, gini coefficient=0.4686871940179408\n"
     ]
    },
    {
     "name": "stdout",
     "output_type": "stream",
     "text": [
      "> threshold=0.011630290187895298, features=175, gini coefficient=0.4710822865319543\n"
     ]
    },
    {
     "name": "stdout",
     "output_type": "stream",
     "text": [
      "> threshold=0.011752743273973465, features=174, gini coefficient=0.47050421856938696\n"
     ]
    },
    {
     "name": "stdout",
     "output_type": "stream",
     "text": [
      "> threshold=0.011776943691074848, features=173, gini coefficient=0.4704405414545261\n"
     ]
    },
    {
     "name": "stdout",
     "output_type": "stream",
     "text": [
      "> threshold=0.011782525107264519, features=172, gini coefficient=0.4637283707742219\n"
     ]
    },
    {
     "name": "stdout",
     "output_type": "stream",
     "text": [
      "> threshold=0.011928758583962917, features=171, gini coefficient=0.46760938619579184\n"
     ]
    },
    {
     "name": "stdout",
     "output_type": "stream",
     "text": [
      "> threshold=0.012246636673808098, features=170, gini coefficient=0.46381667730994514\n"
     ]
    },
    {
     "name": "stdout",
     "output_type": "stream",
     "text": [
      "> threshold=0.012313325889408588, features=169, gini coefficient=0.4705382202066076\n"
     ]
    },
    {
     "name": "stdout",
     "output_type": "stream",
     "text": [
      "> threshold=0.012621749192476273, features=168, gini coefficient=0.46287599960378123\n"
     ]
    },
    {
     "name": "stdout",
     "output_type": "stream",
     "text": [
      "> threshold=0.012685821391642094, features=167, gini coefficient=0.46164328303198376\n"
     ]
    },
    {
     "name": "stdout",
     "output_type": "stream",
     "text": [
      "> threshold=0.01269124448299408, features=166, gini coefficient=0.4626954799807429\n"
     ]
    },
    {
     "name": "stdout",
     "output_type": "stream",
     "text": [
      "> threshold=0.012804660946130753, features=165, gini coefficient=0.47549721478472107\n"
     ]
    },
    {
     "name": "stdout",
     "output_type": "stream",
     "text": [
      "> threshold=0.01292793545871973, features=164, gini coefficient=0.47626435981994464\n"
     ]
    },
    {
     "name": "stdout",
     "output_type": "stream",
     "text": [
      "> threshold=0.013101031072437763, features=163, gini coefficient=0.46343284764843706\n"
     ]
    },
    {
     "name": "stdout",
     "output_type": "stream",
     "text": [
      "> threshold=0.013141919858753681, features=162, gini coefficient=0.4582786548521234\n"
     ]
    },
    {
     "name": "stdout",
     "output_type": "stream",
     "text": [
      "> threshold=0.013307162560522556, features=161, gini coefficient=0.46954145513875734\n"
     ]
    },
    {
     "name": "stdout",
     "output_type": "stream",
     "text": [
      "> threshold=0.01342456042766571, features=160, gini coefficient=0.474887228858916\n"
     ]
    },
    {
     "name": "stdout",
     "output_type": "stream",
     "text": [
      "> threshold=0.013466251082718372, features=159, gini coefficient=0.4658602269784714\n"
     ]
    },
    {
     "name": "stdout",
     "output_type": "stream",
     "text": [
      "> threshold=0.013540362939238548, features=158, gini coefficient=0.46731182777949143\n"
     ]
    },
    {
     "name": "stdout",
     "output_type": "stream",
     "text": [
      "> threshold=0.013562486506998539, features=157, gini coefficient=0.467435145770956\n"
     ]
    },
    {
     "name": "stdout",
     "output_type": "stream",
     "text": [
      "> threshold=0.013575962744653225, features=156, gini coefficient=0.47282731416712687\n"
     ]
    },
    {
     "name": "stdout",
     "output_type": "stream",
     "text": [
      "> threshold=0.013645532540977001, features=155, gini coefficient=0.46546477882022597\n"
     ]
    },
    {
     "name": "stdout",
     "output_type": "stream",
     "text": [
      "> threshold=0.013645615428686142, features=154, gini coefficient=0.4667763228882835\n"
     ]
    },
    {
     "name": "stdout",
     "output_type": "stream",
     "text": [
      "> threshold=0.013744451105594635, features=153, gini coefficient=0.4673180915139584\n"
     ]
    },
    {
     "name": "stdout",
     "output_type": "stream",
     "text": [
      "> threshold=0.013803921639919281, features=152, gini coefficient=0.47657476551040856\n"
     ]
    },
    {
     "name": "stdout",
     "output_type": "stream",
     "text": [
      "> threshold=0.01387390960007906, features=151, gini coefficient=0.4725871519598329\n"
     ]
    },
    {
     "name": "stdout",
     "output_type": "stream",
     "text": [
      "> threshold=0.013902571983635426, features=150, gini coefficient=0.4620227332172281\n"
     ]
    },
    {
     "name": "stdout",
     "output_type": "stream",
     "text": [
      "> threshold=0.013912111520767212, features=149, gini coefficient=0.4733589721796855\n"
     ]
    },
    {
     "name": "stdout",
     "output_type": "stream",
     "text": [
      "> threshold=0.013959278352558613, features=148, gini coefficient=0.4773295639929167\n"
     ]
    },
    {
     "name": "stdout",
     "output_type": "stream",
     "text": [
      "> threshold=0.013965994119644165, features=147, gini coefficient=0.47368228424803793\n"
     ]
    },
    {
     "name": "stdout",
     "output_type": "stream",
     "text": [
      "> threshold=0.014144068583846092, features=146, gini coefficient=0.4797758708538852\n"
     ]
    },
    {
     "name": "stdout",
     "output_type": "stream",
     "text": [
      "> threshold=0.014272825792431831, features=145, gini coefficient=0.47779358272514116\n"
     ]
    },
    {
     "name": "stdout",
     "output_type": "stream",
     "text": [
      "> threshold=0.0145295774564147, features=144, gini coefficient=0.48721085213460646\n"
     ]
    },
    {
     "name": "stdout",
     "output_type": "stream",
     "text": [
      "> threshold=0.014561856165528297, features=143, gini coefficient=0.4770593677959797\n"
     ]
    },
    {
     "name": "stdout",
     "output_type": "stream",
     "text": [
      "> threshold=0.014573106542229652, features=142, gini coefficient=0.46751171066927477\n"
     ]
    },
    {
     "name": "stdout",
     "output_type": "stream",
     "text": [
      "> threshold=0.01473914086818695, features=141, gini coefficient=0.48230948562666254\n"
     ]
    },
    {
     "name": "stdout",
     "output_type": "stream",
     "text": [
      "> threshold=0.01476391963660717, features=140, gini coefficient=0.47763556971529564\n"
     ]
    },
    {
     "name": "stdout",
     "output_type": "stream",
     "text": [
      "> threshold=0.014823396690189838, features=139, gini coefficient=0.47736951638998204\n"
     ]
    },
    {
     "name": "stdout",
     "output_type": "stream",
     "text": [
      "> threshold=0.014839604496955872, features=138, gini coefficient=0.4809107415134667\n"
     ]
    },
    {
     "name": "stdout",
     "output_type": "stream",
     "text": [
      "> threshold=0.014847936108708382, features=137, gini coefficient=0.48680678979475633\n"
     ]
    },
    {
     "name": "stdout",
     "output_type": "stream",
     "text": [
      "> threshold=0.015001125633716583, features=136, gini coefficient=0.4783006033952303\n"
     ]
    },
    {
     "name": "stdout",
     "output_type": "stream",
     "text": [
      "> threshold=0.015392184257507324, features=135, gini coefficient=0.47788206130678046\n"
     ]
    },
    {
     "name": "stdout",
     "output_type": "stream",
     "text": [
      "> threshold=0.015781711786985397, features=134, gini coefficient=0.4748617145627211\n"
     ]
    },
    {
     "name": "stdout",
     "output_type": "stream",
     "text": [
      "> threshold=0.0158846452832222, features=133, gini coefficient=0.48665368551802546\n"
     ]
    },
    {
     "name": "stdout",
     "output_type": "stream",
     "text": [
      "> threshold=0.01590801402926445, features=132, gini coefficient=0.4869810758518426\n"
     ]
    },
    {
     "name": "stdout",
     "output_type": "stream",
     "text": [
      "> threshold=0.015992872416973114, features=131, gini coefficient=0.478802327220905\n"
     ]
    },
    {
     "name": "stdout",
     "output_type": "stream",
     "text": [
      "> threshold=0.016024064272642136, features=130, gini coefficient=0.48046652071990403\n"
     ]
    },
    {
     "name": "stdout",
     "output_type": "stream",
     "text": [
      "> threshold=0.016052205115556717, features=129, gini coefficient=0.49035204925910736\n"
     ]
    },
    {
     "name": "stdout",
     "output_type": "stream",
     "text": [
      "> threshold=0.01609080471098423, features=128, gini coefficient=0.4975063189214355\n"
     ]
    },
    {
     "name": "stdout",
     "output_type": "stream",
     "text": [
      "> threshold=0.016242779791355133, features=127, gini coefficient=0.49630798384450836\n"
     ]
    },
    {
     "name": "stdout",
     "output_type": "stream",
     "text": [
      "> threshold=0.016287898644804955, features=126, gini coefficient=0.49740442016879216\n"
     ]
    },
    {
     "name": "stdout",
     "output_type": "stream",
     "text": [
      "> threshold=0.016311056911945343, features=125, gini coefficient=0.49353192434389237\n"
     ]
    },
    {
     "name": "stdout",
     "output_type": "stream",
     "text": [
      "> threshold=0.016630304977297783, features=124, gini coefficient=0.4912513779665585\n"
     ]
    },
    {
     "name": "stdout",
     "output_type": "stream",
     "text": [
      "> threshold=0.016689416021108627, features=123, gini coefficient=0.49785941063418626\n"
     ]
    },
    {
     "name": "stdout",
     "output_type": "stream",
     "text": [
      "> threshold=0.017105814069509506, features=122, gini coefficient=0.49632904713280435\n"
     ]
    },
    {
     "name": "stdout",
     "output_type": "stream",
     "text": [
      "> threshold=0.01731998287141323, features=121, gini coefficient=0.4952876374067421\n"
     ]
    },
    {
     "name": "stdout",
     "output_type": "stream",
     "text": [
      "> threshold=0.01734033413231373, features=120, gini coefficient=0.5001550159386796\n"
     ]
    },
    {
     "name": "stdout",
     "output_type": "stream",
     "text": [
      "> threshold=0.017534039914608, features=119, gini coefficient=0.5100532135870447\n"
     ]
    },
    {
     "name": "stdout",
     "output_type": "stream",
     "text": [
      "> threshold=0.017779337242245674, features=118, gini coefficient=0.5024099949877437\n"
     ]
    },
    {
     "name": "stdout",
     "output_type": "stream",
     "text": [
      "> threshold=0.017831290140748024, features=117, gini coefficient=0.5023673935890892\n"
     ]
    },
    {
     "name": "stdout",
     "output_type": "stream",
     "text": [
      "> threshold=0.01785316690802574, features=116, gini coefficient=0.5116835308663588\n"
     ]
    },
    {
     "name": "stdout",
     "output_type": "stream",
     "text": [
      "> threshold=0.01814107410609722, features=115, gini coefficient=0.50619126657768\n"
     ]
    },
    {
     "name": "stdout",
     "output_type": "stream",
     "text": [
      "> threshold=0.018261117860674858, features=114, gini coefficient=0.5009987090803131\n"
     ]
    },
    {
     "name": "stdout",
     "output_type": "stream",
     "text": [
      "> threshold=0.01832561381161213, features=113, gini coefficient=0.5041678965554213\n"
     ]
    },
    {
     "name": "stdout",
     "output_type": "stream",
     "text": [
      "> threshold=0.01854308694601059, features=112, gini coefficient=0.5087418415174686\n"
     ]
    },
    {
     "name": "stdout",
     "output_type": "stream",
     "text": [
      "> threshold=0.01892305724322796, features=111, gini coefficient=0.5152074807610801\n"
     ]
    },
    {
     "name": "stdout",
     "output_type": "stream",
     "text": [
      "> threshold=0.019036181271076202, features=110, gini coefficient=0.5077194332257144\n"
     ]
    },
    {
     "name": "stdout",
     "output_type": "stream",
     "text": [
      "> threshold=0.01908748783171177, features=109, gini coefficient=0.5089628634014436\n"
     ]
    },
    {
     "name": "stdout",
     "output_type": "stream",
     "text": [
      "> threshold=0.019087517634034157, features=108, gini coefficient=0.5081571862204233\n"
     ]
    },
    {
     "name": "stdout",
     "output_type": "stream",
     "text": [
      "> threshold=0.019099965691566467, features=107, gini coefficient=0.5055577372297761\n"
     ]
    },
    {
     "name": "stdout",
     "output_type": "stream",
     "text": [
      "> threshold=0.019132258370518684, features=106, gini coefficient=0.5053876803755974\n"
     ]
    },
    {
     "name": "stdout",
     "output_type": "stream",
     "text": [
      "> threshold=0.019360560923814774, features=105, gini coefficient=0.51247612948127\n"
     ]
    },
    {
     "name": "stdout",
     "output_type": "stream",
     "text": [
      "> threshold=0.01942986249923706, features=104, gini coefficient=0.5104293343392324\n"
     ]
    },
    {
     "name": "stdout",
     "output_type": "stream",
     "text": [
      "> threshold=0.01954163983464241, features=103, gini coefficient=0.5073198881127042\n"
     ]
    },
    {
     "name": "stdout",
     "output_type": "stream",
     "text": [
      "> threshold=0.019570786505937576, features=102, gini coefficient=0.5155050775995457\n"
     ]
    },
    {
     "name": "stdout",
     "output_type": "stream",
     "text": [
      "> threshold=0.019576139748096466, features=101, gini coefficient=0.5085611432550806\n"
     ]
    },
    {
     "name": "stdout",
     "output_type": "stream",
     "text": [
      "> threshold=0.020241817459464073, features=100, gini coefficient=0.5032963573597553\n"
     ]
    },
    {
     "name": "stdout",
     "output_type": "stream",
     "text": [
      "> threshold=0.020410383120179176, features=99, gini coefficient=0.5167855858759156\n"
     ]
    },
    {
     "name": "stdout",
     "output_type": "stream",
     "text": [
      "> threshold=0.020579515025019646, features=98, gini coefficient=0.5136090157952802\n"
     ]
    },
    {
     "name": "stdout",
     "output_type": "stream",
     "text": [
      "> threshold=0.021084247156977654, features=97, gini coefficient=0.5126055929997508\n"
     ]
    },
    {
     "name": "stdout",
     "output_type": "stream",
     "text": [
      "> threshold=0.02122596465051174, features=96, gini coefficient=0.529794398902727\n"
     ]
    },
    {
     "name": "stdout",
     "output_type": "stream",
     "text": [
      "> threshold=0.02132219821214676, features=95, gini coefficient=0.5091645790352687\n"
     ]
    },
    {
     "name": "stdout",
     "output_type": "stream",
     "text": [
      "> threshold=0.021514855325222015, features=94, gini coefficient=0.5144231146676023\n"
     ]
    },
    {
     "name": "stdout",
     "output_type": "stream",
     "text": [
      "> threshold=0.021856820210814476, features=93, gini coefficient=0.5153032616886134\n"
     ]
    },
    {
     "name": "stdout",
     "output_type": "stream",
     "text": [
      "> threshold=0.022265853360295296, features=92, gini coefficient=0.5272270434788418\n"
     ]
    },
    {
     "name": "stdout",
     "output_type": "stream",
     "text": [
      "> threshold=0.022384408861398697, features=91, gini coefficient=0.5064504133325038\n"
     ]
    },
    {
     "name": "stdout",
     "output_type": "stream",
     "text": [
      "> threshold=0.02283870242536068, features=90, gini coefficient=0.509430366725862\n"
     ]
    },
    {
     "name": "stdout",
     "output_type": "stream",
     "text": [
      "> threshold=0.0233752503991127, features=89, gini coefficient=0.5120966670578543\n"
     ]
    },
    {
     "name": "stdout",
     "output_type": "stream",
     "text": [
      "> threshold=0.023477740585803986, features=88, gini coefficient=0.5153030977540434\n"
     ]
    },
    {
     "name": "stdout",
     "output_type": "stream",
     "text": [
      "> threshold=0.023565756157040596, features=87, gini coefficient=0.5234628561452785\n"
     ]
    },
    {
     "name": "stdout",
     "output_type": "stream",
     "text": [
      "> threshold=0.024238232523202896, features=86, gini coefficient=0.5303280300662507\n"
     ]
    },
    {
     "name": "stdout",
     "output_type": "stream",
     "text": [
      "> threshold=0.025024889037013054, features=85, gini coefficient=0.5234625867157768\n"
     ]
    },
    {
     "name": "stdout",
     "output_type": "stream",
     "text": [
      "> threshold=0.025133799761533737, features=84, gini coefficient=0.5183658526474982\n"
     ]
    },
    {
     "name": "stdout",
     "output_type": "stream",
     "text": [
      "> threshold=0.025498606264591217, features=83, gini coefficient=0.5270589963952721\n"
     ]
    },
    {
     "name": "stdout",
     "output_type": "stream",
     "text": [
      "> threshold=0.02549879066646099, features=82, gini coefficient=0.5290164084897767\n"
     ]
    },
    {
     "name": "stdout",
     "output_type": "stream",
     "text": [
      "> threshold=0.025612294673919678, features=81, gini coefficient=0.5177130649585638\n"
     ]
    },
    {
     "name": "stdout",
     "output_type": "stream",
     "text": [
      "> threshold=0.025913074612617493, features=80, gini coefficient=0.5274902726733898\n"
     ]
    },
    {
     "name": "stdout",
     "output_type": "stream",
     "text": [
      "> threshold=0.025921989232301712, features=79, gini coefficient=0.5156218166050519\n"
     ]
    },
    {
     "name": "stdout",
     "output_type": "stream",
     "text": [
      "> threshold=0.026125477626919746, features=78, gini coefficient=0.5273737466500072\n"
     ]
    },
    {
     "name": "stdout",
     "output_type": "stream",
     "text": [
      "> threshold=0.026263853535056114, features=77, gini coefficient=0.522557229360586\n"
     ]
    },
    {
     "name": "stdout",
     "output_type": "stream",
     "text": [
      "> threshold=0.02684558928012848, features=76, gini coefficient=0.512873612550553\n"
     ]
    },
    {
     "name": "stdout",
     "output_type": "stream",
     "text": [
      "> threshold=0.027188632637262344, features=75, gini coefficient=0.5247017754504275\n"
     ]
    },
    {
     "name": "stdout",
     "output_type": "stream",
     "text": [
      "> threshold=0.02751835808157921, features=74, gini coefficient=0.5222279187181392\n"
     ]
    },
    {
     "name": "stdout",
     "output_type": "stream",
     "text": [
      "> threshold=0.027948914095759392, features=73, gini coefficient=0.5192841049962322\n"
     ]
    },
    {
     "name": "stdout",
     "output_type": "stream",
     "text": [
      "> threshold=0.028133811429142952, features=72, gini coefficient=0.5266447147218091\n"
     ]
    },
    {
     "name": "stdout",
     "output_type": "stream",
     "text": [
      "> threshold=0.028276825323700905, features=71, gini coefficient=0.5213522819036217\n"
     ]
    },
    {
     "name": "stdout",
     "output_type": "stream",
     "text": [
      "> threshold=0.028669381514191628, features=70, gini coefficient=0.5291866184633978\n"
     ]
    },
    {
     "name": "stdout",
     "output_type": "stream",
     "text": [
      "> threshold=0.028887353837490082, features=69, gini coefficient=0.5191331397972974\n"
     ]
    },
    {
     "name": "stdout",
     "output_type": "stream",
     "text": [
      "> threshold=0.029456788673996925, features=68, gini coefficient=0.5281856007598627\n"
     ]
    },
    {
     "name": "stdout",
     "output_type": "stream",
     "text": [
      "> threshold=0.029647281393408775, features=67, gini coefficient=0.5262746097151031\n"
     ]
    },
    {
     "name": "stdout",
     "output_type": "stream",
     "text": [
      "> threshold=0.030010821297764778, features=66, gini coefficient=0.5323174439886693\n"
     ]
    },
    {
     "name": "stdout",
     "output_type": "stream",
     "text": [
      "> threshold=0.031225137412548065, features=65, gini coefficient=0.5329764087013087\n"
     ]
    },
    {
     "name": "stdout",
     "output_type": "stream",
     "text": [
      "> threshold=0.03244199976325035, features=64, gini coefficient=0.528215244076728\n"
     ]
    },
    {
     "name": "stdout",
     "output_type": "stream",
     "text": [
      "> threshold=0.0324944406747818, features=63, gini coefficient=0.5260643513364391\n"
     ]
    },
    {
     "name": "stdout",
     "output_type": "stream",
     "text": [
      "> threshold=0.03252972289919853, features=62, gini coefficient=0.5261792105426105\n"
     ]
    },
    {
     "name": "stdout",
     "output_type": "stream",
     "text": [
      "> threshold=0.032946910709142685, features=61, gini coefficient=0.5267487914487607\n"
     ]
    },
    {
     "name": "stdout",
     "output_type": "stream",
     "text": [
      "> threshold=0.03300554305315018, features=60, gini coefficient=0.5303768531721648\n"
     ]
    },
    {
     "name": "stdout",
     "output_type": "stream",
     "text": [
      "> threshold=0.03323255479335785, features=59, gini coefficient=0.5301386496956655\n"
     ]
    },
    {
     "name": "stdout",
     "output_type": "stream",
     "text": [
      "> threshold=0.033368367701768875, features=58, gini coefficient=0.5320103148414921\n"
     ]
    },
    {
     "name": "stdout",
     "output_type": "stream",
     "text": [
      "> threshold=0.03345514461398125, features=57, gini coefficient=0.5242192245831945\n"
     ]
    },
    {
     "name": "stdout",
     "output_type": "stream",
     "text": [
      "> threshold=0.03359104320406914, features=56, gini coefficient=0.5327850494875856\n"
     ]
    },
    {
     "name": "stdout",
     "output_type": "stream",
     "text": [
      "> threshold=0.03372204676270485, features=55, gini coefficient=0.5222256889450603\n"
     ]
    },
    {
     "name": "stdout",
     "output_type": "stream",
     "text": [
      "> threshold=0.03473195061087608, features=54, gini coefficient=0.5310633870146406\n"
     ]
    },
    {
     "name": "stdout",
     "output_type": "stream",
     "text": [
      "> threshold=0.03521356359124184, features=53, gini coefficient=0.5273843039089321\n"
     ]
    },
    {
     "name": "stdout",
     "output_type": "stream",
     "text": [
      "> threshold=0.03543982282280922, features=52, gini coefficient=0.5360733513660279\n"
     ]
    },
    {
     "name": "stdout",
     "output_type": "stream",
     "text": [
      "> threshold=0.03573144972324371, features=51, gini coefficient=0.5299242964493669\n"
     ]
    },
    {
     "name": "stdout",
     "output_type": "stream",
     "text": [
      "> threshold=0.03576221317052841, features=50, gini coefficient=0.5339627242820352\n"
     ]
    },
    {
     "name": "stdout",
     "output_type": "stream",
     "text": [
      "> threshold=0.03589089587330818, features=49, gini coefficient=0.5352508255845787\n"
     ]
    },
    {
     "name": "stdout",
     "output_type": "stream",
     "text": [
      "> threshold=0.03646140918135643, features=48, gini coefficient=0.5313420074643573\n"
     ]
    },
    {
     "name": "stdout",
     "output_type": "stream",
     "text": [
      "> threshold=0.0365498885512352, features=47, gini coefficient=0.5253225405350181\n"
     ]
    },
    {
     "name": "stdout",
     "output_type": "stream",
     "text": [
      "> threshold=0.036601681262254715, features=46, gini coefficient=0.5326002426963489\n"
     ]
    },
    {
     "name": "stdout",
     "output_type": "stream",
     "text": [
      "> threshold=0.036950428038835526, features=45, gini coefficient=0.5407493576871147\n"
     ]
    },
    {
     "name": "stdout",
     "output_type": "stream",
     "text": [
      "> threshold=0.037562187761068344, features=44, gini coefficient=0.5434552545334117\n"
     ]
    },
    {
     "name": "stdout",
     "output_type": "stream",
     "text": [
      "> threshold=0.03771839663386345, features=43, gini coefficient=0.5369810580299212\n"
     ]
    },
    {
     "name": "stdout",
     "output_type": "stream",
     "text": [
      "> threshold=0.03828587383031845, features=42, gini coefficient=0.5328276520246747\n"
     ]
    },
    {
     "name": "stdout",
     "output_type": "stream",
     "text": [
      "> threshold=0.03962559625506401, features=41, gini coefficient=0.5260049236316986\n"
     ]
    },
    {
     "name": "stdout",
     "output_type": "stream",
     "text": [
      "> threshold=0.040684230625629425, features=40, gini coefficient=0.5431936631259944\n"
     ]
    },
    {
     "name": "stdout",
     "output_type": "stream",
     "text": [
      "> threshold=0.04074234142899513, features=39, gini coefficient=0.5366386606625847\n"
     ]
    },
    {
     "name": "stdout",
     "output_type": "stream",
     "text": [
      "> threshold=0.04076846316456795, features=38, gini coefficient=0.5283196071199603\n"
     ]
    },
    {
     "name": "stdout",
     "output_type": "stream",
     "text": [
      "> threshold=0.0432557612657547, features=37, gini coefficient=0.5300434182525251\n"
     ]
    },
    {
     "name": "stdout",
     "output_type": "stream",
     "text": [
      "> threshold=0.04376621171832085, features=36, gini coefficient=0.5304833717056241\n"
     ]
    },
    {
     "name": "stdout",
     "output_type": "stream",
     "text": [
      "> threshold=0.04383261874318123, features=35, gini coefficient=0.5274758089577427\n"
     ]
    },
    {
     "name": "stdout",
     "output_type": "stream",
     "text": [
      "> threshold=0.04532179608941078, features=34, gini coefficient=0.5321584382842559\n"
     ]
    },
    {
     "name": "stdout",
     "output_type": "stream",
     "text": [
      "> threshold=0.046505142003297806, features=33, gini coefficient=0.5302559970995508\n"
     ]
    },
    {
     "name": "stdout",
     "output_type": "stream",
     "text": [
      "> threshold=0.047704558819532394, features=32, gini coefficient=0.5317118921839846\n"
     ]
    },
    {
     "name": "stdout",
     "output_type": "stream",
     "text": [
      "> threshold=0.04844610393047333, features=31, gini coefficient=0.5207624296597906\n"
     ]
    },
    {
     "name": "stdout",
     "output_type": "stream",
     "text": [
      "> threshold=0.049606919288635254, features=30, gini coefficient=0.5284961708592445\n"
     ]
    },
    {
     "name": "stdout",
     "output_type": "stream",
     "text": [
      "> threshold=0.0511937253177166, features=29, gini coefficient=0.5194819656874969\n"
     ]
    },
    {
     "name": "stdout",
     "output_type": "stream",
     "text": [
      "> threshold=0.0517830029129982, features=28, gini coefficient=0.5180686445844198\n"
     ]
    },
    {
     "name": "stdout",
     "output_type": "stream",
     "text": [
      "> threshold=0.052050333470106125, features=27, gini coefficient=0.5125252853895408\n"
     ]
    },
    {
     "name": "stdout",
     "output_type": "stream",
     "text": [
      "> threshold=0.05233408883213997, features=26, gini coefficient=0.5073543329804294\n"
     ]
    },
    {
     "name": "stdout",
     "output_type": "stream",
     "text": [
      "> threshold=0.05237458273768425, features=25, gini coefficient=0.5164638908385933\n"
     ]
    },
    {
     "name": "stdout",
     "output_type": "stream",
     "text": [
      "> threshold=0.05306700989603996, features=24, gini coefficient=0.5083148792556295\n"
     ]
    },
    {
     "name": "stdout",
     "output_type": "stream",
     "text": [
      "> threshold=0.05380600318312645, features=23, gini coefficient=0.5097156272575225\n"
     ]
    },
    {
     "name": "stdout",
     "output_type": "stream",
     "text": [
      "> threshold=0.05380678176879883, features=22, gini coefficient=0.5141003072103487\n"
     ]
    },
    {
     "name": "stdout",
     "output_type": "stream",
     "text": [
      "> threshold=0.05653321370482445, features=21, gini coefficient=0.5066229995577779\n"
     ]
    },
    {
     "name": "stdout",
     "output_type": "stream",
     "text": [
      "> threshold=0.0566432848572731, features=20, gini coefficient=0.5008098189006562\n"
     ]
    },
    {
     "name": "stdout",
     "output_type": "stream",
     "text": [
      "> threshold=0.05707332119345665, features=19, gini coefficient=0.5053200047805577\n"
     ]
    },
    {
     "name": "stdout",
     "output_type": "stream",
     "text": [
      "> threshold=0.057420987635850906, features=18, gini coefficient=0.4997702674385426\n"
     ]
    },
    {
     "name": "stdout",
     "output_type": "stream",
     "text": [
      "> threshold=0.060752566903829575, features=17, gini coefficient=0.5046188399674303\n"
     ]
    },
    {
     "name": "stdout",
     "output_type": "stream",
     "text": [
      "> threshold=0.06167180463671684, features=16, gini coefficient=0.49523886799698924\n"
     ]
    },
    {
     "name": "stdout",
     "output_type": "stream",
     "text": [
      "> threshold=0.06241322308778763, features=15, gini coefficient=0.4772022141271939\n"
     ]
    },
    {
     "name": "stdout",
     "output_type": "stream",
     "text": [
      "> threshold=0.06424444913864136, features=14, gini coefficient=0.4757951358872843\n"
     ]
    },
    {
     "name": "stdout",
     "output_type": "stream",
     "text": [
      "> threshold=0.06632442772388458, features=13, gini coefficient=0.4492207706992415\n"
     ]
    },
    {
     "name": "stdout",
     "output_type": "stream",
     "text": [
      "> threshold=0.06744305044412613, features=12, gini coefficient=0.44424479802377304\n"
     ]
    },
    {
     "name": "stdout",
     "output_type": "stream",
     "text": [
      "> threshold=0.06862489879131317, features=11, gini coefficient=0.4462174588793928\n"
     ]
    },
    {
     "name": "stdout",
     "output_type": "stream",
     "text": [
      "> threshold=0.0745953619480133, features=10, gini coefficient=0.44962845488718495\n"
     ]
    },
    {
     "name": "stdout",
     "output_type": "stream",
     "text": [
      "> threshold=0.07593989372253418, features=9, gini coefficient=0.4058080621471185\n"
     ]
    },
    {
     "name": "stdout",
     "output_type": "stream",
     "text": [
      "> threshold=0.07920811325311661, features=8, gini coefficient=0.35329937756553664\n"
     ]
    },
    {
     "name": "stdout",
     "output_type": "stream",
     "text": [
      "> threshold=0.08126585185527802, features=7, gini coefficient=0.3404680881477158\n"
     ]
    },
    {
     "name": "stdout",
     "output_type": "stream",
     "text": [
      "> threshold=0.08172468841075897, features=6, gini coefficient=0.2944570303597933\n"
     ]
    },
    {
     "name": "stdout",
     "output_type": "stream",
     "text": [
      "> threshold=0.0861937403678894, features=5, gini coefficient=0.2951488358113855\n"
     ]
    },
    {
     "name": "stdout",
     "output_type": "stream",
     "text": [
      "> threshold=0.09248795360326767, features=4, gini coefficient=0.29636560938708223\n",
      "> threshold=0.15694785118103027, features=3, gini coefficient=0.20115043079608919\n"
     ]
    },
    {
     "name": "stdout",
     "output_type": "stream",
     "text": [
      "> threshold=0.17524537444114685, features=2, gini coefficient=0.19075255039960748\n",
      "> threshold=0.21916627883911133, features=1, gini coefficient=0.10710021309163054\n"
     ]
    },
    {
     "data": {
      "image/png": "[encoded data removed]",
      "text/plain": [
       "<Figure size 800x600 with 1 Axes>"
      ]
     },
     "metadata": {},
     "output_type": "display_data"
    },
    {
     "name": "stdout",
     "output_type": "stream",
     "text": [
      "Optimal Threshold: 0.0370\n",
      "Number of Selected Features: 44\n",
      "Gini coef at Optimal Threshold: 0.5435\n",
      "\n",
      "\n",
      "Selected features are: \n",
      "\n",
      "ampl_score  del_score  total_n_PPIs.trans_IntINSIDER  dist.to.closest.FGS  Length_Counts.E1\n",
      "Length_Counts.E10  Length_Counts.E15  Length_Counts.E18  Length_Counts.E24  Length_Counts.E6\n",
      "Length_Counts.E7  Length_Counts.E9  genes.bin  dist.to.closest.OG  dist.to.closest.TSG\n",
      "distance.to.centromere  distance.to.telomere  Chromosome_Length  Centromere_Type  8_707\n",
      "7_109  15_320  8_286  6_794  8_727\n",
      "7_348  4_1853  20_160  6_795  15_131\n",
      "12_362  8_706  6_782  8_442  6_800\n",
      "6_805  8_644  13_275  3_340  7_683\n",
      "8_765  3_341  19_21  log2smoothed\n",
      "\n",
      "\n",
      "Discarded features are: \n",
      "\n",
      "mean.GC.content  total_n_partners.trans  total_n_ohnologs.mmpaper_trans  total_n_paralogs_trans  Length_Counts.E11\n",
      "Length_Counts.E12  Length_Counts.E13  Length_Counts.E14  Length_Counts.E16  Length_Counts.E17\n",
      "Length_Counts.E19  Length_Counts.E2  Length_Counts.E20  Length_Counts.E21  Length_Counts.E22\n",
      "Length_Counts.E23  Length_Counts.E25  Length_Counts.E3  Length_Counts.E4  Length_Counts.E5\n",
      "Length_Counts.E8  all.int.trans_IntINSIDER  partners.trans  density.OG  density.TSG\n",
      "mutations_norm  Ess.distance_pancancer  ESSscore_pancancer  HAPLOscore_pancancer  Density.complex.proteins\n",
      "Density.Ohnologs  Centromere_Length  8_287  8_328  9_203\n",
      "8_281  9_201  9_911  8_280  21_227\n",
      "3_327  6_786  7_1085  6_796  8_279\n",
      "22_433  7_1589  16_858  6_1601  7_1590\n",
      "1_210  3_332  8_307  7_168  22_442\n",
      "13_909  22_447  8_688  9_694  22_435\n",
      "9_21  8_295  22_432  6_787  8_299\n",
      "6_783  7_359  8_352  8_300  7_360\n",
      "7_1072  20_161  19_153  6_9  7_882\n",
      "19_201  22_368  9_913  6_791  6_1600\n",
      "8_432  9_893  6_1585  9_89  6_806\n",
      "8_709  9_731  7_890  8_636  7_1040\n",
      "2_1418  8_396  19_160  7_325  7_776\n",
      "9_756  9_870  4_1601  9_883  19_195\n",
      "20_527  4_1392  8_70  7_1415  17_560\n",
      "12_1198  7_1047  8_405  8_289  7_878\n",
      "5_1022  3_333  22_443  20_162  22_360\n",
      "2_1416  7_357  9_919  12_1203  13_306\n",
      "8_379  9_705  7_1571  4_1542  22_355\n",
      "7_390  9_443  7_703  12_1199  22_429\n",
      "7_883  12_169  8_440  5_1200  7_173\n",
      "8_590  13_302  7_166  7_1591  7_347\n",
      "4_340  8_735  20_485  20_175  13_31\n",
      "7_550  20_479  7_476  8_394  7_719\n",
      "8_312  8_376  6_1379  8_288  2_1430\n",
      "4_1396  11_751  6_807  19_167  13_30\n",
      "6_1603  2_1424  8_666  8_344  9_1372\n",
      "19_172  3_10  3_910  19_196  8_38\n",
      "6_802  8_337  8_684  22_5  8_718\n",
      "22_409  2_1431  6_917  12_1194  13_272\n",
      "17_559  6_916  3_916  4_265  7_203\n",
      "8_374  19_151  8_436  9_727  19_206\n",
      "7_1588  8_589  7_1053  9_730  16_492\n",
      "7_514  9_735  7_887  7_758  7_567\n",
      "9_1370  7_725  9_534  2_1423  7_1413\n",
      "8_843  19_159  4_4\n"
     ]
    }
   ],
   "source": [
    "feature_names = model.feature_names_in_\n",
    "\n",
    "if technology == \"sc\":\n",
    "    feature_importances_shap = np.mean(np.mean(np.abs(explainer.shap_values(X_train)), axis = 0),axis = 1) # if sc I do multiclass\n",
    "else:\n",
    "    feature_importances_shap = np.mean(np.abs(explainer.shap_values(X_train)), axis = 0) # if sc I do multiclass\n",
    "\n",
    "X_train_reduced, X_test_reduced, selected_features = feature_selector_shap(feature_names, feature_importances_shap, \n",
    "                                                                            model, X_train, X_test, y_train, \n",
    "                                                                            inner_cv = inner_cv,\n",
    "                                                                            plot = True, verbose = True)"
   ]
  },
  {
   "cell_type": "code",
   "execution_count": 37,
   "id": "53b3b15f",
   "metadata": {
    "execution": {
     "iopub.execute_input": "2025-06-10T16:36:09.618600Z",
     "iopub.status.busy": "2025-06-10T16:36:09.617806Z",
     "iopub.status.idle": "2025-06-10T16:36:09.623745Z",
     "shell.execute_reply": "2025-06-10T16:36:09.623072Z"
    },
    "papermill": {
     "duration": 0.021827,
     "end_time": "2025-06-10T16:36:09.624479",
     "exception": false,
     "start_time": "2025-06-10T16:36:09.602652",
     "status": "completed"
    },
    "tags": []
   },
   "outputs": [],
   "source": [
    "features_to_discard = [feature for feature in selected_features if feature not in selected_features_in_at_least_one_cv]"
   ]
  },
  {
   "cell_type": "code",
   "execution_count": 38,
   "id": "e59eae3f",
   "metadata": {
    "execution": {
     "iopub.execute_input": "2025-06-10T16:36:09.669181Z",
     "iopub.status.busy": "2025-06-10T16:36:09.668479Z",
     "iopub.status.idle": "2025-06-10T16:36:09.673950Z",
     "shell.execute_reply": "2025-06-10T16:36:09.673380Z"
    },
    "papermill": {
     "duration": 0.036275,
     "end_time": "2025-06-10T16:36:09.674768",
     "exception": false,
     "start_time": "2025-06-10T16:36:09.638493",
     "status": "completed"
    },
    "tags": []
   },
   "outputs": [
    {
     "name": "stdout",
     "output_type": "stream",
     "text": [
      "Dropping columns never selected during Nested Cross Validation: ['6_795', '8_706']\n"
     ]
    }
   ],
   "source": [
    "print(f\"Dropping columns never selected during Nested Cross Validation: {features_to_discard}\")"
   ]
  },
  {
   "cell_type": "code",
   "execution_count": 39,
   "id": "48fbeac4",
   "metadata": {
    "execution": {
     "iopub.execute_input": "2025-06-10T16:36:09.704751Z",
     "iopub.status.busy": "2025-06-10T16:36:09.704029Z",
     "iopub.status.idle": "2025-06-10T16:36:09.710558Z",
     "shell.execute_reply": "2025-06-10T16:36:09.710091Z"
    },
    "papermill": {
     "duration": 0.022475,
     "end_time": "2025-06-10T16:36:09.711187",
     "exception": false,
     "start_time": "2025-06-10T16:36:09.688712",
     "status": "completed"
    },
    "tags": []
   },
   "outputs": [],
   "source": [
    "X_train_reduced = X_train_reduced.drop(features_to_discard, axis = 1)\n",
    "X_test_reduced = X_test_reduced.drop(features_to_discard, axis = 1)"
   ]
  },
  {
   "cell_type": "code",
   "execution_count": 40,
   "id": "9a6394be",
   "metadata": {
    "execution": {
     "iopub.execute_input": "2025-06-10T16:36:09.740042Z",
     "iopub.status.busy": "2025-06-10T16:36:09.739547Z",
     "iopub.status.idle": "2025-06-10T16:36:10.715809Z",
     "shell.execute_reply": "2025-06-10T16:36:10.715440Z"
    },
    "papermill": {
     "duration": 0.991304,
     "end_time": "2025-06-10T16:36:10.716493",
     "exception": false,
     "start_time": "2025-06-10T16:36:09.725189",
     "status": "completed"
    },
    "tags": []
   },
   "outputs": [
    {
     "name": "stderr",
     "output_type": "stream",
     "text": [
      "/home/ieo7429/.local/lib/python3.10/site-packages/sklearn/model_selection/_search.py:317: UserWarning: The total space of parameters 1 is smaller than n_iter=50. Running 1 iterations. For exhaustive searches, use GridSearchCV.\n",
      "  warnings.warn(\n"
     ]
    },
    {
     "data": {
      "text/html": [
       "<style>#sk-container-id-2 {\n",
       "  /* Definition of color scheme common for light and dark mode */\n",
       "  --sklearn-color-text: #000;\n",
       "  --sklearn-color-text-muted: #666;\n",
       "  --sklearn-color-line: gray;\n",
       "  /* Definition of color scheme for unfitted estimators */\n",
       "  --sklearn-color-unfitted-level-0: #fff5e6;\n",
       "  --sklearn-color-unfitted-level-1: #f6e4d2;\n",
       "  --sklearn-color-unfitted-level-2: #ffe0b3;\n",
       "  --sklearn-color-unfitted-level-3: chocolate;\n",
       "  /* Definition of color scheme for fitted estimators */\n",
       "  --sklearn-color-fitted-level-0: #f0f8ff;\n",
       "  --sklearn-color-fitted-level-1: #d4ebff;\n",
       "  --sklearn-color-fitted-level-2: #b3dbfd;\n",
       "  --sklearn-color-fitted-level-3: cornflowerblue;\n",
       "\n",
       "  /* Specific color for light theme */\n",
       "  --sklearn-color-text-on-default-background: var(--sg-text-color, var(--theme-code-foreground, var(--jp-content-font-color1, black)));\n",
       "  --sklearn-color-background: var(--sg-background-color, var(--theme-background, var(--jp-layout-color0, white)));\n",
       "  --sklearn-color-border-box: var(--sg-text-color, var(--theme-code-foreground, var(--jp-content-font-color1, black)));\n",
       "  --sklearn-color-icon: #696969;\n",
       "\n",
       "  @media (prefers-color-scheme: dark) {\n",
       "    /* Redefinition of color scheme for dark theme */\n",
       "    --sklearn-color-text-on-default-background: var(--sg-text-color, var(--theme-code-foreground, var(--jp-content-font-color1, white)));\n",
       "    --sklearn-color-background: var(--sg-background-color, var(--theme-background, var(--jp-layout-color0, #111)));\n",
       "    --sklearn-color-border-box: var(--sg-text-color, var(--theme-code-foreground, var(--jp-content-font-color1, white)));\n",
       "    --sklearn-color-icon: #878787;\n",
       "  }\n",
       "}\n",
       "\n",
       "#sk-container-id-2 {\n",
       "  color: var(--sklearn-color-text);\n",
       "}\n",
       "\n",
       "#sk-container-id-2 pre {\n",
       "  padding: 0;\n",
       "}\n",
       "\n",
       "#sk-container-id-2 input.sk-hidden--visually {\n",
       "  border: 0;\n",
       "  clip: rect(1px 1px 1px 1px);\n",
       "  clip: rect(1px, 1px, 1px, 1px);\n",
       "  height: 1px;\n",
       "  margin: -1px;\n",
       "  overflow: hidden;\n",
       "  padding: 0;\n",
       "  position: absolute;\n",
       "  width: 1px;\n",
       "}\n",
       "\n",
       "#sk-container-id-2 div.sk-dashed-wrapped {\n",
       "  border: 1px dashed var(--sklearn-color-line);\n",
       "  margin: 0 0.4em 0.5em 0.4em;\n",
       "  box-sizing: border-box;\n",
       "  padding-bottom: 0.4em;\n",
       "  background-color: var(--sklearn-color-background);\n",
       "}\n",
       "\n",
       "#sk-container-id-2 div.sk-container {\n",
       "  /* jupyter's `normalize.less` sets `[hidden] { display: none; }`\n",
       "     but bootstrap.min.css set `[hidden] { display: none !important; }`\n",
       "     so we also need the `!important` here to be able to override the\n",
       "     default hidden behavior on the sphinx rendered scikit-learn.org.\n",
       "     See: https://github.com/scikit-learn/scikit-learn/issues/21755 */\n",
       "  display: inline-block !important;\n",
       "  position: relative;\n",
       "}\n",
       "\n",
       "#sk-container-id-2 div.sk-text-repr-fallback {\n",
       "  display: none;\n",
       "}\n",
       "\n",
       "div.sk-parallel-item,\n",
       "div.sk-serial,\n",
       "div.sk-item {\n",
       "  /* draw centered vertical line to link estimators */\n",
       "  background-image: linear-gradient(var(--sklearn-color-text-on-default-background), var(--sklearn-color-text-on-default-background));\n",
       "  background-size: 2px 100%;\n",
       "  background-repeat: no-repeat;\n",
       "  background-position: center center;\n",
       "}\n",
       "\n",
       "/* Parallel-specific style estimator block */\n",
       "\n",
       "#sk-container-id-2 div.sk-parallel-item::after {\n",
       "  content: \"\";\n",
       "  width: 100%;\n",
       "  border-bottom: 2px solid var(--sklearn-color-text-on-default-background);\n",
       "  flex-grow: 1;\n",
       "}\n",
       "\n",
       "#sk-container-id-2 div.sk-parallel {\n",
       "  display: flex;\n",
       "  align-items: stretch;\n",
       "  justify-content: center;\n",
       "  background-color: var(--sklearn-color-background);\n",
       "  position: relative;\n",
       "}\n",
       "\n",
       "#sk-container-id-2 div.sk-parallel-item {\n",
       "  display: flex;\n",
       "  flex-direction: column;\n",
       "}\n",
       "\n",
       "#sk-container-id-2 div.sk-parallel-item:first-child::after {\n",
       "  align-self: flex-end;\n",
       "  width: 50%;\n",
       "}\n",
       "\n",
       "#sk-container-id-2 div.sk-parallel-item:last-child::after {\n",
       "  align-self: flex-start;\n",
       "  width: 50%;\n",
       "}\n",
       "\n",
       "#sk-container-id-2 div.sk-parallel-item:only-child::after {\n",
       "  width: 0;\n",
       "}\n",
       "\n",
       "/* Serial-specific style estimator block */\n",
       "\n",
       "#sk-container-id-2 div.sk-serial {\n",
       "  display: flex;\n",
       "  flex-direction: column;\n",
       "  align-items: center;\n",
       "  background-color: var(--sklearn-color-background);\n",
       "  padding-right: 1em;\n",
       "  padding-left: 1em;\n",
       "}\n",
       "\n",
       "\n",
       "/* Toggleable style: style used for estimator/Pipeline/ColumnTransformer box that is\n",
       "clickable and can be expanded/collapsed.\n",
       "- Pipeline and ColumnTransformer use this feature and define the default style\n",
       "- Estimators will overwrite some part of the style using the `sk-estimator` class\n",
       "*/\n",
       "\n",
       "/* Pipeline and ColumnTransformer style (default) */\n",
       "\n",
       "#sk-container-id-2 div.sk-toggleable {\n",
       "  /* Default theme specific background. It is overwritten whether we have a\n",
       "  specific estimator or a Pipeline/ColumnTransformer */\n",
       "  background-color: var(--sklearn-color-background);\n",
       "}\n",
       "\n",
       "/* Toggleable label */\n",
       "#sk-container-id-2 label.sk-toggleable__label {\n",
       "  cursor: pointer;\n",
       "  display: flex;\n",
       "  width: 100%;\n",
       "  margin-bottom: 0;\n",
       "  padding: 0.5em;\n",
       "  box-sizing: border-box;\n",
       "  text-align: center;\n",
       "  align-items: start;\n",
       "  justify-content: space-between;\n",
       "  gap: 0.5em;\n",
       "}\n",
       "\n",
       "#sk-container-id-2 label.sk-toggleable__label .caption {\n",
       "  font-size: 0.6rem;\n",
       "  font-weight: lighter;\n",
       "  color: var(--sklearn-color-text-muted);\n",
       "}\n",
       "\n",
       "#sk-container-id-2 label.sk-toggleable__label-arrow:before {\n",
       "  /* Arrow on the left of the label */\n",
       "  content: \"▸\";\n",
       "  float: left;\n",
       "  margin-right: 0.25em;\n",
       "  color: var(--sklearn-color-icon);\n",
       "}\n",
       "\n",
       "#sk-container-id-2 label.sk-toggleable__label-arrow:hover:before {\n",
       "  color: var(--sklearn-color-text);\n",
       "}\n",
       "\n",
       "/* Toggleable content - dropdown */\n",
       "\n",
       "#sk-container-id-2 div.sk-toggleable__content {\n",
       "  max-height: 0;\n",
       "  max-width: 0;\n",
       "  overflow: hidden;\n",
       "  text-align: left;\n",
       "  /* unfitted */\n",
       "  background-color: var(--sklearn-color-unfitted-level-0);\n",
       "}\n",
       "\n",
       "#sk-container-id-2 div.sk-toggleable__content.fitted {\n",
       "  /* fitted */\n",
       "  background-color: var(--sklearn-color-fitted-level-0);\n",
       "}\n",
       "\n",
       "#sk-container-id-2 div.sk-toggleable__content pre {\n",
       "  margin: 0.2em;\n",
       "  border-radius: 0.25em;\n",
       "  color: var(--sklearn-color-text);\n",
       "  /* unfitted */\n",
       "  background-color: var(--sklearn-color-unfitted-level-0);\n",
       "}\n",
       "\n",
       "#sk-container-id-2 div.sk-toggleable__content.fitted pre {\n",
       "  /* unfitted */\n",
       "  background-color: var(--sklearn-color-fitted-level-0);\n",
       "}\n",
       "\n",
       "#sk-container-id-2 input.sk-toggleable__control:checked~div.sk-toggleable__content {\n",
       "  /* Expand drop-down */\n",
       "  max-height: 200px;\n",
       "  max-width: 100%;\n",
       "  overflow: auto;\n",
       "}\n",
       "\n",
       "#sk-container-id-2 input.sk-toggleable__control:checked~label.sk-toggleable__label-arrow:before {\n",
       "  content: \"▾\";\n",
       "}\n",
       "\n",
       "/* Pipeline/ColumnTransformer-specific style */\n",
       "\n",
       "#sk-container-id-2 div.sk-label input.sk-toggleable__control:checked~label.sk-toggleable__label {\n",
       "  color: var(--sklearn-color-text);\n",
       "  background-color: var(--sklearn-color-unfitted-level-2);\n",
       "}\n",
       "\n",
       "#sk-container-id-2 div.sk-label.fitted input.sk-toggleable__control:checked~label.sk-toggleable__label {\n",
       "  background-color: var(--sklearn-color-fitted-level-2);\n",
       "}\n",
       "\n",
       "/* Estimator-specific style */\n",
       "\n",
       "/* Colorize estimator box */\n",
       "#sk-container-id-2 div.sk-estimator input.sk-toggleable__control:checked~label.sk-toggleable__label {\n",
       "  /* unfitted */\n",
       "  background-color: var(--sklearn-color-unfitted-level-2);\n",
       "}\n",
       "\n",
       "#sk-container-id-2 div.sk-estimator.fitted input.sk-toggleable__control:checked~label.sk-toggleable__label {\n",
       "  /* fitted */\n",
       "  background-color: var(--sklearn-color-fitted-level-2);\n",
       "}\n",
       "\n",
       "#sk-container-id-2 div.sk-label label.sk-toggleable__label,\n",
       "#sk-container-id-2 div.sk-label label {\n",
       "  /* The background is the default theme color */\n",
       "  color: var(--sklearn-color-text-on-default-background);\n",
       "}\n",
       "\n",
       "/* On hover, darken the color of the background */\n",
       "#sk-container-id-2 div.sk-label:hover label.sk-toggleable__label {\n",
       "  color: var(--sklearn-color-text);\n",
       "  background-color: var(--sklearn-color-unfitted-level-2);\n",
       "}\n",
       "\n",
       "/* Label box, darken color on hover, fitted */\n",
       "#sk-container-id-2 div.sk-label.fitted:hover label.sk-toggleable__label.fitted {\n",
       "  color: var(--sklearn-color-text);\n",
       "  background-color: var(--sklearn-color-fitted-level-2);\n",
       "}\n",
       "\n",
       "/* Estimator label */\n",
       "\n",
       "#sk-container-id-2 div.sk-label label {\n",
       "  font-family: monospace;\n",
       "  font-weight: bold;\n",
       "  display: inline-block;\n",
       "  line-height: 1.2em;\n",
       "}\n",
       "\n",
       "#sk-container-id-2 div.sk-label-container {\n",
       "  text-align: center;\n",
       "}\n",
       "\n",
       "/* Estimator-specific */\n",
       "#sk-container-id-2 div.sk-estimator {\n",
       "  font-family: monospace;\n",
       "  border: 1px dotted var(--sklearn-color-border-box);\n",
       "  border-radius: 0.25em;\n",
       "  box-sizing: border-box;\n",
       "  margin-bottom: 0.5em;\n",
       "  /* unfitted */\n",
       "  background-color: var(--sklearn-color-unfitted-level-0);\n",
       "}\n",
       "\n",
       "#sk-container-id-2 div.sk-estimator.fitted {\n",
       "  /* fitted */\n",
       "  background-color: var(--sklearn-color-fitted-level-0);\n",
       "}\n",
       "\n",
       "/* on hover */\n",
       "#sk-container-id-2 div.sk-estimator:hover {\n",
       "  /* unfitted */\n",
       "  background-color: var(--sklearn-color-unfitted-level-2);\n",
       "}\n",
       "\n",
       "#sk-container-id-2 div.sk-estimator.fitted:hover {\n",
       "  /* fitted */\n",
       "  background-color: var(--sklearn-color-fitted-level-2);\n",
       "}\n",
       "\n",
       "/* Specification for estimator info (e.g. \"i\" and \"?\") */\n",
       "\n",
       "/* Common style for \"i\" and \"?\" */\n",
       "\n",
       ".sk-estimator-doc-link,\n",
       "a:link.sk-estimator-doc-link,\n",
       "a:visited.sk-estimator-doc-link {\n",
       "  float: right;\n",
       "  font-size: smaller;\n",
       "  line-height: 1em;\n",
       "  font-family: monospace;\n",
       "  background-color: var(--sklearn-color-background);\n",
       "  border-radius: 1em;\n",
       "  height: 1em;\n",
       "  width: 1em;\n",
       "  text-decoration: none !important;\n",
       "  margin-left: 0.5em;\n",
       "  text-align: center;\n",
       "  /* unfitted */\n",
       "  border: var(--sklearn-color-unfitted-level-1) 1pt solid;\n",
       "  color: var(--sklearn-color-unfitted-level-1);\n",
       "}\n",
       "\n",
       ".sk-estimator-doc-link.fitted,\n",
       "a:link.sk-estimator-doc-link.fitted,\n",
       "a:visited.sk-estimator-doc-link.fitted {\n",
       "  /* fitted */\n",
       "  border: var(--sklearn-color-fitted-level-1) 1pt solid;\n",
       "  color: var(--sklearn-color-fitted-level-1);\n",
       "}\n",
       "\n",
       "/* On hover */\n",
       "div.sk-estimator:hover .sk-estimator-doc-link:hover,\n",
       ".sk-estimator-doc-link:hover,\n",
       "div.sk-label-container:hover .sk-estimator-doc-link:hover,\n",
       ".sk-estimator-doc-link:hover {\n",
       "  /* unfitted */\n",
       "  background-color: var(--sklearn-color-unfitted-level-3);\n",
       "  color: var(--sklearn-color-background);\n",
       "  text-decoration: none;\n",
       "}\n",
       "\n",
       "div.sk-estimator.fitted:hover .sk-estimator-doc-link.fitted:hover,\n",
       ".sk-estimator-doc-link.fitted:hover,\n",
       "div.sk-label-container:hover .sk-estimator-doc-link.fitted:hover,\n",
       ".sk-estimator-doc-link.fitted:hover {\n",
       "  /* fitted */\n",
       "  background-color: var(--sklearn-color-fitted-level-3);\n",
       "  color: var(--sklearn-color-background);\n",
       "  text-decoration: none;\n",
       "}\n",
       "\n",
       "/* Span, style for the box shown on hovering the info icon */\n",
       ".sk-estimator-doc-link span {\n",
       "  display: none;\n",
       "  z-index: 9999;\n",
       "  position: relative;\n",
       "  font-weight: normal;\n",
       "  right: .2ex;\n",
       "  padding: .5ex;\n",
       "  margin: .5ex;\n",
       "  width: min-content;\n",
       "  min-width: 20ex;\n",
       "  max-width: 50ex;\n",
       "  color: var(--sklearn-color-text);\n",
       "  box-shadow: 2pt 2pt 4pt #999;\n",
       "  /* unfitted */\n",
       "  background: var(--sklearn-color-unfitted-level-0);\n",
       "  border: .5pt solid var(--sklearn-color-unfitted-level-3);\n",
       "}\n",
       "\n",
       ".sk-estimator-doc-link.fitted span {\n",
       "  /* fitted */\n",
       "  background: var(--sklearn-color-fitted-level-0);\n",
       "  border: var(--sklearn-color-fitted-level-3);\n",
       "}\n",
       "\n",
       ".sk-estimator-doc-link:hover span {\n",
       "  display: block;\n",
       "}\n",
       "\n",
       "/* \"?\"-specific style due to the `<a>` HTML tag */\n",
       "\n",
       "#sk-container-id-2 a.estimator_doc_link {\n",
       "  float: right;\n",
       "  font-size: 1rem;\n",
       "  line-height: 1em;\n",
       "  font-family: monospace;\n",
       "  background-color: var(--sklearn-color-background);\n",
       "  border-radius: 1rem;\n",
       "  height: 1rem;\n",
       "  width: 1rem;\n",
       "  text-decoration: none;\n",
       "  /* unfitted */\n",
       "  color: var(--sklearn-color-unfitted-level-1);\n",
       "  border: var(--sklearn-color-unfitted-level-1) 1pt solid;\n",
       "}\n",
       "\n",
       "#sk-container-id-2 a.estimator_doc_link.fitted {\n",
       "  /* fitted */\n",
       "  border: var(--sklearn-color-fitted-level-1) 1pt solid;\n",
       "  color: var(--sklearn-color-fitted-level-1);\n",
       "}\n",
       "\n",
       "/* On hover */\n",
       "#sk-container-id-2 a.estimator_doc_link:hover {\n",
       "  /* unfitted */\n",
       "  background-color: var(--sklearn-color-unfitted-level-3);\n",
       "  color: var(--sklearn-color-background);\n",
       "  text-decoration: none;\n",
       "}\n",
       "\n",
       "#sk-container-id-2 a.estimator_doc_link.fitted:hover {\n",
       "  /* fitted */\n",
       "  background-color: var(--sklearn-color-fitted-level-3);\n",
       "}\n",
       "</style><div id=\"sk-container-id-2\" class=\"sk-top-container\"><div class=\"sk-text-repr-fallback\"><pre>RandomizedSearchCV(cv=2,\n",
       "                   estimator=XGBClassifier(base_score=None, booster=&#x27;gbtree&#x27;,\n",
       "                                           callbacks=None,\n",
       "                                           colsample_bylevel=0.5823201338785988,\n",
       "                                           colsample_bynode=None,\n",
       "                                           colsample_bytree=0.523144201265553,\n",
       "                                           device=&#x27;cpu&#x27;,\n",
       "                                           early_stopping_rounds=None,\n",
       "                                           enable_categorical=False,\n",
       "                                           eval_metric=&#x27;error&#x27;,\n",
       "                                           feature_types=None,\n",
       "                                           feature_weights=None,\n",
       "                                           gamma=0.3567238036938387,\n",
       "                                           grow_polic...\n",
       "                                        &#x27;colsample_bytree&#x27;: [0.523144201265553],\n",
       "                                        &#x27;eval_metric&#x27;: [&#x27;error&#x27;],\n",
       "                                        &#x27;gamma&#x27;: [0.3567238036938387],\n",
       "                                        &#x27;learning_rate&#x27;: [0.08063537422501207],\n",
       "                                        &#x27;max_delta_step&#x27;: [8],\n",
       "                                        &#x27;max_depth&#x27;: [13],\n",
       "                                        &#x27;min_child_weight&#x27;: [7],\n",
       "                                        &#x27;n_estimators&#x27;: [295],\n",
       "                                        &#x27;objective&#x27;: [&#x27;binary:logistic&#x27;],\n",
       "                                        &#x27;reg_alpha&#x27;: [6.810265373749562],\n",
       "                                        &#x27;reg_lambda&#x27;: [1.5636486012079303],\n",
       "                                        &#x27;subsample&#x27;: [0.9097624701131881]},\n",
       "                   random_state=49574)</pre><b>In a Jupyter environment, please rerun this cell to show the HTML representation or trust the notebook. <br />On GitHub, the HTML representation is unable to render, please try loading this page with nbviewer.org.</b></div><div class=\"sk-container\" hidden><div class=\"sk-item sk-dashed-wrapped\"><div class=\"sk-label-container\"><div class=\"sk-label fitted sk-toggleable\"><input class=\"sk-toggleable__control sk-hidden--visually\" id=\"sk-estimator-id-4\" type=\"checkbox\" ><label for=\"sk-estimator-id-4\" class=\"sk-toggleable__label fitted sk-toggleable__label-arrow\"><div><div>RandomizedSearchCV</div></div><div><a class=\"sk-estimator-doc-link fitted\" rel=\"noreferrer\" target=\"_blank\" href=\"https://scikit-learn.org/1.6/modules/generated/sklearn.model_selection.RandomizedSearchCV.html\">?<span>Documentation for RandomizedSearchCV</span></a><span class=\"sk-estimator-doc-link fitted\">i<span>Fitted</span></span></div></label><div class=\"sk-toggleable__content fitted\"><pre>RandomizedSearchCV(cv=2,\n",
       "                   estimator=XGBClassifier(base_score=None, booster=&#x27;gbtree&#x27;,\n",
       "                                           callbacks=None,\n",
       "                                           colsample_bylevel=0.5823201338785988,\n",
       "                                           colsample_bynode=None,\n",
       "                                           colsample_bytree=0.523144201265553,\n",
       "                                           device=&#x27;cpu&#x27;,\n",
       "                                           early_stopping_rounds=None,\n",
       "                                           enable_categorical=False,\n",
       "                                           eval_metric=&#x27;error&#x27;,\n",
       "                                           feature_types=None,\n",
       "                                           feature_weights=None,\n",
       "                                           gamma=0.3567238036938387,\n",
       "                                           grow_polic...\n",
       "                                        &#x27;colsample_bytree&#x27;: [0.523144201265553],\n",
       "                                        &#x27;eval_metric&#x27;: [&#x27;error&#x27;],\n",
       "                                        &#x27;gamma&#x27;: [0.3567238036938387],\n",
       "                                        &#x27;learning_rate&#x27;: [0.08063537422501207],\n",
       "                                        &#x27;max_delta_step&#x27;: [8],\n",
       "                                        &#x27;max_depth&#x27;: [13],\n",
       "                                        &#x27;min_child_weight&#x27;: [7],\n",
       "                                        &#x27;n_estimators&#x27;: [295],\n",
       "                                        &#x27;objective&#x27;: [&#x27;binary:logistic&#x27;],\n",
       "                                        &#x27;reg_alpha&#x27;: [6.810265373749562],\n",
       "                                        &#x27;reg_lambda&#x27;: [1.5636486012079303],\n",
       "                                        &#x27;subsample&#x27;: [0.9097624701131881]},\n",
       "                   random_state=49574)</pre></div> </div></div><div class=\"sk-parallel\"><div class=\"sk-parallel-item\"><div class=\"sk-item\"><div class=\"sk-label-container\"><div class=\"sk-label fitted sk-toggleable\"><input class=\"sk-toggleable__control sk-hidden--visually\" id=\"sk-estimator-id-5\" type=\"checkbox\" ><label for=\"sk-estimator-id-5\" class=\"sk-toggleable__label fitted sk-toggleable__label-arrow\"><div><div>best_estimator_: XGBClassifier</div></div></label><div class=\"sk-toggleable__content fitted\"><pre>XGBClassifier(base_score=None, booster=&#x27;gbtree&#x27;, callbacks=None,\n",
       "              colsample_bylevel=0.5823201338785988, colsample_bynode=None,\n",
       "              colsample_bytree=0.523144201265553, device=&#x27;cpu&#x27;,\n",
       "              early_stopping_rounds=None, enable_categorical=False,\n",
       "              eval_metric=&#x27;error&#x27;, feature_types=None, feature_weights=None,\n",
       "              gamma=0.3567238036938387, grow_policy=None, importance_type=None,\n",
       "              interaction_constraints=None, learning_rate=0.08063537422501207,\n",
       "              max_bin=None, max_cat_threshold=None, max_cat_to_onehot=None,\n",
       "              max_delta_step=8, max_depth=13, max_leaves=None,\n",
       "              min_child_weight=7, missing=nan, monotone_constraints=None,\n",
       "              multi_strategy=None, n_estimators=295, n_jobs=60,\n",
       "              num_parallel_tree=None, ...)</pre></div> </div></div><div class=\"sk-serial\"><div class=\"sk-item\"><div class=\"sk-estimator fitted sk-toggleable\"><input class=\"sk-toggleable__control sk-hidden--visually\" id=\"sk-estimator-id-6\" type=\"checkbox\" ><label for=\"sk-estimator-id-6\" class=\"sk-toggleable__label fitted sk-toggleable__label-arrow\"><div><div>XGBClassifier</div></div><div><a class=\"sk-estimator-doc-link fitted\" rel=\"noreferrer\" target=\"_blank\" href=\"https://xgboost.readthedocs.io/en/release_3.0.0/python/python_api.html#xgboost.XGBClassifier\">?<span>Documentation for XGBClassifier</span></a></div></label><div class=\"sk-toggleable__content fitted\"><pre>XGBClassifier(base_score=None, booster=&#x27;gbtree&#x27;, callbacks=None,\n",
       "              colsample_bylevel=0.5823201338785988, colsample_bynode=None,\n",
       "              colsample_bytree=0.523144201265553, device=&#x27;cpu&#x27;,\n",
       "              early_stopping_rounds=None, enable_categorical=False,\n",
       "              eval_metric=&#x27;error&#x27;, feature_types=None, feature_weights=None,\n",
       "              gamma=0.3567238036938387, grow_policy=None, importance_type=None,\n",
       "              interaction_constraints=None, learning_rate=0.08063537422501207,\n",
       "              max_bin=None, max_cat_threshold=None, max_cat_to_onehot=None,\n",
       "              max_delta_step=8, max_depth=13, max_leaves=None,\n",
       "              min_child_weight=7, missing=nan, monotone_constraints=None,\n",
       "              multi_strategy=None, n_estimators=295, n_jobs=60,\n",
       "              num_parallel_tree=None, ...)</pre></div> </div></div></div></div></div></div></div></div></div>"
      ],
      "text/plain": [
       "RandomizedSearchCV(cv=2,\n",
       "                   estimator=XGBClassifier(base_score=None, booster='gbtree',\n",
       "                                           callbacks=None,\n",
       "                                           colsample_bylevel=0.5823201338785988,\n",
       "                                           colsample_bynode=None,\n",
       "                                           colsample_bytree=0.523144201265553,\n",
       "                                           device='cpu',\n",
       "                                           early_stopping_rounds=None,\n",
       "                                           enable_categorical=False,\n",
       "                                           eval_metric='error',\n",
       "                                           feature_types=None,\n",
       "                                           feature_weights=None,\n",
       "                                           gamma=0.3567238036938387,\n",
       "                                           grow_polic...\n",
       "                                        'colsample_bytree': [0.523144201265553],\n",
       "                                        'eval_metric': ['error'],\n",
       "                                        'gamma': [0.3567238036938387],\n",
       "                                        'learning_rate': [0.08063537422501207],\n",
       "                                        'max_delta_step': [8],\n",
       "                                        'max_depth': [13],\n",
       "                                        'min_child_weight': [7],\n",
       "                                        'n_estimators': [295],\n",
       "                                        'objective': ['binary:logistic'],\n",
       "                                        'reg_alpha': [6.810265373749562],\n",
       "                                        'reg_lambda': [1.5636486012079303],\n",
       "                                        'subsample': [0.9097624701131881]},\n",
       "                   random_state=49574)"
      ]
     },
     "execution_count": 40,
     "metadata": {},
     "output_type": "execute_result"
    }
   ],
   "source": [
    "opti_fs = sk.model_selection.RandomizedSearchCV(estimator = model, \n",
    "                                                param_distributions = search_space_grid, \n",
    "                                                cv = inner_cv, \n",
    "                                                n_jobs = n_jobs_sk,\n",
    "                                                n_iter = n_iter_rsearch,\n",
    "                                                random_state = hypertune_random_state_rsearch, \n",
    "                                                verbose = 0, refit = True)\n",
    "opti_fs.fit(X_train_reduced, y_train)"
   ]
  },
  {
   "cell_type": "code",
   "execution_count": 41,
   "id": "b97a9d75",
   "metadata": {
    "execution": {
     "iopub.execute_input": "2025-06-10T16:36:10.746683Z",
     "iopub.status.busy": "2025-06-10T16:36:10.745508Z",
     "iopub.status.idle": "2025-06-10T16:36:10.751693Z",
     "shell.execute_reply": "2025-06-10T16:36:10.750979Z"
    },
    "papermill": {
     "duration": 0.021868,
     "end_time": "2025-06-10T16:36:10.752416",
     "exception": false,
     "start_time": "2025-06-10T16:36:10.730548",
     "status": "completed"
    },
    "tags": []
   },
   "outputs": [],
   "source": [
    "model_fs = opti_fs.best_estimator_"
   ]
  },
  {
   "cell_type": "code",
   "execution_count": 42,
   "id": "c5350c86",
   "metadata": {
    "execution": {
     "iopub.execute_input": "2025-06-10T16:36:10.781171Z",
     "iopub.status.busy": "2025-06-10T16:36:10.780978Z",
     "iopub.status.idle": "2025-06-10T16:36:10.784752Z",
     "shell.execute_reply": "2025-06-10T16:36:10.784182Z"
    },
    "papermill": {
     "duration": 0.018638,
     "end_time": "2025-06-10T16:36:10.785445",
     "exception": false,
     "start_time": "2025-06-10T16:36:10.766807",
     "status": "completed"
    },
    "tags": []
   },
   "outputs": [],
   "source": [
    "best_params_fs = opti_fs.best_params_"
   ]
  },
  {
   "cell_type": "code",
   "execution_count": 43,
   "id": "5491995f",
   "metadata": {
    "execution": {
     "iopub.execute_input": "2025-06-10T16:36:10.814392Z",
     "iopub.status.busy": "2025-06-10T16:36:10.814250Z",
     "iopub.status.idle": "2025-06-10T16:36:10.818517Z",
     "shell.execute_reply": "2025-06-10T16:36:10.818031Z"
    },
    "papermill": {
     "duration": 0.02002,
     "end_time": "2025-06-10T16:36:10.819850",
     "exception": false,
     "start_time": "2025-06-10T16:36:10.799830",
     "status": "completed"
    },
    "tags": []
   },
   "outputs": [
    {
     "name": "stdout",
     "output_type": "stream",
     "text": [
      "subsample: 0.9097624701131881\n",
      "reg_lambda: 1.5636486012079303\n",
      "reg_alpha: 6.810265373749562\n",
      "objective: binary:logistic\n",
      "n_estimators: 295\n",
      "min_child_weight: 7\n",
      "max_depth: 13\n",
      "max_delta_step: 8\n",
      "learning_rate: 0.08063537422501207\n",
      "gamma: 0.3567238036938387\n",
      "eval_metric: error\n",
      "colsample_bytree: 0.523144201265553\n",
      "colsample_bylevel: 0.5823201338785988\n",
      "booster: gbtree\n"
     ]
    }
   ],
   "source": [
    "for k,v in best_params_fs.items():\n",
    "    print(f\"{k}: {v}\")"
   ]
  },
  {
   "cell_type": "markdown",
   "id": "2d8937fc",
   "metadata": {
    "papermill": {
     "duration": 0.014019,
     "end_time": "2025-06-10T16:36:10.849735",
     "exception": false,
     "start_time": "2025-06-10T16:36:10.835716",
     "status": "completed"
    },
    "tags": []
   },
   "source": [
    "## Store Variables for later"
   ]
  },
  {
   "cell_type": "code",
   "execution_count": 44,
   "id": "d1fff515",
   "metadata": {
    "execution": {
     "iopub.execute_input": "2025-06-10T16:36:10.879358Z",
     "iopub.status.busy": "2025-06-10T16:36:10.878581Z",
     "iopub.status.idle": "2025-06-10T16:36:10.889249Z",
     "shell.execute_reply": "2025-06-10T16:36:10.888778Z"
    },
    "papermill": {
     "duration": 0.026472,
     "end_time": "2025-06-10T16:36:10.889963",
     "exception": false,
     "start_time": "2025-06-10T16:36:10.863491",
     "status": "completed"
    },
    "tags": []
   },
   "outputs": [],
   "source": [
    "pickle.dump(X_train_reduced,open(X_train_filename,\"wb\"))\n",
    "pickle.dump(X_test_reduced,open(X_test_filename,\"wb\"))\n",
    "pickle.dump(y_train,open(y_train_filename,\"wb\"))\n",
    "pickle.dump(y_test,open(y_test_filename,\"wb\"))\n",
    "pickle.dump(bin_train,open(bin_train_filename,\"wb\"))\n",
    "pickle.dump(bin_test,open(bin_test_filename,\"wb\"))\n",
    "pickle.dump(model_fs,open(model_filename,\"wb\"))"
   ]
  },
  {
   "cell_type": "markdown",
   "id": "6a49a56c",
   "metadata": {
    "papermill": {
     "duration": 0.013406,
     "end_time": "2025-06-10T16:36:10.918751",
     "exception": false,
     "start_time": "2025-06-10T16:36:10.905345",
     "status": "completed"
    },
    "tags": []
   },
   "source": [
    "## Evaluate Model Performances"
   ]
  },
  {
   "cell_type": "code",
   "execution_count": 45,
   "id": "cd04e764-6900-4fd1-ad3b-59a9e20fa7ca",
   "metadata": {
    "execution": {
     "iopub.execute_input": "2025-06-10T16:36:10.948166Z",
     "iopub.status.busy": "2025-06-10T16:36:10.947394Z",
     "iopub.status.idle": "2025-06-10T16:36:10.957466Z",
     "shell.execute_reply": "2025-06-10T16:36:10.956742Z"
    },
    "papermill": {
     "duration": 0.026066,
     "end_time": "2025-06-10T16:36:10.958171",
     "exception": false,
     "start_time": "2025-06-10T16:36:10.932105",
     "status": "completed"
    },
    "tags": []
   },
   "outputs": [],
   "source": [
    "if technology == \"sc\":\n",
    "    f1_macro = sk.metrics.make_scorer(sk.metrics.f1_score, average=\"macro\")\n",
    "    precision_macro = sk.metrics.make_scorer(sk.metrics.precision_score, average=\"macro\")\n",
    "    recall_macro = sk.metrics.make_scorer(sk.metrics.recall_score, average=\"macro\")\n",
    "    \n",
    "    accuracy_array_fs = np.mean(sk.model_selection.cross_val_score(model_fs, X_train_reduced, y_train, cv = outer_cv, scoring = \"accuracy\"))\n",
    "    f1_array_fs = np.mean(sk.model_selection.cross_val_score(model_fs, X_train_reduced, y_train, cv = outer_cv, scoring = f1_macro))\n",
    "    precision_array_fs = np.mean(sk.model_selection.cross_val_score(model_fs, X_train_reduced, y_train, cv = outer_cv, scoring = precision_macro))\n",
    "    recall_array_fs = np.mean(sk.model_selection.cross_val_score(model_fs, X_train_reduced, y_train, cv = outer_cv, scoring = recall_macro))\n",
    "    \n",
    "    roc_auc_array_fs = np.mean(sk.model_selection.cross_val_score(model_fs, X_train_reduced, y_train, cv = outer_cv, scoring = \"roc_auc_ovr\"))\n",
    "    \n",
    "    proba_predictions_fs = sk.model_selection.cross_val_predict(model_fs, X_train_reduced, y_train, cv = outer_cv, method= \"predict_proba\")\n",
    "    class_array_fs = sk.model_selection.cross_val_predict(model_fs, X_train_reduced, y_train, cv = outer_cv, method= \"predict\")\n",
    "    \n",
    "    label_binarizer = sk.preprocessing.LabelBinarizer().fit(y_train)\n",
    "    y_onehot_train = label_binarizer.transform(y_train)\n",
    "    n_classes = y_onehot_train.shape[1]\n",
    "    target_names = np.unique(y_train)\n",
    "    \n",
    "    fpr, tpr, roc_auc = dict(), dict(), dict()\n",
    "    \n",
    "    for i in range(n_classes):\n",
    "        fpr[i], tpr[i], _ = sk.metrics.roc_curve(y_onehot_train[:, i], proba_predictions_fs[:, i])\n",
    "        roc_auc[i] = sk.metrics.auc(fpr[i], tpr[i])\n",
    "    \n",
    "    fpr_grid = np.linspace(0.0, 1.0, 1000)\n",
    "    \n",
    "    mean_tpr = np.zeros_like(fpr_grid)\n",
    "    \n",
    "    for i in range(n_classes):\n",
    "        mean_tpr += np.interp(fpr_grid, fpr[i], tpr[i])\n",
    "    \n",
    "    mean_tpr /= n_classes\n",
    "    \n",
    "    fpr[\"macro\"] = fpr_grid\n",
    "    tpr[\"macro\"] = mean_tpr\n",
    "    roc_auc[\"macro\"] = sk.metrics.auc(fpr[\"macro\"], tpr[\"macro\"])\n",
    "    \n",
    "    print(f\"Macro-averaged One-vs-Rest ROC AUC score: {roc_auc['macro']:.2f}\")\n",
    "    \n",
    "    from itertools import cycle\n",
    "    \n",
    "    fig, ax = plt.subplots(figsize=(6, 6))\n",
    "    \n",
    "    plt.plot(\n",
    "        fpr[\"macro\"],\n",
    "        tpr[\"macro\"],\n",
    "        label=f\"macro-average ROC curve (AUC = {roc_auc['macro']:.2f})\",\n",
    "        color=\"navy\",\n",
    "        linestyle=\":\",\n",
    "        linewidth=4,\n",
    "    )\n",
    "    \n",
    "    colors = cycle([\"aqua\", \"darkorange\", \"cornflowerblue\"])\n",
    "    for class_id, color in zip(range(n_classes), colors):\n",
    "        sk.metrics.RocCurveDisplay.from_predictions(\n",
    "            y_onehot_train[:, class_id],\n",
    "            proba_predictions_fs[:, class_id],\n",
    "            name=f\"ROC curve for {target_names[class_id]}\",\n",
    "            color=color,\n",
    "            ax=ax,\n",
    "            plot_chance_level=(class_id == 2),\n",
    "            despine=True,\n",
    "        )\n",
    "    \n",
    "    _ = ax.set(\n",
    "        xlabel=\"False Positive Rate\",\n",
    "        ylabel=\"True Positive Rate\",\n",
    "        title=\"Extension of Receiver Operating Characteristic\\nto One-vs-Rest multiclass\",\n",
    "    )"
   ]
  },
  {
   "cell_type": "code",
   "execution_count": 46,
   "id": "12710ef4-78b2-4c95-bad0-0498bfc81f1b",
   "metadata": {
    "execution": {
     "iopub.execute_input": "2025-06-10T16:36:10.988621Z",
     "iopub.status.busy": "2025-06-10T16:36:10.987947Z",
     "iopub.status.idle": "2025-06-10T16:36:29.501684Z",
     "shell.execute_reply": "2025-06-10T16:36:29.501251Z"
    },
    "papermill": {
     "duration": 18.530622,
     "end_time": "2025-06-10T16:36:29.503307",
     "exception": false,
     "start_time": "2025-06-10T16:36:10.972685",
     "status": "completed"
    },
    "tags": []
   },
   "outputs": [
    {
     "name": "stdout",
     "output_type": "stream",
     "text": [
      "Tuned Classification Threshold is: 0.560408353805542\n"
     ]
    },
    {
     "name": "stdout",
     "output_type": "stream",
     "text": [
      "The cross-validated accuracy (cv = 3) is: 0.7033528237136947\n",
      "The cross-validated f1 score(cv = 3) is: 0.698840058974227\n",
      "The cross-validated precision (cv = 3) is: 0.7202722315739812\n",
      "The cross-validated recall(cv = 3) is: 0.6790832406377456\n",
      "The cross-validated roc auc (cv = 3) is: 0.7701469014583405\n"
     ]
    },
    {
     "data": {
      "image/png": "[encoded data removed]",
      "text/plain": [
       "<Figure size 1600x600 with 3 Axes>"
      ]
     },
     "metadata": {},
     "output_type": "display_data"
    }
   ],
   "source": [
    "if technology == \"bulk\":\n",
    "    \n",
    "    tuner_thr = sk.model_selection.TunedThresholdClassifierCV(model_fs, \n",
    "                                                              scoring = \"balanced_accuracy\", \n",
    "                                                              cv = inner_cv)\n",
    "    model_thr = tuner_thr.fit(X_train_reduced, y_train)\n",
    "    pickle.dump(model_thr,open(\"bulk_MultiClassification_Output_with_HIC_and_Repliseq_0.1Mbp/thresholded_model\",\"wb\"))\n",
    "    \n",
    "    best_thr = model_thr.best_threshold_\n",
    "    \n",
    "    print(f\"Tuned Classification Threshold is: {best_thr}\")\n",
    "    \n",
    "    accuracy_array_thr = np.mean(sk.model_selection.cross_val_score(model_thr, X_train_reduced, y_train, cv = outer_cv, scoring = \"accuracy\"))\n",
    "    f1_array_thr = np.mean(sk.model_selection.cross_val_score(model_thr, X_train_reduced, y_train, cv = outer_cv, scoring = \"f1\"))\n",
    "    precision_array_thr = np.mean(sk.model_selection.cross_val_score(model_thr, X_train_reduced, y_train, cv = outer_cv, scoring = \"precision\"))\n",
    "    recall_array_thr = np.mean(sk.model_selection.cross_val_score(model_thr, X_train_reduced, y_train, cv = outer_cv, scoring = \"recall\"))\n",
    "    roc_auc_array_thr = np.mean(sk.model_selection.cross_val_score(model_thr, X_train_reduced, y_train, cv = outer_cv, scoring = \"roc_auc\"))\n",
    "    proba_predictions_thr = sk.model_selection.cross_val_predict(model_thr, X_train_reduced, y_train, cv = outer_cv, method= \"predict_proba\")[:,1]\n",
    "    class_array_thr = sk.model_selection.cross_val_predict(model_thr, X_train_reduced, y_train, cv = outer_cv, method= \"predict\")\n",
    "    \n",
    "    print(f\"The cross-validated accuracy (cv = {outer_cv}) is: {np.mean(accuracy_array_thr)}\")\n",
    "    print(f\"The cross-validated f1 score(cv = {outer_cv}) is: {np.mean(f1_array_thr)}\")\n",
    "    print(f\"The cross-validated precision (cv = {outer_cv}) is: {np.mean(precision_array_thr)}\")\n",
    "    print(f\"The cross-validated recall(cv = {outer_cv}) is: {np.mean(recall_array_thr)}\")\n",
    "    print(f\"The cross-validated roc auc (cv = {outer_cv}) is: {np.mean(roc_auc_array_thr)}\")\n",
    "    \n",
    "    fpr, tpr, thresholds = sk.metrics.roc_curve(y_train, proba_predictions_thr)\n",
    "    roc_auc = sk.metrics.auc(fpr, tpr)\n",
    "    \n",
    "    cm = sk.metrics.confusion_matrix(y_train, class_array_thr)\n",
    "    disp = sk.metrics.ConfusionMatrixDisplay(confusion_matrix=cm)\n",
    "    \n",
    "    fig, axes = plt.subplots(1, 2, figsize=(16, 6))\n",
    "    \n",
    "    axes[0].plot(fpr, tpr, color='darkorange', lw=2, label=f'ROC curve (area = {np.mean(roc_auc):.4f})')\n",
    "    axes[0].plot([0, 1], [0, 1], color='navy', lw=2, linestyle='--')\n",
    "    axes[0].set_xlim([0.0, 1.0])\n",
    "    axes[0].set_ylim([0.0, 1.0])\n",
    "    axes[0].set_xlabel('False Positive Rate')\n",
    "    axes[0].set_ylabel('True Positive Rate')\n",
    "    axes[0].set_title('Receiver Operating Characteristic (ROC) Curve')\n",
    "    axes[0].legend(loc='lower right')\n",
    "    \n",
    "    disp.plot(ax=axes[1])\n",
    "    plt.tight_layout()\n",
    "    plt.show()"
   ]
  },
  {
   "cell_type": "code",
   "execution_count": null,
   "id": "37effcd0-f243-482e-a147-45c2c7d4bc1d",
   "metadata": {
    "papermill": {
     "duration": 0.014593,
     "end_time": "2025-06-10T16:36:29.534062",
     "exception": false,
     "start_time": "2025-06-10T16:36:29.519469",
     "status": "completed"
    },
    "tags": []
   },
   "outputs": [],
   "source": []
  }
 ],
 "metadata": {
  "kernelspec": {
   "display_name": "Python 3 (System)",
   "language": "python",
   "name": "python3-system"
  },
  "language_info": {
   "codemirror_mode": {
    "name": "ipython",
    "version": 3
   },
   "file_extension": ".py",
   "mimetype": "text/x-python",
   "name": "python",
   "nbconvert_exporter": "python",
   "pygments_lexer": "ipython3",
   "version": "3.10.12"
  },
  "papermill": {
   "default_parameters": {},
   "duration": 31389.434728,
   "end_time": "2025-06-10T16:36:29.973718",
   "environment_variables": {},
   "exception": null,
   "input_path": "MultiClassification_Pipeline_Generalized.ipynb",
   "output_path": "bulk_MultiClassification_Output_with_HIC_and_Repliseq_0.1Mbp/MultiClassification_Pipeline_Generalized_Output.ipynb",
   "parameters": {},
   "start_time": "2025-06-10T07:53:20.538990",
   "version": "2.6.0"
  }
 },
 "nbformat": 4,
 "nbformat_minor": 5
}