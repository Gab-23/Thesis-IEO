{
 "cells": [
  {
   "cell_type": "markdown",
   "id": "b7856b0c",
   "metadata": {
    "papermill": {
     "duration": 0.011671,
     "end_time": "2025-06-09T12:24:57.830448",
     "exception": false,
     "start_time": "2025-06-09T12:24:57.818777",
     "status": "completed"
    },
    "tags": []
   },
   "source": [
    "# Machine Learning Pipeline - Production"
   ]
  },
  {
   "cell_type": "markdown",
   "id": "14cb215d",
   "metadata": {
    "papermill": {
     "duration": 0.010625,
     "end_time": "2025-06-09T12:24:57.851782",
     "exception": false,
     "start_time": "2025-06-09T12:24:57.841157",
     "status": "completed"
    },
    "tags": []
   },
   "source": [
    "Check the python kernel we are using, should be the local one, not the one in the virtual environment. <br>\n",
    "NOTE: A proper virtual environment will be setup later on"
   ]
  },
  {
   "cell_type": "code",
   "execution_count": null,
   "id": "7008ff2e",
   "metadata": {
    "papermill": {
     "duration": 0.025236,
     "end_time": "2025-06-09T12:24:57.886517",
     "exception": false,
     "start_time": "2025-06-09T12:24:57.861281",
     "status": "completed"
    },
    "tags": []
   },
   "outputs": [],
   "source": [
    "import sys\n",
    "print(sys.executable)"
   ]
  },
  {
   "cell_type": "code",
   "execution_count": null,
   "id": "9296f578",
   "metadata": {
    "papermill": {
     "duration": 0.019724,
     "end_time": "2025-06-09T12:24:57.915704",
     "exception": false,
     "start_time": "2025-06-09T12:24:57.895980",
     "status": "completed"
    },
    "tags": []
   },
   "outputs": [],
   "source": [
    "import os\n",
    "print(os.getcwd())"
   ]
  },
  {
   "cell_type": "markdown",
   "id": "edd7506a",
   "metadata": {
    "papermill": {
     "duration": 0.009604,
     "end_time": "2025-06-09T12:24:57.935018",
     "exception": false,
     "start_time": "2025-06-09T12:24:57.925414",
     "status": "completed"
    },
    "tags": []
   },
   "source": [
    "## Define Variables"
   ]
  },
  {
   "cell_type": "markdown",
   "id": "0e119b9e",
   "metadata": {
    "papermill": {
     "duration": 0.009639,
     "end_time": "2025-06-09T12:24:57.954608",
     "exception": false,
     "start_time": "2025-06-09T12:24:57.944969",
     "status": "completed"
    },
    "tags": []
   },
   "source": [
    "Set up main variables that will be called later on, for readibility purposes"
   ]
  },
  {
   "cell_type": "code",
   "execution_count": null,
   "id": "480c0577",
   "metadata": {
    "papermill": {
     "duration": 0.026357,
     "end_time": "2025-06-09T12:24:57.990560",
     "exception": false,
     "start_time": "2025-06-09T12:24:57.964203",
     "status": "completed"
    },
    "tags": []
   },
   "outputs": [],
   "source": [
    "install_bool = False\n",
    "path_to_datasets = \"/home/ieo7429/Desktop/THESIS_GAB/outfiles/target_variables/bulk_ML_tables_regression_classification_BRCA_0.1Mbp_with_HIC_and_Repliseq.RData\"\n",
    "\n",
    "mode = \"regrout\"\n",
    "technology = \"bulk\"\n",
    "\n",
    "if technology == \"sc\":\n",
    "    \n",
    "    cols_to_drop = [\"mean_log2FC\", \"joint_probability\", \"bool_diff_acc\", \n",
    "                    \"sign_mean_log2FC_1\", \"sign_mean_log2FC_2\", \"sign_mean_log2FC_3\", \n",
    "                    \"weighted_coef_of_var_log2FC\", \"weighted_log2FC\", \"bin\", \"Type\", \"replication_class\"]\n",
    "\n",
    "    cols_to_check = [\"mean_log2FC\", \"weighted_log2FC\", \"weighted_coef_of_var_log2FC\",\n",
    "                 \"joint_probability\", \"bool_diff_acc\", \"sign_mean_log2FC_1\", \n",
    "                 \"sign_mean_log2FC_2\", \"sign_mean_log2FC_3\", \"joined_direction\", \"significant_dir_1\"]\n",
    "\n",
    "else:\n",
    "    \n",
    "    cols_to_drop = [\"bool_diff_acc\", \"logFC\", \"significant_dir_1\",\n",
    "                    \"sign_mean_log2FC_2\", \"sign_mean_log2FC_3\", \n",
    "                    \"bin\", \"Type\", \"replication_class\"]\n",
    "\n",
    "    cols_to_check = [\"logFC\", \"bool_diff_acc\", \"sign_mean_log2FC_1\", \n",
    "                     \"sign_mean_log2FC_2\", \"sign_mean_log2FC_3\", \"joined_direction\",\n",
    "                     \"significant_dir_1\"]\n",
    "\n",
    "if \"ampl_score\" in cols_to_drop and \"del_score\" in cols_to_drop:\n",
    "\n",
    "    condition = \"without_CNA\"\n",
    "\n",
    "else:\n",
    "\n",
    "    condition = \"with CNA\"\n",
    "\n",
    "n_jobs_boost = 60\n",
    "n_jobs_sk = 1\n",
    "n_iter_bsearch = 25\n",
    "n_iter_rsearch = 50\n",
    "\n",
    "split_random_state = 489574\n",
    "classifier_seed = 3737\n",
    "classifier_random_state = 39473209\n",
    "hypertune_random_state_bsearch = 3847\n",
    "hypertune_random_state_rsearch = 49574\n",
    "kfold_random_state = 4909\n",
    "\n",
    "outer_cv = 3\n",
    "inner_cv = 2\n",
    "plot_variation = True\n",
    "plot_shap = True\n",
    "\n",
    "import os\n",
    "\n",
    "X_train_filename = \"bulk_MultiClassification_Output_with_HIC_and_Repliseq_0.1Mbp/multiclass_X_train_red\"; \n",
    "X_test_filename = \"bulk_MultiClassification_Output_with_HIC_and_Repliseq_0.1Mbp/multiclass_X_test_red\"\n",
    "y_train_filename = \"bulk_MultiClassification_Output_with_HIC_and_Repliseq_0.1Mbp/multiclass_y_train_red\"; \n",
    "y_test_filename = \"bulk_MultiClassification_Output_with_HIC_and_Repliseq_0.1Mbp/multiclass_y_test_red\"\n",
    "bin_train_filename = \"bulk_MultiClassification_Output_with_HIC_and_Repliseq_0.1Mbp/multiclass_bin_train_red\"; \n",
    "bin_test_filename = \"bulk_MultiClassification_Output_with_HIC_and_Repliseq_0.1Mbp/multiclass_bin_test_red\"\n",
    "model_filename = \"bulk_MultiClassification_Output_with_HIC_and_Repliseq_0.1Mbp/multiclass_final_model\"\n",
    "\n",
    "file_paths = [\n",
    "    X_train_filename, X_test_filename,\n",
    "    y_train_filename, y_test_filename,\n",
    "    bin_train_filename, bin_test_filename,\n",
    "    model_filename\n",
    "]\n",
    "\n",
    "base_dirs = {os.path.dirname(path) for path in file_paths}\n",
    "\n",
    "if len(base_dirs) != 1:\n",
    "    raise ValueError(f\"Inconsistent base directories found: {base_dirs}\")\n",
    "\n",
    "base_dir = base_dirs.pop()\n",
    "\n",
    "if not os.path.exists(base_dir):\n",
    "    raise FileNotFoundError(f\"Base directory does not exist: {base_dir}\")\n",
    "\n",
    "print(f\"Base directory is consistent and exists: {base_dir}\")"
   ]
  },
  {
   "cell_type": "markdown",
   "id": "1650654c",
   "metadata": {
    "papermill": {
     "duration": 0.009651,
     "end_time": "2025-06-09T12:24:58.010054",
     "exception": false,
     "start_time": "2025-06-09T12:24:58.000403",
     "status": "completed"
    },
    "tags": []
   },
   "source": [
    "## Install packages"
   ]
  },
  {
   "cell_type": "markdown",
   "id": "e7ce7656",
   "metadata": {
    "papermill": {
     "duration": 0.009602,
     "end_time": "2025-06-09T12:24:58.029423",
     "exception": false,
     "start_time": "2025-06-09T12:24:58.019821",
     "status": "completed"
    },
    "tags": []
   },
   "source": [
    "Install all needed packages"
   ]
  },
  {
   "cell_type": "code",
   "execution_count": null,
   "id": "6937455d",
   "metadata": {
    "papermill": {
     "duration": 0.031765,
     "end_time": "2025-06-09T12:24:58.070888",
     "exception": false,
     "start_time": "2025-06-09T12:24:58.039123",
     "status": "completed"
    },
    "tags": []
   },
   "outputs": [],
   "source": [
    "from IPython.display import clear_output\n",
    "\n",
    "if install_bool:\n",
    "    ! pip install pickleshare\n",
    "    ! pip install pandas\n",
    "    ! pip install scikit-learn\n",
    "    ! pip install seaborn\n",
    "    ! pip install scipy\n",
    "    ! pip install --upgrade pip setuptools wheel\n",
    "    ! pip install rpy2\n",
    "    ! pip install shap\n",
    "    ! pip install \"numpy<=2.1\"\n",
    "    %pip install -U ipywidgets\n",
    "\n",
    "clear_output(wait = False)"
   ]
  },
  {
   "cell_type": "markdown",
   "id": "2a2aa148",
   "metadata": {
    "papermill": {
     "duration": 0.009552,
     "end_time": "2025-06-09T12:24:58.090468",
     "exception": false,
     "start_time": "2025-06-09T12:24:58.080916",
     "status": "completed"
    },
    "tags": []
   },
   "source": [
    "## Import libraries"
   ]
  },
  {
   "cell_type": "markdown",
   "id": "369ac6a4",
   "metadata": {
    "papermill": {
     "duration": 0.009372,
     "end_time": "2025-06-09T12:24:58.109422",
     "exception": false,
     "start_time": "2025-06-09T12:24:58.100050",
     "status": "completed"
    },
    "tags": []
   },
   "source": [
    "Import all packages"
   ]
  },
  {
   "cell_type": "code",
   "execution_count": null,
   "id": "17f21969",
   "metadata": {
    "papermill": {
     "duration": 2.37353,
     "end_time": "2025-06-09T12:25:00.492469",
     "exception": false,
     "start_time": "2025-06-09T12:24:58.118939",
     "status": "completed"
    },
    "tags": []
   },
   "outputs": [],
   "source": [
    "import numpy as np\n",
    "import pandas as pd\n",
    "import sklearn as sk\n",
    "import seaborn as sns\n",
    "import matplotlib.pyplot as plt\n",
    "import scipy as sp\n",
    "import rpy2.robjects as ro\n",
    "import xgboost as xgb\n",
    "import shap\n",
    "import warnings\n",
    "import pickleshare\n",
    "import pickle\n",
    "from rpy2.robjects import pandas2ri\n",
    "from rpy2.robjects.conversion import localconverter\n",
    "from skopt import BayesSearchCV\n",
    "from sklearn.feature_selection import SelectFromModel"
   ]
  },
  {
   "cell_type": "markdown",
   "id": "d5c8281d",
   "metadata": {
    "papermill": {
     "duration": 0.00465,
     "end_time": "2025-06-09T12:25:00.504083",
     "exception": false,
     "start_time": "2025-06-09T12:25:00.499433",
     "status": "completed"
    },
    "tags": []
   },
   "source": [
    "## Define Functions"
   ]
  },
  {
   "cell_type": "markdown",
   "id": "4aeb05cf",
   "metadata": {
    "papermill": {
     "duration": 0.0045,
     "end_time": "2025-06-09T12:25:00.513062",
     "exception": false,
     "start_time": "2025-06-09T12:25:00.508562",
     "status": "completed"
    },
    "tags": []
   },
   "source": [
    "### load_datasets_from_r\n",
    "Reads \"ML.Tables\" .Rdata file and converts it to a nested dictionary."
   ]
  },
  {
   "cell_type": "code",
   "execution_count": null,
   "id": "ba30dfa8",
   "metadata": {
    "papermill": {
     "duration": 0.014606,
     "end_time": "2025-06-09T12:25:00.532256",
     "exception": false,
     "start_time": "2025-06-09T12:25:00.517650",
     "status": "completed"
    },
    "tags": []
   },
   "outputs": [],
   "source": [
    "def load_datasets_from_r(file_path):\n",
    "\n",
    "    \"\"\" \n",
    "    The function uses rpy2 to load datasets from an RData file.\n",
    "    In particular it expects a list of data.frames\n",
    "    It returns a dictionary of pandas DataFrames.\n",
    "    \"\"\"\n",
    "    \n",
    "    pandas2ri.activate()\n",
    "\n",
    "    ro.r['load'](file_path) # load the .RData\n",
    "\n",
    "    env = ro.globalenv # set the environment\n",
    "\n",
    "    r_list = env[list(env.keys())[0]] # take the list object\n",
    "\n",
    "    list_names = ro.r['names'](r_list) # take the names\n",
    "    list_names = [str(name) for name in list_names]\n",
    "\n",
    "    df_dict = {} # initialize outer dictionary\n",
    "    with (ro.default_converter + ro.pandas2ri.converter).context(): # start the conversion\n",
    "    # the conversion transforms a list of lists of lists of data.frames \n",
    "    # to a list of dictionaries of dictionaries of dictionaries of DataFrame\n",
    "        i = 0\n",
    "        for outer_dict in r_list:\n",
    "            df_dict[list_names[i]] = outer_dict\n",
    "            i += 1\n",
    "            \n",
    "    return(df_dict)"
   ]
  },
  {
   "cell_type": "markdown",
   "id": "a0a68c6d",
   "metadata": {
    "papermill": {
     "duration": 0.004615,
     "end_time": "2025-06-09T12:25:00.541585",
     "exception": false,
     "start_time": "2025-06-09T12:25:00.536970",
     "status": "completed"
    },
    "tags": []
   },
   "source": [
    "### gini_coefficient"
   ]
  },
  {
   "cell_type": "markdown",
   "id": "26838c63",
   "metadata": {
    "papermill": {
     "duration": 0.004169,
     "end_time": "2025-06-09T12:25:00.549994",
     "exception": false,
     "start_time": "2025-06-09T12:25:00.545825",
     "status": "completed"
    },
    "tags": []
   },
   "source": [
    "Function to compute the gini coefficient (2 * AUC - 1)"
   ]
  },
  {
   "cell_type": "code",
   "execution_count": null,
   "id": "951351e0",
   "metadata": {
    "papermill": {
     "duration": 0.012212,
     "end_time": "2025-06-09T12:25:00.566518",
     "exception": false,
     "start_time": "2025-06-09T12:25:00.554306",
     "status": "completed"
    },
    "tags": []
   },
   "outputs": [],
   "source": [
    "def gini_coefficient_score(y_true, y_pred_prob, **kwargs):\n",
    "    y_score = y_pred_prob\n",
    "    auc_score = sk.metrics.roc_auc_score(y_true, y_score, multi_class='ovr')\n",
    "    gini_coef = 2 * auc_score - 1\n",
    "    return gini_coef"
   ]
  },
  {
   "cell_type": "code",
   "execution_count": null,
   "id": "9f295e8e",
   "metadata": {
    "papermill": {
     "duration": 0.01215,
     "end_time": "2025-06-09T12:25:00.583573",
     "exception": false,
     "start_time": "2025-06-09T12:25:00.571423",
     "status": "completed"
    },
    "tags": []
   },
   "outputs": [],
   "source": [
    "gini_coefficient = sk.metrics.make_scorer(gini_coefficient_score, response_method = \"predict_proba\", greater_is_better= True)"
   ]
  },
  {
   "cell_type": "markdown",
   "id": "36bf2cbd",
   "metadata": {
    "papermill": {
     "duration": 0.004231,
     "end_time": "2025-06-09T12:25:00.610295",
     "exception": false,
     "start_time": "2025-06-09T12:25:00.606064",
     "status": "completed"
    },
    "tags": []
   },
   "source": [
    "### feature_selector\n",
    "his function performs Incremental Feature Selection (IFS) to produce a reduced model <br> with best gini coefficient (2 * AUC - 1) performance with cross validation.\n",
    "Mean absolute SHAP values are used to select features"
   ]
  },
  {
   "cell_type": "code",
   "execution_count": null,
   "id": "1fba278e",
   "metadata": {
    "papermill": {
     "duration": 0.019881,
     "end_time": "2025-06-09T12:25:00.634417",
     "exception": false,
     "start_time": "2025-06-09T12:25:00.614536",
     "status": "completed"
    },
    "tags": []
   },
   "outputs": [],
   "source": [
    "def feature_selector_shap(feature_names, feature_importances, model, \n",
    "                          X_train, X_test, y_train, inner_cv,\n",
    "                          plot = True, verbose = True):\n",
    "\n",
    "    \"\"\"\n",
    "    The function takes as input feature names, feature importances, \n",
    "    a XGBoost Classifier object, the training and test dataset\n",
    "    and returns the reduced training and test datasets.\n",
    "    - plot parameter regulates whether or not to plot the Gini Coefficient vs number of feature plot\n",
    "    - verbose parameter regulates whether or not to produce a text output\n",
    "    \"\"\"\n",
    "\n",
    "    thresholds = np.sort(feature_importances) # sort the feature importances\n",
    "    num_features_list = [] # initialize list\n",
    "    gini_coef_list = [] # initialize list\n",
    "    \n",
    "    for threshold in thresholds: # iterate over thresholds\n",
    "        \n",
    "        vars_to_keep = np.where(feature_importances >= threshold)[0]\n",
    "        X_train_selected = X_train.iloc[:,vars_to_keep]\n",
    "\n",
    "        gini_coef_scores = sk.model_selection.cross_val_score(estimator = model, \n",
    "                                                              X = X_train_selected, y = y_train, \n",
    "                                                              scoring = gini_coefficient, cv = inner_cv)\n",
    "        mean_gini_coef_score = np.mean(gini_coef_scores)\n",
    "        \n",
    "        num_features_list.append(X_train_selected.shape[1]) # append\n",
    "        gini_coef_list.append(mean_gini_coef_score) # append\n",
    "\n",
    "        if verbose:\n",
    "            print(f'> threshold={threshold}, features={X_train_selected.shape[1]}, gini coefficient={mean_gini_coef_score}')\n",
    "        \n",
    "        if len(vars_to_keep) == 1:\n",
    "            break\n",
    "\n",
    "    if plot:\n",
    "        plt.figure(figsize=(8, 6))\n",
    "        plt.plot(num_features_list, gini_coef_list, marker='o')\n",
    "        plt.xlabel('Number of Selected Features')\n",
    "        plt.ylabel('cross validated mean Ginny coefficient')\n",
    "        plt.title('Gini coefficient vs. Number of Selected Features')\n",
    "        plt.grid(True)\n",
    "        plt.show()\n",
    "\n",
    "    optimal_threshold_index = np.argmax(gini_coef_list)\n",
    "    optimal_num_features = num_features_list[optimal_threshold_index]\n",
    "    \n",
    "    if (optimal_threshold_index) == 0:\n",
    "        optimal_threshold = 0\n",
    "    else:   \n",
    "        optimal_threshold = thresholds[optimal_threshold_index - 1]\n",
    "\n",
    "    if verbose:\n",
    "        print(f\"Optimal Threshold: {optimal_threshold:.4f}\")\n",
    "        print(f\"Number of Selected Features: {optimal_num_features}\")\n",
    "        print(f\"Gini coef at Optimal Threshold: {gini_coef_list[optimal_threshold_index]:.4f}\")\n",
    "        print(\"\\n\")\n",
    "        \n",
    "    n = 5\n",
    "    selected_features = feature_names[np.where(feature_importances > optimal_threshold)]\n",
    "    selected_features = [str(name) for name in selected_features]\n",
    "    discarded_features = [str(name) for name in feature_names if str(name) not in selected_features]\n",
    "\n",
    "    if verbose:\n",
    "        print(\"Selected features are: \\n\")\n",
    "        for i in range(0,len(selected_features), n):\n",
    "            print(\"  \".join(selected_features[i:i+n]))\n",
    "        print(\"\\n\")\n",
    "        print(\"Discarded features are: \\n\")\n",
    "        for i in range(0,len(discarded_features), n):\n",
    "            print(\"  \".join(discarded_features[i:i+n]))\n",
    "\n",
    "    X_train_reduced = X_train[selected_features]\n",
    "    X_test_reduced = X_test[selected_features]\n",
    "    \n",
    "    return(X_train_reduced, X_test_reduced, selected_features)    "
   ]
  },
  {
   "cell_type": "markdown",
   "id": "444682aa",
   "metadata": {
    "papermill": {
     "duration": 0.004718,
     "end_time": "2025-06-09T12:25:00.644781",
     "exception": false,
     "start_time": "2025-06-09T12:25:00.640063",
     "status": "completed"
    },
    "tags": []
   },
   "source": [
    "### Nested CV la vendetta"
   ]
  },
  {
   "cell_type": "code",
   "execution_count": null,
   "id": "7687e37e",
   "metadata": {
    "papermill": {
     "duration": 0.021183,
     "end_time": "2025-06-09T12:25:00.670655",
     "exception": false,
     "start_time": "2025-06-09T12:25:00.649472",
     "status": "completed"
    },
    "tags": []
   },
   "outputs": [],
   "source": [
    "def nested_CV_revenge(outer_cv, inner_cv,\n",
    "                      X_train, y_train, \n",
    "                      model, search_space, \n",
    "                      n_jobs, n_iter_bsearch, verbose):\n",
    "    \n",
    "    \"\"\"\n",
    "    The function performs nested cross validation to estimate model's error rate\n",
    "    It take the cv number, the training dataset, the target variable, the model or a BayesSearchCV\n",
    "    and a search space to perform hyperparameter tuning\n",
    "    \"\"\"\n",
    "    \n",
    "    kf = sk.model_selection.KFold(n_splits = outer_cv, \n",
    "                                  shuffle=True, \n",
    "                                  random_state = kfold_random_state)\n",
    "    \n",
    "\n",
    "    hyperparam_list = []\n",
    "    selected_features_list = []\n",
    "    accuracy_array = np.zeros(outer_cv)\n",
    "    f1_array = np.zeros(outer_cv)\n",
    "    precision_array = np.zeros(outer_cv)\n",
    "    recall_array = np.zeros(outer_cv)\n",
    "    roc_auc_array = np.zeros(outer_cv)\n",
    "    predictions_array = np.zeros(len(X_train))\n",
    "    probas_array = np.zeros((len(X_train),len(np.unique(y_train))))\n",
    "    \n",
    "    i = 0\n",
    "    for train_index, val_index in kf.split(X_train):\n",
    "\n",
    "        if verbose:\n",
    "            print(f\"Fold #{i + 1}\")\n",
    "            \n",
    "        if verbose:\n",
    "            print(\"STEP 1 (Splitting)\")\n",
    "            \n",
    "        X_train_cv, X_val = X_train.iloc[train_index], X_train.iloc[val_index]\n",
    "        y_train_cv, y_val = y_train.iloc[train_index], y_train.iloc[val_index]\n",
    "        \n",
    "        if verbose:\n",
    "            print(\"STEP 2 (Tuning)\")\n",
    "\n",
    "        if verbose:\n",
    "            print(\"STEP 2.1 (HyperParameter Tuning Part 1)\")\n",
    "        \n",
    "        opti = BayesSearchCV(\n",
    "            estimator = model,\n",
    "            search_spaces = search_space,\n",
    "            n_iter = n_iter_bsearch,\n",
    "            cv = inner_cv,\n",
    "            random_state = hypertune_random_state_bsearch,\n",
    "            refit = True,\n",
    "            n_jobs = n_jobs,\n",
    "            verbose = 3\n",
    "        )\n",
    "        \n",
    "        opti.fit(X_train_cv, y_train_cv)\n",
    "        best_model = opti.best_estimator_\n",
    "\n",
    "        if verbose:\n",
    "            print(\"STEP 2.2 (SHAP)\")\n",
    "        \n",
    "        explainer = shap.TreeExplainer(best_model)\n",
    "\n",
    "        feature_names = best_model.feature_names_in_\n",
    "        feature_importances_shap = np.mean(np.mean(np.abs(explainer.shap_values(X_train_cv)), axis = 0), axis = 1)\n",
    "    \n",
    "        if verbose:\n",
    "            print(\"STEP 2.3 (Feature selection)\")\n",
    "        \n",
    "        X_train_cv_reduced, X_val_cv_reduced, selected_features = feature_selector_shap(feature_names, feature_importances_shap, \n",
    "                                                                                        best_model, \n",
    "                                                                                        X_train_cv, X_val, y_train_cv,\n",
    "                                                                                        inner_cv,\n",
    "                                                                                        plot = False, verbose = False)\n",
    "\n",
    "        if verbose:\n",
    "            print(\"STEP 2.4 (HyperParameter Tuning Part 2)\")\n",
    "        \n",
    "        opti_fs = BayesSearchCV(\n",
    "            estimator = best_model, \n",
    "            search_spaces = search_space, \n",
    "            n_iter = n_iter_bsearch, \n",
    "            cv = inner_cv,\n",
    "            random_state = hypertune_random_state_bsearch,\n",
    "            refit = True, \n",
    "            n_jobs = n_jobs,\n",
    "            verbose = 3\n",
    "        )\n",
    "        \n",
    "        opti_fs.fit(X_train_cv_reduced, y_train_cv)\n",
    "        best_model_fs = opti_fs.best_estimator_\n",
    "        best_params_fs = opti_fs.best_params_\n",
    "        \n",
    "        if verbose:\n",
    "            print(\"STEP 3 (Prediction)\")\n",
    "        \n",
    "        cv_predictions = best_model_fs.predict(X_val_cv_reduced)\n",
    "        cv_pred_probas = best_model_fs.predict_proba(X_val_cv_reduced)\n",
    "        \n",
    "        cv_accuracy = sk.metrics.accuracy_score(y_val, cv_predictions)\n",
    "        cv_f1 = sk.metrics.f1_score(y_val, cv_predictions, average = \"macro\")\n",
    "        cv_precision = sk.metrics.precision_score(y_val, cv_predictions, average = \"macro\")\n",
    "        cv_recall = sk.metrics.recall_score(y_val, cv_predictions, average = \"macro\")\n",
    "        cv_roc_auc = sk.metrics.roc_auc_score(y_val, cv_pred_probas, multi_class='ovr', average = \"macro\")\n",
    "        \n",
    "        hyperparam_list.append(best_params_fs)\n",
    "        selected_features_list.append(selected_features)\n",
    "        accuracy_array[i] = cv_accuracy \n",
    "        f1_array[i] = cv_f1\n",
    "        precision_array[i] = cv_precision\n",
    "        recall_array[i] = cv_recall\n",
    "        roc_auc_array[i] = cv_roc_auc\n",
    "        predictions_array[val_index] = cv_predictions\n",
    "        probas_array[val_index] = cv_pred_probas\n",
    "        \n",
    "        i += 1\n",
    "\n",
    "    return(hyperparam_list, selected_features_list, \n",
    "           accuracy_array, f1_array, precision_array, \n",
    "           recall_array, roc_auc_array, predictions_array, probas_array)"
   ]
  },
  {
   "cell_type": "code",
   "execution_count": null,
   "id": "72d61cd6",
   "metadata": {
    "papermill": {
     "duration": 0.019861,
     "end_time": "2025-06-09T12:25:00.696224",
     "exception": false,
     "start_time": "2025-06-09T12:25:00.676363",
     "status": "completed"
    },
    "tags": []
   },
   "outputs": [],
   "source": [
    "def nested_CV_revenge_binary(outer_cv, inner_cv,\n",
    "                      X_train, y_train, \n",
    "                      model, search_space, \n",
    "                      n_jobs, n_iter_bsearch, verbose):\n",
    "    \n",
    "    \"\"\"\n",
    "    The function performs nested cross validation to estimate model's error rate\n",
    "    It take the cv number, the training dataset, the target variable, the model or a BayesSearchCV\n",
    "    and a search space to perform hyperparameter tuning\n",
    "    \"\"\"\n",
    "    \n",
    "    kf = sk.model_selection.KFold(n_splits = outer_cv, \n",
    "                                  shuffle=True, \n",
    "                                  random_state = kfold_random_state)\n",
    "    \n",
    "\n",
    "    hyperparam_list = []\n",
    "    selected_features_list = []\n",
    "    accuracy_array = np.zeros(outer_cv)\n",
    "    f1_array = np.zeros(outer_cv)\n",
    "    precision_array = np.zeros(outer_cv)\n",
    "    recall_array = np.zeros(outer_cv)\n",
    "    roc_auc_array = np.zeros(outer_cv)\n",
    "    predictions_array = np.zeros(len(X_train))\n",
    "    probas_array = np.zeros((len(X_train)))\n",
    "    \n",
    "    i = 0\n",
    "    for train_index, val_index in kf.split(X_train):\n",
    "\n",
    "        if verbose:\n",
    "            print(f\"Fold #{i + 1}\")\n",
    "            \n",
    "        if verbose:\n",
    "            print(\"STEP 1 (Splitting)\")\n",
    "            \n",
    "        X_train_cv, X_val = X_train.iloc[train_index], X_train.iloc[val_index]\n",
    "        y_train_cv, y_val = y_train.iloc[train_index], y_train.iloc[val_index]\n",
    "        \n",
    "        if verbose:\n",
    "            print(\"STEP 2 (Tuning)\")\n",
    "\n",
    "        if verbose:\n",
    "            print(\"STEP 2.1 (HyperParameter Tuning Part 1)\")\n",
    "        \n",
    "        opti = BayesSearchCV(\n",
    "            estimator = model,\n",
    "            search_spaces = search_space,\n",
    "            n_iter = n_iter_bsearch,\n",
    "            cv = inner_cv,\n",
    "            random_state = hypertune_random_state_bsearch,\n",
    "            refit = True,\n",
    "            n_jobs = n_jobs,\n",
    "            verbose = 0\n",
    "        )\n",
    "        \n",
    "        opti.fit(X_train_cv, y_train_cv)\n",
    "        best_model = opti.best_estimator_\n",
    "\n",
    "        if verbose:\n",
    "            print(\"STEP 2.2 (SHAP)\")\n",
    "        \n",
    "        explainer = shap.TreeExplainer(best_model)\n",
    "\n",
    "        feature_names = best_model.feature_names_in_\n",
    "        feature_importances_shap = np.mean(np.abs(explainer.shap_values(X_train_cv)), axis = 0)\n",
    "    \n",
    "        if verbose:\n",
    "            print(\"STEP 2.3 (Feature selection)\")\n",
    "        \n",
    "        X_train_cv_reduced, X_val_cv_reduced, selected_features = feature_selector_shap(feature_names, feature_importances_shap, \n",
    "                                                                                        best_model, \n",
    "                                                                                        X_train_cv, X_val, y_train_cv,\n",
    "                                                                                        inner_cv,\n",
    "                                                                                        plot = False, verbose = True)\n",
    "\n",
    "        if verbose:\n",
    "            print(\"STEP 2.4 (HyperParameter Tuning Part 2)\")\n",
    "        \n",
    "        opti_fs = BayesSearchCV(\n",
    "            estimator = best_model, \n",
    "            search_spaces = search_space, \n",
    "            n_iter = n_iter_bsearch, \n",
    "            cv = inner_cv,\n",
    "            random_state = hypertune_random_state_bsearch,\n",
    "            refit = True, \n",
    "            n_jobs = n_jobs,\n",
    "            verbose = 0\n",
    "        )\n",
    "        \n",
    "        opti_fs.fit(X_train_cv_reduced, y_train_cv)\n",
    "        best_model_fs = opti_fs.best_estimator_\n",
    "        best_params_fs = opti_fs.best_params_\n",
    "        \n",
    "        if verbose:\n",
    "            print(\"STEP 3 (Prediction)\")\n",
    "        \n",
    "        cv_predictions = best_model_fs.predict(X_val_cv_reduced)\n",
    "        cv_pred_probas = best_model_fs.predict_proba(X_val_cv_reduced)[:,1]\n",
    "        \n",
    "        cv_accuracy = sk.metrics.accuracy_score(y_val, cv_predictions)\n",
    "        cv_f1 = sk.metrics.f1_score(y_val, cv_predictions)\n",
    "        cv_precision = sk.metrics.precision_score(y_val, cv_predictions)\n",
    "        cv_recall = sk.metrics.recall_score(y_val, cv_predictions)\n",
    "        cv_roc_auc = sk.metrics.roc_auc_score(y_val, cv_pred_probas)\n",
    "        \n",
    "        hyperparam_list.append(best_params_fs)\n",
    "        selected_features_list.append(selected_features)\n",
    "        accuracy_array[i] = cv_accuracy \n",
    "        f1_array[i] = cv_f1\n",
    "        precision_array[i] = cv_precision\n",
    "        recall_array[i] = cv_recall\n",
    "        roc_auc_array[i] = cv_roc_auc\n",
    "        predictions_array[val_index] = cv_predictions\n",
    "        probas_array[val_index] = cv_pred_probas\n",
    "        \n",
    "        i += 1\n",
    "\n",
    "    return(hyperparam_list, selected_features_list, \n",
    "           accuracy_array, f1_array, precision_array, \n",
    "           recall_array, roc_auc_array, predictions_array, probas_array)"
   ]
  },
  {
   "cell_type": "markdown",
   "id": "ea5e340d",
   "metadata": {
    "papermill": {
     "duration": 0.004747,
     "end_time": "2025-06-09T12:25:00.705751",
     "exception": false,
     "start_time": "2025-06-09T12:25:00.701004",
     "status": "completed"
    },
    "tags": []
   },
   "source": [
    "## Load Data"
   ]
  },
  {
   "cell_type": "code",
   "execution_count": null,
   "id": "c53d59eb",
   "metadata": {
    "papermill": {
     "duration": 0.173942,
     "end_time": "2025-06-09T12:25:00.884520",
     "exception": false,
     "start_time": "2025-06-09T12:25:00.710578",
     "status": "completed"
    },
    "tags": []
   },
   "outputs": [],
   "source": [
    "output_dict = load_datasets_from_r(path_to_datasets)"
   ]
  },
  {
   "cell_type": "code",
   "execution_count": null,
   "id": "969fc0a5",
   "metadata": {
    "papermill": {
     "duration": 0.010716,
     "end_time": "2025-06-09T12:25:00.900144",
     "exception": false,
     "start_time": "2025-06-09T12:25:00.889428",
     "status": "completed"
    },
    "tags": []
   },
   "outputs": [],
   "source": [
    "working_df = output_dict[mode]"
   ]
  },
  {
   "cell_type": "code",
   "execution_count": null,
   "id": "bced8cdf",
   "metadata": {
    "papermill": {
     "duration": 0.029698,
     "end_time": "2025-06-09T12:25:00.934729",
     "exception": false,
     "start_time": "2025-06-09T12:25:00.905031",
     "status": "completed"
    },
    "tags": []
   },
   "outputs": [],
   "source": [
    "working_df.head()"
   ]
  },
  {
   "cell_type": "code",
   "execution_count": null,
   "id": "467bfcb7",
   "metadata": {
    "papermill": {
     "duration": 0.012936,
     "end_time": "2025-06-09T12:25:00.952512",
     "exception": false,
     "start_time": "2025-06-09T12:25:00.939576",
     "status": "completed"
    },
    "tags": []
   },
   "outputs": [],
   "source": [
    "significant_dir_1 = np.where(\n",
    "    (working_df.bool_diff_acc == 1) & (working_df.sign_mean_log2FC_1 == 1), 2,\n",
    "    np.where(\n",
    "        (working_df.bool_diff_acc == 1) & (working_df.sign_mean_log2FC_1 == -1), 0, 1\n",
    "    )\n",
    ")\n",
    "\n",
    "sign_mean_log2FC_1 = np.where(working_df.sign_mean_log2FC_1 == -1, 0, 1)"
   ]
  },
  {
   "cell_type": "code",
   "execution_count": null,
   "id": "18aad19b",
   "metadata": {
    "papermill": {
     "duration": 0.013658,
     "end_time": "2025-06-09T12:25:00.971216",
     "exception": false,
     "start_time": "2025-06-09T12:25:00.957558",
     "status": "completed"
    },
    "tags": []
   },
   "outputs": [],
   "source": [
    "working_df[\"significant_dir_1\"] = significant_dir_1\n",
    "working_df[\"sign_mean_log2FC_1\"] = sign_mean_log2FC_1"
   ]
  },
  {
   "cell_type": "code",
   "execution_count": null,
   "id": "d947b61c",
   "metadata": {
    "papermill": {
     "duration": 0.498253,
     "end_time": "2025-06-09T12:25:01.475625",
     "exception": false,
     "start_time": "2025-06-09T12:25:00.977372",
     "status": "completed"
    },
    "tags": []
   },
   "outputs": [],
   "source": [
    "fig, axes = plt.subplots(3, 2, figsize=(12, 5))\n",
    "\n",
    "A = axes[0,0]\n",
    "B = axes[0,1]\n",
    "C = axes[1,0]\n",
    "D = axes[1,1]\n",
    "E = axes[2,0]\n",
    "F = axes[2,1]\n",
    "\n",
    "sns.barplot(working_df.bool_diff_acc.value_counts(), ax = A)\n",
    "sns.barplot(working_df.sign_mean_log2FC_1.value_counts(), ax = B)\n",
    "sns.barplot(working_df.sign_mean_log2FC_2.value_counts(), ax = C)\n",
    "sns.barplot(working_df.sign_mean_log2FC_3.value_counts(), ax = D)\n",
    "sns.barplot(working_df.significant_dir_1.value_counts(), ax = E)\n",
    "\n",
    "\n",
    "A.set_title(\"Differential Accessibility across patients (boolean) [A]\")\n",
    "B.set_title(\"Differential Accessibility direction (v = 1) [B]\")\n",
    "C.set_title(\"Differential Accessibility direction (v = 2) [C]\")\n",
    "D.set_title(\"Differential Accessibility direction (v = 3) [D]\")\n",
    "E.set_title(\"Signficant Direction (v = 1) [E]\")\n",
    "\n",
    "A.set_xlabel(\"\"); A.set_ylabel(\"\")\n",
    "B.set_xlabel(\"\"); B.set_ylabel(\"\")\n",
    "C.set_xlabel(\"\"); C.set_ylabel(\"\")\n",
    "D.set_xlabel(\"\"); D.set_ylabel(\"\")\n",
    "E.set_xlabel(\"\"); E.set_ylabel(\"\")\n",
    "\n",
    "F.axis('off')\n",
    "\n",
    "plt.tight_layout()"
   ]
  },
  {
   "cell_type": "markdown",
   "id": "e9c385ac",
   "metadata": {
    "papermill": {
     "duration": 0.005624,
     "end_time": "2025-06-09T12:25:01.487909",
     "exception": false,
     "start_time": "2025-06-09T12:25:01.482285",
     "status": "completed"
    },
    "tags": []
   },
   "source": [
    "## Prepare Data"
   ]
  },
  {
   "cell_type": "code",
   "execution_count": null,
   "id": "7afa458d",
   "metadata": {
    "papermill": {
     "duration": 0.016277,
     "end_time": "2025-06-09T12:25:01.509731",
     "exception": false,
     "start_time": "2025-06-09T12:25:01.493454",
     "status": "completed"
    },
    "tags": []
   },
   "outputs": [],
   "source": [
    "bin_ids = working_df[[\"bin\"]]"
   ]
  },
  {
   "cell_type": "code",
   "execution_count": null,
   "id": "b526621d",
   "metadata": {
    "papermill": {
     "duration": 0.013426,
     "end_time": "2025-06-09T12:25:01.531240",
     "exception": false,
     "start_time": "2025-06-09T12:25:01.517814",
     "status": "completed"
    },
    "tags": []
   },
   "outputs": [],
   "source": [
    "working_df = working_df.drop(cols_to_drop, axis= 1)"
   ]
  },
  {
   "cell_type": "code",
   "execution_count": null,
   "id": "930b8202",
   "metadata": {
    "papermill": {
     "duration": 0.027944,
     "end_time": "2025-06-09T12:25:01.571397",
     "exception": false,
     "start_time": "2025-06-09T12:25:01.543453",
     "status": "completed"
    },
    "tags": []
   },
   "outputs": [],
   "source": [
    "working_df.head()"
   ]
  },
  {
   "cell_type": "code",
   "execution_count": null,
   "id": "a7df5cba",
   "metadata": {
    "papermill": {
     "duration": 0.021181,
     "end_time": "2025-06-09T12:25:01.603971",
     "exception": false,
     "start_time": "2025-06-09T12:25:01.582790",
     "status": "completed"
    },
    "tags": []
   },
   "outputs": [],
   "source": [
    "if technology == \"sc\":\n",
    "    X = working_df.iloc[:, 0:-1]\n",
    "    y = working_df.iloc[:, -1]\n",
    "else:\n",
    "    X = working_df.iloc[:,1:]\n",
    "    y = working_df.iloc[:,0]"
   ]
  },
  {
   "cell_type": "code",
   "execution_count": null,
   "id": "29fc2772",
   "metadata": {
    "papermill": {
     "duration": 0.029108,
     "end_time": "2025-06-09T12:25:01.644461",
     "exception": false,
     "start_time": "2025-06-09T12:25:01.615353",
     "status": "completed"
    },
    "tags": []
   },
   "outputs": [],
   "source": [
    "X.head()"
   ]
  },
  {
   "cell_type": "code",
   "execution_count": null,
   "id": "e71d9885",
   "metadata": {
    "papermill": {
     "duration": 0.02332,
     "end_time": "2025-06-09T12:25:01.679666",
     "exception": false,
     "start_time": "2025-06-09T12:25:01.656346",
     "status": "completed"
    },
    "tags": []
   },
   "outputs": [],
   "source": [
    "if len([col for col in cols_to_check if col in X.columns]) > 0:\n",
    "    raise Exception(\"Target Variable and derivated in the training set!\")\n",
    "else:\n",
    "    print(\"Target Variable outside training set!\")"
   ]
  },
  {
   "cell_type": "code",
   "execution_count": null,
   "id": "482c474f",
   "metadata": {
    "papermill": {
     "duration": 0.020796,
     "end_time": "2025-06-09T12:25:01.712264",
     "exception": false,
     "start_time": "2025-06-09T12:25:01.691468",
     "status": "completed"
    },
    "tags": []
   },
   "outputs": [],
   "source": [
    "X.columns"
   ]
  },
  {
   "cell_type": "code",
   "execution_count": null,
   "id": "0dfde871",
   "metadata": {
    "papermill": {
     "duration": 0.024623,
     "end_time": "2025-06-09T12:25:01.748852",
     "exception": false,
     "start_time": "2025-06-09T12:25:01.724229",
     "status": "completed"
    },
    "tags": []
   },
   "outputs": [],
   "source": [
    "X_train, X_test, y_train, y_test, bin_train, bin_test = sk.model_selection.train_test_split(X, y, bin_ids, test_size=0.3, random_state=split_random_state)"
   ]
  },
  {
   "cell_type": "code",
   "execution_count": null,
   "id": "e68e0e4b-5a0e-494a-b6ba-e2835d10889f",
   "metadata": {},
   "outputs": [],
   "source": [
    "X_train"
   ]
  },
  {
   "cell_type": "markdown",
   "id": "5125b311",
   "metadata": {
    "papermill": {
     "duration": 0.011816,
     "end_time": "2025-06-09T12:25:01.772874",
     "exception": false,
     "start_time": "2025-06-09T12:25:01.761058",
     "status": "completed"
    },
    "tags": []
   },
   "source": [
    "## Prepare the Classifier and the Search Space"
   ]
  },
  {
   "cell_type": "code",
   "execution_count": null,
   "id": "dac38e0b",
   "metadata": {
    "papermill": {
     "duration": 0.023428,
     "end_time": "2025-06-09T12:25:01.808230",
     "exception": false,
     "start_time": "2025-06-09T12:25:01.784802",
     "status": "completed"
    },
    "tags": []
   },
   "outputs": [],
   "source": [
    "classifier = xgb.XGBClassifier(n_jobs = n_jobs_boost, seed = classifier_seed, random_state = classifier_random_state, tree_method = \"hist\", device = \"cpu\")\n",
    "\n",
    "if technology == \"sc\":\n",
    "\n",
    "    search_space_bayes = {\n",
    "        'learning_rate': (0.01, 0.3),                     # conservative to prevent noisy learning\n",
    "        'max_depth': (1, 14),                             # captures 4–6 feature interactions without overfitting\n",
    "        'min_child_weight': (1, 50),                      # helps avoid splits on small samples\n",
    "        'gamma': (0.1, 1.0, 'log-uniform'),               # require meaningful splits\n",
    "        'subsample': (0.6, 1.0),                          # stabilize with row sampling\n",
    "        'colsample_bytree': (0.5, 1.0),                   # feature subsampling per tree\n",
    "        'colsample_bylevel': (0.5, 1.0),                  # feature subsampling per split level\n",
    "        'reg_alpha': (1e-3, 10, 'log-uniform'),           # L1 penalty for sparsity\n",
    "        'reg_lambda': (0.1, 100, 'log-uniform'),          # L2 penalty to reduce overfitting\n",
    "        'max_delta_step': (0, 10),                        # improves convergence in imbalanced/unstable targets\n",
    "        'n_estimators': (100, 500),                       # enough boosting rounds for complexity\n",
    "        'objective': ['multi:softmax'],  \n",
    "        'booster': ['gbtree', 'dart'],  \n",
    "        'eval_metric': ['mlogloss', 'error', 'auc']\n",
    "    }\n",
    "\n",
    "else: \n",
    "\n",
    "    search_space_bayes = {\n",
    "        'learning_rate': (0.01, 0.3),                     # conservative to prevent noisy learning\n",
    "        'max_depth': (1, 14),                             # captures 4–6 feature interactions without overfitting\n",
    "        'min_child_weight': (1, 50),                      # helps avoid splits on small samples\n",
    "        'gamma': (0.1, 1.0, 'log-uniform'),               # require meaningful splits\n",
    "        'subsample': (0.6, 1.0),                          # stabilize with row sampling\n",
    "        'colsample_bytree': (0.5, 1.0),                   # feature subsampling per tree\n",
    "        'colsample_bylevel': (0.5, 1.0),                  # feature subsampling per split level\n",
    "        'reg_alpha': (1e-3, 10, 'log-uniform'),           # L1 penalty for sparsity\n",
    "        'reg_lambda': (0.1, 100, 'log-uniform'),          # L2 penalty to reduce overfitting\n",
    "        'max_delta_step': (0, 10),                        # improves convergence in imbalanced/unstable targets\n",
    "        'n_estimators': (100, 500),                       # enough boosting rounds for complexity\n",
    "        'objective': ['binary:logistic'],  \n",
    "        'booster': ['gbtree', 'dart'],  \n",
    "        'eval_metric': ['mlogloss', 'error', 'auc']\n",
    "    }\n"
   ]
  },
  {
   "cell_type": "markdown",
   "id": "c6c7e6f0",
   "metadata": {
    "papermill": {
     "duration": 0.011958,
     "end_time": "2025-06-09T12:25:01.832345",
     "exception": false,
     "start_time": "2025-06-09T12:25:01.820387",
     "status": "completed"
    },
    "tags": []
   },
   "source": [
    "### NESTED CV PIPELINE"
   ]
  },
  {
   "cell_type": "code",
   "execution_count": null,
   "id": "d8699bfd",
   "metadata": {
    "papermill": {
     "duration": 31588.790669,
     "end_time": "2025-06-09T21:11:30.635197",
     "exception": true,
     "start_time": "2025-06-09T12:25:01.844528",
     "status": "failed"
    },
    "tags": []
   },
   "outputs": [
    {
     "name": "stdout",
     "output_type": "stream",
     "text": [
      "[CV 1/3] END booster=gbtree, colsample_bylevel=0.5431099842871672, colsample_bytree=0.8042479135573553, eval_metric=auc, gamma=0.8868866587788037, learning_rate=0.03991346173810003, max_delta_step=5, max_depth=11, min_child_weight=22, n_estimators=232, objective=binary:logistic, reg_alpha=0.010333665817242934, reg_lambda=41.55545304225476, subsample=0.9438153834686239;, score=0.682 total time=   0.7s\n"
     ]
    },
    {
     "name": "stdout",
     "output_type": "stream",
     "text": [
      "[CV 2/3] END booster=gbtree, colsample_bylevel=0.5431099842871672, colsample_bytree=0.8042479135573553, eval_metric=auc, gamma=0.8868866587788037, learning_rate=0.03991346173810003, max_delta_step=5, max_depth=11, min_child_weight=22, n_estimators=232, objective=binary:logistic, reg_alpha=0.010333665817242934, reg_lambda=41.55545304225476, subsample=0.9438153834686239;, score=0.657 total time=   0.6s\n"
     ]
    },
    {
     "name": "stdout",
     "output_type": "stream",
     "text": [
      "[CV 3/3] END booster=gbtree, colsample_bylevel=0.5431099842871672, colsample_bytree=0.8042479135573553, eval_metric=auc, gamma=0.8868866587788037, learning_rate=0.03991346173810003, max_delta_step=5, max_depth=11, min_child_weight=22, n_estimators=232, objective=binary:logistic, reg_alpha=0.010333665817242934, reg_lambda=41.55545304225476, subsample=0.9438153834686239;, score=0.646 total time=   0.6s\n",
      "Fitting 3 folds for each of 1 candidates, totalling 3 fits\n"
     ]
    },
    {
     "name": "stdout",
     "output_type": "stream",
     "text": [
      "[CV 1/3] END booster=gbtree, colsample_bylevel=0.5823201338785988, colsample_bytree=0.523144201265553, eval_metric=error, gamma=0.3567238036938387, learning_rate=0.08063537422501207, max_delta_step=8, max_depth=13, min_child_weight=7, n_estimators=295, objective=binary:logistic, reg_alpha=6.810265373749562, reg_lambda=1.5636486012079303, subsample=0.9097624701131881;, score=0.680 total time=   0.7s\n"
     ]
    },
    {
     "name": "stdout",
     "output_type": "stream",
     "text": [
      "[CV 2/3] END booster=gbtree, colsample_bylevel=0.5823201338785988, colsample_bytree=0.523144201265553, eval_metric=error, gamma=0.3567238036938387, learning_rate=0.08063537422501207, max_delta_step=8, max_depth=13, min_child_weight=7, n_estimators=295, objective=binary:logistic, reg_alpha=6.810265373749562, reg_lambda=1.5636486012079303, subsample=0.9097624701131881;, score=0.653 total time=   0.8s\n"
     ]
    },
    {
     "name": "stdout",
     "output_type": "stream",
     "text": [
      "[CV 3/3] END booster=gbtree, colsample_bylevel=0.5823201338785988, colsample_bytree=0.523144201265553, eval_metric=error, gamma=0.3567238036938387, learning_rate=0.08063537422501207, max_delta_step=8, max_depth=13, min_child_weight=7, n_estimators=295, objective=binary:logistic, reg_alpha=6.810265373749562, reg_lambda=1.5636486012079303, subsample=0.9097624701131881;, score=0.653 total time=   0.8s\n",
      "Fitting 3 folds for each of 1 candidates, totalling 3 fits\n"
     ]
    },
    {
     "name": "stdout",
     "output_type": "stream",
     "text": [
      "[CV 1/3] END booster=gbtree, colsample_bylevel=0.9210992271589409, colsample_bytree=0.9442231147032201, eval_metric=auc, gamma=0.22369203185335856, learning_rate=0.07625465681914323, max_delta_step=6, max_depth=7, min_child_weight=13, n_estimators=427, objective=binary:logistic, reg_alpha=0.0029949916204736644, reg_lambda=0.2669840207965698, subsample=0.8596580193924419;, score=0.673 total time=   1.0s\n"
     ]
    },
    {
     "name": "stdout",
     "output_type": "stream",
     "text": [
      "[CV 2/3] END booster=gbtree, colsample_bylevel=0.9210992271589409, colsample_bytree=0.9442231147032201, eval_metric=auc, gamma=0.22369203185335856, learning_rate=0.07625465681914323, max_delta_step=6, max_depth=7, min_child_weight=13, n_estimators=427, objective=binary:logistic, reg_alpha=0.0029949916204736644, reg_lambda=0.2669840207965698, subsample=0.8596580193924419;, score=0.652 total time=   1.1s\n"
     ]
    },
    {
     "name": "stdout",
     "output_type": "stream",
     "text": [
      "[CV 3/3] END booster=gbtree, colsample_bylevel=0.9210992271589409, colsample_bytree=0.9442231147032201, eval_metric=auc, gamma=0.22369203185335856, learning_rate=0.07625465681914323, max_delta_step=6, max_depth=7, min_child_weight=13, n_estimators=427, objective=binary:logistic, reg_alpha=0.0029949916204736644, reg_lambda=0.2669840207965698, subsample=0.8596580193924419;, score=0.659 total time=   1.0s\n",
      "Fitting 3 folds for each of 1 candidates, totalling 3 fits\n"
     ]
    },
    {
     "name": "stdout",
     "output_type": "stream",
     "text": [
      "[CV 1/3] END booster=gbtree, colsample_bylevel=0.8248943714069297, colsample_bytree=0.7093553662303278, eval_metric=mlogloss, gamma=0.18821101873088084, learning_rate=0.28749457550745056, max_delta_step=1, max_depth=11, min_child_weight=43, n_estimators=350, objective=binary:logistic, reg_alpha=0.013830402204759198, reg_lambda=1.197842810686348, subsample=0.8529497759207869;, score=0.657 total time=   0.6s\n"
     ]
    },
    {
     "name": "stdout",
     "output_type": "stream",
     "text": [
      "[CV 2/3] END booster=gbtree, colsample_bylevel=0.8248943714069297, colsample_bytree=0.7093553662303278, eval_metric=mlogloss, gamma=0.18821101873088084, learning_rate=0.28749457550745056, max_delta_step=1, max_depth=11, min_child_weight=43, n_estimators=350, objective=binary:logistic, reg_alpha=0.013830402204759198, reg_lambda=1.197842810686348, subsample=0.8529497759207869;, score=0.623 total time=   0.6s\n"
     ]
    },
    {
     "name": "stdout",
     "output_type": "stream",
     "text": [
      "[CV 3/3] END booster=gbtree, colsample_bylevel=0.8248943714069297, colsample_bytree=0.7093553662303278, eval_metric=mlogloss, gamma=0.18821101873088084, learning_rate=0.28749457550745056, max_delta_step=1, max_depth=11, min_child_weight=43, n_estimators=350, objective=binary:logistic, reg_alpha=0.013830402204759198, reg_lambda=1.197842810686348, subsample=0.8529497759207869;, score=0.627 total time=   0.6s\n",
      "Fitting 3 folds for each of 1 candidates, totalling 3 fits\n"
     ]
    },
    {
     "name": "stdout",
     "output_type": "stream",
     "text": [
      "[CV 1/3] END booster=dart, colsample_bylevel=0.6263362171395246, colsample_bytree=0.5547692538151737, eval_metric=auc, gamma=0.4213360899262343, learning_rate=0.21445496555417667, max_delta_step=4, max_depth=10, min_child_weight=49, n_estimators=382, objective=binary:logistic, reg_alpha=5.92517757746073, reg_lambda=49.016404723016585, subsample=0.9083396995944775;, score=0.691 total time= 1.7min\n"
     ]
    },
    {
     "name": "stdout",
     "output_type": "stream",
     "text": [
      "[CV 2/3] END booster=dart, colsample_bylevel=0.6263362171395246, colsample_bytree=0.5547692538151737, eval_metric=auc, gamma=0.4213360899262343, learning_rate=0.21445496555417667, max_delta_step=4, max_depth=10, min_child_weight=49, n_estimators=382, objective=binary:logistic, reg_alpha=5.92517757746073, reg_lambda=49.016404723016585, subsample=0.9083396995944775;, score=0.634 total time=  23.5s\n"
     ]
    },
    {
     "name": "stdout",
     "output_type": "stream",
     "text": [
      "[CV 3/3] END booster=dart, colsample_bylevel=0.6263362171395246, colsample_bytree=0.5547692538151737, eval_metric=auc, gamma=0.4213360899262343, learning_rate=0.21445496555417667, max_delta_step=4, max_depth=10, min_child_weight=49, n_estimators=382, objective=binary:logistic, reg_alpha=5.92517757746073, reg_lambda=49.016404723016585, subsample=0.9083396995944775;, score=0.627 total time=  20.6s\n",
      "Fitting 3 folds for each of 1 candidates, totalling 3 fits\n"
     ]
    },
    {
     "name": "stdout",
     "output_type": "stream",
     "text": [
      "[CV 1/3] END booster=gbtree, colsample_bylevel=0.6442749093404072, colsample_bytree=0.7735181684591523, eval_metric=mlogloss, gamma=0.30349541416709175, learning_rate=0.2220401946602847, max_delta_step=8, max_depth=6, min_child_weight=12, n_estimators=392, objective=binary:logistic, reg_alpha=0.01079625816316753, reg_lambda=11.309676228423454, subsample=0.6277240248164293;, score=0.635 total time=   0.8s\n"
     ]
    },
    {
     "name": "stdout",
     "output_type": "stream",
     "text": [
      "[CV 2/3] END booster=gbtree, colsample_bylevel=0.6442749093404072, colsample_bytree=0.7735181684591523, eval_metric=mlogloss, gamma=0.30349541416709175, learning_rate=0.2220401946602847, max_delta_step=8, max_depth=6, min_child_weight=12, n_estimators=392, objective=binary:logistic, reg_alpha=0.01079625816316753, reg_lambda=11.309676228423454, subsample=0.6277240248164293;, score=0.624 total time=   0.7s\n"
     ]
    },
    {
     "name": "stdout",
     "output_type": "stream",
     "text": [
      "[CV 3/3] END booster=gbtree, colsample_bylevel=0.6442749093404072, colsample_bytree=0.7735181684591523, eval_metric=mlogloss, gamma=0.30349541416709175, learning_rate=0.2220401946602847, max_delta_step=8, max_depth=6, min_child_weight=12, n_estimators=392, objective=binary:logistic, reg_alpha=0.01079625816316753, reg_lambda=11.309676228423454, subsample=0.6277240248164293;, score=0.659 total time=   0.7s\n",
      "Fitting 3 folds for each of 1 candidates, totalling 3 fits\n"
     ]
    },
    {
     "name": "stdout",
     "output_type": "stream",
     "text": [
      "[CV 1/3] END booster=dart, colsample_bylevel=0.5773526958044634, colsample_bytree=0.6245201554591239, eval_metric=error, gamma=0.3556567756865713, learning_rate=0.2996996001506618, max_delta_step=7, max_depth=6, min_child_weight=42, n_estimators=422, objective=binary:logistic, reg_alpha=1.6254507965685225, reg_lambda=1.5803891849184322, subsample=0.6962233202920094;, score=0.673 total time=  25.2s\n"
     ]
    },
    {
     "name": "stdout",
     "output_type": "stream",
     "text": [
      "[CV 2/3] END booster=dart, colsample_bylevel=0.5773526958044634, colsample_bytree=0.6245201554591239, eval_metric=error, gamma=0.3556567756865713, learning_rate=0.2996996001506618, max_delta_step=7, max_depth=6, min_child_weight=42, n_estimators=422, objective=binary:logistic, reg_alpha=1.6254507965685225, reg_lambda=1.5803891849184322, subsample=0.6962233202920094;, score=0.605 total time=  25.2s\n"
     ]
    },
    {
     "name": "stdout",
     "output_type": "stream",
     "text": [
      "[CV 3/3] END booster=dart, colsample_bylevel=0.5773526958044634, colsample_bytree=0.6245201554591239, eval_metric=error, gamma=0.3556567756865713, learning_rate=0.2996996001506618, max_delta_step=7, max_depth=6, min_child_weight=42, n_estimators=422, objective=binary:logistic, reg_alpha=1.6254507965685225, reg_lambda=1.5803891849184322, subsample=0.6962233202920094;, score=0.632 total time=  27.2s\n",
      "Fitting 3 folds for each of 1 candidates, totalling 3 fits\n"
     ]
    },
    {
     "name": "stdout",
     "output_type": "stream",
     "text": [
      "[CV 1/3] END booster=gbtree, colsample_bylevel=0.6080155350117447, colsample_bytree=0.5198450538508611, eval_metric=error, gamma=0.1277645713308153, learning_rate=0.25059128272250236, max_delta_step=2, max_depth=8, min_child_weight=36, n_estimators=327, objective=binary:logistic, reg_alpha=4.315770038718042, reg_lambda=0.1858501955698921, subsample=0.6609510451783553;, score=0.656 total time=   0.6s\n"
     ]
    },
    {
     "name": "stdout",
     "output_type": "stream",
     "text": [
      "[CV 2/3] END booster=gbtree, colsample_bylevel=0.6080155350117447, colsample_bytree=0.5198450538508611, eval_metric=error, gamma=0.1277645713308153, learning_rate=0.25059128272250236, max_delta_step=2, max_depth=8, min_child_weight=36, n_estimators=327, objective=binary:logistic, reg_alpha=4.315770038718042, reg_lambda=0.1858501955698921, subsample=0.6609510451783553;, score=0.615 total time=   0.6s\n"
     ]
    },
    {
     "name": "stdout",
     "output_type": "stream",
     "text": [
      "[CV 3/3] END booster=gbtree, colsample_bylevel=0.6080155350117447, colsample_bytree=0.5198450538508611, eval_metric=error, gamma=0.1277645713308153, learning_rate=0.25059128272250236, max_delta_step=2, max_depth=8, min_child_weight=36, n_estimators=327, objective=binary:logistic, reg_alpha=4.315770038718042, reg_lambda=0.1858501955698921, subsample=0.6609510451783553;, score=0.648 total time=   0.5s\n"
     ]
    },
    {
     "name": "stdout",
     "output_type": "stream",
     "text": [
      "Fitting 3 folds for each of 1 candidates, totalling 3 fits\n"
     ]
    },
    {
     "name": "stdout",
     "output_type": "stream",
     "text": [
      "[CV 1/3] END booster=gbtree, colsample_bylevel=0.5159744566516128, colsample_bytree=0.9475733277011458, eval_metric=auc, gamma=0.47148235028686214, learning_rate=0.016939174438162945, max_delta_step=9, max_depth=3, min_child_weight=17, n_estimators=455, objective=binary:logistic, reg_alpha=0.18780388333563044, reg_lambda=0.47841980524858957, subsample=0.9132688214972259;, score=0.664 total time=   0.8s\n"
     ]
    },
    {
     "name": "stdout",
     "output_type": "stream",
     "text": [
      "[CV 2/3] END booster=gbtree, colsample_bylevel=0.5159744566516128, colsample_bytree=0.9475733277011458, eval_metric=auc, gamma=0.47148235028686214, learning_rate=0.016939174438162945, max_delta_step=9, max_depth=3, min_child_weight=17, n_estimators=455, objective=binary:logistic, reg_alpha=0.18780388333563044, reg_lambda=0.47841980524858957, subsample=0.9132688214972259;, score=0.648 total time=   0.7s\n"
     ]
    },
    {
     "name": "stdout",
     "output_type": "stream",
     "text": [
      "[CV 3/3] END booster=gbtree, colsample_bylevel=0.5159744566516128, colsample_bytree=0.9475733277011458, eval_metric=auc, gamma=0.47148235028686214, learning_rate=0.016939174438162945, max_delta_step=9, max_depth=3, min_child_weight=17, n_estimators=455, objective=binary:logistic, reg_alpha=0.18780388333563044, reg_lambda=0.47841980524858957, subsample=0.9132688214972259;, score=0.653 total time=   0.7s\n"
     ]
    },
    {
     "name": "stdout",
     "output_type": "stream",
     "text": [
      "Fitting 3 folds for each of 1 candidates, totalling 3 fits\n"
     ]
    },
    {
     "name": "stdout",
     "output_type": "stream",
     "text": [
      "[CV 1/3] END booster=dart, colsample_bylevel=0.5066548687392378, colsample_bytree=0.5168016946587961, eval_metric=error, gamma=0.1450807615487482, learning_rate=0.09659516381002478, max_delta_step=0, max_depth=7, min_child_weight=27, n_estimators=334, objective=binary:logistic, reg_alpha=0.04662264397161589, reg_lambda=100.0, subsample=0.6;, score=0.682 total time= 1.3min\n"
     ]
    },
    {
     "name": "stdout",
     "output_type": "stream",
     "text": [
      "[CV 2/3] END booster=dart, colsample_bylevel=0.5066548687392378, colsample_bytree=0.5168016946587961, eval_metric=error, gamma=0.1450807615487482, learning_rate=0.09659516381002478, max_delta_step=0, max_depth=7, min_child_weight=27, n_estimators=334, objective=binary:logistic, reg_alpha=0.04662264397161589, reg_lambda=100.0, subsample=0.6;, score=0.649 total time=  20.6s\n"
     ]
    },
    {
     "name": "stdout",
     "output_type": "stream",
     "text": [
      "[CV 3/3] END booster=dart, colsample_bylevel=0.5066548687392378, colsample_bytree=0.5168016946587961, eval_metric=error, gamma=0.1450807615487482, learning_rate=0.09659516381002478, max_delta_step=0, max_depth=7, min_child_weight=27, n_estimators=334, objective=binary:logistic, reg_alpha=0.04662264397161589, reg_lambda=100.0, subsample=0.6;, score=0.657 total time=  19.9s\n"
     ]
    },
    {
     "name": "stdout",
     "output_type": "stream",
     "text": [
      "Fitting 3 folds for each of 1 candidates, totalling 3 fits\n"
     ]
    },
    {
     "name": "stdout",
     "output_type": "stream",
     "text": [
      "[CV 1/3] END booster=gbtree, colsample_bylevel=0.5006574341965819, colsample_bytree=0.7808963006348042, eval_metric=error, gamma=0.8343374527273236, learning_rate=0.14981917020036342, max_delta_step=8, max_depth=11, min_child_weight=2, n_estimators=147, objective=binary:logistic, reg_alpha=0.009277962596645132, reg_lambda=0.1, subsample=0.6171103514332281;, score=0.639 total time=   0.4s\n"
     ]
    },
    {
     "name": "stdout",
     "output_type": "stream",
     "text": [
      "[CV 2/3] END booster=gbtree, colsample_bylevel=0.5006574341965819, colsample_bytree=0.7808963006348042, eval_metric=error, gamma=0.8343374527273236, learning_rate=0.14981917020036342, max_delta_step=8, max_depth=11, min_child_weight=2, n_estimators=147, objective=binary:logistic, reg_alpha=0.009277962596645132, reg_lambda=0.1, subsample=0.6171103514332281;, score=0.649 total time=   0.4s\n"
     ]
    },
    {
     "name": "stdout",
     "output_type": "stream",
     "text": [
      "[CV 3/3] END booster=gbtree, colsample_bylevel=0.5006574341965819, colsample_bytree=0.7808963006348042, eval_metric=error, gamma=0.8343374527273236, learning_rate=0.14981917020036342, max_delta_step=8, max_depth=11, min_child_weight=2, n_estimators=147, objective=binary:logistic, reg_alpha=0.009277962596645132, reg_lambda=0.1, subsample=0.6171103514332281;, score=0.655 total time=   0.4s\n"
     ]
    },
    {
     "name": "stdout",
     "output_type": "stream",
     "text": [
      "Fitting 3 folds for each of 1 candidates, totalling 3 fits\n"
     ]
    },
    {
     "name": "stdout",
     "output_type": "stream",
     "text": [
      "[CV 1/3] END booster=gbtree, colsample_bylevel=0.6933172165292478, colsample_bytree=0.9370540669052716, eval_metric=mlogloss, gamma=0.25685280903879254, learning_rate=0.18778254411430712, max_delta_step=7, max_depth=5, min_child_weight=33, n_estimators=102, objective=binary:logistic, reg_alpha=1.3941149041602867, reg_lambda=43.487666836668055, subsample=0.8473162780810131;, score=0.665 total time=   0.2s\n"
     ]
    },
    {
     "name": "stdout",
     "output_type": "stream",
     "text": [
      "[CV 2/3] END booster=gbtree, colsample_bylevel=0.6933172165292478, colsample_bytree=0.9370540669052716, eval_metric=mlogloss, gamma=0.25685280903879254, learning_rate=0.18778254411430712, max_delta_step=7, max_depth=5, min_child_weight=33, n_estimators=102, objective=binary:logistic, reg_alpha=1.3941149041602867, reg_lambda=43.487666836668055, subsample=0.8473162780810131;, score=0.635 total time=   0.2s\n"
     ]
    },
    {
     "name": "stdout",
     "output_type": "stream",
     "text": [
      "[CV 3/3] END booster=gbtree, colsample_bylevel=0.6933172165292478, colsample_bytree=0.9370540669052716, eval_metric=mlogloss, gamma=0.25685280903879254, learning_rate=0.18778254411430712, max_delta_step=7, max_depth=5, min_child_weight=33, n_estimators=102, objective=binary:logistic, reg_alpha=1.3941149041602867, reg_lambda=43.487666836668055, subsample=0.8473162780810131;, score=0.640 total time=   0.2s\n"
     ]
    },
    {
     "name": "stdout",
     "output_type": "stream",
     "text": [
      "Fitting 3 folds for each of 1 candidates, totalling 3 fits\n"
     ]
    },
    {
     "name": "stdout",
     "output_type": "stream",
     "text": [
      "[CV 1/3] END booster=dart, colsample_bylevel=1.0, colsample_bytree=0.9245166120552739, eval_metric=auc, gamma=0.11221091081331289, learning_rate=0.06905807280334082, max_delta_step=9, max_depth=1, min_child_weight=48, n_estimators=500, objective=binary:logistic, reg_alpha=0.015636366872226783, reg_lambda=100.0, subsample=0.6;, score=0.631 total time=  34.7s\n"
     ]
    },
    {
     "name": "stdout",
     "output_type": "stream",
     "text": [
      "[CV 2/3] END booster=dart, colsample_bylevel=1.0, colsample_bytree=0.9245166120552739, eval_metric=auc, gamma=0.11221091081331289, learning_rate=0.06905807280334082, max_delta_step=9, max_depth=1, min_child_weight=48, n_estimators=500, objective=binary:logistic, reg_alpha=0.015636366872226783, reg_lambda=100.0, subsample=0.6;, score=0.613 total time= 1.2min\n"
     ]
    },
    {
     "name": "stdout",
     "output_type": "stream",
     "text": [
      "[CV 3/3] END booster=dart, colsample_bylevel=1.0, colsample_bytree=0.9245166120552739, eval_metric=auc, gamma=0.11221091081331289, learning_rate=0.06905807280334082, max_delta_step=9, max_depth=1, min_child_weight=48, n_estimators=500, objective=binary:logistic, reg_alpha=0.015636366872226783, reg_lambda=100.0, subsample=0.6;, score=0.621 total time= 1.2min\n"
     ]
    },
    {
     "name": "stdout",
     "output_type": "stream",
     "text": [
      "Fitting 3 folds for each of 1 candidates, totalling 3 fits\n"
     ]
    },
    {
     "name": "stdout",
     "output_type": "stream",
     "text": [
      "[CV 1/3] END booster=dart, colsample_bylevel=1.0, colsample_bytree=0.9210640146800204, eval_metric=auc, gamma=0.15440003138893768, learning_rate=0.01, max_delta_step=0, max_depth=10, min_child_weight=7, n_estimators=452, objective=binary:logistic, reg_alpha=0.001, reg_lambda=100.0, subsample=0.9541419966984579;, score=0.679 total time=  31.3s\n"
     ]
    },
    {
     "name": "stdout",
     "output_type": "stream",
     "text": [
      "[CV 2/3] END booster=dart, colsample_bylevel=1.0, colsample_bytree=0.9210640146800204, eval_metric=auc, gamma=0.15440003138893768, learning_rate=0.01, max_delta_step=0, max_depth=10, min_child_weight=7, n_estimators=452, objective=binary:logistic, reg_alpha=0.001, reg_lambda=100.0, subsample=0.9541419966984579;, score=0.667 total time=  38.3s\n"
     ]
    },
    {
     "name": "stdout",
     "output_type": "stream",
     "text": [
      "[CV 3/3] END booster=dart, colsample_bylevel=1.0, colsample_bytree=0.9210640146800204, eval_metric=auc, gamma=0.15440003138893768, learning_rate=0.01, max_delta_step=0, max_depth=10, min_child_weight=7, n_estimators=452, objective=binary:logistic, reg_alpha=0.001, reg_lambda=100.0, subsample=0.9541419966984579;, score=0.640 total time=  30.8s\n"
     ]
    },
    {
     "name": "stdout",
     "output_type": "stream",
     "text": [
      "Fitting 3 folds for each of 1 candidates, totalling 3 fits\n"
     ]
    },
    {
     "name": "stdout",
     "output_type": "stream",
     "text": [
      "[CV 1/3] END booster=dart, colsample_bylevel=0.8442134184760082, colsample_bytree=0.7565867468307772, eval_metric=error, gamma=0.2196741117416654, learning_rate=0.01, max_delta_step=5, max_depth=14, min_child_weight=20, n_estimators=359, objective=binary:logistic, reg_alpha=0.07910865137130985, reg_lambda=0.46640652147346934, subsample=0.6522424662069731;, score=0.668 total time=  19.1s\n"
     ]
    },
    {
     "name": "stdout",
     "output_type": "stream",
     "text": [
      "[CV 2/3] END booster=dart, colsample_bylevel=0.8442134184760082, colsample_bytree=0.7565867468307772, eval_metric=error, gamma=0.2196741117416654, learning_rate=0.01, max_delta_step=5, max_depth=14, min_child_weight=20, n_estimators=359, objective=binary:logistic, reg_alpha=0.07910865137130985, reg_lambda=0.46640652147346934, subsample=0.6522424662069731;, score=0.645 total time=  20.9s\n"
     ]
    },
    {
     "name": "stdout",
     "output_type": "stream",
     "text": [
      "[CV 3/3] END booster=dart, colsample_bylevel=0.8442134184760082, colsample_bytree=0.7565867468307772, eval_metric=error, gamma=0.2196741117416654, learning_rate=0.01, max_delta_step=5, max_depth=14, min_child_weight=20, n_estimators=359, objective=binary:logistic, reg_alpha=0.07910865137130985, reg_lambda=0.46640652147346934, subsample=0.6522424662069731;, score=0.653 total time=  19.0s\n"
     ]
    },
    {
     "name": "stdout",
     "output_type": "stream",
     "text": [
      "Fitting 3 folds for each of 1 candidates, totalling 3 fits\n"
     ]
    },
    {
     "name": "stdout",
     "output_type": "stream",
     "text": [
      "[CV 1/3] END booster=dart, colsample_bylevel=0.6775195042701309, colsample_bytree=0.5061112052995316, eval_metric=error, gamma=0.12074342805285532, learning_rate=0.02478033043921825, max_delta_step=2, max_depth=6, min_child_weight=28, n_estimators=243, objective=binary:logistic, reg_alpha=3.6910673805860004, reg_lambda=0.6763013348791848, subsample=1.0;, score=0.673 total time=   8.9s\n"
     ]
    },
    {
     "name": "stdout",
     "output_type": "stream",
     "text": [
      "[CV 2/3] END booster=dart, colsample_bylevel=0.6775195042701309, colsample_bytree=0.5061112052995316, eval_metric=error, gamma=0.12074342805285532, learning_rate=0.02478033043921825, max_delta_step=2, max_depth=6, min_child_weight=28, n_estimators=243, objective=binary:logistic, reg_alpha=3.6910673805860004, reg_lambda=0.6763013348791848, subsample=1.0;, score=0.642 total time=   8.9s\n"
     ]
    },
    {
     "name": "stdout",
     "output_type": "stream",
     "text": [
      "[CV 3/3] END booster=dart, colsample_bylevel=0.6775195042701309, colsample_bytree=0.5061112052995316, eval_metric=error, gamma=0.12074342805285532, learning_rate=0.02478033043921825, max_delta_step=2, max_depth=6, min_child_weight=28, n_estimators=243, objective=binary:logistic, reg_alpha=3.6910673805860004, reg_lambda=0.6763013348791848, subsample=1.0;, score=0.637 total time=   8.9s\n"
     ]
    },
    {
     "name": "stdout",
     "output_type": "stream",
     "text": [
      "Fitting 3 folds for each of 1 candidates, totalling 3 fits\n"
     ]
    },
    {
     "name": "stdout",
     "output_type": "stream",
     "text": [
      "[CV 1/3] END booster=dart, colsample_bylevel=1.0, colsample_bytree=1.0, eval_metric=auc, gamma=0.1, learning_rate=0.17940050812245809, max_delta_step=1, max_depth=14, min_child_weight=15, n_estimators=262, objective=binary:logistic, reg_alpha=0.0016021534424174588, reg_lambda=27.841323700638906, subsample=1.0;, score=0.680 total time=  10.2s\n"
     ]
    },
    {
     "name": "stdout",
     "output_type": "stream",
     "text": [
      "[CV 2/3] END booster=dart, colsample_bylevel=1.0, colsample_bytree=1.0, eval_metric=auc, gamma=0.1, learning_rate=0.17940050812245809, max_delta_step=1, max_depth=14, min_child_weight=15, n_estimators=262, objective=binary:logistic, reg_alpha=0.0016021534424174588, reg_lambda=27.841323700638906, subsample=1.0;, score=0.650 total time=  12.6s\n"
     ]
    },
    {
     "name": "stdout",
     "output_type": "stream",
     "text": [
      "[CV 3/3] END booster=dart, colsample_bylevel=1.0, colsample_bytree=1.0, eval_metric=auc, gamma=0.1, learning_rate=0.17940050812245809, max_delta_step=1, max_depth=14, min_child_weight=15, n_estimators=262, objective=binary:logistic, reg_alpha=0.0016021534424174588, reg_lambda=27.841323700638906, subsample=1.0;, score=0.654 total time=  12.6s\n"
     ]
    },
    {
     "name": "stdout",
     "output_type": "stream",
     "text": [
      "Fitting 3 folds for each of 1 candidates, totalling 3 fits\n"
     ]
    },
    {
     "name": "stdout",
     "output_type": "stream",
     "text": [
      "[CV 1/3] END booster=dart, colsample_bylevel=1.0, colsample_bytree=0.6297711597029318, eval_metric=error, gamma=0.507191050767066, learning_rate=0.01, max_delta_step=5, max_depth=13, min_child_weight=1, n_estimators=412, objective=binary:logistic, reg_alpha=10.0, reg_lambda=7.8577268248153676, subsample=1.0;, score=0.693 total time=  32.5s\n"
     ]
    },
    {
     "name": "stdout",
     "output_type": "stream",
     "text": [
      "[CV 2/3] END booster=dart, colsample_bylevel=1.0, colsample_bytree=0.6297711597029318, eval_metric=error, gamma=0.507191050767066, learning_rate=0.01, max_delta_step=5, max_depth=13, min_child_weight=1, n_estimators=412, objective=binary:logistic, reg_alpha=10.0, reg_lambda=7.8577268248153676, subsample=1.0;, score=0.664 total time=  32.2s\n"
     ]
    },
    {
     "name": "stdout",
     "output_type": "stream",
     "text": [
      "[CV 3/3] END booster=dart, colsample_bylevel=1.0, colsample_bytree=0.6297711597029318, eval_metric=error, gamma=0.507191050767066, learning_rate=0.01, max_delta_step=5, max_depth=13, min_child_weight=1, n_estimators=412, objective=binary:logistic, reg_alpha=10.0, reg_lambda=7.8577268248153676, subsample=1.0;, score=0.648 total time=  32.1s\n"
     ]
    },
    {
     "name": "stdout",
     "output_type": "stream",
     "text": [
      "Fitting 3 folds for each of 1 candidates, totalling 3 fits\n",
      "[CV 1/3] END booster=gbtree, colsample_bylevel=1.0, colsample_bytree=1.0, eval_metric=auc, gamma=0.1, learning_rate=0.3, max_delta_step=3, max_depth=2, min_child_weight=1, n_estimators=100, objective=binary:logistic, reg_alpha=10.0, reg_lambda=100.0, subsample=0.6;, score=0.635 total time=   0.1s\n"
     ]
    },
    {
     "name": "stdout",
     "output_type": "stream",
     "text": [
      "[CV 2/3] END booster=gbtree, colsample_bylevel=1.0, colsample_bytree=1.0, eval_metric=auc, gamma=0.1, learning_rate=0.3, max_delta_step=3, max_depth=2, min_child_weight=1, n_estimators=100, objective=binary:logistic, reg_alpha=10.0, reg_lambda=100.0, subsample=0.6;, score=0.642 total time=   0.1s\n",
      "[CV 3/3] END booster=gbtree, colsample_bylevel=1.0, colsample_bytree=1.0, eval_metric=auc, gamma=0.1, learning_rate=0.3, max_delta_step=3, max_depth=2, min_child_weight=1, n_estimators=100, objective=binary:logistic, reg_alpha=10.0, reg_lambda=100.0, subsample=0.6;, score=0.632 total time=   0.1s\n"
     ]
    },
    {
     "name": "stdout",
     "output_type": "stream",
     "text": [
      "Fitting 3 folds for each of 1 candidates, totalling 3 fits\n"
     ]
    },
    {
     "name": "stdout",
     "output_type": "stream",
     "text": [
      "[CV 1/3] END booster=gbtree, colsample_bylevel=0.5, colsample_bytree=0.5, eval_metric=error, gamma=0.1, learning_rate=0.01, max_delta_step=0, max_depth=14, min_child_weight=1, n_estimators=100, objective=binary:logistic, reg_alpha=0.001, reg_lambda=100.0, subsample=0.6;, score=0.657 total time=   0.5s\n"
     ]
    },
    {
     "name": "stdout",
     "output_type": "stream",
     "text": [
      "[CV 2/3] END booster=gbtree, colsample_bylevel=0.5, colsample_bytree=0.5, eval_metric=error, gamma=0.1, learning_rate=0.01, max_delta_step=0, max_depth=14, min_child_weight=1, n_estimators=100, objective=binary:logistic, reg_alpha=0.001, reg_lambda=100.0, subsample=0.6;, score=0.638 total time=   0.5s\n"
     ]
    },
    {
     "name": "stdout",
     "output_type": "stream",
     "text": [
      "[CV 3/3] END booster=gbtree, colsample_bylevel=0.5, colsample_bytree=0.5, eval_metric=error, gamma=0.1, learning_rate=0.01, max_delta_step=0, max_depth=14, min_child_weight=1, n_estimators=100, objective=binary:logistic, reg_alpha=0.001, reg_lambda=100.0, subsample=0.6;, score=0.648 total time=   0.5s\n"
     ]
    },
    {
     "name": "stdout",
     "output_type": "stream",
     "text": [
      "Fitting 3 folds for each of 1 candidates, totalling 3 fits\n"
     ]
    },
    {
     "name": "stdout",
     "output_type": "stream",
     "text": [
      "[CV 1/3] END booster=dart, colsample_bylevel=0.8411655648183823, colsample_bytree=0.9465430051888666, eval_metric=auc, gamma=0.3525398552599983, learning_rate=0.01, max_delta_step=8, max_depth=9, min_child_weight=23, n_estimators=130, objective=binary:logistic, reg_alpha=0.0030172693059314884, reg_lambda=0.29706995969687655, subsample=0.6866266096812204;, score=0.673 total time=   2.9s\n"
     ]
    },
    {
     "name": "stdout",
     "output_type": "stream",
     "text": [
      "[CV 2/3] END booster=dart, colsample_bylevel=0.8411655648183823, colsample_bytree=0.9465430051888666, eval_metric=auc, gamma=0.3525398552599983, learning_rate=0.01, max_delta_step=8, max_depth=9, min_child_weight=23, n_estimators=130, objective=binary:logistic, reg_alpha=0.0030172693059314884, reg_lambda=0.29706995969687655, subsample=0.6866266096812204;, score=0.637 total time=   2.7s\n"
     ]
    },
    {
     "name": "stdout",
     "output_type": "stream",
     "text": [
      "[CV 3/3] END booster=dart, colsample_bylevel=0.8411655648183823, colsample_bytree=0.9465430051888666, eval_metric=auc, gamma=0.3525398552599983, learning_rate=0.01, max_delta_step=8, max_depth=9, min_child_weight=23, n_estimators=130, objective=binary:logistic, reg_alpha=0.0030172693059314884, reg_lambda=0.29706995969687655, subsample=0.6866266096812204;, score=0.639 total time=   2.3s\n"
     ]
    },
    {
     "name": "stdout",
     "output_type": "stream",
     "text": [
      "Fitting 3 folds for each of 1 candidates, totalling 3 fits\n"
     ]
    },
    {
     "name": "stdout",
     "output_type": "stream",
     "text": [
      "[CV 1/3] END booster=dart, colsample_bylevel=1.0, colsample_bytree=1.0, eval_metric=error, gamma=0.3237410870849842, learning_rate=0.01, max_delta_step=10, max_depth=8, min_child_weight=4, n_estimators=495, objective=binary:logistic, reg_alpha=10.0, reg_lambda=0.20312112536429955, subsample=0.7429883160833436;, score=0.672 total time=  44.3s\n"
     ]
    },
    {
     "name": "stdout",
     "output_type": "stream",
     "text": [
      "[CV 2/3] END booster=dart, colsample_bylevel=1.0, colsample_bytree=1.0, eval_metric=error, gamma=0.3237410870849842, learning_rate=0.01, max_delta_step=10, max_depth=8, min_child_weight=4, n_estimators=495, objective=binary:logistic, reg_alpha=10.0, reg_lambda=0.20312112536429955, subsample=0.7429883160833436;, score=0.664 total time=  37.1s\n"
     ]
    },
    {
     "name": "stdout",
     "output_type": "stream",
     "text": [
      "[CV 3/3] END booster=dart, colsample_bylevel=1.0, colsample_bytree=1.0, eval_metric=error, gamma=0.3237410870849842, learning_rate=0.01, max_delta_step=10, max_depth=8, min_child_weight=4, n_estimators=495, objective=binary:logistic, reg_alpha=10.0, reg_lambda=0.20312112536429955, subsample=0.7429883160833436;, score=0.658 total time=  36.3s\n"
     ]
    },
    {
     "name": "stdout",
     "output_type": "stream",
     "text": [
      "Fitting 3 folds for each of 1 candidates, totalling 3 fits\n"
     ]
    },
    {
     "name": "stdout",
     "output_type": "stream",
     "text": [
      "[CV 1/3] END booster=gbtree, colsample_bylevel=0.9585464365336415, colsample_bytree=0.9021122787705623, eval_metric=error, gamma=0.11279225745591064, learning_rate=0.01, max_delta_step=9, max_depth=2, min_child_weight=49, n_estimators=484, objective=binary:logistic, reg_alpha=0.025244776127961215, reg_lambda=0.16184281316389768, subsample=0.6;, score=0.665 total time=   0.6s\n"
     ]
    },
    {
     "name": "stdout",
     "output_type": "stream",
     "text": [
      "[CV 2/3] END booster=gbtree, colsample_bylevel=0.9585464365336415, colsample_bytree=0.9021122787705623, eval_metric=error, gamma=0.11279225745591064, learning_rate=0.01, max_delta_step=9, max_depth=2, min_child_weight=49, n_estimators=484, objective=binary:logistic, reg_alpha=0.025244776127961215, reg_lambda=0.16184281316389768, subsample=0.6;, score=0.620 total time=   0.6s\n"
     ]
    },
    {
     "name": "stdout",
     "output_type": "stream",
     "text": [
      "[CV 3/3] END booster=gbtree, colsample_bylevel=0.9585464365336415, colsample_bytree=0.9021122787705623, eval_metric=error, gamma=0.11279225745591064, learning_rate=0.01, max_delta_step=9, max_depth=2, min_child_weight=49, n_estimators=484, objective=binary:logistic, reg_alpha=0.025244776127961215, reg_lambda=0.16184281316389768, subsample=0.6;, score=0.624 total time=   0.6s\n"
     ]
    },
    {
     "name": "stdout",
     "output_type": "stream",
     "text": [
      "Fitting 3 folds for each of 1 candidates, totalling 3 fits\n"
     ]
    },
    {
     "name": "stdout",
     "output_type": "stream",
     "text": [
      "[CV 1/3] END booster=gbtree, colsample_bylevel=0.5941777480631976, colsample_bytree=0.5173323557365326, eval_metric=auc, gamma=0.17827303433488303, learning_rate=0.01, max_delta_step=1, max_depth=8, min_child_weight=1, n_estimators=330, objective=binary:logistic, reg_alpha=0.28639505347290367, reg_lambda=100.0, subsample=0.7029232760102531;, score=0.687 total time=   1.1s\n"
     ]
    },
    {
     "name": "stdout",
     "output_type": "stream",
     "text": [
      "[CV 2/3] END booster=gbtree, colsample_bylevel=0.5941777480631976, colsample_bytree=0.5173323557365326, eval_metric=auc, gamma=0.17827303433488303, learning_rate=0.01, max_delta_step=1, max_depth=8, min_child_weight=1, n_estimators=330, objective=binary:logistic, reg_alpha=0.28639505347290367, reg_lambda=100.0, subsample=0.7029232760102531;, score=0.652 total time=   1.1s\n"
     ]
    },
    {
     "name": "stdout",
     "output_type": "stream",
     "text": [
      "[CV 3/3] END booster=gbtree, colsample_bylevel=0.5941777480631976, colsample_bytree=0.5173323557365326, eval_metric=auc, gamma=0.17827303433488303, learning_rate=0.01, max_delta_step=1, max_depth=8, min_child_weight=1, n_estimators=330, objective=binary:logistic, reg_alpha=0.28639505347290367, reg_lambda=100.0, subsample=0.7029232760102531;, score=0.650 total time=   1.1s\n"
     ]
    },
    {
     "name": "stdout",
     "output_type": "stream",
     "text": [
      "STEP 2.2 (SHAP)\n"
     ]
    },
    {
     "name": "stdout",
     "output_type": "stream",
     "text": [
      "STEP 2.3 (Feature selection)\n"
     ]
    },
    {
     "name": "stdout",
     "output_type": "stream",
     "text": [
      "STEP 2.4 (HyperParameter Tuning Part 2)\n",
      "Fitting 3 folds for each of 1 candidates, totalling 3 fits\n"
     ]
    },
    {
     "name": "stdout",
     "output_type": "stream",
     "text": [
      "[CV 1/3] END booster=dart, colsample_bylevel=0.6016860454008977, colsample_bytree=0.6914616493449374, eval_metric=mlogloss, gamma=0.12840074909685587, learning_rate=0.015800399396475193, max_delta_step=1, max_depth=1, min_child_weight=6, n_estimators=342, objective=binary:logistic, reg_alpha=0.7794684760516638, reg_lambda=1.8646354944888601, subsample=0.6254011779477656;, score=0.643 total time=   6.8s\n"
     ]
    },
    {
     "name": "stdout",
     "output_type": "stream",
     "text": [
      "[CV 2/3] END booster=dart, colsample_bylevel=0.6016860454008977, colsample_bytree=0.6914616493449374, eval_metric=mlogloss, gamma=0.12840074909685587, learning_rate=0.015800399396475193, max_delta_step=1, max_depth=1, min_child_weight=6, n_estimators=342, objective=binary:logistic, reg_alpha=0.7794684760516638, reg_lambda=1.8646354944888601, subsample=0.6254011779477656;, score=0.634 total time=   6.5s\n"
     ]
    },
    {
     "name": "stdout",
     "output_type": "stream",
     "text": [
      "[CV 3/3] END booster=dart, colsample_bylevel=0.6016860454008977, colsample_bytree=0.6914616493449374, eval_metric=mlogloss, gamma=0.12840074909685587, learning_rate=0.015800399396475193, max_delta_step=1, max_depth=1, min_child_weight=6, n_estimators=342, objective=binary:logistic, reg_alpha=0.7794684760516638, reg_lambda=1.8646354944888601, subsample=0.6254011779477656;, score=0.643 total time=   6.7s\n",
      "Fitting 3 folds for each of 1 candidates, totalling 3 fits\n",
      "[CV 1/3] END booster=gbtree, colsample_bylevel=0.5431099842871672, colsample_bytree=0.8042479135573553, eval_metric=auc, gamma=0.8868866587788037, learning_rate=0.03991346173810003, max_delta_step=5, max_depth=11, min_child_weight=22, n_estimators=232, objective=binary:logistic, reg_alpha=0.010333665817242934, reg_lambda=41.55545304225476, subsample=0.9438153834686239;, score=0.702 total time=   0.2s\n"
     ]
    },
    {
     "name": "stdout",
     "output_type": "stream",
     "text": [
      "[CV 2/3] END booster=gbtree, colsample_bylevel=0.5431099842871672, colsample_bytree=0.8042479135573553, eval_metric=auc, gamma=0.8868866587788037, learning_rate=0.03991346173810003, max_delta_step=5, max_depth=11, min_child_weight=22, n_estimators=232, objective=binary:logistic, reg_alpha=0.010333665817242934, reg_lambda=41.55545304225476, subsample=0.9438153834686239;, score=0.671 total time=   0.2s\n",
      "[CV 3/3] END booster=gbtree, colsample_bylevel=0.5431099842871672, colsample_bytree=0.8042479135573553, eval_metric=auc, gamma=0.8868866587788037, learning_rate=0.03991346173810003, max_delta_step=5, max_depth=11, min_child_weight=22, n_estimators=232, objective=binary:logistic, reg_alpha=0.010333665817242934, reg_lambda=41.55545304225476, subsample=0.9438153834686239;, score=0.680 total time=   0.2s\n",
      "Fitting 3 folds for each of 1 candidates, totalling 3 fits\n"
     ]
    },
    {
     "name": "stdout",
     "output_type": "stream",
     "text": [
      "[CV 1/3] END booster=gbtree, colsample_bylevel=0.5823201338785988, colsample_bytree=0.523144201265553, eval_metric=error, gamma=0.3567238036938387, learning_rate=0.08063537422501207, max_delta_step=8, max_depth=13, min_child_weight=7, n_estimators=295, objective=binary:logistic, reg_alpha=6.810265373749562, reg_lambda=1.5636486012079303, subsample=0.9097624701131881;, score=0.708 total time=   0.2s\n"
     ]
    },
    {
     "name": "stdout",
     "output_type": "stream",
     "text": [
      "[CV 2/3] END booster=gbtree, colsample_bylevel=0.5823201338785988, colsample_bytree=0.523144201265553, eval_metric=error, gamma=0.3567238036938387, learning_rate=0.08063537422501207, max_delta_step=8, max_depth=13, min_child_weight=7, n_estimators=295, objective=binary:logistic, reg_alpha=6.810265373749562, reg_lambda=1.5636486012079303, subsample=0.9097624701131881;, score=0.693 total time=   0.2s\n"
     ]
    },
    {
     "name": "stdout",
     "output_type": "stream",
     "text": [
      "[CV 3/3] END booster=gbtree, colsample_bylevel=0.5823201338785988, colsample_bytree=0.523144201265553, eval_metric=error, gamma=0.3567238036938387, learning_rate=0.08063537422501207, max_delta_step=8, max_depth=13, min_child_weight=7, n_estimators=295, objective=binary:logistic, reg_alpha=6.810265373749562, reg_lambda=1.5636486012079303, subsample=0.9097624701131881;, score=0.670 total time=   0.2s\n",
      "Fitting 3 folds for each of 1 candidates, totalling 3 fits\n"
     ]
    },
    {
     "name": "stdout",
     "output_type": "stream",
     "text": [
      "[CV 1/3] END booster=gbtree, colsample_bylevel=0.9210992271589409, colsample_bytree=0.9442231147032201, eval_metric=auc, gamma=0.22369203185335856, learning_rate=0.07625465681914323, max_delta_step=6, max_depth=7, min_child_weight=13, n_estimators=427, objective=binary:logistic, reg_alpha=0.0029949916204736644, reg_lambda=0.2669840207965698, subsample=0.8596580193924419;, score=0.691 total time=   0.3s\n"
     ]
    },
    {
     "name": "stdout",
     "output_type": "stream",
     "text": [
      "[CV 2/3] END booster=gbtree, colsample_bylevel=0.9210992271589409, colsample_bytree=0.9442231147032201, eval_metric=auc, gamma=0.22369203185335856, learning_rate=0.07625465681914323, max_delta_step=6, max_depth=7, min_child_weight=13, n_estimators=427, objective=binary:logistic, reg_alpha=0.0029949916204736644, reg_lambda=0.2669840207965698, subsample=0.8596580193924419;, score=0.678 total time=   0.3s\n"
     ]
    },
    {
     "name": "stdout",
     "output_type": "stream",
     "text": [
      "[CV 3/3] END booster=gbtree, colsample_bylevel=0.9210992271589409, colsample_bytree=0.9442231147032201, eval_metric=auc, gamma=0.22369203185335856, learning_rate=0.07625465681914323, max_delta_step=6, max_depth=7, min_child_weight=13, n_estimators=427, objective=binary:logistic, reg_alpha=0.0029949916204736644, reg_lambda=0.2669840207965698, subsample=0.8596580193924419;, score=0.666 total time=   0.3s\n",
      "Fitting 3 folds for each of 1 candidates, totalling 3 fits\n",
      "[CV 1/3] END booster=gbtree, colsample_bylevel=0.8248943714069297, colsample_bytree=0.7093553662303278, eval_metric=mlogloss, gamma=0.18821101873088084, learning_rate=0.28749457550745056, max_delta_step=1, max_depth=11, min_child_weight=43, n_estimators=350, objective=binary:logistic, reg_alpha=0.013830402204759198, reg_lambda=1.197842810686348, subsample=0.8529497759207869;, score=0.694 total time=   0.2s\n"
     ]
    },
    {
     "name": "stdout",
     "output_type": "stream",
     "text": [
      "[CV 2/3] END booster=gbtree, colsample_bylevel=0.8248943714069297, colsample_bytree=0.7093553662303278, eval_metric=mlogloss, gamma=0.18821101873088084, learning_rate=0.28749457550745056, max_delta_step=1, max_depth=11, min_child_weight=43, n_estimators=350, objective=binary:logistic, reg_alpha=0.013830402204759198, reg_lambda=1.197842810686348, subsample=0.8529497759207869;, score=0.645 total time=   0.2s\n",
      "[CV 3/3] END booster=gbtree, colsample_bylevel=0.8248943714069297, colsample_bytree=0.7093553662303278, eval_metric=mlogloss, gamma=0.18821101873088084, learning_rate=0.28749457550745056, max_delta_step=1, max_depth=11, min_child_weight=43, n_estimators=350, objective=binary:logistic, reg_alpha=0.013830402204759198, reg_lambda=1.197842810686348, subsample=0.8529497759207869;, score=0.651 total time=   0.2s\n",
      "Fitting 3 folds for each of 1 candidates, totalling 3 fits\n"
     ]
    },
    {
     "name": "stdout",
     "output_type": "stream",
     "text": [
      "[CV 1/3] END booster=dart, colsample_bylevel=0.6263362171395246, colsample_bytree=0.5547692538151737, eval_metric=auc, gamma=0.4213360899262343, learning_rate=0.21445496555417667, max_delta_step=4, max_depth=10, min_child_weight=49, n_estimators=382, objective=binary:logistic, reg_alpha=5.92517757746073, reg_lambda=49.016404723016585, subsample=0.9083396995944775;, score=0.723 total time=   8.4s\n"
     ]
    },
    {
     "name": "stdout",
     "output_type": "stream",
     "text": [
      "[CV 2/3] END booster=dart, colsample_bylevel=0.6263362171395246, colsample_bytree=0.5547692538151737, eval_metric=auc, gamma=0.4213360899262343, learning_rate=0.21445496555417667, max_delta_step=4, max_depth=10, min_child_weight=49, n_estimators=382, objective=binary:logistic, reg_alpha=5.92517757746073, reg_lambda=49.016404723016585, subsample=0.9083396995944775;, score=0.683 total time=   8.2s\n"
     ]
    },
    {
     "name": "stdout",
     "output_type": "stream",
     "text": [
      "[CV 3/3] END booster=dart, colsample_bylevel=0.6263362171395246, colsample_bytree=0.5547692538151737, eval_metric=auc, gamma=0.4213360899262343, learning_rate=0.21445496555417667, max_delta_step=4, max_depth=10, min_child_weight=49, n_estimators=382, objective=binary:logistic, reg_alpha=5.92517757746073, reg_lambda=49.016404723016585, subsample=0.9083396995944775;, score=0.691 total time=   8.5s\n",
      "Fitting 3 folds for each of 1 candidates, totalling 3 fits\n"
     ]
    },
    {
     "name": "stdout",
     "output_type": "stream",
     "text": [
      "[CV 1/3] END booster=gbtree, colsample_bylevel=0.6442749093404072, colsample_bytree=0.7735181684591523, eval_metric=mlogloss, gamma=0.30349541416709175, learning_rate=0.2220401946602847, max_delta_step=8, max_depth=6, min_child_weight=12, n_estimators=392, objective=binary:logistic, reg_alpha=0.01079625816316753, reg_lambda=11.309676228423454, subsample=0.6277240248164293;, score=0.701 total time=   0.2s\n"
     ]
    },
    {
     "name": "stdout",
     "output_type": "stream",
     "text": [
      "[CV 2/3] END booster=gbtree, colsample_bylevel=0.6442749093404072, colsample_bytree=0.7735181684591523, eval_metric=mlogloss, gamma=0.30349541416709175, learning_rate=0.2220401946602847, max_delta_step=8, max_depth=6, min_child_weight=12, n_estimators=392, objective=binary:logistic, reg_alpha=0.01079625816316753, reg_lambda=11.309676228423454, subsample=0.6277240248164293;, score=0.671 total time=   0.2s\n"
     ]
    },
    {
     "name": "stdout",
     "output_type": "stream",
     "text": [
      "[CV 3/3] END booster=gbtree, colsample_bylevel=0.6442749093404072, colsample_bytree=0.7735181684591523, eval_metric=mlogloss, gamma=0.30349541416709175, learning_rate=0.2220401946602847, max_delta_step=8, max_depth=6, min_child_weight=12, n_estimators=392, objective=binary:logistic, reg_alpha=0.01079625816316753, reg_lambda=11.309676228423454, subsample=0.6277240248164293;, score=0.653 total time=   0.2s\n",
      "Fitting 3 folds for each of 1 candidates, totalling 3 fits\n"
     ]
    },
    {
     "name": "stdout",
     "output_type": "stream",
     "text": [
      "[CV 1/3] END booster=dart, colsample_bylevel=0.5773526958044634, colsample_bytree=0.6245201554591239, eval_metric=error, gamma=0.3556567756865713, learning_rate=0.2996996001506618, max_delta_step=7, max_depth=6, min_child_weight=42, n_estimators=422, objective=binary:logistic, reg_alpha=1.6254507965685225, reg_lambda=1.5803891849184322, subsample=0.6962233202920094;, score=0.671 total time=  12.0s\n"
     ]
    },
    {
     "name": "stdout",
     "output_type": "stream",
     "text": [
      "[CV 2/3] END booster=dart, colsample_bylevel=0.5773526958044634, colsample_bytree=0.6245201554591239, eval_metric=error, gamma=0.3556567756865713, learning_rate=0.2996996001506618, max_delta_step=7, max_depth=6, min_child_weight=42, n_estimators=422, objective=binary:logistic, reg_alpha=1.6254507965685225, reg_lambda=1.5803891849184322, subsample=0.6962233202920094;, score=0.661 total time=  11.7s\n"
     ]
    },
    {
     "name": "stdout",
     "output_type": "stream",
     "text": [
      "[CV 3/3] END booster=dart, colsample_bylevel=0.5773526958044634, colsample_bytree=0.6245201554591239, eval_metric=error, gamma=0.3556567756865713, learning_rate=0.2996996001506618, max_delta_step=7, max_depth=6, min_child_weight=42, n_estimators=422, objective=binary:logistic, reg_alpha=1.6254507965685225, reg_lambda=1.5803891849184322, subsample=0.6962233202920094;, score=0.650 total time=  11.9s\n",
      "Fitting 3 folds for each of 1 candidates, totalling 3 fits\n",
      "[CV 1/3] END booster=gbtree, colsample_bylevel=0.6080155350117447, colsample_bytree=0.5198450538508611, eval_metric=error, gamma=0.1277645713308153, learning_rate=0.25059128272250236, max_delta_step=2, max_depth=8, min_child_weight=36, n_estimators=327, objective=binary:logistic, reg_alpha=4.315770038718042, reg_lambda=0.1858501955698921, subsample=0.6609510451783553;, score=0.690 total time=   0.2s\n"
     ]
    },
    {
     "name": "stdout",
     "output_type": "stream",
     "text": [
      "[CV 2/3] END booster=gbtree, colsample_bylevel=0.6080155350117447, colsample_bytree=0.5198450538508611, eval_metric=error, gamma=0.1277645713308153, learning_rate=0.25059128272250236, max_delta_step=2, max_depth=8, min_child_weight=36, n_estimators=327, objective=binary:logistic, reg_alpha=4.315770038718042, reg_lambda=0.1858501955698921, subsample=0.6609510451783553;, score=0.679 total time=   0.2s\n",
      "[CV 3/3] END booster=gbtree, colsample_bylevel=0.6080155350117447, colsample_bytree=0.5198450538508611, eval_metric=error, gamma=0.1277645713308153, learning_rate=0.25059128272250236, max_delta_step=2, max_depth=8, min_child_weight=36, n_estimators=327, objective=binary:logistic, reg_alpha=4.315770038718042, reg_lambda=0.1858501955698921, subsample=0.6609510451783553;, score=0.646 total time=   0.2s\n"
     ]
    },
    {
     "name": "stdout",
     "output_type": "stream",
     "text": [
      "Fitting 3 folds for each of 1 candidates, totalling 3 fits\n"
     ]
    },
    {
     "name": "stdout",
     "output_type": "stream",
     "text": [
      "[CV 1/3] END booster=gbtree, colsample_bylevel=0.5159744566516128, colsample_bytree=0.9475733277011458, eval_metric=auc, gamma=0.47148235028686214, learning_rate=0.016939174438162945, max_delta_step=9, max_depth=3, min_child_weight=17, n_estimators=455, objective=binary:logistic, reg_alpha=0.18780388333563044, reg_lambda=0.47841980524858957, subsample=0.9132688214972259;, score=0.712 total time=   0.2s\n"
     ]
    },
    {
     "name": "stdout",
     "output_type": "stream",
     "text": [
      "[CV 2/3] END booster=gbtree, colsample_bylevel=0.5159744566516128, colsample_bytree=0.9475733277011458, eval_metric=auc, gamma=0.47148235028686214, learning_rate=0.016939174438162945, max_delta_step=9, max_depth=3, min_child_weight=17, n_estimators=455, objective=binary:logistic, reg_alpha=0.18780388333563044, reg_lambda=0.47841980524858957, subsample=0.9132688214972259;, score=0.682 total time=   0.2s\n"
     ]
    },
    {
     "name": "stdout",
     "output_type": "stream",
     "text": [
      "[CV 3/3] END booster=gbtree, colsample_bylevel=0.5159744566516128, colsample_bytree=0.9475733277011458, eval_metric=auc, gamma=0.47148235028686214, learning_rate=0.016939174438162945, max_delta_step=9, max_depth=3, min_child_weight=17, n_estimators=455, objective=binary:logistic, reg_alpha=0.18780388333563044, reg_lambda=0.47841980524858957, subsample=0.9132688214972259;, score=0.668 total time=   0.2s\n"
     ]
    },
    {
     "name": "stdout",
     "output_type": "stream",
     "text": [
      "Fitting 3 folds for each of 1 candidates, totalling 3 fits\n"
     ]
    },
    {
     "name": "stdout",
     "output_type": "stream",
     "text": [
      "[CV 1/3] END booster=dart, colsample_bylevel=0.5604414016048609, colsample_bytree=0.7186258310430409, eval_metric=auc, gamma=0.30155712576809823, learning_rate=0.1418554905545759, max_delta_step=6, max_depth=6, min_child_weight=26, n_estimators=124, objective=binary:logistic, reg_alpha=10.0, reg_lambda=0.43833937838553044, subsample=1.0;, score=0.701 total time=   1.1s\n"
     ]
    },
    {
     "name": "stdout",
     "output_type": "stream",
     "text": [
      "[CV 2/3] END booster=dart, colsample_bylevel=0.5604414016048609, colsample_bytree=0.7186258310430409, eval_metric=auc, gamma=0.30155712576809823, learning_rate=0.1418554905545759, max_delta_step=6, max_depth=6, min_child_weight=26, n_estimators=124, objective=binary:logistic, reg_alpha=10.0, reg_lambda=0.43833937838553044, subsample=1.0;, score=0.665 total time=   1.1s\n"
     ]
    },
    {
     "name": "stdout",
     "output_type": "stream",
     "text": [
      "[CV 3/3] END booster=dart, colsample_bylevel=0.5604414016048609, colsample_bytree=0.7186258310430409, eval_metric=auc, gamma=0.30155712576809823, learning_rate=0.1418554905545759, max_delta_step=6, max_depth=6, min_child_weight=26, n_estimators=124, objective=binary:logistic, reg_alpha=10.0, reg_lambda=0.43833937838553044, subsample=1.0;, score=0.684 total time=   1.1s\n"
     ]
    },
    {
     "name": "stdout",
     "output_type": "stream",
     "text": [
      "Fitting 3 folds for each of 1 candidates, totalling 3 fits\n",
      "[CV 1/3] END booster=gbtree, colsample_bylevel=0.5, colsample_bytree=0.5198813890364162, eval_metric=error, gamma=0.8163355085762344, learning_rate=0.3, max_delta_step=9, max_depth=4, min_child_weight=41, n_estimators=328, objective=binary:logistic, reg_alpha=6.457895581488177, reg_lambda=6.376923706601519, subsample=0.9229061792413863;, score=0.686 total time=   0.1s\n"
     ]
    },
    {
     "name": "stdout",
     "output_type": "stream",
     "text": [
      "[CV 2/3] END booster=gbtree, colsample_bylevel=0.5, colsample_bytree=0.5198813890364162, eval_metric=error, gamma=0.8163355085762344, learning_rate=0.3, max_delta_step=9, max_depth=4, min_child_weight=41, n_estimators=328, objective=binary:logistic, reg_alpha=6.457895581488177, reg_lambda=6.376923706601519, subsample=0.9229061792413863;, score=0.679 total time=   0.1s\n",
      "[CV 3/3] END booster=gbtree, colsample_bylevel=0.5, colsample_bytree=0.5198813890364162, eval_metric=error, gamma=0.8163355085762344, learning_rate=0.3, max_delta_step=9, max_depth=4, min_child_weight=41, n_estimators=328, objective=binary:logistic, reg_alpha=6.457895581488177, reg_lambda=6.376923706601519, subsample=0.9229061792413863;, score=0.676 total time=   0.1s\n"
     ]
    },
    {
     "name": "stdout",
     "output_type": "stream",
     "text": [
      "Fitting 3 folds for each of 1 candidates, totalling 3 fits\n"
     ]
    },
    {
     "name": "stdout",
     "output_type": "stream",
     "text": [
      "[CV 1/3] END booster=dart, colsample_bylevel=1.0, colsample_bytree=0.7629058340527708, eval_metric=auc, gamma=0.17599804918299636, learning_rate=0.3, max_delta_step=0, max_depth=11, min_child_weight=46, n_estimators=344, objective=binary:logistic, reg_alpha=0.006957710554890514, reg_lambda=29.61376673335431, subsample=0.8590219984096713;, score=0.697 total time=   6.9s\n"
     ]
    },
    {
     "name": "stdout",
     "output_type": "stream",
     "text": [
      "[CV 2/3] END booster=dart, colsample_bylevel=1.0, colsample_bytree=0.7629058340527708, eval_metric=auc, gamma=0.17599804918299636, learning_rate=0.3, max_delta_step=0, max_depth=11, min_child_weight=46, n_estimators=344, objective=binary:logistic, reg_alpha=0.006957710554890514, reg_lambda=29.61376673335431, subsample=0.8590219984096713;, score=0.657 total time=   6.7s\n"
     ]
    },
    {
     "name": "stdout",
     "output_type": "stream",
     "text": [
      "[CV 3/3] END booster=dart, colsample_bylevel=1.0, colsample_bytree=0.7629058340527708, eval_metric=auc, gamma=0.17599804918299636, learning_rate=0.3, max_delta_step=0, max_depth=11, min_child_weight=46, n_estimators=344, objective=binary:logistic, reg_alpha=0.006957710554890514, reg_lambda=29.61376673335431, subsample=0.8590219984096713;, score=0.644 total time=   6.7s\n"
     ]
    },
    {
     "name": "stdout",
     "output_type": "stream",
     "text": [
      "Fitting 3 folds for each of 1 candidates, totalling 3 fits\n"
     ]
    },
    {
     "name": "stdout",
     "output_type": "stream",
     "text": [
      "[CV 1/3] END booster=gbtree, colsample_bylevel=0.8853518743678493, colsample_bytree=0.8302339173170011, eval_metric=auc, gamma=0.1, learning_rate=0.01, max_delta_step=0, max_depth=11, min_child_weight=1, n_estimators=240, objective=binary:logistic, reg_alpha=0.2075899579595672, reg_lambda=1.1106345811650253, subsample=0.9161124324428075;, score=0.717 total time=   0.7s\n"
     ]
    },
    {
     "name": "stdout",
     "output_type": "stream",
     "text": [
      "[CV 2/3] END booster=gbtree, colsample_bylevel=0.8853518743678493, colsample_bytree=0.8302339173170011, eval_metric=auc, gamma=0.1, learning_rate=0.01, max_delta_step=0, max_depth=11, min_child_weight=1, n_estimators=240, objective=binary:logistic, reg_alpha=0.2075899579595672, reg_lambda=1.1106345811650253, subsample=0.9161124324428075;, score=0.684 total time=   0.5s\n"
     ]
    },
    {
     "name": "stdout",
     "output_type": "stream",
     "text": [
      "[CV 3/3] END booster=gbtree, colsample_bylevel=0.8853518743678493, colsample_bytree=0.8302339173170011, eval_metric=auc, gamma=0.1, learning_rate=0.01, max_delta_step=0, max_depth=11, min_child_weight=1, n_estimators=240, objective=binary:logistic, reg_alpha=0.2075899579595672, reg_lambda=1.1106345811650253, subsample=0.9161124324428075;, score=0.679 total time=   0.5s\n"
     ]
    },
    {
     "name": "stdout",
     "output_type": "stream",
     "text": [
      "Fitting 3 folds for each of 1 candidates, totalling 3 fits\n",
      "[CV 1/3] END booster=gbtree, colsample_bylevel=0.9796785285008245, colsample_bytree=0.9626310312322676, eval_metric=auc, gamma=0.3156716559903755, learning_rate=0.10948084473357643, max_delta_step=1, max_depth=14, min_child_weight=21, n_estimators=223, objective=binary:logistic, reg_alpha=5.653666622268772, reg_lambda=3.842064394084173, subsample=0.8252151449862977;, score=0.695 total time=   0.2s\n"
     ]
    },
    {
     "name": "stdout",
     "output_type": "stream",
     "text": [
      "[CV 2/3] END booster=gbtree, colsample_bylevel=0.9796785285008245, colsample_bytree=0.9626310312322676, eval_metric=auc, gamma=0.3156716559903755, learning_rate=0.10948084473357643, max_delta_step=1, max_depth=14, min_child_weight=21, n_estimators=223, objective=binary:logistic, reg_alpha=5.653666622268772, reg_lambda=3.842064394084173, subsample=0.8252151449862977;, score=0.667 total time=   0.2s\n",
      "[CV 3/3] END booster=gbtree, colsample_bylevel=0.9796785285008245, colsample_bytree=0.9626310312322676, eval_metric=auc, gamma=0.3156716559903755, learning_rate=0.10948084473357643, max_delta_step=1, max_depth=14, min_child_weight=21, n_estimators=223, objective=binary:logistic, reg_alpha=5.653666622268772, reg_lambda=3.842064394084173, subsample=0.8252151449862977;, score=0.680 total time=   0.2s\n"
     ]
    },
    {
     "name": "stdout",
     "output_type": "stream",
     "text": [
      "Fitting 3 folds for each of 1 candidates, totalling 3 fits\n",
      "[CV 1/3] END booster=gbtree, colsample_bylevel=0.8967471792271966, colsample_bytree=0.5, eval_metric=auc, gamma=0.2885117174127971, learning_rate=0.050510549627834536, max_delta_step=1, max_depth=11, min_child_weight=29, n_estimators=308, objective=binary:logistic, reg_alpha=1.6716275709461317, reg_lambda=0.6826800621674105, subsample=0.8928253307390783;, score=0.699 total time=   0.2s\n"
     ]
    },
    {
     "name": "stdout",
     "output_type": "stream",
     "text": [
      "[CV 2/3] END booster=gbtree, colsample_bylevel=0.8967471792271966, colsample_bytree=0.5, eval_metric=auc, gamma=0.2885117174127971, learning_rate=0.050510549627834536, max_delta_step=1, max_depth=11, min_child_weight=29, n_estimators=308, objective=binary:logistic, reg_alpha=1.6716275709461317, reg_lambda=0.6826800621674105, subsample=0.8928253307390783;, score=0.689 total time=   0.2s\n",
      "[CV 3/3] END booster=gbtree, colsample_bylevel=0.8967471792271966, colsample_bytree=0.5, eval_metric=auc, gamma=0.2885117174127971, learning_rate=0.050510549627834536, max_delta_step=1, max_depth=11, min_child_weight=29, n_estimators=308, objective=binary:logistic, reg_alpha=1.6716275709461317, reg_lambda=0.6826800621674105, subsample=0.8928253307390783;, score=0.674 total time=   0.2s\n"
     ]
    },
    {
     "name": "stdout",
     "output_type": "stream",
     "text": [
      "Fitting 3 folds for each of 1 candidates, totalling 3 fits\n",
      "[CV 1/3] END booster=gbtree, colsample_bylevel=0.9504446254384403, colsample_bytree=0.5, eval_metric=error, gamma=1.0, learning_rate=0.21669149037141905, max_delta_step=4, max_depth=14, min_child_weight=18, n_estimators=188, objective=binary:logistic, reg_alpha=6.504176144495427, reg_lambda=0.5949756439511119, subsample=1.0;, score=0.698 total time=   0.1s\n",
      "[CV 2/3] END booster=gbtree, colsample_bylevel=0.9504446254384403, colsample_bytree=0.5, eval_metric=error, gamma=1.0, learning_rate=0.21669149037141905, max_delta_step=4, max_depth=14, min_child_weight=18, n_estimators=188, objective=binary:logistic, reg_alpha=6.504176144495427, reg_lambda=0.5949756439511119, subsample=1.0;, score=0.695 total time=   0.1s\n"
     ]
    },
    {
     "name": "stdout",
     "output_type": "stream",
     "text": [
      "[CV 3/3] END booster=gbtree, colsample_bylevel=0.9504446254384403, colsample_bytree=0.5, eval_metric=error, gamma=1.0, learning_rate=0.21669149037141905, max_delta_step=4, max_depth=14, min_child_weight=18, n_estimators=188, objective=binary:logistic, reg_alpha=6.504176144495427, reg_lambda=0.5949756439511119, subsample=1.0;, score=0.662 total time=   0.1s\n"
     ]
    },
    {
     "name": "stdout",
     "output_type": "stream",
     "text": [
      "Fitting 3 folds for each of 1 candidates, totalling 3 fits\n"
     ]
    },
    {
     "name": "stdout",
     "output_type": "stream",
     "text": [
      "[CV 1/3] END booster=dart, colsample_bylevel=0.8550762346266588, colsample_bytree=0.5605445318629745, eval_metric=auc, gamma=0.4037326356788133, learning_rate=0.3, max_delta_step=6, max_depth=3, min_child_weight=39, n_estimators=500, objective=binary:logistic, reg_alpha=10.0, reg_lambda=17.142292313386292, subsample=0.6016075187907204;, score=0.691 total time=  16.4s\n"
     ]
    },
    {
     "name": "stdout",
     "output_type": "stream",
     "text": [
      "[CV 2/3] END booster=dart, colsample_bylevel=0.8550762346266588, colsample_bytree=0.5605445318629745, eval_metric=auc, gamma=0.4037326356788133, learning_rate=0.3, max_delta_step=6, max_depth=3, min_child_weight=39, n_estimators=500, objective=binary:logistic, reg_alpha=10.0, reg_lambda=17.142292313386292, subsample=0.6016075187907204;, score=0.676 total time=  16.1s\n"
     ]
    },
    {
     "name": "stdout",
     "output_type": "stream",
     "text": [
      "[CV 3/3] END booster=dart, colsample_bylevel=0.8550762346266588, colsample_bytree=0.5605445318629745, eval_metric=auc, gamma=0.4037326356788133, learning_rate=0.3, max_delta_step=6, max_depth=3, min_child_weight=39, n_estimators=500, objective=binary:logistic, reg_alpha=10.0, reg_lambda=17.142292313386292, subsample=0.6016075187907204;, score=0.658 total time=  16.4s\n"
     ]
    },
    {
     "name": "stdout",
     "output_type": "stream",
     "text": [
      "Fitting 3 folds for each of 1 candidates, totalling 3 fits\n"
     ]
    },
    {
     "name": "stdout",
     "output_type": "stream",
     "text": [
      "[CV 1/3] END booster=dart, colsample_bylevel=0.9196031986492401, colsample_bytree=0.7691148677933919, eval_metric=error, gamma=0.1, learning_rate=0.1786716585207226, max_delta_step=1, max_depth=3, min_child_weight=14, n_estimators=386, objective=binary:logistic, reg_alpha=10.0, reg_lambda=0.23848992012637946, subsample=0.9215546658091264;, score=0.704 total time=   9.9s\n"
     ]
    },
    {
     "name": "stdout",
     "output_type": "stream",
     "text": [
      "[CV 2/3] END booster=dart, colsample_bylevel=0.9196031986492401, colsample_bytree=0.7691148677933919, eval_metric=error, gamma=0.1, learning_rate=0.1786716585207226, max_delta_step=1, max_depth=3, min_child_weight=14, n_estimators=386, objective=binary:logistic, reg_alpha=10.0, reg_lambda=0.23848992012637946, subsample=0.9215546658091264;, score=0.683 total time=   9.7s\n"
     ]
    },
    {
     "name": "stdout",
     "output_type": "stream",
     "text": [
      "[CV 3/3] END booster=dart, colsample_bylevel=0.9196031986492401, colsample_bytree=0.7691148677933919, eval_metric=error, gamma=0.1, learning_rate=0.1786716585207226, max_delta_step=1, max_depth=3, min_child_weight=14, n_estimators=386, objective=binary:logistic, reg_alpha=10.0, reg_lambda=0.23848992012637946, subsample=0.9215546658091264;, score=0.681 total time=   9.6s\n"
     ]
    },
    {
     "name": "stdout",
     "output_type": "stream",
     "text": [
      "Fitting 3 folds for each of 1 candidates, totalling 3 fits\n"
     ]
    },
    {
     "name": "stdout",
     "output_type": "stream",
     "text": [
      "[CV 1/3] END booster=dart, colsample_bylevel=0.5, colsample_bytree=0.5, eval_metric=error, gamma=0.1, learning_rate=0.16407012077494387, max_delta_step=10, max_depth=6, min_child_weight=46, n_estimators=500, objective=binary:logistic, reg_alpha=10.0, reg_lambda=100.0, subsample=0.9326451086759172;, score=0.697 total time=  16.3s\n"
     ]
    },
    {
     "name": "stdout",
     "output_type": "stream",
     "text": [
      "[CV 2/3] END booster=dart, colsample_bylevel=0.5, colsample_bytree=0.5, eval_metric=error, gamma=0.1, learning_rate=0.16407012077494387, max_delta_step=10, max_depth=6, min_child_weight=46, n_estimators=500, objective=binary:logistic, reg_alpha=10.0, reg_lambda=100.0, subsample=0.9326451086759172;, score=0.675 total time=  16.1s\n"
     ]
    },
    {
     "name": "stdout",
     "output_type": "stream",
     "text": [
      "[CV 3/3] END booster=dart, colsample_bylevel=0.5, colsample_bytree=0.5, eval_metric=error, gamma=0.1, learning_rate=0.16407012077494387, max_delta_step=10, max_depth=6, min_child_weight=46, n_estimators=500, objective=binary:logistic, reg_alpha=10.0, reg_lambda=100.0, subsample=0.9326451086759172;, score=0.669 total time=  16.6s\n"
     ]
    },
    {
     "name": "stdout",
     "output_type": "stream",
     "text": [
      "Fitting 3 folds for each of 1 candidates, totalling 3 fits\n"
     ]
    },
    {
     "name": "stdout",
     "output_type": "stream",
     "text": [
      "[CV 1/3] END booster=gbtree, colsample_bylevel=0.7037972450858991, colsample_bytree=0.7881724122990952, eval_metric=error, gamma=0.22563078816683788, learning_rate=0.016150165997212567, max_delta_step=3, max_depth=4, min_child_weight=1, n_estimators=478, objective=binary:logistic, reg_alpha=0.06779722143103743, reg_lambda=74.97076380581946, subsample=1.0;, score=0.709 total time=   0.3s\n"
     ]
    },
    {
     "name": "stdout",
     "output_type": "stream",
     "text": [
      "[CV 2/3] END booster=gbtree, colsample_bylevel=0.7037972450858991, colsample_bytree=0.7881724122990952, eval_metric=error, gamma=0.22563078816683788, learning_rate=0.016150165997212567, max_delta_step=3, max_depth=4, min_child_weight=1, n_estimators=478, objective=binary:logistic, reg_alpha=0.06779722143103743, reg_lambda=74.97076380581946, subsample=1.0;, score=0.680 total time=   0.3s\n"
     ]
    },
    {
     "name": "stdout",
     "output_type": "stream",
     "text": [
      "[CV 3/3] END booster=gbtree, colsample_bylevel=0.7037972450858991, colsample_bytree=0.7881724122990952, eval_metric=error, gamma=0.22563078816683788, learning_rate=0.016150165997212567, max_delta_step=3, max_depth=4, min_child_weight=1, n_estimators=478, objective=binary:logistic, reg_alpha=0.06779722143103743, reg_lambda=74.97076380581946, subsample=1.0;, score=0.670 total time=   0.3s\n"
     ]
    },
    {
     "name": "stdout",
     "output_type": "stream",
     "text": [
      "Fitting 3 folds for each of 1 candidates, totalling 3 fits\n"
     ]
    },
    {
     "name": "stdout",
     "output_type": "stream",
     "text": [
      "[CV 1/3] END booster=dart, colsample_bylevel=0.5277547897933508, colsample_bytree=0.5506426536748479, eval_metric=auc, gamma=0.804584203145298, learning_rate=0.1824497785241961, max_delta_step=9, max_depth=10, min_child_weight=1, n_estimators=484, objective=binary:logistic, reg_alpha=0.09562338154487084, reg_lambda=23.457390751099076, subsample=1.0;, score=0.699 total time=  15.4s\n"
     ]
    },
    {
     "name": "stdout",
     "output_type": "stream",
     "text": [
      "[CV 2/3] END booster=dart, colsample_bylevel=0.5277547897933508, colsample_bytree=0.5506426536748479, eval_metric=auc, gamma=0.804584203145298, learning_rate=0.1824497785241961, max_delta_step=9, max_depth=10, min_child_weight=1, n_estimators=484, objective=binary:logistic, reg_alpha=0.09562338154487084, reg_lambda=23.457390751099076, subsample=1.0;, score=0.689 total time=  14.9s\n"
     ]
    },
    {
     "name": "stdout",
     "output_type": "stream",
     "text": [
      "[CV 3/3] END booster=dart, colsample_bylevel=0.5277547897933508, colsample_bytree=0.5506426536748479, eval_metric=auc, gamma=0.804584203145298, learning_rate=0.1824497785241961, max_delta_step=9, max_depth=10, min_child_weight=1, n_estimators=484, objective=binary:logistic, reg_alpha=0.09562338154487084, reg_lambda=23.457390751099076, subsample=1.0;, score=0.683 total time=  15.2s\n"
     ]
    },
    {
     "name": "stdout",
     "output_type": "stream",
     "text": [
      "Fitting 3 folds for each of 1 candidates, totalling 3 fits\n"
     ]
    },
    {
     "name": "stdout",
     "output_type": "stream",
     "text": [
      "[CV 1/3] END booster=dart, colsample_bylevel=0.9498799771104671, colsample_bytree=0.8972791220975346, eval_metric=mlogloss, gamma=0.17981744610953576, learning_rate=0.03100918095818067, max_delta_step=5, max_depth=6, min_child_weight=1, n_estimators=188, objective=binary:logistic, reg_alpha=10.0, reg_lambda=11.174933630263832, subsample=1.0;, score=0.706 total time=   2.5s\n"
     ]
    },
    {
     "name": "stdout",
     "output_type": "stream",
     "text": [
      "[CV 2/3] END booster=dart, colsample_bylevel=0.9498799771104671, colsample_bytree=0.8972791220975346, eval_metric=mlogloss, gamma=0.17981744610953576, learning_rate=0.03100918095818067, max_delta_step=5, max_depth=6, min_child_weight=1, n_estimators=188, objective=binary:logistic, reg_alpha=10.0, reg_lambda=11.174933630263832, subsample=1.0;, score=0.680 total time=   2.5s\n"
     ]
    },
    {
     "name": "stdout",
     "output_type": "stream",
     "text": [
      "[CV 3/3] END booster=dart, colsample_bylevel=0.9498799771104671, colsample_bytree=0.8972791220975346, eval_metric=mlogloss, gamma=0.17981744610953576, learning_rate=0.03100918095818067, max_delta_step=5, max_depth=6, min_child_weight=1, n_estimators=188, objective=binary:logistic, reg_alpha=10.0, reg_lambda=11.174933630263832, subsample=1.0;, score=0.668 total time=   2.5s\n"
     ]
    },
    {
     "name": "stdout",
     "output_type": "stream",
     "text": [
      "Fitting 3 folds for each of 1 candidates, totalling 3 fits\n"
     ]
    },
    {
     "name": "stdout",
     "output_type": "stream",
     "text": [
      "[CV 1/3] END booster=dart, colsample_bylevel=0.6056104496462621, colsample_bytree=0.7648672006785859, eval_metric=mlogloss, gamma=0.1805825166216339, learning_rate=0.06324748657825843, max_delta_step=0, max_depth=14, min_child_weight=45, n_estimators=299, objective=binary:logistic, reg_alpha=10.0, reg_lambda=19.812612861169054, subsample=0.9275292584668744;, score=0.704 total time=   5.2s\n"
     ]
    },
    {
     "name": "stdout",
     "output_type": "stream",
     "text": [
      "[CV 2/3] END booster=dart, colsample_bylevel=0.6056104496462621, colsample_bytree=0.7648672006785859, eval_metric=mlogloss, gamma=0.1805825166216339, learning_rate=0.06324748657825843, max_delta_step=0, max_depth=14, min_child_weight=45, n_estimators=299, objective=binary:logistic, reg_alpha=10.0, reg_lambda=19.812612861169054, subsample=0.9275292584668744;, score=0.671 total time=   5.0s\n"
     ]
    },
    {
     "name": "stdout",
     "output_type": "stream",
     "text": [
      "[CV 3/3] END booster=dart, colsample_bylevel=0.6056104496462621, colsample_bytree=0.7648672006785859, eval_metric=mlogloss, gamma=0.1805825166216339, learning_rate=0.06324748657825843, max_delta_step=0, max_depth=14, min_child_weight=45, n_estimators=299, objective=binary:logistic, reg_alpha=10.0, reg_lambda=19.812612861169054, subsample=0.9275292584668744;, score=0.670 total time=   5.1s\n"
     ]
    },
    {
     "name": "stdout",
     "output_type": "stream",
     "text": [
      "Fitting 3 folds for each of 1 candidates, totalling 3 fits\n"
     ]
    },
    {
     "name": "stdout",
     "output_type": "stream",
     "text": [
      "[CV 1/3] END booster=dart, colsample_bylevel=1.0, colsample_bytree=1.0, eval_metric=mlogloss, gamma=0.15731504840784974, learning_rate=0.01, max_delta_step=10, max_depth=4, min_child_weight=1, n_estimators=500, objective=binary:logistic, reg_alpha=0.001, reg_lambda=100.0, subsample=0.9739019178729318;, score=0.701 total time=  16.6s\n"
     ]
    },
    {
     "name": "stdout",
     "output_type": "stream",
     "text": [
      "[CV 2/3] END booster=dart, colsample_bylevel=1.0, colsample_bytree=1.0, eval_metric=mlogloss, gamma=0.15731504840784974, learning_rate=0.01, max_delta_step=10, max_depth=4, min_child_weight=1, n_estimators=500, objective=binary:logistic, reg_alpha=0.001, reg_lambda=100.0, subsample=0.9739019178729318;, score=0.665 total time=  16.7s\n"
     ]
    },
    {
     "name": "stdout",
     "output_type": "stream",
     "text": [
      "[CV 3/3] END booster=dart, colsample_bylevel=1.0, colsample_bytree=1.0, eval_metric=mlogloss, gamma=0.15731504840784974, learning_rate=0.01, max_delta_step=10, max_depth=4, min_child_weight=1, n_estimators=500, objective=binary:logistic, reg_alpha=0.001, reg_lambda=100.0, subsample=0.9739019178729318;, score=0.662 total time=  16.9s\n"
     ]
    },
    {
     "name": "stdout",
     "output_type": "stream",
     "text": [
      "STEP 3 (Prediction)\n"
     ]
    },
    {
     "ename": "ValueError",
     "evalue": "y should be a 1d array, got an array of shape (549, 2) instead.",
     "output_type": "error",
     "traceback": [
      "\u001b[0;31m---------------------------------------------------------------------------\u001b[0m",
      "\u001b[0;31mValueError\u001b[0m                                Traceback (most recent call last)",
      "Cell \u001b[0;32mIn[27], line 1\u001b[0m\n\u001b[0;32m----> 1\u001b[0m results \u001b[38;5;241m=\u001b[39m \u001b[43mnested_CV_revenge_binary\u001b[49m\u001b[43m(\u001b[49m\n\u001b[1;32m      2\u001b[0m \u001b[43m    \u001b[49m\u001b[43mouter_cv\u001b[49m\u001b[43m,\u001b[49m\u001b[43m \u001b[49m\u001b[43minner_cv\u001b[49m\u001b[43m,\u001b[49m\n\u001b[1;32m      3\u001b[0m \u001b[43m    \u001b[49m\u001b[43mX_train\u001b[49m\u001b[38;5;241;43m=\u001b[39;49m\u001b[43mX_train\u001b[49m\u001b[43m,\u001b[49m\n\u001b[1;32m      4\u001b[0m \u001b[43m    \u001b[49m\u001b[43my_train\u001b[49m\u001b[38;5;241;43m=\u001b[39;49m\u001b[43my_train\u001b[49m\u001b[43m,\u001b[49m\n\u001b[1;32m      5\u001b[0m \u001b[43m    \u001b[49m\u001b[43mmodel\u001b[49m\u001b[38;5;241;43m=\u001b[39;49m\u001b[43mclassifier\u001b[49m\u001b[43m,\u001b[49m\n\u001b[1;32m      6\u001b[0m \u001b[43m    \u001b[49m\u001b[43msearch_space\u001b[49m\u001b[38;5;241;43m=\u001b[39;49m\u001b[43msearch_space_bayes\u001b[49m\u001b[43m,\u001b[49m\n\u001b[1;32m      7\u001b[0m \u001b[43m    \u001b[49m\u001b[43mn_jobs\u001b[49m\u001b[38;5;241;43m=\u001b[39;49m\u001b[43m \u001b[49m\u001b[43mn_jobs_sk\u001b[49m\u001b[43m,\u001b[49m\u001b[43m \u001b[49m\u001b[43mn_iter_bsearch\u001b[49m\u001b[43m \u001b[49m\u001b[38;5;241;43m=\u001b[39;49m\u001b[43m \u001b[49m\u001b[43mn_iter_bsearch\u001b[49m\u001b[43m,\u001b[49m\n\u001b[1;32m      8\u001b[0m \u001b[43m    \u001b[49m\u001b[43mverbose\u001b[49m\u001b[38;5;241;43m=\u001b[39;49m\u001b[38;5;28;43;01mTrue\u001b[39;49;00m\n\u001b[1;32m      9\u001b[0m \u001b[43m)\u001b[49m\n\u001b[1;32m     11\u001b[0m (\n\u001b[1;32m     12\u001b[0m     hyperparam_list,\n\u001b[1;32m     13\u001b[0m     selected_features_list,\n\u001b[0;32m   (...)\u001b[0m\n\u001b[1;32m     20\u001b[0m     probas_array\n\u001b[1;32m     21\u001b[0m ) \u001b[38;5;241m=\u001b[39m results\n\u001b[1;32m     23\u001b[0m clear_output(wait \u001b[38;5;241m=\u001b[39m \u001b[38;5;28;01mFalse\u001b[39;00m)\n",
      "Cell \u001b[0;32mIn[11], line 104\u001b[0m, in \u001b[0;36mnested_CV_revenge_binary\u001b[0;34m(outer_cv, inner_cv, X_train, y_train, model, search_space, n_jobs, n_iter_bsearch, verbose)\u001b[0m\n\u001b[1;32m    102\u001b[0m cv_precision \u001b[38;5;241m=\u001b[39m sk\u001b[38;5;241m.\u001b[39mmetrics\u001b[38;5;241m.\u001b[39mprecision_score(y_val, cv_predictions, average \u001b[38;5;241m=\u001b[39m \u001b[38;5;124m\"\u001b[39m\u001b[38;5;124mmacro\u001b[39m\u001b[38;5;124m\"\u001b[39m)\n\u001b[1;32m    103\u001b[0m cv_recall \u001b[38;5;241m=\u001b[39m sk\u001b[38;5;241m.\u001b[39mmetrics\u001b[38;5;241m.\u001b[39mrecall_score(y_val, cv_predictions, average \u001b[38;5;241m=\u001b[39m \u001b[38;5;124m\"\u001b[39m\u001b[38;5;124mmacro\u001b[39m\u001b[38;5;124m\"\u001b[39m)\n\u001b[0;32m--> 104\u001b[0m cv_roc_auc \u001b[38;5;241m=\u001b[39m \u001b[43msk\u001b[49m\u001b[38;5;241;43m.\u001b[39;49m\u001b[43mmetrics\u001b[49m\u001b[38;5;241;43m.\u001b[39;49m\u001b[43mroc_auc_score\u001b[49m\u001b[43m(\u001b[49m\u001b[43my_val\u001b[49m\u001b[43m,\u001b[49m\u001b[43m \u001b[49m\u001b[43mcv_pred_probas\u001b[49m\u001b[43m,\u001b[49m\u001b[43m \u001b[49m\u001b[43mmulti_class\u001b[49m\u001b[38;5;241;43m=\u001b[39;49m\u001b[38;5;124;43m'\u001b[39;49m\u001b[38;5;124;43movr\u001b[39;49m\u001b[38;5;124;43m'\u001b[39;49m\u001b[43m,\u001b[49m\u001b[43m \u001b[49m\u001b[43maverage\u001b[49m\u001b[43m \u001b[49m\u001b[38;5;241;43m=\u001b[39;49m\u001b[43m \u001b[49m\u001b[38;5;124;43m\"\u001b[39;49m\u001b[38;5;124;43mmacro\u001b[39;49m\u001b[38;5;124;43m\"\u001b[39;49m\u001b[43m)\u001b[49m\n\u001b[1;32m    106\u001b[0m hyperparam_list\u001b[38;5;241m.\u001b[39mappend(best_params_fs)\n\u001b[1;32m    107\u001b[0m selected_features_list\u001b[38;5;241m.\u001b[39mappend(selected_features)\n",
      "File \u001b[0;32m~/.local/lib/python3.10/site-packages/sklearn/utils/_param_validation.py:216\u001b[0m, in \u001b[0;36mvalidate_params.<locals>.decorator.<locals>.wrapper\u001b[0;34m(*args, **kwargs)\u001b[0m\n\u001b[1;32m    210\u001b[0m \u001b[38;5;28;01mtry\u001b[39;00m:\n\u001b[1;32m    211\u001b[0m     \u001b[38;5;28;01mwith\u001b[39;00m config_context(\n\u001b[1;32m    212\u001b[0m         skip_parameter_validation\u001b[38;5;241m=\u001b[39m(\n\u001b[1;32m    213\u001b[0m             prefer_skip_nested_validation \u001b[38;5;129;01mor\u001b[39;00m global_skip_validation\n\u001b[1;32m    214\u001b[0m         )\n\u001b[1;32m    215\u001b[0m     ):\n\u001b[0;32m--> 216\u001b[0m         \u001b[38;5;28;01mreturn\u001b[39;00m \u001b[43mfunc\u001b[49m\u001b[43m(\u001b[49m\u001b[38;5;241;43m*\u001b[39;49m\u001b[43margs\u001b[49m\u001b[43m,\u001b[49m\u001b[43m \u001b[49m\u001b[38;5;241;43m*\u001b[39;49m\u001b[38;5;241;43m*\u001b[39;49m\u001b[43mkwargs\u001b[49m\u001b[43m)\u001b[49m\n\u001b[1;32m    217\u001b[0m \u001b[38;5;28;01mexcept\u001b[39;00m InvalidParameterError \u001b[38;5;28;01mas\u001b[39;00m e:\n\u001b[1;32m    218\u001b[0m     \u001b[38;5;66;03m# When the function is just a wrapper around an estimator, we allow\u001b[39;00m\n\u001b[1;32m    219\u001b[0m     \u001b[38;5;66;03m# the function to delegate validation to the estimator, but we replace\u001b[39;00m\n\u001b[1;32m    220\u001b[0m     \u001b[38;5;66;03m# the name of the estimator by the name of the function in the error\u001b[39;00m\n\u001b[1;32m    221\u001b[0m     \u001b[38;5;66;03m# message to avoid confusion.\u001b[39;00m\n\u001b[1;32m    222\u001b[0m     msg \u001b[38;5;241m=\u001b[39m re\u001b[38;5;241m.\u001b[39msub(\n\u001b[1;32m    223\u001b[0m         \u001b[38;5;124mr\u001b[39m\u001b[38;5;124m\"\u001b[39m\u001b[38;5;124mparameter of \u001b[39m\u001b[38;5;124m\\\u001b[39m\u001b[38;5;124mw+ must be\u001b[39m\u001b[38;5;124m\"\u001b[39m,\n\u001b[1;32m    224\u001b[0m         \u001b[38;5;124mf\u001b[39m\u001b[38;5;124m\"\u001b[39m\u001b[38;5;124mparameter of \u001b[39m\u001b[38;5;132;01m{\u001b[39;00mfunc\u001b[38;5;241m.\u001b[39m\u001b[38;5;18m__qualname__\u001b[39m\u001b[38;5;132;01m}\u001b[39;00m\u001b[38;5;124m must be\u001b[39m\u001b[38;5;124m\"\u001b[39m,\n\u001b[1;32m    225\u001b[0m         \u001b[38;5;28mstr\u001b[39m(e),\n\u001b[1;32m    226\u001b[0m     )\n",
      "File \u001b[0;32m~/.local/lib/python3.10/site-packages/sklearn/metrics/_ranking.py:641\u001b[0m, in \u001b[0;36mroc_auc_score\u001b[0;34m(y_true, y_score, average, sample_weight, max_fpr, multi_class, labels)\u001b[0m\n\u001b[1;32m    639\u001b[0m     labels \u001b[38;5;241m=\u001b[39m np\u001b[38;5;241m.\u001b[39munique(y_true)\n\u001b[1;32m    640\u001b[0m     y_true \u001b[38;5;241m=\u001b[39m label_binarize(y_true, classes\u001b[38;5;241m=\u001b[39mlabels)[:, \u001b[38;5;241m0\u001b[39m]\n\u001b[0;32m--> 641\u001b[0m     \u001b[38;5;28;01mreturn\u001b[39;00m \u001b[43m_average_binary_score\u001b[49m\u001b[43m(\u001b[49m\n\u001b[1;32m    642\u001b[0m \u001b[43m        \u001b[49m\u001b[43mpartial\u001b[49m\u001b[43m(\u001b[49m\u001b[43m_binary_roc_auc_score\u001b[49m\u001b[43m,\u001b[49m\u001b[43m \u001b[49m\u001b[43mmax_fpr\u001b[49m\u001b[38;5;241;43m=\u001b[39;49m\u001b[43mmax_fpr\u001b[49m\u001b[43m)\u001b[49m\u001b[43m,\u001b[49m\n\u001b[1;32m    643\u001b[0m \u001b[43m        \u001b[49m\u001b[43my_true\u001b[49m\u001b[43m,\u001b[49m\n\u001b[1;32m    644\u001b[0m \u001b[43m        \u001b[49m\u001b[43my_score\u001b[49m\u001b[43m,\u001b[49m\n\u001b[1;32m    645\u001b[0m \u001b[43m        \u001b[49m\u001b[43maverage\u001b[49m\u001b[43m,\u001b[49m\n\u001b[1;32m    646\u001b[0m \u001b[43m        \u001b[49m\u001b[43msample_weight\u001b[49m\u001b[38;5;241;43m=\u001b[39;49m\u001b[43msample_weight\u001b[49m\u001b[43m,\u001b[49m\n\u001b[1;32m    647\u001b[0m \u001b[43m    \u001b[49m\u001b[43m)\u001b[49m\n\u001b[1;32m    648\u001b[0m \u001b[38;5;28;01melse\u001b[39;00m:  \u001b[38;5;66;03m# multilabel-indicator\u001b[39;00m\n\u001b[1;32m    649\u001b[0m     \u001b[38;5;28;01mreturn\u001b[39;00m _average_binary_score(\n\u001b[1;32m    650\u001b[0m         partial(_binary_roc_auc_score, max_fpr\u001b[38;5;241m=\u001b[39mmax_fpr),\n\u001b[1;32m    651\u001b[0m         y_true,\n\u001b[0;32m   (...)\u001b[0m\n\u001b[1;32m    654\u001b[0m         sample_weight\u001b[38;5;241m=\u001b[39msample_weight,\n\u001b[1;32m    655\u001b[0m     )\n",
      "File \u001b[0;32m~/.local/lib/python3.10/site-packages/sklearn/metrics/_base.py:69\u001b[0m, in \u001b[0;36m_average_binary_score\u001b[0;34m(binary_metric, y_true, y_score, average, sample_weight)\u001b[0m\n\u001b[1;32m     66\u001b[0m     \u001b[38;5;28;01mraise\u001b[39;00m \u001b[38;5;167;01mValueError\u001b[39;00m(\u001b[38;5;124m\"\u001b[39m\u001b[38;5;132;01m{0}\u001b[39;00m\u001b[38;5;124m format is not supported\u001b[39m\u001b[38;5;124m\"\u001b[39m\u001b[38;5;241m.\u001b[39mformat(y_type))\n\u001b[1;32m     68\u001b[0m \u001b[38;5;28;01mif\u001b[39;00m y_type \u001b[38;5;241m==\u001b[39m \u001b[38;5;124m\"\u001b[39m\u001b[38;5;124mbinary\u001b[39m\u001b[38;5;124m\"\u001b[39m:\n\u001b[0;32m---> 69\u001b[0m     \u001b[38;5;28;01mreturn\u001b[39;00m \u001b[43mbinary_metric\u001b[49m\u001b[43m(\u001b[49m\u001b[43my_true\u001b[49m\u001b[43m,\u001b[49m\u001b[43m \u001b[49m\u001b[43my_score\u001b[49m\u001b[43m,\u001b[49m\u001b[43m \u001b[49m\u001b[43msample_weight\u001b[49m\u001b[38;5;241;43m=\u001b[39;49m\u001b[43msample_weight\u001b[49m\u001b[43m)\u001b[49m\n\u001b[1;32m     71\u001b[0m check_consistent_length(y_true, y_score, sample_weight)\n\u001b[1;32m     72\u001b[0m y_true \u001b[38;5;241m=\u001b[39m check_array(y_true)\n",
      "File \u001b[0;32m~/.local/lib/python3.10/site-packages/sklearn/metrics/_ranking.py:388\u001b[0m, in \u001b[0;36m_binary_roc_auc_score\u001b[0;34m(y_true, y_score, sample_weight, max_fpr)\u001b[0m\n\u001b[1;32m    379\u001b[0m     warnings\u001b[38;5;241m.\u001b[39mwarn(\n\u001b[1;32m    380\u001b[0m         (\n\u001b[1;32m    381\u001b[0m             \u001b[38;5;124m\"\u001b[39m\u001b[38;5;124mOnly one class is present in y_true. ROC AUC score \u001b[39m\u001b[38;5;124m\"\u001b[39m\n\u001b[0;32m   (...)\u001b[0m\n\u001b[1;32m    384\u001b[0m         UndefinedMetricWarning,\n\u001b[1;32m    385\u001b[0m     )\n\u001b[1;32m    386\u001b[0m     \u001b[38;5;28;01mreturn\u001b[39;00m np\u001b[38;5;241m.\u001b[39mnan\n\u001b[0;32m--> 388\u001b[0m fpr, tpr, _ \u001b[38;5;241m=\u001b[39m \u001b[43mroc_curve\u001b[49m\u001b[43m(\u001b[49m\u001b[43my_true\u001b[49m\u001b[43m,\u001b[49m\u001b[43m \u001b[49m\u001b[43my_score\u001b[49m\u001b[43m,\u001b[49m\u001b[43m \u001b[49m\u001b[43msample_weight\u001b[49m\u001b[38;5;241;43m=\u001b[39;49m\u001b[43msample_weight\u001b[49m\u001b[43m)\u001b[49m\n\u001b[1;32m    389\u001b[0m \u001b[38;5;28;01mif\u001b[39;00m max_fpr \u001b[38;5;129;01mis\u001b[39;00m \u001b[38;5;28;01mNone\u001b[39;00m \u001b[38;5;129;01mor\u001b[39;00m max_fpr \u001b[38;5;241m==\u001b[39m \u001b[38;5;241m1\u001b[39m:\n\u001b[1;32m    390\u001b[0m     \u001b[38;5;28;01mreturn\u001b[39;00m auc(fpr, tpr)\n",
      "File \u001b[0;32m~/.local/lib/python3.10/site-packages/sklearn/utils/_param_validation.py:189\u001b[0m, in \u001b[0;36mvalidate_params.<locals>.decorator.<locals>.wrapper\u001b[0;34m(*args, **kwargs)\u001b[0m\n\u001b[1;32m    187\u001b[0m global_skip_validation \u001b[38;5;241m=\u001b[39m get_config()[\u001b[38;5;124m\"\u001b[39m\u001b[38;5;124mskip_parameter_validation\u001b[39m\u001b[38;5;124m\"\u001b[39m]\n\u001b[1;32m    188\u001b[0m \u001b[38;5;28;01mif\u001b[39;00m global_skip_validation:\n\u001b[0;32m--> 189\u001b[0m     \u001b[38;5;28;01mreturn\u001b[39;00m \u001b[43mfunc\u001b[49m\u001b[43m(\u001b[49m\u001b[38;5;241;43m*\u001b[39;49m\u001b[43margs\u001b[49m\u001b[43m,\u001b[49m\u001b[43m \u001b[49m\u001b[38;5;241;43m*\u001b[39;49m\u001b[38;5;241;43m*\u001b[39;49m\u001b[43mkwargs\u001b[49m\u001b[43m)\u001b[49m\n\u001b[1;32m    191\u001b[0m func_sig \u001b[38;5;241m=\u001b[39m signature(func)\n\u001b[1;32m    193\u001b[0m \u001b[38;5;66;03m# Map *args/**kwargs to the function signature\u001b[39;00m\n",
      "File \u001b[0;32m~/.local/lib/python3.10/site-packages/sklearn/metrics/_ranking.py:1150\u001b[0m, in \u001b[0;36mroc_curve\u001b[0;34m(y_true, y_score, pos_label, sample_weight, drop_intermediate)\u001b[0m\n\u001b[1;32m   1046\u001b[0m \u001b[38;5;129m@validate_params\u001b[39m(\n\u001b[1;32m   1047\u001b[0m     {\n\u001b[1;32m   1048\u001b[0m         \u001b[38;5;124m\"\u001b[39m\u001b[38;5;124my_true\u001b[39m\u001b[38;5;124m\"\u001b[39m: [\u001b[38;5;124m\"\u001b[39m\u001b[38;5;124marray-like\u001b[39m\u001b[38;5;124m\"\u001b[39m],\n\u001b[0;32m   (...)\u001b[0m\n\u001b[1;32m   1057\u001b[0m     y_true, y_score, \u001b[38;5;241m*\u001b[39m, pos_label\u001b[38;5;241m=\u001b[39m\u001b[38;5;28;01mNone\u001b[39;00m, sample_weight\u001b[38;5;241m=\u001b[39m\u001b[38;5;28;01mNone\u001b[39;00m, drop_intermediate\u001b[38;5;241m=\u001b[39m\u001b[38;5;28;01mTrue\u001b[39;00m\n\u001b[1;32m   1058\u001b[0m ):\n\u001b[1;32m   1059\u001b[0m \u001b[38;5;250m    \u001b[39m\u001b[38;5;124;03m\"\"\"Compute Receiver operating characteristic (ROC).\u001b[39;00m\n\u001b[1;32m   1060\u001b[0m \n\u001b[1;32m   1061\u001b[0m \u001b[38;5;124;03m    Note: this implementation is restricted to the binary classification task.\u001b[39;00m\n\u001b[0;32m   (...)\u001b[0m\n\u001b[1;32m   1148\u001b[0m \u001b[38;5;124;03m    array([ inf, 0.8 , 0.4 , 0.35, 0.1 ])\u001b[39;00m\n\u001b[1;32m   1149\u001b[0m \u001b[38;5;124;03m    \"\"\"\u001b[39;00m\n\u001b[0;32m-> 1150\u001b[0m     fps, tps, thresholds \u001b[38;5;241m=\u001b[39m \u001b[43m_binary_clf_curve\u001b[49m\u001b[43m(\u001b[49m\n\u001b[1;32m   1151\u001b[0m \u001b[43m        \u001b[49m\u001b[43my_true\u001b[49m\u001b[43m,\u001b[49m\u001b[43m \u001b[49m\u001b[43my_score\u001b[49m\u001b[43m,\u001b[49m\u001b[43m \u001b[49m\u001b[43mpos_label\u001b[49m\u001b[38;5;241;43m=\u001b[39;49m\u001b[43mpos_label\u001b[49m\u001b[43m,\u001b[49m\u001b[43m \u001b[49m\u001b[43msample_weight\u001b[49m\u001b[38;5;241;43m=\u001b[39;49m\u001b[43msample_weight\u001b[49m\n\u001b[1;32m   1152\u001b[0m \u001b[43m    \u001b[49m\u001b[43m)\u001b[49m\n\u001b[1;32m   1154\u001b[0m     \u001b[38;5;66;03m# Attempt to drop thresholds corresponding to points in between and\u001b[39;00m\n\u001b[1;32m   1155\u001b[0m     \u001b[38;5;66;03m# collinear with other points. These are always suboptimal and do not\u001b[39;00m\n\u001b[1;32m   1156\u001b[0m     \u001b[38;5;66;03m# appear on a plotted ROC curve (and thus do not affect the AUC).\u001b[39;00m\n\u001b[0;32m   (...)\u001b[0m\n\u001b[1;32m   1161\u001b[0m     \u001b[38;5;66;03m# but does not drop more complicated cases like fps = [1, 3, 7],\u001b[39;00m\n\u001b[1;32m   1162\u001b[0m     \u001b[38;5;66;03m# tps = [1, 2, 4]; there is no harm in keeping too many thresholds.\u001b[39;00m\n\u001b[1;32m   1163\u001b[0m     \u001b[38;5;28;01mif\u001b[39;00m drop_intermediate \u001b[38;5;129;01mand\u001b[39;00m \u001b[38;5;28mlen\u001b[39m(fps) \u001b[38;5;241m>\u001b[39m \u001b[38;5;241m2\u001b[39m:\n",
      "File \u001b[0;32m~/.local/lib/python3.10/site-packages/sklearn/metrics/_ranking.py:822\u001b[0m, in \u001b[0;36m_binary_clf_curve\u001b[0;34m(y_true, y_score, pos_label, sample_weight)\u001b[0m\n\u001b[1;32m    820\u001b[0m check_consistent_length(y_true, y_score, sample_weight)\n\u001b[1;32m    821\u001b[0m y_true \u001b[38;5;241m=\u001b[39m column_or_1d(y_true)\n\u001b[0;32m--> 822\u001b[0m y_score \u001b[38;5;241m=\u001b[39m \u001b[43mcolumn_or_1d\u001b[49m\u001b[43m(\u001b[49m\u001b[43my_score\u001b[49m\u001b[43m)\u001b[49m\n\u001b[1;32m    823\u001b[0m assert_all_finite(y_true)\n\u001b[1;32m    824\u001b[0m assert_all_finite(y_score)\n",
      "File \u001b[0;32m~/.local/lib/python3.10/site-packages/sklearn/utils/validation.py:1485\u001b[0m, in \u001b[0;36mcolumn_or_1d\u001b[0;34m(y, dtype, warn, device)\u001b[0m\n\u001b[1;32m   1472\u001b[0m         warnings\u001b[38;5;241m.\u001b[39mwarn(\n\u001b[1;32m   1473\u001b[0m             (\n\u001b[1;32m   1474\u001b[0m                 \u001b[38;5;124m\"\u001b[39m\u001b[38;5;124mA column-vector y was passed when a 1d array was\u001b[39m\u001b[38;5;124m\"\u001b[39m\n\u001b[0;32m   (...)\u001b[0m\n\u001b[1;32m   1479\u001b[0m             stacklevel\u001b[38;5;241m=\u001b[39m\u001b[38;5;241m2\u001b[39m,\n\u001b[1;32m   1480\u001b[0m         )\n\u001b[1;32m   1481\u001b[0m     \u001b[38;5;28;01mreturn\u001b[39;00m _asarray_with_order(\n\u001b[1;32m   1482\u001b[0m         xp\u001b[38;5;241m.\u001b[39mreshape(y, (\u001b[38;5;241m-\u001b[39m\u001b[38;5;241m1\u001b[39m,)), order\u001b[38;5;241m=\u001b[39m\u001b[38;5;124m\"\u001b[39m\u001b[38;5;124mC\u001b[39m\u001b[38;5;124m\"\u001b[39m, xp\u001b[38;5;241m=\u001b[39mxp, device\u001b[38;5;241m=\u001b[39mdevice\n\u001b[1;32m   1483\u001b[0m     )\n\u001b[0;32m-> 1485\u001b[0m \u001b[38;5;28;01mraise\u001b[39;00m \u001b[38;5;167;01mValueError\u001b[39;00m(\n\u001b[1;32m   1486\u001b[0m     \u001b[38;5;124m\"\u001b[39m\u001b[38;5;124my should be a 1d array, got an array of shape \u001b[39m\u001b[38;5;132;01m{}\u001b[39;00m\u001b[38;5;124m instead.\u001b[39m\u001b[38;5;124m\"\u001b[39m\u001b[38;5;241m.\u001b[39mformat(shape)\n\u001b[1;32m   1487\u001b[0m )\n",
      "\u001b[0;31mValueError\u001b[0m: y should be a 1d array, got an array of shape (549, 2) instead."
     ]
    }
   ],
   "source": [
    "results = nested_CV_revenge_binary(\n",
    "    outer_cv, inner_cv,\n",
    "    X_train=X_train,\n",
    "    y_train=y_train,\n",
    "    model=classifier,\n",
    "    search_space=search_space_bayes,\n",
    "    n_jobs= n_jobs_sk, n_iter_bsearch = n_iter_bsearch,\n",
    "    verbose=True\n",
    ")\n",
    "\n",
    "(\n",
    "    hyperparam_list,\n",
    "    selected_features_list,\n",
    "    accuracy_array,\n",
    "    f1_array,\n",
    "    precision_array,\n",
    "    recall_array,\n",
    "    roc_auc_array,\n",
    "    predictions_array,\n",
    "    probas_array\n",
    ") = results\n",
    "\n",
    "clear_output(wait = False)"
   ]
  },
  {
   "cell_type": "code",
   "execution_count": null,
   "id": "d842999a",
   "metadata": {
    "papermill": {
     "duration": null,
     "end_time": null,
     "exception": null,
     "start_time": null,
     "status": "pending"
    },
    "tags": []
   },
   "outputs": [],
   "source": [
    "print(f\"The cross-validated accuracy (cv = {outer_cv}) is: {np.mean(accuracy_array)}\")\n",
    "print(f\"The cross-validated f1 (cv = {outer_cv}) is: {np.mean(f1_array)}\")\n",
    "print(f\"The cross-validated precision (cv = {outer_cv}) is: {np.mean(precision_array)}\")\n",
    "print(f\"The cross-validated recall (cv = {outer_cv}) is: {np.mean(recall_array)}\")\n",
    "print(f\"The cross-validated AUC (cv = {outer_cv}) is: {np.mean(roc_auc_array)}\")"
   ]
  },
  {
   "cell_type": "code",
   "execution_count": null,
   "id": "6a2d161e",
   "metadata": {
    "papermill": {
     "duration": null,
     "end_time": null,
     "exception": null,
     "start_time": null,
     "status": "pending"
    },
    "tags": []
   },
   "outputs": [],
   "source": [
    "selected_features_in_at_least_one_cv = set([elem for inner_list in selected_features_list for elem in inner_list])"
   ]
  },
  {
   "cell_type": "code",
   "execution_count": null,
   "id": "1700f1db",
   "metadata": {
    "papermill": {
     "duration": null,
     "end_time": null,
     "exception": null,
     "start_time": null,
     "status": "pending"
    },
    "tags": []
   },
   "outputs": [],
   "source": [
    "search_space_grid = {}\n",
    "\n",
    "for dictionary in hyperparam_list:\n",
    "    for k,v in dictionary.items():\n",
    "        if k in search_space_grid:\n",
    "            search_space_grid[k].update([v])\n",
    "        else:\n",
    "            search_space_grid[k] = set([v])\n",
    "\n",
    "search_space_grid = {k : list(v) for k,v in search_space_grid.items()}"
   ]
  },
  {
   "cell_type": "markdown",
   "id": "2244d9d3",
   "metadata": {
    "papermill": {
     "duration": null,
     "end_time": null,
     "exception": null,
     "start_time": null,
     "status": "pending"
    },
    "tags": []
   },
   "source": [
    "## Full Dataset Hyperparameter Tuning"
   ]
  },
  {
   "cell_type": "code",
   "execution_count": null,
   "id": "513024fe",
   "metadata": {
    "papermill": {
     "duration": null,
     "end_time": null,
     "exception": null,
     "start_time": null,
     "status": "pending"
    },
    "tags": []
   },
   "outputs": [],
   "source": [
    "opti = sk.model_selection.RandomizedSearchCV(estimator = classifier, \n",
    "                                             param_distributions = search_space_grid, \n",
    "                                             cv = inner_cv, \n",
    "                                             n_jobs = n_jobs_sk,\n",
    "                                             n_iter = n_iter_rsearch,\n",
    "                                             random_state = hypertune_random_state_rsearch, \n",
    "                                             verbose = 0, refit = True)\n",
    "opti.fit(X_train, y_train)"
   ]
  },
  {
   "cell_type": "code",
   "execution_count": null,
   "id": "02b5780f",
   "metadata": {
    "papermill": {
     "duration": null,
     "end_time": null,
     "exception": null,
     "start_time": null,
     "status": "pending"
    },
    "tags": []
   },
   "outputs": [],
   "source": [
    "model = opti.best_estimator_"
   ]
  },
  {
   "cell_type": "markdown",
   "id": "203c1847",
   "metadata": {
    "papermill": {
     "duration": null,
     "end_time": null,
     "exception": null,
     "start_time": null,
     "status": "pending"
    },
    "tags": []
   },
   "source": [
    "## Feature Importance Analysis"
   ]
  },
  {
   "cell_type": "markdown",
   "id": "b9e85b45",
   "metadata": {
    "papermill": {
     "duration": null,
     "end_time": null,
     "exception": null,
     "start_time": null,
     "status": "pending"
    },
    "tags": []
   },
   "source": [
    "Let's look at both XGBoost native feature importance and at mean absolute SHAP values as metric of feature importance"
   ]
  },
  {
   "cell_type": "code",
   "execution_count": null,
   "id": "41844850",
   "metadata": {
    "papermill": {
     "duration": null,
     "end_time": null,
     "exception": null,
     "start_time": null,
     "status": "pending"
    },
    "tags": []
   },
   "outputs": [],
   "source": [
    "explainer = shap.TreeExplainer(model)\n",
    "shap_values = explainer(X_train)\n",
    "shap_values_numpy = explainer.shap_values(X_train)"
   ]
  },
  {
   "cell_type": "code",
   "execution_count": null,
   "id": "e52ec716",
   "metadata": {
    "papermill": {
     "duration": null,
     "end_time": null,
     "exception": null,
     "start_time": null,
     "status": "pending"
    },
    "tags": []
   },
   "outputs": [],
   "source": [
    "if plot_shap:\n",
    "    print(\" / \".join([mode, condition]))\n",
    "    plt.figure(figsize = (100,25))\n",
    "    summary_plot = shap.summary_plot(shap_values, X_train, \n",
    "                                     plot_type='bar', max_display=10, plot_size= (25,10))\n",
    "    plt.show()"
   ]
  },
  {
   "cell_type": "markdown",
   "id": "5d77c6f8",
   "metadata": {
    "papermill": {
     "duration": null,
     "end_time": null,
     "exception": null,
     "start_time": null,
     "status": "pending"
    },
    "tags": []
   },
   "source": [
    "## Feature Selection"
   ]
  },
  {
   "cell_type": "markdown",
   "id": "0f0d72ea",
   "metadata": {
    "papermill": {
     "duration": null,
     "end_time": null,
     "exception": null,
     "start_time": null,
     "status": "pending"
    },
    "tags": []
   },
   "source": [
    "Let's perform Feature Selection using mean absolute SHAP values"
   ]
  },
  {
   "cell_type": "code",
   "execution_count": null,
   "id": "e0ca8aff",
   "metadata": {
    "papermill": {
     "duration": null,
     "end_time": null,
     "exception": null,
     "start_time": null,
     "status": "pending"
    },
    "tags": []
   },
   "outputs": [],
   "source": [
    "feature_names = model.feature_names_in_\n",
    "\n",
    "if technology == \"sc\":\n",
    "    feature_importances_shap = np.mean(np.mean(np.abs(explainer.shap_values(X_train)), axis = 0),axis = 1) # if sc I do multiclass\n",
    "else:\n",
    "    feature_importances_shap = np.mean(np.abs(explainer.shap_values(X_train)), axis = 0) # if sc I do multiclass\n",
    "\n",
    "X_train_reduced, X_test_reduced, selected_features = feature_selector_shap(feature_names, feature_importances_shap, \n",
    "                                                                            model, X_train, X_test, y_train, \n",
    "                                                                            inner_cv = inner_cv,\n",
    "                                                                            plot = True, verbose = True)"
   ]
  },
  {
   "cell_type": "code",
   "execution_count": null,
   "id": "53b3b15f",
   "metadata": {
    "papermill": {
     "duration": null,
     "end_time": null,
     "exception": null,
     "start_time": null,
     "status": "pending"
    },
    "tags": []
   },
   "outputs": [],
   "source": [
    "features_to_discard = [feature for feature in selected_features if feature not in selected_features_in_at_least_one_cv]"
   ]
  },
  {
   "cell_type": "code",
   "execution_count": null,
   "id": "e59eae3f",
   "metadata": {
    "papermill": {
     "duration": null,
     "end_time": null,
     "exception": null,
     "start_time": null,
     "status": "pending"
    },
    "tags": []
   },
   "outputs": [],
   "source": [
    "print(f\"Dropping columns never selected during Nested Cross Validation: {features_to_discard}\")"
   ]
  },
  {
   "cell_type": "code",
   "execution_count": null,
   "id": "48fbeac4",
   "metadata": {
    "papermill": {
     "duration": null,
     "end_time": null,
     "exception": null,
     "start_time": null,
     "status": "pending"
    },
    "tags": []
   },
   "outputs": [],
   "source": [
    "X_train_reduced = X_train_reduced.drop(features_to_discard, axis = 1)\n",
    "X_test_reduced = X_test_reduced.drop(features_to_discard, axis = 1)"
   ]
  },
  {
   "cell_type": "code",
   "execution_count": null,
   "id": "9a6394be",
   "metadata": {
    "papermill": {
     "duration": null,
     "end_time": null,
     "exception": null,
     "start_time": null,
     "status": "pending"
    },
    "tags": []
   },
   "outputs": [],
   "source": [
    "opti_fs = sk.model_selection.RandomizedSearchCV(estimator = model, \n",
    "                                                param_distributions = search_space_grid, \n",
    "                                                cv = inner_cv, \n",
    "                                                n_jobs = n_jobs_sk,\n",
    "                                                n_iter = n_iter_rsearch,\n",
    "                                                random_state = hypertune_random_state_rsearch, \n",
    "                                                verbose = 0, refit = True)\n",
    "opti_fs.fit(X_train_reduced, y_train)"
   ]
  },
  {
   "cell_type": "code",
   "execution_count": null,
   "id": "b97a9d75",
   "metadata": {
    "papermill": {
     "duration": null,
     "end_time": null,
     "exception": null,
     "start_time": null,
     "status": "pending"
    },
    "tags": []
   },
   "outputs": [],
   "source": [
    "model_fs = opti_fs.best_estimator_"
   ]
  },
  {
   "cell_type": "code",
   "execution_count": null,
   "id": "c5350c86",
   "metadata": {
    "papermill": {
     "duration": null,
     "end_time": null,
     "exception": null,
     "start_time": null,
     "status": "pending"
    },
    "tags": []
   },
   "outputs": [],
   "source": [
    "best_params_fs = opti_fs.best_params_"
   ]
  },
  {
   "cell_type": "code",
   "execution_count": null,
   "id": "5491995f",
   "metadata": {
    "papermill": {
     "duration": null,
     "end_time": null,
     "exception": null,
     "start_time": null,
     "status": "pending"
    },
    "tags": []
   },
   "outputs": [],
   "source": [
    "for k,v in best_params_fs.items():\n",
    "    print(f\"{k}: {v}\")"
   ]
  },
  {
   "cell_type": "markdown",
   "id": "2d8937fc",
   "metadata": {
    "papermill": {
     "duration": null,
     "end_time": null,
     "exception": null,
     "start_time": null,
     "status": "pending"
    },
    "tags": []
   },
   "source": [
    "## Store Variables for later"
   ]
  },
  {
   "cell_type": "code",
   "execution_count": null,
   "id": "d1fff515",
   "metadata": {
    "papermill": {
     "duration": null,
     "end_time": null,
     "exception": null,
     "start_time": null,
     "status": "pending"
    },
    "tags": []
   },
   "outputs": [],
   "source": [
    "pickle.dump(X_train_reduced,open(X_train_filename,\"wb\"))\n",
    "pickle.dump(X_test_reduced,open(X_test_filename,\"wb\"))\n",
    "pickle.dump(y_train,open(y_train_filename,\"wb\"))\n",
    "pickle.dump(y_test,open(y_test_filename,\"wb\"))\n",
    "pickle.dump(bin_train,open(bin_train_filename,\"wb\"))\n",
    "pickle.dump(bin_test,open(bin_test_filename,\"wb\"))\n",
    "pickle.dump(model_fs,open(model_filename,\"wb\"))"
   ]
  },
  {
   "cell_type": "markdown",
   "id": "6a49a56c",
   "metadata": {
    "papermill": {
     "duration": null,
     "end_time": null,
     "exception": null,
     "start_time": null,
     "status": "pending"
    },
    "tags": []
   },
   "source": [
    "## Evaluate Model Performances"
   ]
  },
  {
   "cell_type": "code",
   "execution_count": null,
   "id": "cd04e764-6900-4fd1-ad3b-59a9e20fa7ca",
   "metadata": {
    "papermill": {
     "duration": null,
     "end_time": null,
     "exception": null,
     "start_time": null,
     "status": "pending"
    },
    "tags": []
   },
   "outputs": [],
   "source": [
    "if technology == \"sc\":\n",
    "    f1_macro = sk.metrics.make_scorer(sk.metrics.f1_score, average=\"macro\")\n",
    "    precision_macro = sk.metrics.make_scorer(sk.metrics.precision_score, average=\"macro\")\n",
    "    recall_macro = sk.metrics.make_scorer(sk.metrics.recall_score, average=\"macro\")\n",
    "    \n",
    "    accuracy_array_fs = np.mean(sk.model_selection.cross_val_score(model_fs, X_train_reduced, y_train, cv = outer_cv, scoring = \"accuracy\"))\n",
    "    f1_array_fs = np.mean(sk.model_selection.cross_val_score(model_fs, X_train_reduced, y_train, cv = outer_cv, scoring = f1_macro))\n",
    "    precision_array_fs = np.mean(sk.model_selection.cross_val_score(model_fs, X_train_reduced, y_train, cv = outer_cv, scoring = precision_macro))\n",
    "    recall_array_fs = np.mean(sk.model_selection.cross_val_score(model_fs, X_train_reduced, y_train, cv = outer_cv, scoring = recall_macro))\n",
    "    \n",
    "    roc_auc_array_fs = np.mean(sk.model_selection.cross_val_score(model_fs, X_train_reduced, y_train, cv = outer_cv, scoring = \"roc_auc_ovr\"))\n",
    "    \n",
    "    proba_predictions_fs = sk.model_selection.cross_val_predict(model_fs, X_train_reduced, y_train, cv = outer_cv, method= \"predict_proba\")\n",
    "    class_array_fs = sk.model_selection.cross_val_predict(model_fs, X_train_reduced, y_train, cv = outer_cv, method= \"predict\")\n",
    "    \n",
    "    label_binarizer = sk.preprocessing.LabelBinarizer().fit(y_train)\n",
    "    y_onehot_train = label_binarizer.transform(y_train)\n",
    "    n_classes = y_onehot_train.shape[1]\n",
    "    target_names = np.unique(y_train)\n",
    "    \n",
    "    fpr, tpr, roc_auc = dict(), dict(), dict()\n",
    "    \n",
    "    for i in range(n_classes):\n",
    "        fpr[i], tpr[i], _ = sk.metrics.roc_curve(y_onehot_train[:, i], proba_predictions_fs[:, i])\n",
    "        roc_auc[i] = sk.metrics.auc(fpr[i], tpr[i])\n",
    "    \n",
    "    fpr_grid = np.linspace(0.0, 1.0, 1000)\n",
    "    \n",
    "    mean_tpr = np.zeros_like(fpr_grid)\n",
    "    \n",
    "    for i in range(n_classes):\n",
    "        mean_tpr += np.interp(fpr_grid, fpr[i], tpr[i])\n",
    "    \n",
    "    mean_tpr /= n_classes\n",
    "    \n",
    "    fpr[\"macro\"] = fpr_grid\n",
    "    tpr[\"macro\"] = mean_tpr\n",
    "    roc_auc[\"macro\"] = sk.metrics.auc(fpr[\"macro\"], tpr[\"macro\"])\n",
    "    \n",
    "    print(f\"Macro-averaged One-vs-Rest ROC AUC score: {roc_auc['macro']:.2f}\")\n",
    "    \n",
    "    from itertools import cycle\n",
    "    \n",
    "    fig, ax = plt.subplots(figsize=(6, 6))\n",
    "    \n",
    "    plt.plot(\n",
    "        fpr[\"macro\"],\n",
    "        tpr[\"macro\"],\n",
    "        label=f\"macro-average ROC curve (AUC = {roc_auc['macro']:.2f})\",\n",
    "        color=\"navy\",\n",
    "        linestyle=\":\",\n",
    "        linewidth=4,\n",
    "    )\n",
    "    \n",
    "    colors = cycle([\"aqua\", \"darkorange\", \"cornflowerblue\"])\n",
    "    for class_id, color in zip(range(n_classes), colors):\n",
    "        sk.metrics.RocCurveDisplay.from_predictions(\n",
    "            y_onehot_train[:, class_id],\n",
    "            proba_predictions_fs[:, class_id],\n",
    "            name=f\"ROC curve for {target_names[class_id]}\",\n",
    "            color=color,\n",
    "            ax=ax,\n",
    "            plot_chance_level=(class_id == 2),\n",
    "            despine=True,\n",
    "        )\n",
    "    \n",
    "    _ = ax.set(\n",
    "        xlabel=\"False Positive Rate\",\n",
    "        ylabel=\"True Positive Rate\",\n",
    "        title=\"Extension of Receiver Operating Characteristic\\nto One-vs-Rest multiclass\",\n",
    "    )"
   ]
  },
  {
   "cell_type": "code",
   "execution_count": null,
   "id": "12710ef4-78b2-4c95-bad0-0498bfc81f1b",
   "metadata": {},
   "outputs": [],
   "source": [
    "if technology == \"bulk\":\n",
    "    \n",
    "    tuner_thr = sk.model_selection.TunedThresholdClassifierCV(model_fs, \n",
    "                                                              scoring = \"balanced_accuracy\", \n",
    "                                                              cv = inner_cv)\n",
    "    model_thr = tuner_thr.fit(X_train_reduced, y_train)\n",
    "    pickle.dump(model_thr,open(\"bulk_MultiClassification_Output_with_HIC_and_Repliseq_0.1Mbp/thresholded_model\",\"wb\"))\n",
    "    \n",
    "    best_thr = model_thr.best_threshold_\n",
    "    \n",
    "    print(f\"Tuned Classification Threshold is: {best_thr}\")\n",
    "    \n",
    "    accuracy_array_thr = np.mean(sk.model_selection.cross_val_score(model_thr, X_train_reduced, y_train, cv = outer_cv, scoring = \"accuracy\"))\n",
    "    f1_array_thr = np.mean(sk.model_selection.cross_val_score(model_thr, X_train_reduced, y_train, cv = outer_cv, scoring = \"f1\"))\n",
    "    precision_array_thr = np.mean(sk.model_selection.cross_val_score(model_thr, X_train_reduced, y_train, cv = outer_cv, scoring = \"precision\"))\n",
    "    recall_array_thr = np.mean(sk.model_selection.cross_val_score(model_thr, X_train_reduced, y_train, cv = outer_cv, scoring = \"recall\"))\n",
    "    roc_auc_array_thr = np.mean(sk.model_selection.cross_val_score(model_thr, X_train_reduced, y_train, cv = outer_cv, scoring = \"roc_auc\"))\n",
    "    proba_predictions_thr = sk.model_selection.cross_val_predict(model_thr, X_train_reduced, y_train, cv = outer_cv, method= \"predict_proba\")[:,1]\n",
    "    class_array_thr = sk.model_selection.cross_val_predict(model_thr, X_train_reduced, y_train, cv = outer_cv, method= \"predict\")\n",
    "    \n",
    "    print(f\"The cross-validated accuracy (cv = {outer_cv}) is: {np.mean(accuracy_array_thr)}\")\n",
    "    print(f\"The cross-validated f1 score(cv = {outer_cv}) is: {np.mean(f1_array_thr)}\")\n",
    "    print(f\"The cross-validated precision (cv = {outer_cv}) is: {np.mean(precision_array_thr)}\")\n",
    "    print(f\"The cross-validated recall(cv = {outer_cv}) is: {np.mean(recall_array_thr)}\")\n",
    "    print(f\"The cross-validated roc auc (cv = {outer_cv}) is: {np.mean(roc_auc_array_thr)}\")\n",
    "    \n",
    "    fpr, tpr, thresholds = sk.metrics.roc_curve(y_train, proba_predictions_thr)\n",
    "    roc_auc = sk.metrics.auc(fpr, tpr)\n",
    "    \n",
    "    cm = sk.metrics.confusion_matrix(y_train, class_array_thr)\n",
    "    disp = sk.metrics.ConfusionMatrixDisplay(confusion_matrix=cm)\n",
    "    \n",
    "    fig, axes = plt.subplots(1, 2, figsize=(16, 6))\n",
    "    \n",
    "    axes[0].plot(fpr, tpr, color='darkorange', lw=2, label=f'ROC curve (area = {np.mean(roc_auc):.4f})')\n",
    "    axes[0].plot([0, 1], [0, 1], color='navy', lw=2, linestyle='--')\n",
    "    axes[0].set_xlim([0.0, 1.0])\n",
    "    axes[0].set_ylim([0.0, 1.0])\n",
    "    axes[0].set_xlabel('False Positive Rate')\n",
    "    axes[0].set_ylabel('True Positive Rate')\n",
    "    axes[0].set_title('Receiver Operating Characteristic (ROC) Curve')\n",
    "    axes[0].legend(loc='lower right')\n",
    "    \n",
    "    disp.plot(ax=axes[1])\n",
    "    plt.tight_layout()\n",
    "    plt.show()"
   ]
  },
  {
   "cell_type": "code",
   "execution_count": null,
   "id": "37effcd0-f243-482e-a147-45c2c7d4bc1d",
   "metadata": {},
   "outputs": [],
   "source": []
  }
 ],
 "metadata": {
  "kernelspec": {
   "display_name": "Python 3 (System)",
   "language": "python",
   "name": "python3-system"
  },
  "language_info": {
   "codemirror_mode": {
    "name": "ipython",
    "version": 3
   },
   "file_extension": ".py",
   "mimetype": "text/x-python",
   "name": "python",
   "nbconvert_exporter": "python",
   "pygments_lexer": "ipython3",
   "version": "3.10.12"
  },
  "papermill": {
   "default_parameters": {},
   "duration": 31594.852323,
   "end_time": "2025-06-09T21:11:31.367618",
   "environment_variables": {},
   "exception": true,
   "input_path": "MultiClassification_Pipeline.ipynb",
   "output_path": "bulk_MultiClassification_Output_with_HIC_and_Repliseq_0.1Mbp/MultiClassification_Pipeline_Output.ipynb",
   "parameters": {},
   "start_time": "2025-06-09T12:24:56.515295",
   "version": "2.6.0"
  }
 },
 "nbformat": 4,
 "nbformat_minor": 5
}
