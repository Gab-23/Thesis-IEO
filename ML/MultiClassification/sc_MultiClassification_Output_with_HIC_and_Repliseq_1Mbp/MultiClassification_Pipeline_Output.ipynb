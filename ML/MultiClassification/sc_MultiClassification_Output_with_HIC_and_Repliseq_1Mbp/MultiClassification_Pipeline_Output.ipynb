{
 "cells": [
  {
   "cell_type": "markdown",
   "id": "ad91477a",
   "metadata": {
    "papermill": {
     "duration": 0.011061,
     "end_time": "2025-06-06T07:17:46.927341",
     "exception": false,
     "start_time": "2025-06-06T07:17:46.916280",
     "status": "completed"
    },
    "tags": []
   },
   "source": [
    "# Machine Learning Pipeline - Production"
   ]
  },
  {
   "cell_type": "markdown",
   "id": "033a45ff",
   "metadata": {
    "papermill": {
     "duration": 0.009616,
     "end_time": "2025-06-06T07:17:46.946209",
     "exception": false,
     "start_time": "2025-06-06T07:17:46.936593",
     "status": "completed"
    },
    "tags": []
   },
   "source": [
    "Check the python kernel we are using, should be the local one, not the one in the virtual environment. <br>\n",
    "NOTE: A proper virtual environment will be setup later on"
   ]
  },
  {
   "cell_type": "code",
   "execution_count": 1,
   "id": "3ed8e04f",
   "metadata": {
    "execution": {
     "iopub.execute_input": "2025-06-06T07:17:46.966419Z",
     "iopub.status.busy": "2025-06-06T07:17:46.965518Z",
     "iopub.status.idle": "2025-06-06T07:17:46.974920Z",
     "shell.execute_reply": "2025-06-06T07:17:46.974227Z"
    },
    "papermill": {
     "duration": 0.0212,
     "end_time": "2025-06-06T07:17:46.976034",
     "exception": false,
     "start_time": "2025-06-06T07:17:46.954834",
     "status": "completed"
    },
    "tags": []
   },
   "outputs": [
    {
     "name": "stdout",
     "output_type": "stream",
     "text": [
      "/usr/bin/python3\n"
     ]
    }
   ],
   "source": [
    "import sys\n",
    "print(sys.executable)"
   ]
  },
  {
   "cell_type": "code",
   "execution_count": 2,
   "id": "85bbc81c",
   "metadata": {
    "execution": {
     "iopub.execute_input": "2025-06-06T07:17:46.997012Z",
     "iopub.status.busy": "2025-06-06T07:17:46.995766Z",
     "iopub.status.idle": "2025-06-06T07:17:47.001562Z",
     "shell.execute_reply": "2025-06-06T07:17:47.000983Z"
    },
    "papermill": {
     "duration": 0.01747,
     "end_time": "2025-06-06T07:17:47.002478",
     "exception": false,
     "start_time": "2025-06-06T07:17:46.985008",
     "status": "completed"
    },
    "tags": []
   },
   "outputs": [
    {
     "name": "stdout",
     "output_type": "stream",
     "text": [
      "/home/ieo7429/Desktop/THESIS_GAB/ML/MultiClassification\n"
     ]
    }
   ],
   "source": [
    "import os\n",
    "print(os.getcwd())"
   ]
  },
  {
   "cell_type": "markdown",
   "id": "ae589e0d",
   "metadata": {
    "papermill": {
     "duration": 0.008795,
     "end_time": "2025-06-06T07:17:47.020367",
     "exception": false,
     "start_time": "2025-06-06T07:17:47.011572",
     "status": "completed"
    },
    "tags": []
   },
   "source": [
    "## Define Variables"
   ]
  },
  {
   "cell_type": "markdown",
   "id": "46073cdc",
   "metadata": {
    "papermill": {
     "duration": 0.008746,
     "end_time": "2025-06-06T07:17:47.037968",
     "exception": false,
     "start_time": "2025-06-06T07:17:47.029222",
     "status": "completed"
    },
    "tags": []
   },
   "source": [
    "Set up main variables that will be called later on, for readibility purposes"
   ]
  },
  {
   "cell_type": "code",
   "execution_count": 3,
   "id": "0d69e7dc",
   "metadata": {
    "execution": {
     "iopub.execute_input": "2025-06-06T07:17:47.059056Z",
     "iopub.status.busy": "2025-06-06T07:17:47.058215Z",
     "iopub.status.idle": "2025-06-06T07:17:47.067654Z",
     "shell.execute_reply": "2025-06-06T07:17:47.067072Z"
    },
    "papermill": {
     "duration": 0.021567,
     "end_time": "2025-06-06T07:17:47.068593",
     "exception": false,
     "start_time": "2025-06-06T07:17:47.047026",
     "status": "completed"
    },
    "tags": []
   },
   "outputs": [
    {
     "name": "stdout",
     "output_type": "stream",
     "text": [
      "Base directory is consistent and exists: sc_MultiClassification_Output_with_HIC_and_Repliseq_1Mbp\n"
     ]
    }
   ],
   "source": [
    "install_bool = False\n",
    "path_to_datasets = \"/home/ieo7429/Desktop/THESIS_GAB/outfiles/target_variables/sc_ML_tables_regression_classification_BRCA_1Mbp_with_HIC_and_Repliseq.RData\"\n",
    "\n",
    "mode = \"regrout\"\n",
    "technology = \"sc\"\n",
    "\n",
    "if technology == \"sc\":\n",
    "    \n",
    "    cols_to_drop = [\"mean_log2FC\", \"joint_probability\", \"bool_diff_acc\", \n",
    "                    \"sign_mean_log2FC_1\", \"sign_mean_log2FC_2\", \"sign_mean_log2FC_3\", \n",
    "                    \"weighted_coef_of_var_log2FC\", \"weighted_log2FC\", \"bin\", \"Type\", \"replication_class\"]\n",
    "\n",
    "    cols_to_check = [\"mean_log2FC\", \"weighted_log2FC\", \"weighted_coef_of_var_log2FC\",\n",
    "                 \"joint_probability\", \"bool_diff_acc\", \"sign_mean_log2FC_1\", \n",
    "                 \"sign_mean_log2FC_2\", \"sign_mean_log2FC_3\", \"joined_direction\", \"significant_dir_1\"]\n",
    "\n",
    "else:\n",
    "    \n",
    "    cols_to_drop = [\"bool_diff_acc\", \n",
    "                    \"sign_mean_log2FC_1\", \"sign_mean_log2FC_2\", \"sign_mean_log2FC_3\", \n",
    "                    \"bin\", \"Type\", \"replication_class\"]\n",
    "\n",
    "    cols_to_check = [\"logFC\", \"bool_diff_acc\", \"sign_mean_log2FC_1\", \n",
    "                 \"sign_mean_log2FC_2\", \"sign_mean_log2FC_3\", \"joined_direction\"]\n",
    "\n",
    "if \"ampl_score\" in cols_to_drop and \"del_score\" in cols_to_drop:\n",
    "\n",
    "    condition = \"without_CNA\"\n",
    "\n",
    "else:\n",
    "\n",
    "    condition = \"with CNA\"\n",
    "\n",
    "n_jobs_boost = 60\n",
    "n_jobs_sk = 1\n",
    "n_iter_bsearch = 25\n",
    "n_iter_rsearch = 50\n",
    "\n",
    "split_random_state = 489574\n",
    "classifier_seed = 3737\n",
    "classifier_random_state = 39473209\n",
    "hypertune_random_state_bsearch = 3847\n",
    "hypertune_random_state_rsearch = 49574\n",
    "kfold_random_state = 4909\n",
    "\n",
    "outer_cv = 5\n",
    "inner_cv = 3\n",
    "plot_variation = True\n",
    "plot_shap = True\n",
    "\n",
    "import os\n",
    "\n",
    "X_train_filename = \"sc_MultiClassification_Output_with_HIC_and_Repliseq_1Mbp/multiclass_X_train_red\"; \n",
    "X_test_filename = \"sc_MultiClassification_Output_with_HIC_and_Repliseq_1Mbp/multiclass_X_test_red\"\n",
    "y_train_filename = \"sc_MultiClassification_Output_with_HIC_and_Repliseq_1Mbp/multiclass_y_train_red\"; \n",
    "y_test_filename = \"sc_MultiClassification_Output_with_HIC_and_Repliseq_1Mbp/multiclass_y_test_red\"\n",
    "bin_train_filename = \"sc_MultiClassification_Output_with_HIC_and_Repliseq_1Mbp/multiclass_bin_train_red\"; \n",
    "bin_test_filename = \"sc_MultiClassification_Output_with_HIC_and_Repliseq_1Mbp/multiclass_bin_test_red\"\n",
    "model_filename = \"sc_MultiClassification_Output_with_HIC_and_Repliseq_1Mbp/multiclass_final_model\"\n",
    "\n",
    "file_paths = [\n",
    "    X_train_filename, X_test_filename,\n",
    "    y_train_filename, y_test_filename,\n",
    "    bin_train_filename, bin_test_filename,\n",
    "    model_filename\n",
    "]\n",
    "\n",
    "base_dirs = {os.path.dirname(path) for path in file_paths}\n",
    "\n",
    "if len(base_dirs) != 1:\n",
    "    raise ValueError(f\"Inconsistent base directories found: {base_dirs}\")\n",
    "\n",
    "base_dir = base_dirs.pop()\n",
    "\n",
    "if not os.path.exists(base_dir):\n",
    "    raise FileNotFoundError(f\"Base directory does not exist: {base_dir}\")\n",
    "\n",
    "print(f\"Base directory is consistent and exists: {base_dir}\")"
   ]
  },
  {
   "cell_type": "markdown",
   "id": "e702a421",
   "metadata": {
    "papermill": {
     "duration": 0.008809,
     "end_time": "2025-06-06T07:17:47.086516",
     "exception": false,
     "start_time": "2025-06-06T07:17:47.077707",
     "status": "completed"
    },
    "tags": []
   },
   "source": [
    "## Install packages"
   ]
  },
  {
   "cell_type": "markdown",
   "id": "7d802cf8",
   "metadata": {
    "papermill": {
     "duration": 0.008788,
     "end_time": "2025-06-06T07:17:47.104242",
     "exception": false,
     "start_time": "2025-06-06T07:17:47.095454",
     "status": "completed"
    },
    "tags": []
   },
   "source": [
    "Install all needed packages"
   ]
  },
  {
   "cell_type": "code",
   "execution_count": 4,
   "id": "05dc3be8",
   "metadata": {
    "execution": {
     "iopub.execute_input": "2025-06-06T07:17:47.124942Z",
     "iopub.status.busy": "2025-06-06T07:17:47.124224Z",
     "iopub.status.idle": "2025-06-06T07:17:47.136301Z",
     "shell.execute_reply": "2025-06-06T07:17:47.135601Z"
    },
    "papermill": {
     "duration": 0.024177,
     "end_time": "2025-06-06T07:17:47.137311",
     "exception": false,
     "start_time": "2025-06-06T07:17:47.113134",
     "status": "completed"
    },
    "tags": []
   },
   "outputs": [],
   "source": [
    "from IPython.display import clear_output\n",
    "\n",
    "if install_bool:\n",
    "    ! pip install pickleshare\n",
    "    ! pip install pandas\n",
    "    ! pip install scikit-learn\n",
    "    ! pip install seaborn\n",
    "    ! pip install scipy\n",
    "    ! pip install --upgrade pip setuptools wheel\n",
    "    ! pip install rpy2\n",
    "    ! pip install shap\n",
    "    ! pip install \"numpy<=2.1\"\n",
    "    %pip install -U ipywidgets\n",
    "\n",
    "clear_output(wait = False)"
   ]
  },
  {
   "cell_type": "markdown",
   "id": "90b9f636",
   "metadata": {
    "papermill": {
     "duration": 0.009189,
     "end_time": "2025-06-06T07:17:47.155595",
     "exception": false,
     "start_time": "2025-06-06T07:17:47.146406",
     "status": "completed"
    },
    "tags": []
   },
   "source": [
    "## Import libraries"
   ]
  },
  {
   "cell_type": "markdown",
   "id": "dde546fd",
   "metadata": {
    "papermill": {
     "duration": 0.008914,
     "end_time": "2025-06-06T07:17:47.173687",
     "exception": false,
     "start_time": "2025-06-06T07:17:47.164773",
     "status": "completed"
    },
    "tags": []
   },
   "source": [
    "Import all packages"
   ]
  },
  {
   "cell_type": "code",
   "execution_count": 5,
   "id": "503b5317",
   "metadata": {
    "execution": {
     "iopub.execute_input": "2025-06-06T07:17:47.194654Z",
     "iopub.status.busy": "2025-06-06T07:17:47.193911Z",
     "iopub.status.idle": "2025-06-06T07:17:48.774578Z",
     "shell.execute_reply": "2025-06-06T07:17:48.773929Z"
    },
    "papermill": {
     "duration": 1.594743,
     "end_time": "2025-06-06T07:17:48.777441",
     "exception": false,
     "start_time": "2025-06-06T07:17:47.182698",
     "status": "completed"
    },
    "tags": []
   },
   "outputs": [],
   "source": [
    "import numpy as np\n",
    "import pandas as pd\n",
    "import sklearn as sk\n",
    "import seaborn as sns\n",
    "import matplotlib.pyplot as plt\n",
    "import scipy as sp\n",
    "import rpy2.robjects as ro\n",
    "import xgboost as xgb\n",
    "import shap\n",
    "import warnings\n",
    "import pickleshare\n",
    "import pickle\n",
    "from rpy2.robjects import pandas2ri\n",
    "from rpy2.robjects.conversion import localconverter\n",
    "from skopt import BayesSearchCV\n",
    "from sklearn.feature_selection import SelectFromModel"
   ]
  },
  {
   "cell_type": "markdown",
   "id": "6377337d",
   "metadata": {
    "papermill": {
     "duration": 0.008925,
     "end_time": "2025-06-06T07:17:48.795868",
     "exception": false,
     "start_time": "2025-06-06T07:17:48.786943",
     "status": "completed"
    },
    "tags": []
   },
   "source": [
    "## Define Functions"
   ]
  },
  {
   "cell_type": "markdown",
   "id": "69afc106",
   "metadata": {
    "papermill": {
     "duration": 0.008796,
     "end_time": "2025-06-06T07:17:48.813618",
     "exception": false,
     "start_time": "2025-06-06T07:17:48.804822",
     "status": "completed"
    },
    "tags": []
   },
   "source": [
    "### load_datasets_from_r\n",
    "Reads \"ML.Tables\" .Rdata file and converts it to a nested dictionary."
   ]
  },
  {
   "cell_type": "code",
   "execution_count": 6,
   "id": "50897969",
   "metadata": {
    "execution": {
     "iopub.execute_input": "2025-06-06T07:17:48.834798Z",
     "iopub.status.busy": "2025-06-06T07:17:48.833953Z",
     "iopub.status.idle": "2025-06-06T07:17:48.841926Z",
     "shell.execute_reply": "2025-06-06T07:17:48.841471Z"
    },
    "papermill": {
     "duration": 0.020074,
     "end_time": "2025-06-06T07:17:48.842837",
     "exception": false,
     "start_time": "2025-06-06T07:17:48.822763",
     "status": "completed"
    },
    "tags": []
   },
   "outputs": [],
   "source": [
    "def load_datasets_from_r(file_path):\n",
    "\n",
    "    \"\"\" \n",
    "    The function uses rpy2 to load datasets from an RData file.\n",
    "    In particular it expects a list of data.frames\n",
    "    It returns a dictionary of pandas DataFrames.\n",
    "    \"\"\"\n",
    "    \n",
    "    pandas2ri.activate()\n",
    "\n",
    "    ro.r['load'](file_path) # load the .RData\n",
    "\n",
    "    env = ro.globalenv # set the environment\n",
    "\n",
    "    r_list = env[list(env.keys())[0]] # take the list object\n",
    "\n",
    "    list_names = ro.r['names'](r_list) # take the names\n",
    "    list_names = [str(name) for name in list_names]\n",
    "\n",
    "    df_dict = {} # initialize outer dictionary\n",
    "    with (ro.default_converter + ro.pandas2ri.converter).context(): # start the conversion\n",
    "    # the conversion transforms a list of lists of lists of data.frames \n",
    "    # to a list of dictionaries of dictionaries of dictionaries of DataFrame\n",
    "        i = 0\n",
    "        for outer_dict in r_list:\n",
    "            df_dict[list_names[i]] = outer_dict\n",
    "            i += 1\n",
    "            \n",
    "    return(df_dict)"
   ]
  },
  {
   "cell_type": "markdown",
   "id": "8b61f4a3",
   "metadata": {
    "papermill": {
     "duration": 0.008742,
     "end_time": "2025-06-06T07:17:48.860577",
     "exception": false,
     "start_time": "2025-06-06T07:17:48.851835",
     "status": "completed"
    },
    "tags": []
   },
   "source": [
    "### gini_coefficient"
   ]
  },
  {
   "cell_type": "markdown",
   "id": "ac67e3d0",
   "metadata": {
    "papermill": {
     "duration": 0.008762,
     "end_time": "2025-06-06T07:17:48.878162",
     "exception": false,
     "start_time": "2025-06-06T07:17:48.869400",
     "status": "completed"
    },
    "tags": []
   },
   "source": [
    "Function to compute the gini coefficient (2 * AUC - 1)"
   ]
  },
  {
   "cell_type": "code",
   "execution_count": 7,
   "id": "2d62266d",
   "metadata": {
    "execution": {
     "iopub.execute_input": "2025-06-06T07:17:48.899008Z",
     "iopub.status.busy": "2025-06-06T07:17:48.898169Z",
     "iopub.status.idle": "2025-06-06T07:17:48.904164Z",
     "shell.execute_reply": "2025-06-06T07:17:48.903409Z"
    },
    "papermill": {
     "duration": 0.018109,
     "end_time": "2025-06-06T07:17:48.905126",
     "exception": false,
     "start_time": "2025-06-06T07:17:48.887017",
     "status": "completed"
    },
    "tags": []
   },
   "outputs": [],
   "source": [
    "def gini_coefficient_score(y_true, y_pred_prob, **kwargs):\n",
    "    y_score = y_pred_prob\n",
    "    auc_score = sk.metrics.roc_auc_score(y_true, y_score, multi_class='ovr')\n",
    "    gini_coef = 2 * auc_score - 1\n",
    "    return gini_coef"
   ]
  },
  {
   "cell_type": "code",
   "execution_count": 8,
   "id": "261a9751",
   "metadata": {
    "execution": {
     "iopub.execute_input": "2025-06-06T07:17:48.925918Z",
     "iopub.status.busy": "2025-06-06T07:17:48.925135Z",
     "iopub.status.idle": "2025-06-06T07:17:48.930141Z",
     "shell.execute_reply": "2025-06-06T07:17:48.929770Z"
    },
    "papermill": {
     "duration": 0.016784,
     "end_time": "2025-06-06T07:17:48.931009",
     "exception": false,
     "start_time": "2025-06-06T07:17:48.914225",
     "status": "completed"
    },
    "tags": []
   },
   "outputs": [],
   "source": [
    "gini_coefficient = sk.metrics.make_scorer(gini_coefficient_score, response_method = \"predict_proba\", greater_is_better= True)"
   ]
  },
  {
   "cell_type": "markdown",
   "id": "6c77b624",
   "metadata": {
    "papermill": {
     "duration": 0.008921,
     "end_time": "2025-06-06T07:17:48.972253",
     "exception": false,
     "start_time": "2025-06-06T07:17:48.963332",
     "status": "completed"
    },
    "tags": []
   },
   "source": [
    "### feature_selector\n",
    "his function performs Incremental Feature Selection (IFS) to produce a reduced model <br> with best gini coefficient (2 * AUC - 1) performance with cross validation.\n",
    "Mean absolute SHAP values are used to select features"
   ]
  },
  {
   "cell_type": "code",
   "execution_count": 9,
   "id": "87dd92d9",
   "metadata": {
    "execution": {
     "iopub.execute_input": "2025-06-06T07:17:48.993524Z",
     "iopub.status.busy": "2025-06-06T07:17:48.992662Z",
     "iopub.status.idle": "2025-06-06T07:17:49.003591Z",
     "shell.execute_reply": "2025-06-06T07:17:49.003072Z"
    },
    "papermill": {
     "duration": 0.023052,
     "end_time": "2025-06-06T07:17:49.004485",
     "exception": false,
     "start_time": "2025-06-06T07:17:48.981433",
     "status": "completed"
    },
    "tags": []
   },
   "outputs": [],
   "source": [
    "def feature_selector_shap(feature_names, feature_importances, model, \n",
    "                          X_train, X_test, y_train, inner_cv,\n",
    "                          plot = True, verbose = True):\n",
    "\n",
    "    \"\"\"\n",
    "    The function takes as input feature names, feature importances, \n",
    "    a XGBoost Classifier object, the training and test dataset\n",
    "    and returns the reduced training and test datasets.\n",
    "    - plot parameter regulates whether or not to plot the Gini Coefficient vs number of feature plot\n",
    "    - verbose parameter regulates whether or not to produce a text output\n",
    "    \"\"\"\n",
    "\n",
    "    thresholds = np.sort(feature_importances) # sort the feature importances\n",
    "    num_features_list = [] # initialize list\n",
    "    gini_coef_list = [] # initialize list\n",
    "    \n",
    "    for threshold in thresholds: # iterate over thresholds\n",
    "        \n",
    "        vars_to_keep = np.where(feature_importances >= threshold)[0]\n",
    "        X_train_selected = X_train.iloc[:,vars_to_keep]\n",
    "\n",
    "        gini_coef_scores = sk.model_selection.cross_val_score(estimator = model, \n",
    "                                                              X = X_train_selected, y = y_train, \n",
    "                                                              scoring = gini_coefficient, cv = inner_cv)\n",
    "        mean_gini_coef_score = np.mean(gini_coef_scores)\n",
    "        \n",
    "        num_features_list.append(X_train_selected.shape[1]) # append\n",
    "        gini_coef_list.append(mean_gini_coef_score) # append\n",
    "\n",
    "        if verbose:\n",
    "            print(f'> threshold={threshold}, features={X_train_selected.shape[1]}, gini coefficient={mean_gini_coef_score}')\n",
    "        \n",
    "        if len(vars_to_keep) == 1:\n",
    "            break\n",
    "\n",
    "    if plot:\n",
    "        plt.figure(figsize=(8, 6))\n",
    "        plt.plot(num_features_list, gini_coef_list, marker='o')\n",
    "        plt.xlabel('Number of Selected Features')\n",
    "        plt.ylabel('cross validated mean Ginny coefficient')\n",
    "        plt.title('Gini coefficient vs. Number of Selected Features')\n",
    "        plt.grid(True)\n",
    "        plt.show()\n",
    "\n",
    "    optimal_threshold_index = np.argmax(gini_coef_list)\n",
    "    optimal_num_features = num_features_list[optimal_threshold_index]\n",
    "    \n",
    "    if (optimal_threshold_index) == 0:\n",
    "        optimal_threshold = 0\n",
    "    else:   \n",
    "        optimal_threshold = thresholds[optimal_threshold_index - 1]\n",
    "\n",
    "    if verbose:\n",
    "        print(f\"Optimal Threshold: {optimal_threshold:.4f}\")\n",
    "        print(f\"Number of Selected Features: {optimal_num_features}\")\n",
    "        print(f\"Gini coef at Optimal Threshold: {gini_coef_list[optimal_threshold_index]:.4f}\")\n",
    "        print(\"\\n\")\n",
    "        \n",
    "    n = 5\n",
    "    selected_features = feature_names[np.where(feature_importances > optimal_threshold)]\n",
    "    selected_features = [str(name) for name in selected_features]\n",
    "    discarded_features = [str(name) for name in feature_names if str(name) not in selected_features]\n",
    "\n",
    "    if verbose:\n",
    "        print(\"Selected features are: \\n\")\n",
    "        for i in range(0,len(selected_features), n):\n",
    "            print(\"  \".join(selected_features[i:i+n]))\n",
    "        print(\"\\n\")\n",
    "        print(\"Discarded features are: \\n\")\n",
    "        for i in range(0,len(discarded_features), n):\n",
    "            print(\"  \".join(discarded_features[i:i+n]))\n",
    "\n",
    "    X_train_reduced = X_train[selected_features]\n",
    "    X_test_reduced = X_test[selected_features]\n",
    "    \n",
    "    return(X_train_reduced, X_test_reduced, selected_features)    "
   ]
  },
  {
   "cell_type": "markdown",
   "id": "5d900519",
   "metadata": {
    "papermill": {
     "duration": 0.009065,
     "end_time": "2025-06-06T07:17:49.022752",
     "exception": false,
     "start_time": "2025-06-06T07:17:49.013687",
     "status": "completed"
    },
    "tags": []
   },
   "source": [
    "### Nested CV la vendetta"
   ]
  },
  {
   "cell_type": "code",
   "execution_count": 10,
   "id": "64fd383c",
   "metadata": {
    "execution": {
     "iopub.execute_input": "2025-06-06T07:17:49.043699Z",
     "iopub.status.busy": "2025-06-06T07:17:49.042977Z",
     "iopub.status.idle": "2025-06-06T07:17:49.053746Z",
     "shell.execute_reply": "2025-06-06T07:17:49.053234Z"
    },
    "papermill": {
     "duration": 0.023186,
     "end_time": "2025-06-06T07:17:49.055019",
     "exception": false,
     "start_time": "2025-06-06T07:17:49.031833",
     "status": "completed"
    },
    "tags": []
   },
   "outputs": [],
   "source": [
    "def nested_CV_revenge(outer_cv, inner_cv,\n",
    "                      X_train, y_train, \n",
    "                      model, search_space, \n",
    "                      n_jobs, n_iter_bsearch, verbose):\n",
    "    \n",
    "    \"\"\"\n",
    "    The function performs nested cross validation to estimate model's error rate\n",
    "    It take the cv number, the training dataset, the target variable, the model or a BayesSearchCV\n",
    "    and a search space to perform hyperparameter tuning\n",
    "    \"\"\"\n",
    "    \n",
    "    kf = sk.model_selection.KFold(n_splits = outer_cv, \n",
    "                                  shuffle=True, \n",
    "                                  random_state = kfold_random_state)\n",
    "    \n",
    "\n",
    "    hyperparam_list = []\n",
    "    selected_features_list = []\n",
    "    accuracy_array = np.zeros(outer_cv)\n",
    "    f1_array = np.zeros(outer_cv)\n",
    "    precision_array = np.zeros(outer_cv)\n",
    "    recall_array = np.zeros(outer_cv)\n",
    "    roc_auc_array = np.zeros(outer_cv)\n",
    "    predictions_array = np.zeros(len(X_train))\n",
    "    probas_array = np.zeros((len(X_train),len(np.unique(y_train))))\n",
    "    \n",
    "    i = 0\n",
    "    for train_index, val_index in kf.split(X_train):\n",
    "\n",
    "        if verbose:\n",
    "            print(f\"Fold #{i + 1}\")\n",
    "            \n",
    "        if verbose:\n",
    "            print(\"STEP 1 (Splitting)\")\n",
    "            \n",
    "        X_train_cv, X_val = X_train.iloc[train_index], X_train.iloc[val_index]\n",
    "        y_train_cv, y_val = y_train.iloc[train_index], y_train.iloc[val_index]\n",
    "        \n",
    "        if verbose:\n",
    "            print(\"STEP 2 (Tuning)\")\n",
    "\n",
    "        if verbose:\n",
    "            print(\"STEP 2.1 (HyperParameter Tuning Part 1)\")\n",
    "        \n",
    "        opti = BayesSearchCV(\n",
    "            estimator = model,\n",
    "            search_spaces = search_space,\n",
    "            n_iter = n_iter_bsearch,\n",
    "            cv = inner_cv,\n",
    "            random_state = hypertune_random_state_bsearch,\n",
    "            refit = True,\n",
    "            n_jobs = n_jobs,\n",
    "            verbose = 3\n",
    "        )\n",
    "        \n",
    "        opti.fit(X_train_cv, y_train_cv)\n",
    "        best_model = opti.best_estimator_\n",
    "\n",
    "        if verbose:\n",
    "            print(\"STEP 2.2 (SHAP)\")\n",
    "        \n",
    "        explainer = shap.TreeExplainer(best_model)\n",
    "\n",
    "        feature_names = best_model.feature_names_in_\n",
    "        feature_importances_shap = np.mean(np.mean(np.abs(explainer.shap_values(X_train_cv)), axis = 0), axis = 1)\n",
    "    \n",
    "        if verbose:\n",
    "            print(\"STEP 2.3 (Feature selection)\")\n",
    "        \n",
    "        X_train_cv_reduced, X_val_cv_reduced, selected_features = feature_selector_shap(feature_names, feature_importances_shap, \n",
    "                                                                                        best_model, \n",
    "                                                                                        X_train_cv, X_val, y_train_cv,\n",
    "                                                                                        inner_cv,\n",
    "                                                                                        plot = False, verbose = False)\n",
    "\n",
    "        if verbose:\n",
    "            print(\"STEP 2.4 (HyperParameter Tuning Part 2)\")\n",
    "        \n",
    "        opti_fs = BayesSearchCV(\n",
    "            estimator = best_model, \n",
    "            search_spaces = search_space, \n",
    "            n_iter = n_iter_bsearch, \n",
    "            cv = inner_cv,\n",
    "            random_state = hypertune_random_state_bsearch,\n",
    "            refit = True, \n",
    "            n_jobs = n_jobs,\n",
    "            verbose = 3\n",
    "        )\n",
    "        \n",
    "        opti_fs.fit(X_train_cv_reduced, y_train_cv)\n",
    "        best_model_fs = opti_fs.best_estimator_\n",
    "        best_params_fs = opti_fs.best_params_\n",
    "        \n",
    "        if verbose:\n",
    "            print(\"STEP 3 (Prediction)\")\n",
    "        \n",
    "        cv_predictions = best_model_fs.predict(X_val_cv_reduced)\n",
    "        cv_pred_probas = best_model_fs.predict_proba(X_val_cv_reduced)\n",
    "        \n",
    "        cv_accuracy = sk.metrics.accuracy_score(y_val, cv_predictions)\n",
    "        cv_f1 = sk.metrics.f1_score(y_val, cv_predictions, average = \"macro\")\n",
    "        cv_precision = sk.metrics.precision_score(y_val, cv_predictions, average = \"macro\")\n",
    "        cv_recall = sk.metrics.recall_score(y_val, cv_predictions, average = \"macro\")\n",
    "        cv_roc_auc = sk.metrics.roc_auc_score(y_val, cv_pred_probas, multi_class='ovr', average = \"macro\")\n",
    "        \n",
    "        hyperparam_list.append(best_params_fs)\n",
    "        selected_features_list.append(selected_features)\n",
    "        accuracy_array[i] = cv_accuracy \n",
    "        f1_array[i] = cv_f1\n",
    "        precision_array[i] = cv_precision\n",
    "        recall_array[i] = cv_recall\n",
    "        roc_auc_array[i] = cv_roc_auc\n",
    "        predictions_array[val_index] = cv_predictions\n",
    "        probas_array[val_index] = cv_pred_probas\n",
    "        \n",
    "        i += 1\n",
    "\n",
    "    return(hyperparam_list, selected_features_list, \n",
    "           accuracy_array, f1_array, precision_array, \n",
    "           recall_array, roc_auc_array, predictions_array, probas_array)"
   ]
  },
  {
   "cell_type": "markdown",
   "id": "128e2868",
   "metadata": {
    "papermill": {
     "duration": 0.009003,
     "end_time": "2025-06-06T07:17:49.073486",
     "exception": false,
     "start_time": "2025-06-06T07:17:49.064483",
     "status": "completed"
    },
    "tags": []
   },
   "source": [
    "## Load Data"
   ]
  },
  {
   "cell_type": "code",
   "execution_count": 11,
   "id": "b55c4c91",
   "metadata": {
    "execution": {
     "iopub.execute_input": "2025-06-06T07:17:49.095202Z",
     "iopub.status.busy": "2025-06-06T07:17:49.093987Z",
     "iopub.status.idle": "2025-06-06T07:17:49.214552Z",
     "shell.execute_reply": "2025-06-06T07:17:49.214108Z"
    },
    "papermill": {
     "duration": 0.134908,
     "end_time": "2025-06-06T07:17:49.217589",
     "exception": false,
     "start_time": "2025-06-06T07:17:49.082681",
     "status": "completed"
    },
    "tags": []
   },
   "outputs": [],
   "source": [
    "output_dict = load_datasets_from_r(path_to_datasets)"
   ]
  },
  {
   "cell_type": "code",
   "execution_count": 12,
   "id": "0909edea",
   "metadata": {
    "execution": {
     "iopub.execute_input": "2025-06-06T07:17:49.239939Z",
     "iopub.status.busy": "2025-06-06T07:17:49.239108Z",
     "iopub.status.idle": "2025-06-06T07:17:49.244439Z",
     "shell.execute_reply": "2025-06-06T07:17:49.243990Z"
    },
    "papermill": {
     "duration": 0.017812,
     "end_time": "2025-06-06T07:17:49.245532",
     "exception": false,
     "start_time": "2025-06-06T07:17:49.227720",
     "status": "completed"
    },
    "tags": []
   },
   "outputs": [],
   "source": [
    "working_df = output_dict[mode]"
   ]
  },
  {
   "cell_type": "code",
   "execution_count": 13,
   "id": "31612e7e",
   "metadata": {
    "execution": {
     "iopub.execute_input": "2025-06-06T07:17:49.267259Z",
     "iopub.status.busy": "2025-06-06T07:17:49.266239Z",
     "iopub.status.idle": "2025-06-06T07:17:49.283797Z",
     "shell.execute_reply": "2025-06-06T07:17:49.283324Z"
    },
    "papermill": {
     "duration": 0.030547,
     "end_time": "2025-06-06T07:17:49.285657",
     "exception": false,
     "start_time": "2025-06-06T07:17:49.255110",
     "status": "completed"
    },
    "tags": []
   },
   "outputs": [
    {
     "data": {
      "text/html": [
       "<div>\n",
       "<style scoped>\n",
       "    .dataframe tbody tr th:only-of-type {\n",
       "        vertical-align: middle;\n",
       "    }\n",
       "\n",
       "    .dataframe tbody tr th {\n",
       "        vertical-align: top;\n",
       "    }\n",
       "\n",
       "    .dataframe thead th {\n",
       "        text-align: right;\n",
       "    }\n",
       "</style>\n",
       "<table border=\"1\" class=\"dataframe\">\n",
       "  <thead>\n",
       "    <tr style=\"text-align: right;\">\n",
       "      <th></th>\n",
       "      <th>bin</th>\n",
       "      <th>joint_probability</th>\n",
       "      <th>bool_diff_acc</th>\n",
       "      <th>sign_mean_log2FC_1</th>\n",
       "      <th>sign_mean_log2FC_2</th>\n",
       "      <th>sign_mean_log2FC_3</th>\n",
       "      <th>mean_log2FC</th>\n",
       "      <th>weighted_log2FC</th>\n",
       "      <th>weighted_coef_of_var_log2FC</th>\n",
       "      <th>Type</th>\n",
       "      <th>...</th>\n",
       "      <th>9_70</th>\n",
       "      <th>3_156</th>\n",
       "      <th>7_57</th>\n",
       "      <th>8_69</th>\n",
       "      <th>11_89</th>\n",
       "      <th>2_23</th>\n",
       "      <th>20_36</th>\n",
       "      <th>11_87</th>\n",
       "      <th>log2smoothed</th>\n",
       "      <th>replication_class</th>\n",
       "    </tr>\n",
       "  </thead>\n",
       "  <tbody>\n",
       "    <tr>\n",
       "      <th>1</th>\n",
       "      <td>1_10</td>\n",
       "      <td>8.448318e-15</td>\n",
       "      <td>1</td>\n",
       "      <td>-1</td>\n",
       "      <td>0</td>\n",
       "      <td>0</td>\n",
       "      <td>0.013808</td>\n",
       "      <td>0.005178</td>\n",
       "      <td>0.016220</td>\n",
       "      <td>BRCA</td>\n",
       "      <td>...</td>\n",
       "      <td>-1.0472</td>\n",
       "      <td>-0.4076</td>\n",
       "      <td>-0.8290</td>\n",
       "      <td>0.9838</td>\n",
       "      <td>-0.3728</td>\n",
       "      <td>-0.7466</td>\n",
       "      <td>0.3955</td>\n",
       "      <td>-0.7033</td>\n",
       "      <td>1.841601</td>\n",
       "      <td>E</td>\n",
       "    </tr>\n",
       "    <tr>\n",
       "      <th>2</th>\n",
       "      <td>1_100</td>\n",
       "      <td>9.999943e-01</td>\n",
       "      <td>0</td>\n",
       "      <td>-1</td>\n",
       "      <td>0</td>\n",
       "      <td>0</td>\n",
       "      <td>-0.078535</td>\n",
       "      <td>0.000000</td>\n",
       "      <td>0.000000</td>\n",
       "      <td>BRCA</td>\n",
       "      <td>...</td>\n",
       "      <td>-0.3371</td>\n",
       "      <td>-0.0768</td>\n",
       "      <td>0.8638</td>\n",
       "      <td>0.3581</td>\n",
       "      <td>-0.6134</td>\n",
       "      <td>0.3856</td>\n",
       "      <td>-0.1782</td>\n",
       "      <td>-0.9056</td>\n",
       "      <td>-1.305504</td>\n",
       "      <td>L</td>\n",
       "    </tr>\n",
       "    <tr>\n",
       "      <th>3</th>\n",
       "      <td>1_103</td>\n",
       "      <td>4.107589e-01</td>\n",
       "      <td>0</td>\n",
       "      <td>-1</td>\n",
       "      <td>0</td>\n",
       "      <td>0</td>\n",
       "      <td>0.043472</td>\n",
       "      <td>0.005434</td>\n",
       "      <td>0.010190</td>\n",
       "      <td>BRCA</td>\n",
       "      <td>...</td>\n",
       "      <td>-0.6507</td>\n",
       "      <td>0.1925</td>\n",
       "      <td>-1.0208</td>\n",
       "      <td>0.1022</td>\n",
       "      <td>0.0110</td>\n",
       "      <td>-0.9244</td>\n",
       "      <td>-0.6938</td>\n",
       "      <td>0.2239</td>\n",
       "      <td>-2.453735</td>\n",
       "      <td>L</td>\n",
       "    </tr>\n",
       "    <tr>\n",
       "      <th>4</th>\n",
       "      <td>1_105</td>\n",
       "      <td>1.002559e-06</td>\n",
       "      <td>1</td>\n",
       "      <td>1</td>\n",
       "      <td>0</td>\n",
       "      <td>0</td>\n",
       "      <td>1.049167</td>\n",
       "      <td>0.393438</td>\n",
       "      <td>0.518994</td>\n",
       "      <td>BRCA</td>\n",
       "      <td>...</td>\n",
       "      <td>-0.1348</td>\n",
       "      <td>0.3717</td>\n",
       "      <td>2.7372</td>\n",
       "      <td>-0.0992</td>\n",
       "      <td>0.7334</td>\n",
       "      <td>1.8498</td>\n",
       "      <td>-0.2913</td>\n",
       "      <td>1.5003</td>\n",
       "      <td>-2.021942</td>\n",
       "      <td>L</td>\n",
       "    </tr>\n",
       "    <tr>\n",
       "      <th>5</th>\n",
       "      <td>1_106</td>\n",
       "      <td>1.301741e-07</td>\n",
       "      <td>1</td>\n",
       "      <td>1</td>\n",
       "      <td>0</td>\n",
       "      <td>0</td>\n",
       "      <td>0.677868</td>\n",
       "      <td>0.254201</td>\n",
       "      <td>0.520645</td>\n",
       "      <td>BRCA</td>\n",
       "      <td>...</td>\n",
       "      <td>-1.5012</td>\n",
       "      <td>3.5566</td>\n",
       "      <td>0.6990</td>\n",
       "      <td>0.2633</td>\n",
       "      <td>1.4566</td>\n",
       "      <td>2.4032</td>\n",
       "      <td>-0.5481</td>\n",
       "      <td>2.1821</td>\n",
       "      <td>-1.971711</td>\n",
       "      <td>L</td>\n",
       "    </tr>\n",
       "  </tbody>\n",
       "</table>\n",
       "<p>5 rows × 263 columns</p>\n",
       "</div>"
      ],
      "text/plain": [
       "     bin  joint_probability  bool_diff_acc  sign_mean_log2FC_1  \\\n",
       "1   1_10       8.448318e-15              1                  -1   \n",
       "2  1_100       9.999943e-01              0                  -1   \n",
       "3  1_103       4.107589e-01              0                  -1   \n",
       "4  1_105       1.002559e-06              1                   1   \n",
       "5  1_106       1.301741e-07              1                   1   \n",
       "\n",
       "   sign_mean_log2FC_2  sign_mean_log2FC_3  mean_log2FC  weighted_log2FC  \\\n",
       "1                   0                   0     0.013808         0.005178   \n",
       "2                   0                   0    -0.078535         0.000000   \n",
       "3                   0                   0     0.043472         0.005434   \n",
       "4                   0                   0     1.049167         0.393438   \n",
       "5                   0                   0     0.677868         0.254201   \n",
       "\n",
       "   weighted_coef_of_var_log2FC  Type  ...    9_70   3_156    7_57    8_69  \\\n",
       "1                     0.016220  BRCA  ... -1.0472 -0.4076 -0.8290  0.9838   \n",
       "2                     0.000000  BRCA  ... -0.3371 -0.0768  0.8638  0.3581   \n",
       "3                     0.010190  BRCA  ... -0.6507  0.1925 -1.0208  0.1022   \n",
       "4                     0.518994  BRCA  ... -0.1348  0.3717  2.7372 -0.0992   \n",
       "5                     0.520645  BRCA  ... -1.5012  3.5566  0.6990  0.2633   \n",
       "\n",
       "    11_89    2_23   20_36   11_87  log2smoothed  replication_class  \n",
       "1 -0.3728 -0.7466  0.3955 -0.7033      1.841601                  E  \n",
       "2 -0.6134  0.3856 -0.1782 -0.9056     -1.305504                  L  \n",
       "3  0.0110 -0.9244 -0.6938  0.2239     -2.453735                  L  \n",
       "4  0.7334  1.8498 -0.2913  1.5003     -2.021942                  L  \n",
       "5  1.4566  2.4032 -0.5481  2.1821     -1.971711                  L  \n",
       "\n",
       "[5 rows x 263 columns]"
      ]
     },
     "execution_count": 13,
     "metadata": {},
     "output_type": "execute_result"
    }
   ],
   "source": [
    "working_df.head()"
   ]
  },
  {
   "cell_type": "code",
   "execution_count": 14,
   "id": "f740ea1c",
   "metadata": {
    "execution": {
     "iopub.execute_input": "2025-06-06T07:17:49.307754Z",
     "iopub.status.busy": "2025-06-06T07:17:49.306991Z",
     "iopub.status.idle": "2025-06-06T07:17:49.312666Z",
     "shell.execute_reply": "2025-06-06T07:17:49.312240Z"
    },
    "papermill": {
     "duration": 0.017888,
     "end_time": "2025-06-06T07:17:49.313555",
     "exception": false,
     "start_time": "2025-06-06T07:17:49.295667",
     "status": "completed"
    },
    "tags": []
   },
   "outputs": [],
   "source": [
    "significant_dir_1 = np.where(\n",
    "    (working_df.bool_diff_acc == 1) & (working_df.sign_mean_log2FC_1 == 1), 2,\n",
    "    np.where(\n",
    "        (working_df.bool_diff_acc == 1) & (working_df.sign_mean_log2FC_1 == -1), 0, 1\n",
    "    )\n",
    ")"
   ]
  },
  {
   "cell_type": "code",
   "execution_count": 15,
   "id": "8610242a",
   "metadata": {
    "execution": {
     "iopub.execute_input": "2025-06-06T07:17:49.335308Z",
     "iopub.status.busy": "2025-06-06T07:17:49.334511Z",
     "iopub.status.idle": "2025-06-06T07:17:49.340396Z",
     "shell.execute_reply": "2025-06-06T07:17:49.339958Z"
    },
    "papermill": {
     "duration": 0.018039,
     "end_time": "2025-06-06T07:17:49.341242",
     "exception": false,
     "start_time": "2025-06-06T07:17:49.323203",
     "status": "completed"
    },
    "tags": []
   },
   "outputs": [],
   "source": [
    "working_df[\"significant_dir_1\"] = significant_dir_1"
   ]
  },
  {
   "cell_type": "code",
   "execution_count": 16,
   "id": "507d2177",
   "metadata": {
    "execution": {
     "iopub.execute_input": "2025-06-06T07:17:49.362983Z",
     "iopub.status.busy": "2025-06-06T07:17:49.362216Z",
     "iopub.status.idle": "2025-06-06T07:17:49.686921Z",
     "shell.execute_reply": "2025-06-06T07:17:49.686481Z"
    },
    "papermill": {
     "duration": 0.339383,
     "end_time": "2025-06-06T07:17:49.690256",
     "exception": false,
     "start_time": "2025-06-06T07:17:49.350873",
     "status": "completed"
    },
    "tags": []
   },
   "outputs": [
    {
     "data": {
      "image/png": "[encoded data removed]",
      "text/plain": [
       "<Figure size 1200x500 with 6 Axes>"
      ]
     },
     "metadata": {},
     "output_type": "display_data"
    }
   ],
   "source": [
    "fig, axes = plt.subplots(3, 2, figsize=(12, 5))\n",
    "\n",
    "A = axes[0,0]\n",
    "B = axes[0,1]\n",
    "C = axes[1,0]\n",
    "D = axes[1,1]\n",
    "E = axes[2,0]\n",
    "F = axes[2,1]\n",
    "\n",
    "sns.barplot(working_df.bool_diff_acc.value_counts(), ax = A)\n",
    "sns.barplot(working_df.sign_mean_log2FC_1.value_counts(), ax = B)\n",
    "sns.barplot(working_df.sign_mean_log2FC_2.value_counts(), ax = C)\n",
    "sns.barplot(working_df.sign_mean_log2FC_3.value_counts(), ax = D)\n",
    "sns.barplot(working_df.significant_dir_1.value_counts(), ax = E)\n",
    "\n",
    "\n",
    "A.set_title(\"Differential Accessibility across patients (boolean) [A]\")\n",
    "B.set_title(\"Differential Accessibility direction (v = 1) [B]\")\n",
    "C.set_title(\"Differential Accessibility direction (v = 2) [C]\")\n",
    "D.set_title(\"Differential Accessibility direction (v = 3) [D]\")\n",
    "E.set_title(\"Signficant Direction (v = 1) [E]\")\n",
    "\n",
    "A.set_xlabel(\"\"); A.set_ylabel(\"\")\n",
    "B.set_xlabel(\"\"); B.set_ylabel(\"\")\n",
    "C.set_xlabel(\"\"); C.set_ylabel(\"\")\n",
    "D.set_xlabel(\"\"); D.set_ylabel(\"\")\n",
    "E.set_xlabel(\"\"); E.set_ylabel(\"\")\n",
    "\n",
    "F.axis('off')\n",
    "\n",
    "plt.tight_layout()"
   ]
  },
  {
   "cell_type": "markdown",
   "id": "a463be93",
   "metadata": {
    "papermill": {
     "duration": 0.010709,
     "end_time": "2025-06-06T07:17:49.712157",
     "exception": false,
     "start_time": "2025-06-06T07:17:49.701448",
     "status": "completed"
    },
    "tags": []
   },
   "source": [
    "## Prepare Data"
   ]
  },
  {
   "cell_type": "code",
   "execution_count": 17,
   "id": "dc3cfa26",
   "metadata": {
    "execution": {
     "iopub.execute_input": "2025-06-06T07:17:49.736294Z",
     "iopub.status.busy": "2025-06-06T07:17:49.735541Z",
     "iopub.status.idle": "2025-06-06T07:17:49.740945Z",
     "shell.execute_reply": "2025-06-06T07:17:49.740493Z"
    },
    "papermill": {
     "duration": 0.019209,
     "end_time": "2025-06-06T07:17:49.742019",
     "exception": false,
     "start_time": "2025-06-06T07:17:49.722810",
     "status": "completed"
    },
    "tags": []
   },
   "outputs": [],
   "source": [
    "bin_ids = working_df[[\"bin\"]]"
   ]
  },
  {
   "cell_type": "code",
   "execution_count": 18,
   "id": "e56c18f6",
   "metadata": {
    "execution": {
     "iopub.execute_input": "2025-06-06T07:17:49.766707Z",
     "iopub.status.busy": "2025-06-06T07:17:49.765957Z",
     "iopub.status.idle": "2025-06-06T07:17:49.772272Z",
     "shell.execute_reply": "2025-06-06T07:17:49.771822Z"
    },
    "papermill": {
     "duration": 0.020104,
     "end_time": "2025-06-06T07:17:49.773292",
     "exception": false,
     "start_time": "2025-06-06T07:17:49.753188",
     "status": "completed"
    },
    "tags": []
   },
   "outputs": [],
   "source": [
    "working_df = working_df.drop(cols_to_drop, axis= 1)"
   ]
  },
  {
   "cell_type": "code",
   "execution_count": 19,
   "id": "c5b25944",
   "metadata": {
    "execution": {
     "iopub.execute_input": "2025-06-06T07:17:49.797030Z",
     "iopub.status.busy": "2025-06-06T07:17:49.796342Z",
     "iopub.status.idle": "2025-06-06T07:17:49.813136Z",
     "shell.execute_reply": "2025-06-06T07:17:49.812586Z"
    },
    "papermill": {
     "duration": 0.030074,
     "end_time": "2025-06-06T07:17:49.814134",
     "exception": false,
     "start_time": "2025-06-06T07:17:49.784060",
     "status": "completed"
    },
    "tags": []
   },
   "outputs": [
    {
     "data": {
      "text/html": [
       "<div>\n",
       "<style scoped>\n",
       "    .dataframe tbody tr th:only-of-type {\n",
       "        vertical-align: middle;\n",
       "    }\n",
       "\n",
       "    .dataframe tbody tr th {\n",
       "        vertical-align: top;\n",
       "    }\n",
       "\n",
       "    .dataframe thead th {\n",
       "        text-align: right;\n",
       "    }\n",
       "</style>\n",
       "<table border=\"1\" class=\"dataframe\">\n",
       "  <thead>\n",
       "    <tr style=\"text-align: right;\">\n",
       "      <th></th>\n",
       "      <th>ampl_score</th>\n",
       "      <th>del_score</th>\n",
       "      <th>mean.GC.content</th>\n",
       "      <th>total_n_partners.trans</th>\n",
       "      <th>total_n_PPIs.trans_IntINSIDER</th>\n",
       "      <th>total_n_ohnologs.mmpaper_trans</th>\n",
       "      <th>total_n_paralogs_trans</th>\n",
       "      <th>dist.to.closest.FGS</th>\n",
       "      <th>Length_Counts.E1</th>\n",
       "      <th>Length_Counts.E10</th>\n",
       "      <th>...</th>\n",
       "      <th>9_70</th>\n",
       "      <th>3_156</th>\n",
       "      <th>7_57</th>\n",
       "      <th>8_69</th>\n",
       "      <th>11_89</th>\n",
       "      <th>2_23</th>\n",
       "      <th>20_36</th>\n",
       "      <th>11_87</th>\n",
       "      <th>log2smoothed</th>\n",
       "      <th>significant_dir_1</th>\n",
       "    </tr>\n",
       "  </thead>\n",
       "  <tbody>\n",
       "    <tr>\n",
       "      <th>1</th>\n",
       "      <td>0.044986</td>\n",
       "      <td>0.320525</td>\n",
       "      <td>50.325833</td>\n",
       "      <td>2.0</td>\n",
       "      <td>52.0</td>\n",
       "      <td>10.0</td>\n",
       "      <td>35.0</td>\n",
       "      <td>61789940.0</td>\n",
       "      <td>5400.0</td>\n",
       "      <td>22800.0</td>\n",
       "      <td>...</td>\n",
       "      <td>-1.0472</td>\n",
       "      <td>-0.4076</td>\n",
       "      <td>-0.8290</td>\n",
       "      <td>0.9838</td>\n",
       "      <td>-0.3728</td>\n",
       "      <td>-0.7466</td>\n",
       "      <td>0.3955</td>\n",
       "      <td>-0.7033</td>\n",
       "      <td>1.841601</td>\n",
       "      <td>0</td>\n",
       "    </tr>\n",
       "    <tr>\n",
       "      <th>2</th>\n",
       "      <td>0.075914</td>\n",
       "      <td>0.243674</td>\n",
       "      <td>36.060000</td>\n",
       "      <td>0.0</td>\n",
       "      <td>12.0</td>\n",
       "      <td>1.0</td>\n",
       "      <td>2.0</td>\n",
       "      <td>26299595.0</td>\n",
       "      <td>1000.0</td>\n",
       "      <td>1400.0</td>\n",
       "      <td>...</td>\n",
       "      <td>-0.3371</td>\n",
       "      <td>-0.0768</td>\n",
       "      <td>0.8638</td>\n",
       "      <td>0.3581</td>\n",
       "      <td>-0.6134</td>\n",
       "      <td>0.3856</td>\n",
       "      <td>-0.1782</td>\n",
       "      <td>-0.9056</td>\n",
       "      <td>-1.305504</td>\n",
       "      <td>1</td>\n",
       "    </tr>\n",
       "    <tr>\n",
       "      <th>3</th>\n",
       "      <td>0.074039</td>\n",
       "      <td>0.234302</td>\n",
       "      <td>35.120000</td>\n",
       "      <td>0.0</td>\n",
       "      <td>6.0</td>\n",
       "      <td>6.0</td>\n",
       "      <td>4.0</td>\n",
       "      <td>29302613.0</td>\n",
       "      <td>0.0</td>\n",
       "      <td>0.0</td>\n",
       "      <td>...</td>\n",
       "      <td>-0.6507</td>\n",
       "      <td>0.1925</td>\n",
       "      <td>-1.0208</td>\n",
       "      <td>0.1022</td>\n",
       "      <td>0.0110</td>\n",
       "      <td>-0.9244</td>\n",
       "      <td>-0.6938</td>\n",
       "      <td>0.2239</td>\n",
       "      <td>-2.453735</td>\n",
       "      <td>1</td>\n",
       "    </tr>\n",
       "    <tr>\n",
       "      <th>4</th>\n",
       "      <td>0.079663</td>\n",
       "      <td>0.226804</td>\n",
       "      <td>34.336000</td>\n",
       "      <td>0.0</td>\n",
       "      <td>5.0</td>\n",
       "      <td>NaN</td>\n",
       "      <td>0.0</td>\n",
       "      <td>31304625.0</td>\n",
       "      <td>0.0</td>\n",
       "      <td>0.0</td>\n",
       "      <td>...</td>\n",
       "      <td>-0.1348</td>\n",
       "      <td>0.3717</td>\n",
       "      <td>2.7372</td>\n",
       "      <td>-0.0992</td>\n",
       "      <td>0.7334</td>\n",
       "      <td>1.8498</td>\n",
       "      <td>-0.2913</td>\n",
       "      <td>1.5003</td>\n",
       "      <td>-2.021942</td>\n",
       "      <td>2</td>\n",
       "    </tr>\n",
       "    <tr>\n",
       "      <th>5</th>\n",
       "      <td>0.079663</td>\n",
       "      <td>0.219306</td>\n",
       "      <td>NaN</td>\n",
       "      <td>NaN</td>\n",
       "      <td>NaN</td>\n",
       "      <td>NaN</td>\n",
       "      <td>NaN</td>\n",
       "      <td>32305631.0</td>\n",
       "      <td>0.0</td>\n",
       "      <td>0.0</td>\n",
       "      <td>...</td>\n",
       "      <td>-1.5012</td>\n",
       "      <td>3.5566</td>\n",
       "      <td>0.6990</td>\n",
       "      <td>0.2633</td>\n",
       "      <td>1.4566</td>\n",
       "      <td>2.4032</td>\n",
       "      <td>-0.5481</td>\n",
       "      <td>2.1821</td>\n",
       "      <td>-1.971711</td>\n",
       "      <td>2</td>\n",
       "    </tr>\n",
       "  </tbody>\n",
       "</table>\n",
       "<p>5 rows × 253 columns</p>\n",
       "</div>"
      ],
      "text/plain": [
       "   ampl_score  del_score  mean.GC.content  total_n_partners.trans  \\\n",
       "1    0.044986   0.320525        50.325833                     2.0   \n",
       "2    0.075914   0.243674        36.060000                     0.0   \n",
       "3    0.074039   0.234302        35.120000                     0.0   \n",
       "4    0.079663   0.226804        34.336000                     0.0   \n",
       "5    0.079663   0.219306              NaN                     NaN   \n",
       "\n",
       "   total_n_PPIs.trans_IntINSIDER  total_n_ohnologs.mmpaper_trans  \\\n",
       "1                           52.0                            10.0   \n",
       "2                           12.0                             1.0   \n",
       "3                            6.0                             6.0   \n",
       "4                            5.0                             NaN   \n",
       "5                            NaN                             NaN   \n",
       "\n",
       "   total_n_paralogs_trans  dist.to.closest.FGS  Length_Counts.E1  \\\n",
       "1                    35.0           61789940.0            5400.0   \n",
       "2                     2.0           26299595.0            1000.0   \n",
       "3                     4.0           29302613.0               0.0   \n",
       "4                     0.0           31304625.0               0.0   \n",
       "5                     NaN           32305631.0               0.0   \n",
       "\n",
       "   Length_Counts.E10  ...    9_70   3_156    7_57    8_69   11_89    2_23  \\\n",
       "1            22800.0  ... -1.0472 -0.4076 -0.8290  0.9838 -0.3728 -0.7466   \n",
       "2             1400.0  ... -0.3371 -0.0768  0.8638  0.3581 -0.6134  0.3856   \n",
       "3                0.0  ... -0.6507  0.1925 -1.0208  0.1022  0.0110 -0.9244   \n",
       "4                0.0  ... -0.1348  0.3717  2.7372 -0.0992  0.7334  1.8498   \n",
       "5                0.0  ... -1.5012  3.5566  0.6990  0.2633  1.4566  2.4032   \n",
       "\n",
       "    20_36   11_87  log2smoothed  significant_dir_1  \n",
       "1  0.3955 -0.7033      1.841601                  0  \n",
       "2 -0.1782 -0.9056     -1.305504                  1  \n",
       "3 -0.6938  0.2239     -2.453735                  1  \n",
       "4 -0.2913  1.5003     -2.021942                  2  \n",
       "5 -0.5481  2.1821     -1.971711                  2  \n",
       "\n",
       "[5 rows x 253 columns]"
      ]
     },
     "execution_count": 19,
     "metadata": {},
     "output_type": "execute_result"
    }
   ],
   "source": [
    "working_df.head()"
   ]
  },
  {
   "cell_type": "code",
   "execution_count": 20,
   "id": "3fc47191",
   "metadata": {
    "execution": {
     "iopub.execute_input": "2025-06-06T07:17:49.839479Z",
     "iopub.status.busy": "2025-06-06T07:17:49.838654Z",
     "iopub.status.idle": "2025-06-06T07:17:49.845302Z",
     "shell.execute_reply": "2025-06-06T07:17:49.844691Z"
    },
    "papermill": {
     "duration": 0.020563,
     "end_time": "2025-06-06T07:17:49.846147",
     "exception": false,
     "start_time": "2025-06-06T07:17:49.825584",
     "status": "completed"
    },
    "tags": []
   },
   "outputs": [],
   "source": [
    "X = working_df.iloc[:, 0:-1]\n",
    "y = working_df.iloc[:, -1]"
   ]
  },
  {
   "cell_type": "code",
   "execution_count": 21,
   "id": "2f8e839d",
   "metadata": {
    "execution": {
     "iopub.execute_input": "2025-06-06T07:17:49.871191Z",
     "iopub.status.busy": "2025-06-06T07:17:49.870488Z",
     "iopub.status.idle": "2025-06-06T07:17:49.886544Z",
     "shell.execute_reply": "2025-06-06T07:17:49.885769Z"
    },
    "papermill": {
     "duration": 0.031332,
     "end_time": "2025-06-06T07:17:49.888733",
     "exception": false,
     "start_time": "2025-06-06T07:17:49.857401",
     "status": "completed"
    },
    "tags": []
   },
   "outputs": [
    {
     "data": {
      "text/html": [
       "<div>\n",
       "<style scoped>\n",
       "    .dataframe tbody tr th:only-of-type {\n",
       "        vertical-align: middle;\n",
       "    }\n",
       "\n",
       "    .dataframe tbody tr th {\n",
       "        vertical-align: top;\n",
       "    }\n",
       "\n",
       "    .dataframe thead th {\n",
       "        text-align: right;\n",
       "    }\n",
       "</style>\n",
       "<table border=\"1\" class=\"dataframe\">\n",
       "  <thead>\n",
       "    <tr style=\"text-align: right;\">\n",
       "      <th></th>\n",
       "      <th>ampl_score</th>\n",
       "      <th>del_score</th>\n",
       "      <th>mean.GC.content</th>\n",
       "      <th>total_n_partners.trans</th>\n",
       "      <th>total_n_PPIs.trans_IntINSIDER</th>\n",
       "      <th>total_n_ohnologs.mmpaper_trans</th>\n",
       "      <th>total_n_paralogs_trans</th>\n",
       "      <th>dist.to.closest.FGS</th>\n",
       "      <th>Length_Counts.E1</th>\n",
       "      <th>Length_Counts.E10</th>\n",
       "      <th>...</th>\n",
       "      <th>16_48</th>\n",
       "      <th>9_70</th>\n",
       "      <th>3_156</th>\n",
       "      <th>7_57</th>\n",
       "      <th>8_69</th>\n",
       "      <th>11_89</th>\n",
       "      <th>2_23</th>\n",
       "      <th>20_36</th>\n",
       "      <th>11_87</th>\n",
       "      <th>log2smoothed</th>\n",
       "    </tr>\n",
       "  </thead>\n",
       "  <tbody>\n",
       "    <tr>\n",
       "      <th>1</th>\n",
       "      <td>0.044986</td>\n",
       "      <td>0.320525</td>\n",
       "      <td>50.325833</td>\n",
       "      <td>2.0</td>\n",
       "      <td>52.0</td>\n",
       "      <td>10.0</td>\n",
       "      <td>35.0</td>\n",
       "      <td>61789940.0</td>\n",
       "      <td>5400.0</td>\n",
       "      <td>22800.0</td>\n",
       "      <td>...</td>\n",
       "      <td>-0.2305</td>\n",
       "      <td>-1.0472</td>\n",
       "      <td>-0.4076</td>\n",
       "      <td>-0.8290</td>\n",
       "      <td>0.9838</td>\n",
       "      <td>-0.3728</td>\n",
       "      <td>-0.7466</td>\n",
       "      <td>0.3955</td>\n",
       "      <td>-0.7033</td>\n",
       "      <td>1.841601</td>\n",
       "    </tr>\n",
       "    <tr>\n",
       "      <th>2</th>\n",
       "      <td>0.075914</td>\n",
       "      <td>0.243674</td>\n",
       "      <td>36.060000</td>\n",
       "      <td>0.0</td>\n",
       "      <td>12.0</td>\n",
       "      <td>1.0</td>\n",
       "      <td>2.0</td>\n",
       "      <td>26299595.0</td>\n",
       "      <td>1000.0</td>\n",
       "      <td>1400.0</td>\n",
       "      <td>...</td>\n",
       "      <td>0.0655</td>\n",
       "      <td>-0.3371</td>\n",
       "      <td>-0.0768</td>\n",
       "      <td>0.8638</td>\n",
       "      <td>0.3581</td>\n",
       "      <td>-0.6134</td>\n",
       "      <td>0.3856</td>\n",
       "      <td>-0.1782</td>\n",
       "      <td>-0.9056</td>\n",
       "      <td>-1.305504</td>\n",
       "    </tr>\n",
       "    <tr>\n",
       "      <th>3</th>\n",
       "      <td>0.074039</td>\n",
       "      <td>0.234302</td>\n",
       "      <td>35.120000</td>\n",
       "      <td>0.0</td>\n",
       "      <td>6.0</td>\n",
       "      <td>6.0</td>\n",
       "      <td>4.0</td>\n",
       "      <td>29302613.0</td>\n",
       "      <td>0.0</td>\n",
       "      <td>0.0</td>\n",
       "      <td>...</td>\n",
       "      <td>0.0448</td>\n",
       "      <td>-0.6507</td>\n",
       "      <td>0.1925</td>\n",
       "      <td>-1.0208</td>\n",
       "      <td>0.1022</td>\n",
       "      <td>0.0110</td>\n",
       "      <td>-0.9244</td>\n",
       "      <td>-0.6938</td>\n",
       "      <td>0.2239</td>\n",
       "      <td>-2.453735</td>\n",
       "    </tr>\n",
       "    <tr>\n",
       "      <th>4</th>\n",
       "      <td>0.079663</td>\n",
       "      <td>0.226804</td>\n",
       "      <td>34.336000</td>\n",
       "      <td>0.0</td>\n",
       "      <td>5.0</td>\n",
       "      <td>NaN</td>\n",
       "      <td>0.0</td>\n",
       "      <td>31304625.0</td>\n",
       "      <td>0.0</td>\n",
       "      <td>0.0</td>\n",
       "      <td>...</td>\n",
       "      <td>1.3479</td>\n",
       "      <td>-0.1348</td>\n",
       "      <td>0.3717</td>\n",
       "      <td>2.7372</td>\n",
       "      <td>-0.0992</td>\n",
       "      <td>0.7334</td>\n",
       "      <td>1.8498</td>\n",
       "      <td>-0.2913</td>\n",
       "      <td>1.5003</td>\n",
       "      <td>-2.021942</td>\n",
       "    </tr>\n",
       "    <tr>\n",
       "      <th>5</th>\n",
       "      <td>0.079663</td>\n",
       "      <td>0.219306</td>\n",
       "      <td>NaN</td>\n",
       "      <td>NaN</td>\n",
       "      <td>NaN</td>\n",
       "      <td>NaN</td>\n",
       "      <td>NaN</td>\n",
       "      <td>32305631.0</td>\n",
       "      <td>0.0</td>\n",
       "      <td>0.0</td>\n",
       "      <td>...</td>\n",
       "      <td>0.9841</td>\n",
       "      <td>-1.5012</td>\n",
       "      <td>3.5566</td>\n",
       "      <td>0.6990</td>\n",
       "      <td>0.2633</td>\n",
       "      <td>1.4566</td>\n",
       "      <td>2.4032</td>\n",
       "      <td>-0.5481</td>\n",
       "      <td>2.1821</td>\n",
       "      <td>-1.971711</td>\n",
       "    </tr>\n",
       "  </tbody>\n",
       "</table>\n",
       "<p>5 rows × 252 columns</p>\n",
       "</div>"
      ],
      "text/plain": [
       "   ampl_score  del_score  mean.GC.content  total_n_partners.trans  \\\n",
       "1    0.044986   0.320525        50.325833                     2.0   \n",
       "2    0.075914   0.243674        36.060000                     0.0   \n",
       "3    0.074039   0.234302        35.120000                     0.0   \n",
       "4    0.079663   0.226804        34.336000                     0.0   \n",
       "5    0.079663   0.219306              NaN                     NaN   \n",
       "\n",
       "   total_n_PPIs.trans_IntINSIDER  total_n_ohnologs.mmpaper_trans  \\\n",
       "1                           52.0                            10.0   \n",
       "2                           12.0                             1.0   \n",
       "3                            6.0                             6.0   \n",
       "4                            5.0                             NaN   \n",
       "5                            NaN                             NaN   \n",
       "\n",
       "   total_n_paralogs_trans  dist.to.closest.FGS  Length_Counts.E1  \\\n",
       "1                    35.0           61789940.0            5400.0   \n",
       "2                     2.0           26299595.0            1000.0   \n",
       "3                     4.0           29302613.0               0.0   \n",
       "4                     0.0           31304625.0               0.0   \n",
       "5                     NaN           32305631.0               0.0   \n",
       "\n",
       "   Length_Counts.E10  ...   16_48    9_70   3_156    7_57    8_69   11_89  \\\n",
       "1            22800.0  ... -0.2305 -1.0472 -0.4076 -0.8290  0.9838 -0.3728   \n",
       "2             1400.0  ...  0.0655 -0.3371 -0.0768  0.8638  0.3581 -0.6134   \n",
       "3                0.0  ...  0.0448 -0.6507  0.1925 -1.0208  0.1022  0.0110   \n",
       "4                0.0  ...  1.3479 -0.1348  0.3717  2.7372 -0.0992  0.7334   \n",
       "5                0.0  ...  0.9841 -1.5012  3.5566  0.6990  0.2633  1.4566   \n",
       "\n",
       "     2_23   20_36   11_87  log2smoothed  \n",
       "1 -0.7466  0.3955 -0.7033      1.841601  \n",
       "2  0.3856 -0.1782 -0.9056     -1.305504  \n",
       "3 -0.9244 -0.6938  0.2239     -2.453735  \n",
       "4  1.8498 -0.2913  1.5003     -2.021942  \n",
       "5  2.4032 -0.5481  2.1821     -1.971711  \n",
       "\n",
       "[5 rows x 252 columns]"
      ]
     },
     "execution_count": 21,
     "metadata": {},
     "output_type": "execute_result"
    }
   ],
   "source": [
    "X.head()"
   ]
  },
  {
   "cell_type": "code",
   "execution_count": 22,
   "id": "b0b639c6",
   "metadata": {
    "execution": {
     "iopub.execute_input": "2025-06-06T07:17:49.914204Z",
     "iopub.status.busy": "2025-06-06T07:17:49.913465Z",
     "iopub.status.idle": "2025-06-06T07:17:49.919165Z",
     "shell.execute_reply": "2025-06-06T07:17:49.918601Z"
    },
    "papermill": {
     "duration": 0.019971,
     "end_time": "2025-06-06T07:17:49.920415",
     "exception": false,
     "start_time": "2025-06-06T07:17:49.900444",
     "status": "completed"
    },
    "tags": []
   },
   "outputs": [
    {
     "name": "stdout",
     "output_type": "stream",
     "text": [
      "Target Variable outside training set!\n"
     ]
    }
   ],
   "source": [
    "if len([col for col in cols_to_check if col in X.columns]) > 0:\n",
    "    raise Exception(\"Target Variable and derivated in the training set!\")\n",
    "else:\n",
    "    print(\"Target Variable outside training set!\")"
   ]
  },
  {
   "cell_type": "code",
   "execution_count": 23,
   "id": "c835c3ff",
   "metadata": {
    "execution": {
     "iopub.execute_input": "2025-06-06T07:17:49.946714Z",
     "iopub.status.busy": "2025-06-06T07:17:49.945936Z",
     "iopub.status.idle": "2025-06-06T07:17:49.951923Z",
     "shell.execute_reply": "2025-06-06T07:17:49.951473Z"
    },
    "papermill": {
     "duration": 0.020134,
     "end_time": "2025-06-06T07:17:49.952823",
     "exception": false,
     "start_time": "2025-06-06T07:17:49.932689",
     "status": "completed"
    },
    "tags": []
   },
   "outputs": [
    {
     "data": {
      "text/plain": [
       "Index(['ampl_score', 'del_score', 'mean.GC.content', 'total_n_partners.trans',\n",
       "       'total_n_PPIs.trans_IntINSIDER', 'total_n_ohnologs.mmpaper_trans',\n",
       "       'total_n_paralogs_trans', 'dist.to.closest.FGS', 'Length_Counts.E1',\n",
       "       'Length_Counts.E10',\n",
       "       ...\n",
       "       '16_48', '9_70', '3_156', '7_57', '8_69', '11_89', '2_23', '20_36',\n",
       "       '11_87', 'log2smoothed'],\n",
       "      dtype='object', length=252)"
      ]
     },
     "execution_count": 23,
     "metadata": {},
     "output_type": "execute_result"
    }
   ],
   "source": [
    "X.columns"
   ]
  },
  {
   "cell_type": "code",
   "execution_count": 24,
   "id": "e7c589f9",
   "metadata": {
    "execution": {
     "iopub.execute_input": "2025-06-06T07:17:49.979275Z",
     "iopub.status.busy": "2025-06-06T07:17:49.978437Z",
     "iopub.status.idle": "2025-06-06T07:17:49.986585Z",
     "shell.execute_reply": "2025-06-06T07:17:49.986024Z"
    },
    "papermill": {
     "duration": 0.022833,
     "end_time": "2025-06-06T07:17:49.987529",
     "exception": false,
     "start_time": "2025-06-06T07:17:49.964696",
     "status": "completed"
    },
    "tags": []
   },
   "outputs": [],
   "source": [
    "X_train, X_test, y_train, y_test, bin_train, bin_test = sk.model_selection.train_test_split(X, y, bin_ids, test_size=0.3, random_state=split_random_state)"
   ]
  },
  {
   "cell_type": "markdown",
   "id": "74689a82",
   "metadata": {
    "papermill": {
     "duration": 0.011574,
     "end_time": "2025-06-06T07:17:50.010942",
     "exception": false,
     "start_time": "2025-06-06T07:17:49.999368",
     "status": "completed"
    },
    "tags": []
   },
   "source": [
    "## Prepare the Classifier and the Search Space"
   ]
  },
  {
   "cell_type": "code",
   "execution_count": 25,
   "id": "b744db7f",
   "metadata": {
    "execution": {
     "iopub.execute_input": "2025-06-06T07:17:50.037236Z",
     "iopub.status.busy": "2025-06-06T07:17:50.036357Z",
     "iopub.status.idle": "2025-06-06T07:17:50.044323Z",
     "shell.execute_reply": "2025-06-06T07:17:50.043548Z"
    },
    "papermill": {
     "duration": 0.022695,
     "end_time": "2025-06-06T07:17:50.045405",
     "exception": false,
     "start_time": "2025-06-06T07:17:50.022710",
     "status": "completed"
    },
    "tags": []
   },
   "outputs": [],
   "source": [
    "classifier = xgb.XGBClassifier(n_jobs = n_jobs_boost, seed = classifier_seed, random_state = classifier_random_state, tree_method = \"hist\", device = \"cpu\")\n",
    "\n",
    "search_space_bayes = {\n",
    "    'learning_rate': (0.01, 0.3),                     # conservative to prevent noisy learning\n",
    "    'max_depth': (1, 14),                             # captures 4–6 feature interactions without overfitting\n",
    "    'min_child_weight': (1, 50),                      # helps avoid splits on small samples\n",
    "    'gamma': (0.1, 1.0, 'log-uniform'),               # require meaningful splits\n",
    "    'subsample': (0.6, 1.0),                          # stabilize with row sampling\n",
    "    'colsample_bytree': (0.5, 1.0),                   # feature subsampling per tree\n",
    "    'colsample_bylevel': (0.5, 1.0),                  # feature subsampling per split level\n",
    "    'reg_alpha': (1e-3, 10, 'log-uniform'),           # L1 penalty for sparsity\n",
    "    'reg_lambda': (0.1, 100, 'log-uniform'),          # L2 penalty to reduce overfitting\n",
    "    'max_delta_step': (0, 10),                        # improves convergence in imbalanced/unstable targets\n",
    "    'n_estimators': (100, 500),                       # enough boosting rounds for complexity\n",
    "    'objective': ['multi:softmax'],  \n",
    "    'booster': ['gbtree', 'dart'],  \n",
    "    'eval_metric': ['mlogloss', 'error', 'auc']\n",
    "}"
   ]
  },
  {
   "cell_type": "markdown",
   "id": "96305b67",
   "metadata": {
    "papermill": {
     "duration": 0.011726,
     "end_time": "2025-06-06T07:17:50.069215",
     "exception": false,
     "start_time": "2025-06-06T07:17:50.057489",
     "status": "completed"
    },
    "tags": []
   },
   "source": [
    "### NESTED CV PIPELINE"
   ]
  },
  {
   "cell_type": "code",
   "execution_count": 26,
   "id": "c8f47ff2",
   "metadata": {
    "execution": {
     "iopub.execute_input": "2025-06-06T07:17:50.095727Z",
     "iopub.status.busy": "2025-06-06T07:17:50.094841Z",
     "iopub.status.idle": "2025-06-07T03:31:21.099067Z",
     "shell.execute_reply": "2025-06-07T03:31:21.098379Z"
    },
    "papermill": {
     "duration": 72811.018752,
     "end_time": "2025-06-07T03:31:21.099761",
     "exception": false,
     "start_time": "2025-06-06T07:17:50.081009",
     "status": "completed"
    },
    "tags": []
   },
   "outputs": [],
   "source": [
    "results = nested_CV_revenge(\n",
    "    outer_cv, inner_cv,\n",
    "    X_train=X_train,\n",
    "    y_train=y_train,\n",
    "    model=classifier,\n",
    "    search_space=search_space_bayes,\n",
    "    n_jobs= n_jobs_sk, n_iter_bsearch = n_iter_bsearch,\n",
    "    verbose=True\n",
    ")\n",
    "\n",
    "(\n",
    "    hyperparam_list,\n",
    "    selected_features_list,\n",
    "    accuracy_array,\n",
    "    f1_array,\n",
    "    precision_array,\n",
    "    recall_array,\n",
    "    roc_auc_array,\n",
    "    predictions_array,\n",
    "    probas_array\n",
    ") = results\n",
    "\n",
    "clear_output(wait = False)"
   ]
  },
  {
   "cell_type": "code",
   "execution_count": 27,
   "id": "a61f7276",
   "metadata": {
    "execution": {
     "iopub.execute_input": "2025-06-07T03:31:21.112792Z",
     "iopub.status.busy": "2025-06-07T03:31:21.112540Z",
     "iopub.status.idle": "2025-06-07T03:31:21.117698Z",
     "shell.execute_reply": "2025-06-07T03:31:21.117161Z"
    },
    "papermill": {
     "duration": 0.012883,
     "end_time": "2025-06-07T03:31:21.118464",
     "exception": false,
     "start_time": "2025-06-07T03:31:21.105581",
     "status": "completed"
    },
    "tags": []
   },
   "outputs": [
    {
     "name": "stdout",
     "output_type": "stream",
     "text": [
      "The cross-validated accuracy (cv = 5) is: 0.6771746911082756\n",
      "The cross-validated f1 (cv = 5) is: 0.5240409691942821\n",
      "The cross-validated precision (cv = 5) is: 0.5672203142642034\n",
      "The cross-validated recall (cv = 5) is: 0.5483552779778004\n",
      "The cross-validated AUC (cv = 5) is: 0.7904089253668614\n"
     ]
    }
   ],
   "source": [
    "print(f\"The cross-validated accuracy (cv = {outer_cv}) is: {np.mean(accuracy_array)}\")\n",
    "print(f\"The cross-validated f1 (cv = {outer_cv}) is: {np.mean(f1_array)}\")\n",
    "print(f\"The cross-validated precision (cv = {outer_cv}) is: {np.mean(precision_array)}\")\n",
    "print(f\"The cross-validated recall (cv = {outer_cv}) is: {np.mean(recall_array)}\")\n",
    "print(f\"The cross-validated AUC (cv = {outer_cv}) is: {np.mean(roc_auc_array)}\")"
   ]
  },
  {
   "cell_type": "code",
   "execution_count": 28,
   "id": "85f52752",
   "metadata": {
    "execution": {
     "iopub.execute_input": "2025-06-07T03:31:21.130532Z",
     "iopub.status.busy": "2025-06-07T03:31:21.130305Z",
     "iopub.status.idle": "2025-06-07T03:31:21.134048Z",
     "shell.execute_reply": "2025-06-07T03:31:21.133560Z"
    },
    "papermill": {
     "duration": 0.010621,
     "end_time": "2025-06-07T03:31:21.134622",
     "exception": false,
     "start_time": "2025-06-07T03:31:21.124001",
     "status": "completed"
    },
    "tags": []
   },
   "outputs": [],
   "source": [
    "selected_features_in_at_least_one_cv = set([elem for inner_list in selected_features_list for elem in inner_list])"
   ]
  },
  {
   "cell_type": "code",
   "execution_count": 29,
   "id": "5c943f7e",
   "metadata": {
    "execution": {
     "iopub.execute_input": "2025-06-07T03:31:21.146311Z",
     "iopub.status.busy": "2025-06-07T03:31:21.146154Z",
     "iopub.status.idle": "2025-06-07T03:31:21.150037Z",
     "shell.execute_reply": "2025-06-07T03:31:21.149545Z"
    },
    "papermill": {
     "duration": 0.010533,
     "end_time": "2025-06-07T03:31:21.150575",
     "exception": false,
     "start_time": "2025-06-07T03:31:21.140042",
     "status": "completed"
    },
    "tags": []
   },
   "outputs": [],
   "source": [
    "search_space_grid = {}\n",
    "\n",
    "for dictionary in hyperparam_list:\n",
    "    for k,v in dictionary.items():\n",
    "        if k in search_space_grid:\n",
    "            search_space_grid[k].update([v])\n",
    "        else:\n",
    "            search_space_grid[k] = set([v])\n",
    "\n",
    "search_space_grid = {k : list(v) for k,v in search_space_grid.items()}"
   ]
  },
  {
   "cell_type": "markdown",
   "id": "f3ec1dbb",
   "metadata": {
    "papermill": {
     "duration": 0.005461,
     "end_time": "2025-06-07T03:31:21.161501",
     "exception": false,
     "start_time": "2025-06-07T03:31:21.156040",
     "status": "completed"
    },
    "tags": []
   },
   "source": [
    "## Full Dataset Hyperparameter Tuning"
   ]
  },
  {
   "cell_type": "code",
   "execution_count": 30,
   "id": "f387c522",
   "metadata": {
    "execution": {
     "iopub.execute_input": "2025-06-07T03:31:21.174477Z",
     "iopub.status.busy": "2025-06-07T03:31:21.173787Z",
     "iopub.status.idle": "2025-06-07T04:21:57.273788Z",
     "shell.execute_reply": "2025-06-07T04:21:57.273270Z"
    },
    "papermill": {
     "duration": 3036.114801,
     "end_time": "2025-06-07T04:21:57.281589",
     "exception": false,
     "start_time": "2025-06-07T03:31:21.166788",
     "status": "completed"
    },
    "tags": []
   },
   "outputs": [
    {
     "data": {
      "text/html": [
       "<style>#sk-container-id-1 {\n",
       "  /* Definition of color scheme common for light and dark mode */\n",
       "  --sklearn-color-text: #000;\n",
       "  --sklearn-color-text-muted: #666;\n",
       "  --sklearn-color-line: gray;\n",
       "  /* Definition of color scheme for unfitted estimators */\n",
       "  --sklearn-color-unfitted-level-0: #fff5e6;\n",
       "  --sklearn-color-unfitted-level-1: #f6e4d2;\n",
       "  --sklearn-color-unfitted-level-2: #ffe0b3;\n",
       "  --sklearn-color-unfitted-level-3: chocolate;\n",
       "  /* Definition of color scheme for fitted estimators */\n",
       "  --sklearn-color-fitted-level-0: #f0f8ff;\n",
       "  --sklearn-color-fitted-level-1: #d4ebff;\n",
       "  --sklearn-color-fitted-level-2: #b3dbfd;\n",
       "  --sklearn-color-fitted-level-3: cornflowerblue;\n",
       "\n",
       "  /* Specific color for light theme */\n",
       "  --sklearn-color-text-on-default-background: var(--sg-text-color, var(--theme-code-foreground, var(--jp-content-font-color1, black)));\n",
       "  --sklearn-color-background: var(--sg-background-color, var(--theme-background, var(--jp-layout-color0, white)));\n",
       "  --sklearn-color-border-box: var(--sg-text-color, var(--theme-code-foreground, var(--jp-content-font-color1, black)));\n",
       "  --sklearn-color-icon: #696969;\n",
       "\n",
       "  @media (prefers-color-scheme: dark) {\n",
       "    /* Redefinition of color scheme for dark theme */\n",
       "    --sklearn-color-text-on-default-background: var(--sg-text-color, var(--theme-code-foreground, var(--jp-content-font-color1, white)));\n",
       "    --sklearn-color-background: var(--sg-background-color, var(--theme-background, var(--jp-layout-color0, #111)));\n",
       "    --sklearn-color-border-box: var(--sg-text-color, var(--theme-code-foreground, var(--jp-content-font-color1, white)));\n",
       "    --sklearn-color-icon: #878787;\n",
       "  }\n",
       "}\n",
       "\n",
       "#sk-container-id-1 {\n",
       "  color: var(--sklearn-color-text);\n",
       "}\n",
       "\n",
       "#sk-container-id-1 pre {\n",
       "  padding: 0;\n",
       "}\n",
       "\n",
       "#sk-container-id-1 input.sk-hidden--visually {\n",
       "  border: 0;\n",
       "  clip: rect(1px 1px 1px 1px);\n",
       "  clip: rect(1px, 1px, 1px, 1px);\n",
       "  height: 1px;\n",
       "  margin: -1px;\n",
       "  overflow: hidden;\n",
       "  padding: 0;\n",
       "  position: absolute;\n",
       "  width: 1px;\n",
       "}\n",
       "\n",
       "#sk-container-id-1 div.sk-dashed-wrapped {\n",
       "  border: 1px dashed var(--sklearn-color-line);\n",
       "  margin: 0 0.4em 0.5em 0.4em;\n",
       "  box-sizing: border-box;\n",
       "  padding-bottom: 0.4em;\n",
       "  background-color: var(--sklearn-color-background);\n",
       "}\n",
       "\n",
       "#sk-container-id-1 div.sk-container {\n",
       "  /* jupyter's `normalize.less` sets `[hidden] { display: none; }`\n",
       "     but bootstrap.min.css set `[hidden] { display: none !important; }`\n",
       "     so we also need the `!important` here to be able to override the\n",
       "     default hidden behavior on the sphinx rendered scikit-learn.org.\n",
       "     See: https://github.com/scikit-learn/scikit-learn/issues/21755 */\n",
       "  display: inline-block !important;\n",
       "  position: relative;\n",
       "}\n",
       "\n",
       "#sk-container-id-1 div.sk-text-repr-fallback {\n",
       "  display: none;\n",
       "}\n",
       "\n",
       "div.sk-parallel-item,\n",
       "div.sk-serial,\n",
       "div.sk-item {\n",
       "  /* draw centered vertical line to link estimators */\n",
       "  background-image: linear-gradient(var(--sklearn-color-text-on-default-background), var(--sklearn-color-text-on-default-background));\n",
       "  background-size: 2px 100%;\n",
       "  background-repeat: no-repeat;\n",
       "  background-position: center center;\n",
       "}\n",
       "\n",
       "/* Parallel-specific style estimator block */\n",
       "\n",
       "#sk-container-id-1 div.sk-parallel-item::after {\n",
       "  content: \"\";\n",
       "  width: 100%;\n",
       "  border-bottom: 2px solid var(--sklearn-color-text-on-default-background);\n",
       "  flex-grow: 1;\n",
       "}\n",
       "\n",
       "#sk-container-id-1 div.sk-parallel {\n",
       "  display: flex;\n",
       "  align-items: stretch;\n",
       "  justify-content: center;\n",
       "  background-color: var(--sklearn-color-background);\n",
       "  position: relative;\n",
       "}\n",
       "\n",
       "#sk-container-id-1 div.sk-parallel-item {\n",
       "  display: flex;\n",
       "  flex-direction: column;\n",
       "}\n",
       "\n",
       "#sk-container-id-1 div.sk-parallel-item:first-child::after {\n",
       "  align-self: flex-end;\n",
       "  width: 50%;\n",
       "}\n",
       "\n",
       "#sk-container-id-1 div.sk-parallel-item:last-child::after {\n",
       "  align-self: flex-start;\n",
       "  width: 50%;\n",
       "}\n",
       "\n",
       "#sk-container-id-1 div.sk-parallel-item:only-child::after {\n",
       "  width: 0;\n",
       "}\n",
       "\n",
       "/* Serial-specific style estimator block */\n",
       "\n",
       "#sk-container-id-1 div.sk-serial {\n",
       "  display: flex;\n",
       "  flex-direction: column;\n",
       "  align-items: center;\n",
       "  background-color: var(--sklearn-color-background);\n",
       "  padding-right: 1em;\n",
       "  padding-left: 1em;\n",
       "}\n",
       "\n",
       "\n",
       "/* Toggleable style: style used for estimator/Pipeline/ColumnTransformer box that is\n",
       "clickable and can be expanded/collapsed.\n",
       "- Pipeline and ColumnTransformer use this feature and define the default style\n",
       "- Estimators will overwrite some part of the style using the `sk-estimator` class\n",
       "*/\n",
       "\n",
       "/* Pipeline and ColumnTransformer style (default) */\n",
       "\n",
       "#sk-container-id-1 div.sk-toggleable {\n",
       "  /* Default theme specific background. It is overwritten whether we have a\n",
       "  specific estimator or a Pipeline/ColumnTransformer */\n",
       "  background-color: var(--sklearn-color-background);\n",
       "}\n",
       "\n",
       "/* Toggleable label */\n",
       "#sk-container-id-1 label.sk-toggleable__label {\n",
       "  cursor: pointer;\n",
       "  display: flex;\n",
       "  width: 100%;\n",
       "  margin-bottom: 0;\n",
       "  padding: 0.5em;\n",
       "  box-sizing: border-box;\n",
       "  text-align: center;\n",
       "  align-items: start;\n",
       "  justify-content: space-between;\n",
       "  gap: 0.5em;\n",
       "}\n",
       "\n",
       "#sk-container-id-1 label.sk-toggleable__label .caption {\n",
       "  font-size: 0.6rem;\n",
       "  font-weight: lighter;\n",
       "  color: var(--sklearn-color-text-muted);\n",
       "}\n",
       "\n",
       "#sk-container-id-1 label.sk-toggleable__label-arrow:before {\n",
       "  /* Arrow on the left of the label */\n",
       "  content: \"▸\";\n",
       "  float: left;\n",
       "  margin-right: 0.25em;\n",
       "  color: var(--sklearn-color-icon);\n",
       "}\n",
       "\n",
       "#sk-container-id-1 label.sk-toggleable__label-arrow:hover:before {\n",
       "  color: var(--sklearn-color-text);\n",
       "}\n",
       "\n",
       "/* Toggleable content - dropdown */\n",
       "\n",
       "#sk-container-id-1 div.sk-toggleable__content {\n",
       "  max-height: 0;\n",
       "  max-width: 0;\n",
       "  overflow: hidden;\n",
       "  text-align: left;\n",
       "  /* unfitted */\n",
       "  background-color: var(--sklearn-color-unfitted-level-0);\n",
       "}\n",
       "\n",
       "#sk-container-id-1 div.sk-toggleable__content.fitted {\n",
       "  /* fitted */\n",
       "  background-color: var(--sklearn-color-fitted-level-0);\n",
       "}\n",
       "\n",
       "#sk-container-id-1 div.sk-toggleable__content pre {\n",
       "  margin: 0.2em;\n",
       "  border-radius: 0.25em;\n",
       "  color: var(--sklearn-color-text);\n",
       "  /* unfitted */\n",
       "  background-color: var(--sklearn-color-unfitted-level-0);\n",
       "}\n",
       "\n",
       "#sk-container-id-1 div.sk-toggleable__content.fitted pre {\n",
       "  /* unfitted */\n",
       "  background-color: var(--sklearn-color-fitted-level-0);\n",
       "}\n",
       "\n",
       "#sk-container-id-1 input.sk-toggleable__control:checked~div.sk-toggleable__content {\n",
       "  /* Expand drop-down */\n",
       "  max-height: 200px;\n",
       "  max-width: 100%;\n",
       "  overflow: auto;\n",
       "}\n",
       "\n",
       "#sk-container-id-1 input.sk-toggleable__control:checked~label.sk-toggleable__label-arrow:before {\n",
       "  content: \"▾\";\n",
       "}\n",
       "\n",
       "/* Pipeline/ColumnTransformer-specific style */\n",
       "\n",
       "#sk-container-id-1 div.sk-label input.sk-toggleable__control:checked~label.sk-toggleable__label {\n",
       "  color: var(--sklearn-color-text);\n",
       "  background-color: var(--sklearn-color-unfitted-level-2);\n",
       "}\n",
       "\n",
       "#sk-container-id-1 div.sk-label.fitted input.sk-toggleable__control:checked~label.sk-toggleable__label {\n",
       "  background-color: var(--sklearn-color-fitted-level-2);\n",
       "}\n",
       "\n",
       "/* Estimator-specific style */\n",
       "\n",
       "/* Colorize estimator box */\n",
       "#sk-container-id-1 div.sk-estimator input.sk-toggleable__control:checked~label.sk-toggleable__label {\n",
       "  /* unfitted */\n",
       "  background-color: var(--sklearn-color-unfitted-level-2);\n",
       "}\n",
       "\n",
       "#sk-container-id-1 div.sk-estimator.fitted input.sk-toggleable__control:checked~label.sk-toggleable__label {\n",
       "  /* fitted */\n",
       "  background-color: var(--sklearn-color-fitted-level-2);\n",
       "}\n",
       "\n",
       "#sk-container-id-1 div.sk-label label.sk-toggleable__label,\n",
       "#sk-container-id-1 div.sk-label label {\n",
       "  /* The background is the default theme color */\n",
       "  color: var(--sklearn-color-text-on-default-background);\n",
       "}\n",
       "\n",
       "/* On hover, darken the color of the background */\n",
       "#sk-container-id-1 div.sk-label:hover label.sk-toggleable__label {\n",
       "  color: var(--sklearn-color-text);\n",
       "  background-color: var(--sklearn-color-unfitted-level-2);\n",
       "}\n",
       "\n",
       "/* Label box, darken color on hover, fitted */\n",
       "#sk-container-id-1 div.sk-label.fitted:hover label.sk-toggleable__label.fitted {\n",
       "  color: var(--sklearn-color-text);\n",
       "  background-color: var(--sklearn-color-fitted-level-2);\n",
       "}\n",
       "\n",
       "/* Estimator label */\n",
       "\n",
       "#sk-container-id-1 div.sk-label label {\n",
       "  font-family: monospace;\n",
       "  font-weight: bold;\n",
       "  display: inline-block;\n",
       "  line-height: 1.2em;\n",
       "}\n",
       "\n",
       "#sk-container-id-1 div.sk-label-container {\n",
       "  text-align: center;\n",
       "}\n",
       "\n",
       "/* Estimator-specific */\n",
       "#sk-container-id-1 div.sk-estimator {\n",
       "  font-family: monospace;\n",
       "  border: 1px dotted var(--sklearn-color-border-box);\n",
       "  border-radius: 0.25em;\n",
       "  box-sizing: border-box;\n",
       "  margin-bottom: 0.5em;\n",
       "  /* unfitted */\n",
       "  background-color: var(--sklearn-color-unfitted-level-0);\n",
       "}\n",
       "\n",
       "#sk-container-id-1 div.sk-estimator.fitted {\n",
       "  /* fitted */\n",
       "  background-color: var(--sklearn-color-fitted-level-0);\n",
       "}\n",
       "\n",
       "/* on hover */\n",
       "#sk-container-id-1 div.sk-estimator:hover {\n",
       "  /* unfitted */\n",
       "  background-color: var(--sklearn-color-unfitted-level-2);\n",
       "}\n",
       "\n",
       "#sk-container-id-1 div.sk-estimator.fitted:hover {\n",
       "  /* fitted */\n",
       "  background-color: var(--sklearn-color-fitted-level-2);\n",
       "}\n",
       "\n",
       "/* Specification for estimator info (e.g. \"i\" and \"?\") */\n",
       "\n",
       "/* Common style for \"i\" and \"?\" */\n",
       "\n",
       ".sk-estimator-doc-link,\n",
       "a:link.sk-estimator-doc-link,\n",
       "a:visited.sk-estimator-doc-link {\n",
       "  float: right;\n",
       "  font-size: smaller;\n",
       "  line-height: 1em;\n",
       "  font-family: monospace;\n",
       "  background-color: var(--sklearn-color-background);\n",
       "  border-radius: 1em;\n",
       "  height: 1em;\n",
       "  width: 1em;\n",
       "  text-decoration: none !important;\n",
       "  margin-left: 0.5em;\n",
       "  text-align: center;\n",
       "  /* unfitted */\n",
       "  border: var(--sklearn-color-unfitted-level-1) 1pt solid;\n",
       "  color: var(--sklearn-color-unfitted-level-1);\n",
       "}\n",
       "\n",
       ".sk-estimator-doc-link.fitted,\n",
       "a:link.sk-estimator-doc-link.fitted,\n",
       "a:visited.sk-estimator-doc-link.fitted {\n",
       "  /* fitted */\n",
       "  border: var(--sklearn-color-fitted-level-1) 1pt solid;\n",
       "  color: var(--sklearn-color-fitted-level-1);\n",
       "}\n",
       "\n",
       "/* On hover */\n",
       "div.sk-estimator:hover .sk-estimator-doc-link:hover,\n",
       ".sk-estimator-doc-link:hover,\n",
       "div.sk-label-container:hover .sk-estimator-doc-link:hover,\n",
       ".sk-estimator-doc-link:hover {\n",
       "  /* unfitted */\n",
       "  background-color: var(--sklearn-color-unfitted-level-3);\n",
       "  color: var(--sklearn-color-background);\n",
       "  text-decoration: none;\n",
       "}\n",
       "\n",
       "div.sk-estimator.fitted:hover .sk-estimator-doc-link.fitted:hover,\n",
       ".sk-estimator-doc-link.fitted:hover,\n",
       "div.sk-label-container:hover .sk-estimator-doc-link.fitted:hover,\n",
       ".sk-estimator-doc-link.fitted:hover {\n",
       "  /* fitted */\n",
       "  background-color: var(--sklearn-color-fitted-level-3);\n",
       "  color: var(--sklearn-color-background);\n",
       "  text-decoration: none;\n",
       "}\n",
       "\n",
       "/* Span, style for the box shown on hovering the info icon */\n",
       ".sk-estimator-doc-link span {\n",
       "  display: none;\n",
       "  z-index: 9999;\n",
       "  position: relative;\n",
       "  font-weight: normal;\n",
       "  right: .2ex;\n",
       "  padding: .5ex;\n",
       "  margin: .5ex;\n",
       "  width: min-content;\n",
       "  min-width: 20ex;\n",
       "  max-width: 50ex;\n",
       "  color: var(--sklearn-color-text);\n",
       "  box-shadow: 2pt 2pt 4pt #999;\n",
       "  /* unfitted */\n",
       "  background: var(--sklearn-color-unfitted-level-0);\n",
       "  border: .5pt solid var(--sklearn-color-unfitted-level-3);\n",
       "}\n",
       "\n",
       ".sk-estimator-doc-link.fitted span {\n",
       "  /* fitted */\n",
       "  background: var(--sklearn-color-fitted-level-0);\n",
       "  border: var(--sklearn-color-fitted-level-3);\n",
       "}\n",
       "\n",
       ".sk-estimator-doc-link:hover span {\n",
       "  display: block;\n",
       "}\n",
       "\n",
       "/* \"?\"-specific style due to the `<a>` HTML tag */\n",
       "\n",
       "#sk-container-id-1 a.estimator_doc_link {\n",
       "  float: right;\n",
       "  font-size: 1rem;\n",
       "  line-height: 1em;\n",
       "  font-family: monospace;\n",
       "  background-color: var(--sklearn-color-background);\n",
       "  border-radius: 1rem;\n",
       "  height: 1rem;\n",
       "  width: 1rem;\n",
       "  text-decoration: none;\n",
       "  /* unfitted */\n",
       "  color: var(--sklearn-color-unfitted-level-1);\n",
       "  border: var(--sklearn-color-unfitted-level-1) 1pt solid;\n",
       "}\n",
       "\n",
       "#sk-container-id-1 a.estimator_doc_link.fitted {\n",
       "  /* fitted */\n",
       "  border: var(--sklearn-color-fitted-level-1) 1pt solid;\n",
       "  color: var(--sklearn-color-fitted-level-1);\n",
       "}\n",
       "\n",
       "/* On hover */\n",
       "#sk-container-id-1 a.estimator_doc_link:hover {\n",
       "  /* unfitted */\n",
       "  background-color: var(--sklearn-color-unfitted-level-3);\n",
       "  color: var(--sklearn-color-background);\n",
       "  text-decoration: none;\n",
       "}\n",
       "\n",
       "#sk-container-id-1 a.estimator_doc_link.fitted:hover {\n",
       "  /* fitted */\n",
       "  background-color: var(--sklearn-color-fitted-level-3);\n",
       "}\n",
       "</style><div id=\"sk-container-id-1\" class=\"sk-top-container\"><div class=\"sk-text-repr-fallback\"><pre>RandomizedSearchCV(cv=3,\n",
       "                   estimator=XGBClassifier(base_score=None, booster=None,\n",
       "                                           callbacks=None,\n",
       "                                           colsample_bylevel=None,\n",
       "                                           colsample_bynode=None,\n",
       "                                           colsample_bytree=None, device=&#x27;cpu&#x27;,\n",
       "                                           early_stopping_rounds=None,\n",
       "                                           enable_categorical=False,\n",
       "                                           eval_metric=None, feature_types=None,\n",
       "                                           feature_weights=None, gamma=None,\n",
       "                                           grow_policy=None,\n",
       "                                           importance_type=None,\n",
       "                                           interaction_constrai...\n",
       "                                        &#x27;objective&#x27;: [&#x27;multi:softmax&#x27;],\n",
       "                                        &#x27;reg_alpha&#x27;: [0.14549582577894687,\n",
       "                                                      0.014900242190610162,\n",
       "                                                      0.0029949916204736644,\n",
       "                                                      10.0,\n",
       "                                                      0.011721722669367739],\n",
       "                                        &#x27;reg_lambda&#x27;: [0.5203411655062483,\n",
       "                                                       0.2669840207965698,\n",
       "                                                       0.12856312359450586,\n",
       "                                                       4.225869278060716,\n",
       "                                                       7.319717673230659],\n",
       "                                        &#x27;subsample&#x27;: [0.8543582000448856, 1.0,\n",
       "                                                      0.8817406940448107,\n",
       "                                                      0.9309426393172106,\n",
       "                                                      0.8596580193924419]},\n",
       "                   random_state=49574)</pre><b>In a Jupyter environment, please rerun this cell to show the HTML representation or trust the notebook. <br />On GitHub, the HTML representation is unable to render, please try loading this page with nbviewer.org.</b></div><div class=\"sk-container\" hidden><div class=\"sk-item sk-dashed-wrapped\"><div class=\"sk-label-container\"><div class=\"sk-label fitted sk-toggleable\"><input class=\"sk-toggleable__control sk-hidden--visually\" id=\"sk-estimator-id-1\" type=\"checkbox\" ><label for=\"sk-estimator-id-1\" class=\"sk-toggleable__label fitted sk-toggleable__label-arrow\"><div><div>RandomizedSearchCV</div></div><div><a class=\"sk-estimator-doc-link fitted\" rel=\"noreferrer\" target=\"_blank\" href=\"https://scikit-learn.org/1.6/modules/generated/sklearn.model_selection.RandomizedSearchCV.html\">?<span>Documentation for RandomizedSearchCV</span></a><span class=\"sk-estimator-doc-link fitted\">i<span>Fitted</span></span></div></label><div class=\"sk-toggleable__content fitted\"><pre>RandomizedSearchCV(cv=3,\n",
       "                   estimator=XGBClassifier(base_score=None, booster=None,\n",
       "                                           callbacks=None,\n",
       "                                           colsample_bylevel=None,\n",
       "                                           colsample_bynode=None,\n",
       "                                           colsample_bytree=None, device=&#x27;cpu&#x27;,\n",
       "                                           early_stopping_rounds=None,\n",
       "                                           enable_categorical=False,\n",
       "                                           eval_metric=None, feature_types=None,\n",
       "                                           feature_weights=None, gamma=None,\n",
       "                                           grow_policy=None,\n",
       "                                           importance_type=None,\n",
       "                                           interaction_constrai...\n",
       "                                        &#x27;objective&#x27;: [&#x27;multi:softmax&#x27;],\n",
       "                                        &#x27;reg_alpha&#x27;: [0.14549582577894687,\n",
       "                                                      0.014900242190610162,\n",
       "                                                      0.0029949916204736644,\n",
       "                                                      10.0,\n",
       "                                                      0.011721722669367739],\n",
       "                                        &#x27;reg_lambda&#x27;: [0.5203411655062483,\n",
       "                                                       0.2669840207965698,\n",
       "                                                       0.12856312359450586,\n",
       "                                                       4.225869278060716,\n",
       "                                                       7.319717673230659],\n",
       "                                        &#x27;subsample&#x27;: [0.8543582000448856, 1.0,\n",
       "                                                      0.8817406940448107,\n",
       "                                                      0.9309426393172106,\n",
       "                                                      0.8596580193924419]},\n",
       "                   random_state=49574)</pre></div> </div></div><div class=\"sk-parallel\"><div class=\"sk-parallel-item\"><div class=\"sk-item\"><div class=\"sk-label-container\"><div class=\"sk-label fitted sk-toggleable\"><input class=\"sk-toggleable__control sk-hidden--visually\" id=\"sk-estimator-id-2\" type=\"checkbox\" ><label for=\"sk-estimator-id-2\" class=\"sk-toggleable__label fitted sk-toggleable__label-arrow\"><div><div>best_estimator_: XGBClassifier</div></div></label><div class=\"sk-toggleable__content fitted\"><pre>XGBClassifier(base_score=None, booster=&#x27;gbtree&#x27;, callbacks=None,\n",
       "              colsample_bylevel=0.6991241690789752, colsample_bynode=None,\n",
       "              colsample_bytree=0.9199415802355813, device=&#x27;cpu&#x27;,\n",
       "              early_stopping_rounds=None, enable_categorical=False,\n",
       "              eval_metric=&#x27;auc&#x27;, feature_types=None, feature_weights=None,\n",
       "              gamma=0.22369203185335856, grow_policy=None, importance_type=None,\n",
       "              interaction_constraints=None, learning_rate=0.1721615647498917,\n",
       "              max_bin=None, max_cat_threshold=None, max_cat_to_onehot=None,\n",
       "              max_delta_step=6, max_depth=14, max_leaves=None,\n",
       "              min_child_weight=1, missing=nan, monotone_constraints=None,\n",
       "              multi_strategy=None, n_estimators=238, n_jobs=60,\n",
       "              num_parallel_tree=None, ...)</pre></div> </div></div><div class=\"sk-serial\"><div class=\"sk-item\"><div class=\"sk-estimator fitted sk-toggleable\"><input class=\"sk-toggleable__control sk-hidden--visually\" id=\"sk-estimator-id-3\" type=\"checkbox\" ><label for=\"sk-estimator-id-3\" class=\"sk-toggleable__label fitted sk-toggleable__label-arrow\"><div><div>XGBClassifier</div></div><div><a class=\"sk-estimator-doc-link fitted\" rel=\"noreferrer\" target=\"_blank\" href=\"https://xgboost.readthedocs.io/en/release_3.0.0/python/python_api.html#xgboost.XGBClassifier\">?<span>Documentation for XGBClassifier</span></a></div></label><div class=\"sk-toggleable__content fitted\"><pre>XGBClassifier(base_score=None, booster=&#x27;gbtree&#x27;, callbacks=None,\n",
       "              colsample_bylevel=0.6991241690789752, colsample_bynode=None,\n",
       "              colsample_bytree=0.9199415802355813, device=&#x27;cpu&#x27;,\n",
       "              early_stopping_rounds=None, enable_categorical=False,\n",
       "              eval_metric=&#x27;auc&#x27;, feature_types=None, feature_weights=None,\n",
       "              gamma=0.22369203185335856, grow_policy=None, importance_type=None,\n",
       "              interaction_constraints=None, learning_rate=0.1721615647498917,\n",
       "              max_bin=None, max_cat_threshold=None, max_cat_to_onehot=None,\n",
       "              max_delta_step=6, max_depth=14, max_leaves=None,\n",
       "              min_child_weight=1, missing=nan, monotone_constraints=None,\n",
       "              multi_strategy=None, n_estimators=238, n_jobs=60,\n",
       "              num_parallel_tree=None, ...)</pre></div> </div></div></div></div></div></div></div></div></div>"
      ],
      "text/plain": [
       "RandomizedSearchCV(cv=3,\n",
       "                   estimator=XGBClassifier(base_score=None, booster=None,\n",
       "                                           callbacks=None,\n",
       "                                           colsample_bylevel=None,\n",
       "                                           colsample_bynode=None,\n",
       "                                           colsample_bytree=None, device='cpu',\n",
       "                                           early_stopping_rounds=None,\n",
       "                                           enable_categorical=False,\n",
       "                                           eval_metric=None, feature_types=None,\n",
       "                                           feature_weights=None, gamma=None,\n",
       "                                           grow_policy=None,\n",
       "                                           importance_type=None,\n",
       "                                           interaction_constrai...\n",
       "                                        'objective': ['multi:softmax'],\n",
       "                                        'reg_alpha': [0.14549582577894687,\n",
       "                                                      0.014900242190610162,\n",
       "                                                      0.0029949916204736644,\n",
       "                                                      10.0,\n",
       "                                                      0.011721722669367739],\n",
       "                                        'reg_lambda': [0.5203411655062483,\n",
       "                                                       0.2669840207965698,\n",
       "                                                       0.12856312359450586,\n",
       "                                                       4.225869278060716,\n",
       "                                                       7.319717673230659],\n",
       "                                        'subsample': [0.8543582000448856, 1.0,\n",
       "                                                      0.8817406940448107,\n",
       "                                                      0.9309426393172106,\n",
       "                                                      0.8596580193924419]},\n",
       "                   random_state=49574)"
      ]
     },
     "execution_count": 30,
     "metadata": {},
     "output_type": "execute_result"
    }
   ],
   "source": [
    "opti = sk.model_selection.RandomizedSearchCV(estimator = classifier, \n",
    "                                             param_distributions = search_space_grid, \n",
    "                                             cv = inner_cv, \n",
    "                                             n_jobs = n_jobs_sk,\n",
    "                                             n_iter = n_iter_rsearch,\n",
    "                                             random_state = hypertune_random_state_rsearch, \n",
    "                                             verbose = 0, refit = True)\n",
    "opti.fit(X_train, y_train)"
   ]
  },
  {
   "cell_type": "code",
   "execution_count": 31,
   "id": "d96d5fdf",
   "metadata": {
    "execution": {
     "iopub.execute_input": "2025-06-07T04:21:57.296053Z",
     "iopub.status.busy": "2025-06-07T04:21:57.295760Z",
     "iopub.status.idle": "2025-06-07T04:21:57.300762Z",
     "shell.execute_reply": "2025-06-07T04:21:57.299693Z"
    },
    "papermill": {
     "duration": 0.013577,
     "end_time": "2025-06-07T04:21:57.301777",
     "exception": false,
     "start_time": "2025-06-07T04:21:57.288200",
     "status": "completed"
    },
    "tags": []
   },
   "outputs": [],
   "source": [
    "model = opti.best_estimator_"
   ]
  },
  {
   "cell_type": "markdown",
   "id": "e2893986",
   "metadata": {
    "papermill": {
     "duration": 0.005705,
     "end_time": "2025-06-07T04:21:57.313295",
     "exception": false,
     "start_time": "2025-06-07T04:21:57.307590",
     "status": "completed"
    },
    "tags": []
   },
   "source": [
    "## Feature Importance Analysis"
   ]
  },
  {
   "cell_type": "markdown",
   "id": "ea3a5d1f",
   "metadata": {
    "papermill": {
     "duration": 0.005564,
     "end_time": "2025-06-07T04:21:57.324458",
     "exception": false,
     "start_time": "2025-06-07T04:21:57.318894",
     "status": "completed"
    },
    "tags": []
   },
   "source": [
    "Let's look at both XGBoost native feature importance and at mean absolute SHAP values as metric of feature importance"
   ]
  },
  {
   "cell_type": "code",
   "execution_count": 32,
   "id": "b01c6e1e",
   "metadata": {
    "execution": {
     "iopub.execute_input": "2025-06-07T04:21:57.338251Z",
     "iopub.status.busy": "2025-06-07T04:21:57.337488Z",
     "iopub.status.idle": "2025-06-07T04:21:57.531502Z",
     "shell.execute_reply": "2025-06-07T04:21:57.530974Z"
    },
    "papermill": {
     "duration": 0.202565,
     "end_time": "2025-06-07T04:21:57.532588",
     "exception": false,
     "start_time": "2025-06-07T04:21:57.330023",
     "status": "completed"
    },
    "tags": []
   },
   "outputs": [],
   "source": [
    "explainer = shap.TreeExplainer(model)\n",
    "shap_values = explainer(X_train)\n",
    "shap_values_numpy = explainer.shap_values(X_train)"
   ]
  },
  {
   "cell_type": "code",
   "execution_count": 33,
   "id": "9a665f33",
   "metadata": {
    "execution": {
     "iopub.execute_input": "2025-06-07T04:21:57.545509Z",
     "iopub.status.busy": "2025-06-07T04:21:57.545329Z",
     "iopub.status.idle": "2025-06-07T04:21:57.763290Z",
     "shell.execute_reply": "2025-06-07T04:21:57.761965Z"
    },
    "papermill": {
     "duration": 0.225166,
     "end_time": "2025-06-07T04:21:57.764152",
     "exception": false,
     "start_time": "2025-06-07T04:21:57.538986",
     "status": "completed"
    },
    "tags": []
   },
   "outputs": [
    {
     "name": "stdout",
     "output_type": "stream",
     "text": [
      "regrout / with CNA\n"
     ]
    },
    {
     "data": {
      "image/png": "[encoded data removed]",
      "text/plain": [
       "<Figure size 2500x1000 with 1 Axes>"
      ]
     },
     "metadata": {},
     "output_type": "display_data"
    }
   ],
   "source": [
    "if plot_shap:\n",
    "    print(\" / \".join([mode, condition]))\n",
    "    plt.figure(figsize = (100,25))\n",
    "    summary_plot = shap.summary_plot(shap_values, X_train, \n",
    "                                     plot_type='bar', max_display=10, plot_size= (25,10))\n",
    "    plt.show()"
   ]
  },
  {
   "cell_type": "markdown",
   "id": "2e5854c0",
   "metadata": {
    "papermill": {
     "duration": 0.006704,
     "end_time": "2025-06-07T04:21:57.777678",
     "exception": false,
     "start_time": "2025-06-07T04:21:57.770974",
     "status": "completed"
    },
    "tags": []
   },
   "source": [
    "## Feature Selection"
   ]
  },
  {
   "cell_type": "markdown",
   "id": "b6127f86",
   "metadata": {
    "papermill": {
     "duration": 0.006735,
     "end_time": "2025-06-07T04:21:57.790961",
     "exception": false,
     "start_time": "2025-06-07T04:21:57.784226",
     "status": "completed"
    },
    "tags": []
   },
   "source": [
    "Let's perform Feature Selection using mean absolute SHAP values"
   ]
  },
  {
   "cell_type": "code",
   "execution_count": 34,
   "id": "5eb54561",
   "metadata": {
    "execution": {
     "iopub.execute_input": "2025-06-07T04:21:57.807291Z",
     "iopub.status.busy": "2025-06-07T04:21:57.806054Z",
     "iopub.status.idle": "2025-06-07T04:29:10.275974Z",
     "shell.execute_reply": "2025-06-07T04:29:10.275471Z"
    },
    "papermill": {
     "duration": 432.479314,
     "end_time": "2025-06-07T04:29:10.276962",
     "exception": false,
     "start_time": "2025-06-07T04:21:57.797648",
     "status": "completed"
    },
    "tags": []
   },
   "outputs": [
    {
     "name": "stdout",
     "output_type": "stream",
     "text": [
      "> threshold=0.0, features=252, gini coefficient=0.557204873227443\n"
     ]
    },
    {
     "name": "stdout",
     "output_type": "stream",
     "text": [
      "> threshold=0.0, features=252, gini coefficient=0.557204873227443\n"
     ]
    },
    {
     "name": "stdout",
     "output_type": "stream",
     "text": [
      "> threshold=0.0, features=252, gini coefficient=0.557204873227443\n"
     ]
    },
    {
     "name": "stdout",
     "output_type": "stream",
     "text": [
      "> threshold=0.0006671653245575726, features=249, gini coefficient=0.554247129385073\n"
     ]
    },
    {
     "name": "stdout",
     "output_type": "stream",
     "text": [
      "> threshold=0.001170640462078154, features=248, gini coefficient=0.5607870062395373\n"
     ]
    },
    {
     "name": "stdout",
     "output_type": "stream",
     "text": [
      "> threshold=0.001179706770926714, features=247, gini coefficient=0.5488914106924335\n"
     ]
    },
    {
     "name": "stdout",
     "output_type": "stream",
     "text": [
      "> threshold=0.0013108733110129833, features=246, gini coefficient=0.5569528385934172\n"
     ]
    },
    {
     "name": "stdout",
     "output_type": "stream",
     "text": [
      "> threshold=0.001357566099613905, features=245, gini coefficient=0.5612487477484364\n"
     ]
    },
    {
     "name": "stdout",
     "output_type": "stream",
     "text": [
      "> threshold=0.0013614505296573043, features=244, gini coefficient=0.5648492130544843\n"
     ]
    },
    {
     "name": "stdout",
     "output_type": "stream",
     "text": [
      "> threshold=0.0013744592433795333, features=243, gini coefficient=0.5639945090238915\n"
     ]
    },
    {
     "name": "stdout",
     "output_type": "stream",
     "text": [
      "> threshold=0.0013832836411893368, features=242, gini coefficient=0.554288971239108\n"
     ]
    },
    {
     "name": "stdout",
     "output_type": "stream",
     "text": [
      "> threshold=0.0014886633725836873, features=241, gini coefficient=0.5567208297024641\n"
     ]
    },
    {
     "name": "stdout",
     "output_type": "stream",
     "text": [
      "> threshold=0.0015423274599015713, features=240, gini coefficient=0.5490868441397264\n"
     ]
    },
    {
     "name": "stdout",
     "output_type": "stream",
     "text": [
      "> threshold=0.0015618555480614305, features=239, gini coefficient=0.5652445924500665\n"
     ]
    },
    {
     "name": "stdout",
     "output_type": "stream",
     "text": [
      "> threshold=0.0016007479280233383, features=238, gini coefficient=0.5607329935165087\n"
     ]
    },
    {
     "name": "stdout",
     "output_type": "stream",
     "text": [
      "> threshold=0.001621173694729805, features=237, gini coefficient=0.5506527532221753\n"
     ]
    },
    {
     "name": "stdout",
     "output_type": "stream",
     "text": [
      "> threshold=0.0016288611805066466, features=236, gini coefficient=0.558229107152272\n"
     ]
    },
    {
     "name": "stdout",
     "output_type": "stream",
     "text": [
      "> threshold=0.0016521081561222672, features=235, gini coefficient=0.552494596850745\n"
     ]
    },
    {
     "name": "stdout",
     "output_type": "stream",
     "text": [
      "> threshold=0.0017102668061852455, features=234, gini coefficient=0.5512425099707255\n"
     ]
    },
    {
     "name": "stdout",
     "output_type": "stream",
     "text": [
      "> threshold=0.001736563048325479, features=233, gini coefficient=0.5604552376022681\n"
     ]
    },
    {
     "name": "stdout",
     "output_type": "stream",
     "text": [
      "> threshold=0.001760462881065905, features=232, gini coefficient=0.5548825954361526\n"
     ]
    },
    {
     "name": "stdout",
     "output_type": "stream",
     "text": [
      "> threshold=0.0017965392908081412, features=231, gini coefficient=0.550388111487109\n"
     ]
    },
    {
     "name": "stdout",
     "output_type": "stream",
     "text": [
      "> threshold=0.0018166847294196486, features=230, gini coefficient=0.5592693904668153\n"
     ]
    },
    {
     "name": "stdout",
     "output_type": "stream",
     "text": [
      "> threshold=0.001824268139898777, features=229, gini coefficient=0.5557114010082093\n"
     ]
    },
    {
     "name": "stdout",
     "output_type": "stream",
     "text": [
      "> threshold=0.0018440262647345662, features=228, gini coefficient=0.5544672950501498\n"
     ]
    },
    {
     "name": "stdout",
     "output_type": "stream",
     "text": [
      "> threshold=0.0018625707598403096, features=227, gini coefficient=0.5647414583607882\n"
     ]
    },
    {
     "name": "stdout",
     "output_type": "stream",
     "text": [
      "> threshold=0.0019278632244095206, features=226, gini coefficient=0.5521020623379538\n"
     ]
    },
    {
     "name": "stdout",
     "output_type": "stream",
     "text": [
      "> threshold=0.001947226352058351, features=225, gini coefficient=0.5524275974973232\n"
     ]
    },
    {
     "name": "stdout",
     "output_type": "stream",
     "text": [
      "> threshold=0.0019934556912630796, features=224, gini coefficient=0.5546870537468995\n"
     ]
    },
    {
     "name": "stdout",
     "output_type": "stream",
     "text": [
      "> threshold=0.002028333256021142, features=223, gini coefficient=0.5458866061517725\n"
     ]
    },
    {
     "name": "stdout",
     "output_type": "stream",
     "text": [
      "> threshold=0.0020425377879291773, features=222, gini coefficient=0.5614683762145467\n"
     ]
    },
    {
     "name": "stdout",
     "output_type": "stream",
     "text": [
      "> threshold=0.002099055564031005, features=221, gini coefficient=0.555913841062796\n"
     ]
    },
    {
     "name": "stdout",
     "output_type": "stream",
     "text": [
      "> threshold=0.0021652665454894304, features=220, gini coefficient=0.552469670890732\n"
     ]
    },
    {
     "name": "stdout",
     "output_type": "stream",
     "text": [
      "> threshold=0.0021970656234771013, features=219, gini coefficient=0.5504480352309394\n"
     ]
    },
    {
     "name": "stdout",
     "output_type": "stream",
     "text": [
      "> threshold=0.0022152650635689497, features=218, gini coefficient=0.562670479262687\n"
     ]
    },
    {
     "name": "stdout",
     "output_type": "stream",
     "text": [
      "> threshold=0.002232939936220646, features=217, gini coefficient=0.561812622840825\n"
     ]
    },
    {
     "name": "stdout",
     "output_type": "stream",
     "text": [
      "> threshold=0.002242319518700242, features=216, gini coefficient=0.5525592393239727\n"
     ]
    },
    {
     "name": "stdout",
     "output_type": "stream",
     "text": [
      "> threshold=0.002272233599796891, features=215, gini coefficient=0.5597272039015321\n"
     ]
    },
    {
     "name": "stdout",
     "output_type": "stream",
     "text": [
      "> threshold=0.0022906779777258635, features=214, gini coefficient=0.5579167668466773\n"
     ]
    },
    {
     "name": "stdout",
     "output_type": "stream",
     "text": [
      "> threshold=0.0023237280547618866, features=213, gini coefficient=0.556410736154727\n"
     ]
    },
    {
     "name": "stdout",
     "output_type": "stream",
     "text": [
      "> threshold=0.00232586357742548, features=212, gini coefficient=0.5542964511440152\n"
     ]
    },
    {
     "name": "stdout",
     "output_type": "stream",
     "text": [
      "> threshold=0.002352998359128833, features=211, gini coefficient=0.5602276588802452\n"
     ]
    },
    {
     "name": "stdout",
     "output_type": "stream",
     "text": [
      "> threshold=0.0025325834285467863, features=210, gini coefficient=0.5668999413853556\n"
     ]
    },
    {
     "name": "stdout",
     "output_type": "stream",
     "text": [
      "> threshold=0.002533103572204709, features=209, gini coefficient=0.5513306595071188\n"
     ]
    },
    {
     "name": "stdout",
     "output_type": "stream",
     "text": [
      "> threshold=0.0028300692792981863, features=208, gini coefficient=0.5661915794726163\n"
     ]
    },
    {
     "name": "stdout",
     "output_type": "stream",
     "text": [
      "> threshold=0.0028978262562304735, features=207, gini coefficient=0.5477081970101627\n"
     ]
    },
    {
     "name": "stdout",
     "output_type": "stream",
     "text": [
      "> threshold=0.00289793498814106, features=206, gini coefficient=0.55215722762455\n"
     ]
    },
    {
     "name": "stdout",
     "output_type": "stream",
     "text": [
      "> threshold=0.0029044728726148605, features=205, gini coefficient=0.5635431401590655\n"
     ]
    },
    {
     "name": "stdout",
     "output_type": "stream",
     "text": [
      "> threshold=0.002929468872025609, features=204, gini coefficient=0.5608220003578567\n"
     ]
    },
    {
     "name": "stdout",
     "output_type": "stream",
     "text": [
      "> threshold=0.0029390982817858458, features=203, gini coefficient=0.567273458272369\n"
     ]
    },
    {
     "name": "stdout",
     "output_type": "stream",
     "text": [
      "> threshold=0.0029447339475154877, features=202, gini coefficient=0.5615379597623806\n"
     ]
    },
    {
     "name": "stdout",
     "output_type": "stream",
     "text": [
      "> threshold=0.0030020636040717363, features=201, gini coefficient=0.5452926294073788\n"
     ]
    },
    {
     "name": "stdout",
     "output_type": "stream",
     "text": [
      "> threshold=0.003018077230080962, features=200, gini coefficient=0.5623961432758542\n"
     ]
    },
    {
     "name": "stdout",
     "output_type": "stream",
     "text": [
      "> threshold=0.003043870208784938, features=199, gini coefficient=0.5614674711232809\n"
     ]
    },
    {
     "name": "stdout",
     "output_type": "stream",
     "text": [
      "> threshold=0.003098871326074004, features=198, gini coefficient=0.5645476907689219\n"
     ]
    },
    {
     "name": "stdout",
     "output_type": "stream",
     "text": [
      "> threshold=0.0031308571342378855, features=197, gini coefficient=0.561922125567894\n"
     ]
    },
    {
     "name": "stdout",
     "output_type": "stream",
     "text": [
      "> threshold=0.003159809159114957, features=196, gini coefficient=0.5671003081507282\n"
     ]
    },
    {
     "name": "stdout",
     "output_type": "stream",
     "text": [
      "> threshold=0.0031799518037587404, features=195, gini coefficient=0.5591353391429543\n"
     ]
    },
    {
     "name": "stdout",
     "output_type": "stream",
     "text": [
      "> threshold=0.0031920999754220247, features=194, gini coefficient=0.5569779287290582\n"
     ]
    },
    {
     "name": "stdout",
     "output_type": "stream",
     "text": [
      "> threshold=0.003211809555068612, features=193, gini coefficient=0.5625095813123666\n"
     ]
    },
    {
     "name": "stdout",
     "output_type": "stream",
     "text": [
      "> threshold=0.003217128338292241, features=192, gini coefficient=0.5596239083951984\n"
     ]
    },
    {
     "name": "stdout",
     "output_type": "stream",
     "text": [
      "> threshold=0.003229730762541294, features=191, gini coefficient=0.5573681010811267\n"
     ]
    },
    {
     "name": "stdout",
     "output_type": "stream",
     "text": [
      "> threshold=0.0032330069225281477, features=190, gini coefficient=0.5669850106047245\n"
     ]
    },
    {
     "name": "stdout",
     "output_type": "stream",
     "text": [
      "> threshold=0.0032459089998155832, features=189, gini coefficient=0.5636856592907448\n"
     ]
    },
    {
     "name": "stdout",
     "output_type": "stream",
     "text": [
      "> threshold=0.003326947567984462, features=188, gini coefficient=0.5559136263101864\n"
     ]
    },
    {
     "name": "stdout",
     "output_type": "stream",
     "text": [
      "> threshold=0.0033391574397683144, features=187, gini coefficient=0.5568071243948972\n"
     ]
    },
    {
     "name": "stdout",
     "output_type": "stream",
     "text": [
      "> threshold=0.003351939143612981, features=186, gini coefficient=0.564770670688655\n"
     ]
    },
    {
     "name": "stdout",
     "output_type": "stream",
     "text": [
      "> threshold=0.003359202528372407, features=185, gini coefficient=0.5619110909667998\n"
     ]
    },
    {
     "name": "stdout",
     "output_type": "stream",
     "text": [
      "> threshold=0.0033616686705499887, features=184, gini coefficient=0.5667480948260397\n"
     ]
    },
    {
     "name": "stdout",
     "output_type": "stream",
     "text": [
      "> threshold=0.003370910184457898, features=183, gini coefficient=0.5563368414713433\n"
     ]
    },
    {
     "name": "stdout",
     "output_type": "stream",
     "text": [
      "> threshold=0.0034400366712361574, features=182, gini coefficient=0.5646058195978322\n"
     ]
    },
    {
     "name": "stdout",
     "output_type": "stream",
     "text": [
      "> threshold=0.0034578803461045027, features=181, gini coefficient=0.5621706165375713\n"
     ]
    },
    {
     "name": "stdout",
     "output_type": "stream",
     "text": [
      "> threshold=0.003488006303086877, features=180, gini coefficient=0.5605195374718575\n"
     ]
    },
    {
     "name": "stdout",
     "output_type": "stream",
     "text": [
      "> threshold=0.00349808600731194, features=179, gini coefficient=0.5705069508108657\n"
     ]
    },
    {
     "name": "stdout",
     "output_type": "stream",
     "text": [
      "> threshold=0.0035041961818933487, features=178, gini coefficient=0.5622639371206487\n"
     ]
    },
    {
     "name": "stdout",
     "output_type": "stream",
     "text": [
      "> threshold=0.0035077380016446114, features=177, gini coefficient=0.5609139584052836\n"
     ]
    },
    {
     "name": "stdout",
     "output_type": "stream",
     "text": [
      "> threshold=0.0035131871700286865, features=176, gini coefficient=0.5713356487635136\n"
     ]
    },
    {
     "name": "stdout",
     "output_type": "stream",
     "text": [
      "> threshold=0.0035901295486837626, features=175, gini coefficient=0.5740706021716148\n"
     ]
    },
    {
     "name": "stdout",
     "output_type": "stream",
     "text": [
      "> threshold=0.0035951733589172363, features=174, gini coefficient=0.5699352648024391\n"
     ]
    },
    {
     "name": "stdout",
     "output_type": "stream",
     "text": [
      "> threshold=0.003715071128681302, features=173, gini coefficient=0.5697834210416687\n"
     ]
    },
    {
     "name": "stdout",
     "output_type": "stream",
     "text": [
      "> threshold=0.0037288630846887827, features=172, gini coefficient=0.5667376341973539\n"
     ]
    },
    {
     "name": "stdout",
     "output_type": "stream",
     "text": [
      "> threshold=0.0037482839543372393, features=171, gini coefficient=0.5658241692951026\n"
     ]
    },
    {
     "name": "stdout",
     "output_type": "stream",
     "text": [
      "> threshold=0.0037563371006399393, features=170, gini coefficient=0.5709977722996287\n"
     ]
    },
    {
     "name": "stdout",
     "output_type": "stream",
     "text": [
      "> threshold=0.003816795302554965, features=169, gini coefficient=0.5625654003435588\n"
     ]
    },
    {
     "name": "stdout",
     "output_type": "stream",
     "text": [
      "> threshold=0.0038275800179690123, features=168, gini coefficient=0.561702600659094\n"
     ]
    },
    {
     "name": "stdout",
     "output_type": "stream",
     "text": [
      "> threshold=0.0038554181810468435, features=167, gini coefficient=0.5543011258568517\n"
     ]
    },
    {
     "name": "stdout",
     "output_type": "stream",
     "text": [
      "> threshold=0.0038876989856362343, features=166, gini coefficient=0.5684025363984198\n"
     ]
    },
    {
     "name": "stdout",
     "output_type": "stream",
     "text": [
      "> threshold=0.003957781009376049, features=165, gini coefficient=0.5656197442970456\n"
     ]
    },
    {
     "name": "stdout",
     "output_type": "stream",
     "text": [
      "> threshold=0.003960372880101204, features=164, gini coefficient=0.5687658642125794\n"
     ]
    },
    {
     "name": "stdout",
     "output_type": "stream",
     "text": [
      "> threshold=0.003991522826254368, features=163, gini coefficient=0.5829151117879775\n"
     ]
    },
    {
     "name": "stdout",
     "output_type": "stream",
     "text": [
      "> threshold=0.004000676330178976, features=162, gini coefficient=0.5640415608638285\n"
     ]
    },
    {
     "name": "stdout",
     "output_type": "stream",
     "text": [
      "> threshold=0.004058558028191328, features=161, gini coefficient=0.5718875305464448\n"
     ]
    },
    {
     "name": "stdout",
     "output_type": "stream",
     "text": [
      "> threshold=0.004077157471328974, features=160, gini coefficient=0.5715791390818924\n"
     ]
    },
    {
     "name": "stdout",
     "output_type": "stream",
     "text": [
      "> threshold=0.004100670572370291, features=159, gini coefficient=0.571318221122323\n"
     ]
    },
    {
     "name": "stdout",
     "output_type": "stream",
     "text": [
      "> threshold=0.004114409908652306, features=158, gini coefficient=0.5792414152000546\n"
     ]
    },
    {
     "name": "stdout",
     "output_type": "stream",
     "text": [
      "> threshold=0.004149432759732008, features=157, gini coefficient=0.5621519142351714\n"
     ]
    },
    {
     "name": "stdout",
     "output_type": "stream",
     "text": [
      "> threshold=0.004164332058280706, features=156, gini coefficient=0.5740872658864548\n"
     ]
    },
    {
     "name": "stdout",
     "output_type": "stream",
     "text": [
      "> threshold=0.004243550356477499, features=155, gini coefficient=0.5726359350706569\n"
     ]
    },
    {
     "name": "stdout",
     "output_type": "stream",
     "text": [
      "> threshold=0.0042442744597792625, features=154, gini coefficient=0.5722220174808192\n"
     ]
    },
    {
     "name": "stdout",
     "output_type": "stream",
     "text": [
      "> threshold=0.004275429528206587, features=153, gini coefficient=0.5712498414989161\n"
     ]
    },
    {
     "name": "stdout",
     "output_type": "stream",
     "text": [
      "> threshold=0.0044330726377666, features=152, gini coefficient=0.5633469790432483\n"
     ]
    },
    {
     "name": "stdout",
     "output_type": "stream",
     "text": [
      "> threshold=0.004449939820915461, features=151, gini coefficient=0.5697335825331711\n"
     ]
    },
    {
     "name": "stdout",
     "output_type": "stream",
     "text": [
      "> threshold=0.004473298322409391, features=150, gini coefficient=0.5737460517037127\n"
     ]
    },
    {
     "name": "stdout",
     "output_type": "stream",
     "text": [
      "> threshold=0.004613777156919241, features=149, gini coefficient=0.5668530175824832\n"
     ]
    },
    {
     "name": "stdout",
     "output_type": "stream",
     "text": [
      "> threshold=0.004633239004760981, features=148, gini coefficient=0.5678374132923605\n"
     ]
    },
    {
     "name": "stdout",
     "output_type": "stream",
     "text": [
      "> threshold=0.0046385168097913265, features=147, gini coefficient=0.5479669906523351\n"
     ]
    },
    {
     "name": "stdout",
     "output_type": "stream",
     "text": [
      "> threshold=0.004662254359573126, features=146, gini coefficient=0.5771210441874088\n"
     ]
    },
    {
     "name": "stdout",
     "output_type": "stream",
     "text": [
      "> threshold=0.004688958637416363, features=145, gini coefficient=0.5693329854572027\n"
     ]
    },
    {
     "name": "stdout",
     "output_type": "stream",
     "text": [
      "> threshold=0.0047373841516673565, features=144, gini coefficient=0.5722741406718345\n"
     ]
    },
    {
     "name": "stdout",
     "output_type": "stream",
     "text": [
      "> threshold=0.004740802571177483, features=143, gini coefficient=0.5814264982599073\n"
     ]
    },
    {
     "name": "stdout",
     "output_type": "stream",
     "text": [
      "> threshold=0.004819013178348541, features=142, gini coefficient=0.5682781193978624\n"
     ]
    },
    {
     "name": "stdout",
     "output_type": "stream",
     "text": [
      "> threshold=0.004864194430410862, features=141, gini coefficient=0.5741546156037967\n"
     ]
    },
    {
     "name": "stdout",
     "output_type": "stream",
     "text": [
      "> threshold=0.004925742279738188, features=140, gini coefficient=0.582926160519993\n"
     ]
    },
    {
     "name": "stdout",
     "output_type": "stream",
     "text": [
      "> threshold=0.004969388246536255, features=139, gini coefficient=0.5710942762725378\n"
     ]
    },
    {
     "name": "stdout",
     "output_type": "stream",
     "text": [
      "> threshold=0.00499144708737731, features=138, gini coefficient=0.5724385853234173\n"
     ]
    },
    {
     "name": "stdout",
     "output_type": "stream",
     "text": [
      "> threshold=0.0051085143350064754, features=137, gini coefficient=0.5707305835260782\n"
     ]
    },
    {
     "name": "stdout",
     "output_type": "stream",
     "text": [
      "> threshold=0.005132219288498163, features=136, gini coefficient=0.573955687410035\n"
     ]
    },
    {
     "name": "stdout",
     "output_type": "stream",
     "text": [
      "> threshold=0.005133416503667831, features=135, gini coefficient=0.5726877545370893\n"
     ]
    },
    {
     "name": "stdout",
     "output_type": "stream",
     "text": [
      "> threshold=0.005170547869056463, features=134, gini coefficient=0.572235889096536\n"
     ]
    },
    {
     "name": "stdout",
     "output_type": "stream",
     "text": [
      "> threshold=0.005187384318560362, features=133, gini coefficient=0.569649521201162\n"
     ]
    },
    {
     "name": "stdout",
     "output_type": "stream",
     "text": [
      "> threshold=0.005199833307415247, features=132, gini coefficient=0.5716153341122668\n"
     ]
    },
    {
     "name": "stdout",
     "output_type": "stream",
     "text": [
      "> threshold=0.005230223294347525, features=131, gini coefficient=0.5803305513488366\n"
     ]
    },
    {
     "name": "stdout",
     "output_type": "stream",
     "text": [
      "> threshold=0.0053194849751889706, features=130, gini coefficient=0.5768035428096522\n"
     ]
    },
    {
     "name": "stdout",
     "output_type": "stream",
     "text": [
      "> threshold=0.005355287343263626, features=129, gini coefficient=0.5608132635557325\n"
     ]
    },
    {
     "name": "stdout",
     "output_type": "stream",
     "text": [
      "> threshold=0.005490483250468969, features=128, gini coefficient=0.5671052655660823\n"
     ]
    },
    {
     "name": "stdout",
     "output_type": "stream",
     "text": [
      "> threshold=0.005554415751248598, features=127, gini coefficient=0.5618061729573842\n"
     ]
    },
    {
     "name": "stdout",
     "output_type": "stream",
     "text": [
      "> threshold=0.005625638645142317, features=126, gini coefficient=0.5797161045693979\n"
     ]
    },
    {
     "name": "stdout",
     "output_type": "stream",
     "text": [
      "> threshold=0.005653679370880127, features=125, gini coefficient=0.5821680772056527\n"
     ]
    },
    {
     "name": "stdout",
     "output_type": "stream",
     "text": [
      "> threshold=0.0056693959049880505, features=124, gini coefficient=0.5761045492874354\n"
     ]
    },
    {
     "name": "stdout",
     "output_type": "stream",
     "text": [
      "> threshold=0.005707904696464539, features=123, gini coefficient=0.5793327438955435\n"
     ]
    },
    {
     "name": "stdout",
     "output_type": "stream",
     "text": [
      "> threshold=0.00572822755202651, features=122, gini coefficient=0.5694839044048015\n"
     ]
    },
    {
     "name": "stdout",
     "output_type": "stream",
     "text": [
      "> threshold=0.005874099675565958, features=121, gini coefficient=0.581293842694743\n"
     ]
    },
    {
     "name": "stdout",
     "output_type": "stream",
     "text": [
      "> threshold=0.005902629345655441, features=120, gini coefficient=0.5784609258309193\n"
     ]
    },
    {
     "name": "stdout",
     "output_type": "stream",
     "text": [
      "> threshold=0.005973970051854849, features=119, gini coefficient=0.5693493348126958\n"
     ]
    },
    {
     "name": "stdout",
     "output_type": "stream",
     "text": [
      "> threshold=0.005995749030262232, features=118, gini coefficient=0.5648786150101505\n"
     ]
    },
    {
     "name": "stdout",
     "output_type": "stream",
     "text": [
      "> threshold=0.006076404359191656, features=117, gini coefficient=0.572152317101526\n"
     ]
    },
    {
     "name": "stdout",
     "output_type": "stream",
     "text": [
      "> threshold=0.006144905462861061, features=116, gini coefficient=0.5793441538280301\n"
     ]
    },
    {
     "name": "stdout",
     "output_type": "stream",
     "text": [
      "> threshold=0.006236834917217493, features=115, gini coefficient=0.5713885568340252\n"
     ]
    },
    {
     "name": "stdout",
     "output_type": "stream",
     "text": [
      "> threshold=0.006240867078304291, features=114, gini coefficient=0.576046705186605\n"
     ]
    },
    {
     "name": "stdout",
     "output_type": "stream",
     "text": [
      "> threshold=0.006267520133405924, features=113, gini coefficient=0.5786633071077213\n"
     ]
    },
    {
     "name": "stdout",
     "output_type": "stream",
     "text": [
      "> threshold=0.006429532077163458, features=112, gini coefficient=0.581114514231718\n"
     ]
    },
    {
     "name": "stdout",
     "output_type": "stream",
     "text": [
      "> threshold=0.006506106350570917, features=111, gini coefficient=0.5739270539438838\n"
     ]
    },
    {
     "name": "stdout",
     "output_type": "stream",
     "text": [
      "> threshold=0.0065118069760501385, features=110, gini coefficient=0.5790808086725968\n"
     ]
    },
    {
     "name": "stdout",
     "output_type": "stream",
     "text": [
      "> threshold=0.006642460357397795, features=109, gini coefficient=0.5832934332060227\n"
     ]
    },
    {
     "name": "stdout",
     "output_type": "stream",
     "text": [
      "> threshold=0.006644459441304207, features=108, gini coefficient=0.5727004552089038\n"
     ]
    },
    {
     "name": "stdout",
     "output_type": "stream",
     "text": [
      "> threshold=0.006660034880042076, features=107, gini coefficient=0.574564666977097\n"
     ]
    },
    {
     "name": "stdout",
     "output_type": "stream",
     "text": [
      "> threshold=0.0068364255130290985, features=106, gini coefficient=0.5847414995649102\n"
     ]
    },
    {
     "name": "stdout",
     "output_type": "stream",
     "text": [
      "> threshold=0.006846744567155838, features=105, gini coefficient=0.5836890967024214\n"
     ]
    },
    {
     "name": "stdout",
     "output_type": "stream",
     "text": [
      "> threshold=0.006847540382295847, features=104, gini coefficient=0.5710101612953006\n"
     ]
    },
    {
     "name": "stdout",
     "output_type": "stream",
     "text": [
      "> threshold=0.006890641059726477, features=103, gini coefficient=0.5813873022203427\n"
     ]
    },
    {
     "name": "stdout",
     "output_type": "stream",
     "text": [
      "> threshold=0.006945069879293442, features=102, gini coefficient=0.5817524503959522\n"
     ]
    },
    {
     "name": "stdout",
     "output_type": "stream",
     "text": [
      "> threshold=0.0069563910365104675, features=101, gini coefficient=0.5843317107132583\n"
     ]
    },
    {
     "name": "stdout",
     "output_type": "stream",
     "text": [
      "> threshold=0.007000407669693232, features=100, gini coefficient=0.5961205215395072\n"
     ]
    },
    {
     "name": "stdout",
     "output_type": "stream",
     "text": [
      "> threshold=0.007020773831754923, features=99, gini coefficient=0.5778477688504283\n"
     ]
    },
    {
     "name": "stdout",
     "output_type": "stream",
     "text": [
      "> threshold=0.00703399395570159, features=98, gini coefficient=0.5861489128772143\n"
     ]
    },
    {
     "name": "stdout",
     "output_type": "stream",
     "text": [
      "> threshold=0.007055127527564764, features=97, gini coefficient=0.5906256452503393\n"
     ]
    },
    {
     "name": "stdout",
     "output_type": "stream",
     "text": [
      "> threshold=0.0071210418827831745, features=96, gini coefficient=0.5951208680402158\n"
     ]
    },
    {
     "name": "stdout",
     "output_type": "stream",
     "text": [
      "> threshold=0.0071567147970199585, features=95, gini coefficient=0.5957296191686464\n"
     ]
    },
    {
     "name": "stdout",
     "output_type": "stream",
     "text": [
      "> threshold=0.007207285147160292, features=94, gini coefficient=0.5876039849944419\n"
     ]
    },
    {
     "name": "stdout",
     "output_type": "stream",
     "text": [
      "> threshold=0.007424390409141779, features=93, gini coefficient=0.5874697473903637\n"
     ]
    },
    {
     "name": "stdout",
     "output_type": "stream",
     "text": [
      "> threshold=0.0074660577811300755, features=92, gini coefficient=0.5814200884468658\n"
     ]
    },
    {
     "name": "stdout",
     "output_type": "stream",
     "text": [
      "> threshold=0.007539976853877306, features=91, gini coefficient=0.5970475278980972\n"
     ]
    },
    {
     "name": "stdout",
     "output_type": "stream",
     "text": [
      "> threshold=0.0075945183634757996, features=90, gini coefficient=0.5906751399299531\n"
     ]
    },
    {
     "name": "stdout",
     "output_type": "stream",
     "text": [
      "> threshold=0.007619307842105627, features=89, gini coefficient=0.5889404152536107\n"
     ]
    },
    {
     "name": "stdout",
     "output_type": "stream",
     "text": [
      "> threshold=0.007668586447834969, features=88, gini coefficient=0.5876325438048492\n"
     ]
    },
    {
     "name": "stdout",
     "output_type": "stream",
     "text": [
      "> threshold=0.007682096213102341, features=87, gini coefficient=0.5866738390803129\n"
     ]
    },
    {
     "name": "stdout",
     "output_type": "stream",
     "text": [
      "> threshold=0.007691490929573774, features=86, gini coefficient=0.5917091011058155\n"
     ]
    },
    {
     "name": "stdout",
     "output_type": "stream",
     "text": [
      "> threshold=0.0078008235432207584, features=85, gini coefficient=0.5826233769857527\n"
     ]
    },
    {
     "name": "stdout",
     "output_type": "stream",
     "text": [
      "> threshold=0.00782612431794405, features=84, gini coefficient=0.5951787385321217\n"
     ]
    },
    {
     "name": "stdout",
     "output_type": "stream",
     "text": [
      "> threshold=0.007827287539839745, features=83, gini coefficient=0.5911669606564126\n"
     ]
    },
    {
     "name": "stdout",
     "output_type": "stream",
     "text": [
      "> threshold=0.007863231003284454, features=82, gini coefficient=0.5801773829569926\n"
     ]
    },
    {
     "name": "stdout",
     "output_type": "stream",
     "text": [
      "> threshold=0.007891516201198101, features=81, gini coefficient=0.592591521066787\n"
     ]
    },
    {
     "name": "stdout",
     "output_type": "stream",
     "text": [
      "> threshold=0.00795585848391056, features=80, gini coefficient=0.5997501780732074\n"
     ]
    },
    {
     "name": "stdout",
     "output_type": "stream",
     "text": [
      "> threshold=0.00816857349127531, features=79, gini coefficient=0.5972872298968116\n"
     ]
    },
    {
     "name": "stdout",
     "output_type": "stream",
     "text": [
      "> threshold=0.008230005390942097, features=78, gini coefficient=0.5923615922001311\n"
     ]
    },
    {
     "name": "stdout",
     "output_type": "stream",
     "text": [
      "> threshold=0.00838877260684967, features=77, gini coefficient=0.5989629682434626\n"
     ]
    },
    {
     "name": "stdout",
     "output_type": "stream",
     "text": [
      "> threshold=0.00851780641824007, features=76, gini coefficient=0.598842946424988\n"
     ]
    },
    {
     "name": "stdout",
     "output_type": "stream",
     "text": [
      "> threshold=0.008621240966022015, features=75, gini coefficient=0.5944664519791949\n"
     ]
    },
    {
     "name": "stdout",
     "output_type": "stream",
     "text": [
      "> threshold=0.008626011200249195, features=74, gini coefficient=0.603557047775644\n"
     ]
    },
    {
     "name": "stdout",
     "output_type": "stream",
     "text": [
      "> threshold=0.008741124533116817, features=73, gini coefficient=0.6026880370663912\n"
     ]
    },
    {
     "name": "stdout",
     "output_type": "stream",
     "text": [
      "> threshold=0.009166368283331394, features=72, gini coefficient=0.6008028294397588\n"
     ]
    },
    {
     "name": "stdout",
     "output_type": "stream",
     "text": [
      "> threshold=0.009276602417230606, features=71, gini coefficient=0.601512472466362\n"
     ]
    },
    {
     "name": "stdout",
     "output_type": "stream",
     "text": [
      "> threshold=0.009337185882031918, features=70, gini coefficient=0.5923931772004736\n"
     ]
    },
    {
     "name": "stdout",
     "output_type": "stream",
     "text": [
      "> threshold=0.009496349841356277, features=69, gini coefficient=0.600301189374727\n"
     ]
    },
    {
     "name": "stdout",
     "output_type": "stream",
     "text": [
      "> threshold=0.009581576101481915, features=68, gini coefficient=0.5977679935443809\n"
     ]
    },
    {
     "name": "stdout",
     "output_type": "stream",
     "text": [
      "> threshold=0.009584993124008179, features=67, gini coefficient=0.5966197889684749\n"
     ]
    },
    {
     "name": "stdout",
     "output_type": "stream",
     "text": [
      "> threshold=0.009634333662688732, features=66, gini coefficient=0.589490578664815\n"
     ]
    },
    {
     "name": "stdout",
     "output_type": "stream",
     "text": [
      "> threshold=0.009738370776176453, features=65, gini coefficient=0.6072018445559343\n"
     ]
    },
    {
     "name": "stdout",
     "output_type": "stream",
     "text": [
      "> threshold=0.009744321927428246, features=64, gini coefficient=0.5959766616789653\n"
     ]
    },
    {
     "name": "stdout",
     "output_type": "stream",
     "text": [
      "> threshold=0.00974572729319334, features=63, gini coefficient=0.5938507551188853\n"
     ]
    },
    {
     "name": "stdout",
     "output_type": "stream",
     "text": [
      "> threshold=0.009753539226949215, features=62, gini coefficient=0.5953535632537108\n"
     ]
    },
    {
     "name": "stdout",
     "output_type": "stream",
     "text": [
      "> threshold=0.009900868870317936, features=61, gini coefficient=0.5973708851075615\n"
     ]
    },
    {
     "name": "stdout",
     "output_type": "stream",
     "text": [
      "> threshold=0.010212380439043045, features=60, gini coefficient=0.5950279802112625\n"
     ]
    },
    {
     "name": "stdout",
     "output_type": "stream",
     "text": [
      "> threshold=0.010254916734993458, features=59, gini coefficient=0.599633552414525\n"
     ]
    },
    {
     "name": "stdout",
     "output_type": "stream",
     "text": [
      "> threshold=0.01040880661457777, features=58, gini coefficient=0.5860039653949277\n"
     ]
    },
    {
     "name": "stdout",
     "output_type": "stream",
     "text": [
      "> threshold=0.010468214750289917, features=57, gini coefficient=0.6003275662981133\n"
     ]
    },
    {
     "name": "stdout",
     "output_type": "stream",
     "text": [
      "> threshold=0.010499601252377033, features=56, gini coefficient=0.5993309006598825\n"
     ]
    },
    {
     "name": "stdout",
     "output_type": "stream",
     "text": [
      "> threshold=0.010768796317279339, features=55, gini coefficient=0.589580489242313\n"
     ]
    },
    {
     "name": "stdout",
     "output_type": "stream",
     "text": [
      "> threshold=0.010772108100354671, features=54, gini coefficient=0.5978600449738356\n"
     ]
    },
    {
     "name": "stdout",
     "output_type": "stream",
     "text": [
      "> threshold=0.01085624098777771, features=53, gini coefficient=0.6041368415746116\n"
     ]
    },
    {
     "name": "stdout",
     "output_type": "stream",
     "text": [
      "> threshold=0.011027571745216846, features=52, gini coefficient=0.5964196375401049\n"
     ]
    },
    {
     "name": "stdout",
     "output_type": "stream",
     "text": [
      "> threshold=0.011113378219306469, features=51, gini coefficient=0.5842100895247956\n"
     ]
    },
    {
     "name": "stdout",
     "output_type": "stream",
     "text": [
      "> threshold=0.011313754133880138, features=50, gini coefficient=0.5983110743310373\n"
     ]
    },
    {
     "name": "stdout",
     "output_type": "stream",
     "text": [
      "> threshold=0.01142158079892397, features=49, gini coefficient=0.595240636839353\n"
     ]
    },
    {
     "name": "stdout",
     "output_type": "stream",
     "text": [
      "> threshold=0.011500105261802673, features=48, gini coefficient=0.5992323163616903\n"
     ]
    },
    {
     "name": "stdout",
     "output_type": "stream",
     "text": [
      "> threshold=0.011541715823113918, features=47, gini coefficient=0.5936416177889323\n"
     ]
    },
    {
     "name": "stdout",
     "output_type": "stream",
     "text": [
      "> threshold=0.011549645103514194, features=46, gini coefficient=0.5886406632664446\n"
     ]
    },
    {
     "name": "stdout",
     "output_type": "stream",
     "text": [
      "> threshold=0.011596444062888622, features=45, gini coefficient=0.5868044961056172\n"
     ]
    },
    {
     "name": "stdout",
     "output_type": "stream",
     "text": [
      "> threshold=0.011987894773483276, features=44, gini coefficient=0.5948656123684863\n"
     ]
    },
    {
     "name": "stdout",
     "output_type": "stream",
     "text": [
      "> threshold=0.01205234695225954, features=43, gini coefficient=0.5888156837504329\n"
     ]
    },
    {
     "name": "stdout",
     "output_type": "stream",
     "text": [
      "> threshold=0.01272590458393097, features=42, gini coefficient=0.5900332580600236\n"
     ]
    },
    {
     "name": "stdout",
     "output_type": "stream",
     "text": [
      "> threshold=0.012771587818861008, features=41, gini coefficient=0.5876618622350037\n"
     ]
    },
    {
     "name": "stdout",
     "output_type": "stream",
     "text": [
      "> threshold=0.012829196639358997, features=40, gini coefficient=0.598759353709525\n"
     ]
    },
    {
     "name": "stdout",
     "output_type": "stream",
     "text": [
      "> threshold=0.013426546938717365, features=39, gini coefficient=0.5884968613342001\n"
     ]
    },
    {
     "name": "stdout",
     "output_type": "stream",
     "text": [
      "> threshold=0.01381151657551527, features=38, gini coefficient=0.6002614989757142\n"
     ]
    },
    {
     "name": "stdout",
     "output_type": "stream",
     "text": [
      "> threshold=0.013860284350812435, features=37, gini coefficient=0.595370642927598\n"
     ]
    },
    {
     "name": "stdout",
     "output_type": "stream",
     "text": [
      "> threshold=0.014004967175424099, features=36, gini coefficient=0.5878505641930664\n"
     ]
    },
    {
     "name": "stdout",
     "output_type": "stream",
     "text": [
      "> threshold=0.014047312550246716, features=35, gini coefficient=0.5964562957260682\n"
     ]
    },
    {
     "name": "stdout",
     "output_type": "stream",
     "text": [
      "> threshold=0.014325511641800404, features=34, gini coefficient=0.597765869240112\n"
     ]
    },
    {
     "name": "stdout",
     "output_type": "stream",
     "text": [
      "> threshold=0.014744254760444164, features=33, gini coefficient=0.5915901880674131\n"
     ]
    },
    {
     "name": "stdout",
     "output_type": "stream",
     "text": [
      "> threshold=0.015851832926273346, features=32, gini coefficient=0.5939001127741015\n"
     ]
    },
    {
     "name": "stdout",
     "output_type": "stream",
     "text": [
      "> threshold=0.016194632276892662, features=31, gini coefficient=0.5905080451015782\n"
     ]
    },
    {
     "name": "stdout",
     "output_type": "stream",
     "text": [
      "> threshold=0.016867918893694878, features=30, gini coefficient=0.5894354709214736\n"
     ]
    },
    {
     "name": "stdout",
     "output_type": "stream",
     "text": [
      "> threshold=0.017527977004647255, features=29, gini coefficient=0.5838194513493207\n"
     ]
    },
    {
     "name": "stdout",
     "output_type": "stream",
     "text": [
      "> threshold=0.018748274073004723, features=28, gini coefficient=0.5849923771457176\n"
     ]
    },
    {
     "name": "stdout",
     "output_type": "stream",
     "text": [
      "> threshold=0.019219864159822464, features=27, gini coefficient=0.593443357726769\n"
     ]
    },
    {
     "name": "stdout",
     "output_type": "stream",
     "text": [
      "> threshold=0.020304864272475243, features=26, gini coefficient=0.577350919069341\n"
     ]
    },
    {
     "name": "stdout",
     "output_type": "stream",
     "text": [
      "> threshold=0.020452329888939857, features=25, gini coefficient=0.58499699134985\n"
     ]
    },
    {
     "name": "stdout",
     "output_type": "stream",
     "text": [
      "> threshold=0.020571405068039894, features=24, gini coefficient=0.5924743694836675\n"
     ]
    },
    {
     "name": "stdout",
     "output_type": "stream",
     "text": [
      "> threshold=0.021438026800751686, features=23, gini coefficient=0.5917607158635853\n"
     ]
    },
    {
     "name": "stdout",
     "output_type": "stream",
     "text": [
      "> threshold=0.02221723459661007, features=22, gini coefficient=0.588634274066442\n"
     ]
    },
    {
     "name": "stdout",
     "output_type": "stream",
     "text": [
      "> threshold=0.022489316761493683, features=21, gini coefficient=0.5900439231062038\n"
     ]
    },
    {
     "name": "stdout",
     "output_type": "stream",
     "text": [
      "> threshold=0.022661084309220314, features=20, gini coefficient=0.5914711116993873\n"
     ]
    },
    {
     "name": "stdout",
     "output_type": "stream",
     "text": [
      "> threshold=0.022920632734894753, features=19, gini coefficient=0.5885574755814588\n"
     ]
    },
    {
     "name": "stdout",
     "output_type": "stream",
     "text": [
      "> threshold=0.02294790744781494, features=18, gini coefficient=0.5927809871150743\n"
     ]
    },
    {
     "name": "stdout",
     "output_type": "stream",
     "text": [
      "> threshold=0.025476306676864624, features=17, gini coefficient=0.5906738081028987\n"
     ]
    },
    {
     "name": "stdout",
     "output_type": "stream",
     "text": [
      "> threshold=0.026569707319140434, features=16, gini coefficient=0.5929184643614741\n"
     ]
    },
    {
     "name": "stdout",
     "output_type": "stream",
     "text": [
      "> threshold=0.02799168787896633, features=15, gini coefficient=0.5871674336197087\n"
     ]
    },
    {
     "name": "stdout",
     "output_type": "stream",
     "text": [
      "> threshold=0.03147135674953461, features=14, gini coefficient=0.5881082672895572\n"
     ]
    },
    {
     "name": "stdout",
     "output_type": "stream",
     "text": [
      "> threshold=0.03279457613825798, features=13, gini coefficient=0.577680689374105\n"
     ]
    },
    {
     "name": "stdout",
     "output_type": "stream",
     "text": [
      "> threshold=0.034198928624391556, features=12, gini coefficient=0.5813843038142277\n"
     ]
    },
    {
     "name": "stdout",
     "output_type": "stream",
     "text": [
      "> threshold=0.03975220397114754, features=11, gini coefficient=0.5687604073155045\n"
     ]
    },
    {
     "name": "stdout",
     "output_type": "stream",
     "text": [
      "> threshold=0.03998669981956482, features=10, gini coefficient=0.5672159404040324\n"
     ]
    },
    {
     "name": "stdout",
     "output_type": "stream",
     "text": [
      "> threshold=0.04274313524365425, features=9, gini coefficient=0.5750804484798704\n"
     ]
    },
    {
     "name": "stdout",
     "output_type": "stream",
     "text": [
      "> threshold=0.043199826031923294, features=8, gini coefficient=0.5707718529818657\n"
     ]
    },
    {
     "name": "stdout",
     "output_type": "stream",
     "text": [
      "> threshold=0.05247526243329048, features=7, gini coefficient=0.5721134694754436\n"
     ]
    },
    {
     "name": "stdout",
     "output_type": "stream",
     "text": [
      "> threshold=0.05567624047398567, features=6, gini coefficient=0.5765442770023356\n"
     ]
    },
    {
     "name": "stdout",
     "output_type": "stream",
     "text": [
      "> threshold=0.07079635560512543, features=5, gini coefficient=0.5707414388292014\n"
     ]
    },
    {
     "name": "stdout",
     "output_type": "stream",
     "text": [
      "> threshold=0.07178554683923721, features=4, gini coefficient=0.5612857849024635\n"
     ]
    },
    {
     "name": "stdout",
     "output_type": "stream",
     "text": [
      "> threshold=0.07425666600465775, features=3, gini coefficient=0.5543309621505376\n"
     ]
    },
    {
     "name": "stdout",
     "output_type": "stream",
     "text": [
      "> threshold=0.23236723244190216, features=2, gini coefficient=0.4332027812235215\n"
     ]
    },
    {
     "name": "stdout",
     "output_type": "stream",
     "text": [
      "> threshold=0.2606959640979767, features=1, gini coefficient=0.35898195970540553\n"
     ]
    },
    {
     "data": {
      "image/png": "[encoded data removed]",
      "text/plain": [
       "<Figure size 800x600 with 1 Axes>"
      ]
     },
     "metadata": {},
     "output_type": "display_data"
    },
    {
     "name": "stdout",
     "output_type": "stream",
     "text": [
      "Optimal Threshold: 0.0096\n",
      "Number of Selected Features: 65\n",
      "Gini coef at Optimal Threshold: 0.6072\n",
      "\n",
      "\n",
      "Selected features are: \n",
      "\n",
      "ampl_score  del_score  mean.GC.content  total_n_partners.trans  total_n_ohnologs.mmpaper_trans\n",
      "dist.to.closest.FGS  Length_Counts.E1  Length_Counts.E12  Length_Counts.E13  Length_Counts.E14\n",
      "Length_Counts.E15  Length_Counts.E16  Length_Counts.E17  Length_Counts.E18  Length_Counts.E2\n",
      "Length_Counts.E21  Length_Counts.E22  Length_Counts.E23  Length_Counts.E25  Length_Counts.E3\n",
      "Length_Counts.E4  Length_Counts.E5  Length_Counts.E8  all.int.trans_IntINSIDER  genes.bin\n",
      "partners.trans  dist.to.closest.OG  dist.to.closest.TSG  distance.to.centromere  distance.to.telomere\n",
      "Density.complex.proteins  Centromere_Length  20_18  22_37  16_87\n",
      "2_15  8_50  9_10  10_123  22_40\n",
      "7_82  9_91  1_237  6_163  7_45\n",
      "7_22  8_43  7_139  2_108  17_57\n",
      "1_121  11_88  7_84  1_236  2_197\n",
      "12_17  8_52  6_82  11_80  20_24\n",
      "11_66  8_82  20_36  11_87  log2smoothed\n",
      "\n",
      "\n",
      "Discarded features are: \n",
      "\n",
      "total_n_PPIs.trans_IntINSIDER  total_n_paralogs_trans  Length_Counts.E10  Length_Counts.E11  Length_Counts.E19\n",
      "Length_Counts.E20  Length_Counts.E24  Length_Counts.E6  Length_Counts.E7  Length_Counts.E9\n",
      "density.OG  density.TSG  mutations_norm  Ess.distance_pancancer  ESSscore_pancancer\n",
      "HAPLOscore_pancancer  Density.Ohnologs  Chromosome_Length  Centromere_Type  3_93\n",
      "20_51  12_117  6_9  20_50  9_98\n",
      "9_53  7_158  19_18  17_44  17_36\n",
      "11_78  7_17  12_116  7_89  11_74\n",
      "22_39  4_27  8_30  22_43  11_77\n",
      "9_52  8_29  9_89  7_159  4_30\n",
      "20_6  9_51  4_28  8_31  20_49\n",
      "8_4  1_238  19_56  6_135  7_156\n",
      "8_84  7_86  7_52  7_87  9_73\n",
      "1_234  13_33  6_136  8_71  7_104\n",
      "13_30  6_23  9_90  17_37  9_99\n",
      "8_70  9_92  7_50  22_41  13_29\n",
      "4_154  22_42  22_35  15_13  11_73\n",
      "12_13  20_52  9_85  8_32  16_31\n",
      "11_85  4_31  4_93  11_54  1_239\n",
      "8_8  16_82  7_138  7_83  7_20\n",
      "1_235  7_51  1_123  7_18  7_155\n",
      "7_85  7_54  7_53  20_53  4_29\n",
      "4_185  9_88  17_38  4_33  3_182\n",
      "2_196  1_122  20_41  1_59  8_83\n",
      "3_35  9_8  1_107  13_17  4_159\n",
      "11_79  20_5  22_51  11_84  4_34\n",
      "9_111  9_110  11_67  8_33  20_26\n",
      "13_18  1_61  3_95  6_24  7_3\n",
      "8_72  1_60  11_72  20_42  9_9\n",
      "8_44  1_58  3_155  12_115  1_108\n",
      "7_21  12_126  7_25  6_53  8_85\n",
      "11_86  1_120  9_71  19_19  1_13\n",
      "7_59  12_16  10_122  20_20  1_119\n",
      "7_58  20_27  12_70  7_19  7_154\n",
      "16_43  12_19  7_5  7_41  6_137\n",
      "8_34  9_82  22_50  12_22  8_66\n",
      "1_118  19_20  11_8  16_4  6_25\n",
      "16_48  9_70  3_156  7_57  8_69\n",
      "11_89  2_23\n"
     ]
    }
   ],
   "source": [
    "feature_names = model.feature_names_in_\n",
    "feature_importances_shap = np.mean(np.mean(np.abs(explainer.shap_values(X_train)), axis = 0),axis = 1)\n",
    "\n",
    "X_train_reduced, X_test_reduced, selected_features = feature_selector_shap(feature_names, feature_importances_shap, \n",
    "                                                                            model, X_train, X_test, y_train, \n",
    "                                                                            inner_cv = inner_cv,\n",
    "                                                                            plot = True, verbose = True)"
   ]
  },
  {
   "cell_type": "code",
   "execution_count": 35,
   "id": "0f59df93",
   "metadata": {
    "execution": {
     "iopub.execute_input": "2025-06-07T04:29:10.309570Z",
     "iopub.status.busy": "2025-06-07T04:29:10.308940Z",
     "iopub.status.idle": "2025-06-07T04:29:10.314233Z",
     "shell.execute_reply": "2025-06-07T04:29:10.313451Z"
    },
    "papermill": {
     "duration": 0.022953,
     "end_time": "2025-06-07T04:29:10.314869",
     "exception": false,
     "start_time": "2025-06-07T04:29:10.291916",
     "status": "completed"
    },
    "tags": []
   },
   "outputs": [],
   "source": [
    "features_to_discard = [feature for feature in selected_features if feature not in selected_features_in_at_least_one_cv]"
   ]
  },
  {
   "cell_type": "code",
   "execution_count": 36,
   "id": "e72f306d",
   "metadata": {
    "execution": {
     "iopub.execute_input": "2025-06-07T04:29:10.350685Z",
     "iopub.status.busy": "2025-06-07T04:29:10.349929Z",
     "iopub.status.idle": "2025-06-07T04:29:10.356840Z",
     "shell.execute_reply": "2025-06-07T04:29:10.356157Z"
    },
    "papermill": {
     "duration": 0.026084,
     "end_time": "2025-06-07T04:29:10.357534",
     "exception": false,
     "start_time": "2025-06-07T04:29:10.331450",
     "status": "completed"
    },
    "tags": []
   },
   "outputs": [
    {
     "name": "stdout",
     "output_type": "stream",
     "text": [
      "Dropping columns never selected during Nested Cross Validation: ['total_n_partners.trans', 'partners.trans', 'Density.complex.proteins', '20_18', '22_37', '16_87', '9_10', '10_123', '1_237', '7_22', '7_139', '1_121', '1_236', '12_17', '8_52', '6_82', '8_82', '11_87']\n"
     ]
    }
   ],
   "source": [
    "print(f\"Dropping columns never selected during Nested Cross Validation: {features_to_discard}\")"
   ]
  },
  {
   "cell_type": "code",
   "execution_count": 37,
   "id": "1faba9d5",
   "metadata": {
    "execution": {
     "iopub.execute_input": "2025-06-07T04:29:10.389917Z",
     "iopub.status.busy": "2025-06-07T04:29:10.389162Z",
     "iopub.status.idle": "2025-06-07T04:29:10.396896Z",
     "shell.execute_reply": "2025-06-07T04:29:10.395923Z"
    },
    "papermill": {
     "duration": 0.02309,
     "end_time": "2025-06-07T04:29:10.397602",
     "exception": false,
     "start_time": "2025-06-07T04:29:10.374512",
     "status": "completed"
    },
    "tags": []
   },
   "outputs": [],
   "source": [
    "X_train_reduced = X_train_reduced.drop(features_to_discard, axis = 1)\n",
    "X_test_reduced = X_test_reduced.drop(features_to_discard, axis = 1)"
   ]
  },
  {
   "cell_type": "code",
   "execution_count": 38,
   "id": "a291f82c",
   "metadata": {
    "execution": {
     "iopub.execute_input": "2025-06-07T04:29:10.429821Z",
     "iopub.status.busy": "2025-06-07T04:29:10.429058Z",
     "iopub.status.idle": "2025-06-07T04:50:51.139174Z",
     "shell.execute_reply": "2025-06-07T04:50:51.138439Z"
    },
    "papermill": {
     "duration": 1300.740093,
     "end_time": "2025-06-07T04:50:51.153302",
     "exception": false,
     "start_time": "2025-06-07T04:29:10.413209",
     "status": "completed"
    },
    "tags": []
   },
   "outputs": [
    {
     "data": {
      "text/html": [
       "<style>#sk-container-id-2 {\n",
       "  /* Definition of color scheme common for light and dark mode */\n",
       "  --sklearn-color-text: #000;\n",
       "  --sklearn-color-text-muted: #666;\n",
       "  --sklearn-color-line: gray;\n",
       "  /* Definition of color scheme for unfitted estimators */\n",
       "  --sklearn-color-unfitted-level-0: #fff5e6;\n",
       "  --sklearn-color-unfitted-level-1: #f6e4d2;\n",
       "  --sklearn-color-unfitted-level-2: #ffe0b3;\n",
       "  --sklearn-color-unfitted-level-3: chocolate;\n",
       "  /* Definition of color scheme for fitted estimators */\n",
       "  --sklearn-color-fitted-level-0: #f0f8ff;\n",
       "  --sklearn-color-fitted-level-1: #d4ebff;\n",
       "  --sklearn-color-fitted-level-2: #b3dbfd;\n",
       "  --sklearn-color-fitted-level-3: cornflowerblue;\n",
       "\n",
       "  /* Specific color for light theme */\n",
       "  --sklearn-color-text-on-default-background: var(--sg-text-color, var(--theme-code-foreground, var(--jp-content-font-color1, black)));\n",
       "  --sklearn-color-background: var(--sg-background-color, var(--theme-background, var(--jp-layout-color0, white)));\n",
       "  --sklearn-color-border-box: var(--sg-text-color, var(--theme-code-foreground, var(--jp-content-font-color1, black)));\n",
       "  --sklearn-color-icon: #696969;\n",
       "\n",
       "  @media (prefers-color-scheme: dark) {\n",
       "    /* Redefinition of color scheme for dark theme */\n",
       "    --sklearn-color-text-on-default-background: var(--sg-text-color, var(--theme-code-foreground, var(--jp-content-font-color1, white)));\n",
       "    --sklearn-color-background: var(--sg-background-color, var(--theme-background, var(--jp-layout-color0, #111)));\n",
       "    --sklearn-color-border-box: var(--sg-text-color, var(--theme-code-foreground, var(--jp-content-font-color1, white)));\n",
       "    --sklearn-color-icon: #878787;\n",
       "  }\n",
       "}\n",
       "\n",
       "#sk-container-id-2 {\n",
       "  color: var(--sklearn-color-text);\n",
       "}\n",
       "\n",
       "#sk-container-id-2 pre {\n",
       "  padding: 0;\n",
       "}\n",
       "\n",
       "#sk-container-id-2 input.sk-hidden--visually {\n",
       "  border: 0;\n",
       "  clip: rect(1px 1px 1px 1px);\n",
       "  clip: rect(1px, 1px, 1px, 1px);\n",
       "  height: 1px;\n",
       "  margin: -1px;\n",
       "  overflow: hidden;\n",
       "  padding: 0;\n",
       "  position: absolute;\n",
       "  width: 1px;\n",
       "}\n",
       "\n",
       "#sk-container-id-2 div.sk-dashed-wrapped {\n",
       "  border: 1px dashed var(--sklearn-color-line);\n",
       "  margin: 0 0.4em 0.5em 0.4em;\n",
       "  box-sizing: border-box;\n",
       "  padding-bottom: 0.4em;\n",
       "  background-color: var(--sklearn-color-background);\n",
       "}\n",
       "\n",
       "#sk-container-id-2 div.sk-container {\n",
       "  /* jupyter's `normalize.less` sets `[hidden] { display: none; }`\n",
       "     but bootstrap.min.css set `[hidden] { display: none !important; }`\n",
       "     so we also need the `!important` here to be able to override the\n",
       "     default hidden behavior on the sphinx rendered scikit-learn.org.\n",
       "     See: https://github.com/scikit-learn/scikit-learn/issues/21755 */\n",
       "  display: inline-block !important;\n",
       "  position: relative;\n",
       "}\n",
       "\n",
       "#sk-container-id-2 div.sk-text-repr-fallback {\n",
       "  display: none;\n",
       "}\n",
       "\n",
       "div.sk-parallel-item,\n",
       "div.sk-serial,\n",
       "div.sk-item {\n",
       "  /* draw centered vertical line to link estimators */\n",
       "  background-image: linear-gradient(var(--sklearn-color-text-on-default-background), var(--sklearn-color-text-on-default-background));\n",
       "  background-size: 2px 100%;\n",
       "  background-repeat: no-repeat;\n",
       "  background-position: center center;\n",
       "}\n",
       "\n",
       "/* Parallel-specific style estimator block */\n",
       "\n",
       "#sk-container-id-2 div.sk-parallel-item::after {\n",
       "  content: \"\";\n",
       "  width: 100%;\n",
       "  border-bottom: 2px solid var(--sklearn-color-text-on-default-background);\n",
       "  flex-grow: 1;\n",
       "}\n",
       "\n",
       "#sk-container-id-2 div.sk-parallel {\n",
       "  display: flex;\n",
       "  align-items: stretch;\n",
       "  justify-content: center;\n",
       "  background-color: var(--sklearn-color-background);\n",
       "  position: relative;\n",
       "}\n",
       "\n",
       "#sk-container-id-2 div.sk-parallel-item {\n",
       "  display: flex;\n",
       "  flex-direction: column;\n",
       "}\n",
       "\n",
       "#sk-container-id-2 div.sk-parallel-item:first-child::after {\n",
       "  align-self: flex-end;\n",
       "  width: 50%;\n",
       "}\n",
       "\n",
       "#sk-container-id-2 div.sk-parallel-item:last-child::after {\n",
       "  align-self: flex-start;\n",
       "  width: 50%;\n",
       "}\n",
       "\n",
       "#sk-container-id-2 div.sk-parallel-item:only-child::after {\n",
       "  width: 0;\n",
       "}\n",
       "\n",
       "/* Serial-specific style estimator block */\n",
       "\n",
       "#sk-container-id-2 div.sk-serial {\n",
       "  display: flex;\n",
       "  flex-direction: column;\n",
       "  align-items: center;\n",
       "  background-color: var(--sklearn-color-background);\n",
       "  padding-right: 1em;\n",
       "  padding-left: 1em;\n",
       "}\n",
       "\n",
       "\n",
       "/* Toggleable style: style used for estimator/Pipeline/ColumnTransformer box that is\n",
       "clickable and can be expanded/collapsed.\n",
       "- Pipeline and ColumnTransformer use this feature and define the default style\n",
       "- Estimators will overwrite some part of the style using the `sk-estimator` class\n",
       "*/\n",
       "\n",
       "/* Pipeline and ColumnTransformer style (default) */\n",
       "\n",
       "#sk-container-id-2 div.sk-toggleable {\n",
       "  /* Default theme specific background. It is overwritten whether we have a\n",
       "  specific estimator or a Pipeline/ColumnTransformer */\n",
       "  background-color: var(--sklearn-color-background);\n",
       "}\n",
       "\n",
       "/* Toggleable label */\n",
       "#sk-container-id-2 label.sk-toggleable__label {\n",
       "  cursor: pointer;\n",
       "  display: flex;\n",
       "  width: 100%;\n",
       "  margin-bottom: 0;\n",
       "  padding: 0.5em;\n",
       "  box-sizing: border-box;\n",
       "  text-align: center;\n",
       "  align-items: start;\n",
       "  justify-content: space-between;\n",
       "  gap: 0.5em;\n",
       "}\n",
       "\n",
       "#sk-container-id-2 label.sk-toggleable__label .caption {\n",
       "  font-size: 0.6rem;\n",
       "  font-weight: lighter;\n",
       "  color: var(--sklearn-color-text-muted);\n",
       "}\n",
       "\n",
       "#sk-container-id-2 label.sk-toggleable__label-arrow:before {\n",
       "  /* Arrow on the left of the label */\n",
       "  content: \"▸\";\n",
       "  float: left;\n",
       "  margin-right: 0.25em;\n",
       "  color: var(--sklearn-color-icon);\n",
       "}\n",
       "\n",
       "#sk-container-id-2 label.sk-toggleable__label-arrow:hover:before {\n",
       "  color: var(--sklearn-color-text);\n",
       "}\n",
       "\n",
       "/* Toggleable content - dropdown */\n",
       "\n",
       "#sk-container-id-2 div.sk-toggleable__content {\n",
       "  max-height: 0;\n",
       "  max-width: 0;\n",
       "  overflow: hidden;\n",
       "  text-align: left;\n",
       "  /* unfitted */\n",
       "  background-color: var(--sklearn-color-unfitted-level-0);\n",
       "}\n",
       "\n",
       "#sk-container-id-2 div.sk-toggleable__content.fitted {\n",
       "  /* fitted */\n",
       "  background-color: var(--sklearn-color-fitted-level-0);\n",
       "}\n",
       "\n",
       "#sk-container-id-2 div.sk-toggleable__content pre {\n",
       "  margin: 0.2em;\n",
       "  border-radius: 0.25em;\n",
       "  color: var(--sklearn-color-text);\n",
       "  /* unfitted */\n",
       "  background-color: var(--sklearn-color-unfitted-level-0);\n",
       "}\n",
       "\n",
       "#sk-container-id-2 div.sk-toggleable__content.fitted pre {\n",
       "  /* unfitted */\n",
       "  background-color: var(--sklearn-color-fitted-level-0);\n",
       "}\n",
       "\n",
       "#sk-container-id-2 input.sk-toggleable__control:checked~div.sk-toggleable__content {\n",
       "  /* Expand drop-down */\n",
       "  max-height: 200px;\n",
       "  max-width: 100%;\n",
       "  overflow: auto;\n",
       "}\n",
       "\n",
       "#sk-container-id-2 input.sk-toggleable__control:checked~label.sk-toggleable__label-arrow:before {\n",
       "  content: \"▾\";\n",
       "}\n",
       "\n",
       "/* Pipeline/ColumnTransformer-specific style */\n",
       "\n",
       "#sk-container-id-2 div.sk-label input.sk-toggleable__control:checked~label.sk-toggleable__label {\n",
       "  color: var(--sklearn-color-text);\n",
       "  background-color: var(--sklearn-color-unfitted-level-2);\n",
       "}\n",
       "\n",
       "#sk-container-id-2 div.sk-label.fitted input.sk-toggleable__control:checked~label.sk-toggleable__label {\n",
       "  background-color: var(--sklearn-color-fitted-level-2);\n",
       "}\n",
       "\n",
       "/* Estimator-specific style */\n",
       "\n",
       "/* Colorize estimator box */\n",
       "#sk-container-id-2 div.sk-estimator input.sk-toggleable__control:checked~label.sk-toggleable__label {\n",
       "  /* unfitted */\n",
       "  background-color: var(--sklearn-color-unfitted-level-2);\n",
       "}\n",
       "\n",
       "#sk-container-id-2 div.sk-estimator.fitted input.sk-toggleable__control:checked~label.sk-toggleable__label {\n",
       "  /* fitted */\n",
       "  background-color: var(--sklearn-color-fitted-level-2);\n",
       "}\n",
       "\n",
       "#sk-container-id-2 div.sk-label label.sk-toggleable__label,\n",
       "#sk-container-id-2 div.sk-label label {\n",
       "  /* The background is the default theme color */\n",
       "  color: var(--sklearn-color-text-on-default-background);\n",
       "}\n",
       "\n",
       "/* On hover, darken the color of the background */\n",
       "#sk-container-id-2 div.sk-label:hover label.sk-toggleable__label {\n",
       "  color: var(--sklearn-color-text);\n",
       "  background-color: var(--sklearn-color-unfitted-level-2);\n",
       "}\n",
       "\n",
       "/* Label box, darken color on hover, fitted */\n",
       "#sk-container-id-2 div.sk-label.fitted:hover label.sk-toggleable__label.fitted {\n",
       "  color: var(--sklearn-color-text);\n",
       "  background-color: var(--sklearn-color-fitted-level-2);\n",
       "}\n",
       "\n",
       "/* Estimator label */\n",
       "\n",
       "#sk-container-id-2 div.sk-label label {\n",
       "  font-family: monospace;\n",
       "  font-weight: bold;\n",
       "  display: inline-block;\n",
       "  line-height: 1.2em;\n",
       "}\n",
       "\n",
       "#sk-container-id-2 div.sk-label-container {\n",
       "  text-align: center;\n",
       "}\n",
       "\n",
       "/* Estimator-specific */\n",
       "#sk-container-id-2 div.sk-estimator {\n",
       "  font-family: monospace;\n",
       "  border: 1px dotted var(--sklearn-color-border-box);\n",
       "  border-radius: 0.25em;\n",
       "  box-sizing: border-box;\n",
       "  margin-bottom: 0.5em;\n",
       "  /* unfitted */\n",
       "  background-color: var(--sklearn-color-unfitted-level-0);\n",
       "}\n",
       "\n",
       "#sk-container-id-2 div.sk-estimator.fitted {\n",
       "  /* fitted */\n",
       "  background-color: var(--sklearn-color-fitted-level-0);\n",
       "}\n",
       "\n",
       "/* on hover */\n",
       "#sk-container-id-2 div.sk-estimator:hover {\n",
       "  /* unfitted */\n",
       "  background-color: var(--sklearn-color-unfitted-level-2);\n",
       "}\n",
       "\n",
       "#sk-container-id-2 div.sk-estimator.fitted:hover {\n",
       "  /* fitted */\n",
       "  background-color: var(--sklearn-color-fitted-level-2);\n",
       "}\n",
       "\n",
       "/* Specification for estimator info (e.g. \"i\" and \"?\") */\n",
       "\n",
       "/* Common style for \"i\" and \"?\" */\n",
       "\n",
       ".sk-estimator-doc-link,\n",
       "a:link.sk-estimator-doc-link,\n",
       "a:visited.sk-estimator-doc-link {\n",
       "  float: right;\n",
       "  font-size: smaller;\n",
       "  line-height: 1em;\n",
       "  font-family: monospace;\n",
       "  background-color: var(--sklearn-color-background);\n",
       "  border-radius: 1em;\n",
       "  height: 1em;\n",
       "  width: 1em;\n",
       "  text-decoration: none !important;\n",
       "  margin-left: 0.5em;\n",
       "  text-align: center;\n",
       "  /* unfitted */\n",
       "  border: var(--sklearn-color-unfitted-level-1) 1pt solid;\n",
       "  color: var(--sklearn-color-unfitted-level-1);\n",
       "}\n",
       "\n",
       ".sk-estimator-doc-link.fitted,\n",
       "a:link.sk-estimator-doc-link.fitted,\n",
       "a:visited.sk-estimator-doc-link.fitted {\n",
       "  /* fitted */\n",
       "  border: var(--sklearn-color-fitted-level-1) 1pt solid;\n",
       "  color: var(--sklearn-color-fitted-level-1);\n",
       "}\n",
       "\n",
       "/* On hover */\n",
       "div.sk-estimator:hover .sk-estimator-doc-link:hover,\n",
       ".sk-estimator-doc-link:hover,\n",
       "div.sk-label-container:hover .sk-estimator-doc-link:hover,\n",
       ".sk-estimator-doc-link:hover {\n",
       "  /* unfitted */\n",
       "  background-color: var(--sklearn-color-unfitted-level-3);\n",
       "  color: var(--sklearn-color-background);\n",
       "  text-decoration: none;\n",
       "}\n",
       "\n",
       "div.sk-estimator.fitted:hover .sk-estimator-doc-link.fitted:hover,\n",
       ".sk-estimator-doc-link.fitted:hover,\n",
       "div.sk-label-container:hover .sk-estimator-doc-link.fitted:hover,\n",
       ".sk-estimator-doc-link.fitted:hover {\n",
       "  /* fitted */\n",
       "  background-color: var(--sklearn-color-fitted-level-3);\n",
       "  color: var(--sklearn-color-background);\n",
       "  text-decoration: none;\n",
       "}\n",
       "\n",
       "/* Span, style for the box shown on hovering the info icon */\n",
       ".sk-estimator-doc-link span {\n",
       "  display: none;\n",
       "  z-index: 9999;\n",
       "  position: relative;\n",
       "  font-weight: normal;\n",
       "  right: .2ex;\n",
       "  padding: .5ex;\n",
       "  margin: .5ex;\n",
       "  width: min-content;\n",
       "  min-width: 20ex;\n",
       "  max-width: 50ex;\n",
       "  color: var(--sklearn-color-text);\n",
       "  box-shadow: 2pt 2pt 4pt #999;\n",
       "  /* unfitted */\n",
       "  background: var(--sklearn-color-unfitted-level-0);\n",
       "  border: .5pt solid var(--sklearn-color-unfitted-level-3);\n",
       "}\n",
       "\n",
       ".sk-estimator-doc-link.fitted span {\n",
       "  /* fitted */\n",
       "  background: var(--sklearn-color-fitted-level-0);\n",
       "  border: var(--sklearn-color-fitted-level-3);\n",
       "}\n",
       "\n",
       ".sk-estimator-doc-link:hover span {\n",
       "  display: block;\n",
       "}\n",
       "\n",
       "/* \"?\"-specific style due to the `<a>` HTML tag */\n",
       "\n",
       "#sk-container-id-2 a.estimator_doc_link {\n",
       "  float: right;\n",
       "  font-size: 1rem;\n",
       "  line-height: 1em;\n",
       "  font-family: monospace;\n",
       "  background-color: var(--sklearn-color-background);\n",
       "  border-radius: 1rem;\n",
       "  height: 1rem;\n",
       "  width: 1rem;\n",
       "  text-decoration: none;\n",
       "  /* unfitted */\n",
       "  color: var(--sklearn-color-unfitted-level-1);\n",
       "  border: var(--sklearn-color-unfitted-level-1) 1pt solid;\n",
       "}\n",
       "\n",
       "#sk-container-id-2 a.estimator_doc_link.fitted {\n",
       "  /* fitted */\n",
       "  border: var(--sklearn-color-fitted-level-1) 1pt solid;\n",
       "  color: var(--sklearn-color-fitted-level-1);\n",
       "}\n",
       "\n",
       "/* On hover */\n",
       "#sk-container-id-2 a.estimator_doc_link:hover {\n",
       "  /* unfitted */\n",
       "  background-color: var(--sklearn-color-unfitted-level-3);\n",
       "  color: var(--sklearn-color-background);\n",
       "  text-decoration: none;\n",
       "}\n",
       "\n",
       "#sk-container-id-2 a.estimator_doc_link.fitted:hover {\n",
       "  /* fitted */\n",
       "  background-color: var(--sklearn-color-fitted-level-3);\n",
       "}\n",
       "</style><div id=\"sk-container-id-2\" class=\"sk-top-container\"><div class=\"sk-text-repr-fallback\"><pre>RandomizedSearchCV(cv=3,\n",
       "                   estimator=XGBClassifier(base_score=None, booster=&#x27;gbtree&#x27;,\n",
       "                                           callbacks=None,\n",
       "                                           colsample_bylevel=0.6991241690789752,\n",
       "                                           colsample_bynode=None,\n",
       "                                           colsample_bytree=0.9199415802355813,\n",
       "                                           device=&#x27;cpu&#x27;,\n",
       "                                           early_stopping_rounds=None,\n",
       "                                           enable_categorical=False,\n",
       "                                           eval_metric=&#x27;auc&#x27;,\n",
       "                                           feature_types=None,\n",
       "                                           feature_weights=None,\n",
       "                                           gamma=0.22369203185335856,\n",
       "                                           grow_polic...\n",
       "                                        &#x27;objective&#x27;: [&#x27;multi:softmax&#x27;],\n",
       "                                        &#x27;reg_alpha&#x27;: [0.14549582577894687,\n",
       "                                                      0.014900242190610162,\n",
       "                                                      0.0029949916204736644,\n",
       "                                                      10.0,\n",
       "                                                      0.011721722669367739],\n",
       "                                        &#x27;reg_lambda&#x27;: [0.5203411655062483,\n",
       "                                                       0.2669840207965698,\n",
       "                                                       0.12856312359450586,\n",
       "                                                       4.225869278060716,\n",
       "                                                       7.319717673230659],\n",
       "                                        &#x27;subsample&#x27;: [0.8543582000448856, 1.0,\n",
       "                                                      0.8817406940448107,\n",
       "                                                      0.9309426393172106,\n",
       "                                                      0.8596580193924419]},\n",
       "                   random_state=49574)</pre><b>In a Jupyter environment, please rerun this cell to show the HTML representation or trust the notebook. <br />On GitHub, the HTML representation is unable to render, please try loading this page with nbviewer.org.</b></div><div class=\"sk-container\" hidden><div class=\"sk-item sk-dashed-wrapped\"><div class=\"sk-label-container\"><div class=\"sk-label fitted sk-toggleable\"><input class=\"sk-toggleable__control sk-hidden--visually\" id=\"sk-estimator-id-4\" type=\"checkbox\" ><label for=\"sk-estimator-id-4\" class=\"sk-toggleable__label fitted sk-toggleable__label-arrow\"><div><div>RandomizedSearchCV</div></div><div><a class=\"sk-estimator-doc-link fitted\" rel=\"noreferrer\" target=\"_blank\" href=\"https://scikit-learn.org/1.6/modules/generated/sklearn.model_selection.RandomizedSearchCV.html\">?<span>Documentation for RandomizedSearchCV</span></a><span class=\"sk-estimator-doc-link fitted\">i<span>Fitted</span></span></div></label><div class=\"sk-toggleable__content fitted\"><pre>RandomizedSearchCV(cv=3,\n",
       "                   estimator=XGBClassifier(base_score=None, booster=&#x27;gbtree&#x27;,\n",
       "                                           callbacks=None,\n",
       "                                           colsample_bylevel=0.6991241690789752,\n",
       "                                           colsample_bynode=None,\n",
       "                                           colsample_bytree=0.9199415802355813,\n",
       "                                           device=&#x27;cpu&#x27;,\n",
       "                                           early_stopping_rounds=None,\n",
       "                                           enable_categorical=False,\n",
       "                                           eval_metric=&#x27;auc&#x27;,\n",
       "                                           feature_types=None,\n",
       "                                           feature_weights=None,\n",
       "                                           gamma=0.22369203185335856,\n",
       "                                           grow_polic...\n",
       "                                        &#x27;objective&#x27;: [&#x27;multi:softmax&#x27;],\n",
       "                                        &#x27;reg_alpha&#x27;: [0.14549582577894687,\n",
       "                                                      0.014900242190610162,\n",
       "                                                      0.0029949916204736644,\n",
       "                                                      10.0,\n",
       "                                                      0.011721722669367739],\n",
       "                                        &#x27;reg_lambda&#x27;: [0.5203411655062483,\n",
       "                                                       0.2669840207965698,\n",
       "                                                       0.12856312359450586,\n",
       "                                                       4.225869278060716,\n",
       "                                                       7.319717673230659],\n",
       "                                        &#x27;subsample&#x27;: [0.8543582000448856, 1.0,\n",
       "                                                      0.8817406940448107,\n",
       "                                                      0.9309426393172106,\n",
       "                                                      0.8596580193924419]},\n",
       "                   random_state=49574)</pre></div> </div></div><div class=\"sk-parallel\"><div class=\"sk-parallel-item\"><div class=\"sk-item\"><div class=\"sk-label-container\"><div class=\"sk-label fitted sk-toggleable\"><input class=\"sk-toggleable__control sk-hidden--visually\" id=\"sk-estimator-id-5\" type=\"checkbox\" ><label for=\"sk-estimator-id-5\" class=\"sk-toggleable__label fitted sk-toggleable__label-arrow\"><div><div>best_estimator_: XGBClassifier</div></div></label><div class=\"sk-toggleable__content fitted\"><pre>XGBClassifier(base_score=None, booster=&#x27;gbtree&#x27;, callbacks=None,\n",
       "              colsample_bylevel=0.6327579477475511, colsample_bynode=None,\n",
       "              colsample_bytree=0.7704026156917849, device=&#x27;cpu&#x27;,\n",
       "              early_stopping_rounds=None, enable_categorical=False,\n",
       "              eval_metric=&#x27;mlogloss&#x27;, feature_types=None, feature_weights=None,\n",
       "              gamma=0.8080965169069582, grow_policy=None, importance_type=None,\n",
       "              interaction_constraints=None, learning_rate=0.07625465681914323,\n",
       "              max_bin=None, max_cat_threshold=None, max_cat_to_onehot=None,\n",
       "              max_delta_step=6, max_depth=8, max_leaves=None,\n",
       "              min_child_weight=1, missing=nan, monotone_constraints=None,\n",
       "              multi_strategy=None, n_estimators=427, n_jobs=60,\n",
       "              num_parallel_tree=None, ...)</pre></div> </div></div><div class=\"sk-serial\"><div class=\"sk-item\"><div class=\"sk-estimator fitted sk-toggleable\"><input class=\"sk-toggleable__control sk-hidden--visually\" id=\"sk-estimator-id-6\" type=\"checkbox\" ><label for=\"sk-estimator-id-6\" class=\"sk-toggleable__label fitted sk-toggleable__label-arrow\"><div><div>XGBClassifier</div></div><div><a class=\"sk-estimator-doc-link fitted\" rel=\"noreferrer\" target=\"_blank\" href=\"https://xgboost.readthedocs.io/en/release_3.0.0/python/python_api.html#xgboost.XGBClassifier\">?<span>Documentation for XGBClassifier</span></a></div></label><div class=\"sk-toggleable__content fitted\"><pre>XGBClassifier(base_score=None, booster=&#x27;gbtree&#x27;, callbacks=None,\n",
       "              colsample_bylevel=0.6327579477475511, colsample_bynode=None,\n",
       "              colsample_bytree=0.7704026156917849, device=&#x27;cpu&#x27;,\n",
       "              early_stopping_rounds=None, enable_categorical=False,\n",
       "              eval_metric=&#x27;mlogloss&#x27;, feature_types=None, feature_weights=None,\n",
       "              gamma=0.8080965169069582, grow_policy=None, importance_type=None,\n",
       "              interaction_constraints=None, learning_rate=0.07625465681914323,\n",
       "              max_bin=None, max_cat_threshold=None, max_cat_to_onehot=None,\n",
       "              max_delta_step=6, max_depth=8, max_leaves=None,\n",
       "              min_child_weight=1, missing=nan, monotone_constraints=None,\n",
       "              multi_strategy=None, n_estimators=427, n_jobs=60,\n",
       "              num_parallel_tree=None, ...)</pre></div> </div></div></div></div></div></div></div></div></div>"
      ],
      "text/plain": [
       "RandomizedSearchCV(cv=3,\n",
       "                   estimator=XGBClassifier(base_score=None, booster='gbtree',\n",
       "                                           callbacks=None,\n",
       "                                           colsample_bylevel=0.6991241690789752,\n",
       "                                           colsample_bynode=None,\n",
       "                                           colsample_bytree=0.9199415802355813,\n",
       "                                           device='cpu',\n",
       "                                           early_stopping_rounds=None,\n",
       "                                           enable_categorical=False,\n",
       "                                           eval_metric='auc',\n",
       "                                           feature_types=None,\n",
       "                                           feature_weights=None,\n",
       "                                           gamma=0.22369203185335856,\n",
       "                                           grow_polic...\n",
       "                                        'objective': ['multi:softmax'],\n",
       "                                        'reg_alpha': [0.14549582577894687,\n",
       "                                                      0.014900242190610162,\n",
       "                                                      0.0029949916204736644,\n",
       "                                                      10.0,\n",
       "                                                      0.011721722669367739],\n",
       "                                        'reg_lambda': [0.5203411655062483,\n",
       "                                                       0.2669840207965698,\n",
       "                                                       0.12856312359450586,\n",
       "                                                       4.225869278060716,\n",
       "                                                       7.319717673230659],\n",
       "                                        'subsample': [0.8543582000448856, 1.0,\n",
       "                                                      0.8817406940448107,\n",
       "                                                      0.9309426393172106,\n",
       "                                                      0.8596580193924419]},\n",
       "                   random_state=49574)"
      ]
     },
     "execution_count": 38,
     "metadata": {},
     "output_type": "execute_result"
    }
   ],
   "source": [
    "opti_fs = sk.model_selection.RandomizedSearchCV(estimator = model, \n",
    "                                                param_distributions = search_space_grid, \n",
    "                                                cv = inner_cv, \n",
    "                                                n_jobs = n_jobs_sk,\n",
    "                                                n_iter = n_iter_rsearch,\n",
    "                                                random_state = hypertune_random_state_rsearch, \n",
    "                                                verbose = 0, refit = True)\n",
    "opti_fs.fit(X_train_reduced, y_train)"
   ]
  },
  {
   "cell_type": "code",
   "execution_count": 39,
   "id": "fba8f427",
   "metadata": {
    "execution": {
     "iopub.execute_input": "2025-06-07T04:50:51.185984Z",
     "iopub.status.busy": "2025-06-07T04:50:51.185319Z",
     "iopub.status.idle": "2025-06-07T04:50:51.190883Z",
     "shell.execute_reply": "2025-06-07T04:50:51.190214Z"
    },
    "papermill": {
     "duration": 0.023534,
     "end_time": "2025-06-07T04:50:51.191518",
     "exception": false,
     "start_time": "2025-06-07T04:50:51.167984",
     "status": "completed"
    },
    "tags": []
   },
   "outputs": [],
   "source": [
    "model_fs = opti_fs.best_estimator_"
   ]
  },
  {
   "cell_type": "code",
   "execution_count": 40,
   "id": "ab94c48d",
   "metadata": {
    "execution": {
     "iopub.execute_input": "2025-06-07T04:50:51.224100Z",
     "iopub.status.busy": "2025-06-07T04:50:51.223400Z",
     "iopub.status.idle": "2025-06-07T04:50:51.228049Z",
     "shell.execute_reply": "2025-06-07T04:50:51.227412Z"
    },
    "papermill": {
     "duration": 0.02391,
     "end_time": "2025-06-07T04:50:51.228671",
     "exception": false,
     "start_time": "2025-06-07T04:50:51.204761",
     "status": "completed"
    },
    "tags": []
   },
   "outputs": [],
   "source": [
    "best_params_fs = opti_fs.best_params_"
   ]
  },
  {
   "cell_type": "code",
   "execution_count": 41,
   "id": "fb20f7bf",
   "metadata": {
    "execution": {
     "iopub.execute_input": "2025-06-07T04:50:51.261040Z",
     "iopub.status.busy": "2025-06-07T04:50:51.260292Z",
     "iopub.status.idle": "2025-06-07T04:50:51.267714Z",
     "shell.execute_reply": "2025-06-07T04:50:51.266925Z"
    },
    "papermill": {
     "duration": 0.022619,
     "end_time": "2025-06-07T04:50:51.268371",
     "exception": false,
     "start_time": "2025-06-07T04:50:51.245752",
     "status": "completed"
    },
    "tags": []
   },
   "outputs": [
    {
     "name": "stdout",
     "output_type": "stream",
     "text": [
      "subsample: 0.8817406940448107\n",
      "reg_lambda: 7.319717673230659\n",
      "reg_alpha: 0.14549582577894687\n",
      "objective: multi:softmax\n",
      "n_estimators: 427\n",
      "min_child_weight: 1\n",
      "max_depth: 8\n",
      "max_delta_step: 6\n",
      "learning_rate: 0.07625465681914323\n",
      "gamma: 0.8080965169069582\n",
      "eval_metric: mlogloss\n",
      "colsample_bytree: 0.7704026156917849\n",
      "colsample_bylevel: 0.6327579477475511\n",
      "booster: gbtree\n"
     ]
    }
   ],
   "source": [
    "for k,v in best_params_fs.items():\n",
    "    print(f\"{k}: {v}\")"
   ]
  },
  {
   "cell_type": "markdown",
   "id": "6c27f9e6",
   "metadata": {
    "papermill": {
     "duration": 0.014382,
     "end_time": "2025-06-07T04:50:51.295952",
     "exception": false,
     "start_time": "2025-06-07T04:50:51.281570",
     "status": "completed"
    },
    "tags": []
   },
   "source": [
    "## Evaluate Model Performances"
   ]
  },
  {
   "cell_type": "code",
   "execution_count": 42,
   "id": "f3e0e219",
   "metadata": {
    "execution": {
     "iopub.execute_input": "2025-06-07T04:50:51.327782Z",
     "iopub.status.busy": "2025-06-07T04:50:51.327008Z",
     "iopub.status.idle": "2025-06-07T04:50:51.332389Z",
     "shell.execute_reply": "2025-06-07T04:50:51.331886Z"
    },
    "papermill": {
     "duration": 0.020672,
     "end_time": "2025-06-07T04:50:51.332882",
     "exception": false,
     "start_time": "2025-06-07T04:50:51.312210",
     "status": "completed"
    },
    "tags": []
   },
   "outputs": [],
   "source": [
    "f1_macro = sk.metrics.make_scorer(sk.metrics.f1_score, average=\"macro\")\n",
    "precision_macro = sk.metrics.make_scorer(sk.metrics.precision_score, average=\"macro\")\n",
    "recall_macro = sk.metrics.make_scorer(sk.metrics.recall_score, average=\"macro\")"
   ]
  },
  {
   "cell_type": "code",
   "execution_count": 43,
   "id": "65411e80",
   "metadata": {
    "execution": {
     "iopub.execute_input": "2025-06-07T04:50:51.363577Z",
     "iopub.status.busy": "2025-06-07T04:50:51.363400Z",
     "iopub.status.idle": "2025-06-07T04:51:10.000537Z",
     "shell.execute_reply": "2025-06-07T04:51:09.999955Z"
    },
    "papermill": {
     "duration": 18.655778,
     "end_time": "2025-06-07T04:51:10.001771",
     "exception": false,
     "start_time": "2025-06-07T04:50:51.345993",
     "status": "completed"
    },
    "tags": []
   },
   "outputs": [],
   "source": [
    "accuracy_array_fs = np.mean(sk.model_selection.cross_val_score(model_fs, X_train_reduced, y_train, cv = outer_cv, scoring = \"accuracy\"))\n",
    "f1_array_fs = np.mean(sk.model_selection.cross_val_score(model_fs, X_train_reduced, y_train, cv = outer_cv, scoring = f1_macro))\n",
    "precision_array_fs = np.mean(sk.model_selection.cross_val_score(model_fs, X_train_reduced, y_train, cv = outer_cv, scoring = precision_macro))\n",
    "recall_array_fs = np.mean(sk.model_selection.cross_val_score(model_fs, X_train_reduced, y_train, cv = outer_cv, scoring = recall_macro))\n",
    "roc_auc_array_fs = np.mean(sk.model_selection.cross_val_score(model_fs, X_train_reduced, y_train, cv = outer_cv, scoring = \"roc_auc_ovr\"))\n",
    "\n",
    "proba_predictions_fs = sk.model_selection.cross_val_predict(model_fs, X_train_reduced, y_train, cv = outer_cv, method= \"predict_proba\")\n",
    "class_array_fs = sk.model_selection.cross_val_predict(model_fs, X_train_reduced, y_train, cv = outer_cv, method= \"predict\")"
   ]
  },
  {
   "cell_type": "code",
   "execution_count": 44,
   "id": "aa0222a2",
   "metadata": {
    "execution": {
     "iopub.execute_input": "2025-06-07T04:51:10.034015Z",
     "iopub.status.busy": "2025-06-07T04:51:10.033244Z",
     "iopub.status.idle": "2025-06-07T04:51:10.039676Z",
     "shell.execute_reply": "2025-06-07T04:51:10.039062Z"
    },
    "papermill": {
     "duration": 0.02367,
     "end_time": "2025-06-07T04:51:10.040365",
     "exception": false,
     "start_time": "2025-06-07T04:51:10.016695",
     "status": "completed"
    },
    "tags": []
   },
   "outputs": [],
   "source": [
    "label_binarizer = sk.preprocessing.LabelBinarizer().fit(y_train)\n",
    "y_onehot_train = label_binarizer.transform(y_train)\n",
    "n_classes = y_onehot_train.shape[1]\n",
    "target_names = np.unique(y_train)"
   ]
  },
  {
   "cell_type": "code",
   "execution_count": 45,
   "id": "2d780190",
   "metadata": {
    "execution": {
     "iopub.execute_input": "2025-06-07T04:51:10.072673Z",
     "iopub.status.busy": "2025-06-07T04:51:10.071897Z",
     "iopub.status.idle": "2025-06-07T04:51:10.081655Z",
     "shell.execute_reply": "2025-06-07T04:51:10.081164Z"
    },
    "papermill": {
     "duration": 0.028174,
     "end_time": "2025-06-07T04:51:10.082124",
     "exception": false,
     "start_time": "2025-06-07T04:51:10.053950",
     "status": "completed"
    },
    "tags": []
   },
   "outputs": [
    {
     "name": "stdout",
     "output_type": "stream",
     "text": [
      "Macro-averaged One-vs-Rest ROC AUC score: 0.82\n"
     ]
    }
   ],
   "source": [
    "fpr, tpr, roc_auc = dict(), dict(), dict()\n",
    "\n",
    "for i in range(n_classes):\n",
    "    fpr[i], tpr[i], _ = sk.metrics.roc_curve(y_onehot_train[:, i], proba_predictions_fs[:, i])\n",
    "    roc_auc[i] = sk.metrics.auc(fpr[i], tpr[i])\n",
    "\n",
    "fpr_grid = np.linspace(0.0, 1.0, 1000)\n",
    "\n",
    "mean_tpr = np.zeros_like(fpr_grid)\n",
    "\n",
    "for i in range(n_classes):\n",
    "    mean_tpr += np.interp(fpr_grid, fpr[i], tpr[i])\n",
    "\n",
    "mean_tpr /= n_classes\n",
    "\n",
    "fpr[\"macro\"] = fpr_grid\n",
    "tpr[\"macro\"] = mean_tpr\n",
    "roc_auc[\"macro\"] = sk.metrics.auc(fpr[\"macro\"], tpr[\"macro\"])\n",
    "\n",
    "print(f\"Macro-averaged One-vs-Rest ROC AUC score: {roc_auc['macro']:.2f}\")"
   ]
  },
  {
   "cell_type": "code",
   "execution_count": 46,
   "id": "2d444541",
   "metadata": {
    "execution": {
     "iopub.execute_input": "2025-06-07T04:51:10.114851Z",
     "iopub.status.busy": "2025-06-07T04:51:10.114110Z",
     "iopub.status.idle": "2025-06-07T04:51:10.225793Z",
     "shell.execute_reply": "2025-06-07T04:51:10.225322Z"
    },
    "papermill": {
     "duration": 0.133037,
     "end_time": "2025-06-07T04:51:10.228442",
     "exception": false,
     "start_time": "2025-06-07T04:51:10.095405",
     "status": "completed"
    },
    "tags": []
   },
   "outputs": [
    {
     "data": {
      "image/png": "[encoded data removed]",
      "text/plain": [
       "<Figure size 600x600 with 1 Axes>"
      ]
     },
     "metadata": {},
     "output_type": "display_data"
    }
   ],
   "source": [
    "from itertools import cycle\n",
    "\n",
    "fig, ax = plt.subplots(figsize=(6, 6))\n",
    "\n",
    "plt.plot(\n",
    "    fpr[\"macro\"],\n",
    "    tpr[\"macro\"],\n",
    "    label=f\"macro-average ROC curve (AUC = {roc_auc['macro']:.2f})\",\n",
    "    color=\"navy\",\n",
    "    linestyle=\":\",\n",
    "    linewidth=4,\n",
    ")\n",
    "\n",
    "colors = cycle([\"aqua\", \"darkorange\", \"cornflowerblue\"])\n",
    "for class_id, color in zip(range(n_classes), colors):\n",
    "    sk.metrics.RocCurveDisplay.from_predictions(\n",
    "        y_onehot_train[:, class_id],\n",
    "        proba_predictions_fs[:, class_id],\n",
    "        name=f\"ROC curve for {target_names[class_id]}\",\n",
    "        color=color,\n",
    "        ax=ax,\n",
    "        plot_chance_level=(class_id == 2),\n",
    "        despine=True,\n",
    "    )\n",
    "\n",
    "_ = ax.set(\n",
    "    xlabel=\"False Positive Rate\",\n",
    "    ylabel=\"True Positive Rate\",\n",
    "    title=\"Extension of Receiver Operating Characteristic\\nto One-vs-Rest multiclass\",\n",
    ")"
   ]
  },
  {
   "cell_type": "markdown",
   "id": "e41ace51",
   "metadata": {
    "papermill": {
     "duration": 0.016336,
     "end_time": "2025-06-07T04:51:10.259395",
     "exception": false,
     "start_time": "2025-06-07T04:51:10.243059",
     "status": "completed"
    },
    "tags": []
   },
   "source": [
    "## Store Variables for later"
   ]
  },
  {
   "cell_type": "code",
   "execution_count": 47,
   "id": "df43b55b",
   "metadata": {
    "execution": {
     "iopub.execute_input": "2025-06-07T04:51:10.294573Z",
     "iopub.status.busy": "2025-06-07T04:51:10.293793Z",
     "iopub.status.idle": "2025-06-07T04:51:10.308432Z",
     "shell.execute_reply": "2025-06-07T04:51:10.307970Z"
    },
    "papermill": {
     "duration": 0.03387,
     "end_time": "2025-06-07T04:51:10.309073",
     "exception": false,
     "start_time": "2025-06-07T04:51:10.275203",
     "status": "completed"
    },
    "tags": []
   },
   "outputs": [],
   "source": [
    "pickle.dump(X_train_reduced,open(X_train_filename,\"wb\"))\n",
    "pickle.dump(X_test_reduced,open(X_test_filename,\"wb\"))\n",
    "pickle.dump(y_train,open(y_train_filename,\"wb\"))\n",
    "pickle.dump(y_test,open(y_test_filename,\"wb\"))\n",
    "pickle.dump(bin_train,open(bin_train_filename,\"wb\"))\n",
    "pickle.dump(bin_test,open(bin_test_filename,\"wb\"))\n",
    "pickle.dump(model_fs,open(model_filename,\"wb\"))"
   ]
  }
 ],
 "metadata": {
  "kernelspec": {
   "display_name": "Python 3 (System)",
   "language": "python",
   "name": "python3-system"
  },
  "language_info": {
   "codemirror_mode": {
    "name": "ipython",
    "version": 3
   },
   "file_extension": ".py",
   "mimetype": "text/x-python",
   "name": "python",
   "nbconvert_exporter": "python",
   "pygments_lexer": "ipython3",
   "version": "3.10.12"
  },
  "papermill": {
   "default_parameters": {},
   "duration": 77604.754902,
   "end_time": "2025-06-07T04:51:10.743265",
   "environment_variables": {},
   "exception": null,
   "input_path": "MultiClassification_Pipeline.ipynb",
   "output_path": "sc_MultiClassification_Output_with_HIC_and_Repliseq_1Mbp/MultiClassification_Pipeline_Output.ipynb",
   "parameters": {},
   "start_time": "2025-06-06T07:17:45.988363",
   "version": "2.6.0"
  }
 },
 "nbformat": 4,
 "nbformat_minor": 5
}