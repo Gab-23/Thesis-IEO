{
 "cells": [
  {
   "cell_type": "markdown",
   "id": "50c82f9f",
   "metadata": {
    "papermill": {
     "duration": 0.012245,
     "end_time": "2025-06-07T11:24:56.100027",
     "exception": false,
     "start_time": "2025-06-07T11:24:56.087782",
     "status": "completed"
    },
    "tags": []
   },
   "source": [
    "# Machine Learning Pipeline - Production"
   ]
  },
  {
   "cell_type": "markdown",
   "id": "8fd0571e",
   "metadata": {
    "papermill": {
     "duration": 0.009496,
     "end_time": "2025-06-07T11:24:56.118458",
     "exception": false,
     "start_time": "2025-06-07T11:24:56.108962",
     "status": "completed"
    },
    "tags": []
   },
   "source": [
    "Check the python kernel we are using, should be the local one, not the one in the virtual environment. <br>\n",
    "NOTE: A proper virtual environment will be setup later on"
   ]
  },
  {
   "cell_type": "code",
   "execution_count": 1,
   "id": "b8ca1f9e",
   "metadata": {
    "execution": {
     "iopub.execute_input": "2025-06-07T11:24:56.138048Z",
     "iopub.status.busy": "2025-06-07T11:24:56.137308Z",
     "iopub.status.idle": "2025-06-07T11:24:56.148053Z",
     "shell.execute_reply": "2025-06-07T11:24:56.147286Z"
    },
    "papermill": {
     "duration": 0.022218,
     "end_time": "2025-06-07T11:24:56.149123",
     "exception": false,
     "start_time": "2025-06-07T11:24:56.126905",
     "status": "completed"
    },
    "tags": []
   },
   "outputs": [
    {
     "name": "stdout",
     "output_type": "stream",
     "text": [
      "/usr/bin/python3\n"
     ]
    }
   ],
   "source": [
    "import sys\n",
    "print(sys.executable)"
   ]
  },
  {
   "cell_type": "code",
   "execution_count": 2,
   "id": "1ace5e53",
   "metadata": {
    "execution": {
     "iopub.execute_input": "2025-06-07T11:24:56.168191Z",
     "iopub.status.busy": "2025-06-07T11:24:56.167683Z",
     "iopub.status.idle": "2025-06-07T11:24:56.172863Z",
     "shell.execute_reply": "2025-06-07T11:24:56.172321Z"
    },
    "papermill": {
     "duration": 0.015976,
     "end_time": "2025-06-07T11:24:56.173798",
     "exception": false,
     "start_time": "2025-06-07T11:24:56.157822",
     "status": "completed"
    },
    "tags": []
   },
   "outputs": [
    {
     "name": "stdout",
     "output_type": "stream",
     "text": [
      "/home/ieo7429/Desktop/THESIS_GAB/ML/MultiClassification\n"
     ]
    }
   ],
   "source": [
    "import os\n",
    "print(os.getcwd())"
   ]
  },
  {
   "cell_type": "markdown",
   "id": "1be35755",
   "metadata": {
    "papermill": {
     "duration": 0.008538,
     "end_time": "2025-06-07T11:24:56.191028",
     "exception": false,
     "start_time": "2025-06-07T11:24:56.182490",
     "status": "completed"
    },
    "tags": []
   },
   "source": [
    "## Define Variables"
   ]
  },
  {
   "cell_type": "markdown",
   "id": "f0efb953",
   "metadata": {
    "papermill": {
     "duration": 0.008454,
     "end_time": "2025-06-07T11:24:56.208054",
     "exception": false,
     "start_time": "2025-06-07T11:24:56.199600",
     "status": "completed"
    },
    "tags": []
   },
   "source": [
    "Set up main variables that will be called later on, for readibility purposes"
   ]
  },
  {
   "cell_type": "code",
   "execution_count": 3,
   "id": "eec24db7",
   "metadata": {
    "execution": {
     "iopub.execute_input": "2025-06-07T11:24:56.227925Z",
     "iopub.status.busy": "2025-06-07T11:24:56.227193Z",
     "iopub.status.idle": "2025-06-07T11:24:56.238673Z",
     "shell.execute_reply": "2025-06-07T11:24:56.238102Z"
    },
    "papermill": {
     "duration": 0.02276,
     "end_time": "2025-06-07T11:24:56.239622",
     "exception": false,
     "start_time": "2025-06-07T11:24:56.216862",
     "status": "completed"
    },
    "tags": []
   },
   "outputs": [
    {
     "name": "stdout",
     "output_type": "stream",
     "text": [
      "Base directory is consistent and exists: sc_MultiClassification_Output_with_HIC_and_Repliseq_0.1Mbp\n"
     ]
    }
   ],
   "source": [
    "install_bool = False\n",
    "path_to_datasets = \"/home/ieo7429/Desktop/THESIS_GAB/outfiles/target_variables/sc_ML_tables_regression_classification_BRCA_0.1Mbp_with_HIC_and_Repliseq.RData\"\n",
    "\n",
    "mode = \"regrout\"\n",
    "technology = \"sc\"\n",
    "\n",
    "if technology == \"sc\":\n",
    "    \n",
    "    cols_to_drop = [\"mean_log2FC\", \"joint_probability\", \"bool_diff_acc\", \n",
    "                    \"sign_mean_log2FC_1\", \"sign_mean_log2FC_2\", \"sign_mean_log2FC_3\", \n",
    "                    \"weighted_coef_of_var_log2FC\", \"weighted_log2FC\", \"bin\", \"Type\", \"replication_class\"]\n",
    "\n",
    "    cols_to_check = [\"mean_log2FC\", \"weighted_log2FC\", \"weighted_coef_of_var_log2FC\",\n",
    "                 \"joint_probability\", \"bool_diff_acc\", \"sign_mean_log2FC_1\", \n",
    "                 \"sign_mean_log2FC_2\", \"sign_mean_log2FC_3\", \"joined_direction\", \"significant_dir_1\"]\n",
    "\n",
    "else:\n",
    "    \n",
    "    cols_to_drop = [\"bool_diff_acc\", \n",
    "                    \"sign_mean_log2FC_1\", \"sign_mean_log2FC_2\", \"sign_mean_log2FC_3\", \n",
    "                    \"bin\", \"Type\", \"replication_class\"]\n",
    "\n",
    "    cols_to_check = [\"logFC\", \"bool_diff_acc\", \"sign_mean_log2FC_1\", \n",
    "                 \"sign_mean_log2FC_2\", \"sign_mean_log2FC_3\", \"joined_direction\"]\n",
    "\n",
    "if \"ampl_score\" in cols_to_drop and \"del_score\" in cols_to_drop:\n",
    "\n",
    "    condition = \"without_CNA\"\n",
    "\n",
    "else:\n",
    "\n",
    "    condition = \"with CNA\"\n",
    "\n",
    "n_jobs_boost = 60\n",
    "n_jobs_sk = 1\n",
    "n_iter_bsearch = 25\n",
    "n_iter_rsearch = 50\n",
    "\n",
    "split_random_state = 489574\n",
    "classifier_seed = 3737\n",
    "classifier_random_state = 39473209\n",
    "hypertune_random_state_bsearch = 3847\n",
    "hypertune_random_state_rsearch = 49574\n",
    "kfold_random_state = 4909\n",
    "\n",
    "outer_cv = 5\n",
    "inner_cv = 3\n",
    "plot_variation = True\n",
    "plot_shap = True\n",
    "\n",
    "import os\n",
    "\n",
    "X_train_filename = \"sc_MultiClassification_Output_with_HIC_and_Repliseq_0.1Mbp/multiclass_X_train_red\"; \n",
    "X_test_filename = \"sc_MultiClassification_Output_with_HIC_and_Repliseq_0.1Mbp/multiclass_X_test_red\"\n",
    "y_train_filename = \"sc_MultiClassification_Output_with_HIC_and_Repliseq_0.1Mbp/multiclass_y_train_red\"; \n",
    "y_test_filename = \"sc_MultiClassification_Output_with_HIC_and_Repliseq_0.1Mbp/multiclass_y_test_red\"\n",
    "bin_train_filename = \"sc_MultiClassification_Output_with_HIC_and_Repliseq_0.1Mbp/multiclass_bin_train_red\"; \n",
    "bin_test_filename = \"sc_MultiClassification_Output_with_HIC_and_Repliseq_0.1Mbp/multiclass_bin_test_red\"\n",
    "model_filename = \"sc_MultiClassification_Output_with_HIC_and_Repliseq_0.1Mbp/multiclass_final_model\"\n",
    "\n",
    "file_paths = [\n",
    "    X_train_filename, X_test_filename,\n",
    "    y_train_filename, y_test_filename,\n",
    "    bin_train_filename, bin_test_filename,\n",
    "    model_filename\n",
    "]\n",
    "\n",
    "base_dirs = {os.path.dirname(path) for path in file_paths}\n",
    "\n",
    "if len(base_dirs) != 1:\n",
    "    raise ValueError(f\"Inconsistent base directories found: {base_dirs}\")\n",
    "\n",
    "base_dir = base_dirs.pop()\n",
    "\n",
    "if not os.path.exists(base_dir):\n",
    "    raise FileNotFoundError(f\"Base directory does not exist: {base_dir}\")\n",
    "\n",
    "print(f\"Base directory is consistent and exists: {base_dir}\")"
   ]
  },
  {
   "cell_type": "markdown",
   "id": "6f9a124f",
   "metadata": {
    "papermill": {
     "duration": 0.008572,
     "end_time": "2025-06-07T11:24:56.257028",
     "exception": false,
     "start_time": "2025-06-07T11:24:56.248456",
     "status": "completed"
    },
    "tags": []
   },
   "source": [
    "## Install packages"
   ]
  },
  {
   "cell_type": "markdown",
   "id": "648edfc1",
   "metadata": {
    "papermill": {
     "duration": 0.008487,
     "end_time": "2025-06-07T11:24:56.274138",
     "exception": false,
     "start_time": "2025-06-07T11:24:56.265651",
     "status": "completed"
    },
    "tags": []
   },
   "source": [
    "Install all needed packages"
   ]
  },
  {
   "cell_type": "code",
   "execution_count": 4,
   "id": "69e3e93d",
   "metadata": {
    "execution": {
     "iopub.execute_input": "2025-06-07T11:24:56.293729Z",
     "iopub.status.busy": "2025-06-07T11:24:56.292994Z",
     "iopub.status.idle": "2025-06-07T11:24:56.307250Z",
     "shell.execute_reply": "2025-06-07T11:24:56.306713Z"
    },
    "papermill": {
     "duration": 0.025474,
     "end_time": "2025-06-07T11:24:56.308186",
     "exception": false,
     "start_time": "2025-06-07T11:24:56.282712",
     "status": "completed"
    },
    "tags": []
   },
   "outputs": [],
   "source": [
    "from IPython.display import clear_output\n",
    "\n",
    "if install_bool:\n",
    "    ! pip install pickleshare\n",
    "    ! pip install pandas\n",
    "    ! pip install scikit-learn\n",
    "    ! pip install seaborn\n",
    "    ! pip install scipy\n",
    "    ! pip install --upgrade pip setuptools wheel\n",
    "    ! pip install rpy2\n",
    "    ! pip install shap\n",
    "    ! pip install \"numpy<=2.1\"\n",
    "    %pip install -U ipywidgets\n",
    "\n",
    "clear_output(wait = False)"
   ]
  },
  {
   "cell_type": "markdown",
   "id": "c7ae4c19",
   "metadata": {
    "papermill": {
     "duration": 0.008667,
     "end_time": "2025-06-07T11:24:56.325821",
     "exception": false,
     "start_time": "2025-06-07T11:24:56.317154",
     "status": "completed"
    },
    "tags": []
   },
   "source": [
    "## Import libraries"
   ]
  },
  {
   "cell_type": "markdown",
   "id": "c3b65a1d",
   "metadata": {
    "papermill": {
     "duration": 0.008549,
     "end_time": "2025-06-07T11:24:56.343121",
     "exception": false,
     "start_time": "2025-06-07T11:24:56.334572",
     "status": "completed"
    },
    "tags": []
   },
   "source": [
    "Import all packages"
   ]
  },
  {
   "cell_type": "code",
   "execution_count": 5,
   "id": "44cfdc8d",
   "metadata": {
    "execution": {
     "iopub.execute_input": "2025-06-07T11:24:56.362898Z",
     "iopub.status.busy": "2025-06-07T11:24:56.362170Z",
     "iopub.status.idle": "2025-06-07T11:24:57.811374Z",
     "shell.execute_reply": "2025-06-07T11:24:57.810335Z"
    },
    "papermill": {
     "duration": 1.461007,
     "end_time": "2025-06-07T11:24:57.812810",
     "exception": false,
     "start_time": "2025-06-07T11:24:56.351803",
     "status": "completed"
    },
    "tags": []
   },
   "outputs": [],
   "source": [
    "import numpy as np\n",
    "import pandas as pd\n",
    "import sklearn as sk\n",
    "import seaborn as sns\n",
    "import matplotlib.pyplot as plt\n",
    "import scipy as sp\n",
    "import rpy2.robjects as ro\n",
    "import xgboost as xgb\n",
    "import shap\n",
    "import warnings\n",
    "import pickleshare\n",
    "import pickle\n",
    "from rpy2.robjects import pandas2ri\n",
    "from rpy2.robjects.conversion import localconverter\n",
    "from skopt import BayesSearchCV\n",
    "from sklearn.feature_selection import SelectFromModel"
   ]
  },
  {
   "cell_type": "markdown",
   "id": "7923dbbf",
   "metadata": {
    "papermill": {
     "duration": 0.004541,
     "end_time": "2025-06-07T11:24:57.821668",
     "exception": false,
     "start_time": "2025-06-07T11:24:57.817127",
     "status": "completed"
    },
    "tags": []
   },
   "source": [
    "## Define Functions"
   ]
  },
  {
   "cell_type": "markdown",
   "id": "cd08399a",
   "metadata": {
    "papermill": {
     "duration": 0.004087,
     "end_time": "2025-06-07T11:24:57.830035",
     "exception": false,
     "start_time": "2025-06-07T11:24:57.825948",
     "status": "completed"
    },
    "tags": []
   },
   "source": [
    "### load_datasets_from_r\n",
    "Reads \"ML.Tables\" .Rdata file and converts it to a nested dictionary."
   ]
  },
  {
   "cell_type": "code",
   "execution_count": 6,
   "id": "2cc51217",
   "metadata": {
    "execution": {
     "iopub.execute_input": "2025-06-07T11:24:57.841146Z",
     "iopub.status.busy": "2025-06-07T11:24:57.840185Z",
     "iopub.status.idle": "2025-06-07T11:24:57.851339Z",
     "shell.execute_reply": "2025-06-07T11:24:57.850456Z"
    },
    "papermill": {
     "duration": 0.018098,
     "end_time": "2025-06-07T11:24:57.852198",
     "exception": false,
     "start_time": "2025-06-07T11:24:57.834100",
     "status": "completed"
    },
    "tags": []
   },
   "outputs": [],
   "source": [
    "def load_datasets_from_r(file_path):\n",
    "\n",
    "    \"\"\" \n",
    "    The function uses rpy2 to load datasets from an RData file.\n",
    "    In particular it expects a list of data.frames\n",
    "    It returns a dictionary of pandas DataFrames.\n",
    "    \"\"\"\n",
    "    \n",
    "    pandas2ri.activate()\n",
    "\n",
    "    ro.r['load'](file_path) # load the .RData\n",
    "\n",
    "    env = ro.globalenv # set the environment\n",
    "\n",
    "    r_list = env[list(env.keys())[0]] # take the list object\n",
    "\n",
    "    list_names = ro.r['names'](r_list) # take the names\n",
    "    list_names = [str(name) for name in list_names]\n",
    "\n",
    "    df_dict = {} # initialize outer dictionary\n",
    "    with (ro.default_converter + ro.pandas2ri.converter).context(): # start the conversion\n",
    "    # the conversion transforms a list of lists of lists of data.frames \n",
    "    # to a list of dictionaries of dictionaries of dictionaries of DataFrame\n",
    "        i = 0\n",
    "        for outer_dict in r_list:\n",
    "            df_dict[list_names[i]] = outer_dict\n",
    "            i += 1\n",
    "            \n",
    "    return(df_dict)"
   ]
  },
  {
   "cell_type": "markdown",
   "id": "cfe08c7a",
   "metadata": {
    "papermill": {
     "duration": 0.004044,
     "end_time": "2025-06-07T11:24:57.860322",
     "exception": false,
     "start_time": "2025-06-07T11:24:57.856278",
     "status": "completed"
    },
    "tags": []
   },
   "source": [
    "### gini_coefficient"
   ]
  },
  {
   "cell_type": "markdown",
   "id": "7cc66269",
   "metadata": {
    "papermill": {
     "duration": 0.003903,
     "end_time": "2025-06-07T11:24:57.868311",
     "exception": false,
     "start_time": "2025-06-07T11:24:57.864408",
     "status": "completed"
    },
    "tags": []
   },
   "source": [
    "Function to compute the gini coefficient (2 * AUC - 1)"
   ]
  },
  {
   "cell_type": "code",
   "execution_count": 7,
   "id": "f06822ed",
   "metadata": {
    "execution": {
     "iopub.execute_input": "2025-06-07T11:24:57.878808Z",
     "iopub.status.busy": "2025-06-07T11:24:57.878051Z",
     "iopub.status.idle": "2025-06-07T11:24:57.884233Z",
     "shell.execute_reply": "2025-06-07T11:24:57.883551Z"
    },
    "papermill": {
     "duration": 0.012764,
     "end_time": "2025-06-07T11:24:57.885073",
     "exception": false,
     "start_time": "2025-06-07T11:24:57.872309",
     "status": "completed"
    },
    "tags": []
   },
   "outputs": [],
   "source": [
    "def gini_coefficient_score(y_true, y_pred_prob, **kwargs):\n",
    "    y_score = y_pred_prob\n",
    "    auc_score = sk.metrics.roc_auc_score(y_true, y_score, multi_class='ovr')\n",
    "    gini_coef = 2 * auc_score - 1\n",
    "    return gini_coef"
   ]
  },
  {
   "cell_type": "code",
   "execution_count": 8,
   "id": "cce8ce98",
   "metadata": {
    "execution": {
     "iopub.execute_input": "2025-06-07T11:24:57.895100Z",
     "iopub.status.busy": "2025-06-07T11:24:57.894297Z",
     "iopub.status.idle": "2025-06-07T11:24:57.899284Z",
     "shell.execute_reply": "2025-06-07T11:24:57.898678Z"
    },
    "papermill": {
     "duration": 0.01046,
     "end_time": "2025-06-07T11:24:57.899951",
     "exception": false,
     "start_time": "2025-06-07T11:24:57.889491",
     "status": "completed"
    },
    "tags": []
   },
   "outputs": [],
   "source": [
    "gini_coefficient = sk.metrics.make_scorer(gini_coefficient_score, response_method = \"predict_proba\", greater_is_better= True)"
   ]
  },
  {
   "cell_type": "markdown",
   "id": "d0b64c64",
   "metadata": {
    "papermill": {
     "duration": 0.004022,
     "end_time": "2025-06-07T11:24:57.925593",
     "exception": false,
     "start_time": "2025-06-07T11:24:57.921571",
     "status": "completed"
    },
    "tags": []
   },
   "source": [
    "### feature_selector\n",
    "his function performs Incremental Feature Selection (IFS) to produce a reduced model <br> with best gini coefficient (2 * AUC - 1) performance with cross validation.\n",
    "Mean absolute SHAP values are used to select features"
   ]
  },
  {
   "cell_type": "code",
   "execution_count": 9,
   "id": "3bf0e782",
   "metadata": {
    "execution": {
     "iopub.execute_input": "2025-06-07T11:24:57.936349Z",
     "iopub.status.busy": "2025-06-07T11:24:57.935477Z",
     "iopub.status.idle": "2025-06-07T11:24:57.944140Z",
     "shell.execute_reply": "2025-06-07T11:24:57.942954Z"
    },
    "papermill": {
     "duration": 0.015203,
     "end_time": "2025-06-07T11:24:57.944952",
     "exception": false,
     "start_time": "2025-06-07T11:24:57.929749",
     "status": "completed"
    },
    "tags": []
   },
   "outputs": [],
   "source": [
    "def feature_selector_shap(feature_names, feature_importances, model, \n",
    "                          X_train, X_test, y_train, inner_cv,\n",
    "                          plot = True, verbose = True):\n",
    "\n",
    "    \"\"\"\n",
    "    The function takes as input feature names, feature importances, \n",
    "    a XGBoost Classifier object, the training and test dataset\n",
    "    and returns the reduced training and test datasets.\n",
    "    - plot parameter regulates whether or not to plot the Gini Coefficient vs number of feature plot\n",
    "    - verbose parameter regulates whether or not to produce a text output\n",
    "    \"\"\"\n",
    "\n",
    "    thresholds = np.sort(feature_importances) # sort the feature importances\n",
    "    num_features_list = [] # initialize list\n",
    "    gini_coef_list = [] # initialize list\n",
    "    \n",
    "    for threshold in thresholds: # iterate over thresholds\n",
    "        \n",
    "        vars_to_keep = np.where(feature_importances >= threshold)[0]\n",
    "        X_train_selected = X_train.iloc[:,vars_to_keep]\n",
    "\n",
    "        gini_coef_scores = sk.model_selection.cross_val_score(estimator = model, \n",
    "                                                              X = X_train_selected, y = y_train, \n",
    "                                                              scoring = gini_coefficient, cv = inner_cv)\n",
    "        mean_gini_coef_score = np.mean(gini_coef_scores)\n",
    "        \n",
    "        num_features_list.append(X_train_selected.shape[1]) # append\n",
    "        gini_coef_list.append(mean_gini_coef_score) # append\n",
    "\n",
    "        if verbose:\n",
    "            print(f'> threshold={threshold}, features={X_train_selected.shape[1]}, gini coefficient={mean_gini_coef_score}')\n",
    "        \n",
    "        if len(vars_to_keep) == 1:\n",
    "            break\n",
    "\n",
    "    if plot:\n",
    "        plt.figure(figsize=(8, 6))\n",
    "        plt.plot(num_features_list, gini_coef_list, marker='o')\n",
    "        plt.xlabel('Number of Selected Features')\n",
    "        plt.ylabel('cross validated mean Ginny coefficient')\n",
    "        plt.title('Gini coefficient vs. Number of Selected Features')\n",
    "        plt.grid(True)\n",
    "        plt.show()\n",
    "\n",
    "    optimal_threshold_index = np.argmax(gini_coef_list)\n",
    "    optimal_num_features = num_features_list[optimal_threshold_index]\n",
    "    \n",
    "    if (optimal_threshold_index) == 0:\n",
    "        optimal_threshold = 0\n",
    "    else:   \n",
    "        optimal_threshold = thresholds[optimal_threshold_index - 1]\n",
    "\n",
    "    if verbose:\n",
    "        print(f\"Optimal Threshold: {optimal_threshold:.4f}\")\n",
    "        print(f\"Number of Selected Features: {optimal_num_features}\")\n",
    "        print(f\"Gini coef at Optimal Threshold: {gini_coef_list[optimal_threshold_index]:.4f}\")\n",
    "        print(\"\\n\")\n",
    "        \n",
    "    n = 5\n",
    "    selected_features = feature_names[np.where(feature_importances > optimal_threshold)]\n",
    "    selected_features = [str(name) for name in selected_features]\n",
    "    discarded_features = [str(name) for name in feature_names if str(name) not in selected_features]\n",
    "\n",
    "    if verbose:\n",
    "        print(\"Selected features are: \\n\")\n",
    "        for i in range(0,len(selected_features), n):\n",
    "            print(\"  \".join(selected_features[i:i+n]))\n",
    "        print(\"\\n\")\n",
    "        print(\"Discarded features are: \\n\")\n",
    "        for i in range(0,len(discarded_features), n):\n",
    "            print(\"  \".join(discarded_features[i:i+n]))\n",
    "\n",
    "    X_train_reduced = X_train[selected_features]\n",
    "    X_test_reduced = X_test[selected_features]\n",
    "    \n",
    "    return(X_train_reduced, X_test_reduced, selected_features)    "
   ]
  },
  {
   "cell_type": "markdown",
   "id": "366a28e2",
   "metadata": {
    "papermill": {
     "duration": 0.004102,
     "end_time": "2025-06-07T11:24:57.953227",
     "exception": false,
     "start_time": "2025-06-07T11:24:57.949125",
     "status": "completed"
    },
    "tags": []
   },
   "source": [
    "### Nested CV la vendetta"
   ]
  },
  {
   "cell_type": "code",
   "execution_count": 10,
   "id": "661ecbf9",
   "metadata": {
    "execution": {
     "iopub.execute_input": "2025-06-07T11:24:57.963360Z",
     "iopub.status.busy": "2025-06-07T11:24:57.962841Z",
     "iopub.status.idle": "2025-06-07T11:24:57.972981Z",
     "shell.execute_reply": "2025-06-07T11:24:57.971827Z"
    },
    "papermill": {
     "duration": 0.016597,
     "end_time": "2025-06-07T11:24:57.973890",
     "exception": false,
     "start_time": "2025-06-07T11:24:57.957293",
     "status": "completed"
    },
    "tags": []
   },
   "outputs": [],
   "source": [
    "def nested_CV_revenge(outer_cv, inner_cv,\n",
    "                      X_train, y_train, \n",
    "                      model, search_space, \n",
    "                      n_jobs, n_iter_bsearch, verbose):\n",
    "    \n",
    "    \"\"\"\n",
    "    The function performs nested cross validation to estimate model's error rate\n",
    "    It take the cv number, the training dataset, the target variable, the model or a BayesSearchCV\n",
    "    and a search space to perform hyperparameter tuning\n",
    "    \"\"\"\n",
    "    \n",
    "    kf = sk.model_selection.KFold(n_splits = outer_cv, \n",
    "                                  shuffle=True, \n",
    "                                  random_state = kfold_random_state)\n",
    "    \n",
    "\n",
    "    hyperparam_list = []\n",
    "    selected_features_list = []\n",
    "    accuracy_array = np.zeros(outer_cv)\n",
    "    f1_array = np.zeros(outer_cv)\n",
    "    precision_array = np.zeros(outer_cv)\n",
    "    recall_array = np.zeros(outer_cv)\n",
    "    roc_auc_array = np.zeros(outer_cv)\n",
    "    predictions_array = np.zeros(len(X_train))\n",
    "    probas_array = np.zeros((len(X_train),len(np.unique(y_train))))\n",
    "    \n",
    "    i = 0\n",
    "    for train_index, val_index in kf.split(X_train):\n",
    "\n",
    "        if verbose:\n",
    "            print(f\"Fold #{i + 1}\")\n",
    "            \n",
    "        if verbose:\n",
    "            print(\"STEP 1 (Splitting)\")\n",
    "            \n",
    "        X_train_cv, X_val = X_train.iloc[train_index], X_train.iloc[val_index]\n",
    "        y_train_cv, y_val = y_train.iloc[train_index], y_train.iloc[val_index]\n",
    "        \n",
    "        if verbose:\n",
    "            print(\"STEP 2 (Tuning)\")\n",
    "\n",
    "        if verbose:\n",
    "            print(\"STEP 2.1 (HyperParameter Tuning Part 1)\")\n",
    "        \n",
    "        opti = BayesSearchCV(\n",
    "            estimator = model,\n",
    "            search_spaces = search_space,\n",
    "            n_iter = n_iter_bsearch,\n",
    "            cv = inner_cv,\n",
    "            random_state = hypertune_random_state_bsearch,\n",
    "            refit = True,\n",
    "            n_jobs = n_jobs,\n",
    "            verbose = 3\n",
    "        )\n",
    "        \n",
    "        opti.fit(X_train_cv, y_train_cv)\n",
    "        best_model = opti.best_estimator_\n",
    "\n",
    "        if verbose:\n",
    "            print(\"STEP 2.2 (SHAP)\")\n",
    "        \n",
    "        explainer = shap.TreeExplainer(best_model)\n",
    "\n",
    "        feature_names = best_model.feature_names_in_\n",
    "        feature_importances_shap = np.mean(np.mean(np.abs(explainer.shap_values(X_train_cv)), axis = 0), axis = 1)\n",
    "    \n",
    "        if verbose:\n",
    "            print(\"STEP 2.3 (Feature selection)\")\n",
    "        \n",
    "        X_train_cv_reduced, X_val_cv_reduced, selected_features = feature_selector_shap(feature_names, feature_importances_shap, \n",
    "                                                                                        best_model, \n",
    "                                                                                        X_train_cv, X_val, y_train_cv,\n",
    "                                                                                        inner_cv,\n",
    "                                                                                        plot = False, verbose = False)\n",
    "\n",
    "        if verbose:\n",
    "            print(\"STEP 2.4 (HyperParameter Tuning Part 2)\")\n",
    "        \n",
    "        opti_fs = BayesSearchCV(\n",
    "            estimator = best_model, \n",
    "            search_spaces = search_space, \n",
    "            n_iter = n_iter_bsearch, \n",
    "            cv = inner_cv,\n",
    "            random_state = hypertune_random_state_bsearch,\n",
    "            refit = True, \n",
    "            n_jobs = n_jobs,\n",
    "            verbose = 3\n",
    "        )\n",
    "        \n",
    "        opti_fs.fit(X_train_cv_reduced, y_train_cv)\n",
    "        best_model_fs = opti_fs.best_estimator_\n",
    "        best_params_fs = opti_fs.best_params_\n",
    "        \n",
    "        if verbose:\n",
    "            print(\"STEP 3 (Prediction)\")\n",
    "        \n",
    "        cv_predictions = best_model_fs.predict(X_val_cv_reduced)\n",
    "        cv_pred_probas = best_model_fs.predict_proba(X_val_cv_reduced)\n",
    "        \n",
    "        cv_accuracy = sk.metrics.accuracy_score(y_val, cv_predictions)\n",
    "        cv_f1 = sk.metrics.f1_score(y_val, cv_predictions, average = \"macro\")\n",
    "        cv_precision = sk.metrics.precision_score(y_val, cv_predictions, average = \"macro\")\n",
    "        cv_recall = sk.metrics.recall_score(y_val, cv_predictions, average = \"macro\")\n",
    "        cv_roc_auc = sk.metrics.roc_auc_score(y_val, cv_pred_probas, multi_class='ovr', average = \"macro\")\n",
    "        \n",
    "        hyperparam_list.append(best_params_fs)\n",
    "        selected_features_list.append(selected_features)\n",
    "        accuracy_array[i] = cv_accuracy \n",
    "        f1_array[i] = cv_f1\n",
    "        precision_array[i] = cv_precision\n",
    "        recall_array[i] = cv_recall\n",
    "        roc_auc_array[i] = cv_roc_auc\n",
    "        predictions_array[val_index] = cv_predictions\n",
    "        probas_array[val_index] = cv_pred_probas\n",
    "        \n",
    "        i += 1\n",
    "\n",
    "    return(hyperparam_list, selected_features_list, \n",
    "           accuracy_array, f1_array, precision_array, \n",
    "           recall_array, roc_auc_array, predictions_array, probas_array)"
   ]
  },
  {
   "cell_type": "markdown",
   "id": "2f7cf70b",
   "metadata": {
    "papermill": {
     "duration": 0.004154,
     "end_time": "2025-06-07T11:24:57.982258",
     "exception": false,
     "start_time": "2025-06-07T11:24:57.978104",
     "status": "completed"
    },
    "tags": []
   },
   "source": [
    "## Load Data"
   ]
  },
  {
   "cell_type": "code",
   "execution_count": 11,
   "id": "f2123e42",
   "metadata": {
    "execution": {
     "iopub.execute_input": "2025-06-07T11:24:57.991872Z",
     "iopub.status.busy": "2025-06-07T11:24:57.991565Z",
     "iopub.status.idle": "2025-06-07T11:24:58.578999Z",
     "shell.execute_reply": "2025-06-07T11:24:58.578116Z"
    },
    "papermill": {
     "duration": 0.59372,
     "end_time": "2025-06-07T11:24:58.580139",
     "exception": false,
     "start_time": "2025-06-07T11:24:57.986419",
     "status": "completed"
    },
    "tags": []
   },
   "outputs": [],
   "source": [
    "output_dict = load_datasets_from_r(path_to_datasets)"
   ]
  },
  {
   "cell_type": "code",
   "execution_count": 12,
   "id": "b475b4a1",
   "metadata": {
    "execution": {
     "iopub.execute_input": "2025-06-07T11:24:58.589870Z",
     "iopub.status.busy": "2025-06-07T11:24:58.589703Z",
     "iopub.status.idle": "2025-06-07T11:24:58.593627Z",
     "shell.execute_reply": "2025-06-07T11:24:58.592861Z"
    },
    "papermill": {
     "duration": 0.00965,
     "end_time": "2025-06-07T11:24:58.594390",
     "exception": false,
     "start_time": "2025-06-07T11:24:58.584740",
     "status": "completed"
    },
    "tags": []
   },
   "outputs": [],
   "source": [
    "working_df = output_dict[mode]"
   ]
  },
  {
   "cell_type": "code",
   "execution_count": 13,
   "id": "4d69cb84",
   "metadata": {
    "execution": {
     "iopub.execute_input": "2025-06-07T11:24:58.603468Z",
     "iopub.status.busy": "2025-06-07T11:24:58.603335Z",
     "iopub.status.idle": "2025-06-07T11:24:58.616420Z",
     "shell.execute_reply": "2025-06-07T11:24:58.615702Z"
    },
    "papermill": {
     "duration": 0.018376,
     "end_time": "2025-06-07T11:24:58.617064",
     "exception": false,
     "start_time": "2025-06-07T11:24:58.598688",
     "status": "completed"
    },
    "tags": []
   },
   "outputs": [
    {
     "data": {
      "text/html": [
       "<div>\n",
       "<style scoped>\n",
       "    .dataframe tbody tr th:only-of-type {\n",
       "        vertical-align: middle;\n",
       "    }\n",
       "\n",
       "    .dataframe tbody tr th {\n",
       "        vertical-align: top;\n",
       "    }\n",
       "\n",
       "    .dataframe thead th {\n",
       "        text-align: right;\n",
       "    }\n",
       "</style>\n",
       "<table border=\"1\" class=\"dataframe\">\n",
       "  <thead>\n",
       "    <tr style=\"text-align: right;\">\n",
       "      <th></th>\n",
       "      <th>bin</th>\n",
       "      <th>joint_probability</th>\n",
       "      <th>bool_diff_acc</th>\n",
       "      <th>sign_mean_log2FC_1</th>\n",
       "      <th>sign_mean_log2FC_2</th>\n",
       "      <th>sign_mean_log2FC_3</th>\n",
       "      <th>mean_log2FC</th>\n",
       "      <th>weighted_log2FC</th>\n",
       "      <th>weighted_coef_of_var_log2FC</th>\n",
       "      <th>Type</th>\n",
       "      <th>...</th>\n",
       "      <th>7_725</th>\n",
       "      <th>9_534</th>\n",
       "      <th>19_21</th>\n",
       "      <th>2_1423</th>\n",
       "      <th>7_1413</th>\n",
       "      <th>8_843</th>\n",
       "      <th>19_159</th>\n",
       "      <th>4_4</th>\n",
       "      <th>log2smoothed</th>\n",
       "      <th>replication_class</th>\n",
       "    </tr>\n",
       "  </thead>\n",
       "  <tbody>\n",
       "    <tr>\n",
       "      <th>1</th>\n",
       "      <td>1_100</td>\n",
       "      <td>1.0</td>\n",
       "      <td>0</td>\n",
       "      <td>-1</td>\n",
       "      <td>0</td>\n",
       "      <td>0</td>\n",
       "      <td>-0.380373</td>\n",
       "      <td>0.0</td>\n",
       "      <td>0.0</td>\n",
       "      <td>BRCA</td>\n",
       "      <td>...</td>\n",
       "      <td>-0.2210</td>\n",
       "      <td>-0.2190</td>\n",
       "      <td>-0.2312</td>\n",
       "      <td>-0.2398</td>\n",
       "      <td>-0.2309</td>\n",
       "      <td>7.0273</td>\n",
       "      <td>-0.2335</td>\n",
       "      <td>-0.2108</td>\n",
       "      <td>1.735620</td>\n",
       "      <td>E</td>\n",
       "    </tr>\n",
       "    <tr>\n",
       "      <th>2</th>\n",
       "      <td>1_1000</td>\n",
       "      <td>1.0</td>\n",
       "      <td>0</td>\n",
       "      <td>-1</td>\n",
       "      <td>0</td>\n",
       "      <td>0</td>\n",
       "      <td>-0.602995</td>\n",
       "      <td>0.0</td>\n",
       "      <td>0.0</td>\n",
       "      <td>BRCA</td>\n",
       "      <td>...</td>\n",
       "      <td>-0.2198</td>\n",
       "      <td>5.3226</td>\n",
       "      <td>-0.2249</td>\n",
       "      <td>-0.2361</td>\n",
       "      <td>-0.2157</td>\n",
       "      <td>-0.2218</td>\n",
       "      <td>-0.2404</td>\n",
       "      <td>6.6876</td>\n",
       "      <td>-0.094779</td>\n",
       "      <td>L</td>\n",
       "    </tr>\n",
       "    <tr>\n",
       "      <th>3</th>\n",
       "      <td>1_1015</td>\n",
       "      <td>1.0</td>\n",
       "      <td>0</td>\n",
       "      <td>-1</td>\n",
       "      <td>0</td>\n",
       "      <td>0</td>\n",
       "      <td>-0.522122</td>\n",
       "      <td>0.0</td>\n",
       "      <td>0.0</td>\n",
       "      <td>BRCA</td>\n",
       "      <td>...</td>\n",
       "      <td>-0.2239</td>\n",
       "      <td>-0.2855</td>\n",
       "      <td>-0.2456</td>\n",
       "      <td>-0.2356</td>\n",
       "      <td>-0.2420</td>\n",
       "      <td>-0.2455</td>\n",
       "      <td>-0.2304</td>\n",
       "      <td>-0.2166</td>\n",
       "      <td>-0.551728</td>\n",
       "      <td>L</td>\n",
       "    </tr>\n",
       "    <tr>\n",
       "      <th>4</th>\n",
       "      <td>1_1016</td>\n",
       "      <td>1.0</td>\n",
       "      <td>0</td>\n",
       "      <td>-1</td>\n",
       "      <td>0</td>\n",
       "      <td>0</td>\n",
       "      <td>-0.496123</td>\n",
       "      <td>0.0</td>\n",
       "      <td>0.0</td>\n",
       "      <td>BRCA</td>\n",
       "      <td>...</td>\n",
       "      <td>-0.2436</td>\n",
       "      <td>5.3778</td>\n",
       "      <td>-0.2445</td>\n",
       "      <td>-0.2304</td>\n",
       "      <td>-0.2075</td>\n",
       "      <td>10.4735</td>\n",
       "      <td>-0.2317</td>\n",
       "      <td>-0.2229</td>\n",
       "      <td>-0.590057</td>\n",
       "      <td>L</td>\n",
       "    </tr>\n",
       "    <tr>\n",
       "      <th>5</th>\n",
       "      <td>1_1017</td>\n",
       "      <td>1.0</td>\n",
       "      <td>0</td>\n",
       "      <td>-1</td>\n",
       "      <td>0</td>\n",
       "      <td>0</td>\n",
       "      <td>-0.505283</td>\n",
       "      <td>0.0</td>\n",
       "      <td>0.0</td>\n",
       "      <td>BRCA</td>\n",
       "      <td>...</td>\n",
       "      <td>-0.2417</td>\n",
       "      <td>-0.2345</td>\n",
       "      <td>-0.2464</td>\n",
       "      <td>-0.2363</td>\n",
       "      <td>-0.2251</td>\n",
       "      <td>-0.2525</td>\n",
       "      <td>9.3573</td>\n",
       "      <td>-0.2253</td>\n",
       "      <td>-0.613592</td>\n",
       "      <td>L</td>\n",
       "    </tr>\n",
       "  </tbody>\n",
       "</table>\n",
       "<p>5 rows × 263 columns</p>\n",
       "</div>"
      ],
      "text/plain": [
       "      bin  joint_probability  bool_diff_acc  sign_mean_log2FC_1  \\\n",
       "1   1_100                1.0              0                  -1   \n",
       "2  1_1000                1.0              0                  -1   \n",
       "3  1_1015                1.0              0                  -1   \n",
       "4  1_1016                1.0              0                  -1   \n",
       "5  1_1017                1.0              0                  -1   \n",
       "\n",
       "   sign_mean_log2FC_2  sign_mean_log2FC_3  mean_log2FC  weighted_log2FC  \\\n",
       "1                   0                   0    -0.380373              0.0   \n",
       "2                   0                   0    -0.602995              0.0   \n",
       "3                   0                   0    -0.522122              0.0   \n",
       "4                   0                   0    -0.496123              0.0   \n",
       "5                   0                   0    -0.505283              0.0   \n",
       "\n",
       "   weighted_coef_of_var_log2FC  Type  ...   7_725   9_534   19_21  2_1423  \\\n",
       "1                          0.0  BRCA  ... -0.2210 -0.2190 -0.2312 -0.2398   \n",
       "2                          0.0  BRCA  ... -0.2198  5.3226 -0.2249 -0.2361   \n",
       "3                          0.0  BRCA  ... -0.2239 -0.2855 -0.2456 -0.2356   \n",
       "4                          0.0  BRCA  ... -0.2436  5.3778 -0.2445 -0.2304   \n",
       "5                          0.0  BRCA  ... -0.2417 -0.2345 -0.2464 -0.2363   \n",
       "\n",
       "   7_1413    8_843  19_159     4_4  log2smoothed  replication_class  \n",
       "1 -0.2309   7.0273 -0.2335 -0.2108      1.735620                  E  \n",
       "2 -0.2157  -0.2218 -0.2404  6.6876     -0.094779                  L  \n",
       "3 -0.2420  -0.2455 -0.2304 -0.2166     -0.551728                  L  \n",
       "4 -0.2075  10.4735 -0.2317 -0.2229     -0.590057                  L  \n",
       "5 -0.2251  -0.2525  9.3573 -0.2253     -0.613592                  L  \n",
       "\n",
       "[5 rows x 263 columns]"
      ]
     },
     "execution_count": 13,
     "metadata": {},
     "output_type": "execute_result"
    }
   ],
   "source": [
    "working_df.head()"
   ]
  },
  {
   "cell_type": "code",
   "execution_count": 14,
   "id": "4c7e27b0",
   "metadata": {
    "execution": {
     "iopub.execute_input": "2025-06-07T11:24:58.626329Z",
     "iopub.status.busy": "2025-06-07T11:24:58.626193Z",
     "iopub.status.idle": "2025-06-07T11:24:58.630446Z",
     "shell.execute_reply": "2025-06-07T11:24:58.629958Z"
    },
    "papermill": {
     "duration": 0.009724,
     "end_time": "2025-06-07T11:24:58.631088",
     "exception": false,
     "start_time": "2025-06-07T11:24:58.621364",
     "status": "completed"
    },
    "tags": []
   },
   "outputs": [],
   "source": [
    "significant_dir_1 = np.where(\n",
    "    (working_df.bool_diff_acc == 1) & (working_df.sign_mean_log2FC_1 == 1), 2,\n",
    "    np.where(\n",
    "        (working_df.bool_diff_acc == 1) & (working_df.sign_mean_log2FC_1 == -1), 0, 1\n",
    "    )\n",
    ")"
   ]
  },
  {
   "cell_type": "code",
   "execution_count": 15,
   "id": "d35543e9",
   "metadata": {
    "execution": {
     "iopub.execute_input": "2025-06-07T11:24:58.640462Z",
     "iopub.status.busy": "2025-06-07T11:24:58.640323Z",
     "iopub.status.idle": "2025-06-07T11:24:58.643442Z",
     "shell.execute_reply": "2025-06-07T11:24:58.643036Z"
    },
    "papermill": {
     "duration": 0.008561,
     "end_time": "2025-06-07T11:24:58.644054",
     "exception": false,
     "start_time": "2025-06-07T11:24:58.635493",
     "status": "completed"
    },
    "tags": []
   },
   "outputs": [],
   "source": [
    "working_df[\"significant_dir_1\"] = significant_dir_1"
   ]
  },
  {
   "cell_type": "code",
   "execution_count": 16,
   "id": "f269260d",
   "metadata": {
    "execution": {
     "iopub.execute_input": "2025-06-07T11:24:58.653562Z",
     "iopub.status.busy": "2025-06-07T11:24:58.653427Z",
     "iopub.status.idle": "2025-06-07T11:24:58.921726Z",
     "shell.execute_reply": "2025-06-07T11:24:58.921042Z"
    },
    "papermill": {
     "duration": 0.274396,
     "end_time": "2025-06-07T11:24:58.922897",
     "exception": false,
     "start_time": "2025-06-07T11:24:58.648501",
     "status": "completed"
    },
    "tags": []
   },
   "outputs": [
    {
     "data": {
      "image/png": "[encoded data removed]",
      "text/plain": [
       "<Figure size 1200x500 with 6 Axes>"
      ]
     },
     "metadata": {},
     "output_type": "display_data"
    }
   ],
   "source": [
    "fig, axes = plt.subplots(3, 2, figsize=(12, 5))\n",
    "\n",
    "A = axes[0,0]\n",
    "B = axes[0,1]\n",
    "C = axes[1,0]\n",
    "D = axes[1,1]\n",
    "E = axes[2,0]\n",
    "F = axes[2,1]\n",
    "\n",
    "sns.barplot(working_df.bool_diff_acc.value_counts(), ax = A)\n",
    "sns.barplot(working_df.sign_mean_log2FC_1.value_counts(), ax = B)\n",
    "sns.barplot(working_df.sign_mean_log2FC_2.value_counts(), ax = C)\n",
    "sns.barplot(working_df.sign_mean_log2FC_3.value_counts(), ax = D)\n",
    "sns.barplot(working_df.significant_dir_1.value_counts(), ax = E)\n",
    "\n",
    "\n",
    "A.set_title(\"Differential Accessibility across patients (boolean) [A]\")\n",
    "B.set_title(\"Differential Accessibility direction (v = 1) [B]\")\n",
    "C.set_title(\"Differential Accessibility direction (v = 2) [C]\")\n",
    "D.set_title(\"Differential Accessibility direction (v = 3) [D]\")\n",
    "E.set_title(\"Signficant Direction (v = 1) [E]\")\n",
    "\n",
    "A.set_xlabel(\"\"); A.set_ylabel(\"\")\n",
    "B.set_xlabel(\"\"); B.set_ylabel(\"\")\n",
    "C.set_xlabel(\"\"); C.set_ylabel(\"\")\n",
    "D.set_xlabel(\"\"); D.set_ylabel(\"\")\n",
    "E.set_xlabel(\"\"); E.set_ylabel(\"\")\n",
    "\n",
    "F.axis('off')\n",
    "\n",
    "plt.tight_layout()"
   ]
  },
  {
   "cell_type": "markdown",
   "id": "ba35ca85",
   "metadata": {
    "papermill": {
     "duration": 0.004873,
     "end_time": "2025-06-07T11:24:58.932755",
     "exception": false,
     "start_time": "2025-06-07T11:24:58.927882",
     "status": "completed"
    },
    "tags": []
   },
   "source": [
    "## Prepare Data"
   ]
  },
  {
   "cell_type": "code",
   "execution_count": 17,
   "id": "b194ab7a",
   "metadata": {
    "execution": {
     "iopub.execute_input": "2025-06-07T11:24:58.945251Z",
     "iopub.status.busy": "2025-06-07T11:24:58.944459Z",
     "iopub.status.idle": "2025-06-07T11:24:58.949627Z",
     "shell.execute_reply": "2025-06-07T11:24:58.949193Z"
    },
    "papermill": {
     "duration": 0.012453,
     "end_time": "2025-06-07T11:24:58.950101",
     "exception": false,
     "start_time": "2025-06-07T11:24:58.937648",
     "status": "completed"
    },
    "tags": []
   },
   "outputs": [],
   "source": [
    "bin_ids = working_df[[\"bin\"]]"
   ]
  },
  {
   "cell_type": "code",
   "execution_count": 18,
   "id": "211cfcff",
   "metadata": {
    "execution": {
     "iopub.execute_input": "2025-06-07T11:24:58.960912Z",
     "iopub.status.busy": "2025-06-07T11:24:58.960756Z",
     "iopub.status.idle": "2025-06-07T11:24:58.975190Z",
     "shell.execute_reply": "2025-06-07T11:24:58.974092Z"
    },
    "papermill": {
     "duration": 0.021254,
     "end_time": "2025-06-07T11:24:58.976264",
     "exception": false,
     "start_time": "2025-06-07T11:24:58.955010",
     "status": "completed"
    },
    "tags": []
   },
   "outputs": [],
   "source": [
    "working_df = working_df.drop(cols_to_drop, axis= 1)"
   ]
  },
  {
   "cell_type": "code",
   "execution_count": 19,
   "id": "4d3e2eef",
   "metadata": {
    "execution": {
     "iopub.execute_input": "2025-06-07T11:24:58.990475Z",
     "iopub.status.busy": "2025-06-07T11:24:58.989754Z",
     "iopub.status.idle": "2025-06-07T11:24:59.002746Z",
     "shell.execute_reply": "2025-06-07T11:24:59.002245Z"
    },
    "papermill": {
     "duration": 0.02054,
     "end_time": "2025-06-07T11:24:59.003538",
     "exception": false,
     "start_time": "2025-06-07T11:24:58.982998",
     "status": "completed"
    },
    "tags": []
   },
   "outputs": [
    {
     "data": {
      "text/html": [
       "<div>\n",
       "<style scoped>\n",
       "    .dataframe tbody tr th:only-of-type {\n",
       "        vertical-align: middle;\n",
       "    }\n",
       "\n",
       "    .dataframe tbody tr th {\n",
       "        vertical-align: top;\n",
       "    }\n",
       "\n",
       "    .dataframe thead th {\n",
       "        text-align: right;\n",
       "    }\n",
       "</style>\n",
       "<table border=\"1\" class=\"dataframe\">\n",
       "  <thead>\n",
       "    <tr style=\"text-align: right;\">\n",
       "      <th></th>\n",
       "      <th>ampl_score</th>\n",
       "      <th>del_score</th>\n",
       "      <th>mean.GC.content</th>\n",
       "      <th>total_n_partners.trans</th>\n",
       "      <th>total_n_PPIs.trans_IntINSIDER</th>\n",
       "      <th>total_n_ohnologs.mmpaper_trans</th>\n",
       "      <th>total_n_paralogs_trans</th>\n",
       "      <th>dist.to.closest.FGS</th>\n",
       "      <th>Length_Counts.E1</th>\n",
       "      <th>Length_Counts.E10</th>\n",
       "      <th>...</th>\n",
       "      <th>7_725</th>\n",
       "      <th>9_534</th>\n",
       "      <th>19_21</th>\n",
       "      <th>2_1423</th>\n",
       "      <th>7_1413</th>\n",
       "      <th>8_843</th>\n",
       "      <th>19_159</th>\n",
       "      <th>4_4</th>\n",
       "      <th>log2smoothed</th>\n",
       "      <th>significant_dir_1</th>\n",
       "    </tr>\n",
       "  </thead>\n",
       "  <tbody>\n",
       "    <tr>\n",
       "      <th>1</th>\n",
       "      <td>0.028116</td>\n",
       "      <td>0.294283</td>\n",
       "      <td>47.64</td>\n",
       "      <td>2.0</td>\n",
       "      <td>11.0</td>\n",
       "      <td>NaN</td>\n",
       "      <td>NaN</td>\n",
       "      <td>61798000.0</td>\n",
       "      <td>600.0</td>\n",
       "      <td>2800.0</td>\n",
       "      <td>...</td>\n",
       "      <td>-0.2210</td>\n",
       "      <td>-0.2190</td>\n",
       "      <td>-0.2312</td>\n",
       "      <td>-0.2398</td>\n",
       "      <td>-0.2309</td>\n",
       "      <td>7.0273</td>\n",
       "      <td>-0.2335</td>\n",
       "      <td>-0.2108</td>\n",
       "      <td>1.735620</td>\n",
       "      <td>1</td>\n",
       "    </tr>\n",
       "    <tr>\n",
       "      <th>2</th>\n",
       "      <td>0.064667</td>\n",
       "      <td>0.223993</td>\n",
       "      <td>NaN</td>\n",
       "      <td>NaN</td>\n",
       "      <td>NaN</td>\n",
       "      <td>NaN</td>\n",
       "      <td>NaN</td>\n",
       "      <td>27119981.0</td>\n",
       "      <td>0.0</td>\n",
       "      <td>0.0</td>\n",
       "      <td>...</td>\n",
       "      <td>-0.2198</td>\n",
       "      <td>5.3226</td>\n",
       "      <td>-0.2249</td>\n",
       "      <td>-0.2361</td>\n",
       "      <td>-0.2157</td>\n",
       "      <td>-0.2218</td>\n",
       "      <td>-0.2404</td>\n",
       "      <td>6.6876</td>\n",
       "      <td>-0.094779</td>\n",
       "      <td>1</td>\n",
       "    </tr>\n",
       "    <tr>\n",
       "      <th>3</th>\n",
       "      <td>0.060918</td>\n",
       "      <td>0.226804</td>\n",
       "      <td>37.71</td>\n",
       "      <td>0.0</td>\n",
       "      <td>10.0</td>\n",
       "      <td>NaN</td>\n",
       "      <td>NaN</td>\n",
       "      <td>28620281.0</td>\n",
       "      <td>0.0</td>\n",
       "      <td>0.0</td>\n",
       "      <td>...</td>\n",
       "      <td>-0.2239</td>\n",
       "      <td>-0.2855</td>\n",
       "      <td>-0.2456</td>\n",
       "      <td>-0.2356</td>\n",
       "      <td>-0.2420</td>\n",
       "      <td>-0.2455</td>\n",
       "      <td>-0.2304</td>\n",
       "      <td>-0.2166</td>\n",
       "      <td>-0.551728</td>\n",
       "      <td>1</td>\n",
       "    </tr>\n",
       "    <tr>\n",
       "      <th>4</th>\n",
       "      <td>0.059981</td>\n",
       "      <td>0.227741</td>\n",
       "      <td>NaN</td>\n",
       "      <td>NaN</td>\n",
       "      <td>NaN</td>\n",
       "      <td>NaN</td>\n",
       "      <td>NaN</td>\n",
       "      <td>28720301.0</td>\n",
       "      <td>0.0</td>\n",
       "      <td>0.0</td>\n",
       "      <td>...</td>\n",
       "      <td>-0.2436</td>\n",
       "      <td>5.3778</td>\n",
       "      <td>-0.2445</td>\n",
       "      <td>-0.2304</td>\n",
       "      <td>-0.2075</td>\n",
       "      <td>10.4735</td>\n",
       "      <td>-0.2317</td>\n",
       "      <td>-0.2229</td>\n",
       "      <td>-0.590057</td>\n",
       "      <td>1</td>\n",
       "    </tr>\n",
       "    <tr>\n",
       "      <th>5</th>\n",
       "      <td>0.059981</td>\n",
       "      <td>0.228679</td>\n",
       "      <td>47.92</td>\n",
       "      <td>9.0</td>\n",
       "      <td>6.0</td>\n",
       "      <td>7.0</td>\n",
       "      <td>12.0</td>\n",
       "      <td>28820321.0</td>\n",
       "      <td>300.0</td>\n",
       "      <td>0.0</td>\n",
       "      <td>...</td>\n",
       "      <td>-0.2417</td>\n",
       "      <td>-0.2345</td>\n",
       "      <td>-0.2464</td>\n",
       "      <td>-0.2363</td>\n",
       "      <td>-0.2251</td>\n",
       "      <td>-0.2525</td>\n",
       "      <td>9.3573</td>\n",
       "      <td>-0.2253</td>\n",
       "      <td>-0.613592</td>\n",
       "      <td>1</td>\n",
       "    </tr>\n",
       "  </tbody>\n",
       "</table>\n",
       "<p>5 rows × 253 columns</p>\n",
       "</div>"
      ],
      "text/plain": [
       "   ampl_score  del_score  mean.GC.content  total_n_partners.trans  \\\n",
       "1    0.028116   0.294283            47.64                     2.0   \n",
       "2    0.064667   0.223993              NaN                     NaN   \n",
       "3    0.060918   0.226804            37.71                     0.0   \n",
       "4    0.059981   0.227741              NaN                     NaN   \n",
       "5    0.059981   0.228679            47.92                     9.0   \n",
       "\n",
       "   total_n_PPIs.trans_IntINSIDER  total_n_ohnologs.mmpaper_trans  \\\n",
       "1                           11.0                             NaN   \n",
       "2                            NaN                             NaN   \n",
       "3                           10.0                             NaN   \n",
       "4                            NaN                             NaN   \n",
       "5                            6.0                             7.0   \n",
       "\n",
       "   total_n_paralogs_trans  dist.to.closest.FGS  Length_Counts.E1  \\\n",
       "1                     NaN           61798000.0             600.0   \n",
       "2                     NaN           27119981.0               0.0   \n",
       "3                     NaN           28620281.0               0.0   \n",
       "4                     NaN           28720301.0               0.0   \n",
       "5                    12.0           28820321.0             300.0   \n",
       "\n",
       "   Length_Counts.E10  ...   7_725   9_534   19_21  2_1423  7_1413    8_843  \\\n",
       "1             2800.0  ... -0.2210 -0.2190 -0.2312 -0.2398 -0.2309   7.0273   \n",
       "2                0.0  ... -0.2198  5.3226 -0.2249 -0.2361 -0.2157  -0.2218   \n",
       "3                0.0  ... -0.2239 -0.2855 -0.2456 -0.2356 -0.2420  -0.2455   \n",
       "4                0.0  ... -0.2436  5.3778 -0.2445 -0.2304 -0.2075  10.4735   \n",
       "5                0.0  ... -0.2417 -0.2345 -0.2464 -0.2363 -0.2251  -0.2525   \n",
       "\n",
       "   19_159     4_4  log2smoothed  significant_dir_1  \n",
       "1 -0.2335 -0.2108      1.735620                  1  \n",
       "2 -0.2404  6.6876     -0.094779                  1  \n",
       "3 -0.2304 -0.2166     -0.551728                  1  \n",
       "4 -0.2317 -0.2229     -0.590057                  1  \n",
       "5  9.3573 -0.2253     -0.613592                  1  \n",
       "\n",
       "[5 rows x 253 columns]"
      ]
     },
     "execution_count": 19,
     "metadata": {},
     "output_type": "execute_result"
    }
   ],
   "source": [
    "working_df.head()"
   ]
  },
  {
   "cell_type": "code",
   "execution_count": 20,
   "id": "1222a314",
   "metadata": {
    "execution": {
     "iopub.execute_input": "2025-06-07T11:24:59.015351Z",
     "iopub.status.busy": "2025-06-07T11:24:59.015189Z",
     "iopub.status.idle": "2025-06-07T11:24:59.029554Z",
     "shell.execute_reply": "2025-06-07T11:24:59.029095Z"
    },
    "papermill": {
     "duration": 0.021326,
     "end_time": "2025-06-07T11:24:59.030610",
     "exception": false,
     "start_time": "2025-06-07T11:24:59.009284",
     "status": "completed"
    },
    "tags": []
   },
   "outputs": [],
   "source": [
    "X = working_df.iloc[:, 0:-1]\n",
    "y = working_df.iloc[:, -1]"
   ]
  },
  {
   "cell_type": "code",
   "execution_count": 21,
   "id": "67207cf2",
   "metadata": {
    "execution": {
     "iopub.execute_input": "2025-06-07T11:24:59.043723Z",
     "iopub.status.busy": "2025-06-07T11:24:59.043568Z",
     "iopub.status.idle": "2025-06-07T11:24:59.055660Z",
     "shell.execute_reply": "2025-06-07T11:24:59.055098Z"
    },
    "papermill": {
     "duration": 0.019323,
     "end_time": "2025-06-07T11:24:59.056280",
     "exception": false,
     "start_time": "2025-06-07T11:24:59.036957",
     "status": "completed"
    },
    "tags": []
   },
   "outputs": [
    {
     "data": {
      "text/html": [
       "<div>\n",
       "<style scoped>\n",
       "    .dataframe tbody tr th:only-of-type {\n",
       "        vertical-align: middle;\n",
       "    }\n",
       "\n",
       "    .dataframe tbody tr th {\n",
       "        vertical-align: top;\n",
       "    }\n",
       "\n",
       "    .dataframe thead th {\n",
       "        text-align: right;\n",
       "    }\n",
       "</style>\n",
       "<table border=\"1\" class=\"dataframe\">\n",
       "  <thead>\n",
       "    <tr style=\"text-align: right;\">\n",
       "      <th></th>\n",
       "      <th>ampl_score</th>\n",
       "      <th>del_score</th>\n",
       "      <th>mean.GC.content</th>\n",
       "      <th>total_n_partners.trans</th>\n",
       "      <th>total_n_PPIs.trans_IntINSIDER</th>\n",
       "      <th>total_n_ohnologs.mmpaper_trans</th>\n",
       "      <th>total_n_paralogs_trans</th>\n",
       "      <th>dist.to.closest.FGS</th>\n",
       "      <th>Length_Counts.E1</th>\n",
       "      <th>Length_Counts.E10</th>\n",
       "      <th>...</th>\n",
       "      <th>9_1370</th>\n",
       "      <th>7_725</th>\n",
       "      <th>9_534</th>\n",
       "      <th>19_21</th>\n",
       "      <th>2_1423</th>\n",
       "      <th>7_1413</th>\n",
       "      <th>8_843</th>\n",
       "      <th>19_159</th>\n",
       "      <th>4_4</th>\n",
       "      <th>log2smoothed</th>\n",
       "    </tr>\n",
       "  </thead>\n",
       "  <tbody>\n",
       "    <tr>\n",
       "      <th>1</th>\n",
       "      <td>0.028116</td>\n",
       "      <td>0.294283</td>\n",
       "      <td>47.64</td>\n",
       "      <td>2.0</td>\n",
       "      <td>11.0</td>\n",
       "      <td>NaN</td>\n",
       "      <td>NaN</td>\n",
       "      <td>61798000.0</td>\n",
       "      <td>600.0</td>\n",
       "      <td>2800.0</td>\n",
       "      <td>...</td>\n",
       "      <td>-0.2532</td>\n",
       "      <td>-0.2210</td>\n",
       "      <td>-0.2190</td>\n",
       "      <td>-0.2312</td>\n",
       "      <td>-0.2398</td>\n",
       "      <td>-0.2309</td>\n",
       "      <td>7.0273</td>\n",
       "      <td>-0.2335</td>\n",
       "      <td>-0.2108</td>\n",
       "      <td>1.735620</td>\n",
       "    </tr>\n",
       "    <tr>\n",
       "      <th>2</th>\n",
       "      <td>0.064667</td>\n",
       "      <td>0.223993</td>\n",
       "      <td>NaN</td>\n",
       "      <td>NaN</td>\n",
       "      <td>NaN</td>\n",
       "      <td>NaN</td>\n",
       "      <td>NaN</td>\n",
       "      <td>27119981.0</td>\n",
       "      <td>0.0</td>\n",
       "      <td>0.0</td>\n",
       "      <td>...</td>\n",
       "      <td>-0.2371</td>\n",
       "      <td>-0.2198</td>\n",
       "      <td>5.3226</td>\n",
       "      <td>-0.2249</td>\n",
       "      <td>-0.2361</td>\n",
       "      <td>-0.2157</td>\n",
       "      <td>-0.2218</td>\n",
       "      <td>-0.2404</td>\n",
       "      <td>6.6876</td>\n",
       "      <td>-0.094779</td>\n",
       "    </tr>\n",
       "    <tr>\n",
       "      <th>3</th>\n",
       "      <td>0.060918</td>\n",
       "      <td>0.226804</td>\n",
       "      <td>37.71</td>\n",
       "      <td>0.0</td>\n",
       "      <td>10.0</td>\n",
       "      <td>NaN</td>\n",
       "      <td>NaN</td>\n",
       "      <td>28620281.0</td>\n",
       "      <td>0.0</td>\n",
       "      <td>0.0</td>\n",
       "      <td>...</td>\n",
       "      <td>-0.2073</td>\n",
       "      <td>-0.2239</td>\n",
       "      <td>-0.2855</td>\n",
       "      <td>-0.2456</td>\n",
       "      <td>-0.2356</td>\n",
       "      <td>-0.2420</td>\n",
       "      <td>-0.2455</td>\n",
       "      <td>-0.2304</td>\n",
       "      <td>-0.2166</td>\n",
       "      <td>-0.551728</td>\n",
       "    </tr>\n",
       "    <tr>\n",
       "      <th>4</th>\n",
       "      <td>0.059981</td>\n",
       "      <td>0.227741</td>\n",
       "      <td>NaN</td>\n",
       "      <td>NaN</td>\n",
       "      <td>NaN</td>\n",
       "      <td>NaN</td>\n",
       "      <td>NaN</td>\n",
       "      <td>28720301.0</td>\n",
       "      <td>0.0</td>\n",
       "      <td>0.0</td>\n",
       "      <td>...</td>\n",
       "      <td>-0.1891</td>\n",
       "      <td>-0.2436</td>\n",
       "      <td>5.3778</td>\n",
       "      <td>-0.2445</td>\n",
       "      <td>-0.2304</td>\n",
       "      <td>-0.2075</td>\n",
       "      <td>10.4735</td>\n",
       "      <td>-0.2317</td>\n",
       "      <td>-0.2229</td>\n",
       "      <td>-0.590057</td>\n",
       "    </tr>\n",
       "    <tr>\n",
       "      <th>5</th>\n",
       "      <td>0.059981</td>\n",
       "      <td>0.228679</td>\n",
       "      <td>47.92</td>\n",
       "      <td>9.0</td>\n",
       "      <td>6.0</td>\n",
       "      <td>7.0</td>\n",
       "      <td>12.0</td>\n",
       "      <td>28820321.0</td>\n",
       "      <td>300.0</td>\n",
       "      <td>0.0</td>\n",
       "      <td>...</td>\n",
       "      <td>-0.1833</td>\n",
       "      <td>-0.2417</td>\n",
       "      <td>-0.2345</td>\n",
       "      <td>-0.2464</td>\n",
       "      <td>-0.2363</td>\n",
       "      <td>-0.2251</td>\n",
       "      <td>-0.2525</td>\n",
       "      <td>9.3573</td>\n",
       "      <td>-0.2253</td>\n",
       "      <td>-0.613592</td>\n",
       "    </tr>\n",
       "  </tbody>\n",
       "</table>\n",
       "<p>5 rows × 252 columns</p>\n",
       "</div>"
      ],
      "text/plain": [
       "   ampl_score  del_score  mean.GC.content  total_n_partners.trans  \\\n",
       "1    0.028116   0.294283            47.64                     2.0   \n",
       "2    0.064667   0.223993              NaN                     NaN   \n",
       "3    0.060918   0.226804            37.71                     0.0   \n",
       "4    0.059981   0.227741              NaN                     NaN   \n",
       "5    0.059981   0.228679            47.92                     9.0   \n",
       "\n",
       "   total_n_PPIs.trans_IntINSIDER  total_n_ohnologs.mmpaper_trans  \\\n",
       "1                           11.0                             NaN   \n",
       "2                            NaN                             NaN   \n",
       "3                           10.0                             NaN   \n",
       "4                            NaN                             NaN   \n",
       "5                            6.0                             7.0   \n",
       "\n",
       "   total_n_paralogs_trans  dist.to.closest.FGS  Length_Counts.E1  \\\n",
       "1                     NaN           61798000.0             600.0   \n",
       "2                     NaN           27119981.0               0.0   \n",
       "3                     NaN           28620281.0               0.0   \n",
       "4                     NaN           28720301.0               0.0   \n",
       "5                    12.0           28820321.0             300.0   \n",
       "\n",
       "   Length_Counts.E10  ...  9_1370   7_725   9_534   19_21  2_1423  7_1413  \\\n",
       "1             2800.0  ... -0.2532 -0.2210 -0.2190 -0.2312 -0.2398 -0.2309   \n",
       "2                0.0  ... -0.2371 -0.2198  5.3226 -0.2249 -0.2361 -0.2157   \n",
       "3                0.0  ... -0.2073 -0.2239 -0.2855 -0.2456 -0.2356 -0.2420   \n",
       "4                0.0  ... -0.1891 -0.2436  5.3778 -0.2445 -0.2304 -0.2075   \n",
       "5                0.0  ... -0.1833 -0.2417 -0.2345 -0.2464 -0.2363 -0.2251   \n",
       "\n",
       "     8_843  19_159     4_4  log2smoothed  \n",
       "1   7.0273 -0.2335 -0.2108      1.735620  \n",
       "2  -0.2218 -0.2404  6.6876     -0.094779  \n",
       "3  -0.2455 -0.2304 -0.2166     -0.551728  \n",
       "4  10.4735 -0.2317 -0.2229     -0.590057  \n",
       "5  -0.2525  9.3573 -0.2253     -0.613592  \n",
       "\n",
       "[5 rows x 252 columns]"
      ]
     },
     "execution_count": 21,
     "metadata": {},
     "output_type": "execute_result"
    }
   ],
   "source": [
    "X.head()"
   ]
  },
  {
   "cell_type": "code",
   "execution_count": 22,
   "id": "79e58ea6",
   "metadata": {
    "execution": {
     "iopub.execute_input": "2025-06-07T11:24:59.067881Z",
     "iopub.status.busy": "2025-06-07T11:24:59.067715Z",
     "iopub.status.idle": "2025-06-07T11:24:59.072623Z",
     "shell.execute_reply": "2025-06-07T11:24:59.072091Z"
    },
    "papermill": {
     "duration": 0.011603,
     "end_time": "2025-06-07T11:24:59.073104",
     "exception": false,
     "start_time": "2025-06-07T11:24:59.061501",
     "status": "completed"
    },
    "tags": []
   },
   "outputs": [
    {
     "name": "stdout",
     "output_type": "stream",
     "text": [
      "Target Variable outside training set!\n"
     ]
    }
   ],
   "source": [
    "if len([col for col in cols_to_check if col in X.columns]) > 0:\n",
    "    raise Exception(\"Target Variable and derivated in the training set!\")\n",
    "else:\n",
    "    print(\"Target Variable outside training set!\")"
   ]
  },
  {
   "cell_type": "code",
   "execution_count": 23,
   "id": "359dd968",
   "metadata": {
    "execution": {
     "iopub.execute_input": "2025-06-07T11:24:59.084624Z",
     "iopub.status.busy": "2025-06-07T11:24:59.084462Z",
     "iopub.status.idle": "2025-06-07T11:24:59.088657Z",
     "shell.execute_reply": "2025-06-07T11:24:59.088211Z"
    },
    "papermill": {
     "duration": 0.010875,
     "end_time": "2025-06-07T11:24:59.089223",
     "exception": false,
     "start_time": "2025-06-07T11:24:59.078348",
     "status": "completed"
    },
    "tags": []
   },
   "outputs": [
    {
     "data": {
      "text/plain": [
       "Index(['ampl_score', 'del_score', 'mean.GC.content', 'total_n_partners.trans',\n",
       "       'total_n_PPIs.trans_IntINSIDER', 'total_n_ohnologs.mmpaper_trans',\n",
       "       'total_n_paralogs_trans', 'dist.to.closest.FGS', 'Length_Counts.E1',\n",
       "       'Length_Counts.E10',\n",
       "       ...\n",
       "       '9_1370', '7_725', '9_534', '19_21', '2_1423', '7_1413', '8_843',\n",
       "       '19_159', '4_4', 'log2smoothed'],\n",
       "      dtype='object', length=252)"
      ]
     },
     "execution_count": 23,
     "metadata": {},
     "output_type": "execute_result"
    }
   ],
   "source": [
    "X.columns"
   ]
  },
  {
   "cell_type": "code",
   "execution_count": 24,
   "id": "a02759a7",
   "metadata": {
    "execution": {
     "iopub.execute_input": "2025-06-07T11:24:59.100832Z",
     "iopub.status.busy": "2025-06-07T11:24:59.100666Z",
     "iopub.status.idle": "2025-06-07T11:24:59.124674Z",
     "shell.execute_reply": "2025-06-07T11:24:59.123788Z"
    },
    "papermill": {
     "duration": 0.031732,
     "end_time": "2025-06-07T11:24:59.126256",
     "exception": false,
     "start_time": "2025-06-07T11:24:59.094524",
     "status": "completed"
    },
    "tags": []
   },
   "outputs": [],
   "source": [
    "X_train, X_test, y_train, y_test, bin_train, bin_test = sk.model_selection.train_test_split(X, y, bin_ids, test_size=0.3, random_state=split_random_state)"
   ]
  },
  {
   "cell_type": "markdown",
   "id": "65126730",
   "metadata": {
    "papermill": {
     "duration": 0.005305,
     "end_time": "2025-06-07T11:24:59.139107",
     "exception": false,
     "start_time": "2025-06-07T11:24:59.133802",
     "status": "completed"
    },
    "tags": []
   },
   "source": [
    "## Prepare the Classifier and the Search Space"
   ]
  },
  {
   "cell_type": "code",
   "execution_count": 25,
   "id": "86965c6f",
   "metadata": {
    "execution": {
     "iopub.execute_input": "2025-06-07T11:24:59.151951Z",
     "iopub.status.busy": "2025-06-07T11:24:59.151280Z",
     "iopub.status.idle": "2025-06-07T11:24:59.159123Z",
     "shell.execute_reply": "2025-06-07T11:24:59.158538Z"
    },
    "papermill": {
     "duration": 0.015384,
     "end_time": "2025-06-07T11:24:59.159903",
     "exception": false,
     "start_time": "2025-06-07T11:24:59.144519",
     "status": "completed"
    },
    "tags": []
   },
   "outputs": [],
   "source": [
    "classifier = xgb.XGBClassifier(n_jobs = n_jobs_boost, seed = classifier_seed, random_state = classifier_random_state, tree_method = \"hist\", device = \"cpu\")\n",
    "\n",
    "search_space_bayes = {\n",
    "    'learning_rate': (0.01, 0.3),                     # conservative to prevent noisy learning\n",
    "    'max_depth': (1, 14),                             # captures 4–6 feature interactions without overfitting\n",
    "    'min_child_weight': (1, 50),                      # helps avoid splits on small samples\n",
    "    'gamma': (0.1, 1.0, 'log-uniform'),               # require meaningful splits\n",
    "    'subsample': (0.6, 1.0),                          # stabilize with row sampling\n",
    "    'colsample_bytree': (0.5, 1.0),                   # feature subsampling per tree\n",
    "    'colsample_bylevel': (0.5, 1.0),                  # feature subsampling per split level\n",
    "    'reg_alpha': (1e-3, 10, 'log-uniform'),           # L1 penalty for sparsity\n",
    "    'reg_lambda': (0.1, 100, 'log-uniform'),          # L2 penalty to reduce overfitting\n",
    "    'max_delta_step': (0, 10),                        # improves convergence in imbalanced/unstable targets\n",
    "    'n_estimators': (100, 500),                       # enough boosting rounds for complexity\n",
    "    'objective': ['multi:softmax'],  \n",
    "    'booster': ['gbtree', 'dart'],  \n",
    "    'eval_metric': ['mlogloss', 'error', 'auc']\n",
    "}"
   ]
  },
  {
   "cell_type": "markdown",
   "id": "abfd3421",
   "metadata": {
    "papermill": {
     "duration": 0.005326,
     "end_time": "2025-06-07T11:24:59.171298",
     "exception": false,
     "start_time": "2025-06-07T11:24:59.165972",
     "status": "completed"
    },
    "tags": []
   },
   "source": [
    "### NESTED CV PIPELINE"
   ]
  },
  {
   "cell_type": "code",
   "execution_count": 26,
   "id": "f6cb3f8f",
   "metadata": {
    "execution": {
     "iopub.execute_input": "2025-06-07T11:24:59.183631Z",
     "iopub.status.busy": "2025-06-07T11:24:59.183144Z",
     "iopub.status.idle": "2025-06-07T23:46:01.346269Z",
     "shell.execute_reply": "2025-06-07T23:46:01.345807Z"
    },
    "papermill": {
     "duration": 44462.170424,
     "end_time": "2025-06-07T23:46:01.346945",
     "exception": false,
     "start_time": "2025-06-07T11:24:59.176521",
     "status": "completed"
    },
    "tags": []
   },
   "outputs": [],
   "source": [
    "results = nested_CV_revenge(\n",
    "    outer_cv, inner_cv,\n",
    "    X_train=X_train,\n",
    "    y_train=y_train,\n",
    "    model=classifier,\n",
    "    search_space=search_space_bayes,\n",
    "    n_jobs= n_jobs_sk, n_iter_bsearch = n_iter_bsearch,\n",
    "    verbose=True\n",
    ")\n",
    "\n",
    "(\n",
    "    hyperparam_list,\n",
    "    selected_features_list,\n",
    "    accuracy_array,\n",
    "    f1_array,\n",
    "    precision_array,\n",
    "    recall_array,\n",
    "    roc_auc_array,\n",
    "    predictions_array,\n",
    "    probas_array\n",
    ") = results\n",
    "\n",
    "clear_output(wait = False)"
   ]
  },
  {
   "cell_type": "code",
   "execution_count": 27,
   "id": "acc538a1",
   "metadata": {
    "execution": {
     "iopub.execute_input": "2025-06-07T23:46:01.362110Z",
     "iopub.status.busy": "2025-06-07T23:46:01.361869Z",
     "iopub.status.idle": "2025-06-07T23:46:01.367435Z",
     "shell.execute_reply": "2025-06-07T23:46:01.366880Z"
    },
    "papermill": {
     "duration": 0.012961,
     "end_time": "2025-06-07T23:46:01.367952",
     "exception": false,
     "start_time": "2025-06-07T23:46:01.354991",
     "status": "completed"
    },
    "tags": []
   },
   "outputs": [
    {
     "name": "stdout",
     "output_type": "stream",
     "text": [
      "The cross-validated accuracy (cv = 5) is: 0.7903006789524734\n",
      "The cross-validated f1 (cv = 5) is: 0.5237894499957736\n",
      "The cross-validated precision (cv = 5) is: 0.6958460969497823\n",
      "The cross-validated recall (cv = 5) is: 0.482702941672372\n",
      "The cross-validated AUC (cv = 5) is: 0.8172997737817231\n"
     ]
    }
   ],
   "source": [
    "print(f\"The cross-validated accuracy (cv = {outer_cv}) is: {np.mean(accuracy_array)}\")\n",
    "print(f\"The cross-validated f1 (cv = {outer_cv}) is: {np.mean(f1_array)}\")\n",
    "print(f\"The cross-validated precision (cv = {outer_cv}) is: {np.mean(precision_array)}\")\n",
    "print(f\"The cross-validated recall (cv = {outer_cv}) is: {np.mean(recall_array)}\")\n",
    "print(f\"The cross-validated AUC (cv = {outer_cv}) is: {np.mean(roc_auc_array)}\")"
   ]
  },
  {
   "cell_type": "code",
   "execution_count": 28,
   "id": "b800b60c",
   "metadata": {
    "execution": {
     "iopub.execute_input": "2025-06-07T23:46:01.379807Z",
     "iopub.status.busy": "2025-06-07T23:46:01.379624Z",
     "iopub.status.idle": "2025-06-07T23:46:01.382949Z",
     "shell.execute_reply": "2025-06-07T23:46:01.382348Z"
    },
    "papermill": {
     "duration": 0.010141,
     "end_time": "2025-06-07T23:46:01.383530",
     "exception": false,
     "start_time": "2025-06-07T23:46:01.373389",
     "status": "completed"
    },
    "tags": []
   },
   "outputs": [],
   "source": [
    "selected_features_in_at_least_one_cv = set([elem for inner_list in selected_features_list for elem in inner_list])"
   ]
  },
  {
   "cell_type": "code",
   "execution_count": 29,
   "id": "0c11caaa",
   "metadata": {
    "execution": {
     "iopub.execute_input": "2025-06-07T23:46:01.398752Z",
     "iopub.status.busy": "2025-06-07T23:46:01.398260Z",
     "iopub.status.idle": "2025-06-07T23:46:01.402715Z",
     "shell.execute_reply": "2025-06-07T23:46:01.402103Z"
    },
    "papermill": {
     "duration": 0.013739,
     "end_time": "2025-06-07T23:46:01.403518",
     "exception": false,
     "start_time": "2025-06-07T23:46:01.389779",
     "status": "completed"
    },
    "tags": []
   },
   "outputs": [],
   "source": [
    "search_space_grid = {}\n",
    "\n",
    "for dictionary in hyperparam_list:\n",
    "    for k,v in dictionary.items():\n",
    "        if k in search_space_grid:\n",
    "            search_space_grid[k].update([v])\n",
    "        else:\n",
    "            search_space_grid[k] = set([v])\n",
    "\n",
    "search_space_grid = {k : list(v) for k,v in search_space_grid.items()}"
   ]
  },
  {
   "cell_type": "markdown",
   "id": "d92b5d74",
   "metadata": {
    "papermill": {
     "duration": 0.005325,
     "end_time": "2025-06-07T23:46:01.414210",
     "exception": false,
     "start_time": "2025-06-07T23:46:01.408885",
     "status": "completed"
    },
    "tags": []
   },
   "source": [
    "## Full Dataset Hyperparameter Tuning"
   ]
  },
  {
   "cell_type": "code",
   "execution_count": 30,
   "id": "c1007c19",
   "metadata": {
    "execution": {
     "iopub.execute_input": "2025-06-07T23:46:01.426356Z",
     "iopub.status.busy": "2025-06-07T23:46:01.426137Z",
     "iopub.status.idle": "2025-06-08T02:00:04.054060Z",
     "shell.execute_reply": "2025-06-08T02:00:04.053530Z"
    },
    "papermill": {
     "duration": 8042.643997,
     "end_time": "2025-06-08T02:00:04.063467",
     "exception": false,
     "start_time": "2025-06-07T23:46:01.419470",
     "status": "completed"
    },
    "tags": []
   },
   "outputs": [
    {
     "data": {
      "text/html": [
       "<style>#sk-container-id-1 {\n",
       "  /* Definition of color scheme common for light and dark mode */\n",
       "  --sklearn-color-text: #000;\n",
       "  --sklearn-color-text-muted: #666;\n",
       "  --sklearn-color-line: gray;\n",
       "  /* Definition of color scheme for unfitted estimators */\n",
       "  --sklearn-color-unfitted-level-0: #fff5e6;\n",
       "  --sklearn-color-unfitted-level-1: #f6e4d2;\n",
       "  --sklearn-color-unfitted-level-2: #ffe0b3;\n",
       "  --sklearn-color-unfitted-level-3: chocolate;\n",
       "  /* Definition of color scheme for fitted estimators */\n",
       "  --sklearn-color-fitted-level-0: #f0f8ff;\n",
       "  --sklearn-color-fitted-level-1: #d4ebff;\n",
       "  --sklearn-color-fitted-level-2: #b3dbfd;\n",
       "  --sklearn-color-fitted-level-3: cornflowerblue;\n",
       "\n",
       "  /* Specific color for light theme */\n",
       "  --sklearn-color-text-on-default-background: var(--sg-text-color, var(--theme-code-foreground, var(--jp-content-font-color1, black)));\n",
       "  --sklearn-color-background: var(--sg-background-color, var(--theme-background, var(--jp-layout-color0, white)));\n",
       "  --sklearn-color-border-box: var(--sg-text-color, var(--theme-code-foreground, var(--jp-content-font-color1, black)));\n",
       "  --sklearn-color-icon: #696969;\n",
       "\n",
       "  @media (prefers-color-scheme: dark) {\n",
       "    /* Redefinition of color scheme for dark theme */\n",
       "    --sklearn-color-text-on-default-background: var(--sg-text-color, var(--theme-code-foreground, var(--jp-content-font-color1, white)));\n",
       "    --sklearn-color-background: var(--sg-background-color, var(--theme-background, var(--jp-layout-color0, #111)));\n",
       "    --sklearn-color-border-box: var(--sg-text-color, var(--theme-code-foreground, var(--jp-content-font-color1, white)));\n",
       "    --sklearn-color-icon: #878787;\n",
       "  }\n",
       "}\n",
       "\n",
       "#sk-container-id-1 {\n",
       "  color: var(--sklearn-color-text);\n",
       "}\n",
       "\n",
       "#sk-container-id-1 pre {\n",
       "  padding: 0;\n",
       "}\n",
       "\n",
       "#sk-container-id-1 input.sk-hidden--visually {\n",
       "  border: 0;\n",
       "  clip: rect(1px 1px 1px 1px);\n",
       "  clip: rect(1px, 1px, 1px, 1px);\n",
       "  height: 1px;\n",
       "  margin: -1px;\n",
       "  overflow: hidden;\n",
       "  padding: 0;\n",
       "  position: absolute;\n",
       "  width: 1px;\n",
       "}\n",
       "\n",
       "#sk-container-id-1 div.sk-dashed-wrapped {\n",
       "  border: 1px dashed var(--sklearn-color-line);\n",
       "  margin: 0 0.4em 0.5em 0.4em;\n",
       "  box-sizing: border-box;\n",
       "  padding-bottom: 0.4em;\n",
       "  background-color: var(--sklearn-color-background);\n",
       "}\n",
       "\n",
       "#sk-container-id-1 div.sk-container {\n",
       "  /* jupyter's `normalize.less` sets `[hidden] { display: none; }`\n",
       "     but bootstrap.min.css set `[hidden] { display: none !important; }`\n",
       "     so we also need the `!important` here to be able to override the\n",
       "     default hidden behavior on the sphinx rendered scikit-learn.org.\n",
       "     See: https://github.com/scikit-learn/scikit-learn/issues/21755 */\n",
       "  display: inline-block !important;\n",
       "  position: relative;\n",
       "}\n",
       "\n",
       "#sk-container-id-1 div.sk-text-repr-fallback {\n",
       "  display: none;\n",
       "}\n",
       "\n",
       "div.sk-parallel-item,\n",
       "div.sk-serial,\n",
       "div.sk-item {\n",
       "  /* draw centered vertical line to link estimators */\n",
       "  background-image: linear-gradient(var(--sklearn-color-text-on-default-background), var(--sklearn-color-text-on-default-background));\n",
       "  background-size: 2px 100%;\n",
       "  background-repeat: no-repeat;\n",
       "  background-position: center center;\n",
       "}\n",
       "\n",
       "/* Parallel-specific style estimator block */\n",
       "\n",
       "#sk-container-id-1 div.sk-parallel-item::after {\n",
       "  content: \"\";\n",
       "  width: 100%;\n",
       "  border-bottom: 2px solid var(--sklearn-color-text-on-default-background);\n",
       "  flex-grow: 1;\n",
       "}\n",
       "\n",
       "#sk-container-id-1 div.sk-parallel {\n",
       "  display: flex;\n",
       "  align-items: stretch;\n",
       "  justify-content: center;\n",
       "  background-color: var(--sklearn-color-background);\n",
       "  position: relative;\n",
       "}\n",
       "\n",
       "#sk-container-id-1 div.sk-parallel-item {\n",
       "  display: flex;\n",
       "  flex-direction: column;\n",
       "}\n",
       "\n",
       "#sk-container-id-1 div.sk-parallel-item:first-child::after {\n",
       "  align-self: flex-end;\n",
       "  width: 50%;\n",
       "}\n",
       "\n",
       "#sk-container-id-1 div.sk-parallel-item:last-child::after {\n",
       "  align-self: flex-start;\n",
       "  width: 50%;\n",
       "}\n",
       "\n",
       "#sk-container-id-1 div.sk-parallel-item:only-child::after {\n",
       "  width: 0;\n",
       "}\n",
       "\n",
       "/* Serial-specific style estimator block */\n",
       "\n",
       "#sk-container-id-1 div.sk-serial {\n",
       "  display: flex;\n",
       "  flex-direction: column;\n",
       "  align-items: center;\n",
       "  background-color: var(--sklearn-color-background);\n",
       "  padding-right: 1em;\n",
       "  padding-left: 1em;\n",
       "}\n",
       "\n",
       "\n",
       "/* Toggleable style: style used for estimator/Pipeline/ColumnTransformer box that is\n",
       "clickable and can be expanded/collapsed.\n",
       "- Pipeline and ColumnTransformer use this feature and define the default style\n",
       "- Estimators will overwrite some part of the style using the `sk-estimator` class\n",
       "*/\n",
       "\n",
       "/* Pipeline and ColumnTransformer style (default) */\n",
       "\n",
       "#sk-container-id-1 div.sk-toggleable {\n",
       "  /* Default theme specific background. It is overwritten whether we have a\n",
       "  specific estimator or a Pipeline/ColumnTransformer */\n",
       "  background-color: var(--sklearn-color-background);\n",
       "}\n",
       "\n",
       "/* Toggleable label */\n",
       "#sk-container-id-1 label.sk-toggleable__label {\n",
       "  cursor: pointer;\n",
       "  display: flex;\n",
       "  width: 100%;\n",
       "  margin-bottom: 0;\n",
       "  padding: 0.5em;\n",
       "  box-sizing: border-box;\n",
       "  text-align: center;\n",
       "  align-items: start;\n",
       "  justify-content: space-between;\n",
       "  gap: 0.5em;\n",
       "}\n",
       "\n",
       "#sk-container-id-1 label.sk-toggleable__label .caption {\n",
       "  font-size: 0.6rem;\n",
       "  font-weight: lighter;\n",
       "  color: var(--sklearn-color-text-muted);\n",
       "}\n",
       "\n",
       "#sk-container-id-1 label.sk-toggleable__label-arrow:before {\n",
       "  /* Arrow on the left of the label */\n",
       "  content: \"▸\";\n",
       "  float: left;\n",
       "  margin-right: 0.25em;\n",
       "  color: var(--sklearn-color-icon);\n",
       "}\n",
       "\n",
       "#sk-container-id-1 label.sk-toggleable__label-arrow:hover:before {\n",
       "  color: var(--sklearn-color-text);\n",
       "}\n",
       "\n",
       "/* Toggleable content - dropdown */\n",
       "\n",
       "#sk-container-id-1 div.sk-toggleable__content {\n",
       "  max-height: 0;\n",
       "  max-width: 0;\n",
       "  overflow: hidden;\n",
       "  text-align: left;\n",
       "  /* unfitted */\n",
       "  background-color: var(--sklearn-color-unfitted-level-0);\n",
       "}\n",
       "\n",
       "#sk-container-id-1 div.sk-toggleable__content.fitted {\n",
       "  /* fitted */\n",
       "  background-color: var(--sklearn-color-fitted-level-0);\n",
       "}\n",
       "\n",
       "#sk-container-id-1 div.sk-toggleable__content pre {\n",
       "  margin: 0.2em;\n",
       "  border-radius: 0.25em;\n",
       "  color: var(--sklearn-color-text);\n",
       "  /* unfitted */\n",
       "  background-color: var(--sklearn-color-unfitted-level-0);\n",
       "}\n",
       "\n",
       "#sk-container-id-1 div.sk-toggleable__content.fitted pre {\n",
       "  /* unfitted */\n",
       "  background-color: var(--sklearn-color-fitted-level-0);\n",
       "}\n",
       "\n",
       "#sk-container-id-1 input.sk-toggleable__control:checked~div.sk-toggleable__content {\n",
       "  /* Expand drop-down */\n",
       "  max-height: 200px;\n",
       "  max-width: 100%;\n",
       "  overflow: auto;\n",
       "}\n",
       "\n",
       "#sk-container-id-1 input.sk-toggleable__control:checked~label.sk-toggleable__label-arrow:before {\n",
       "  content: \"▾\";\n",
       "}\n",
       "\n",
       "/* Pipeline/ColumnTransformer-specific style */\n",
       "\n",
       "#sk-container-id-1 div.sk-label input.sk-toggleable__control:checked~label.sk-toggleable__label {\n",
       "  color: var(--sklearn-color-text);\n",
       "  background-color: var(--sklearn-color-unfitted-level-2);\n",
       "}\n",
       "\n",
       "#sk-container-id-1 div.sk-label.fitted input.sk-toggleable__control:checked~label.sk-toggleable__label {\n",
       "  background-color: var(--sklearn-color-fitted-level-2);\n",
       "}\n",
       "\n",
       "/* Estimator-specific style */\n",
       "\n",
       "/* Colorize estimator box */\n",
       "#sk-container-id-1 div.sk-estimator input.sk-toggleable__control:checked~label.sk-toggleable__label {\n",
       "  /* unfitted */\n",
       "  background-color: var(--sklearn-color-unfitted-level-2);\n",
       "}\n",
       "\n",
       "#sk-container-id-1 div.sk-estimator.fitted input.sk-toggleable__control:checked~label.sk-toggleable__label {\n",
       "  /* fitted */\n",
       "  background-color: var(--sklearn-color-fitted-level-2);\n",
       "}\n",
       "\n",
       "#sk-container-id-1 div.sk-label label.sk-toggleable__label,\n",
       "#sk-container-id-1 div.sk-label label {\n",
       "  /* The background is the default theme color */\n",
       "  color: var(--sklearn-color-text-on-default-background);\n",
       "}\n",
       "\n",
       "/* On hover, darken the color of the background */\n",
       "#sk-container-id-1 div.sk-label:hover label.sk-toggleable__label {\n",
       "  color: var(--sklearn-color-text);\n",
       "  background-color: var(--sklearn-color-unfitted-level-2);\n",
       "}\n",
       "\n",
       "/* Label box, darken color on hover, fitted */\n",
       "#sk-container-id-1 div.sk-label.fitted:hover label.sk-toggleable__label.fitted {\n",
       "  color: var(--sklearn-color-text);\n",
       "  background-color: var(--sklearn-color-fitted-level-2);\n",
       "}\n",
       "\n",
       "/* Estimator label */\n",
       "\n",
       "#sk-container-id-1 div.sk-label label {\n",
       "  font-family: monospace;\n",
       "  font-weight: bold;\n",
       "  display: inline-block;\n",
       "  line-height: 1.2em;\n",
       "}\n",
       "\n",
       "#sk-container-id-1 div.sk-label-container {\n",
       "  text-align: center;\n",
       "}\n",
       "\n",
       "/* Estimator-specific */\n",
       "#sk-container-id-1 div.sk-estimator {\n",
       "  font-family: monospace;\n",
       "  border: 1px dotted var(--sklearn-color-border-box);\n",
       "  border-radius: 0.25em;\n",
       "  box-sizing: border-box;\n",
       "  margin-bottom: 0.5em;\n",
       "  /* unfitted */\n",
       "  background-color: var(--sklearn-color-unfitted-level-0);\n",
       "}\n",
       "\n",
       "#sk-container-id-1 div.sk-estimator.fitted {\n",
       "  /* fitted */\n",
       "  background-color: var(--sklearn-color-fitted-level-0);\n",
       "}\n",
       "\n",
       "/* on hover */\n",
       "#sk-container-id-1 div.sk-estimator:hover {\n",
       "  /* unfitted */\n",
       "  background-color: var(--sklearn-color-unfitted-level-2);\n",
       "}\n",
       "\n",
       "#sk-container-id-1 div.sk-estimator.fitted:hover {\n",
       "  /* fitted */\n",
       "  background-color: var(--sklearn-color-fitted-level-2);\n",
       "}\n",
       "\n",
       "/* Specification for estimator info (e.g. \"i\" and \"?\") */\n",
       "\n",
       "/* Common style for \"i\" and \"?\" */\n",
       "\n",
       ".sk-estimator-doc-link,\n",
       "a:link.sk-estimator-doc-link,\n",
       "a:visited.sk-estimator-doc-link {\n",
       "  float: right;\n",
       "  font-size: smaller;\n",
       "  line-height: 1em;\n",
       "  font-family: monospace;\n",
       "  background-color: var(--sklearn-color-background);\n",
       "  border-radius: 1em;\n",
       "  height: 1em;\n",
       "  width: 1em;\n",
       "  text-decoration: none !important;\n",
       "  margin-left: 0.5em;\n",
       "  text-align: center;\n",
       "  /* unfitted */\n",
       "  border: var(--sklearn-color-unfitted-level-1) 1pt solid;\n",
       "  color: var(--sklearn-color-unfitted-level-1);\n",
       "}\n",
       "\n",
       ".sk-estimator-doc-link.fitted,\n",
       "a:link.sk-estimator-doc-link.fitted,\n",
       "a:visited.sk-estimator-doc-link.fitted {\n",
       "  /* fitted */\n",
       "  border: var(--sklearn-color-fitted-level-1) 1pt solid;\n",
       "  color: var(--sklearn-color-fitted-level-1);\n",
       "}\n",
       "\n",
       "/* On hover */\n",
       "div.sk-estimator:hover .sk-estimator-doc-link:hover,\n",
       ".sk-estimator-doc-link:hover,\n",
       "div.sk-label-container:hover .sk-estimator-doc-link:hover,\n",
       ".sk-estimator-doc-link:hover {\n",
       "  /* unfitted */\n",
       "  background-color: var(--sklearn-color-unfitted-level-3);\n",
       "  color: var(--sklearn-color-background);\n",
       "  text-decoration: none;\n",
       "}\n",
       "\n",
       "div.sk-estimator.fitted:hover .sk-estimator-doc-link.fitted:hover,\n",
       ".sk-estimator-doc-link.fitted:hover,\n",
       "div.sk-label-container:hover .sk-estimator-doc-link.fitted:hover,\n",
       ".sk-estimator-doc-link.fitted:hover {\n",
       "  /* fitted */\n",
       "  background-color: var(--sklearn-color-fitted-level-3);\n",
       "  color: var(--sklearn-color-background);\n",
       "  text-decoration: none;\n",
       "}\n",
       "\n",
       "/* Span, style for the box shown on hovering the info icon */\n",
       ".sk-estimator-doc-link span {\n",
       "  display: none;\n",
       "  z-index: 9999;\n",
       "  position: relative;\n",
       "  font-weight: normal;\n",
       "  right: .2ex;\n",
       "  padding: .5ex;\n",
       "  margin: .5ex;\n",
       "  width: min-content;\n",
       "  min-width: 20ex;\n",
       "  max-width: 50ex;\n",
       "  color: var(--sklearn-color-text);\n",
       "  box-shadow: 2pt 2pt 4pt #999;\n",
       "  /* unfitted */\n",
       "  background: var(--sklearn-color-unfitted-level-0);\n",
       "  border: .5pt solid var(--sklearn-color-unfitted-level-3);\n",
       "}\n",
       "\n",
       ".sk-estimator-doc-link.fitted span {\n",
       "  /* fitted */\n",
       "  background: var(--sklearn-color-fitted-level-0);\n",
       "  border: var(--sklearn-color-fitted-level-3);\n",
       "}\n",
       "\n",
       ".sk-estimator-doc-link:hover span {\n",
       "  display: block;\n",
       "}\n",
       "\n",
       "/* \"?\"-specific style due to the `<a>` HTML tag */\n",
       "\n",
       "#sk-container-id-1 a.estimator_doc_link {\n",
       "  float: right;\n",
       "  font-size: 1rem;\n",
       "  line-height: 1em;\n",
       "  font-family: monospace;\n",
       "  background-color: var(--sklearn-color-background);\n",
       "  border-radius: 1rem;\n",
       "  height: 1rem;\n",
       "  width: 1rem;\n",
       "  text-decoration: none;\n",
       "  /* unfitted */\n",
       "  color: var(--sklearn-color-unfitted-level-1);\n",
       "  border: var(--sklearn-color-unfitted-level-1) 1pt solid;\n",
       "}\n",
       "\n",
       "#sk-container-id-1 a.estimator_doc_link.fitted {\n",
       "  /* fitted */\n",
       "  border: var(--sklearn-color-fitted-level-1) 1pt solid;\n",
       "  color: var(--sklearn-color-fitted-level-1);\n",
       "}\n",
       "\n",
       "/* On hover */\n",
       "#sk-container-id-1 a.estimator_doc_link:hover {\n",
       "  /* unfitted */\n",
       "  background-color: var(--sklearn-color-unfitted-level-3);\n",
       "  color: var(--sklearn-color-background);\n",
       "  text-decoration: none;\n",
       "}\n",
       "\n",
       "#sk-container-id-1 a.estimator_doc_link.fitted:hover {\n",
       "  /* fitted */\n",
       "  background-color: var(--sklearn-color-fitted-level-3);\n",
       "}\n",
       "</style><div id=\"sk-container-id-1\" class=\"sk-top-container\"><div class=\"sk-text-repr-fallback\"><pre>RandomizedSearchCV(cv=3,\n",
       "                   estimator=XGBClassifier(base_score=None, booster=None,\n",
       "                                           callbacks=None,\n",
       "                                           colsample_bylevel=None,\n",
       "                                           colsample_bynode=None,\n",
       "                                           colsample_bytree=None, device=&#x27;cpu&#x27;,\n",
       "                                           early_stopping_rounds=None,\n",
       "                                           enable_categorical=False,\n",
       "                                           eval_metric=None, feature_types=None,\n",
       "                                           feature_weights=None, gamma=None,\n",
       "                                           grow_policy=None,\n",
       "                                           importance_type=None,\n",
       "                                           interaction_constrai...\n",
       "                                        &#x27;n_estimators&#x27;: [232, 427, 100, 295],\n",
       "                                        &#x27;objective&#x27;: [&#x27;multi:softmax&#x27;],\n",
       "                                        &#x27;reg_alpha&#x27;: [0.0029949916204736644,\n",
       "                                                      0.010333665817242934,\n",
       "                                                      0.009841283815938523,\n",
       "                                                      6.810265373749562],\n",
       "                                        &#x27;reg_lambda&#x27;: [0.2669840207965698,\n",
       "                                                       1.5636486012079303,\n",
       "                                                       9.191846538892186,\n",
       "                                                       41.55545304225476],\n",
       "                                        &#x27;subsample&#x27;: [0.9097624701131881,\n",
       "                                                      0.9438153834686239,\n",
       "                                                      0.9572926673078064,\n",
       "                                                      0.8596580193924419]},\n",
       "                   random_state=49574)</pre><b>In a Jupyter environment, please rerun this cell to show the HTML representation or trust the notebook. <br />On GitHub, the HTML representation is unable to render, please try loading this page with nbviewer.org.</b></div><div class=\"sk-container\" hidden><div class=\"sk-item sk-dashed-wrapped\"><div class=\"sk-label-container\"><div class=\"sk-label fitted sk-toggleable\"><input class=\"sk-toggleable__control sk-hidden--visually\" id=\"sk-estimator-id-1\" type=\"checkbox\" ><label for=\"sk-estimator-id-1\" class=\"sk-toggleable__label fitted sk-toggleable__label-arrow\"><div><div>RandomizedSearchCV</div></div><div><a class=\"sk-estimator-doc-link fitted\" rel=\"noreferrer\" target=\"_blank\" href=\"https://scikit-learn.org/1.6/modules/generated/sklearn.model_selection.RandomizedSearchCV.html\">?<span>Documentation for RandomizedSearchCV</span></a><span class=\"sk-estimator-doc-link fitted\">i<span>Fitted</span></span></div></label><div class=\"sk-toggleable__content fitted\"><pre>RandomizedSearchCV(cv=3,\n",
       "                   estimator=XGBClassifier(base_score=None, booster=None,\n",
       "                                           callbacks=None,\n",
       "                                           colsample_bylevel=None,\n",
       "                                           colsample_bynode=None,\n",
       "                                           colsample_bytree=None, device=&#x27;cpu&#x27;,\n",
       "                                           early_stopping_rounds=None,\n",
       "                                           enable_categorical=False,\n",
       "                                           eval_metric=None, feature_types=None,\n",
       "                                           feature_weights=None, gamma=None,\n",
       "                                           grow_policy=None,\n",
       "                                           importance_type=None,\n",
       "                                           interaction_constrai...\n",
       "                                        &#x27;n_estimators&#x27;: [232, 427, 100, 295],\n",
       "                                        &#x27;objective&#x27;: [&#x27;multi:softmax&#x27;],\n",
       "                                        &#x27;reg_alpha&#x27;: [0.0029949916204736644,\n",
       "                                                      0.010333665817242934,\n",
       "                                                      0.009841283815938523,\n",
       "                                                      6.810265373749562],\n",
       "                                        &#x27;reg_lambda&#x27;: [0.2669840207965698,\n",
       "                                                       1.5636486012079303,\n",
       "                                                       9.191846538892186,\n",
       "                                                       41.55545304225476],\n",
       "                                        &#x27;subsample&#x27;: [0.9097624701131881,\n",
       "                                                      0.9438153834686239,\n",
       "                                                      0.9572926673078064,\n",
       "                                                      0.8596580193924419]},\n",
       "                   random_state=49574)</pre></div> </div></div><div class=\"sk-parallel\"><div class=\"sk-parallel-item\"><div class=\"sk-item\"><div class=\"sk-label-container\"><div class=\"sk-label fitted sk-toggleable\"><input class=\"sk-toggleable__control sk-hidden--visually\" id=\"sk-estimator-id-2\" type=\"checkbox\" ><label for=\"sk-estimator-id-2\" class=\"sk-toggleable__label fitted sk-toggleable__label-arrow\"><div><div>best_estimator_: XGBClassifier</div></div></label><div class=\"sk-toggleable__content fitted\"><pre>XGBClassifier(base_score=None, booster=&#x27;gbtree&#x27;, callbacks=None,\n",
       "              colsample_bylevel=0.9210992271589409, colsample_bynode=None,\n",
       "              colsample_bytree=0.6371507194709869, device=&#x27;cpu&#x27;,\n",
       "              early_stopping_rounds=None, enable_categorical=False,\n",
       "              eval_metric=&#x27;auc&#x27;, feature_types=None, feature_weights=None,\n",
       "              gamma=0.8795208319239872, grow_policy=None, importance_type=None,\n",
       "              interaction_constraints=None, learning_rate=0.03991346173810003,\n",
       "              max_bin=None, max_cat_threshold=None, max_cat_to_onehot=None,\n",
       "              max_delta_step=8, max_depth=6, max_leaves=None,\n",
       "              min_child_weight=13, missing=nan, monotone_constraints=None,\n",
       "              multi_strategy=None, n_estimators=427, n_jobs=60,\n",
       "              num_parallel_tree=None, ...)</pre></div> </div></div><div class=\"sk-serial\"><div class=\"sk-item\"><div class=\"sk-estimator fitted sk-toggleable\"><input class=\"sk-toggleable__control sk-hidden--visually\" id=\"sk-estimator-id-3\" type=\"checkbox\" ><label for=\"sk-estimator-id-3\" class=\"sk-toggleable__label fitted sk-toggleable__label-arrow\"><div><div>XGBClassifier</div></div><div><a class=\"sk-estimator-doc-link fitted\" rel=\"noreferrer\" target=\"_blank\" href=\"https://xgboost.readthedocs.io/en/release_3.0.0/python/python_api.html#xgboost.XGBClassifier\">?<span>Documentation for XGBClassifier</span></a></div></label><div class=\"sk-toggleable__content fitted\"><pre>XGBClassifier(base_score=None, booster=&#x27;gbtree&#x27;, callbacks=None,\n",
       "              colsample_bylevel=0.9210992271589409, colsample_bynode=None,\n",
       "              colsample_bytree=0.6371507194709869, device=&#x27;cpu&#x27;,\n",
       "              early_stopping_rounds=None, enable_categorical=False,\n",
       "              eval_metric=&#x27;auc&#x27;, feature_types=None, feature_weights=None,\n",
       "              gamma=0.8795208319239872, grow_policy=None, importance_type=None,\n",
       "              interaction_constraints=None, learning_rate=0.03991346173810003,\n",
       "              max_bin=None, max_cat_threshold=None, max_cat_to_onehot=None,\n",
       "              max_delta_step=8, max_depth=6, max_leaves=None,\n",
       "              min_child_weight=13, missing=nan, monotone_constraints=None,\n",
       "              multi_strategy=None, n_estimators=427, n_jobs=60,\n",
       "              num_parallel_tree=None, ...)</pre></div> </div></div></div></div></div></div></div></div></div>"
      ],
      "text/plain": [
       "RandomizedSearchCV(cv=3,\n",
       "                   estimator=XGBClassifier(base_score=None, booster=None,\n",
       "                                           callbacks=None,\n",
       "                                           colsample_bylevel=None,\n",
       "                                           colsample_bynode=None,\n",
       "                                           colsample_bytree=None, device='cpu',\n",
       "                                           early_stopping_rounds=None,\n",
       "                                           enable_categorical=False,\n",
       "                                           eval_metric=None, feature_types=None,\n",
       "                                           feature_weights=None, gamma=None,\n",
       "                                           grow_policy=None,\n",
       "                                           importance_type=None,\n",
       "                                           interaction_constrai...\n",
       "                                        'n_estimators': [232, 427, 100, 295],\n",
       "                                        'objective': ['multi:softmax'],\n",
       "                                        'reg_alpha': [0.0029949916204736644,\n",
       "                                                      0.010333665817242934,\n",
       "                                                      0.009841283815938523,\n",
       "                                                      6.810265373749562],\n",
       "                                        'reg_lambda': [0.2669840207965698,\n",
       "                                                       1.5636486012079303,\n",
       "                                                       9.191846538892186,\n",
       "                                                       41.55545304225476],\n",
       "                                        'subsample': [0.9097624701131881,\n",
       "                                                      0.9438153834686239,\n",
       "                                                      0.9572926673078064,\n",
       "                                                      0.8596580193924419]},\n",
       "                   random_state=49574)"
      ]
     },
     "execution_count": 30,
     "metadata": {},
     "output_type": "execute_result"
    }
   ],
   "source": [
    "opti = sk.model_selection.RandomizedSearchCV(estimator = classifier, \n",
    "                                             param_distributions = search_space_grid, \n",
    "                                             cv = inner_cv, \n",
    "                                             n_jobs = n_jobs_sk,\n",
    "                                             n_iter = n_iter_rsearch,\n",
    "                                             random_state = hypertune_random_state_rsearch, \n",
    "                                             verbose = 0, refit = True)\n",
    "opti.fit(X_train, y_train)"
   ]
  },
  {
   "cell_type": "code",
   "execution_count": 31,
   "id": "a972fb27",
   "metadata": {
    "execution": {
     "iopub.execute_input": "2025-06-08T02:00:04.077586Z",
     "iopub.status.busy": "2025-06-08T02:00:04.077428Z",
     "iopub.status.idle": "2025-06-08T02:00:04.081396Z",
     "shell.execute_reply": "2025-06-08T02:00:04.080626Z"
    },
    "papermill": {
     "duration": 0.011172,
     "end_time": "2025-06-08T02:00:04.082127",
     "exception": false,
     "start_time": "2025-06-08T02:00:04.070955",
     "status": "completed"
    },
    "tags": []
   },
   "outputs": [],
   "source": [
    "model = opti.best_estimator_"
   ]
  },
  {
   "cell_type": "markdown",
   "id": "7f46dae2",
   "metadata": {
    "papermill": {
     "duration": 0.005694,
     "end_time": "2025-06-08T02:00:04.093568",
     "exception": false,
     "start_time": "2025-06-08T02:00:04.087874",
     "status": "completed"
    },
    "tags": []
   },
   "source": [
    "## Feature Importance Analysis"
   ]
  },
  {
   "cell_type": "markdown",
   "id": "c31eed3a",
   "metadata": {
    "papermill": {
     "duration": 0.007602,
     "end_time": "2025-06-08T02:00:04.106709",
     "exception": false,
     "start_time": "2025-06-08T02:00:04.099107",
     "status": "completed"
    },
    "tags": []
   },
   "source": [
    "Let's look at both XGBoost native feature importance and at mean absolute SHAP values as metric of feature importance"
   ]
  },
  {
   "cell_type": "code",
   "execution_count": 32,
   "id": "fb6ea2ba",
   "metadata": {
    "execution": {
     "iopub.execute_input": "2025-06-08T02:00:04.121411Z",
     "iopub.status.busy": "2025-06-08T02:00:04.121284Z",
     "iopub.status.idle": "2025-06-08T02:00:10.014865Z",
     "shell.execute_reply": "2025-06-08T02:00:10.013943Z"
    },
    "papermill": {
     "duration": 5.902514,
     "end_time": "2025-06-08T02:00:10.017491",
     "exception": false,
     "start_time": "2025-06-08T02:00:04.114977",
     "status": "completed"
    },
    "tags": []
   },
   "outputs": [],
   "source": [
    "explainer = shap.TreeExplainer(model)\n",
    "shap_values = explainer(X_train)\n",
    "shap_values_numpy = explainer.shap_values(X_train)"
   ]
  },
  {
   "cell_type": "code",
   "execution_count": 33,
   "id": "b3c63537",
   "metadata": {
    "execution": {
     "iopub.execute_input": "2025-06-08T02:00:10.033627Z",
     "iopub.status.busy": "2025-06-08T02:00:10.032978Z",
     "iopub.status.idle": "2025-06-08T02:00:10.244147Z",
     "shell.execute_reply": "2025-06-08T02:00:10.243666Z"
    },
    "papermill": {
     "duration": 0.219928,
     "end_time": "2025-06-08T02:00:10.245296",
     "exception": false,
     "start_time": "2025-06-08T02:00:10.025368",
     "status": "completed"
    },
    "tags": []
   },
   "outputs": [
    {
     "name": "stdout",
     "output_type": "stream",
     "text": [
      "regrout / with CNA\n"
     ]
    },
    {
     "data": {
      "image/png": "[encoded data removed]",
      "text/plain": [
       "<Figure size 2500x1000 with 1 Axes>"
      ]
     },
     "metadata": {},
     "output_type": "display_data"
    }
   ],
   "source": [
    "if plot_shap:\n",
    "    print(\" / \".join([mode, condition]))\n",
    "    plt.figure(figsize = (100,25))\n",
    "    summary_plot = shap.summary_plot(shap_values, X_train, \n",
    "                                     plot_type='bar', max_display=10, plot_size= (25,10))\n",
    "    plt.show()"
   ]
  },
  {
   "cell_type": "markdown",
   "id": "bc42f744",
   "metadata": {
    "papermill": {
     "duration": 0.006598,
     "end_time": "2025-06-08T02:00:10.258954",
     "exception": false,
     "start_time": "2025-06-08T02:00:10.252356",
     "status": "completed"
    },
    "tags": []
   },
   "source": [
    "## Feature Selection"
   ]
  },
  {
   "cell_type": "markdown",
   "id": "d8438b39",
   "metadata": {
    "papermill": {
     "duration": 0.006253,
     "end_time": "2025-06-08T02:00:10.271631",
     "exception": false,
     "start_time": "2025-06-08T02:00:10.265378",
     "status": "completed"
    },
    "tags": []
   },
   "source": [
    "Let's perform Feature Selection using mean absolute SHAP values"
   ]
  },
  {
   "cell_type": "code",
   "execution_count": 34,
   "id": "ec7df529",
   "metadata": {
    "execution": {
     "iopub.execute_input": "2025-06-08T02:00:10.288600Z",
     "iopub.status.busy": "2025-06-08T02:00:10.288461Z",
     "iopub.status.idle": "2025-06-08T02:35:32.951332Z",
     "shell.execute_reply": "2025-06-08T02:35:32.950784Z"
    },
    "papermill": {
     "duration": 2122.6707,
     "end_time": "2025-06-08T02:35:32.952112",
     "exception": false,
     "start_time": "2025-06-08T02:00:10.281412",
     "status": "completed"
    },
    "tags": []
   },
   "outputs": [
    {
     "name": "stdout",
     "output_type": "stream",
     "text": [
      "> threshold=0.0, features=252, gini coefficient=0.6301980578703417\n"
     ]
    },
    {
     "name": "stdout",
     "output_type": "stream",
     "text": [
      "> threshold=0.0, features=252, gini coefficient=0.6301980578703417\n"
     ]
    },
    {
     "name": "stdout",
     "output_type": "stream",
     "text": [
      "> threshold=0.00021844024013262242, features=250, gini coefficient=0.629301467723718\n"
     ]
    },
    {
     "name": "stdout",
     "output_type": "stream",
     "text": [
      "> threshold=0.0006215406465344131, features=249, gini coefficient=0.6285511017274433\n"
     ]
    },
    {
     "name": "stdout",
     "output_type": "stream",
     "text": [
      "> threshold=0.0007437710301019251, features=248, gini coefficient=0.6275423971530784\n"
     ]
    },
    {
     "name": "stdout",
     "output_type": "stream",
     "text": [
      "> threshold=0.0011776614701375365, features=247, gini coefficient=0.6293140726160803\n"
     ]
    },
    {
     "name": "stdout",
     "output_type": "stream",
     "text": [
      "> threshold=0.0013873124262318015, features=246, gini coefficient=0.6300873232504116\n"
     ]
    },
    {
     "name": "stdout",
     "output_type": "stream",
     "text": [
      "> threshold=0.00143295933958143, features=245, gini coefficient=0.6278914880976317\n"
     ]
    },
    {
     "name": "stdout",
     "output_type": "stream",
     "text": [
      "> threshold=0.0014415857149288058, features=244, gini coefficient=0.6311356802242031\n"
     ]
    },
    {
     "name": "stdout",
     "output_type": "stream",
     "text": [
      "> threshold=0.001986989751458168, features=243, gini coefficient=0.6275632978780887\n"
     ]
    },
    {
     "name": "stdout",
     "output_type": "stream",
     "text": [
      "> threshold=0.002375340787693858, features=242, gini coefficient=0.6279244192653707\n"
     ]
    },
    {
     "name": "stdout",
     "output_type": "stream",
     "text": [
      "> threshold=0.0025724575389176607, features=241, gini coefficient=0.6311315711950468\n"
     ]
    },
    {
     "name": "stdout",
     "output_type": "stream",
     "text": [
      "> threshold=0.002767558442428708, features=240, gini coefficient=0.6301073786151026\n"
     ]
    },
    {
     "name": "stdout",
     "output_type": "stream",
     "text": [
      "> threshold=0.0029156245291233063, features=239, gini coefficient=0.6283061200877557\n"
     ]
    },
    {
     "name": "stdout",
     "output_type": "stream",
     "text": [
      "> threshold=0.0029301948379725218, features=238, gini coefficient=0.6298750067351087\n"
     ]
    },
    {
     "name": "stdout",
     "output_type": "stream",
     "text": [
      "> threshold=0.0030035923700779676, features=237, gini coefficient=0.6302373839257037\n"
     ]
    },
    {
     "name": "stdout",
     "output_type": "stream",
     "text": [
      "> threshold=0.0030179477762430906, features=236, gini coefficient=0.6295998976704628\n"
     ]
    },
    {
     "name": "stdout",
     "output_type": "stream",
     "text": [
      "> threshold=0.003230326808989048, features=235, gini coefficient=0.6296977810340157\n"
     ]
    },
    {
     "name": "stdout",
     "output_type": "stream",
     "text": [
      "> threshold=0.00326597411185503, features=234, gini coefficient=0.6301926546800894\n"
     ]
    },
    {
     "name": "stdout",
     "output_type": "stream",
     "text": [
      "> threshold=0.0032836291939020157, features=233, gini coefficient=0.6303269116318881\n"
     ]
    },
    {
     "name": "stdout",
     "output_type": "stream",
     "text": [
      "> threshold=0.0032925002742558718, features=232, gini coefficient=0.6294404353440731\n"
     ]
    },
    {
     "name": "stdout",
     "output_type": "stream",
     "text": [
      "> threshold=0.0033347599674016237, features=231, gini coefficient=0.6295160977598934\n"
     ]
    },
    {
     "name": "stdout",
     "output_type": "stream",
     "text": [
      "> threshold=0.0034242812544107437, features=230, gini coefficient=0.629971509342347\n"
     ]
    },
    {
     "name": "stdout",
     "output_type": "stream",
     "text": [
      "> threshold=0.003584722988307476, features=229, gini coefficient=0.6316023995865762\n"
     ]
    },
    {
     "name": "stdout",
     "output_type": "stream",
     "text": [
      "> threshold=0.003585999831557274, features=228, gini coefficient=0.6305247186099711\n"
     ]
    },
    {
     "name": "stdout",
     "output_type": "stream",
     "text": [
      "> threshold=0.0036049203481525183, features=227, gini coefficient=0.6292758758048289\n"
     ]
    },
    {
     "name": "stdout",
     "output_type": "stream",
     "text": [
      "> threshold=0.0036133762914687395, features=226, gini coefficient=0.6305827448717686\n"
     ]
    },
    {
     "name": "stdout",
     "output_type": "stream",
     "text": [
      "> threshold=0.003628271631896496, features=225, gini coefficient=0.6299507674486012\n"
     ]
    },
    {
     "name": "stdout",
     "output_type": "stream",
     "text": [
      "> threshold=0.003778819926083088, features=224, gini coefficient=0.633218518738848\n"
     ]
    },
    {
     "name": "stdout",
     "output_type": "stream",
     "text": [
      "> threshold=0.003788606496527791, features=223, gini coefficient=0.6325029063159094\n"
     ]
    },
    {
     "name": "stdout",
     "output_type": "stream",
     "text": [
      "> threshold=0.003796101314947009, features=222, gini coefficient=0.633435891621439\n"
     ]
    },
    {
     "name": "stdout",
     "output_type": "stream",
     "text": [
      "> threshold=0.0038344331551343203, features=221, gini coefficient=0.6320751664676769\n"
     ]
    },
    {
     "name": "stdout",
     "output_type": "stream",
     "text": [
      "> threshold=0.003837785916402936, features=220, gini coefficient=0.6343492907000509\n"
     ]
    },
    {
     "name": "stdout",
     "output_type": "stream",
     "text": [
      "> threshold=0.003843317972496152, features=219, gini coefficient=0.6323141921086471\n"
     ]
    },
    {
     "name": "stdout",
     "output_type": "stream",
     "text": [
      "> threshold=0.003910395782440901, features=218, gini coefficient=0.630665475195901\n"
     ]
    },
    {
     "name": "stdout",
     "output_type": "stream",
     "text": [
      "> threshold=0.003978481981903315, features=217, gini coefficient=0.6318132135732432\n"
     ]
    },
    {
     "name": "stdout",
     "output_type": "stream",
     "text": [
      "> threshold=0.004083817824721336, features=216, gini coefficient=0.6306493453299905\n"
     ]
    },
    {
     "name": "stdout",
     "output_type": "stream",
     "text": [
      "> threshold=0.004094460979104042, features=215, gini coefficient=0.6333406683581714\n"
     ]
    },
    {
     "name": "stdout",
     "output_type": "stream",
     "text": [
      "> threshold=0.004099374171346426, features=214, gini coefficient=0.6324242318832641\n"
     ]
    },
    {
     "name": "stdout",
     "output_type": "stream",
     "text": [
      "> threshold=0.004135922063142061, features=213, gini coefficient=0.6315797178668173\n"
     ]
    },
    {
     "name": "stdout",
     "output_type": "stream",
     "text": [
      "> threshold=0.0041513447649776936, features=212, gini coefficient=0.6345038924092722\n"
     ]
    },
    {
     "name": "stdout",
     "output_type": "stream",
     "text": [
      "> threshold=0.004172440152615309, features=211, gini coefficient=0.6334851948852592\n"
     ]
    },
    {
     "name": "stdout",
     "output_type": "stream",
     "text": [
      "> threshold=0.004177586641162634, features=210, gini coefficient=0.6335097150369003\n"
     ]
    },
    {
     "name": "stdout",
     "output_type": "stream",
     "text": [
      "> threshold=0.004185809288173914, features=209, gini coefficient=0.6318116617058301\n"
     ]
    },
    {
     "name": "stdout",
     "output_type": "stream",
     "text": [
      "> threshold=0.004187257960438728, features=208, gini coefficient=0.6325852200588981\n"
     ]
    },
    {
     "name": "stdout",
     "output_type": "stream",
     "text": [
      "> threshold=0.004223785828799009, features=207, gini coefficient=0.6341628027807619\n"
     ]
    },
    {
     "name": "stdout",
     "output_type": "stream",
     "text": [
      "> threshold=0.004301216918975115, features=206, gini coefficient=0.6318257038206573\n"
     ]
    },
    {
     "name": "stdout",
     "output_type": "stream",
     "text": [
      "> threshold=0.0043464298360049725, features=205, gini coefficient=0.6327912920845473\n"
     ]
    },
    {
     "name": "stdout",
     "output_type": "stream",
     "text": [
      "> threshold=0.004353153053671122, features=204, gini coefficient=0.6318832289206989\n"
     ]
    },
    {
     "name": "stdout",
     "output_type": "stream",
     "text": [
      "> threshold=0.00436675688251853, features=203, gini coefficient=0.632673969391008\n"
     ]
    },
    {
     "name": "stdout",
     "output_type": "stream",
     "text": [
      "> threshold=0.004394399002194405, features=202, gini coefficient=0.6345681705485886\n"
     ]
    },
    {
     "name": "stdout",
     "output_type": "stream",
     "text": [
      "> threshold=0.0044650849886238575, features=201, gini coefficient=0.6322765946225934\n"
     ]
    },
    {
     "name": "stdout",
     "output_type": "stream",
     "text": [
      "> threshold=0.004521951079368591, features=200, gini coefficient=0.6331774222863116\n"
     ]
    },
    {
     "name": "stdout",
     "output_type": "stream",
     "text": [
      "> threshold=0.004562577698379755, features=199, gini coefficient=0.6335254227758411\n"
     ]
    },
    {
     "name": "stdout",
     "output_type": "stream",
     "text": [
      "> threshold=0.004566777963191271, features=198, gini coefficient=0.6317514471410327\n"
     ]
    },
    {
     "name": "stdout",
     "output_type": "stream",
     "text": [
      "> threshold=0.0045974100939929485, features=197, gini coefficient=0.632393505291659\n"
     ]
    },
    {
     "name": "stdout",
     "output_type": "stream",
     "text": [
      "> threshold=0.004642076324671507, features=196, gini coefficient=0.6331902967575129\n"
     ]
    },
    {
     "name": "stdout",
     "output_type": "stream",
     "text": [
      "> threshold=0.004669978283345699, features=195, gini coefficient=0.63232782870398\n"
     ]
    },
    {
     "name": "stdout",
     "output_type": "stream",
     "text": [
      "> threshold=0.0046706669963896275, features=194, gini coefficient=0.6335925989580838\n"
     ]
    },
    {
     "name": "stdout",
     "output_type": "stream",
     "text": [
      "> threshold=0.004688635468482971, features=193, gini coefficient=0.6337551111603327\n"
     ]
    },
    {
     "name": "stdout",
     "output_type": "stream",
     "text": [
      "> threshold=0.004694307688623667, features=192, gini coefficient=0.6323164757591387\n"
     ]
    },
    {
     "name": "stdout",
     "output_type": "stream",
     "text": [
      "> threshold=0.004744792822748423, features=191, gini coefficient=0.6342927840434277\n"
     ]
    },
    {
     "name": "stdout",
     "output_type": "stream",
     "text": [
      "> threshold=0.004798025358468294, features=190, gini coefficient=0.6326908822055356\n"
     ]
    },
    {
     "name": "stdout",
     "output_type": "stream",
     "text": [
      "> threshold=0.004816022235900164, features=189, gini coefficient=0.6337523335981186\n"
     ]
    },
    {
     "name": "stdout",
     "output_type": "stream",
     "text": [
      "> threshold=0.0048251380212605, features=188, gini coefficient=0.6321417410696942\n"
     ]
    },
    {
     "name": "stdout",
     "output_type": "stream",
     "text": [
      "> threshold=0.004831960424780846, features=187, gini coefficient=0.6355844892655845\n"
     ]
    },
    {
     "name": "stdout",
     "output_type": "stream",
     "text": [
      "> threshold=0.0048390403389930725, features=186, gini coefficient=0.6358331149622247\n"
     ]
    },
    {
     "name": "stdout",
     "output_type": "stream",
     "text": [
      "> threshold=0.004921365529298782, features=185, gini coefficient=0.6324903449846282\n"
     ]
    },
    {
     "name": "stdout",
     "output_type": "stream",
     "text": [
      "> threshold=0.004927246365696192, features=184, gini coefficient=0.6326935464513963\n"
     ]
    },
    {
     "name": "stdout",
     "output_type": "stream",
     "text": [
      "> threshold=0.00492732971906662, features=183, gini coefficient=0.635015672375289\n"
     ]
    },
    {
     "name": "stdout",
     "output_type": "stream",
     "text": [
      "> threshold=0.004933366551995277, features=182, gini coefficient=0.6354809906468668\n"
     ]
    },
    {
     "name": "stdout",
     "output_type": "stream",
     "text": [
      "> threshold=0.004988567437976599, features=181, gini coefficient=0.6347910692976884\n"
     ]
    },
    {
     "name": "stdout",
     "output_type": "stream",
     "text": [
      "> threshold=0.005052087362855673, features=180, gini coefficient=0.6353089048065123\n"
     ]
    },
    {
     "name": "stdout",
     "output_type": "stream",
     "text": [
      "> threshold=0.005055838730186224, features=179, gini coefficient=0.6346895442336787\n"
     ]
    },
    {
     "name": "stdout",
     "output_type": "stream",
     "text": [
      "> threshold=0.005060495343059301, features=178, gini coefficient=0.6347073023747575\n"
     ]
    },
    {
     "name": "stdout",
     "output_type": "stream",
     "text": [
      "> threshold=0.005108175333589315, features=177, gini coefficient=0.6371121363553477\n"
     ]
    },
    {
     "name": "stdout",
     "output_type": "stream",
     "text": [
      "> threshold=0.005116256885230541, features=176, gini coefficient=0.6345186645075712\n"
     ]
    },
    {
     "name": "stdout",
     "output_type": "stream",
     "text": [
      "> threshold=0.0051656621508300304, features=175, gini coefficient=0.6361618404131367\n"
     ]
    },
    {
     "name": "stdout",
     "output_type": "stream",
     "text": [
      "> threshold=0.005175536032766104, features=174, gini coefficient=0.637861606264298\n"
     ]
    },
    {
     "name": "stdout",
     "output_type": "stream",
     "text": [
      "> threshold=0.005192107986658812, features=173, gini coefficient=0.6360735874314715\n"
     ]
    },
    {
     "name": "stdout",
     "output_type": "stream",
     "text": [
      "> threshold=0.0052411314100027084, features=172, gini coefficient=0.6371457052899714\n"
     ]
    },
    {
     "name": "stdout",
     "output_type": "stream",
     "text": [
      "> threshold=0.00530146574601531, features=171, gini coefficient=0.634007431404949\n"
     ]
    },
    {
     "name": "stdout",
     "output_type": "stream",
     "text": [
      "> threshold=0.005312183406203985, features=170, gini coefficient=0.6373260270719486\n"
     ]
    },
    {
     "name": "stdout",
     "output_type": "stream",
     "text": [
      "> threshold=0.005377511959522963, features=169, gini coefficient=0.6378526455232282\n"
     ]
    },
    {
     "name": "stdout",
     "output_type": "stream",
     "text": [
      "> threshold=0.005482019856572151, features=168, gini coefficient=0.6379035774545471\n"
     ]
    },
    {
     "name": "stdout",
     "output_type": "stream",
     "text": [
      "> threshold=0.005518833640962839, features=167, gini coefficient=0.6358248035430396\n"
     ]
    },
    {
     "name": "stdout",
     "output_type": "stream",
     "text": [
      "> threshold=0.00558847188949585, features=166, gini coefficient=0.6377449475910034\n"
     ]
    },
    {
     "name": "stdout",
     "output_type": "stream",
     "text": [
      "> threshold=0.005654331296682358, features=165, gini coefficient=0.6361869575973002\n"
     ]
    },
    {
     "name": "stdout",
     "output_type": "stream",
     "text": [
      "> threshold=0.00565962353721261, features=164, gini coefficient=0.6370824161946552\n"
     ]
    },
    {
     "name": "stdout",
     "output_type": "stream",
     "text": [
      "> threshold=0.005683592986315489, features=163, gini coefficient=0.6367186146340174\n"
     ]
    },
    {
     "name": "stdout",
     "output_type": "stream",
     "text": [
      "> threshold=0.005692791193723679, features=162, gini coefficient=0.6364127194412303\n"
     ]
    },
    {
     "name": "stdout",
     "output_type": "stream",
     "text": [
      "> threshold=0.0057234265841543674, features=161, gini coefficient=0.6373283249474869\n"
     ]
    },
    {
     "name": "stdout",
     "output_type": "stream",
     "text": [
      "> threshold=0.0057306750677526, features=160, gini coefficient=0.6382038551717215\n"
     ]
    },
    {
     "name": "stdout",
     "output_type": "stream",
     "text": [
      "> threshold=0.005770938936620951, features=159, gini coefficient=0.6355189406862689\n"
     ]
    },
    {
     "name": "stdout",
     "output_type": "stream",
     "text": [
      "> threshold=0.005855974275618792, features=158, gini coefficient=0.6363370566544211\n"
     ]
    },
    {
     "name": "stdout",
     "output_type": "stream",
     "text": [
      "> threshold=0.005871739238500595, features=157, gini coefficient=0.637480594628905\n"
     ]
    },
    {
     "name": "stdout",
     "output_type": "stream",
     "text": [
      "> threshold=0.005882908124476671, features=156, gini coefficient=0.6369502336249739\n"
     ]
    },
    {
     "name": "stdout",
     "output_type": "stream",
     "text": [
      "> threshold=0.0059178899973630905, features=155, gini coefficient=0.6386191524496488\n"
     ]
    },
    {
     "name": "stdout",
     "output_type": "stream",
     "text": [
      "> threshold=0.005951459053903818, features=154, gini coefficient=0.6375684822737164\n"
     ]
    },
    {
     "name": "stdout",
     "output_type": "stream",
     "text": [
      "> threshold=0.005957336630672216, features=153, gini coefficient=0.6372316135295363\n"
     ]
    },
    {
     "name": "stdout",
     "output_type": "stream",
     "text": [
      "> threshold=0.0059866816736757755, features=152, gini coefficient=0.6376450923614757\n"
     ]
    },
    {
     "name": "stdout",
     "output_type": "stream",
     "text": [
      "> threshold=0.006018678192049265, features=151, gini coefficient=0.6383993653173211\n"
     ]
    },
    {
     "name": "stdout",
     "output_type": "stream",
     "text": [
      "> threshold=0.006022883113473654, features=150, gini coefficient=0.6370535114052498\n"
     ]
    },
    {
     "name": "stdout",
     "output_type": "stream",
     "text": [
      "> threshold=0.0060580759309232235, features=149, gini coefficient=0.638595439645956\n"
     ]
    },
    {
     "name": "stdout",
     "output_type": "stream",
     "text": [
      "> threshold=0.006087610963732004, features=148, gini coefficient=0.6387377400872167\n"
     ]
    },
    {
     "name": "stdout",
     "output_type": "stream",
     "text": [
      "> threshold=0.0061057438142597675, features=147, gini coefficient=0.637631751612168\n"
     ]
    },
    {
     "name": "stdout",
     "output_type": "stream",
     "text": [
      "> threshold=0.0061073265969753265, features=146, gini coefficient=0.6384484674613043\n"
     ]
    },
    {
     "name": "stdout",
     "output_type": "stream",
     "text": [
      "> threshold=0.00612660264596343, features=145, gini coefficient=0.6372470851721906\n"
     ]
    },
    {
     "name": "stdout",
     "output_type": "stream",
     "text": [
      "> threshold=0.006245377007871866, features=144, gini coefficient=0.6382209603447085\n"
     ]
    },
    {
     "name": "stdout",
     "output_type": "stream",
     "text": [
      "> threshold=0.006348665803670883, features=143, gini coefficient=0.6373860522728606\n"
     ]
    },
    {
     "name": "stdout",
     "output_type": "stream",
     "text": [
      "> threshold=0.006360562983900309, features=142, gini coefficient=0.6374122970423268\n"
     ]
    },
    {
     "name": "stdout",
     "output_type": "stream",
     "text": [
      "> threshold=0.006426946725696325, features=141, gini coefficient=0.6382519396536547\n"
     ]
    },
    {
     "name": "stdout",
     "output_type": "stream",
     "text": [
      "> threshold=0.006440097000449896, features=140, gini coefficient=0.6384131576923515\n"
     ]
    },
    {
     "name": "stdout",
     "output_type": "stream",
     "text": [
      "> threshold=0.006583157926797867, features=139, gini coefficient=0.6367767322317086\n"
     ]
    },
    {
     "name": "stdout",
     "output_type": "stream",
     "text": [
      "> threshold=0.00661443779245019, features=138, gini coefficient=0.6388925219596147\n"
     ]
    },
    {
     "name": "stdout",
     "output_type": "stream",
     "text": [
      "> threshold=0.006704371888190508, features=137, gini coefficient=0.6384962215185143\n"
     ]
    },
    {
     "name": "stdout",
     "output_type": "stream",
     "text": [
      "> threshold=0.006728766951709986, features=136, gini coefficient=0.6390776265977837\n"
     ]
    },
    {
     "name": "stdout",
     "output_type": "stream",
     "text": [
      "> threshold=0.006747106555849314, features=135, gini coefficient=0.6388273603676093\n"
     ]
    },
    {
     "name": "stdout",
     "output_type": "stream",
     "text": [
      "> threshold=0.0068000927567481995, features=134, gini coefficient=0.6391263229674289\n"
     ]
    },
    {
     "name": "stdout",
     "output_type": "stream",
     "text": [
      "> threshold=0.006827551405876875, features=133, gini coefficient=0.6400452759601797\n"
     ]
    },
    {
     "name": "stdout",
     "output_type": "stream",
     "text": [
      "> threshold=0.006936619523912668, features=132, gini coefficient=0.6382083808669182\n"
     ]
    },
    {
     "name": "stdout",
     "output_type": "stream",
     "text": [
      "> threshold=0.006985096726566553, features=131, gini coefficient=0.6394714500947968\n"
     ]
    },
    {
     "name": "stdout",
     "output_type": "stream",
     "text": [
      "> threshold=0.007029164582490921, features=130, gini coefficient=0.637241638028415\n"
     ]
    },
    {
     "name": "stdout",
     "output_type": "stream",
     "text": [
      "> threshold=0.007038770709186792, features=129, gini coefficient=0.6400269330025117\n"
     ]
    },
    {
     "name": "stdout",
     "output_type": "stream",
     "text": [
      "> threshold=0.0070918467827141285, features=128, gini coefficient=0.6391554815411349\n"
     ]
    },
    {
     "name": "stdout",
     "output_type": "stream",
     "text": [
      "> threshold=0.007172277197241783, features=127, gini coefficient=0.6423421226181023\n"
     ]
    },
    {
     "name": "stdout",
     "output_type": "stream",
     "text": [
      "> threshold=0.007194590289145708, features=126, gini coefficient=0.6405540668435473\n"
     ]
    },
    {
     "name": "stdout",
     "output_type": "stream",
     "text": [
      "> threshold=0.007300198078155518, features=125, gini coefficient=0.6415577286245742\n"
     ]
    },
    {
     "name": "stdout",
     "output_type": "stream",
     "text": [
      "> threshold=0.007317724172025919, features=124, gini coefficient=0.6399566872616639\n"
     ]
    },
    {
     "name": "stdout",
     "output_type": "stream",
     "text": [
      "> threshold=0.007394758984446526, features=123, gini coefficient=0.6388498247045519\n"
     ]
    },
    {
     "name": "stdout",
     "output_type": "stream",
     "text": [
      "> threshold=0.007400962058454752, features=122, gini coefficient=0.6393622312749013\n"
     ]
    },
    {
     "name": "stdout",
     "output_type": "stream",
     "text": [
      "> threshold=0.0074460566975176334, features=121, gini coefficient=0.6410688857713426\n"
     ]
    },
    {
     "name": "stdout",
     "output_type": "stream",
     "text": [
      "> threshold=0.007657067850232124, features=120, gini coefficient=0.6405577208767647\n"
     ]
    },
    {
     "name": "stdout",
     "output_type": "stream",
     "text": [
      "> threshold=0.007657876703888178, features=119, gini coefficient=0.6412772916688769\n"
     ]
    },
    {
     "name": "stdout",
     "output_type": "stream",
     "text": [
      "> threshold=0.007661181967705488, features=118, gini coefficient=0.6401940507433165\n"
     ]
    },
    {
     "name": "stdout",
     "output_type": "stream",
     "text": [
      "> threshold=0.007706692907959223, features=117, gini coefficient=0.6395894838274646\n"
     ]
    },
    {
     "name": "stdout",
     "output_type": "stream",
     "text": [
      "> threshold=0.007824321277439594, features=116, gini coefficient=0.6387001261365046\n"
     ]
    },
    {
     "name": "stdout",
     "output_type": "stream",
     "text": [
      "> threshold=0.00783070269972086, features=115, gini coefficient=0.6405420317121745\n"
     ]
    },
    {
     "name": "stdout",
     "output_type": "stream",
     "text": [
      "> threshold=0.007841541431844234, features=114, gini coefficient=0.6424995695125305\n"
     ]
    },
    {
     "name": "stdout",
     "output_type": "stream",
     "text": [
      "> threshold=0.007856332696974277, features=113, gini coefficient=0.6422930200684626\n"
     ]
    },
    {
     "name": "stdout",
     "output_type": "stream",
     "text": [
      "> threshold=0.00790119543671608, features=112, gini coefficient=0.6403106432532825\n"
     ]
    },
    {
     "name": "stdout",
     "output_type": "stream",
     "text": [
      "> threshold=0.00805263128131628, features=111, gini coefficient=0.6402940891118571\n"
     ]
    },
    {
     "name": "stdout",
     "output_type": "stream",
     "text": [
      "> threshold=0.00808327179402113, features=110, gini coefficient=0.6409943253059233\n"
     ]
    },
    {
     "name": "stdout",
     "output_type": "stream",
     "text": [
      "> threshold=0.008113904856145382, features=109, gini coefficient=0.641619576034895\n"
     ]
    },
    {
     "name": "stdout",
     "output_type": "stream",
     "text": [
      "> threshold=0.008194994181394577, features=108, gini coefficient=0.6421148444265405\n"
     ]
    },
    {
     "name": "stdout",
     "output_type": "stream",
     "text": [
      "> threshold=0.008287467993795872, features=107, gini coefficient=0.6417076360660559\n"
     ]
    },
    {
     "name": "stdout",
     "output_type": "stream",
     "text": [
      "> threshold=0.008290332742035389, features=106, gini coefficient=0.6418601942963835\n"
     ]
    },
    {
     "name": "stdout",
     "output_type": "stream",
     "text": [
      "> threshold=0.008408249355852604, features=105, gini coefficient=0.6405041387441273\n"
     ]
    },
    {
     "name": "stdout",
     "output_type": "stream",
     "text": [
      "> threshold=0.008444052189588547, features=104, gini coefficient=0.641424646029\n"
     ]
    },
    {
     "name": "stdout",
     "output_type": "stream",
     "text": [
      "> threshold=0.008444748818874359, features=103, gini coefficient=0.640684051649976\n"
     ]
    },
    {
     "name": "stdout",
     "output_type": "stream",
     "text": [
      "> threshold=0.008451711386442184, features=102, gini coefficient=0.6435855728838574\n"
     ]
    },
    {
     "name": "stdout",
     "output_type": "stream",
     "text": [
      "> threshold=0.008515942841768265, features=101, gini coefficient=0.6430085316849032\n"
     ]
    },
    {
     "name": "stdout",
     "output_type": "stream",
     "text": [
      "> threshold=0.008620318956673145, features=100, gini coefficient=0.6413818936569172\n"
     ]
    },
    {
     "name": "stdout",
     "output_type": "stream",
     "text": [
      "> threshold=0.008643182925879955, features=99, gini coefficient=0.6420709231638929\n"
     ]
    },
    {
     "name": "stdout",
     "output_type": "stream",
     "text": [
      "> threshold=0.008689112029969692, features=98, gini coefficient=0.6413547884245576\n"
     ]
    },
    {
     "name": "stdout",
     "output_type": "stream",
     "text": [
      "> threshold=0.008739356882870197, features=97, gini coefficient=0.64119768200714\n"
     ]
    },
    {
     "name": "stdout",
     "output_type": "stream",
     "text": [
      "> threshold=0.008758879266679287, features=96, gini coefficient=0.6412880349301461\n"
     ]
    },
    {
     "name": "stdout",
     "output_type": "stream",
     "text": [
      "> threshold=0.008767938241362572, features=95, gini coefficient=0.6422328662726693\n"
     ]
    },
    {
     "name": "stdout",
     "output_type": "stream",
     "text": [
      "> threshold=0.008811243809759617, features=94, gini coefficient=0.6413841255077585\n"
     ]
    },
    {
     "name": "stdout",
     "output_type": "stream",
     "text": [
      "> threshold=0.0088505819439888, features=93, gini coefficient=0.6435985827941381\n"
     ]
    },
    {
     "name": "stdout",
     "output_type": "stream",
     "text": [
      "> threshold=0.008881252259016037, features=92, gini coefficient=0.6410434464990337\n"
     ]
    },
    {
     "name": "stdout",
     "output_type": "stream",
     "text": [
      "> threshold=0.008887696079909801, features=91, gini coefficient=0.6414850959349664\n"
     ]
    },
    {
     "name": "stdout",
     "output_type": "stream",
     "text": [
      "> threshold=0.008950743824243546, features=90, gini coefficient=0.6435030248973114\n"
     ]
    },
    {
     "name": "stdout",
     "output_type": "stream",
     "text": [
      "> threshold=0.009004934690892696, features=89, gini coefficient=0.6417048612215587\n"
     ]
    },
    {
     "name": "stdout",
     "output_type": "stream",
     "text": [
      "> threshold=0.009114665910601616, features=88, gini coefficient=0.6424961370183667\n"
     ]
    },
    {
     "name": "stdout",
     "output_type": "stream",
     "text": [
      "> threshold=0.009162254631519318, features=87, gini coefficient=0.6416605678699904\n"
     ]
    },
    {
     "name": "stdout",
     "output_type": "stream",
     "text": [
      "> threshold=0.009221856482326984, features=86, gini coefficient=0.6449111514311078\n"
     ]
    },
    {
     "name": "stdout",
     "output_type": "stream",
     "text": [
      "> threshold=0.009349430911242962, features=85, gini coefficient=0.6442953956521185\n"
     ]
    },
    {
     "name": "stdout",
     "output_type": "stream",
     "text": [
      "> threshold=0.00946821179240942, features=84, gini coefficient=0.6443038690880177\n"
     ]
    },
    {
     "name": "stdout",
     "output_type": "stream",
     "text": [
      "> threshold=0.009479830972850323, features=83, gini coefficient=0.6437470167039375\n"
     ]
    },
    {
     "name": "stdout",
     "output_type": "stream",
     "text": [
      "> threshold=0.009502124972641468, features=82, gini coefficient=0.6441296721231982\n"
     ]
    },
    {
     "name": "stdout",
     "output_type": "stream",
     "text": [
      "> threshold=0.009531447663903236, features=81, gini coefficient=0.6447359472469888\n"
     ]
    },
    {
     "name": "stdout",
     "output_type": "stream",
     "text": [
      "> threshold=0.009562303312122822, features=80, gini coefficient=0.6442739805823594\n"
     ]
    },
    {
     "name": "stdout",
     "output_type": "stream",
     "text": [
      "> threshold=0.009565762244164944, features=79, gini coefficient=0.6446475257117893\n"
     ]
    },
    {
     "name": "stdout",
     "output_type": "stream",
     "text": [
      "> threshold=0.00958005990833044, features=78, gini coefficient=0.6432029164473543\n"
     ]
    },
    {
     "name": "stdout",
     "output_type": "stream",
     "text": [
      "> threshold=0.009607168845832348, features=77, gini coefficient=0.6452450505840194\n"
     ]
    },
    {
     "name": "stdout",
     "output_type": "stream",
     "text": [
      "> threshold=0.009617959149181843, features=76, gini coefficient=0.6439245477882513\n"
     ]
    },
    {
     "name": "stdout",
     "output_type": "stream",
     "text": [
      "> threshold=0.009654796682298183, features=75, gini coefficient=0.6451359883630851\n"
     ]
    },
    {
     "name": "stdout",
     "output_type": "stream",
     "text": [
      "> threshold=0.009767397306859493, features=74, gini coefficient=0.6443455331343649\n"
     ]
    },
    {
     "name": "stdout",
     "output_type": "stream",
     "text": [
      "> threshold=0.010066797956824303, features=73, gini coefficient=0.6441428194807691\n"
     ]
    },
    {
     "name": "stdout",
     "output_type": "stream",
     "text": [
      "> threshold=0.010128560476005077, features=72, gini coefficient=0.6446482307838416\n"
     ]
    },
    {
     "name": "stdout",
     "output_type": "stream",
     "text": [
      "> threshold=0.010172971524298191, features=71, gini coefficient=0.6450778391808093\n"
     ]
    },
    {
     "name": "stdout",
     "output_type": "stream",
     "text": [
      "> threshold=0.010362132452428341, features=70, gini coefficient=0.6459256927322882\n"
     ]
    },
    {
     "name": "stdout",
     "output_type": "stream",
     "text": [
      "> threshold=0.010414929129183292, features=69, gini coefficient=0.6440883834184685\n"
     ]
    },
    {
     "name": "stdout",
     "output_type": "stream",
     "text": [
      "> threshold=0.010480393655598164, features=68, gini coefficient=0.6448361930310655\n"
     ]
    },
    {
     "name": "stdout",
     "output_type": "stream",
     "text": [
      "> threshold=0.010596588253974915, features=67, gini coefficient=0.6462416010543309\n"
     ]
    },
    {
     "name": "stdout",
     "output_type": "stream",
     "text": [
      "> threshold=0.01094601396471262, features=66, gini coefficient=0.6453202231496884\n"
     ]
    },
    {
     "name": "stdout",
     "output_type": "stream",
     "text": [
      "> threshold=0.010965347290039062, features=65, gini coefficient=0.6469213008477069\n"
     ]
    },
    {
     "name": "stdout",
     "output_type": "stream",
     "text": [
      "> threshold=0.011162384413182735, features=64, gini coefficient=0.6448293384446745\n"
     ]
    },
    {
     "name": "stdout",
     "output_type": "stream",
     "text": [
      "> threshold=0.011205419898033142, features=63, gini coefficient=0.6467446584158161\n"
     ]
    },
    {
     "name": "stdout",
     "output_type": "stream",
     "text": [
      "> threshold=0.011253793723881245, features=62, gini coefficient=0.6432248778479254\n"
     ]
    },
    {
     "name": "stdout",
     "output_type": "stream",
     "text": [
      "> threshold=0.011257254518568516, features=61, gini coefficient=0.6451566760531977\n"
     ]
    },
    {
     "name": "stdout",
     "output_type": "stream",
     "text": [
      "> threshold=0.011309164576232433, features=60, gini coefficient=0.6453284327106136\n"
     ]
    },
    {
     "name": "stdout",
     "output_type": "stream",
     "text": [
      "> threshold=0.011323080398142338, features=59, gini coefficient=0.6427349399620961\n"
     ]
    },
    {
     "name": "stdout",
     "output_type": "stream",
     "text": [
      "> threshold=0.011514991521835327, features=58, gini coefficient=0.6417684082157251\n"
     ]
    },
    {
     "name": "stdout",
     "output_type": "stream",
     "text": [
      "> threshold=0.011645649559795856, features=57, gini coefficient=0.6424426793006724\n"
     ]
    },
    {
     "name": "stdout",
     "output_type": "stream",
     "text": [
      "> threshold=0.011646013706922531, features=56, gini coefficient=0.642258850554703\n"
     ]
    },
    {
     "name": "stdout",
     "output_type": "stream",
     "text": [
      "> threshold=0.011895515024662018, features=55, gini coefficient=0.6441324959437876\n"
     ]
    },
    {
     "name": "stdout",
     "output_type": "stream",
     "text": [
      "> threshold=0.012034411542117596, features=54, gini coefficient=0.6432107584591402\n"
     ]
    },
    {
     "name": "stdout",
     "output_type": "stream",
     "text": [
      "> threshold=0.012333407066762447, features=53, gini coefficient=0.6441677834387053\n"
     ]
    },
    {
     "name": "stdout",
     "output_type": "stream",
     "text": [
      "> threshold=0.0123576819896698, features=52, gini coefficient=0.6435154443499169\n"
     ]
    },
    {
     "name": "stdout",
     "output_type": "stream",
     "text": [
      "> threshold=0.012528899125754833, features=51, gini coefficient=0.6438061228741823\n"
     ]
    },
    {
     "name": "stdout",
     "output_type": "stream",
     "text": [
      "> threshold=0.012540220282971859, features=50, gini coefficient=0.6443562619577331\n"
     ]
    },
    {
     "name": "stdout",
     "output_type": "stream",
     "text": [
      "> threshold=0.012671999633312225, features=49, gini coefficient=0.6441067041713723\n"
     ]
    },
    {
     "name": "stdout",
     "output_type": "stream",
     "text": [
      "> threshold=0.012695440091192722, features=48, gini coefficient=0.6441460393550038\n"
     ]
    },
    {
     "name": "stdout",
     "output_type": "stream",
     "text": [
      "> threshold=0.012747804634273052, features=47, gini coefficient=0.6439384203013726\n"
     ]
    },
    {
     "name": "stdout",
     "output_type": "stream",
     "text": [
      "> threshold=0.012837134301662445, features=46, gini coefficient=0.6421616412486199\n"
     ]
    },
    {
     "name": "stdout",
     "output_type": "stream",
     "text": [
      "> threshold=0.013147813268005848, features=45, gini coefficient=0.6440077435605104\n"
     ]
    },
    {
     "name": "stdout",
     "output_type": "stream",
     "text": [
      "> threshold=0.013305309228599072, features=44, gini coefficient=0.6434598062656889\n"
     ]
    },
    {
     "name": "stdout",
     "output_type": "stream",
     "text": [
      "> threshold=0.013693333603441715, features=43, gini coefficient=0.6431883101712456\n"
     ]
    },
    {
     "name": "stdout",
     "output_type": "stream",
     "text": [
      "> threshold=0.013698454014956951, features=42, gini coefficient=0.6419997410285561\n"
     ]
    },
    {
     "name": "stdout",
     "output_type": "stream",
     "text": [
      "> threshold=0.014298380352556705, features=41, gini coefficient=0.6431560069533111\n"
     ]
    },
    {
     "name": "stdout",
     "output_type": "stream",
     "text": [
      "> threshold=0.01512366533279419, features=40, gini coefficient=0.6436261526715404\n"
     ]
    },
    {
     "name": "stdout",
     "output_type": "stream",
     "text": [
      "> threshold=0.015132199041545391, features=39, gini coefficient=0.6430796209485939\n"
     ]
    },
    {
     "name": "stdout",
     "output_type": "stream",
     "text": [
      "> threshold=0.01527153979986906, features=38, gini coefficient=0.6439278333413062\n"
     ]
    },
    {
     "name": "stdout",
     "output_type": "stream",
     "text": [
      "> threshold=0.015612331219017506, features=37, gini coefficient=0.6425313178262645\n"
     ]
    },
    {
     "name": "stdout",
     "output_type": "stream",
     "text": [
      "> threshold=0.015835264697670937, features=36, gini coefficient=0.6419149116857018\n"
     ]
    },
    {
     "name": "stdout",
     "output_type": "stream",
     "text": [
      "> threshold=0.015867654234170914, features=35, gini coefficient=0.6421733984653833\n"
     ]
    },
    {
     "name": "stdout",
     "output_type": "stream",
     "text": [
      "> threshold=0.015980159863829613, features=34, gini coefficient=0.6430867579194846\n"
     ]
    },
    {
     "name": "stdout",
     "output_type": "stream",
     "text": [
      "> threshold=0.01612396351993084, features=33, gini coefficient=0.6416172088831625\n"
     ]
    },
    {
     "name": "stdout",
     "output_type": "stream",
     "text": [
      "> threshold=0.01623118668794632, features=32, gini coefficient=0.6429378667350981\n"
     ]
    },
    {
     "name": "stdout",
     "output_type": "stream",
     "text": [
      "> threshold=0.01651313342154026, features=31, gini coefficient=0.6410286065645843\n"
     ]
    },
    {
     "name": "stdout",
     "output_type": "stream",
     "text": [
      "> threshold=0.01662244088947773, features=30, gini coefficient=0.6395722709325348\n"
     ]
    },
    {
     "name": "stdout",
     "output_type": "stream",
     "text": [
      "> threshold=0.017157023772597313, features=29, gini coefficient=0.6404262352738127\n"
     ]
    },
    {
     "name": "stdout",
     "output_type": "stream",
     "text": [
      "> threshold=0.017221346497535706, features=28, gini coefficient=0.640826430619876\n"
     ]
    },
    {
     "name": "stdout",
     "output_type": "stream",
     "text": [
      "> threshold=0.017401840537786484, features=27, gini coefficient=0.6395274686300888\n"
     ]
    },
    {
     "name": "stdout",
     "output_type": "stream",
     "text": [
      "> threshold=0.018757615238428116, features=26, gini coefficient=0.6387431488701666\n"
     ]
    },
    {
     "name": "stdout",
     "output_type": "stream",
     "text": [
      "> threshold=0.018970299512147903, features=25, gini coefficient=0.6390302326668521\n"
     ]
    },
    {
     "name": "stdout",
     "output_type": "stream",
     "text": [
      "> threshold=0.01940668560564518, features=24, gini coefficient=0.6394378873584742\n"
     ]
    },
    {
     "name": "stdout",
     "output_type": "stream",
     "text": [
      "> threshold=0.019526736810803413, features=23, gini coefficient=0.6399338491490673\n"
     ]
    },
    {
     "name": "stdout",
     "output_type": "stream",
     "text": [
      "> threshold=0.020208826288580894, features=22, gini coefficient=0.6404989505411048\n"
     ]
    },
    {
     "name": "stdout",
     "output_type": "stream",
     "text": [
      "> threshold=0.020586343482136726, features=21, gini coefficient=0.6389723650224101\n"
     ]
    },
    {
     "name": "stdout",
     "output_type": "stream",
     "text": [
      "> threshold=0.021748952567577362, features=20, gini coefficient=0.6386299222954319\n"
     ]
    },
    {
     "name": "stdout",
     "output_type": "stream",
     "text": [
      "> threshold=0.02260058932006359, features=19, gini coefficient=0.6353195946497118\n"
     ]
    },
    {
     "name": "stdout",
     "output_type": "stream",
     "text": [
      "> threshold=0.02294987440109253, features=18, gini coefficient=0.6303291322421939\n"
     ]
    },
    {
     "name": "stdout",
     "output_type": "stream",
     "text": [
      "> threshold=0.024534502997994423, features=17, gini coefficient=0.6297097337552889\n"
     ]
    },
    {
     "name": "stdout",
     "output_type": "stream",
     "text": [
      "> threshold=0.02508588880300522, features=16, gini coefficient=0.6278247182395468\n"
     ]
    },
    {
     "name": "stdout",
     "output_type": "stream",
     "text": [
      "> threshold=0.025718403980135918, features=15, gini coefficient=0.6263271279664102\n"
     ]
    },
    {
     "name": "stdout",
     "output_type": "stream",
     "text": [
      "> threshold=0.02954045683145523, features=14, gini coefficient=0.6236203598909126\n"
     ]
    },
    {
     "name": "stdout",
     "output_type": "stream",
     "text": [
      "> threshold=0.02973093092441559, features=13, gini coefficient=0.6229459318318018\n"
     ]
    },
    {
     "name": "stdout",
     "output_type": "stream",
     "text": [
      "> threshold=0.03246058151125908, features=12, gini coefficient=0.6201537501984424\n"
     ]
    },
    {
     "name": "stdout",
     "output_type": "stream",
     "text": [
      "> threshold=0.03462178632616997, features=11, gini coefficient=0.6118400617487069\n"
     ]
    },
    {
     "name": "stdout",
     "output_type": "stream",
     "text": [
      "> threshold=0.034652065485715866, features=10, gini coefficient=0.5979760206711129\n"
     ]
    },
    {
     "name": "stdout",
     "output_type": "stream",
     "text": [
      "> threshold=0.03858092799782753, features=9, gini coefficient=0.5976097873978347\n"
     ]
    },
    {
     "name": "stdout",
     "output_type": "stream",
     "text": [
      "> threshold=0.043340910226106644, features=8, gini coefficient=0.5772297361584904\n"
     ]
    },
    {
     "name": "stdout",
     "output_type": "stream",
     "text": [
      "> threshold=0.050704751163721085, features=7, gini coefficient=0.5738779672191606\n"
     ]
    },
    {
     "name": "stdout",
     "output_type": "stream",
     "text": [
      "> threshold=0.07281625270843506, features=6, gini coefficient=0.569288033963573\n"
     ]
    },
    {
     "name": "stdout",
     "output_type": "stream",
     "text": [
      "> threshold=0.08990167826414108, features=5, gini coefficient=0.5656499161965048\n"
     ]
    },
    {
     "name": "stdout",
     "output_type": "stream",
     "text": [
      "> threshold=0.0936165526509285, features=4, gini coefficient=0.5484121757985115\n"
     ]
    },
    {
     "name": "stdout",
     "output_type": "stream",
     "text": [
      "> threshold=0.15776218473911285, features=3, gini coefficient=0.5159218424927563\n"
     ]
    },
    {
     "name": "stdout",
     "output_type": "stream",
     "text": [
      "> threshold=0.15865124762058258, features=2, gini coefficient=0.49654404741373775\n"
     ]
    },
    {
     "name": "stdout",
     "output_type": "stream",
     "text": [
      "> threshold=0.2089952975511551, features=1, gini coefficient=0.34524399038621495\n"
     ]
    },
    {
     "data": {
      "image/png": "[encoded data removed]",
      "text/plain": [
       "<Figure size 800x600 with 1 Axes>"
      ]
     },
     "metadata": {},
     "output_type": "display_data"
    },
    {
     "name": "stdout",
     "output_type": "stream",
     "text": [
      "Optimal Threshold: 0.0109\n",
      "Number of Selected Features: 65\n",
      "Gini coef at Optimal Threshold: 0.6469\n",
      "\n",
      "\n",
      "Selected features are: \n",
      "\n",
      "ampl_score  del_score  mean.GC.content  dist.to.closest.FGS  Length_Counts.E1\n",
      "Length_Counts.E10  Length_Counts.E13  Length_Counts.E14  Length_Counts.E16  Length_Counts.E17\n",
      "Length_Counts.E18  Length_Counts.E2  Length_Counts.E22  Length_Counts.E23  Length_Counts.E24\n",
      "Length_Counts.E25  Length_Counts.E3  Length_Counts.E5  Length_Counts.E7  Length_Counts.E9\n",
      "dist.to.closest.OG  dist.to.closest.TSG  distance.to.centromere  distance.to.telomere  Ess.distance_pancancer\n",
      "Centromere_Length  9_911  3_327  6_796  16_858\n",
      "7_1590  13_909  22_432  6_787  4_1853\n",
      "7_1072  2_1418  4_1601  4_1392  8_70\n",
      "17_560  3_333  2_1416  12_1199  7_883\n",
      "12_169  5_1200  7_550  20_479  7_476\n",
      "8_394  4_1396  6_807  8_344  7_683\n",
      "9_1372  22_5  22_409  8_589  16_492\n",
      "9_735  7_758  7_567  8_843  log2smoothed\n",
      "\n",
      "\n",
      "Discarded features are: \n",
      "\n",
      "total_n_partners.trans  total_n_PPIs.trans_IntINSIDER  total_n_ohnologs.mmpaper_trans  total_n_paralogs_trans  Length_Counts.E11\n",
      "Length_Counts.E12  Length_Counts.E15  Length_Counts.E19  Length_Counts.E20  Length_Counts.E21\n",
      "Length_Counts.E4  Length_Counts.E6  Length_Counts.E8  all.int.trans_IntINSIDER  genes.bin\n",
      "partners.trans  density.OG  density.TSG  mutations_norm  ESSscore_pancancer\n",
      "HAPLOscore_pancancer  Density.complex.proteins  Density.Ohnologs  Chromosome_Length  Centromere_Type\n",
      "8_287  8_328  9_203  8_281  9_201\n",
      "8_280  21_227  6_786  7_1085  8_279\n",
      "22_433  7_1589  6_1601  1_210  3_332\n",
      "8_307  7_168  8_707  22_442  22_447\n",
      "8_688  7_109  15_320  9_694  22_435\n",
      "9_21  8_295  8_286  8_299  6_783\n",
      "7_359  8_352  8_300  7_360  6_794\n",
      "8_727  7_348  20_161  19_153  20_160\n",
      "6_9  7_882  19_201  22_368  9_913\n",
      "6_791  6_1600  6_795  8_432  9_893\n",
      "6_1585  9_89  6_806  8_709  9_731\n",
      "7_890  8_636  7_1040  8_396  19_160\n",
      "15_131  7_325  7_776  9_756  9_870\n",
      "9_883  19_195  12_362  20_527  7_1415\n",
      "8_706  12_1198  7_1047  8_405  8_289\n",
      "7_878  5_1022  22_443  20_162  22_360\n",
      "7_357  9_919  12_1203  13_306  8_379\n",
      "9_705  6_782  7_1571  4_1542  22_355\n",
      "7_390  9_443  8_442  7_703  22_429\n",
      "8_440  6_800  7_173  8_590  13_302\n",
      "7_166  7_1591  7_347  6_805  4_340\n",
      "8_735  20_485  20_175  13_31  7_719\n",
      "8_312  8_376  6_1379  8_644  8_288\n",
      "2_1430  13_275  11_751  19_167  13_30\n",
      "6_1603  2_1424  3_340  8_666  19_172\n",
      "3_10  3_910  19_196  8_765  8_38\n",
      "6_802  8_337  8_684  8_718  2_1431\n",
      "6_917  12_1194  13_272  17_559  6_916\n",
      "3_916  4_265  7_203  8_374  19_151\n",
      "8_436  9_727  19_206  7_1588  7_1053\n",
      "9_730  3_341  7_514  7_887  9_1370\n",
      "7_725  9_534  19_21  2_1423  7_1413\n",
      "19_159  4_4\n"
     ]
    }
   ],
   "source": [
    "feature_names = model.feature_names_in_\n",
    "feature_importances_shap = np.mean(np.mean(np.abs(explainer.shap_values(X_train)), axis = 0),axis = 1)\n",
    "\n",
    "X_train_reduced, X_test_reduced, selected_features = feature_selector_shap(feature_names, feature_importances_shap, \n",
    "                                                                            model, X_train, X_test, y_train, \n",
    "                                                                            inner_cv = inner_cv,\n",
    "                                                                            plot = True, verbose = True)"
   ]
  },
  {
   "cell_type": "code",
   "execution_count": 35,
   "id": "ed5074e0",
   "metadata": {
    "execution": {
     "iopub.execute_input": "2025-06-08T02:35:32.981986Z",
     "iopub.status.busy": "2025-06-08T02:35:32.981177Z",
     "iopub.status.idle": "2025-06-08T02:35:32.986805Z",
     "shell.execute_reply": "2025-06-08T02:35:32.986101Z"
    },
    "papermill": {
     "duration": 0.022183,
     "end_time": "2025-06-08T02:35:32.988724",
     "exception": false,
     "start_time": "2025-06-08T02:35:32.966541",
     "status": "completed"
    },
    "tags": []
   },
   "outputs": [],
   "source": [
    "features_to_discard = [feature for feature in selected_features if feature not in selected_features_in_at_least_one_cv]"
   ]
  },
  {
   "cell_type": "code",
   "execution_count": 36,
   "id": "5f9d5887",
   "metadata": {
    "execution": {
     "iopub.execute_input": "2025-06-08T02:35:33.017768Z",
     "iopub.status.busy": "2025-06-08T02:35:33.016983Z",
     "iopub.status.idle": "2025-06-08T02:35:33.022552Z",
     "shell.execute_reply": "2025-06-08T02:35:33.022096Z"
    },
    "papermill": {
     "duration": 0.020102,
     "end_time": "2025-06-08T02:35:33.023061",
     "exception": false,
     "start_time": "2025-06-08T02:35:33.002959",
     "status": "completed"
    },
    "tags": []
   },
   "outputs": [
    {
     "name": "stdout",
     "output_type": "stream",
     "text": [
      "Dropping columns never selected during Nested Cross Validation: ['7_550', '22_409']\n"
     ]
    }
   ],
   "source": [
    "print(f\"Dropping columns never selected during Nested Cross Validation: {features_to_discard}\")"
   ]
  },
  {
   "cell_type": "code",
   "execution_count": 37,
   "id": "e106c9dd",
   "metadata": {
    "execution": {
     "iopub.execute_input": "2025-06-08T02:35:33.051040Z",
     "iopub.status.busy": "2025-06-08T02:35:33.050431Z",
     "iopub.status.idle": "2025-06-08T02:35:33.056476Z",
     "shell.execute_reply": "2025-06-08T02:35:33.055933Z"
    },
    "papermill": {
     "duration": 0.021489,
     "end_time": "2025-06-08T02:35:33.057166",
     "exception": false,
     "start_time": "2025-06-08T02:35:33.035677",
     "status": "completed"
    },
    "tags": []
   },
   "outputs": [],
   "source": [
    "X_train_reduced = X_train_reduced.drop(features_to_discard, axis = 1)\n",
    "X_test_reduced = X_test_reduced.drop(features_to_discard, axis = 1)"
   ]
  },
  {
   "cell_type": "code",
   "execution_count": 38,
   "id": "5f6673df",
   "metadata": {
    "execution": {
     "iopub.execute_input": "2025-06-08T02:35:33.085908Z",
     "iopub.status.busy": "2025-06-08T02:35:33.085156Z",
     "iopub.status.idle": "2025-06-08T03:28:51.001667Z",
     "shell.execute_reply": "2025-06-08T03:28:51.001267Z"
    },
    "papermill": {
     "duration": 3197.947822,
     "end_time": "2025-06-08T03:28:51.018619",
     "exception": false,
     "start_time": "2025-06-08T02:35:33.070797",
     "status": "completed"
    },
    "tags": []
   },
   "outputs": [
    {
     "data": {
      "text/html": [
       "<style>#sk-container-id-2 {\n",
       "  /* Definition of color scheme common for light and dark mode */\n",
       "  --sklearn-color-text: #000;\n",
       "  --sklearn-color-text-muted: #666;\n",
       "  --sklearn-color-line: gray;\n",
       "  /* Definition of color scheme for unfitted estimators */\n",
       "  --sklearn-color-unfitted-level-0: #fff5e6;\n",
       "  --sklearn-color-unfitted-level-1: #f6e4d2;\n",
       "  --sklearn-color-unfitted-level-2: #ffe0b3;\n",
       "  --sklearn-color-unfitted-level-3: chocolate;\n",
       "  /* Definition of color scheme for fitted estimators */\n",
       "  --sklearn-color-fitted-level-0: #f0f8ff;\n",
       "  --sklearn-color-fitted-level-1: #d4ebff;\n",
       "  --sklearn-color-fitted-level-2: #b3dbfd;\n",
       "  --sklearn-color-fitted-level-3: cornflowerblue;\n",
       "\n",
       "  /* Specific color for light theme */\n",
       "  --sklearn-color-text-on-default-background: var(--sg-text-color, var(--theme-code-foreground, var(--jp-content-font-color1, black)));\n",
       "  --sklearn-color-background: var(--sg-background-color, var(--theme-background, var(--jp-layout-color0, white)));\n",
       "  --sklearn-color-border-box: var(--sg-text-color, var(--theme-code-foreground, var(--jp-content-font-color1, black)));\n",
       "  --sklearn-color-icon: #696969;\n",
       "\n",
       "  @media (prefers-color-scheme: dark) {\n",
       "    /* Redefinition of color scheme for dark theme */\n",
       "    --sklearn-color-text-on-default-background: var(--sg-text-color, var(--theme-code-foreground, var(--jp-content-font-color1, white)));\n",
       "    --sklearn-color-background: var(--sg-background-color, var(--theme-background, var(--jp-layout-color0, #111)));\n",
       "    --sklearn-color-border-box: var(--sg-text-color, var(--theme-code-foreground, var(--jp-content-font-color1, white)));\n",
       "    --sklearn-color-icon: #878787;\n",
       "  }\n",
       "}\n",
       "\n",
       "#sk-container-id-2 {\n",
       "  color: var(--sklearn-color-text);\n",
       "}\n",
       "\n",
       "#sk-container-id-2 pre {\n",
       "  padding: 0;\n",
       "}\n",
       "\n",
       "#sk-container-id-2 input.sk-hidden--visually {\n",
       "  border: 0;\n",
       "  clip: rect(1px 1px 1px 1px);\n",
       "  clip: rect(1px, 1px, 1px, 1px);\n",
       "  height: 1px;\n",
       "  margin: -1px;\n",
       "  overflow: hidden;\n",
       "  padding: 0;\n",
       "  position: absolute;\n",
       "  width: 1px;\n",
       "}\n",
       "\n",
       "#sk-container-id-2 div.sk-dashed-wrapped {\n",
       "  border: 1px dashed var(--sklearn-color-line);\n",
       "  margin: 0 0.4em 0.5em 0.4em;\n",
       "  box-sizing: border-box;\n",
       "  padding-bottom: 0.4em;\n",
       "  background-color: var(--sklearn-color-background);\n",
       "}\n",
       "\n",
       "#sk-container-id-2 div.sk-container {\n",
       "  /* jupyter's `normalize.less` sets `[hidden] { display: none; }`\n",
       "     but bootstrap.min.css set `[hidden] { display: none !important; }`\n",
       "     so we also need the `!important` here to be able to override the\n",
       "     default hidden behavior on the sphinx rendered scikit-learn.org.\n",
       "     See: https://github.com/scikit-learn/scikit-learn/issues/21755 */\n",
       "  display: inline-block !important;\n",
       "  position: relative;\n",
       "}\n",
       "\n",
       "#sk-container-id-2 div.sk-text-repr-fallback {\n",
       "  display: none;\n",
       "}\n",
       "\n",
       "div.sk-parallel-item,\n",
       "div.sk-serial,\n",
       "div.sk-item {\n",
       "  /* draw centered vertical line to link estimators */\n",
       "  background-image: linear-gradient(var(--sklearn-color-text-on-default-background), var(--sklearn-color-text-on-default-background));\n",
       "  background-size: 2px 100%;\n",
       "  background-repeat: no-repeat;\n",
       "  background-position: center center;\n",
       "}\n",
       "\n",
       "/* Parallel-specific style estimator block */\n",
       "\n",
       "#sk-container-id-2 div.sk-parallel-item::after {\n",
       "  content: \"\";\n",
       "  width: 100%;\n",
       "  border-bottom: 2px solid var(--sklearn-color-text-on-default-background);\n",
       "  flex-grow: 1;\n",
       "}\n",
       "\n",
       "#sk-container-id-2 div.sk-parallel {\n",
       "  display: flex;\n",
       "  align-items: stretch;\n",
       "  justify-content: center;\n",
       "  background-color: var(--sklearn-color-background);\n",
       "  position: relative;\n",
       "}\n",
       "\n",
       "#sk-container-id-2 div.sk-parallel-item {\n",
       "  display: flex;\n",
       "  flex-direction: column;\n",
       "}\n",
       "\n",
       "#sk-container-id-2 div.sk-parallel-item:first-child::after {\n",
       "  align-self: flex-end;\n",
       "  width: 50%;\n",
       "}\n",
       "\n",
       "#sk-container-id-2 div.sk-parallel-item:last-child::after {\n",
       "  align-self: flex-start;\n",
       "  width: 50%;\n",
       "}\n",
       "\n",
       "#sk-container-id-2 div.sk-parallel-item:only-child::after {\n",
       "  width: 0;\n",
       "}\n",
       "\n",
       "/* Serial-specific style estimator block */\n",
       "\n",
       "#sk-container-id-2 div.sk-serial {\n",
       "  display: flex;\n",
       "  flex-direction: column;\n",
       "  align-items: center;\n",
       "  background-color: var(--sklearn-color-background);\n",
       "  padding-right: 1em;\n",
       "  padding-left: 1em;\n",
       "}\n",
       "\n",
       "\n",
       "/* Toggleable style: style used for estimator/Pipeline/ColumnTransformer box that is\n",
       "clickable and can be expanded/collapsed.\n",
       "- Pipeline and ColumnTransformer use this feature and define the default style\n",
       "- Estimators will overwrite some part of the style using the `sk-estimator` class\n",
       "*/\n",
       "\n",
       "/* Pipeline and ColumnTransformer style (default) */\n",
       "\n",
       "#sk-container-id-2 div.sk-toggleable {\n",
       "  /* Default theme specific background. It is overwritten whether we have a\n",
       "  specific estimator or a Pipeline/ColumnTransformer */\n",
       "  background-color: var(--sklearn-color-background);\n",
       "}\n",
       "\n",
       "/* Toggleable label */\n",
       "#sk-container-id-2 label.sk-toggleable__label {\n",
       "  cursor: pointer;\n",
       "  display: flex;\n",
       "  width: 100%;\n",
       "  margin-bottom: 0;\n",
       "  padding: 0.5em;\n",
       "  box-sizing: border-box;\n",
       "  text-align: center;\n",
       "  align-items: start;\n",
       "  justify-content: space-between;\n",
       "  gap: 0.5em;\n",
       "}\n",
       "\n",
       "#sk-container-id-2 label.sk-toggleable__label .caption {\n",
       "  font-size: 0.6rem;\n",
       "  font-weight: lighter;\n",
       "  color: var(--sklearn-color-text-muted);\n",
       "}\n",
       "\n",
       "#sk-container-id-2 label.sk-toggleable__label-arrow:before {\n",
       "  /* Arrow on the left of the label */\n",
       "  content: \"▸\";\n",
       "  float: left;\n",
       "  margin-right: 0.25em;\n",
       "  color: var(--sklearn-color-icon);\n",
       "}\n",
       "\n",
       "#sk-container-id-2 label.sk-toggleable__label-arrow:hover:before {\n",
       "  color: var(--sklearn-color-text);\n",
       "}\n",
       "\n",
       "/* Toggleable content - dropdown */\n",
       "\n",
       "#sk-container-id-2 div.sk-toggleable__content {\n",
       "  max-height: 0;\n",
       "  max-width: 0;\n",
       "  overflow: hidden;\n",
       "  text-align: left;\n",
       "  /* unfitted */\n",
       "  background-color: var(--sklearn-color-unfitted-level-0);\n",
       "}\n",
       "\n",
       "#sk-container-id-2 div.sk-toggleable__content.fitted {\n",
       "  /* fitted */\n",
       "  background-color: var(--sklearn-color-fitted-level-0);\n",
       "}\n",
       "\n",
       "#sk-container-id-2 div.sk-toggleable__content pre {\n",
       "  margin: 0.2em;\n",
       "  border-radius: 0.25em;\n",
       "  color: var(--sklearn-color-text);\n",
       "  /* unfitted */\n",
       "  background-color: var(--sklearn-color-unfitted-level-0);\n",
       "}\n",
       "\n",
       "#sk-container-id-2 div.sk-toggleable__content.fitted pre {\n",
       "  /* unfitted */\n",
       "  background-color: var(--sklearn-color-fitted-level-0);\n",
       "}\n",
       "\n",
       "#sk-container-id-2 input.sk-toggleable__control:checked~div.sk-toggleable__content {\n",
       "  /* Expand drop-down */\n",
       "  max-height: 200px;\n",
       "  max-width: 100%;\n",
       "  overflow: auto;\n",
       "}\n",
       "\n",
       "#sk-container-id-2 input.sk-toggleable__control:checked~label.sk-toggleable__label-arrow:before {\n",
       "  content: \"▾\";\n",
       "}\n",
       "\n",
       "/* Pipeline/ColumnTransformer-specific style */\n",
       "\n",
       "#sk-container-id-2 div.sk-label input.sk-toggleable__control:checked~label.sk-toggleable__label {\n",
       "  color: var(--sklearn-color-text);\n",
       "  background-color: var(--sklearn-color-unfitted-level-2);\n",
       "}\n",
       "\n",
       "#sk-container-id-2 div.sk-label.fitted input.sk-toggleable__control:checked~label.sk-toggleable__label {\n",
       "  background-color: var(--sklearn-color-fitted-level-2);\n",
       "}\n",
       "\n",
       "/* Estimator-specific style */\n",
       "\n",
       "/* Colorize estimator box */\n",
       "#sk-container-id-2 div.sk-estimator input.sk-toggleable__control:checked~label.sk-toggleable__label {\n",
       "  /* unfitted */\n",
       "  background-color: var(--sklearn-color-unfitted-level-2);\n",
       "}\n",
       "\n",
       "#sk-container-id-2 div.sk-estimator.fitted input.sk-toggleable__control:checked~label.sk-toggleable__label {\n",
       "  /* fitted */\n",
       "  background-color: var(--sklearn-color-fitted-level-2);\n",
       "}\n",
       "\n",
       "#sk-container-id-2 div.sk-label label.sk-toggleable__label,\n",
       "#sk-container-id-2 div.sk-label label {\n",
       "  /* The background is the default theme color */\n",
       "  color: var(--sklearn-color-text-on-default-background);\n",
       "}\n",
       "\n",
       "/* On hover, darken the color of the background */\n",
       "#sk-container-id-2 div.sk-label:hover label.sk-toggleable__label {\n",
       "  color: var(--sklearn-color-text);\n",
       "  background-color: var(--sklearn-color-unfitted-level-2);\n",
       "}\n",
       "\n",
       "/* Label box, darken color on hover, fitted */\n",
       "#sk-container-id-2 div.sk-label.fitted:hover label.sk-toggleable__label.fitted {\n",
       "  color: var(--sklearn-color-text);\n",
       "  background-color: var(--sklearn-color-fitted-level-2);\n",
       "}\n",
       "\n",
       "/* Estimator label */\n",
       "\n",
       "#sk-container-id-2 div.sk-label label {\n",
       "  font-family: monospace;\n",
       "  font-weight: bold;\n",
       "  display: inline-block;\n",
       "  line-height: 1.2em;\n",
       "}\n",
       "\n",
       "#sk-container-id-2 div.sk-label-container {\n",
       "  text-align: center;\n",
       "}\n",
       "\n",
       "/* Estimator-specific */\n",
       "#sk-container-id-2 div.sk-estimator {\n",
       "  font-family: monospace;\n",
       "  border: 1px dotted var(--sklearn-color-border-box);\n",
       "  border-radius: 0.25em;\n",
       "  box-sizing: border-box;\n",
       "  margin-bottom: 0.5em;\n",
       "  /* unfitted */\n",
       "  background-color: var(--sklearn-color-unfitted-level-0);\n",
       "}\n",
       "\n",
       "#sk-container-id-2 div.sk-estimator.fitted {\n",
       "  /* fitted */\n",
       "  background-color: var(--sklearn-color-fitted-level-0);\n",
       "}\n",
       "\n",
       "/* on hover */\n",
       "#sk-container-id-2 div.sk-estimator:hover {\n",
       "  /* unfitted */\n",
       "  background-color: var(--sklearn-color-unfitted-level-2);\n",
       "}\n",
       "\n",
       "#sk-container-id-2 div.sk-estimator.fitted:hover {\n",
       "  /* fitted */\n",
       "  background-color: var(--sklearn-color-fitted-level-2);\n",
       "}\n",
       "\n",
       "/* Specification for estimator info (e.g. \"i\" and \"?\") */\n",
       "\n",
       "/* Common style for \"i\" and \"?\" */\n",
       "\n",
       ".sk-estimator-doc-link,\n",
       "a:link.sk-estimator-doc-link,\n",
       "a:visited.sk-estimator-doc-link {\n",
       "  float: right;\n",
       "  font-size: smaller;\n",
       "  line-height: 1em;\n",
       "  font-family: monospace;\n",
       "  background-color: var(--sklearn-color-background);\n",
       "  border-radius: 1em;\n",
       "  height: 1em;\n",
       "  width: 1em;\n",
       "  text-decoration: none !important;\n",
       "  margin-left: 0.5em;\n",
       "  text-align: center;\n",
       "  /* unfitted */\n",
       "  border: var(--sklearn-color-unfitted-level-1) 1pt solid;\n",
       "  color: var(--sklearn-color-unfitted-level-1);\n",
       "}\n",
       "\n",
       ".sk-estimator-doc-link.fitted,\n",
       "a:link.sk-estimator-doc-link.fitted,\n",
       "a:visited.sk-estimator-doc-link.fitted {\n",
       "  /* fitted */\n",
       "  border: var(--sklearn-color-fitted-level-1) 1pt solid;\n",
       "  color: var(--sklearn-color-fitted-level-1);\n",
       "}\n",
       "\n",
       "/* On hover */\n",
       "div.sk-estimator:hover .sk-estimator-doc-link:hover,\n",
       ".sk-estimator-doc-link:hover,\n",
       "div.sk-label-container:hover .sk-estimator-doc-link:hover,\n",
       ".sk-estimator-doc-link:hover {\n",
       "  /* unfitted */\n",
       "  background-color: var(--sklearn-color-unfitted-level-3);\n",
       "  color: var(--sklearn-color-background);\n",
       "  text-decoration: none;\n",
       "}\n",
       "\n",
       "div.sk-estimator.fitted:hover .sk-estimator-doc-link.fitted:hover,\n",
       ".sk-estimator-doc-link.fitted:hover,\n",
       "div.sk-label-container:hover .sk-estimator-doc-link.fitted:hover,\n",
       ".sk-estimator-doc-link.fitted:hover {\n",
       "  /* fitted */\n",
       "  background-color: var(--sklearn-color-fitted-level-3);\n",
       "  color: var(--sklearn-color-background);\n",
       "  text-decoration: none;\n",
       "}\n",
       "\n",
       "/* Span, style for the box shown on hovering the info icon */\n",
       ".sk-estimator-doc-link span {\n",
       "  display: none;\n",
       "  z-index: 9999;\n",
       "  position: relative;\n",
       "  font-weight: normal;\n",
       "  right: .2ex;\n",
       "  padding: .5ex;\n",
       "  margin: .5ex;\n",
       "  width: min-content;\n",
       "  min-width: 20ex;\n",
       "  max-width: 50ex;\n",
       "  color: var(--sklearn-color-text);\n",
       "  box-shadow: 2pt 2pt 4pt #999;\n",
       "  /* unfitted */\n",
       "  background: var(--sklearn-color-unfitted-level-0);\n",
       "  border: .5pt solid var(--sklearn-color-unfitted-level-3);\n",
       "}\n",
       "\n",
       ".sk-estimator-doc-link.fitted span {\n",
       "  /* fitted */\n",
       "  background: var(--sklearn-color-fitted-level-0);\n",
       "  border: var(--sklearn-color-fitted-level-3);\n",
       "}\n",
       "\n",
       ".sk-estimator-doc-link:hover span {\n",
       "  display: block;\n",
       "}\n",
       "\n",
       "/* \"?\"-specific style due to the `<a>` HTML tag */\n",
       "\n",
       "#sk-container-id-2 a.estimator_doc_link {\n",
       "  float: right;\n",
       "  font-size: 1rem;\n",
       "  line-height: 1em;\n",
       "  font-family: monospace;\n",
       "  background-color: var(--sklearn-color-background);\n",
       "  border-radius: 1rem;\n",
       "  height: 1rem;\n",
       "  width: 1rem;\n",
       "  text-decoration: none;\n",
       "  /* unfitted */\n",
       "  color: var(--sklearn-color-unfitted-level-1);\n",
       "  border: var(--sklearn-color-unfitted-level-1) 1pt solid;\n",
       "}\n",
       "\n",
       "#sk-container-id-2 a.estimator_doc_link.fitted {\n",
       "  /* fitted */\n",
       "  border: var(--sklearn-color-fitted-level-1) 1pt solid;\n",
       "  color: var(--sklearn-color-fitted-level-1);\n",
       "}\n",
       "\n",
       "/* On hover */\n",
       "#sk-container-id-2 a.estimator_doc_link:hover {\n",
       "  /* unfitted */\n",
       "  background-color: var(--sklearn-color-unfitted-level-3);\n",
       "  color: var(--sklearn-color-background);\n",
       "  text-decoration: none;\n",
       "}\n",
       "\n",
       "#sk-container-id-2 a.estimator_doc_link.fitted:hover {\n",
       "  /* fitted */\n",
       "  background-color: var(--sklearn-color-fitted-level-3);\n",
       "}\n",
       "</style><div id=\"sk-container-id-2\" class=\"sk-top-container\"><div class=\"sk-text-repr-fallback\"><pre>RandomizedSearchCV(cv=3,\n",
       "                   estimator=XGBClassifier(base_score=None, booster=&#x27;gbtree&#x27;,\n",
       "                                           callbacks=None,\n",
       "                                           colsample_bylevel=0.9210992271589409,\n",
       "                                           colsample_bynode=None,\n",
       "                                           colsample_bytree=0.6371507194709869,\n",
       "                                           device=&#x27;cpu&#x27;,\n",
       "                                           early_stopping_rounds=None,\n",
       "                                           enable_categorical=False,\n",
       "                                           eval_metric=&#x27;auc&#x27;,\n",
       "                                           feature_types=None,\n",
       "                                           feature_weights=None,\n",
       "                                           gamma=0.8795208319239872,\n",
       "                                           grow_policy...\n",
       "                                        &#x27;n_estimators&#x27;: [232, 427, 100, 295],\n",
       "                                        &#x27;objective&#x27;: [&#x27;multi:softmax&#x27;],\n",
       "                                        &#x27;reg_alpha&#x27;: [0.0029949916204736644,\n",
       "                                                      0.010333665817242934,\n",
       "                                                      0.009841283815938523,\n",
       "                                                      6.810265373749562],\n",
       "                                        &#x27;reg_lambda&#x27;: [0.2669840207965698,\n",
       "                                                       1.5636486012079303,\n",
       "                                                       9.191846538892186,\n",
       "                                                       41.55545304225476],\n",
       "                                        &#x27;subsample&#x27;: [0.9097624701131881,\n",
       "                                                      0.9438153834686239,\n",
       "                                                      0.9572926673078064,\n",
       "                                                      0.8596580193924419]},\n",
       "                   random_state=49574)</pre><b>In a Jupyter environment, please rerun this cell to show the HTML representation or trust the notebook. <br />On GitHub, the HTML representation is unable to render, please try loading this page with nbviewer.org.</b></div><div class=\"sk-container\" hidden><div class=\"sk-item sk-dashed-wrapped\"><div class=\"sk-label-container\"><div class=\"sk-label fitted sk-toggleable\"><input class=\"sk-toggleable__control sk-hidden--visually\" id=\"sk-estimator-id-4\" type=\"checkbox\" ><label for=\"sk-estimator-id-4\" class=\"sk-toggleable__label fitted sk-toggleable__label-arrow\"><div><div>RandomizedSearchCV</div></div><div><a class=\"sk-estimator-doc-link fitted\" rel=\"noreferrer\" target=\"_blank\" href=\"https://scikit-learn.org/1.6/modules/generated/sklearn.model_selection.RandomizedSearchCV.html\">?<span>Documentation for RandomizedSearchCV</span></a><span class=\"sk-estimator-doc-link fitted\">i<span>Fitted</span></span></div></label><div class=\"sk-toggleable__content fitted\"><pre>RandomizedSearchCV(cv=3,\n",
       "                   estimator=XGBClassifier(base_score=None, booster=&#x27;gbtree&#x27;,\n",
       "                                           callbacks=None,\n",
       "                                           colsample_bylevel=0.9210992271589409,\n",
       "                                           colsample_bynode=None,\n",
       "                                           colsample_bytree=0.6371507194709869,\n",
       "                                           device=&#x27;cpu&#x27;,\n",
       "                                           early_stopping_rounds=None,\n",
       "                                           enable_categorical=False,\n",
       "                                           eval_metric=&#x27;auc&#x27;,\n",
       "                                           feature_types=None,\n",
       "                                           feature_weights=None,\n",
       "                                           gamma=0.8795208319239872,\n",
       "                                           grow_policy...\n",
       "                                        &#x27;n_estimators&#x27;: [232, 427, 100, 295],\n",
       "                                        &#x27;objective&#x27;: [&#x27;multi:softmax&#x27;],\n",
       "                                        &#x27;reg_alpha&#x27;: [0.0029949916204736644,\n",
       "                                                      0.010333665817242934,\n",
       "                                                      0.009841283815938523,\n",
       "                                                      6.810265373749562],\n",
       "                                        &#x27;reg_lambda&#x27;: [0.2669840207965698,\n",
       "                                                       1.5636486012079303,\n",
       "                                                       9.191846538892186,\n",
       "                                                       41.55545304225476],\n",
       "                                        &#x27;subsample&#x27;: [0.9097624701131881,\n",
       "                                                      0.9438153834686239,\n",
       "                                                      0.9572926673078064,\n",
       "                                                      0.8596580193924419]},\n",
       "                   random_state=49574)</pre></div> </div></div><div class=\"sk-parallel\"><div class=\"sk-parallel-item\"><div class=\"sk-item\"><div class=\"sk-label-container\"><div class=\"sk-label fitted sk-toggleable\"><input class=\"sk-toggleable__control sk-hidden--visually\" id=\"sk-estimator-id-5\" type=\"checkbox\" ><label for=\"sk-estimator-id-5\" class=\"sk-toggleable__label fitted sk-toggleable__label-arrow\"><div><div>best_estimator_: XGBClassifier</div></div></label><div class=\"sk-toggleable__content fitted\"><pre>XGBClassifier(base_score=None, booster=&#x27;gbtree&#x27;, callbacks=None,\n",
       "              colsample_bylevel=0.9210992271589409, colsample_bynode=None,\n",
       "              colsample_bytree=0.8042479135573553, device=&#x27;cpu&#x27;,\n",
       "              early_stopping_rounds=None, enable_categorical=False,\n",
       "              eval_metric=&#x27;auc&#x27;, feature_types=None, feature_weights=None,\n",
       "              gamma=0.8795208319239872, grow_policy=None, importance_type=None,\n",
       "              interaction_constraints=None, learning_rate=0.03991346173810003,\n",
       "              max_bin=None, max_cat_threshold=None, max_cat_to_onehot=None,\n",
       "              max_delta_step=6, max_depth=7, max_leaves=None,\n",
       "              min_child_weight=7, missing=nan, monotone_constraints=None,\n",
       "              multi_strategy=None, n_estimators=295, n_jobs=60,\n",
       "              num_parallel_tree=None, ...)</pre></div> </div></div><div class=\"sk-serial\"><div class=\"sk-item\"><div class=\"sk-estimator fitted sk-toggleable\"><input class=\"sk-toggleable__control sk-hidden--visually\" id=\"sk-estimator-id-6\" type=\"checkbox\" ><label for=\"sk-estimator-id-6\" class=\"sk-toggleable__label fitted sk-toggleable__label-arrow\"><div><div>XGBClassifier</div></div><div><a class=\"sk-estimator-doc-link fitted\" rel=\"noreferrer\" target=\"_blank\" href=\"https://xgboost.readthedocs.io/en/release_3.0.0/python/python_api.html#xgboost.XGBClassifier\">?<span>Documentation for XGBClassifier</span></a></div></label><div class=\"sk-toggleable__content fitted\"><pre>XGBClassifier(base_score=None, booster=&#x27;gbtree&#x27;, callbacks=None,\n",
       "              colsample_bylevel=0.9210992271589409, colsample_bynode=None,\n",
       "              colsample_bytree=0.8042479135573553, device=&#x27;cpu&#x27;,\n",
       "              early_stopping_rounds=None, enable_categorical=False,\n",
       "              eval_metric=&#x27;auc&#x27;, feature_types=None, feature_weights=None,\n",
       "              gamma=0.8795208319239872, grow_policy=None, importance_type=None,\n",
       "              interaction_constraints=None, learning_rate=0.03991346173810003,\n",
       "              max_bin=None, max_cat_threshold=None, max_cat_to_onehot=None,\n",
       "              max_delta_step=6, max_depth=7, max_leaves=None,\n",
       "              min_child_weight=7, missing=nan, monotone_constraints=None,\n",
       "              multi_strategy=None, n_estimators=295, n_jobs=60,\n",
       "              num_parallel_tree=None, ...)</pre></div> </div></div></div></div></div></div></div></div></div>"
      ],
      "text/plain": [
       "RandomizedSearchCV(cv=3,\n",
       "                   estimator=XGBClassifier(base_score=None, booster='gbtree',\n",
       "                                           callbacks=None,\n",
       "                                           colsample_bylevel=0.9210992271589409,\n",
       "                                           colsample_bynode=None,\n",
       "                                           colsample_bytree=0.6371507194709869,\n",
       "                                           device='cpu',\n",
       "                                           early_stopping_rounds=None,\n",
       "                                           enable_categorical=False,\n",
       "                                           eval_metric='auc',\n",
       "                                           feature_types=None,\n",
       "                                           feature_weights=None,\n",
       "                                           gamma=0.8795208319239872,\n",
       "                                           grow_policy...\n",
       "                                        'n_estimators': [232, 427, 100, 295],\n",
       "                                        'objective': ['multi:softmax'],\n",
       "                                        'reg_alpha': [0.0029949916204736644,\n",
       "                                                      0.010333665817242934,\n",
       "                                                      0.009841283815938523,\n",
       "                                                      6.810265373749562],\n",
       "                                        'reg_lambda': [0.2669840207965698,\n",
       "                                                       1.5636486012079303,\n",
       "                                                       9.191846538892186,\n",
       "                                                       41.55545304225476],\n",
       "                                        'subsample': [0.9097624701131881,\n",
       "                                                      0.9438153834686239,\n",
       "                                                      0.9572926673078064,\n",
       "                                                      0.8596580193924419]},\n",
       "                   random_state=49574)"
      ]
     },
     "execution_count": 38,
     "metadata": {},
     "output_type": "execute_result"
    }
   ],
   "source": [
    "opti_fs = sk.model_selection.RandomizedSearchCV(estimator = model, \n",
    "                                                param_distributions = search_space_grid, \n",
    "                                                cv = inner_cv, \n",
    "                                                n_jobs = n_jobs_sk,\n",
    "                                                n_iter = n_iter_rsearch,\n",
    "                                                random_state = hypertune_random_state_rsearch, \n",
    "                                                verbose = 0, refit = True)\n",
    "opti_fs.fit(X_train_reduced, y_train)"
   ]
  },
  {
   "cell_type": "code",
   "execution_count": 39,
   "id": "556a5c3e",
   "metadata": {
    "execution": {
     "iopub.execute_input": "2025-06-08T03:28:51.053849Z",
     "iopub.status.busy": "2025-06-08T03:28:51.053211Z",
     "iopub.status.idle": "2025-06-08T03:28:51.058154Z",
     "shell.execute_reply": "2025-06-08T03:28:51.057559Z"
    },
    "papermill": {
     "duration": 0.024493,
     "end_time": "2025-06-08T03:28:51.058756",
     "exception": false,
     "start_time": "2025-06-08T03:28:51.034263",
     "status": "completed"
    },
    "tags": []
   },
   "outputs": [],
   "source": [
    "model_fs = opti_fs.best_estimator_"
   ]
  },
  {
   "cell_type": "code",
   "execution_count": 40,
   "id": "e6d46463",
   "metadata": {
    "execution": {
     "iopub.execute_input": "2025-06-08T03:28:51.090629Z",
     "iopub.status.busy": "2025-06-08T03:28:51.089989Z",
     "iopub.status.idle": "2025-06-08T03:28:51.094963Z",
     "shell.execute_reply": "2025-06-08T03:28:51.094245Z"
    },
    "papermill": {
     "duration": 0.023452,
     "end_time": "2025-06-08T03:28:51.095444",
     "exception": false,
     "start_time": "2025-06-08T03:28:51.071992",
     "status": "completed"
    },
    "tags": []
   },
   "outputs": [],
   "source": [
    "best_params_fs = opti_fs.best_params_"
   ]
  },
  {
   "cell_type": "code",
   "execution_count": 41,
   "id": "3756f242",
   "metadata": {
    "execution": {
     "iopub.execute_input": "2025-06-08T03:28:51.125839Z",
     "iopub.status.busy": "2025-06-08T03:28:51.125700Z",
     "iopub.status.idle": "2025-06-08T03:28:51.130116Z",
     "shell.execute_reply": "2025-06-08T03:28:51.129626Z"
    },
    "papermill": {
     "duration": 0.022209,
     "end_time": "2025-06-08T03:28:51.130677",
     "exception": false,
     "start_time": "2025-06-08T03:28:51.108468",
     "status": "completed"
    },
    "tags": []
   },
   "outputs": [
    {
     "name": "stdout",
     "output_type": "stream",
     "text": [
      "subsample: 0.9572926673078064\n",
      "reg_lambda: 0.2669840207965698\n",
      "reg_alpha: 0.010333665817242934\n",
      "objective: multi:softmax\n",
      "n_estimators: 295\n",
      "min_child_weight: 7\n",
      "max_depth: 7\n",
      "max_delta_step: 6\n",
      "learning_rate: 0.03991346173810003\n",
      "gamma: 0.8795208319239872\n",
      "eval_metric: auc\n",
      "colsample_bytree: 0.8042479135573553\n",
      "colsample_bylevel: 0.9210992271589409\n",
      "booster: gbtree\n"
     ]
    }
   ],
   "source": [
    "for k,v in best_params_fs.items():\n",
    "    print(f\"{k}: {v}\")"
   ]
  },
  {
   "cell_type": "markdown",
   "id": "43a279e4",
   "metadata": {
    "papermill": {
     "duration": 0.016937,
     "end_time": "2025-06-08T03:28:51.161108",
     "exception": false,
     "start_time": "2025-06-08T03:28:51.144171",
     "status": "completed"
    },
    "tags": []
   },
   "source": [
    "## Evaluate Model Performances"
   ]
  },
  {
   "cell_type": "code",
   "execution_count": 42,
   "id": "99e61bb2",
   "metadata": {
    "execution": {
     "iopub.execute_input": "2025-06-08T03:28:51.188787Z",
     "iopub.status.busy": "2025-06-08T03:28:51.188609Z",
     "iopub.status.idle": "2025-06-08T03:28:51.192928Z",
     "shell.execute_reply": "2025-06-08T03:28:51.192405Z"
    },
    "papermill": {
     "duration": 0.01989,
     "end_time": "2025-06-08T03:28:51.193708",
     "exception": false,
     "start_time": "2025-06-08T03:28:51.173818",
     "status": "completed"
    },
    "tags": []
   },
   "outputs": [],
   "source": [
    "f1_macro = sk.metrics.make_scorer(sk.metrics.f1_score, average=\"macro\")\n",
    "precision_macro = sk.metrics.make_scorer(sk.metrics.precision_score, average=\"macro\")\n",
    "recall_macro = sk.metrics.make_scorer(sk.metrics.recall_score, average=\"macro\")"
   ]
  },
  {
   "cell_type": "code",
   "execution_count": 43,
   "id": "c4c45c3f",
   "metadata": {
    "execution": {
     "iopub.execute_input": "2025-06-08T03:28:51.221555Z",
     "iopub.status.busy": "2025-06-08T03:28:51.221425Z",
     "iopub.status.idle": "2025-06-08T03:29:48.910930Z",
     "shell.execute_reply": "2025-06-08T03:29:48.908657Z"
    },
    "papermill": {
     "duration": 57.70431,
     "end_time": "2025-06-08T03:29:48.912169",
     "exception": false,
     "start_time": "2025-06-08T03:28:51.207859",
     "status": "completed"
    },
    "tags": []
   },
   "outputs": [],
   "source": [
    "accuracy_array_fs = np.mean(sk.model_selection.cross_val_score(model_fs, X_train_reduced, y_train, cv = outer_cv, scoring = \"accuracy\"))\n",
    "f1_array_fs = np.mean(sk.model_selection.cross_val_score(model_fs, X_train_reduced, y_train, cv = outer_cv, scoring = f1_macro))\n",
    "precision_array_fs = np.mean(sk.model_selection.cross_val_score(model_fs, X_train_reduced, y_train, cv = outer_cv, scoring = precision_macro))\n",
    "recall_array_fs = np.mean(sk.model_selection.cross_val_score(model_fs, X_train_reduced, y_train, cv = outer_cv, scoring = recall_macro))\n",
    "roc_auc_array_fs = np.mean(sk.model_selection.cross_val_score(model_fs, X_train_reduced, y_train, cv = outer_cv, scoring = \"roc_auc_ovr\"))\n",
    "\n",
    "proba_predictions_fs = sk.model_selection.cross_val_predict(model_fs, X_train_reduced, y_train, cv = outer_cv, method= \"predict_proba\")\n",
    "class_array_fs = sk.model_selection.cross_val_predict(model_fs, X_train_reduced, y_train, cv = outer_cv, method= \"predict\")"
   ]
  },
  {
   "cell_type": "code",
   "execution_count": 44,
   "id": "25001cdc",
   "metadata": {
    "execution": {
     "iopub.execute_input": "2025-06-08T03:29:48.942040Z",
     "iopub.status.busy": "2025-06-08T03:29:48.941280Z",
     "iopub.status.idle": "2025-06-08T03:29:48.948953Z",
     "shell.execute_reply": "2025-06-08T03:29:48.948350Z"
    },
    "papermill": {
     "duration": 0.023048,
     "end_time": "2025-06-08T03:29:48.949447",
     "exception": false,
     "start_time": "2025-06-08T03:29:48.926399",
     "status": "completed"
    },
    "tags": []
   },
   "outputs": [],
   "source": [
    "label_binarizer = sk.preprocessing.LabelBinarizer().fit(y_train)\n",
    "y_onehot_train = label_binarizer.transform(y_train)\n",
    "n_classes = y_onehot_train.shape[1]\n",
    "target_names = np.unique(y_train)"
   ]
  },
  {
   "cell_type": "code",
   "execution_count": 45,
   "id": "90449799",
   "metadata": {
    "execution": {
     "iopub.execute_input": "2025-06-08T03:29:48.977848Z",
     "iopub.status.busy": "2025-06-08T03:29:48.976794Z",
     "iopub.status.idle": "2025-06-08T03:29:48.990551Z",
     "shell.execute_reply": "2025-06-08T03:29:48.989922Z"
    },
    "papermill": {
     "duration": 0.028699,
     "end_time": "2025-06-08T03:29:48.991067",
     "exception": false,
     "start_time": "2025-06-08T03:29:48.962368",
     "status": "completed"
    },
    "tags": []
   },
   "outputs": [
    {
     "name": "stdout",
     "output_type": "stream",
     "text": [
      "Macro-averaged One-vs-Rest ROC AUC score: 0.83\n"
     ]
    }
   ],
   "source": [
    "fpr, tpr, roc_auc = dict(), dict(), dict()\n",
    "\n",
    "for i in range(n_classes):\n",
    "    fpr[i], tpr[i], _ = sk.metrics.roc_curve(y_onehot_train[:, i], proba_predictions_fs[:, i])\n",
    "    roc_auc[i] = sk.metrics.auc(fpr[i], tpr[i])\n",
    "\n",
    "fpr_grid = np.linspace(0.0, 1.0, 1000)\n",
    "\n",
    "mean_tpr = np.zeros_like(fpr_grid)\n",
    "\n",
    "for i in range(n_classes):\n",
    "    mean_tpr += np.interp(fpr_grid, fpr[i], tpr[i])\n",
    "\n",
    "mean_tpr /= n_classes\n",
    "\n",
    "fpr[\"macro\"] = fpr_grid\n",
    "tpr[\"macro\"] = mean_tpr\n",
    "roc_auc[\"macro\"] = sk.metrics.auc(fpr[\"macro\"], tpr[\"macro\"])\n",
    "\n",
    "print(f\"Macro-averaged One-vs-Rest ROC AUC score: {roc_auc['macro']:.2f}\")"
   ]
  },
  {
   "cell_type": "code",
   "execution_count": 46,
   "id": "dc526bf5",
   "metadata": {
    "execution": {
     "iopub.execute_input": "2025-06-08T03:29:49.021027Z",
     "iopub.status.busy": "2025-06-08T03:29:49.020899Z",
     "iopub.status.idle": "2025-06-08T03:29:49.143095Z",
     "shell.execute_reply": "2025-06-08T03:29:49.142588Z"
    },
    "papermill": {
     "duration": 0.136329,
     "end_time": "2025-06-08T03:29:49.143751",
     "exception": false,
     "start_time": "2025-06-08T03:29:49.007422",
     "status": "completed"
    },
    "tags": []
   },
   "outputs": [
    {
     "data": {
      "image/png": "[encoded data removed]",
      "text/plain": [
       "<Figure size 600x600 with 1 Axes>"
      ]
     },
     "metadata": {},
     "output_type": "display_data"
    }
   ],
   "source": [
    "from itertools import cycle\n",
    "\n",
    "fig, ax = plt.subplots(figsize=(6, 6))\n",
    "\n",
    "plt.plot(\n",
    "    fpr[\"macro\"],\n",
    "    tpr[\"macro\"],\n",
    "    label=f\"macro-average ROC curve (AUC = {roc_auc['macro']:.2f})\",\n",
    "    color=\"navy\",\n",
    "    linestyle=\":\",\n",
    "    linewidth=4,\n",
    ")\n",
    "\n",
    "colors = cycle([\"aqua\", \"darkorange\", \"cornflowerblue\"])\n",
    "for class_id, color in zip(range(n_classes), colors):\n",
    "    sk.metrics.RocCurveDisplay.from_predictions(\n",
    "        y_onehot_train[:, class_id],\n",
    "        proba_predictions_fs[:, class_id],\n",
    "        name=f\"ROC curve for {target_names[class_id]}\",\n",
    "        color=color,\n",
    "        ax=ax,\n",
    "        plot_chance_level=(class_id == 2),\n",
    "        despine=True,\n",
    "    )\n",
    "\n",
    "_ = ax.set(\n",
    "    xlabel=\"False Positive Rate\",\n",
    "    ylabel=\"True Positive Rate\",\n",
    "    title=\"Extension of Receiver Operating Characteristic\\nto One-vs-Rest multiclass\",\n",
    ")"
   ]
  },
  {
   "cell_type": "markdown",
   "id": "f3c5f81e",
   "metadata": {
    "papermill": {
     "duration": 0.017944,
     "end_time": "2025-06-08T03:29:49.175350",
     "exception": false,
     "start_time": "2025-06-08T03:29:49.157406",
     "status": "completed"
    },
    "tags": []
   },
   "source": [
    "## Store Variables for later"
   ]
  },
  {
   "cell_type": "code",
   "execution_count": 47,
   "id": "86003795",
   "metadata": {
    "execution": {
     "iopub.execute_input": "2025-06-08T03:29:49.204792Z",
     "iopub.status.busy": "2025-06-08T03:29:49.204612Z",
     "iopub.status.idle": "2025-06-08T03:29:49.233033Z",
     "shell.execute_reply": "2025-06-08T03:29:49.232551Z"
    },
    "papermill": {
     "duration": 0.045049,
     "end_time": "2025-06-08T03:29:49.234146",
     "exception": false,
     "start_time": "2025-06-08T03:29:49.189097",
     "status": "completed"
    },
    "tags": []
   },
   "outputs": [],
   "source": [
    "pickle.dump(X_train_reduced,open(X_train_filename,\"wb\"))\n",
    "pickle.dump(X_test_reduced,open(X_test_filename,\"wb\"))\n",
    "pickle.dump(y_train,open(y_train_filename,\"wb\"))\n",
    "pickle.dump(y_test,open(y_test_filename,\"wb\"))\n",
    "pickle.dump(bin_train,open(bin_train_filename,\"wb\"))\n",
    "pickle.dump(bin_test,open(bin_test_filename,\"wb\"))\n",
    "pickle.dump(model_fs,open(model_filename,\"wb\"))"
   ]
  }
 ],
 "metadata": {
  "kernelspec": {
   "display_name": "Python 3",
   "language": "python",
   "name": "python3"
  },
  "language_info": {
   "codemirror_mode": {
    "name": "ipython",
    "version": 3
   },
   "file_extension": ".py",
   "mimetype": "text/x-python",
   "name": "python",
   "nbconvert_exporter": "python",
   "pygments_lexer": "ipython3",
   "version": "3.10.12"
  },
  "papermill": {
   "default_parameters": {},
   "duration": 57894.641872,
   "end_time": "2025-06-08T03:29:49.667012",
   "environment_variables": {},
   "exception": null,
   "input_path": "MultiClassification_Pipeline.ipynb",
   "output_path": "sc_MultiClassification_Output_with_HIC_and_Repliseq_0.1Mbp/MultiClassification_Pipeline_Output.ipynb",
   "parameters": {},
   "start_time": "2025-06-07T11:24:55.025140",
   "version": "2.6.0"
  }
 },
 "nbformat": 4,
 "nbformat_minor": 5
}