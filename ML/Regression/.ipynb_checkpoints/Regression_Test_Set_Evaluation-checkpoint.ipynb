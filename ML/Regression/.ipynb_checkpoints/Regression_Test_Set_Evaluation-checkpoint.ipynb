{
 "cells": [
  {
   "cell_type": "code",
   "execution_count": null,
   "id": "33674eee-a392-4038-a072-570681589392",
   "metadata": {},
   "outputs": [],
   "source": [
    "best_regressor_shap = xgb.XGBRegressor(**model.best_params_, n_jobs = 4, seed = 0, random_state = 42)\n",
    "model_optimized_shap = best_regressor_shap.fit(X_train_reduced, y_train)\n",
    "y_predict_fs_shap = model_optimized_shap.predict(X_test_reduced)\n",
    "\n",
    "mse_fs_shap = sk.metrics.mean_squared_error(y_test, y_predict_fs_shap)\n",
    "rsq_fs_shap = sk.metrics.r2_score(y_test, y_predict_fs_shap)\n",
    "spearman_fs_shap = sp.stats.spearmanr(y_test, y_predict_fs_shap)\n",
    "print(\" / \".join([mode, condition]))\n",
    "print(\"\\n\")\n",
    "print(\"The mean squared error (MSE) on test set: {:.3f}\".format(mse_fs_shap))\n",
    "print(\"The R squared (R^2) on test set: {:.3f}\".format(rsq_fs_shap))\n",
    "print(\"The spearman correlation on test set: {:.3f}\".format(spearman_fs_shap.correlation))"
   ]
  },
  {
   "cell_type": "code",
   "execution_count": null,
   "id": "f2343730-c0da-47e2-8347-22c1f9a9534e",
   "metadata": {},
   "outputs": [],
   "source": [
    "if plot_variation:\n",
    "    fig, axes = plt.subplots(2, 1, figsize=(24, 8))\n",
    "    plt.sca(axes[0])\n",
    "    plot_observed_predicted([y_train, y_predict_train], [\"Observed\", \"Predicted\"],  \"Observed vs Prediction [ TRUE TARGET VARIABLE ]\", \"\", \"mean_log2FC\")\n",
    "    plt.sca(axes[1])\n",
    "    plot_observed_predicted([y_test, y_predict_fs_shap], [\"Observed\", \"Predicted\"], \"Observed vs Prediction [ TRUE TARGET - AFTER FEATURE SELECTION - SHAP ]\", \"Index\", \"mean_log2FC\")\n",
    "    plt.tight_layout()\n",
    "    plt.show()"
   ]
  }
 ],
 "metadata": {
  "kernelspec": {
   "display_name": "Python 3 (ipykernel)",
   "language": "python",
   "name": "python3"
  },
  "language_info": {
   "codemirror_mode": {
    "name": "ipython",
    "version": 3
   },
   "file_extension": ".py",
   "mimetype": "text/x-python",
   "name": "python",
   "nbconvert_exporter": "python",
   "pygments_lexer": "ipython3",
   "version": "3.9.7"
  }
 },
 "nbformat": 4,
 "nbformat_minor": 5
}
