{
 "cells": [
  {
   "cell_type": "markdown",
   "id": "0746e350",
   "metadata": {
    "papermill": {
     "duration": 0.007406,
     "end_time": "2025-05-03T08:42:12.186241",
     "exception": false,
     "start_time": "2025-05-03T08:42:12.178835",
     "status": "completed"
    },
    "tags": []
   },
   "source": [
    "# Machine Learning Pipeline - Production"
   ]
  },
  {
   "cell_type": "markdown",
   "id": "8f265c84",
   "metadata": {
    "papermill": {
     "duration": 0.004104,
     "end_time": "2025-05-03T08:42:12.195230",
     "exception": false,
     "start_time": "2025-05-03T08:42:12.191126",
     "status": "completed"
    },
    "tags": []
   },
   "source": [
    "Check the python kernel we are using, should be the local one, not the one in the virtual environment. <br> \n",
    "NOTE: A proper virtual environment will be setup later on"
   ]
  },
  {
   "cell_type": "code",
   "execution_count": 1,
   "id": "186740c9",
   "metadata": {
    "execution": {
     "iopub.execute_input": "2025-05-03T08:42:12.204407Z",
     "iopub.status.busy": "2025-05-03T08:42:12.204234Z",
     "iopub.status.idle": "2025-05-03T08:42:12.211363Z",
     "shell.execute_reply": "2025-05-03T08:42:12.210850Z"
    },
    "papermill": {
     "duration": 0.012981,
     "end_time": "2025-05-03T08:42:12.212323",
     "exception": false,
     "start_time": "2025-05-03T08:42:12.199342",
     "status": "completed"
    },
    "tags": []
   },
   "outputs": [
    {
     "name": "stdout",
     "output_type": "stream",
     "text": [
      "/usr/bin/python3\n"
     ]
    }
   ],
   "source": [
    "import sys\n",
    "print(sys.executable)"
   ]
  },
  {
   "cell_type": "markdown",
   "id": "44604b09",
   "metadata": {
    "papermill": {
     "duration": 0.008928,
     "end_time": "2025-05-03T08:42:12.230438",
     "exception": false,
     "start_time": "2025-05-03T08:42:12.221510",
     "status": "completed"
    },
    "tags": []
   },
   "source": [
    "## Define Variables"
   ]
  },
  {
   "cell_type": "markdown",
   "id": "c7611b12",
   "metadata": {
    "papermill": {
     "duration": 0.007473,
     "end_time": "2025-05-03T08:42:12.246905",
     "exception": false,
     "start_time": "2025-05-03T08:42:12.239432",
     "status": "completed"
    },
    "tags": []
   },
   "source": [
    "Set up main variables that will be called later on, for readibility purposes"
   ]
  },
  {
   "cell_type": "code",
   "execution_count": 2,
   "id": "4b2b66cf",
   "metadata": {
    "execution": {
     "iopub.execute_input": "2025-05-03T08:42:12.256483Z",
     "iopub.status.busy": "2025-05-03T08:42:12.256355Z",
     "iopub.status.idle": "2025-05-03T08:42:12.261265Z",
     "shell.execute_reply": "2025-05-03T08:42:12.260642Z"
    },
    "papermill": {
     "duration": 0.010418,
     "end_time": "2025-05-03T08:42:12.261975",
     "exception": false,
     "start_time": "2025-05-03T08:42:12.251557",
     "status": "completed"
    },
    "tags": []
   },
   "outputs": [],
   "source": [
    "install_bool = False\n",
    "path_to_datasets = \"/home/ieo7429/Desktop/THESIS_GAB/outfiles/target_variables/ML_tables_regression_classification_BRCA_1Mbp_with_HIC.RData\"\n",
    "mode = \"regrout\"\n",
    "\n",
    "target_variable = \"mean_log2FC\"\n",
    "\n",
    "cols_to_drop = [\"joint_probability\", \"bool_diff_acc\", \n",
    "                \"sign_mean_log2FC_1\", \"sign_mean_log2FC_2\", \"sign_mean_log2FC_3\", \n",
    "                \"weighted_coef_of_var_log2FC\", \"weighted_log2FC\", \"bin\", \"Type\"]\n",
    "\n",
    "cols_to_check = [\"mean_log2FC\", \"weighted_log2FC\", \"weighted_coef_of_var_log2FC\",\n",
    "                 \"joint_probability\", \"bool_diff_acc\", \"sign_mean_log2FC_1\", \n",
    "                 \"sign_mean_log2FC_2\", \"sign_mean_log2FC_3\", \"joined_direction\"]\n",
    "\n",
    "if \"ampl_score\" in cols_to_drop and \"del_score\" in cols_to_drop:\n",
    "    condition = \"without_CNA\"\n",
    "else:\n",
    "    condition = \"with CNA\"\n",
    "\n",
    "n_jobs_boost = None\n",
    "n_jobs_sk = 1\n",
    "#nthread = 60\n",
    "n_iter_bsearch = 50\n",
    "n_iter_rsearch = 100\n",
    "\n",
    "split_random_state = 489574\n",
    "regressor_seed = 3737\n",
    "regressor_random_state = 39473209\n",
    "hypertune_random_state_bsearch = 3847\n",
    "hypertune_random_state_rsearch = 49574\n",
    "kfold_random_state = 4909\n",
    "\n",
    "outer_cv = 3\n",
    "inner_cv = 2\n",
    "plot_variation = True\n",
    "plot_shap = True\n",
    "\n",
    "X_train_filename = \"Regression_Output_with_HIC/regression_X_train_red\"; X_test_filename = \"Regression_Output_with_HIC/regression_X_test_red\"\n",
    "y_train_filename = \"Regression_Output_with_HIC/regression_y_train_red\"; y_test_filename = \"Regression_Output_with_HIC/regression_y_test_red\"\n",
    "bin_train_filename = \"Regression_Output_with_HIC/regression_bin_train_red\"; bin_test_filename = \"Regression_Output_with_HIC/regression_bin_test_red\"\n",
    "model_filename = \"Regression_Output_with_HIC/regressor_final_model\""
   ]
  },
  {
   "cell_type": "markdown",
   "id": "ec91b3dc",
   "metadata": {
    "papermill": {
     "duration": 0.004121,
     "end_time": "2025-05-03T08:42:12.270298",
     "exception": false,
     "start_time": "2025-05-03T08:42:12.266177",
     "status": "completed"
    },
    "tags": []
   },
   "source": [
    "## Install packages"
   ]
  },
  {
   "cell_type": "markdown",
   "id": "8b3b453e",
   "metadata": {
    "papermill": {
     "duration": 0.004036,
     "end_time": "2025-05-03T08:42:12.278453",
     "exception": false,
     "start_time": "2025-05-03T08:42:12.274417",
     "status": "completed"
    },
    "tags": []
   },
   "source": [
    "Install all needed packages"
   ]
  },
  {
   "cell_type": "code",
   "execution_count": 3,
   "id": "1a54a36a",
   "metadata": {
    "execution": {
     "iopub.execute_input": "2025-05-03T08:42:12.287543Z",
     "iopub.status.busy": "2025-05-03T08:42:12.287411Z",
     "iopub.status.idle": "2025-05-03T08:42:12.295298Z",
     "shell.execute_reply": "2025-05-03T08:42:12.294740Z"
    },
    "papermill": {
     "duration": 0.013401,
     "end_time": "2025-05-03T08:42:12.295933",
     "exception": false,
     "start_time": "2025-05-03T08:42:12.282532",
     "status": "completed"
    },
    "tags": []
   },
   "outputs": [],
   "source": [
    "from IPython.display import clear_output\n",
    "\n",
    "if install_bool:\n",
    "    ! pip install pickleshare\n",
    "    ! pip install pandas\n",
    "    ! pip install scikit-learn\n",
    "    ! pip install seaborn\n",
    "    ! pip install scipy\n",
    "    ! pip install --upgrade pip setuptools wheel\n",
    "    ! pip install rpy2\n",
    "    ! pip install shap\n",
    "    ! pip install \"numpy<=2.1\"\n",
    "    %pip install -U ipywidgets\n",
    "\n",
    "clear_output(wait = False)"
   ]
  },
  {
   "cell_type": "markdown",
   "id": "90e71337",
   "metadata": {
    "papermill": {
     "duration": 0.004275,
     "end_time": "2025-05-03T08:42:12.304523",
     "exception": false,
     "start_time": "2025-05-03T08:42:12.300248",
     "status": "completed"
    },
    "tags": []
   },
   "source": [
    "## Import libraries"
   ]
  },
  {
   "cell_type": "markdown",
   "id": "8dfd7106",
   "metadata": {
    "papermill": {
     "duration": 0.004047,
     "end_time": "2025-05-03T08:42:12.312704",
     "exception": false,
     "start_time": "2025-05-03T08:42:12.308657",
     "status": "completed"
    },
    "tags": []
   },
   "source": [
    "Import all packages"
   ]
  },
  {
   "cell_type": "code",
   "execution_count": 4,
   "id": "d3039b6f",
   "metadata": {
    "execution": {
     "iopub.execute_input": "2025-05-03T08:42:12.321836Z",
     "iopub.status.busy": "2025-05-03T08:42:12.321708Z",
     "iopub.status.idle": "2025-05-03T08:42:13.708197Z",
     "shell.execute_reply": "2025-05-03T08:42:13.707529Z"
    },
    "papermill": {
     "duration": 1.394418,
     "end_time": "2025-05-03T08:42:13.711244",
     "exception": false,
     "start_time": "2025-05-03T08:42:12.316826",
     "status": "completed"
    },
    "tags": []
   },
   "outputs": [],
   "source": [
    "import numpy as np\n",
    "import pandas as pd\n",
    "import sklearn as sk\n",
    "import seaborn as sns\n",
    "import matplotlib.pyplot as plt\n",
    "import scipy as sp\n",
    "import rpy2.robjects as ro\n",
    "import xgboost as xgb\n",
    "import shap\n",
    "import warnings\n",
    "import random\n",
    "import pickleshare\n",
    "import pickle\n",
    "from rpy2.robjects import pandas2ri\n",
    "from rpy2.robjects.conversion import localconverter\n",
    "from skopt import BayesSearchCV\n",
    "from sklearn.feature_selection import SelectFromModel"
   ]
  },
  {
   "cell_type": "markdown",
   "id": "d96592cc",
   "metadata": {
    "papermill": {
     "duration": 0.004184,
     "end_time": "2025-05-03T08:42:13.720846",
     "exception": false,
     "start_time": "2025-05-03T08:42:13.716662",
     "status": "completed"
    },
    "tags": []
   },
   "source": [
    "## Define Functions"
   ]
  },
  {
   "cell_type": "code",
   "execution_count": 5,
   "id": "fab23f1c",
   "metadata": {
    "execution": {
     "iopub.execute_input": "2025-05-03T08:42:13.732481Z",
     "iopub.status.busy": "2025-05-03T08:42:13.731059Z",
     "iopub.status.idle": "2025-05-03T08:42:13.737629Z",
     "shell.execute_reply": "2025-05-03T08:42:13.736981Z"
    },
    "papermill": {
     "duration": 0.013169,
     "end_time": "2025-05-03T08:42:13.738153",
     "exception": false,
     "start_time": "2025-05-03T08:42:13.724984",
     "status": "completed"
    },
    "tags": []
   },
   "outputs": [
    {
     "name": "stdout",
     "output_type": "stream",
     "text": [
      "Defining functions!\n"
     ]
    }
   ],
   "source": [
    "print(\"Defining functions!\")"
   ]
  },
  {
   "cell_type": "markdown",
   "id": "3b9d27d0",
   "metadata": {
    "papermill": {
     "duration": 0.004136,
     "end_time": "2025-05-03T08:42:13.746649",
     "exception": false,
     "start_time": "2025-05-03T08:42:13.742513",
     "status": "completed"
    },
    "tags": []
   },
   "source": [
    "### load_datasets_from_r\n",
    "Reads \"ML.Tables\" .Rdata file and converts it to a nested dictionary."
   ]
  },
  {
   "cell_type": "code",
   "execution_count": 6,
   "id": "55be2f8a",
   "metadata": {
    "execution": {
     "iopub.execute_input": "2025-05-03T08:42:13.757104Z",
     "iopub.status.busy": "2025-05-03T08:42:13.756308Z",
     "iopub.status.idle": "2025-05-03T08:42:13.762573Z",
     "shell.execute_reply": "2025-05-03T08:42:13.762093Z"
    },
    "papermill": {
     "duration": 0.012251,
     "end_time": "2025-05-03T08:42:13.763085",
     "exception": false,
     "start_time": "2025-05-03T08:42:13.750834",
     "status": "completed"
    },
    "tags": []
   },
   "outputs": [],
   "source": [
    "def load_datasets_from_r(file_path):\n",
    "\n",
    "    \"\"\" \n",
    "    The function uses rpy2 to load datasets from an RData file.\n",
    "    In particular it expects a list of data.frames\n",
    "    It returns a dictionary of pandas DataFrames.\n",
    "    \"\"\"\n",
    "    \n",
    "    pandas2ri.activate()\n",
    "\n",
    "    ro.r['load'](file_path) # load the .RData\n",
    "\n",
    "    env = ro.globalenv # set the environment\n",
    "\n",
    "    r_list = env[list(env.keys())[0]] # take the list object\n",
    "\n",
    "    list_names = ro.r['names'](r_list) # take the names\n",
    "    list_names = [str(name) for name in list_names]\n",
    "\n",
    "    df_dict = {} # initialize outer dictionary\n",
    "    with (ro.default_converter + ro.pandas2ri.converter).context(): # start the conversion\n",
    "    # the conversion transforms a list of lists of lists of data.frames \n",
    "    # to a list of dictionaries of dictionaries of dictionaries of DataFrame\n",
    "        i = 0\n",
    "        for outer_dict in r_list:\n",
    "            df_dict[list_names[i]] = outer_dict\n",
    "            i += 1\n",
    "            \n",
    "    return(df_dict)"
   ]
  },
  {
   "cell_type": "markdown",
   "id": "873337c8",
   "metadata": {
    "papermill": {
     "duration": 0.004138,
     "end_time": "2025-05-03T08:42:13.771449",
     "exception": false,
     "start_time": "2025-05-03T08:42:13.767311",
     "status": "completed"
    },
    "tags": []
   },
   "source": [
    "### plot_observed_predicted\n",
    "This function plots observed values and predicted values to give a quick visual inspection"
   ]
  },
  {
   "cell_type": "code",
   "execution_count": 7,
   "id": "4edfe734",
   "metadata": {
    "execution": {
     "iopub.execute_input": "2025-05-03T08:42:13.782134Z",
     "iopub.status.busy": "2025-05-03T08:42:13.781198Z",
     "iopub.status.idle": "2025-05-03T08:42:13.786685Z",
     "shell.execute_reply": "2025-05-03T08:42:13.785991Z"
    },
    "papermill": {
     "duration": 0.011618,
     "end_time": "2025-05-03T08:42:13.787254",
     "exception": false,
     "start_time": "2025-05-03T08:42:13.775636",
     "status": "completed"
    },
    "tags": []
   },
   "outputs": [],
   "source": [
    "def plot_observed_predicted(list_of_arrays, list_of_labels, title, x_label, y_label):\n",
    "\n",
    "    \"\"\"\n",
    "    The function takes a list of values and a list of labels as input and plots them.\n",
    "    NOTE: No genomic spatial relationship is preserved in the plot.\n",
    "    \"\"\"\n",
    "    n = len(list_of_arrays)\n",
    "\n",
    "    colors = sns.color_palette(\"dark\", n_colors = n)\n",
    "\n",
    "    for i in range(n):\n",
    "        color = colors[i]\n",
    "        sns.lineplot(list_of_arrays[i], color = color, label = list_of_labels[i])\n",
    "        sns.scatterplot(list_of_arrays[i], color = color)\n",
    "    plt.title(title, fontsize = 30)\n",
    "    plt.xlabel(x_label, fontsize = 16)\n",
    "    plt.ylabel(y_label, fontsize = 16)\n",
    "    plt.legend(fontsize = 16)\n",
    "    plt.xticks([])"
   ]
  },
  {
   "cell_type": "markdown",
   "id": "5b233a02",
   "metadata": {
    "papermill": {
     "duration": 0.004485,
     "end_time": "2025-05-03T08:42:13.796272",
     "exception": false,
     "start_time": "2025-05-03T08:42:13.791787",
     "status": "completed"
    },
    "tags": []
   },
   "source": [
    "### adjusted R^2"
   ]
  },
  {
   "cell_type": "markdown",
   "id": "5fc6d7dc",
   "metadata": {
    "papermill": {
     "duration": 0.021756,
     "end_time": "2025-05-03T08:42:13.822239",
     "exception": false,
     "start_time": "2025-05-03T08:42:13.800483",
     "status": "completed"
    },
    "tags": []
   },
   "source": [
    "This function allows the computation of adjusted R^2, passing it as a custom scikit-scorer"
   ]
  },
  {
   "cell_type": "code",
   "execution_count": 8,
   "id": "bd34265f",
   "metadata": {
    "execution": {
     "iopub.execute_input": "2025-05-03T08:42:13.832974Z",
     "iopub.status.busy": "2025-05-03T08:42:13.832311Z",
     "iopub.status.idle": "2025-05-03T08:42:13.838549Z",
     "shell.execute_reply": "2025-05-03T08:42:13.837884Z"
    },
    "papermill": {
     "duration": 0.012597,
     "end_time": "2025-05-03T08:42:13.839081",
     "exception": false,
     "start_time": "2025-05-03T08:42:13.826484",
     "status": "completed"
    },
    "tags": []
   },
   "outputs": [],
   "source": [
    "def adj_r2_score(y_true, y_pred, **kwargs):\n",
    "    n, p = X.shape\n",
    "    r2 = sk.metrics.r2_score(y_true, y_pred)\n",
    "    adjusted_r2 = 1 - ((1 - r2) * (n - 1)) / (n - p - 1)\n",
    "    return adjusted_r2"
   ]
  },
  {
   "cell_type": "code",
   "execution_count": 9,
   "id": "a0f83ba0",
   "metadata": {
    "execution": {
     "iopub.execute_input": "2025-05-03T08:42:13.848739Z",
     "iopub.status.busy": "2025-05-03T08:42:13.848582Z",
     "iopub.status.idle": "2025-05-03T08:42:13.852443Z",
     "shell.execute_reply": "2025-05-03T08:42:13.851738Z"
    },
    "papermill": {
     "duration": 0.009418,
     "end_time": "2025-05-03T08:42:13.853122",
     "exception": false,
     "start_time": "2025-05-03T08:42:13.843704",
     "status": "completed"
    },
    "tags": []
   },
   "outputs": [],
   "source": [
    "adjusted_r2 = sk.metrics.make_scorer(adj_r2_score, response_method = \"predict\", greater_is_better= True)"
   ]
  },
  {
   "cell_type": "markdown",
   "id": "0db0b667",
   "metadata": {
    "papermill": {
     "duration": 0.00451,
     "end_time": "2025-05-03T08:42:13.862408",
     "exception": false,
     "start_time": "2025-05-03T08:42:13.857898",
     "status": "completed"
    },
    "tags": []
   },
   "source": [
    "### feature_selector\n",
    "This function performs Incremental Feature Selection (IFS) to produce a reduced model <br> with best R2 performance with cross validation.\n",
    "Mean absolute SHAP values are used to select features"
   ]
  },
  {
   "cell_type": "code",
   "execution_count": 10,
   "id": "518f072c",
   "metadata": {
    "execution": {
     "iopub.execute_input": "2025-05-03T08:42:13.871753Z",
     "iopub.status.busy": "2025-05-03T08:42:13.871608Z",
     "iopub.status.idle": "2025-05-03T08:42:13.882910Z",
     "shell.execute_reply": "2025-05-03T08:42:13.882107Z"
    },
    "papermill": {
     "duration": 0.017058,
     "end_time": "2025-05-03T08:42:13.883706",
     "exception": false,
     "start_time": "2025-05-03T08:42:13.866648",
     "status": "completed"
    },
    "tags": []
   },
   "outputs": [],
   "source": [
    "def feature_selector_shap(feature_names, feature_importances, model, \n",
    "                          X_train, X_test, y_train, inner_cv,\n",
    "                          plot = True, verbose = True):\n",
    "\n",
    "    \"\"\"\n",
    "    The function takes as input feature names, feature importances, \n",
    "    a XGBoostRegressor object, the training and test dataset\n",
    "    and returns the reduced training and test datasets.\n",
    "    - plot parameter regulates whether or not to plot the R2 vs number of feature plot\n",
    "    - verbose parameter regulates whether or not to produce a text output\n",
    "    \"\"\"\n",
    "\n",
    "\n",
    "    thresholds = np.sort(feature_importances) # sort the feature importances\n",
    "    num_features_list = [] # initialize list\n",
    "    r2_scores_list = [] # initialize list\n",
    "    \n",
    "    for threshold in thresholds: # iterate over thresholds\n",
    "        \n",
    "        vars_to_keep = np.where(feature_importances >= threshold)[0]\n",
    "        X_train_selected = X_train.iloc[:,vars_to_keep]\n",
    "\n",
    "        r2_scores = sk.model_selection.cross_val_score(estimator = model, \n",
    "                                                       X = X_train_selected, y = y_train, \n",
    "                                                       scoring = adjusted_r2, cv = inner_cv)\n",
    "        mean_r2_score = np.mean(r2_scores)\n",
    "        \n",
    "        num_features_list.append(X_train_selected.shape[1]) # append\n",
    "        r2_scores_list.append(mean_r2_score) # append\n",
    "\n",
    "        if verbose:\n",
    "            print(f'> threshold={threshold}, features={X_train_selected.shape[1]}, adj_R2={mean_r2_score}')\n",
    "        \n",
    "        if len(vars_to_keep) == 1:\n",
    "            break\n",
    "\n",
    "    if plot:\n",
    "        plt.figure(figsize=(8, 6))\n",
    "        plt.plot(num_features_list, r2_scores_list, marker='o')\n",
    "        plt.xlabel('Number of Selected Features')\n",
    "        plt.ylabel('cross validated mean R2')\n",
    "        plt.title('R2 vs. Number of Selected Features')\n",
    "        plt.grid(True)\n",
    "        plt.show()\n",
    "\n",
    "    optimal_threshold_index = np.argmax(r2_scores_list)\n",
    "    optimal_num_features = num_features_list[optimal_threshold_index]\n",
    "    \n",
    "    if (optimal_threshold_index) == 0:\n",
    "        optimal_threshold = 0\n",
    "    else:   \n",
    "        optimal_threshold = thresholds[optimal_threshold_index - 1]\n",
    "\n",
    "    if verbose:\n",
    "        print(f\"Optimal Threshold: {optimal_threshold:.4f}\")\n",
    "        print(f\"Number of Selected Features: {optimal_num_features}\")\n",
    "        print(f\"R2 at Optimal Threshold: {r2_scores_list[optimal_threshold_index]:.4f}\")\n",
    "        print(\"\\n\")\n",
    "        \n",
    "    n = 5\n",
    "    selected_features = feature_names[np.where(feature_importances > optimal_threshold)]\n",
    "    selected_features = [str(name) for name in selected_features]\n",
    "    discarded_features = [str(name) for name in feature_names if str(name) not in selected_features]\n",
    "\n",
    "    if verbose:\n",
    "        print(\"Selected features are: \\n\")\n",
    "        for i in range(0,len(selected_features), n):\n",
    "            print(\"  \".join(selected_features[i:i+n]))\n",
    "        print(\"\\n\")\n",
    "        print(\"Discarded features are: \\n\")\n",
    "        for i in range(0,len(discarded_features), n):\n",
    "            print(\"  \".join(discarded_features[i:i+n]))\n",
    "\n",
    "    X_train_reduced = X_train[selected_features]\n",
    "    X_test_reduced = X_test[selected_features]\n",
    "    \n",
    "    return(X_train_reduced, X_test_reduced, selected_features)    "
   ]
  },
  {
   "cell_type": "markdown",
   "id": "7ad2fa67",
   "metadata": {
    "papermill": {
     "duration": 0.006048,
     "end_time": "2025-05-03T08:42:13.896007",
     "exception": false,
     "start_time": "2025-05-03T08:42:13.889959",
     "status": "completed"
    },
    "tags": []
   },
   "source": [
    "### nested CV"
   ]
  },
  {
   "cell_type": "markdown",
   "id": "2313aca5",
   "metadata": {
    "papermill": {
     "duration": 0.006003,
     "end_time": "2025-05-03T08:42:13.908014",
     "exception": false,
     "start_time": "2025-05-03T08:42:13.902011",
     "status": "completed"
    },
    "tags": []
   },
   "source": [
    "This function performs nested cross validation, optimizing the model at each step in order to properly estimate the model's error"
   ]
  },
  {
   "cell_type": "code",
   "execution_count": 11,
   "id": "4a4237a7",
   "metadata": {
    "execution": {
     "iopub.execute_input": "2025-05-03T08:42:13.924865Z",
     "iopub.status.busy": "2025-05-03T08:42:13.924115Z",
     "iopub.status.idle": "2025-05-03T08:42:13.933816Z",
     "shell.execute_reply": "2025-05-03T08:42:13.933098Z"
    },
    "papermill": {
     "duration": 0.020448,
     "end_time": "2025-05-03T08:42:13.934616",
     "exception": false,
     "start_time": "2025-05-03T08:42:13.914168",
     "status": "completed"
    },
    "tags": []
   },
   "outputs": [],
   "source": [
    "def nested_CV(outer_cv, inner_cv,\n",
    "              X_train, y_train, \n",
    "              model, search_space, \n",
    "              n_jobs, n_iter_bsearch, verbose):\n",
    "    \n",
    "    \"\"\"\n",
    "    The function performs nested cross validation to estimate model's error rate\n",
    "    It take the cv number, the training dataset, the target variable, the model or a BayesSearchCV\n",
    "    and a search space to perform hyperparameter tuning\n",
    "    \"\"\"\n",
    "\n",
    "    kf = sk.model_selection.KFold(n_splits = outer_cv, \n",
    "                                  shuffle = True, \n",
    "                                  random_state = kfold_random_state)\n",
    "    \n",
    "    mse_array = np.zeros(outer_cv)\n",
    "    r2_array = np.zeros(outer_cv)\n",
    "    predictions_array = np.zeros(len(X_train))\n",
    "    \n",
    "    i = 0\n",
    "    for train_index, val_index in kf.split(X_train):\n",
    "\n",
    "        if verbose:\n",
    "            print(f\"Fold #{i + 1}\")\n",
    "        \n",
    "        if verbose:\n",
    "            print(\"STEP 1 (Splitting)\")\n",
    "            \n",
    "        X_train_cv, X_val = X_train.iloc[train_index], X_train.iloc[val_index]\n",
    "        y_train_cv, y_val = y_train.iloc[train_index], y_train.iloc[val_index]\n",
    "        \n",
    "        if verbose:\n",
    "            print(\"STEP 2 (Tuning)\")\n",
    "            \n",
    "        opti = BayesSearchCV(\n",
    "            estimator = model,\n",
    "            search_spaces = search_space,\n",
    "            n_iter = n_iter_bsearch,\n",
    "            cv = inner_cv,\n",
    "            random_state = hypertune_random_state_bsearch,\n",
    "            refit = True,\n",
    "            n_jobs = n_jobs,\n",
    "            verbose = False\n",
    "        )\n",
    "        \n",
    "        opti.fit(X_train_cv, y_train_cv)\n",
    "        best_model = opti.best_estimator_\n",
    "    \n",
    "        if verbose:\n",
    "            print(\"STEP 3 (Prediction)\")\n",
    "            \n",
    "        cv_predictions = best_model.predict(X_val)\n",
    "        cv_mse = sk.metrics.mean_squared_error(y_val, cv_predictions)\n",
    "        cv_r2 = sk.metrics.r2_score(y_val, cv_predictions)\n",
    "        \n",
    "        mse_array[i] = cv_mse\n",
    "        r2_array[i] = cv_r2\n",
    "        predictions_array[val_index] = cv_predictions\n",
    "        \n",
    "        i += 1\n",
    "\n",
    "    return(mse_array, r2_array, predictions_array)"
   ]
  },
  {
   "cell_type": "markdown",
   "id": "0af1fd98",
   "metadata": {
    "papermill": {
     "duration": 0.004273,
     "end_time": "2025-05-03T08:42:13.943745",
     "exception": false,
     "start_time": "2025-05-03T08:42:13.939472",
     "status": "completed"
    },
    "tags": []
   },
   "source": [
    "### nested CV la vendetta"
   ]
  },
  {
   "cell_type": "code",
   "execution_count": 12,
   "id": "8eb72e2a",
   "metadata": {
    "execution": {
     "iopub.execute_input": "2025-05-03T08:42:13.958552Z",
     "iopub.status.busy": "2025-05-03T08:42:13.957510Z",
     "iopub.status.idle": "2025-05-03T08:42:13.968915Z",
     "shell.execute_reply": "2025-05-03T08:42:13.968065Z"
    },
    "papermill": {
     "duration": 0.020066,
     "end_time": "2025-05-03T08:42:13.969704",
     "exception": false,
     "start_time": "2025-05-03T08:42:13.949638",
     "status": "completed"
    },
    "tags": []
   },
   "outputs": [],
   "source": [
    "def nested_CV_revenge(outer_cv, inner_cv, \n",
    "                      X_train, y_train, \n",
    "                      model, search_space, \n",
    "                      n_jobs, n_iter_bsearch, verbose):\n",
    "    \n",
    "    \"\"\"\n",
    "    The function performs nested cross validation to estimate model's error rate\n",
    "    It take the cv number, the training dataset, the target variable, the model or a BayesSearchCV\n",
    "    and a search space to perform hyperparameter tuning\n",
    "    \"\"\"\n",
    "\n",
    "    kf = sk.model_selection.KFold(n_splits = outer_cv, \n",
    "                                  shuffle = True, \n",
    "                                  random_state = kfold_random_state)\n",
    "\n",
    "    hyperparam_list = []\n",
    "    selected_features_list = []\n",
    "    mse_array = np.zeros(outer_cv)\n",
    "    r2_array = np.zeros(outer_cv)\n",
    "    predictions_array = np.zeros(len(X_train))\n",
    "    \n",
    "    i = 0\n",
    "    for train_index, val_index in kf.split(X_train):\n",
    "\n",
    "        if verbose:\n",
    "            print(f\"Fold #{i + 1}\")\n",
    "            \n",
    "        if verbose:\n",
    "            print(\"STEP 1 (Splitting)\")\n",
    "            \n",
    "        X_train_cv, X_val = X_train.iloc[train_index], X_train.iloc[val_index]\n",
    "        y_train_cv, y_val = y_train.iloc[train_index], y_train.iloc[val_index]\n",
    "        \n",
    "        if verbose:\n",
    "            print(\"STEP 2 (Tuning)\")\n",
    "\n",
    "        if verbose:\n",
    "            print(\"STEP 2.1 (HyperParameter Tuning Part 1)\")\n",
    "        \n",
    "        opti = BayesSearchCV(\n",
    "            estimator = model,\n",
    "            search_spaces = search_space,\n",
    "            n_iter = n_iter_bsearch,\n",
    "            cv = inner_cv,\n",
    "            random_state = hypertune_random_state_bsearch,\n",
    "            refit = True,\n",
    "            n_jobs = n_jobs,\n",
    "            verbose = 0\n",
    "        )\n",
    "        \n",
    "        opti.fit(X_train_cv, y_train_cv)\n",
    "        best_model = opti.best_estimator_\n",
    "\n",
    "        if verbose:\n",
    "            print(\"STEP 2.2 (SHAP)\")\n",
    "        \n",
    "        explainer = shap.TreeExplainer(best_model)\n",
    "\n",
    "        feature_names = best_model.feature_names_in_\n",
    "        feature_importances_shap = np.mean(np.abs(explainer.shap_values(X_train_cv)), axis = 0)\n",
    "    \n",
    "        if verbose:\n",
    "            print(\"STEP 2.3 (Feature selection)\")\n",
    "        \n",
    "        X_train_cv_reduced, X_val_cv_reduced, selected_features = feature_selector_shap(feature_names, feature_importances_shap, \n",
    "                                                                                        best_model, \n",
    "                                                                                        X_train_cv, X_val, y_train_cv, \n",
    "                                                                                        inner_cv,\n",
    "                                                                                        plot = False, verbose = False)\n",
    "\n",
    "        if verbose:\n",
    "            print(\"STEP 2.4 (HyperParameter Tuning Part 2)\")\n",
    "        \n",
    "        opti_fs = BayesSearchCV(\n",
    "            estimator = best_model, \n",
    "            search_spaces = search_space, \n",
    "            n_iter = n_iter_bsearch, \n",
    "            cv = inner_cv,\n",
    "            random_state = hypertune_random_state_bsearch,\n",
    "            refit = True, \n",
    "            n_jobs = n_jobs,\n",
    "            verbose = 0\n",
    "        )\n",
    "            \n",
    "        opti_fs.fit(X_train_cv_reduced, y_train_cv)\n",
    "        best_model_fs = opti_fs.best_estimator_\n",
    "        best_params_fs = opti_fs.best_params_\n",
    "        \n",
    "        if verbose:\n",
    "            print(\"STEP 3 (Prediction)\")\n",
    "            \n",
    "        cv_predictions = best_model_fs.predict(X_val_cv_reduced)\n",
    "        cv_mse = sk.metrics.mean_squared_error(y_val, cv_predictions)\n",
    "        cv_r2 = sk.metrics.r2_score(y_val, cv_predictions)\n",
    "\n",
    "        hyperparam_list.append(best_params_fs)\n",
    "        selected_features_list.append(selected_features)\n",
    "        mse_array[i] = cv_mse\n",
    "        r2_array[i] = cv_r2\n",
    "        predictions_array[val_index] = cv_predictions\n",
    "       \n",
    "        i += 1\n",
    "\n",
    "    return(hyperparam_list, selected_features_list, \n",
    "           mse_array, r2_array, predictions_array)"
   ]
  },
  {
   "cell_type": "markdown",
   "id": "2e68da76",
   "metadata": {
    "papermill": {
     "duration": 0.006071,
     "end_time": "2025-05-03T08:42:13.981935",
     "exception": false,
     "start_time": "2025-05-03T08:42:13.975864",
     "status": "completed"
    },
    "tags": []
   },
   "source": [
    "## Load Data"
   ]
  },
  {
   "cell_type": "code",
   "execution_count": 13,
   "id": "f8b6a5d6",
   "metadata": {
    "execution": {
     "iopub.execute_input": "2025-05-03T08:42:13.996314Z",
     "iopub.status.busy": "2025-05-03T08:42:13.995551Z",
     "iopub.status.idle": "2025-05-03T08:42:14.000879Z",
     "shell.execute_reply": "2025-05-03T08:42:14.000166Z"
    },
    "papermill": {
     "duration": 0.013683,
     "end_time": "2025-05-03T08:42:14.001624",
     "exception": false,
     "start_time": "2025-05-03T08:42:13.987941",
     "status": "completed"
    },
    "tags": []
   },
   "outputs": [
    {
     "name": "stdout",
     "output_type": "stream",
     "text": [
      "Loading Data!\n"
     ]
    }
   ],
   "source": [
    "print(\"Loading Data!\")"
   ]
  },
  {
   "cell_type": "markdown",
   "id": "84bc22a6",
   "metadata": {
    "papermill": {
     "duration": 0.0062,
     "end_time": "2025-05-03T08:42:14.014058",
     "exception": false,
     "start_time": "2025-05-03T08:42:14.007858",
     "status": "completed"
    },
    "tags": []
   },
   "source": [
    "Call the load_datasets_from_r function to load all data"
   ]
  },
  {
   "cell_type": "code",
   "execution_count": 14,
   "id": "0face8d5",
   "metadata": {
    "execution": {
     "iopub.execute_input": "2025-05-03T08:42:14.027881Z",
     "iopub.status.busy": "2025-05-03T08:42:14.027269Z",
     "iopub.status.idle": "2025-05-03T08:42:14.813505Z",
     "shell.execute_reply": "2025-05-03T08:42:14.811867Z"
    },
    "papermill": {
     "duration": 0.795065,
     "end_time": "2025-05-03T08:42:14.815310",
     "exception": false,
     "start_time": "2025-05-03T08:42:14.020245",
     "status": "completed"
    },
    "tags": []
   },
   "outputs": [],
   "source": [
    "output_dict = load_datasets_from_r(path_to_datasets)\n",
    "working_df = output_dict[mode]"
   ]
  },
  {
   "cell_type": "markdown",
   "id": "1f19f0b7",
   "metadata": {
    "papermill": {
     "duration": 0.004464,
     "end_time": "2025-05-03T08:42:14.825013",
     "exception": false,
     "start_time": "2025-05-03T08:42:14.820549",
     "status": "completed"
    },
    "tags": []
   },
   "source": [
    "## Prepare Data"
   ]
  },
  {
   "cell_type": "code",
   "execution_count": 15,
   "id": "461e9fde",
   "metadata": {
    "execution": {
     "iopub.execute_input": "2025-05-03T08:42:14.836432Z",
     "iopub.status.busy": "2025-05-03T08:42:14.835634Z",
     "iopub.status.idle": "2025-05-03T08:42:14.840546Z",
     "shell.execute_reply": "2025-05-03T08:42:14.840100Z"
    },
    "papermill": {
     "duration": 0.011547,
     "end_time": "2025-05-03T08:42:14.841081",
     "exception": false,
     "start_time": "2025-05-03T08:42:14.829534",
     "status": "completed"
    },
    "tags": []
   },
   "outputs": [
    {
     "name": "stdout",
     "output_type": "stream",
     "text": [
      "Preparing data\n"
     ]
    }
   ],
   "source": [
    "print(\"Preparing data\")"
   ]
  },
  {
   "cell_type": "code",
   "execution_count": 16,
   "id": "ebfa412d",
   "metadata": {
    "execution": {
     "iopub.execute_input": "2025-05-03T08:42:14.850603Z",
     "iopub.status.busy": "2025-05-03T08:42:14.850434Z",
     "iopub.status.idle": "2025-05-03T08:42:14.863967Z",
     "shell.execute_reply": "2025-05-03T08:42:14.863302Z"
    },
    "papermill": {
     "duration": 0.019706,
     "end_time": "2025-05-03T08:42:14.865280",
     "exception": false,
     "start_time": "2025-05-03T08:42:14.845574",
     "status": "completed"
    },
    "tags": []
   },
   "outputs": [],
   "source": [
    "bin_ids = working_df[[\"bin\"]]\n",
    "working_df = working_df.drop(cols_to_drop, axis= 1)"
   ]
  },
  {
   "cell_type": "code",
   "execution_count": 17,
   "id": "da60070c",
   "metadata": {
    "execution": {
     "iopub.execute_input": "2025-05-03T08:42:14.877591Z",
     "iopub.status.busy": "2025-05-03T08:42:14.876755Z",
     "iopub.status.idle": "2025-05-03T08:42:14.891257Z",
     "shell.execute_reply": "2025-05-03T08:42:14.890566Z"
    },
    "papermill": {
     "duration": 0.021655,
     "end_time": "2025-05-03T08:42:14.892530",
     "exception": false,
     "start_time": "2025-05-03T08:42:14.870875",
     "status": "completed"
    },
    "tags": []
   },
   "outputs": [],
   "source": [
    "X = working_df.loc[:, working_df.columns != target_variable]\n",
    "y = working_df.loc[:, target_variable]"
   ]
  },
  {
   "cell_type": "code",
   "execution_count": 18,
   "id": "bede366a",
   "metadata": {
    "execution": {
     "iopub.execute_input": "2025-05-03T08:42:14.903008Z",
     "iopub.status.busy": "2025-05-03T08:42:14.902844Z",
     "iopub.status.idle": "2025-05-03T08:42:14.907161Z",
     "shell.execute_reply": "2025-05-03T08:42:14.906584Z"
    },
    "papermill": {
     "duration": 0.009833,
     "end_time": "2025-05-03T08:42:14.907719",
     "exception": false,
     "start_time": "2025-05-03T08:42:14.897886",
     "status": "completed"
    },
    "tags": []
   },
   "outputs": [
    {
     "name": "stdout",
     "output_type": "stream",
     "text": [
      "Target Variable outside training set!\n"
     ]
    }
   ],
   "source": [
    "if len([col for col in cols_to_check if col in X.columns]) > 0:\n",
    "    raise Exception(\"Target Variable and derivated in the training set!\")\n",
    "else:\n",
    "    print(\"Target Variable outside training set!\")"
   ]
  },
  {
   "cell_type": "markdown",
   "id": "621e7052",
   "metadata": {
    "papermill": {
     "duration": 0.004434,
     "end_time": "2025-05-03T08:42:14.916696",
     "exception": false,
     "start_time": "2025-05-03T08:42:14.912262",
     "status": "completed"
    },
    "tags": []
   },
   "source": [
    "Split train and test: \n",
    "- In this case we do 70% training that will be processed by BayesSearchCV with cv = 5\n",
    "- The remaining 30% will be used for testing"
   ]
  },
  {
   "cell_type": "code",
   "execution_count": 19,
   "id": "b7004298",
   "metadata": {
    "execution": {
     "iopub.execute_input": "2025-05-03T08:42:14.931274Z",
     "iopub.status.busy": "2025-05-03T08:42:14.930062Z",
     "iopub.status.idle": "2025-05-03T08:42:14.949171Z",
     "shell.execute_reply": "2025-05-03T08:42:14.948451Z"
    },
    "papermill": {
     "duration": 0.029288,
     "end_time": "2025-05-03T08:42:14.950455",
     "exception": false,
     "start_time": "2025-05-03T08:42:14.921167",
     "status": "completed"
    },
    "tags": []
   },
   "outputs": [],
   "source": [
    "X_train, X_test, y_train, y_test, bin_train, bin_test = sk.model_selection.train_test_split(X, y, bin_ids, \n",
    "                                                                                            test_size = 0.3, \n",
    "                                                                                            random_state = split_random_state)"
   ]
  },
  {
   "cell_type": "markdown",
   "id": "cabf7969",
   "metadata": {
    "papermill": {
     "duration": 0.004485,
     "end_time": "2025-05-03T08:42:14.962514",
     "exception": false,
     "start_time": "2025-05-03T08:42:14.958029",
     "status": "completed"
    },
    "tags": []
   },
   "source": [
    "## Prepare the Regressors and the Search Space"
   ]
  },
  {
   "cell_type": "code",
   "execution_count": 20,
   "id": "a5614812",
   "metadata": {
    "execution": {
     "iopub.execute_input": "2025-05-03T08:42:14.974254Z",
     "iopub.status.busy": "2025-05-03T08:42:14.973045Z",
     "iopub.status.idle": "2025-05-03T08:42:14.979571Z",
     "shell.execute_reply": "2025-05-03T08:42:14.978875Z"
    },
    "papermill": {
     "duration": 0.013117,
     "end_time": "2025-05-03T08:42:14.980145",
     "exception": false,
     "start_time": "2025-05-03T08:42:14.967028",
     "status": "completed"
    },
    "tags": []
   },
   "outputs": [
    {
     "name": "stdout",
     "output_type": "stream",
     "text": [
      "Preparing Regressor and Search Space\n"
     ]
    }
   ],
   "source": [
    "print(\"Preparing Regressor and Search Space\")"
   ]
  },
  {
   "cell_type": "markdown",
   "id": "7c8849b0",
   "metadata": {
    "papermill": {
     "duration": 0.004489,
     "end_time": "2025-05-03T08:42:14.989274",
     "exception": false,
     "start_time": "2025-05-03T08:42:14.984785",
     "status": "completed"
    },
    "tags": []
   },
   "source": [
    "Remember to set the seed and random_state parameters in order to ensure reproducibility <br>\n",
    "NOTA: As it appears from the documentation, seed parameter is now deprecated, so set both seed and random_state to be sure\n",
    "\n",
    "Set up also the search_space for BayesSearchCV: They are large intervals, but BayesSearchCV is more efficient than regular GridSearchCV"
   ]
  },
  {
   "cell_type": "code",
   "execution_count": 21,
   "id": "263809a0",
   "metadata": {
    "execution": {
     "iopub.execute_input": "2025-05-03T08:42:15.000816Z",
     "iopub.status.busy": "2025-05-03T08:42:14.999791Z",
     "iopub.status.idle": "2025-05-03T08:42:15.005280Z",
     "shell.execute_reply": "2025-05-03T08:42:15.004804Z"
    },
    "papermill": {
     "duration": 0.012072,
     "end_time": "2025-05-03T08:42:15.005818",
     "exception": false,
     "start_time": "2025-05-03T08:42:14.993746",
     "status": "completed"
    },
    "tags": []
   },
   "outputs": [],
   "source": [
    "regressor = xgb.XGBRegressor(n_jobs = n_jobs_boost,\n",
    "                             seed = regressor_seed,\n",
    "                             tree_method = \"hist\",\n",
    "                             device = \"cpu\",\n",
    "                             random_state = regressor_random_state,)\n",
    "\n",
    "search_space_bayes = {\n",
    "    'learning_rate': (0.01, 1.0, 'log-uniform'),\n",
    "    'min_child_weight': (0, 10),\n",
    "    'max_depth': (0, 50),\n",
    "    'max_delta_step': (0, 20),\n",
    "    'subsample': (0.01, 1.0, 'uniform'),\n",
    "    'colsample_bytree': (0.01, 1.0, 'uniform'),\n",
    "    'colsample_bylevel': (0.01, 1.0, 'uniform'),\n",
    "    'reg_lambda': (1e-9, 1000, 'log-uniform'),\n",
    "    'reg_alpha': (1e-9, 1.0, 'log-uniform'),\n",
    "    'gamma': (1e-9, 0.5, 'log-uniform'),\n",
    "    'n_estimators': (50, 100),\n",
    "    'scale_pos_weight': (1e-6, 500, 'log-uniform')\n",
    "}"
   ]
  },
  {
   "cell_type": "markdown",
   "id": "781e7673",
   "metadata": {
    "papermill": {
     "duration": 0.004522,
     "end_time": "2025-05-03T08:42:15.014969",
     "exception": false,
     "start_time": "2025-05-03T08:42:15.010447",
     "status": "completed"
    },
    "tags": []
   },
   "source": [
    "### NESTED CV PIPELINE"
   ]
  },
  {
   "cell_type": "code",
   "execution_count": 22,
   "id": "792942c0",
   "metadata": {
    "execution": {
     "iopub.execute_input": "2025-05-03T08:42:15.026768Z",
     "iopub.status.busy": "2025-05-03T08:42:15.025614Z",
     "iopub.status.idle": "2025-05-03T08:42:15.031507Z",
     "shell.execute_reply": "2025-05-03T08:42:15.030889Z"
    },
    "papermill": {
     "duration": 0.012598,
     "end_time": "2025-05-03T08:42:15.032152",
     "exception": false,
     "start_time": "2025-05-03T08:42:15.019554",
     "status": "completed"
    },
    "tags": []
   },
   "outputs": [
    {
     "name": "stdout",
     "output_type": "stream",
     "text": [
      "Running Nested CV\n"
     ]
    }
   ],
   "source": [
    "print(\"Running Nested CV\")"
   ]
  },
  {
   "cell_type": "code",
   "execution_count": 23,
   "id": "0dfbc50a",
   "metadata": {
    "execution": {
     "iopub.execute_input": "2025-05-03T08:42:15.042170Z",
     "iopub.status.busy": "2025-05-03T08:42:15.042015Z",
     "iopub.status.idle": "2025-05-03T13:30:31.919143Z",
     "shell.execute_reply": "2025-05-03T13:30:31.918524Z"
    },
    "papermill": {
     "duration": 17296.123192,
     "end_time": "2025-05-03T13:30:31.160186",
     "exception": false,
     "start_time": "2025-05-03T08:42:15.036994",
     "status": "completed"
    },
    "tags": []
   },
   "outputs": [
    {
     "name": "stdout",
     "output_type": "stream",
     "text": [
      "Fold #1\n",
      "STEP 1 (Splitting)\n",
      "STEP 2 (Tuning)\n",
      "STEP 2.1 (HyperParameter Tuning Part 1)\n"
     ]
    },
    {
     "name": "stdout",
     "output_type": "stream",
     "text": [
      "STEP 2.2 (SHAP)\n",
      "STEP 2.3 (Feature selection)\n"
     ]
    },
    {
     "ename": "KeyboardInterrupt",
     "evalue": "",
     "output_type": "error",
     "traceback": [
      "\u001b[0;31m---------------------------------------------------------------------------\u001b[0m",
      "\u001b[0;31mKeyboardInterrupt\u001b[0m                         Traceback (most recent call last)",
      "Cell \u001b[0;32mIn[23], line 1\u001b[0m\n\u001b[0;32m----> 1\u001b[0m results \u001b[38;5;241m=\u001b[39m \u001b[43mnested_CV_revenge\u001b[49m\u001b[43m(\u001b[49m\u001b[43mouter_cv\u001b[49m\u001b[43m \u001b[49m\u001b[38;5;241;43m=\u001b[39;49m\u001b[43m \u001b[49m\u001b[43mouter_cv\u001b[49m\u001b[43m,\u001b[49m\n\u001b[1;32m      2\u001b[0m \u001b[43m            \u001b[49m\u001b[43minner_cv\u001b[49m\u001b[43m \u001b[49m\u001b[38;5;241;43m=\u001b[39;49m\u001b[43m \u001b[49m\u001b[43minner_cv\u001b[49m\u001b[43m,\u001b[49m\n\u001b[1;32m      3\u001b[0m \u001b[43m            \u001b[49m\u001b[43mX_train\u001b[49m\u001b[43m \u001b[49m\u001b[38;5;241;43m=\u001b[39;49m\u001b[43m \u001b[49m\u001b[43mX_train\u001b[49m\u001b[43m,\u001b[49m\u001b[43m \u001b[49m\n\u001b[1;32m      4\u001b[0m \u001b[43m            \u001b[49m\u001b[43my_train\u001b[49m\u001b[43m \u001b[49m\u001b[38;5;241;43m=\u001b[39;49m\u001b[43m \u001b[49m\u001b[43my_train\u001b[49m\u001b[43m,\u001b[49m\u001b[43m \u001b[49m\n\u001b[1;32m      5\u001b[0m \u001b[43m            \u001b[49m\u001b[43mmodel\u001b[49m\u001b[43m \u001b[49m\u001b[38;5;241;43m=\u001b[39;49m\u001b[43m \u001b[49m\u001b[43mregressor\u001b[49m\u001b[43m,\u001b[49m\u001b[43m \u001b[49m\n\u001b[1;32m      6\u001b[0m \u001b[43m            \u001b[49m\u001b[43msearch_space\u001b[49m\u001b[43m \u001b[49m\u001b[38;5;241;43m=\u001b[39;49m\u001b[43m \u001b[49m\u001b[43msearch_space_bayes\u001b[49m\u001b[43m,\u001b[49m\n\u001b[1;32m      7\u001b[0m \u001b[43m            \u001b[49m\u001b[43mn_jobs\u001b[49m\u001b[38;5;241;43m=\u001b[39;49m\u001b[43m \u001b[49m\u001b[43mn_jobs_sk\u001b[49m\u001b[43m,\u001b[49m\u001b[43m \u001b[49m\u001b[43mn_iter_bsearch\u001b[49m\u001b[43m \u001b[49m\u001b[38;5;241;43m=\u001b[39;49m\u001b[43m \u001b[49m\u001b[43mn_iter_bsearch\u001b[49m\u001b[43m,\u001b[49m\n\u001b[1;32m      8\u001b[0m \u001b[43m            \u001b[49m\u001b[43mverbose\u001b[49m\u001b[43m \u001b[49m\u001b[38;5;241;43m=\u001b[39;49m\u001b[43m \u001b[49m\u001b[38;5;28;43;01mTrue\u001b[39;49;00m\n\u001b[1;32m      9\u001b[0m \u001b[43m           \u001b[49m\u001b[43m)\u001b[49m\n\u001b[1;32m     11\u001b[0m (\n\u001b[1;32m     12\u001b[0m     hyperparam_list, \n\u001b[1;32m     13\u001b[0m     selected_features_list, \n\u001b[0;32m   (...)\u001b[0m\n\u001b[1;32m     16\u001b[0m     predictions_array \n\u001b[1;32m     17\u001b[0m ) \u001b[38;5;241m=\u001b[39m results\n",
      "Cell \u001b[0;32mIn[12], line 65\u001b[0m, in \u001b[0;36mnested_CV_revenge\u001b[0;34m(outer_cv, inner_cv, X_train, y_train, model, search_space, n_jobs, n_iter_bsearch, verbose)\u001b[0m\n\u001b[1;32m     62\u001b[0m \u001b[38;5;28;01mif\u001b[39;00m verbose:\n\u001b[1;32m     63\u001b[0m     \u001b[38;5;28mprint\u001b[39m(\u001b[38;5;124m\"\u001b[39m\u001b[38;5;124mSTEP 2.3 (Feature selection)\u001b[39m\u001b[38;5;124m\"\u001b[39m)\n\u001b[0;32m---> 65\u001b[0m X_train_cv_reduced, X_val_cv_reduced, selected_features \u001b[38;5;241m=\u001b[39m \u001b[43mfeature_selector_shap\u001b[49m\u001b[43m(\u001b[49m\u001b[43mfeature_names\u001b[49m\u001b[43m,\u001b[49m\u001b[43m \u001b[49m\u001b[43mfeature_importances_shap\u001b[49m\u001b[43m,\u001b[49m\u001b[43m \u001b[49m\n\u001b[1;32m     66\u001b[0m \u001b[43m                                                                                \u001b[49m\u001b[43mbest_model\u001b[49m\u001b[43m,\u001b[49m\u001b[43m \u001b[49m\n\u001b[1;32m     67\u001b[0m \u001b[43m                                                                                \u001b[49m\u001b[43mX_train_cv\u001b[49m\u001b[43m,\u001b[49m\u001b[43m \u001b[49m\u001b[43mX_val\u001b[49m\u001b[43m,\u001b[49m\u001b[43m \u001b[49m\u001b[43my_train_cv\u001b[49m\u001b[43m,\u001b[49m\u001b[43m \u001b[49m\n\u001b[1;32m     68\u001b[0m \u001b[43m                                                                                \u001b[49m\u001b[43minner_cv\u001b[49m\u001b[43m,\u001b[49m\n\u001b[1;32m     69\u001b[0m \u001b[43m                                                                                \u001b[49m\u001b[43mplot\u001b[49m\u001b[43m \u001b[49m\u001b[38;5;241;43m=\u001b[39;49m\u001b[43m \u001b[49m\u001b[38;5;28;43;01mFalse\u001b[39;49;00m\u001b[43m,\u001b[49m\u001b[43m \u001b[49m\u001b[43mverbose\u001b[49m\u001b[43m \u001b[49m\u001b[38;5;241;43m=\u001b[39;49m\u001b[43m \u001b[49m\u001b[38;5;28;43;01mFalse\u001b[39;49;00m\u001b[43m)\u001b[49m\n\u001b[1;32m     71\u001b[0m \u001b[38;5;28;01mif\u001b[39;00m verbose:\n\u001b[1;32m     72\u001b[0m     \u001b[38;5;28mprint\u001b[39m(\u001b[38;5;124m\"\u001b[39m\u001b[38;5;124mSTEP 2.4 (HyperParameter Tuning Part 2)\u001b[39m\u001b[38;5;124m\"\u001b[39m)\n",
      "Cell \u001b[0;32mIn[10], line 23\u001b[0m, in \u001b[0;36mfeature_selector_shap\u001b[0;34m(feature_names, feature_importances, model, X_train, X_test, y_train, inner_cv, plot, verbose)\u001b[0m\n\u001b[1;32m     20\u001b[0m vars_to_keep \u001b[38;5;241m=\u001b[39m np\u001b[38;5;241m.\u001b[39mwhere(feature_importances \u001b[38;5;241m>\u001b[39m\u001b[38;5;241m=\u001b[39m threshold)[\u001b[38;5;241m0\u001b[39m]\n\u001b[1;32m     21\u001b[0m X_train_selected \u001b[38;5;241m=\u001b[39m X_train\u001b[38;5;241m.\u001b[39miloc[:,vars_to_keep]\n\u001b[0;32m---> 23\u001b[0m r2_scores \u001b[38;5;241m=\u001b[39m \u001b[43msk\u001b[49m\u001b[38;5;241;43m.\u001b[39;49m\u001b[43mmodel_selection\u001b[49m\u001b[38;5;241;43m.\u001b[39;49m\u001b[43mcross_val_score\u001b[49m\u001b[43m(\u001b[49m\u001b[43mestimator\u001b[49m\u001b[43m \u001b[49m\u001b[38;5;241;43m=\u001b[39;49m\u001b[43m \u001b[49m\u001b[43mmodel\u001b[49m\u001b[43m,\u001b[49m\u001b[43m \u001b[49m\n\u001b[1;32m     24\u001b[0m \u001b[43m                                               \u001b[49m\u001b[43mX\u001b[49m\u001b[43m \u001b[49m\u001b[38;5;241;43m=\u001b[39;49m\u001b[43m \u001b[49m\u001b[43mX_train_selected\u001b[49m\u001b[43m,\u001b[49m\u001b[43m \u001b[49m\u001b[43my\u001b[49m\u001b[43m \u001b[49m\u001b[38;5;241;43m=\u001b[39;49m\u001b[43m \u001b[49m\u001b[43my_train\u001b[49m\u001b[43m,\u001b[49m\u001b[43m \u001b[49m\n\u001b[1;32m     25\u001b[0m \u001b[43m                                               \u001b[49m\u001b[43mscoring\u001b[49m\u001b[43m \u001b[49m\u001b[38;5;241;43m=\u001b[39;49m\u001b[43m \u001b[49m\u001b[43madjusted_r2\u001b[49m\u001b[43m,\u001b[49m\u001b[43m \u001b[49m\u001b[43mcv\u001b[49m\u001b[43m \u001b[49m\u001b[38;5;241;43m=\u001b[39;49m\u001b[43m \u001b[49m\u001b[43minner_cv\u001b[49m\u001b[43m)\u001b[49m\n\u001b[1;32m     26\u001b[0m mean_r2_score \u001b[38;5;241m=\u001b[39m np\u001b[38;5;241m.\u001b[39mmean(r2_scores)\n\u001b[1;32m     28\u001b[0m num_features_list\u001b[38;5;241m.\u001b[39mappend(X_train_selected\u001b[38;5;241m.\u001b[39mshape[\u001b[38;5;241m1\u001b[39m]) \u001b[38;5;66;03m# append\u001b[39;00m\n",
      "File \u001b[0;32m~/.local/lib/python3.10/site-packages/sklearn/utils/_param_validation.py:216\u001b[0m, in \u001b[0;36mvalidate_params.<locals>.decorator.<locals>.wrapper\u001b[0;34m(*args, **kwargs)\u001b[0m\n\u001b[1;32m    210\u001b[0m \u001b[38;5;28;01mtry\u001b[39;00m:\n\u001b[1;32m    211\u001b[0m     \u001b[38;5;28;01mwith\u001b[39;00m config_context(\n\u001b[1;32m    212\u001b[0m         skip_parameter_validation\u001b[38;5;241m=\u001b[39m(\n\u001b[1;32m    213\u001b[0m             prefer_skip_nested_validation \u001b[38;5;129;01mor\u001b[39;00m global_skip_validation\n\u001b[1;32m    214\u001b[0m         )\n\u001b[1;32m    215\u001b[0m     ):\n\u001b[0;32m--> 216\u001b[0m         \u001b[38;5;28;01mreturn\u001b[39;00m \u001b[43mfunc\u001b[49m\u001b[43m(\u001b[49m\u001b[38;5;241;43m*\u001b[39;49m\u001b[43margs\u001b[49m\u001b[43m,\u001b[49m\u001b[43m \u001b[49m\u001b[38;5;241;43m*\u001b[39;49m\u001b[38;5;241;43m*\u001b[39;49m\u001b[43mkwargs\u001b[49m\u001b[43m)\u001b[49m\n\u001b[1;32m    217\u001b[0m \u001b[38;5;28;01mexcept\u001b[39;00m InvalidParameterError \u001b[38;5;28;01mas\u001b[39;00m e:\n\u001b[1;32m    218\u001b[0m     \u001b[38;5;66;03m# When the function is just a wrapper around an estimator, we allow\u001b[39;00m\n\u001b[1;32m    219\u001b[0m     \u001b[38;5;66;03m# the function to delegate validation to the estimator, but we replace\u001b[39;00m\n\u001b[1;32m    220\u001b[0m     \u001b[38;5;66;03m# the name of the estimator by the name of the function in the error\u001b[39;00m\n\u001b[1;32m    221\u001b[0m     \u001b[38;5;66;03m# message to avoid confusion.\u001b[39;00m\n\u001b[1;32m    222\u001b[0m     msg \u001b[38;5;241m=\u001b[39m re\u001b[38;5;241m.\u001b[39msub(\n\u001b[1;32m    223\u001b[0m         \u001b[38;5;124mr\u001b[39m\u001b[38;5;124m\"\u001b[39m\u001b[38;5;124mparameter of \u001b[39m\u001b[38;5;124m\\\u001b[39m\u001b[38;5;124mw+ must be\u001b[39m\u001b[38;5;124m\"\u001b[39m,\n\u001b[1;32m    224\u001b[0m         \u001b[38;5;124mf\u001b[39m\u001b[38;5;124m\"\u001b[39m\u001b[38;5;124mparameter of \u001b[39m\u001b[38;5;132;01m{\u001b[39;00mfunc\u001b[38;5;241m.\u001b[39m\u001b[38;5;18m__qualname__\u001b[39m\u001b[38;5;132;01m}\u001b[39;00m\u001b[38;5;124m must be\u001b[39m\u001b[38;5;124m\"\u001b[39m,\n\u001b[1;32m    225\u001b[0m         \u001b[38;5;28mstr\u001b[39m(e),\n\u001b[1;32m    226\u001b[0m     )\n",
      "File \u001b[0;32m~/.local/lib/python3.10/site-packages/sklearn/model_selection/_validation.py:684\u001b[0m, in \u001b[0;36mcross_val_score\u001b[0;34m(estimator, X, y, groups, scoring, cv, n_jobs, verbose, params, pre_dispatch, error_score)\u001b[0m\n\u001b[1;32m    681\u001b[0m \u001b[38;5;66;03m# To ensure multimetric format is not supported\u001b[39;00m\n\u001b[1;32m    682\u001b[0m scorer \u001b[38;5;241m=\u001b[39m check_scoring(estimator, scoring\u001b[38;5;241m=\u001b[39mscoring)\n\u001b[0;32m--> 684\u001b[0m cv_results \u001b[38;5;241m=\u001b[39m \u001b[43mcross_validate\u001b[49m\u001b[43m(\u001b[49m\n\u001b[1;32m    685\u001b[0m \u001b[43m    \u001b[49m\u001b[43mestimator\u001b[49m\u001b[38;5;241;43m=\u001b[39;49m\u001b[43mestimator\u001b[49m\u001b[43m,\u001b[49m\n\u001b[1;32m    686\u001b[0m \u001b[43m    \u001b[49m\u001b[43mX\u001b[49m\u001b[38;5;241;43m=\u001b[39;49m\u001b[43mX\u001b[49m\u001b[43m,\u001b[49m\n\u001b[1;32m    687\u001b[0m \u001b[43m    \u001b[49m\u001b[43my\u001b[49m\u001b[38;5;241;43m=\u001b[39;49m\u001b[43my\u001b[49m\u001b[43m,\u001b[49m\n\u001b[1;32m    688\u001b[0m \u001b[43m    \u001b[49m\u001b[43mgroups\u001b[49m\u001b[38;5;241;43m=\u001b[39;49m\u001b[43mgroups\u001b[49m\u001b[43m,\u001b[49m\n\u001b[1;32m    689\u001b[0m \u001b[43m    \u001b[49m\u001b[43mscoring\u001b[49m\u001b[38;5;241;43m=\u001b[39;49m\u001b[43m{\u001b[49m\u001b[38;5;124;43m\"\u001b[39;49m\u001b[38;5;124;43mscore\u001b[39;49m\u001b[38;5;124;43m\"\u001b[39;49m\u001b[43m:\u001b[49m\u001b[43m \u001b[49m\u001b[43mscorer\u001b[49m\u001b[43m}\u001b[49m\u001b[43m,\u001b[49m\n\u001b[1;32m    690\u001b[0m \u001b[43m    \u001b[49m\u001b[43mcv\u001b[49m\u001b[38;5;241;43m=\u001b[39;49m\u001b[43mcv\u001b[49m\u001b[43m,\u001b[49m\n\u001b[1;32m    691\u001b[0m \u001b[43m    \u001b[49m\u001b[43mn_jobs\u001b[49m\u001b[38;5;241;43m=\u001b[39;49m\u001b[43mn_jobs\u001b[49m\u001b[43m,\u001b[49m\n\u001b[1;32m    692\u001b[0m \u001b[43m    \u001b[49m\u001b[43mverbose\u001b[49m\u001b[38;5;241;43m=\u001b[39;49m\u001b[43mverbose\u001b[49m\u001b[43m,\u001b[49m\n\u001b[1;32m    693\u001b[0m \u001b[43m    \u001b[49m\u001b[43mparams\u001b[49m\u001b[38;5;241;43m=\u001b[39;49m\u001b[43mparams\u001b[49m\u001b[43m,\u001b[49m\n\u001b[1;32m    694\u001b[0m \u001b[43m    \u001b[49m\u001b[43mpre_dispatch\u001b[49m\u001b[38;5;241;43m=\u001b[39;49m\u001b[43mpre_dispatch\u001b[49m\u001b[43m,\u001b[49m\n\u001b[1;32m    695\u001b[0m \u001b[43m    \u001b[49m\u001b[43merror_score\u001b[49m\u001b[38;5;241;43m=\u001b[39;49m\u001b[43merror_score\u001b[49m\u001b[43m,\u001b[49m\n\u001b[1;32m    696\u001b[0m \u001b[43m\u001b[49m\u001b[43m)\u001b[49m\n\u001b[1;32m    697\u001b[0m \u001b[38;5;28;01mreturn\u001b[39;00m cv_results[\u001b[38;5;124m\"\u001b[39m\u001b[38;5;124mtest_score\u001b[39m\u001b[38;5;124m\"\u001b[39m]\n",
      "File \u001b[0;32m~/.local/lib/python3.10/site-packages/sklearn/utils/_param_validation.py:216\u001b[0m, in \u001b[0;36mvalidate_params.<locals>.decorator.<locals>.wrapper\u001b[0;34m(*args, **kwargs)\u001b[0m\n\u001b[1;32m    210\u001b[0m \u001b[38;5;28;01mtry\u001b[39;00m:\n\u001b[1;32m    211\u001b[0m     \u001b[38;5;28;01mwith\u001b[39;00m config_context(\n\u001b[1;32m    212\u001b[0m         skip_parameter_validation\u001b[38;5;241m=\u001b[39m(\n\u001b[1;32m    213\u001b[0m             prefer_skip_nested_validation \u001b[38;5;129;01mor\u001b[39;00m global_skip_validation\n\u001b[1;32m    214\u001b[0m         )\n\u001b[1;32m    215\u001b[0m     ):\n\u001b[0;32m--> 216\u001b[0m         \u001b[38;5;28;01mreturn\u001b[39;00m \u001b[43mfunc\u001b[49m\u001b[43m(\u001b[49m\u001b[38;5;241;43m*\u001b[39;49m\u001b[43margs\u001b[49m\u001b[43m,\u001b[49m\u001b[43m \u001b[49m\u001b[38;5;241;43m*\u001b[39;49m\u001b[38;5;241;43m*\u001b[39;49m\u001b[43mkwargs\u001b[49m\u001b[43m)\u001b[49m\n\u001b[1;32m    217\u001b[0m \u001b[38;5;28;01mexcept\u001b[39;00m InvalidParameterError \u001b[38;5;28;01mas\u001b[39;00m e:\n\u001b[1;32m    218\u001b[0m     \u001b[38;5;66;03m# When the function is just a wrapper around an estimator, we allow\u001b[39;00m\n\u001b[1;32m    219\u001b[0m     \u001b[38;5;66;03m# the function to delegate validation to the estimator, but we replace\u001b[39;00m\n\u001b[1;32m    220\u001b[0m     \u001b[38;5;66;03m# the name of the estimator by the name of the function in the error\u001b[39;00m\n\u001b[1;32m    221\u001b[0m     \u001b[38;5;66;03m# message to avoid confusion.\u001b[39;00m\n\u001b[1;32m    222\u001b[0m     msg \u001b[38;5;241m=\u001b[39m re\u001b[38;5;241m.\u001b[39msub(\n\u001b[1;32m    223\u001b[0m         \u001b[38;5;124mr\u001b[39m\u001b[38;5;124m\"\u001b[39m\u001b[38;5;124mparameter of \u001b[39m\u001b[38;5;124m\\\u001b[39m\u001b[38;5;124mw+ must be\u001b[39m\u001b[38;5;124m\"\u001b[39m,\n\u001b[1;32m    224\u001b[0m         \u001b[38;5;124mf\u001b[39m\u001b[38;5;124m\"\u001b[39m\u001b[38;5;124mparameter of \u001b[39m\u001b[38;5;132;01m{\u001b[39;00mfunc\u001b[38;5;241m.\u001b[39m\u001b[38;5;18m__qualname__\u001b[39m\u001b[38;5;132;01m}\u001b[39;00m\u001b[38;5;124m must be\u001b[39m\u001b[38;5;124m\"\u001b[39m,\n\u001b[1;32m    225\u001b[0m         \u001b[38;5;28mstr\u001b[39m(e),\n\u001b[1;32m    226\u001b[0m     )\n",
      "File \u001b[0;32m~/.local/lib/python3.10/site-packages/sklearn/model_selection/_validation.py:411\u001b[0m, in \u001b[0;36mcross_validate\u001b[0;34m(estimator, X, y, groups, scoring, cv, n_jobs, verbose, params, pre_dispatch, return_train_score, return_estimator, return_indices, error_score)\u001b[0m\n\u001b[1;32m    408\u001b[0m \u001b[38;5;66;03m# We clone the estimator to make sure that all the folds are\u001b[39;00m\n\u001b[1;32m    409\u001b[0m \u001b[38;5;66;03m# independent, and that it is pickle-able.\u001b[39;00m\n\u001b[1;32m    410\u001b[0m parallel \u001b[38;5;241m=\u001b[39m Parallel(n_jobs\u001b[38;5;241m=\u001b[39mn_jobs, verbose\u001b[38;5;241m=\u001b[39mverbose, pre_dispatch\u001b[38;5;241m=\u001b[39mpre_dispatch)\n\u001b[0;32m--> 411\u001b[0m results \u001b[38;5;241m=\u001b[39m \u001b[43mparallel\u001b[49m\u001b[43m(\u001b[49m\n\u001b[1;32m    412\u001b[0m \u001b[43m    \u001b[49m\u001b[43mdelayed\u001b[49m\u001b[43m(\u001b[49m\u001b[43m_fit_and_score\u001b[49m\u001b[43m)\u001b[49m\u001b[43m(\u001b[49m\n\u001b[1;32m    413\u001b[0m \u001b[43m        \u001b[49m\u001b[43mclone\u001b[49m\u001b[43m(\u001b[49m\u001b[43mestimator\u001b[49m\u001b[43m)\u001b[49m\u001b[43m,\u001b[49m\n\u001b[1;32m    414\u001b[0m \u001b[43m        \u001b[49m\u001b[43mX\u001b[49m\u001b[43m,\u001b[49m\n\u001b[1;32m    415\u001b[0m \u001b[43m        \u001b[49m\u001b[43my\u001b[49m\u001b[43m,\u001b[49m\n\u001b[1;32m    416\u001b[0m \u001b[43m        \u001b[49m\u001b[43mscorer\u001b[49m\u001b[38;5;241;43m=\u001b[39;49m\u001b[43mscorers\u001b[49m\u001b[43m,\u001b[49m\n\u001b[1;32m    417\u001b[0m \u001b[43m        \u001b[49m\u001b[43mtrain\u001b[49m\u001b[38;5;241;43m=\u001b[39;49m\u001b[43mtrain\u001b[49m\u001b[43m,\u001b[49m\n\u001b[1;32m    418\u001b[0m \u001b[43m        \u001b[49m\u001b[43mtest\u001b[49m\u001b[38;5;241;43m=\u001b[39;49m\u001b[43mtest\u001b[49m\u001b[43m,\u001b[49m\n\u001b[1;32m    419\u001b[0m \u001b[43m        \u001b[49m\u001b[43mverbose\u001b[49m\u001b[38;5;241;43m=\u001b[39;49m\u001b[43mverbose\u001b[49m\u001b[43m,\u001b[49m\n\u001b[1;32m    420\u001b[0m \u001b[43m        \u001b[49m\u001b[43mparameters\u001b[49m\u001b[38;5;241;43m=\u001b[39;49m\u001b[38;5;28;43;01mNone\u001b[39;49;00m\u001b[43m,\u001b[49m\n\u001b[1;32m    421\u001b[0m \u001b[43m        \u001b[49m\u001b[43mfit_params\u001b[49m\u001b[38;5;241;43m=\u001b[39;49m\u001b[43mrouted_params\u001b[49m\u001b[38;5;241;43m.\u001b[39;49m\u001b[43mestimator\u001b[49m\u001b[38;5;241;43m.\u001b[39;49m\u001b[43mfit\u001b[49m\u001b[43m,\u001b[49m\n\u001b[1;32m    422\u001b[0m \u001b[43m        \u001b[49m\u001b[43mscore_params\u001b[49m\u001b[38;5;241;43m=\u001b[39;49m\u001b[43mrouted_params\u001b[49m\u001b[38;5;241;43m.\u001b[39;49m\u001b[43mscorer\u001b[49m\u001b[38;5;241;43m.\u001b[39;49m\u001b[43mscore\u001b[49m\u001b[43m,\u001b[49m\n\u001b[1;32m    423\u001b[0m \u001b[43m        \u001b[49m\u001b[43mreturn_train_score\u001b[49m\u001b[38;5;241;43m=\u001b[39;49m\u001b[43mreturn_train_score\u001b[49m\u001b[43m,\u001b[49m\n\u001b[1;32m    424\u001b[0m \u001b[43m        \u001b[49m\u001b[43mreturn_times\u001b[49m\u001b[38;5;241;43m=\u001b[39;49m\u001b[38;5;28;43;01mTrue\u001b[39;49;00m\u001b[43m,\u001b[49m\n\u001b[1;32m    425\u001b[0m \u001b[43m        \u001b[49m\u001b[43mreturn_estimator\u001b[49m\u001b[38;5;241;43m=\u001b[39;49m\u001b[43mreturn_estimator\u001b[49m\u001b[43m,\u001b[49m\n\u001b[1;32m    426\u001b[0m \u001b[43m        \u001b[49m\u001b[43merror_score\u001b[49m\u001b[38;5;241;43m=\u001b[39;49m\u001b[43merror_score\u001b[49m\u001b[43m,\u001b[49m\n\u001b[1;32m    427\u001b[0m \u001b[43m    \u001b[49m\u001b[43m)\u001b[49m\n\u001b[1;32m    428\u001b[0m \u001b[43m    \u001b[49m\u001b[38;5;28;43;01mfor\u001b[39;49;00m\u001b[43m \u001b[49m\u001b[43mtrain\u001b[49m\u001b[43m,\u001b[49m\u001b[43m \u001b[49m\u001b[43mtest\u001b[49m\u001b[43m \u001b[49m\u001b[38;5;129;43;01min\u001b[39;49;00m\u001b[43m \u001b[49m\u001b[43mindices\u001b[49m\n\u001b[1;32m    429\u001b[0m \u001b[43m\u001b[49m\u001b[43m)\u001b[49m\n\u001b[1;32m    431\u001b[0m _warn_or_raise_about_fit_failures(results, error_score)\n\u001b[1;32m    433\u001b[0m \u001b[38;5;66;03m# For callable scoring, the return type is only know after calling. If the\u001b[39;00m\n\u001b[1;32m    434\u001b[0m \u001b[38;5;66;03m# return type is a dictionary, the error scores can now be inserted with\u001b[39;00m\n\u001b[1;32m    435\u001b[0m \u001b[38;5;66;03m# the correct key.\u001b[39;00m\n",
      "File \u001b[0;32m~/.local/lib/python3.10/site-packages/sklearn/utils/parallel.py:77\u001b[0m, in \u001b[0;36mParallel.__call__\u001b[0;34m(self, iterable)\u001b[0m\n\u001b[1;32m     72\u001b[0m config \u001b[38;5;241m=\u001b[39m get_config()\n\u001b[1;32m     73\u001b[0m iterable_with_config \u001b[38;5;241m=\u001b[39m (\n\u001b[1;32m     74\u001b[0m     (_with_config(delayed_func, config), args, kwargs)\n\u001b[1;32m     75\u001b[0m     \u001b[38;5;28;01mfor\u001b[39;00m delayed_func, args, kwargs \u001b[38;5;129;01min\u001b[39;00m iterable\n\u001b[1;32m     76\u001b[0m )\n\u001b[0;32m---> 77\u001b[0m \u001b[38;5;28;01mreturn\u001b[39;00m \u001b[38;5;28;43msuper\u001b[39;49m\u001b[43m(\u001b[49m\u001b[43m)\u001b[49m\u001b[38;5;241;43m.\u001b[39;49m\u001b[38;5;21;43m__call__\u001b[39;49m\u001b[43m(\u001b[49m\u001b[43miterable_with_config\u001b[49m\u001b[43m)\u001b[49m\n",
      "File \u001b[0;32m~/.local/lib/python3.10/site-packages/joblib/parallel.py:1918\u001b[0m, in \u001b[0;36mParallel.__call__\u001b[0;34m(self, iterable)\u001b[0m\n\u001b[1;32m   1916\u001b[0m     output \u001b[38;5;241m=\u001b[39m \u001b[38;5;28mself\u001b[39m\u001b[38;5;241m.\u001b[39m_get_sequential_output(iterable)\n\u001b[1;32m   1917\u001b[0m     \u001b[38;5;28mnext\u001b[39m(output)\n\u001b[0;32m-> 1918\u001b[0m     \u001b[38;5;28;01mreturn\u001b[39;00m output \u001b[38;5;28;01mif\u001b[39;00m \u001b[38;5;28mself\u001b[39m\u001b[38;5;241m.\u001b[39mreturn_generator \u001b[38;5;28;01melse\u001b[39;00m \u001b[38;5;28;43mlist\u001b[39;49m\u001b[43m(\u001b[49m\u001b[43moutput\u001b[49m\u001b[43m)\u001b[49m\n\u001b[1;32m   1920\u001b[0m \u001b[38;5;66;03m# Let's create an ID that uniquely identifies the current call. If the\u001b[39;00m\n\u001b[1;32m   1921\u001b[0m \u001b[38;5;66;03m# call is interrupted early and that the same instance is immediately\u001b[39;00m\n\u001b[1;32m   1922\u001b[0m \u001b[38;5;66;03m# re-used, this id will be used to prevent workers that were\u001b[39;00m\n\u001b[1;32m   1923\u001b[0m \u001b[38;5;66;03m# concurrently finalizing a task from the previous call to run the\u001b[39;00m\n\u001b[1;32m   1924\u001b[0m \u001b[38;5;66;03m# callback.\u001b[39;00m\n\u001b[1;32m   1925\u001b[0m \u001b[38;5;28;01mwith\u001b[39;00m \u001b[38;5;28mself\u001b[39m\u001b[38;5;241m.\u001b[39m_lock:\n",
      "File \u001b[0;32m~/.local/lib/python3.10/site-packages/joblib/parallel.py:1847\u001b[0m, in \u001b[0;36mParallel._get_sequential_output\u001b[0;34m(self, iterable)\u001b[0m\n\u001b[1;32m   1845\u001b[0m \u001b[38;5;28mself\u001b[39m\u001b[38;5;241m.\u001b[39mn_dispatched_batches \u001b[38;5;241m+\u001b[39m\u001b[38;5;241m=\u001b[39m \u001b[38;5;241m1\u001b[39m\n\u001b[1;32m   1846\u001b[0m \u001b[38;5;28mself\u001b[39m\u001b[38;5;241m.\u001b[39mn_dispatched_tasks \u001b[38;5;241m+\u001b[39m\u001b[38;5;241m=\u001b[39m \u001b[38;5;241m1\u001b[39m\n\u001b[0;32m-> 1847\u001b[0m res \u001b[38;5;241m=\u001b[39m \u001b[43mfunc\u001b[49m\u001b[43m(\u001b[49m\u001b[38;5;241;43m*\u001b[39;49m\u001b[43margs\u001b[49m\u001b[43m,\u001b[49m\u001b[43m \u001b[49m\u001b[38;5;241;43m*\u001b[39;49m\u001b[38;5;241;43m*\u001b[39;49m\u001b[43mkwargs\u001b[49m\u001b[43m)\u001b[49m\n\u001b[1;32m   1848\u001b[0m \u001b[38;5;28mself\u001b[39m\u001b[38;5;241m.\u001b[39mn_completed_tasks \u001b[38;5;241m+\u001b[39m\u001b[38;5;241m=\u001b[39m \u001b[38;5;241m1\u001b[39m\n\u001b[1;32m   1849\u001b[0m \u001b[38;5;28mself\u001b[39m\u001b[38;5;241m.\u001b[39mprint_progress()\n",
      "File \u001b[0;32m~/.local/lib/python3.10/site-packages/sklearn/utils/parallel.py:139\u001b[0m, in \u001b[0;36m_FuncWrapper.__call__\u001b[0;34m(self, *args, **kwargs)\u001b[0m\n\u001b[1;32m    137\u001b[0m     config \u001b[38;5;241m=\u001b[39m {}\n\u001b[1;32m    138\u001b[0m \u001b[38;5;28;01mwith\u001b[39;00m config_context(\u001b[38;5;241m*\u001b[39m\u001b[38;5;241m*\u001b[39mconfig):\n\u001b[0;32m--> 139\u001b[0m     \u001b[38;5;28;01mreturn\u001b[39;00m \u001b[38;5;28;43mself\u001b[39;49m\u001b[38;5;241;43m.\u001b[39;49m\u001b[43mfunction\u001b[49m\u001b[43m(\u001b[49m\u001b[38;5;241;43m*\u001b[39;49m\u001b[43margs\u001b[49m\u001b[43m,\u001b[49m\u001b[43m \u001b[49m\u001b[38;5;241;43m*\u001b[39;49m\u001b[38;5;241;43m*\u001b[39;49m\u001b[43mkwargs\u001b[49m\u001b[43m)\u001b[49m\n",
      "File \u001b[0;32m~/.local/lib/python3.10/site-packages/sklearn/model_selection/_validation.py:866\u001b[0m, in \u001b[0;36m_fit_and_score\u001b[0;34m(estimator, X, y, scorer, train, test, verbose, parameters, fit_params, score_params, return_train_score, return_parameters, return_n_test_samples, return_times, return_estimator, split_progress, candidate_progress, error_score)\u001b[0m\n\u001b[1;32m    864\u001b[0m         estimator\u001b[38;5;241m.\u001b[39mfit(X_train, \u001b[38;5;241m*\u001b[39m\u001b[38;5;241m*\u001b[39mfit_params)\n\u001b[1;32m    865\u001b[0m     \u001b[38;5;28;01melse\u001b[39;00m:\n\u001b[0;32m--> 866\u001b[0m         \u001b[43mestimator\u001b[49m\u001b[38;5;241;43m.\u001b[39;49m\u001b[43mfit\u001b[49m\u001b[43m(\u001b[49m\u001b[43mX_train\u001b[49m\u001b[43m,\u001b[49m\u001b[43m \u001b[49m\u001b[43my_train\u001b[49m\u001b[43m,\u001b[49m\u001b[43m \u001b[49m\u001b[38;5;241;43m*\u001b[39;49m\u001b[38;5;241;43m*\u001b[39;49m\u001b[43mfit_params\u001b[49m\u001b[43m)\u001b[49m\n\u001b[1;32m    868\u001b[0m \u001b[38;5;28;01mexcept\u001b[39;00m \u001b[38;5;167;01mException\u001b[39;00m:\n\u001b[1;32m    869\u001b[0m     \u001b[38;5;66;03m# Note fit time as time until error\u001b[39;00m\n\u001b[1;32m    870\u001b[0m     fit_time \u001b[38;5;241m=\u001b[39m time\u001b[38;5;241m.\u001b[39mtime() \u001b[38;5;241m-\u001b[39m start_time\n",
      "File \u001b[0;32m~/.local/lib/python3.10/site-packages/xgboost/core.py:729\u001b[0m, in \u001b[0;36mrequire_keyword_args.<locals>.throw_if.<locals>.inner_f\u001b[0;34m(*args, **kwargs)\u001b[0m\n\u001b[1;32m    727\u001b[0m \u001b[38;5;28;01mfor\u001b[39;00m k, arg \u001b[38;5;129;01min\u001b[39;00m \u001b[38;5;28mzip\u001b[39m(sig\u001b[38;5;241m.\u001b[39mparameters, args):\n\u001b[1;32m    728\u001b[0m     kwargs[k] \u001b[38;5;241m=\u001b[39m arg\n\u001b[0;32m--> 729\u001b[0m \u001b[38;5;28;01mreturn\u001b[39;00m \u001b[43mfunc\u001b[49m\u001b[43m(\u001b[49m\u001b[38;5;241;43m*\u001b[39;49m\u001b[38;5;241;43m*\u001b[39;49m\u001b[43mkwargs\u001b[49m\u001b[43m)\u001b[49m\n",
      "File \u001b[0;32m~/.local/lib/python3.10/site-packages/xgboost/sklearn.py:1247\u001b[0m, in \u001b[0;36mXGBModel.fit\u001b[0;34m(self, X, y, sample_weight, base_margin, eval_set, verbose, xgb_model, sample_weight_eval_set, base_margin_eval_set, feature_weights)\u001b[0m\n\u001b[1;32m   1244\u001b[0m \u001b[38;5;28;01melse\u001b[39;00m:\n\u001b[1;32m   1245\u001b[0m     obj \u001b[38;5;241m=\u001b[39m \u001b[38;5;28;01mNone\u001b[39;00m\n\u001b[0;32m-> 1247\u001b[0m \u001b[38;5;28mself\u001b[39m\u001b[38;5;241m.\u001b[39m_Booster \u001b[38;5;241m=\u001b[39m \u001b[43mtrain\u001b[49m\u001b[43m(\u001b[49m\n\u001b[1;32m   1248\u001b[0m \u001b[43m    \u001b[49m\u001b[43mparams\u001b[49m\u001b[43m,\u001b[49m\n\u001b[1;32m   1249\u001b[0m \u001b[43m    \u001b[49m\u001b[43mtrain_dmatrix\u001b[49m\u001b[43m,\u001b[49m\n\u001b[1;32m   1250\u001b[0m \u001b[43m    \u001b[49m\u001b[38;5;28;43mself\u001b[39;49m\u001b[38;5;241;43m.\u001b[39;49m\u001b[43mget_num_boosting_rounds\u001b[49m\u001b[43m(\u001b[49m\u001b[43m)\u001b[49m\u001b[43m,\u001b[49m\n\u001b[1;32m   1251\u001b[0m \u001b[43m    \u001b[49m\u001b[43mevals\u001b[49m\u001b[38;5;241;43m=\u001b[39;49m\u001b[43mevals\u001b[49m\u001b[43m,\u001b[49m\n\u001b[1;32m   1252\u001b[0m \u001b[43m    \u001b[49m\u001b[43mearly_stopping_rounds\u001b[49m\u001b[38;5;241;43m=\u001b[39;49m\u001b[38;5;28;43mself\u001b[39;49m\u001b[38;5;241;43m.\u001b[39;49m\u001b[43mearly_stopping_rounds\u001b[49m\u001b[43m,\u001b[49m\n\u001b[1;32m   1253\u001b[0m \u001b[43m    \u001b[49m\u001b[43mevals_result\u001b[49m\u001b[38;5;241;43m=\u001b[39;49m\u001b[43mevals_result\u001b[49m\u001b[43m,\u001b[49m\n\u001b[1;32m   1254\u001b[0m \u001b[43m    \u001b[49m\u001b[43mobj\u001b[49m\u001b[38;5;241;43m=\u001b[39;49m\u001b[43mobj\u001b[49m\u001b[43m,\u001b[49m\n\u001b[1;32m   1255\u001b[0m \u001b[43m    \u001b[49m\u001b[43mcustom_metric\u001b[49m\u001b[38;5;241;43m=\u001b[39;49m\u001b[43mmetric\u001b[49m\u001b[43m,\u001b[49m\n\u001b[1;32m   1256\u001b[0m \u001b[43m    \u001b[49m\u001b[43mverbose_eval\u001b[49m\u001b[38;5;241;43m=\u001b[39;49m\u001b[43mverbose\u001b[49m\u001b[43m,\u001b[49m\n\u001b[1;32m   1257\u001b[0m \u001b[43m    \u001b[49m\u001b[43mxgb_model\u001b[49m\u001b[38;5;241;43m=\u001b[39;49m\u001b[43mmodel\u001b[49m\u001b[43m,\u001b[49m\n\u001b[1;32m   1258\u001b[0m \u001b[43m    \u001b[49m\u001b[43mcallbacks\u001b[49m\u001b[38;5;241;43m=\u001b[39;49m\u001b[38;5;28;43mself\u001b[39;49m\u001b[38;5;241;43m.\u001b[39;49m\u001b[43mcallbacks\u001b[49m\u001b[43m,\u001b[49m\n\u001b[1;32m   1259\u001b[0m \u001b[43m\u001b[49m\u001b[43m)\u001b[49m\n\u001b[1;32m   1261\u001b[0m \u001b[38;5;28mself\u001b[39m\u001b[38;5;241m.\u001b[39m_set_evaluation_result(evals_result)\n\u001b[1;32m   1262\u001b[0m \u001b[38;5;28;01mreturn\u001b[39;00m \u001b[38;5;28mself\u001b[39m\n",
      "File \u001b[0;32m~/.local/lib/python3.10/site-packages/xgboost/core.py:729\u001b[0m, in \u001b[0;36mrequire_keyword_args.<locals>.throw_if.<locals>.inner_f\u001b[0;34m(*args, **kwargs)\u001b[0m\n\u001b[1;32m    727\u001b[0m \u001b[38;5;28;01mfor\u001b[39;00m k, arg \u001b[38;5;129;01min\u001b[39;00m \u001b[38;5;28mzip\u001b[39m(sig\u001b[38;5;241m.\u001b[39mparameters, args):\n\u001b[1;32m    728\u001b[0m     kwargs[k] \u001b[38;5;241m=\u001b[39m arg\n\u001b[0;32m--> 729\u001b[0m \u001b[38;5;28;01mreturn\u001b[39;00m \u001b[43mfunc\u001b[49m\u001b[43m(\u001b[49m\u001b[38;5;241;43m*\u001b[39;49m\u001b[38;5;241;43m*\u001b[39;49m\u001b[43mkwargs\u001b[49m\u001b[43m)\u001b[49m\n",
      "File \u001b[0;32m~/.local/lib/python3.10/site-packages/xgboost/training.py:183\u001b[0m, in \u001b[0;36mtrain\u001b[0;34m(params, dtrain, num_boost_round, evals, obj, maximize, early_stopping_rounds, evals_result, verbose_eval, xgb_model, callbacks, custom_metric)\u001b[0m\n\u001b[1;32m    181\u001b[0m \u001b[38;5;28;01mif\u001b[39;00m cb_container\u001b[38;5;241m.\u001b[39mbefore_iteration(bst, i, dtrain, evals):\n\u001b[1;32m    182\u001b[0m     \u001b[38;5;28;01mbreak\u001b[39;00m\n\u001b[0;32m--> 183\u001b[0m \u001b[43mbst\u001b[49m\u001b[38;5;241;43m.\u001b[39;49m\u001b[43mupdate\u001b[49m\u001b[43m(\u001b[49m\u001b[43mdtrain\u001b[49m\u001b[43m,\u001b[49m\u001b[43m \u001b[49m\u001b[43miteration\u001b[49m\u001b[38;5;241;43m=\u001b[39;49m\u001b[43mi\u001b[49m\u001b[43m,\u001b[49m\u001b[43m \u001b[49m\u001b[43mfobj\u001b[49m\u001b[38;5;241;43m=\u001b[39;49m\u001b[43mobj\u001b[49m\u001b[43m)\u001b[49m\n\u001b[1;32m    184\u001b[0m \u001b[38;5;28;01mif\u001b[39;00m cb_container\u001b[38;5;241m.\u001b[39mafter_iteration(bst, i, dtrain, evals):\n\u001b[1;32m    185\u001b[0m     \u001b[38;5;28;01mbreak\u001b[39;00m\n",
      "File \u001b[0;32m~/.local/lib/python3.10/site-packages/xgboost/core.py:2247\u001b[0m, in \u001b[0;36mBooster.update\u001b[0;34m(self, dtrain, iteration, fobj)\u001b[0m\n\u001b[1;32m   2243\u001b[0m \u001b[38;5;28mself\u001b[39m\u001b[38;5;241m.\u001b[39m_assign_dmatrix_features(dtrain)\n\u001b[1;32m   2245\u001b[0m \u001b[38;5;28;01mif\u001b[39;00m fobj \u001b[38;5;129;01mis\u001b[39;00m \u001b[38;5;28;01mNone\u001b[39;00m:\n\u001b[1;32m   2246\u001b[0m     _check_call(\n\u001b[0;32m-> 2247\u001b[0m         \u001b[43m_LIB\u001b[49m\u001b[38;5;241;43m.\u001b[39;49m\u001b[43mXGBoosterUpdateOneIter\u001b[49m\u001b[43m(\u001b[49m\n\u001b[1;32m   2248\u001b[0m \u001b[43m            \u001b[49m\u001b[38;5;28;43mself\u001b[39;49m\u001b[38;5;241;43m.\u001b[39;49m\u001b[43mhandle\u001b[49m\u001b[43m,\u001b[49m\u001b[43m \u001b[49m\u001b[43mctypes\u001b[49m\u001b[38;5;241;43m.\u001b[39;49m\u001b[43mc_int\u001b[49m\u001b[43m(\u001b[49m\u001b[43miteration\u001b[49m\u001b[43m)\u001b[49m\u001b[43m,\u001b[49m\u001b[43m \u001b[49m\u001b[43mdtrain\u001b[49m\u001b[38;5;241;43m.\u001b[39;49m\u001b[43mhandle\u001b[49m\n\u001b[1;32m   2249\u001b[0m \u001b[43m        \u001b[49m\u001b[43m)\u001b[49m\n\u001b[1;32m   2250\u001b[0m     )\n\u001b[1;32m   2251\u001b[0m \u001b[38;5;28;01melse\u001b[39;00m:\n\u001b[1;32m   2252\u001b[0m     pred \u001b[38;5;241m=\u001b[39m \u001b[38;5;28mself\u001b[39m\u001b[38;5;241m.\u001b[39mpredict(dtrain, output_margin\u001b[38;5;241m=\u001b[39m\u001b[38;5;28;01mTrue\u001b[39;00m, training\u001b[38;5;241m=\u001b[39m\u001b[38;5;28;01mTrue\u001b[39;00m)\n",
      "\u001b[0;31mKeyboardInterrupt\u001b[0m: "
     ]
    }
   ],
   "source": [
    "results = nested_CV_revenge(outer_cv = outer_cv,\n",
    "            inner_cv = inner_cv,\n",
    "            X_train = X_train, \n",
    "            y_train = y_train, \n",
    "            model = regressor, \n",
    "            search_space = search_space_bayes,\n",
    "            n_jobs= n_jobs_sk, n_iter_bsearch = n_iter_bsearch,\n",
    "            verbose = True\n",
    "           )\n",
    "\n",
    "(\n",
    "    hyperparam_list, \n",
    "    selected_features_list, \n",
    "    mse_array, \n",
    "    r2_array, \n",
    "    predictions_array \n",
    ") = results"
   ]
  },
  {
   "cell_type": "code",
   "execution_count": null,
   "id": "a352b74d",
   "metadata": {
    "papermill": {
     "duration": null,
     "end_time": null,
     "exception": null,
     "start_time": null,
     "status": "completed"
    },
    "tags": []
   },
   "outputs": [],
   "source": [
    "print(f\"The cross-validated root mean squared error (cv = {outer_cv}) is : {np.mean(np.sqrt(mse_array))}\")\n",
    "print(f\"The cross-validated R squared (R^2) (cv = {outer_cv}) is : {np.mean(r2_array)}\")"
   ]
  },
  {
   "cell_type": "code",
   "execution_count": null,
   "id": "4c885f68",
   "metadata": {
    "papermill": {
     "duration": null,
     "end_time": null,
     "exception": null,
     "start_time": null,
     "status": "completed"
    },
    "tags": []
   },
   "outputs": [],
   "source": [
    "selected_features_in_at_least_one_cv = set([elem for inner_list in selected_features_list for elem in inner_list])"
   ]
  },
  {
   "cell_type": "code",
   "execution_count": null,
   "id": "3bf14ffd",
   "metadata": {
    "papermill": {
     "duration": null,
     "end_time": null,
     "exception": null,
     "start_time": null,
     "status": "completed"
    },
    "tags": []
   },
   "outputs": [],
   "source": [
    "search_space_grid = {}\n",
    "\n",
    "for dictionary in hyperparam_list:\n",
    "    for k,v in dictionary.items():\n",
    "        if k in search_space_grid:\n",
    "            search_space_grid[k].update([v])\n",
    "        else:\n",
    "            search_space_grid[k] = set([v])\n",
    "\n",
    "search_space_grid = {k : list(v) for k,v in search_space_grid.items()}"
   ]
  },
  {
   "cell_type": "markdown",
   "id": "f0f8126e",
   "metadata": {
    "papermill": {
     "duration": null,
     "end_time": null,
     "exception": null,
     "start_time": null,
     "status": "completed"
    },
    "tags": []
   },
   "source": [
    "## Full Dataset Hyperparameter Tuning"
   ]
  },
  {
   "cell_type": "code",
   "execution_count": null,
   "id": "40cd22de",
   "metadata": {
    "papermill": {
     "duration": null,
     "end_time": null,
     "exception": null,
     "start_time": null,
     "status": "completed"
    },
    "tags": []
   },
   "outputs": [],
   "source": [
    "print(\"Full Dataset Hyperparameter Tuning\")"
   ]
  },
  {
   "cell_type": "markdown",
   "id": "a9ad41b4",
   "metadata": {
    "papermill": {
     "duration": null,
     "end_time": null,
     "exception": null,
     "start_time": null,
     "status": "completed"
    },
    "tags": []
   },
   "source": [
    "Once the true model error has beem estimated we can optimize the hyperparameter on the full training set"
   ]
  },
  {
   "cell_type": "code",
   "execution_count": null,
   "id": "516978cb",
   "metadata": {
    "papermill": {
     "duration": null,
     "end_time": null,
     "exception": null,
     "start_time": null,
     "status": "completed"
    },
    "tags": []
   },
   "outputs": [],
   "source": [
    "opti = sk.model_selection.RandomizedSearchCV(estimator = regressor, \n",
    "                                             param_distributions = search_space_grid, \n",
    "                                             cv = inner_cv, \n",
    "                                             n_jobs = n_jobs_sk,\n",
    "                                             n_iter = n_iter_rsearch,\n",
    "                                             random_state = hypertune_random_state_rsearch, \n",
    "                                             verbose = 0, refit = True)\n",
    "opti.fit(X_train, y_train)\n",
    "clear_output(wait = False)"
   ]
  },
  {
   "cell_type": "code",
   "execution_count": null,
   "id": "5fb4c8db",
   "metadata": {
    "papermill": {
     "duration": null,
     "end_time": null,
     "exception": null,
     "start_time": null,
     "status": "completed"
    },
    "tags": []
   },
   "outputs": [],
   "source": [
    "model = opti.best_estimator_"
   ]
  },
  {
   "cell_type": "markdown",
   "id": "c1c5d552",
   "metadata": {
    "papermill": {
     "duration": null,
     "end_time": null,
     "exception": null,
     "start_time": null,
     "status": "completed"
    },
    "tags": []
   },
   "source": [
    "## Feature Importance Analysis"
   ]
  },
  {
   "cell_type": "code",
   "execution_count": null,
   "id": "235040de",
   "metadata": {
    "papermill": {
     "duration": null,
     "end_time": null,
     "exception": null,
     "start_time": null,
     "status": "completed"
    },
    "tags": []
   },
   "outputs": [],
   "source": [
    "print(\"Feature Importance Analysis\")"
   ]
  },
  {
   "cell_type": "markdown",
   "id": "86781af6",
   "metadata": {
    "papermill": {
     "duration": null,
     "end_time": null,
     "exception": null,
     "start_time": null,
     "status": "completed"
    },
    "tags": []
   },
   "source": [
    "Let's look at both XGBoost native feature importance and at mean absolute SHAP values as metric of feature importance"
   ]
  },
  {
   "cell_type": "code",
   "execution_count": null,
   "id": "bb4a867d",
   "metadata": {
    "papermill": {
     "duration": null,
     "end_time": null,
     "exception": null,
     "start_time": null,
     "status": "completed"
    },
    "tags": []
   },
   "outputs": [],
   "source": [
    "explainer = shap.TreeExplainer(model, approximate= False)\n",
    "shap_values = explainer(X_train)\n",
    "shap_values_numpy = explainer.shap_values(X_train)"
   ]
  },
  {
   "cell_type": "code",
   "execution_count": null,
   "id": "fd38093c",
   "metadata": {
    "papermill": {
     "duration": null,
     "end_time": null,
     "exception": null,
     "start_time": null,
     "status": "completed"
    },
    "tags": []
   },
   "outputs": [],
   "source": [
    "if plot_shap:\n",
    "    print(\" / \".join([mode, condition]))\n",
    "    plt.figure(figsize = (100,25))\n",
    "    summary_plot = shap.summary_plot(shap_values, X_train, \n",
    "                                     plot_type='bar', max_display=10, plot_size= (25,10), rng = 42)\n",
    "    plt.show()"
   ]
  },
  {
   "cell_type": "markdown",
   "id": "106fc1e5",
   "metadata": {
    "papermill": {
     "duration": null,
     "end_time": null,
     "exception": null,
     "start_time": null,
     "status": "completed"
    },
    "tags": []
   },
   "source": [
    "## Feature Selection"
   ]
  },
  {
   "cell_type": "markdown",
   "id": "0e029674",
   "metadata": {
    "papermill": {
     "duration": null,
     "end_time": null,
     "exception": null,
     "start_time": null,
     "status": "completed"
    },
    "tags": []
   },
   "source": [
    "Let's perform Feature Selection using mean absolute SHAP values"
   ]
  },
  {
   "cell_type": "code",
   "execution_count": null,
   "id": "e69735f3",
   "metadata": {
    "papermill": {
     "duration": null,
     "end_time": null,
     "exception": null,
     "start_time": null,
     "status": "completed"
    },
    "tags": []
   },
   "outputs": [],
   "source": [
    "feature_names = model.feature_names_in_\n",
    "feature_importances_shap = np.mean(np.abs(explainer.shap_values(X_train)), axis = 0)\n",
    "\n",
    "X_train_reduced, X_test_reduced, selected_features = feature_selector_shap(feature_names, feature_importances_shap, \n",
    "                                                                            model, X_train, X_test, y_train, \n",
    "                                                                            inner_cv = inner_cv,\n",
    "                                                                            plot = True, verbose = True)"
   ]
  },
  {
   "cell_type": "code",
   "execution_count": null,
   "id": "48be375a",
   "metadata": {
    "papermill": {
     "duration": null,
     "end_time": null,
     "exception": null,
     "start_time": null,
     "status": "completed"
    },
    "tags": []
   },
   "outputs": [],
   "source": [
    "features_to_discard = [feature for feature in selected_features if feature not in selected_features_in_at_least_one_cv]"
   ]
  },
  {
   "cell_type": "code",
   "execution_count": null,
   "id": "d3e2c1e5",
   "metadata": {
    "papermill": {
     "duration": null,
     "end_time": null,
     "exception": null,
     "start_time": null,
     "status": "completed"
    },
    "tags": []
   },
   "outputs": [],
   "source": [
    "print(f\"Dropping columns never selected during Nested Cross Validation: {features_to_discard}\")"
   ]
  },
  {
   "cell_type": "code",
   "execution_count": null,
   "id": "c8c0cbe4",
   "metadata": {
    "papermill": {
     "duration": null,
     "end_time": null,
     "exception": null,
     "start_time": null,
     "status": "completed"
    },
    "tags": []
   },
   "outputs": [],
   "source": [
    "X_train_reduced = X_train_reduced.drop(features_to_discard, axis = 1); X_test_reduced = X_test_reduced.drop(features_to_discard, axis = 1)"
   ]
  },
  {
   "cell_type": "code",
   "execution_count": null,
   "id": "78dd5cc4",
   "metadata": {
    "papermill": {
     "duration": null,
     "end_time": null,
     "exception": null,
     "start_time": null,
     "status": "completed"
    },
    "tags": []
   },
   "outputs": [],
   "source": [
    "final_set_of_features = X_train_reduced.columns"
   ]
  },
  {
   "cell_type": "code",
   "execution_count": null,
   "id": "7d58d61f",
   "metadata": {
    "papermill": {
     "duration": null,
     "end_time": null,
     "exception": null,
     "start_time": null,
     "status": "completed"
    },
    "scrolled": true,
    "tags": []
   },
   "outputs": [],
   "source": [
    "opti_fs = sk.model_selection.RandomizedSearchCV(estimator = model, \n",
    "                                                param_distributions = search_space_grid, \n",
    "                                                cv = inner_cv, \n",
    "                                                n_jobs = n_jobs_sk,\n",
    "                                                n_iter = n_iter_rsearch,\n",
    "                                                random_state = hypertune_random_state_rsearch, \n",
    "                                                verbose = 0, refit = True)\n",
    "opti_fs.fit(X_train_reduced, y_train)\n",
    "clear_output(wait = False)"
   ]
  },
  {
   "cell_type": "code",
   "execution_count": null,
   "id": "ead95fc9",
   "metadata": {
    "papermill": {
     "duration": null,
     "end_time": null,
     "exception": null,
     "start_time": null,
     "status": "completed"
    },
    "tags": []
   },
   "outputs": [],
   "source": [
    "model_fs = opti_fs.best_estimator_"
   ]
  },
  {
   "cell_type": "code",
   "execution_count": null,
   "id": "60958511",
   "metadata": {
    "papermill": {
     "duration": null,
     "end_time": null,
     "exception": null,
     "start_time": null,
     "status": "completed"
    },
    "tags": []
   },
   "outputs": [],
   "source": [
    "best_params_fs = opti_fs.best_params_\n",
    "\n",
    "for k,v in best_params_fs.items():\n",
    "    print(f\"{k}: {v}\")"
   ]
  },
  {
   "cell_type": "code",
   "execution_count": null,
   "id": "3d42cf46",
   "metadata": {
    "papermill": {
     "duration": null,
     "end_time": null,
     "exception": null,
     "start_time": null,
     "status": "completed"
    },
    "tags": []
   },
   "outputs": [],
   "source": [
    "print(\"Final evaluation!\")"
   ]
  },
  {
   "cell_type": "code",
   "execution_count": null,
   "id": "a216967d",
   "metadata": {
    "papermill": {
     "duration": null,
     "end_time": null,
     "exception": null,
     "start_time": null,
     "status": "completed"
    },
    "tags": []
   },
   "outputs": [],
   "source": [
    "mean_r2_cv = np.mean(sk.model_selection.cross_val_score(model_fs, X_train_reduced, y_train, cv = outer_cv, scoring = \"r2\"))\n",
    "mean_rmse_cv = np.mean(-sk.model_selection.cross_val_score(model_fs, X_train_reduced, y_train, cv = outer_cv, scoring = \"neg_root_mean_squared_error\"))"
   ]
  },
  {
   "cell_type": "code",
   "execution_count": null,
   "id": "f3212ae2",
   "metadata": {
    "papermill": {
     "duration": null,
     "end_time": null,
     "exception": null,
     "start_time": null,
     "status": "completed"
    },
    "tags": []
   },
   "outputs": [],
   "source": [
    "print(f\"Cross Validated r2 (cv = {outer_cv}) is: {mean_r2_cv}\")\n",
    "print(f\"Cross Validated rmse (cv = {outer_cv}) is: {mean_rmse_cv}\")"
   ]
  },
  {
   "cell_type": "code",
   "execution_count": null,
   "id": "523f8ebe",
   "metadata": {
    "papermill": {
     "duration": null,
     "end_time": null,
     "exception": null,
     "start_time": null,
     "status": "completed"
    },
    "tags": []
   },
   "outputs": [],
   "source": [
    "if False:\n",
    "    plt.figure(figsize = (50,15))\n",
    "    plot_observed_predicted([y_train[1:500], sk.model_selection.cross_val_predict(model_fs, X_train_reduced, y_train, cv = outer_cv, method = \"predict\")[1:500]],\n",
    "                            [\"Observed\",\"CV Predicted\"], \n",
    "                            title = \"Observed VS CV Predicted\", \n",
    "                            x_label = \"Index\", y_label = \"mean_log2FC\")"
   ]
  },
  {
   "cell_type": "markdown",
   "id": "daad96da",
   "metadata": {
    "papermill": {
     "duration": null,
     "end_time": null,
     "exception": null,
     "start_time": null,
     "status": "completed"
    },
    "tags": []
   },
   "source": [
    "## Store Variables for later"
   ]
  },
  {
   "cell_type": "code",
   "execution_count": null,
   "id": "4853ca1c",
   "metadata": {
    "papermill": {
     "duration": null,
     "end_time": null,
     "exception": null,
     "start_time": null,
     "status": "completed"
    },
    "tags": []
   },
   "outputs": [],
   "source": [
    "print(\"Storing Variables\")"
   ]
  },
  {
   "cell_type": "code",
   "execution_count": null,
   "id": "15e581fc",
   "metadata": {
    "papermill": {
     "duration": null,
     "end_time": null,
     "exception": null,
     "start_time": null,
     "status": "completed"
    },
    "tags": []
   },
   "outputs": [],
   "source": [
    "pickle.dump(X_train_reduced,open(X_train_filename,\"wb\"))\n",
    "pickle.dump(X_test_reduced,open(X_test_filename,\"wb\"))\n",
    "pickle.dump(y_train,open(y_train_filename,\"wb\"))\n",
    "pickle.dump(y_test,open(y_test_filename,\"wb\"))\n",
    "pickle.dump(bin_train,open(bin_train_filename,\"wb\"))\n",
    "pickle.dump(bin_test,open(bin_test_filename,\"wb\"))\n",
    "pickle.dump(model_fs,open(model_filename,\"wb\"))"
   ]
  }
 ],
 "metadata": {
  "kernelspec": {
   "display_name": "Python 3",
   "language": "python",
   "name": "python3"
  },
  "language_info": {
   "codemirror_mode": {
    "name": "ipython",
    "version": 3
   },
   "file_extension": ".py",
   "mimetype": "text/x-python",
   "name": "python",
   "nbconvert_exporter": "python",
   "pygments_lexer": "ipython3",
   "version": "3.10.12"
  },
  "papermill": {
   "default_parameters": {},
   "duration": 17301.208888,
   "end_time": "2025-05-03T13:30:32.492031",
   "environment_variables": {},
   "exception": null,
   "input_path": "Regression_Pipeline.ipynb",
   "output_path": "Regression_Output_with_HIC/Regression_Pipeline_output.ipynb",
   "parameters": {},
   "start_time": "2025-05-03T08:42:11.283143",
   "version": "2.6.0"
  }
 },
 "nbformat": 4,
 "nbformat_minor": 5
}