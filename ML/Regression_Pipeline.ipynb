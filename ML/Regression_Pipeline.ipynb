{
 "cells": [
  {
   "cell_type": "markdown",
   "metadata": {},
   "source": [
    "# Machine Learning Pipeline - Production"
   ]
  },
  {
   "cell_type": "markdown",
   "metadata": {},
   "source": [
    "Check the python kernel we are using, should be the local one, not the one in the virtual environment. <br> \n",
    "NOTE: A proper virtual environment will be setup later on"
   ]
  },
  {
   "cell_type": "code",
   "execution_count": 76,
   "metadata": {},
   "outputs": [
    {
     "name": "stdout",
     "output_type": "stream",
     "text": [
      "/usr/bin/python3\n"
     ]
    }
   ],
   "source": [
    "import sys\n",
    "print(sys.executable)"
   ]
  },
  {
   "cell_type": "markdown",
   "metadata": {},
   "source": [
    "## Define Variables"
   ]
  },
  {
   "cell_type": "markdown",
   "metadata": {},
   "source": [
    "Set up main variables that will be called later on, for readibility purposes"
   ]
  },
  {
   "cell_type": "code",
   "execution_count": 77,
   "metadata": {},
   "outputs": [],
   "source": [
    "install_bool = False\n",
    "path_to_datasets = \"/home/ieo7429/Desktop/THESIS_GAB/outfiles/target_variables/ML_tables_regression_classification_BRCA_1Mbp_with_HIC.RData\"\n",
    "mode = \"regrout\"\n",
    "\n",
    "target_variable = \"mean_log2FC\"\n",
    "\n",
    "cols_to_drop = [\"joint_probability\", \"bool_diff_acc\", \n",
    "                \"sign_mean_log2FC_1\", \"sign_mean_log2FC_2\", \"sign_mean_log2FC_3\", \n",
    "                \"weighted_coef_of_var_log2FC\", \"weighted_log2FC\", \"bin\", \"Type\"]\n",
    "\n",
    "cols_to_check = [\"mean_log2FC\", \"weighted_log2FC\", \"weighted_coef_of_var_log2FC\",\n",
    "                 \"joint_probability\", \"bool_diff_acc\", \"sign_mean_log2FC_1\", \n",
    "                 \"sign_mean_log2FC_2\", \"sign_mean_log2FC_3\", \"joined_direction\"]\n",
    "\n",
    "if \"ampl_score\" in cols_to_drop and \"del_score\" in cols_to_drop:\n",
    "    condition = \"without_CNA\"\n",
    "else:\n",
    "    condition = \"with CNA\"\n",
    "\n",
    "n_jobs_boost = 30\n",
    "n_jobs_sk = 1\n",
    "n_iter_bsearch = 150\n",
    "n_iter_rsearch = 300\n",
    "\n",
    "split_random_state = 489574\n",
    "regressor_seed = 3737\n",
    "regressor_random_state = 39473209\n",
    "hypertune_random_state_bsearch = 3847\n",
    "hypertune_random_state_rsearch = 49574\n",
    "kfold_random_state = 4909\n",
    "\n",
    "outer_cv = 5\n",
    "inner_cv = 3\n",
    "plot_variation = True\n",
    "plot_shap = True\n",
    "\n",
    "X_train_filename = \"Regression_Output_with_HIC/regression_X_train_red\"; X_test_filename = \"Regression_Output_with_HIC/regression_X_test_red\"\n",
    "y_train_filename = \"Regression_Output_with_HIC/regression_y_train_red\"; y_test_filename = \"Regression_Output_with_HIC/regression_y_test_red\"\n",
    "bin_train_filename = \"Regression_Output_with_HIC/regression_bin_train_red\"; bin_test_filename = \"Regression_Output_with_HIC/regression_bin_test_red\"\n",
    "model_filename = \"Regression_Output_with_HIC/regressor_final_model\""
   ]
  },
  {
   "cell_type": "markdown",
   "metadata": {},
   "source": [
    "## Install packages"
   ]
  },
  {
   "cell_type": "markdown",
   "metadata": {},
   "source": [
    "Install all needed packages"
   ]
  },
  {
   "cell_type": "code",
   "execution_count": 78,
   "metadata": {},
   "outputs": [],
   "source": [
    "from IPython.display import clear_output\n",
    "\n",
    "if install_bool:\n",
    "    ! pip install pickleshare\n",
    "    ! pip install pandas\n",
    "    ! pip install scikit-learn\n",
    "    ! pip install seaborn\n",
    "    ! pip install scipy\n",
    "    ! pip install --upgrade pip setuptools wheel\n",
    "    ! pip install rpy2\n",
    "    ! pip install shap\n",
    "    ! pip install \"numpy<=2.1\"\n",
    "    %pip install -U ipywidgets\n",
    "\n",
    "clear_output(wait = False)"
   ]
  },
  {
   "cell_type": "markdown",
   "metadata": {},
   "source": [
    "## Import libraries"
   ]
  },
  {
   "cell_type": "markdown",
   "metadata": {},
   "source": [
    "Import all packages"
   ]
  },
  {
   "cell_type": "code",
   "execution_count": 79,
   "metadata": {},
   "outputs": [],
   "source": [
    "import numpy as np\n",
    "import pandas as pd\n",
    "import sklearn as sk\n",
    "import seaborn as sns\n",
    "import matplotlib.pyplot as plt\n",
    "import scipy as sp\n",
    "import rpy2.robjects as ro\n",
    "import xgboost as xgb\n",
    "import shap\n",
    "import warnings\n",
    "import random\n",
    "import pickleshare\n",
    "import pickle\n",
    "from rpy2.robjects import pandas2ri\n",
    "from rpy2.robjects.conversion import localconverter\n",
    "from skopt import BayesSearchCV\n",
    "from sklearn.feature_selection import SelectFromModel"
   ]
  },
  {
   "cell_type": "markdown",
   "metadata": {},
   "source": [
    "## Define Functions"
   ]
  },
  {
   "cell_type": "markdown",
   "metadata": {},
   "source": [
    "### load_datasets_from_r\n",
    "Reads \"ML.Tables\" .Rdata file and converts it to a nested dictionary."
   ]
  },
  {
   "cell_type": "code",
   "execution_count": 81,
   "metadata": {},
   "outputs": [],
   "source": [
    "def load_datasets_from_r(file_path):\n",
    "\n",
    "    \"\"\" \n",
    "    The function uses rpy2 to load datasets from an RData file.\n",
    "    In particular it expects a list of data.frames\n",
    "    It returns a dictionary of pandas DataFrames.\n",
    "    \"\"\"\n",
    "    \n",
    "    pandas2ri.activate()\n",
    "\n",
    "    ro.r['load'](file_path) # load the .RData\n",
    "\n",
    "    env = ro.globalenv # set the environment\n",
    "\n",
    "    r_list = env[list(env.keys())[0]] # take the list object\n",
    "\n",
    "    list_names = ro.r['names'](r_list) # take the names\n",
    "    list_names = [str(name) for name in list_names]\n",
    "\n",
    "    df_dict = {} # initialize outer dictionary\n",
    "    with (ro.default_converter + ro.pandas2ri.converter).context(): # start the conversion\n",
    "    # the conversion transforms a list of lists of lists of data.frames \n",
    "    # to a list of dictionaries of dictionaries of dictionaries of DataFrame\n",
    "        i = 0\n",
    "        for outer_dict in r_list:\n",
    "            df_dict[list_names[i]] = outer_dict\n",
    "            i += 1\n",
    "            \n",
    "    return(df_dict)"
   ]
  },
  {
   "cell_type": "markdown",
   "metadata": {},
   "source": [
    "### plot_observed_predicted\n",
    "This function plots observed values and predicted values to give a quick visual inspection"
   ]
  },
  {
   "cell_type": "code",
   "execution_count": 82,
   "metadata": {},
   "outputs": [],
   "source": [
    "def plot_observed_predicted(list_of_arrays, list_of_labels, title, x_label, y_label):\n",
    "\n",
    "    \"\"\"\n",
    "    The function takes a list of values and a list of labels as input and plots them.\n",
    "    NOTE: No genomic spatial relationship is preserved in the plot.\n",
    "    \"\"\"\n",
    "    n = len(list_of_arrays)\n",
    "\n",
    "    colors = sns.color_palette(\"dark\", n_colors = n)\n",
    "\n",
    "    for i in range(n):\n",
    "        color = colors[i]\n",
    "        sns.lineplot(list_of_arrays[i], color = color, label = list_of_labels[i])\n",
    "        sns.scatterplot(list_of_arrays[i], color = color)\n",
    "    plt.title(title, fontsize = 30)\n",
    "    plt.xlabel(x_label, fontsize = 16)\n",
    "    plt.ylabel(y_label, fontsize = 16)\n",
    "    plt.legend(fontsize = 16)\n",
    "    plt.xticks([])"
   ]
  },
  {
   "cell_type": "markdown",
   "metadata": {},
   "source": [
    "### adjusted R^2"
   ]
  },
  {
   "cell_type": "markdown",
   "metadata": {},
   "source": [
    "This function allows the computation of adjusted R^2, passing it as a custom scikit-scorer"
   ]
  },
  {
   "cell_type": "code",
   "execution_count": 83,
   "metadata": {},
   "outputs": [],
   "source": [
    "def adj_r2_score(y_true, y_pred, **kwargs):\n",
    "    n, p = X.shape\n",
    "    r2 = sk.metrics.r2_score(y_true, y_pred)\n",
    "    adjusted_r2 = 1 - ((1 - r2) * (n - 1)) / (n - p - 1)\n",
    "    return adjusted_r2"
   ]
  },
  {
   "cell_type": "code",
   "execution_count": 84,
   "metadata": {},
   "outputs": [],
   "source": [
    "adjusted_r2 = sk.metrics.make_scorer(adj_r2_score, response_method = \"predict\", greater_is_better= True)"
   ]
  },
  {
   "cell_type": "markdown",
   "metadata": {},
   "source": [
    "### feature_selector\n",
    "This function performs Incremental Feature Selection (IFS) to produce a reduced model <br> with best R2 performance with cross validation.\n",
    "Mean absolute SHAP values are used to select features"
   ]
  },
  {
   "cell_type": "code",
   "execution_count": 85,
   "metadata": {},
   "outputs": [],
   "source": [
    "def feature_selector_shap(feature_names, feature_importances, model, \n",
    "                          X_train, X_test, y_train, inner_cv,\n",
    "                          plot = True, verbose = True):\n",
    "\n",
    "    \"\"\"\n",
    "    The function takes as input feature names, feature importances, \n",
    "    a XGBoostRegressor object, the training and test dataset\n",
    "    and returns the reduced training and test datasets.\n",
    "    - plot parameter regulates whether or not to plot the R2 vs number of feature plot\n",
    "    - verbose parameter regulates whether or not to produce a text output\n",
    "    \"\"\"\n",
    "\n",
    "\n",
    "    thresholds = np.sort(feature_importances) # sort the feature importances\n",
    "    num_features_list = [] # initialize list\n",
    "    r2_scores_list = [] # initialize list\n",
    "    \n",
    "    for threshold in thresholds: # iterate over thresholds\n",
    "        \n",
    "        vars_to_keep = np.where(feature_importances >= threshold)[0]\n",
    "        X_train_selected = X_train.iloc[:,vars_to_keep]\n",
    "\n",
    "        r2_scores = sk.model_selection.cross_val_score(estimator = model, \n",
    "                                                       X = X_train_selected, y = y_train, \n",
    "                                                       scoring = adjusted_r2, cv = inner_cv)\n",
    "        mean_r2_score = np.mean(r2_scores)\n",
    "        \n",
    "        num_features_list.append(X_train_selected.shape[1]) # append\n",
    "        r2_scores_list.append(mean_r2_score) # append\n",
    "\n",
    "        if verbose:\n",
    "            print(f'> threshold={threshold}, features={X_train_selected.shape[1]}, adj_R2={mean_r2_score}')\n",
    "        \n",
    "        if len(vars_to_keep) == 1:\n",
    "            break\n",
    "\n",
    "    if plot:\n",
    "        plt.figure(figsize=(8, 6))\n",
    "        plt.plot(num_features_list, r2_scores_list, marker='o')\n",
    "        plt.xlabel('Number of Selected Features')\n",
    "        plt.ylabel('cross validated mean R2')\n",
    "        plt.title('R2 vs. Number of Selected Features')\n",
    "        plt.grid(True)\n",
    "        plt.show()\n",
    "\n",
    "    optimal_threshold_index = np.argmax(r2_scores_list)\n",
    "    optimal_num_features = num_features_list[optimal_threshold_index]\n",
    "    \n",
    "    if (optimal_threshold_index) == 0:\n",
    "        optimal_threshold = 0\n",
    "    else:   \n",
    "        optimal_threshold = thresholds[optimal_threshold_index - 1]\n",
    "\n",
    "    if verbose:\n",
    "        print(f\"Optimal Threshold: {optimal_threshold:.4f}\")\n",
    "        print(f\"Number of Selected Features: {optimal_num_features}\")\n",
    "        print(f\"R2 at Optimal Threshold: {r2_scores_list[optimal_threshold_index]:.4f}\")\n",
    "        print(\"\\n\")\n",
    "        \n",
    "    n = 5\n",
    "    selected_features = feature_names[np.where(feature_importances > optimal_threshold)]\n",
    "    selected_features = [str(name) for name in selected_features]\n",
    "    discarded_features = [str(name) for name in feature_names if str(name) not in selected_features]\n",
    "\n",
    "    if verbose:\n",
    "        print(\"Selected features are: \\n\")\n",
    "        for i in range(0,len(selected_features), n):\n",
    "            print(\"  \".join(selected_features[i:i+n]))\n",
    "        print(\"\\n\")\n",
    "        print(\"Discarded features are: \\n\")\n",
    "        for i in range(0,len(discarded_features), n):\n",
    "            print(\"  \".join(discarded_features[i:i+n]))\n",
    "\n",
    "    X_train_reduced = X_train[selected_features]\n",
    "    X_test_reduced = X_test[selected_features]\n",
    "    \n",
    "    return(X_train_reduced, X_test_reduced, selected_features)    "
   ]
  },
  {
   "cell_type": "markdown",
   "metadata": {},
   "source": [
    "### nested CV"
   ]
  },
  {
   "cell_type": "markdown",
   "metadata": {},
   "source": [
    "This function performs nested cross validation, optimizing the model at each step in order to properly estimate the model's error"
   ]
  },
  {
   "cell_type": "code",
   "execution_count": 86,
   "metadata": {},
   "outputs": [],
   "source": [
    "def nested_CV(outer_cv, inner_cv,\n",
    "              X_train, y_train, \n",
    "              model, search_space, \n",
    "              n_jobs, n_iter_bsearch, verbose):\n",
    "    \n",
    "    \"\"\"\n",
    "    The function performs nested cross validation to estimate model's error rate\n",
    "    It take the cv number, the training dataset, the target variable, the model or a BayesSearchCV\n",
    "    and a search space to perform hyperparameter tuning\n",
    "    \"\"\"\n",
    "\n",
    "    kf = sk.model_selection.KFold(n_splits = outer_cv, \n",
    "                                  shuffle = True, \n",
    "                                  random_state = kfold_random_state)\n",
    "    \n",
    "    mse_array = np.zeros(outer_cv)\n",
    "    r2_array = np.zeros(outer_cv)\n",
    "    predictions_array = np.zeros(len(X_train))\n",
    "    \n",
    "    i = 0\n",
    "    for train_index, val_index in kf.split(X_train):\n",
    "\n",
    "        if verbose:\n",
    "            print(f\"Fold #{i + 1}\")\n",
    "        \n",
    "        if verbose:\n",
    "            print(\"STEP 1 (Splitting)\")\n",
    "            \n",
    "        X_train_cv, X_val = X_train.iloc[train_index], X_train.iloc[val_index]\n",
    "        y_train_cv, y_val = y_train.iloc[train_index], y_train.iloc[val_index]\n",
    "        \n",
    "        if verbose:\n",
    "            print(\"STEP 2 (Tuning)\")\n",
    "            \n",
    "        opti = BayesSearchCV(\n",
    "            estimator = model,\n",
    "            search_spaces = search_space,\n",
    "            n_iter = n_iter_bsearch,\n",
    "            cv = inner_cv,\n",
    "            random_state = hypertune_random_state_bsearch,\n",
    "            refit = True,\n",
    "            n_jobs = n_jobs,\n",
    "            verbose = False\n",
    "        )\n",
    "        \n",
    "        opti.fit(X_train_cv, y_train_cv)\n",
    "        best_model = opti.best_estimator_\n",
    "    \n",
    "        if verbose:\n",
    "            print(\"STEP 3 (Prediction)\")\n",
    "            \n",
    "        cv_predictions = best_model.predict(X_val)\n",
    "        cv_mse = sk.metrics.mean_squared_error(y_val, cv_predictions)\n",
    "        cv_r2 = sk.metrics.r2_score(y_val, cv_predictions)\n",
    "        \n",
    "        mse_array[i] = cv_mse\n",
    "        r2_array[i] = cv_r2\n",
    "        predictions_array[val_index] = cv_predictions\n",
    "        \n",
    "        i += 1\n",
    "\n",
    "    return(mse_array, r2_array, predictions_array)"
   ]
  },
  {
   "cell_type": "markdown",
   "metadata": {},
   "source": [
    "### nested CV la vendetta"
   ]
  },
  {
   "cell_type": "code",
   "execution_count": 87,
   "metadata": {},
   "outputs": [],
   "source": [
    "def nested_CV_revenge(outer_cv, inner_cv, \n",
    "                      X_train, y_train, \n",
    "                      model, search_space, \n",
    "                      n_jobs, n_iter_bsearch, verbose):\n",
    "    \n",
    "    \"\"\"\n",
    "    The function performs nested cross validation to estimate model's error rate\n",
    "    It take the cv number, the training dataset, the target variable, the model or a BayesSearchCV\n",
    "    and a search space to perform hyperparameter tuning\n",
    "    \"\"\"\n",
    "\n",
    "    kf = sk.model_selection.KFold(n_splits = outer_cv, \n",
    "                                  shuffle = True, \n",
    "                                  random_state = kfold_random_state)\n",
    "\n",
    "    hyperparam_list = []\n",
    "    selected_features_list = []\n",
    "    mse_array = np.zeros(outer_cv)\n",
    "    r2_array = np.zeros(outer_cv)\n",
    "    predictions_array = np.zeros(len(X_train))\n",
    "    \n",
    "    i = 0\n",
    "    for train_index, val_index in kf.split(X_train):\n",
    "\n",
    "        if verbose:\n",
    "            print(f\"Fold #{i + 1}\")\n",
    "            \n",
    "        if verbose:\n",
    "            print(\"STEP 1 (Splitting)\")\n",
    "            \n",
    "        X_train_cv, X_val = X_train.iloc[train_index], X_train.iloc[val_index]\n",
    "        y_train_cv, y_val = y_train.iloc[train_index], y_train.iloc[val_index]\n",
    "        \n",
    "        if verbose:\n",
    "            print(\"STEP 2 (Tuning)\")\n",
    "\n",
    "        if verbose:\n",
    "            print(\"STEP 2.1 (HyperParameter Tuning Part 1)\")\n",
    "        \n",
    "        opti = BayesSearchCV(\n",
    "            estimator = model,\n",
    "            search_spaces = search_space,\n",
    "            n_iter = n_iter_bsearch,\n",
    "            cv = inner_cv,\n",
    "            random_state = hypertune_random_state_bsearch,\n",
    "            refit = True,\n",
    "            n_jobs = n_jobs,\n",
    "            verbose = 0\n",
    "        )\n",
    "        \n",
    "        opti.fit(X_train_cv, y_train_cv)\n",
    "        best_model = opti.best_estimator_\n",
    "\n",
    "        if verbose:\n",
    "            print(\"STEP 2.2 (SHAP)\")\n",
    "        \n",
    "        explainer = shap.TreeExplainer(best_model)\n",
    "\n",
    "        feature_names = best_model.feature_names_in_\n",
    "        feature_importances_shap = np.mean(np.abs(explainer.shap_values(X_train_cv)), axis = 0)\n",
    "    \n",
    "        if verbose:\n",
    "            print(\"STEP 2.3 (Feature selection)\")\n",
    "        \n",
    "        X_train_cv_reduced, X_val_cv_reduced, selected_features = feature_selector_shap(feature_names, feature_importances_shap, \n",
    "                                                                                        best_model, \n",
    "                                                                                        X_train_cv, X_val, y_train_cv, \n",
    "                                                                                        inner_cv,\n",
    "                                                                                        plot = False, verbose = False)\n",
    "\n",
    "        if verbose:\n",
    "            print(\"STEP 2.4 (HyperParameter Tuning Part 2)\")\n",
    "        \n",
    "        opti_fs = BayesSearchCV(\n",
    "            estimator = best_model, \n",
    "            search_spaces = search_space, \n",
    "            n_iter = n_iter_bsearch, \n",
    "            cv = inner_cv,\n",
    "            random_state = hypertune_random_state_bsearch,\n",
    "            refit = True, \n",
    "            n_jobs = n_jobs,\n",
    "            verbose = 0\n",
    "        )\n",
    "            \n",
    "        opti_fs.fit(X_train_cv_reduced, y_train_cv)\n",
    "        best_model_fs = opti_fs.best_estimator_\n",
    "        best_params_fs = opti_fs.best_params_\n",
    "        \n",
    "        if verbose:\n",
    "            print(\"STEP 3 (Prediction)\")\n",
    "            \n",
    "        cv_predictions = best_model_fs.predict(X_val_cv_reduced)\n",
    "        cv_mse = sk.metrics.mean_squared_error(y_val, cv_predictions)\n",
    "        cv_r2 = sk.metrics.r2_score(y_val, cv_predictions)\n",
    "\n",
    "        hyperparam_list.append(best_params_fs)\n",
    "        selected_features_list.append(selected_features)\n",
    "        mse_array[i] = cv_mse\n",
    "        r2_array[i] = cv_r2\n",
    "        predictions_array[val_index] = cv_predictions\n",
    "       \n",
    "        i += 1\n",
    "\n",
    "    return(hyperparam_list, selected_features_list, \n",
    "           mse_array, r2_array, predictions_array)"
   ]
  },
  {
   "cell_type": "markdown",
   "metadata": {},
   "source": [
    "## Load Data"
   ]
  },
  {
   "cell_type": "markdown",
   "metadata": {},
   "source": [
    "Call the load_datasets_from_r function to load all data"
   ]
  },
  {
   "cell_type": "code",
   "execution_count": 89,
   "metadata": {},
   "outputs": [],
   "source": [
    "output_dict = load_datasets_from_r(path_to_datasets)\n",
    "working_df = output_dict[mode]"
   ]
  },
  {
   "cell_type": "markdown",
   "metadata": {},
   "source": [
    "## Prepare Data"
   ]
  },
  {
   "cell_type": "code",
   "execution_count": 91,
   "metadata": {},
   "outputs": [],
   "source": [
    "bin_ids = working_df[[\"bin\"]]\n",
    "working_df = working_df.drop(cols_to_drop, axis= 1)"
   ]
  },
  {
   "cell_type": "code",
   "execution_count": 92,
   "metadata": {},
   "outputs": [],
   "source": [
    "X = working_df.loc[:, working_df.columns != target_variable]\n",
    "y = working_df.loc[:, target_variable]"
   ]
  },
  {
   "cell_type": "code",
   "execution_count": 93,
   "metadata": {},
   "outputs": [
    {
     "name": "stdout",
     "output_type": "stream",
     "text": [
      "Target Variable outside training set!\n"
     ]
    }
   ],
   "source": [
    "if len([col for col in cols_to_check if col in X.columns]) > 0:\n",
    "    raise Exception(\"Target Variable and derivated in the training set!\")\n",
    "else:\n",
    "    print(\"Target Variable outside training set!\")"
   ]
  },
  {
   "cell_type": "code",
   "execution_count": 94,
   "metadata": {},
   "outputs": [],
   "source": [
    "for col in X.columns:\n",
    "    print(col)\n",
    "clear_output(wait = False)"
   ]
  },
  {
   "cell_type": "markdown",
   "metadata": {},
   "source": [
    "Split train and test: \n",
    "- In this case we do 70% training that will be processed by BayesSearchCV with cv = 5\n",
    "- The remaining 30% will be used for testing"
   ]
  },
  {
   "cell_type": "code",
   "execution_count": 95,
   "metadata": {},
   "outputs": [],
   "source": [
    "X_train, X_test, y_train, y_test, bin_train, bin_test = sk.model_selection.train_test_split(X, y, bin_ids, \n",
    "                                                                                            test_size = 0.3, \n",
    "                                                                                            random_state = split_random_state)"
   ]
  },
  {
   "cell_type": "markdown",
   "metadata": {},
   "source": [
    "## Prepare the Regressors and the Search Space"
   ]
  },
  {
   "cell_type": "markdown",
   "metadata": {},
   "source": [
    "Remember to set the seed and random_state parameters in order to ensure reproducibility <br>\n",
    "NOTA: As it appears from the documentation, seed parameter is now deprecated, so set both seed and random_state to be sure\n",
    "\n",
    "Set up also the search_space for BayesSearchCV: They are large intervals, but BayesSearchCV is more efficient than regular GridSearchCV"
   ]
  },
  {
   "cell_type": "code",
   "execution_count": 97,
   "metadata": {},
   "outputs": [],
   "source": [
    "regressor = xgb.XGBRegressor(n_jobs = n_jobs_boost,\n",
    "                             seed = regressor_seed,\n",
    "                             tree_method = \"hist\",\n",
    "                             device = \"cpu\",\n",
    "                             random_state = regressor_random_state,)\n",
    "\n",
    "search_space_bayes = {\n",
    "    'learning_rate': (0.01, 1.0, 'log-uniform'),\n",
    "    'min_child_weight': (0, 10),\n",
    "    'max_depth': (0, 50),\n",
    "    'max_delta_step': (0, 20),\n",
    "    'subsample': (0.01, 1.0, 'uniform'),\n",
    "    'colsample_bytree': (0.01, 1.0, 'uniform'),\n",
    "    'colsample_bylevel': (0.01, 1.0, 'uniform'),\n",
    "    'reg_lambda': (1e-9, 1000, 'log-uniform'),\n",
    "    'reg_alpha': (1e-9, 1.0, 'log-uniform'),\n",
    "    'gamma': (1e-9, 0.5, 'log-uniform'),\n",
    "    'n_estimators': (50, 100),\n",
    "    'scale_pos_weight': (1e-6, 500, 'log-uniform')\n",
    "}"
   ]
  },
  {
   "cell_type": "markdown",
   "metadata": {},
   "source": [
    "### NESTED CV PIPELINE"
   ]
  },
  {
   "cell_type": "code",
   "execution_count": 99,
   "metadata": {},
   "outputs": [
    {
     "name": "stdout",
     "output_type": "stream",
     "text": [
      "Fold #1\n",
      "STEP 1 (Splitting)\n",
      "STEP 2 (Tuning)\n",
      "STEP 2.1 (HyperParameter Tuning Part 1)\n",
      "STEP 2.2 (SHAP)\n",
      "STEP 2.3 (Feature selection)\n",
      "STEP 2.4 (HyperParameter Tuning Part 2)\n",
      "STEP 3 (Prediction)\n",
      "Fold #2\n",
      "STEP 1 (Splitting)\n",
      "STEP 2 (Tuning)\n",
      "STEP 2.1 (HyperParameter Tuning Part 1)\n",
      "STEP 2.2 (SHAP)\n",
      "STEP 2.3 (Feature selection)\n",
      "STEP 2.4 (HyperParameter Tuning Part 2)\n",
      "STEP 3 (Prediction)\n",
      "Fold #3\n",
      "STEP 1 (Splitting)\n",
      "STEP 2 (Tuning)\n",
      "STEP 2.1 (HyperParameter Tuning Part 1)\n",
      "STEP 2.2 (SHAP)\n",
      "STEP 2.3 (Feature selection)\n",
      "STEP 2.4 (HyperParameter Tuning Part 2)\n",
      "STEP 3 (Prediction)\n",
      "Fold #4\n",
      "STEP 1 (Splitting)\n",
      "STEP 2 (Tuning)\n",
      "STEP 2.1 (HyperParameter Tuning Part 1)\n",
      "STEP 2.2 (SHAP)\n",
      "STEP 2.3 (Feature selection)\n",
      "STEP 2.4 (HyperParameter Tuning Part 2)\n",
      "STEP 3 (Prediction)\n",
      "Fold #5\n",
      "STEP 1 (Splitting)\n",
      "STEP 2 (Tuning)\n",
      "STEP 2.1 (HyperParameter Tuning Part 1)\n",
      "STEP 2.2 (SHAP)\n",
      "STEP 2.3 (Feature selection)\n",
      "STEP 2.4 (HyperParameter Tuning Part 2)\n",
      "STEP 3 (Prediction)\n"
     ]
    }
   ],
   "source": [
    "results = nested_CV_revenge(outer_cv = outer_cv,\n",
    "            inner_cv = inner_cv,\n",
    "            X_train = X_train, \n",
    "            y_train = y_train, \n",
    "            model = regressor, \n",
    "            search_space = search_space_bayes,\n",
    "            n_jobs= n_jobs_sk, n_iter_bsearch = n_iter_bsearch,\n",
    "            verbose = True\n",
    "           )\n",
    "\n",
    "(\n",
    "    hyperparam_list, \n",
    "    selected_features_list, \n",
    "    mse_array, \n",
    "    r2_array, \n",
    "    predictions_array \n",
    ") = results"
   ]
  },
  {
   "cell_type": "code",
   "execution_count": 100,
   "metadata": {},
   "outputs": [
    {
     "name": "stdout",
     "output_type": "stream",
     "text": [
      "The cross-validated root mean squared error (cv = 5) is : 0.23577685507607332\n",
      "The cross-validated R squared (R^2) (cv = 5) is : 0.41982843223999555\n"
     ]
    }
   ],
   "source": [
    "print(f\"The cross-validated root mean squared error (cv = {outer_cv}) is : {np.mean(np.sqrt(mse_array))}\")\n",
    "print(f\"The cross-validated R squared (R^2) (cv = {outer_cv}) is : {np.mean(r2_array)}\")"
   ]
  },
  {
   "cell_type": "code",
   "execution_count": 101,
   "metadata": {},
   "outputs": [],
   "source": [
    "selected_features_in_at_least_one_cv = set([elem for inner_list in selected_features_list for elem in inner_list])"
   ]
  },
  {
   "cell_type": "code",
   "execution_count": 102,
   "metadata": {},
   "outputs": [],
   "source": [
    "search_space_grid = {}\n",
    "\n",
    "for dictionary in hyperparam_list:\n",
    "    for k,v in dictionary.items():\n",
    "        if k in search_space_grid:\n",
    "            search_space_grid[k].update([v])\n",
    "        else:\n",
    "            search_space_grid[k] = set([v])\n",
    "\n",
    "search_space_grid = {k : list(v) for k,v in search_space_grid.items()}"
   ]
  },
  {
   "cell_type": "markdown",
   "metadata": {},
   "source": [
    "## Full Dataset Hyperparameter Tuning"
   ]
  },
  {
   "cell_type": "markdown",
   "metadata": {},
   "source": [
    "Once the true model error has beem estimated we can optimize the hyperparameter on the full training set"
   ]
  },
  {
   "cell_type": "code",
   "execution_count": 104,
   "metadata": {},
   "outputs": [],
   "source": [
    "opti = sk.model_selection.RandomizedSearchCV(estimator = regressor, \n",
    "                                             param_distributions = search_space_grid, \n",
    "                                             cv = inner_cv, \n",
    "                                             n_jobs = n_jobs_sk,\n",
    "                                             n_iter = n_iter_rsearch,\n",
    "                                             random_state = hypertune_random_state_rsearch, \n",
    "                                             verbose = 0, refit = True)\n",
    "opti.fit(X_train, y_train)\n",
    "clear_output(wait = False)"
   ]
  },
  {
   "cell_type": "code",
   "execution_count": 105,
   "metadata": {},
   "outputs": [],
   "source": [
    "model = opti.best_estimator_"
   ]
  },
  {
   "cell_type": "markdown",
   "metadata": {},
   "source": [
    "## Feature Importance Analysis"
   ]
  },
  {
   "cell_type": "markdown",
   "metadata": {},
   "source": [
    "Let's look at both XGBoost native feature importance and at mean absolute SHAP values as metric of feature importance"
   ]
  },
  {
   "cell_type": "code",
   "execution_count": 107,
   "metadata": {},
   "outputs": [],
   "source": [
    "explainer = shap.TreeExplainer(model, approximate= False)\n",
    "shap_values = explainer(X_train)\n",
    "shap_values_numpy = explainer.shap_values(X_train)"
   ]
  },
  {
   "cell_type": "code",
   "execution_count": 126,
   "metadata": {},
   "outputs": [
    {
     "name": "stdout",
     "output_type": "stream",
     "text": [
      "regrout / with CNA\n"
     ]
    },
    {
     "data": {
      "image/png": "[encoded data removed]",
      "text/plain": [
       "<Figure size 2500x1000 with 1 Axes>"
      ]
     },
     "metadata": {},
     "output_type": "display_data"
    }
   ],
   "source": [
    "if plot_shap:\n",
    "    print(\" / \".join([mode, condition]))\n",
    "    plt.figure(figsize = (100,25))\n",
    "    summary_plot = shap.summary_plot(shap_values, X_train, \n",
    "                                     plot_type='bar', max_display=25, plot_size= (25,10), rng = 42)\n",
    "    plt.show()"
   ]
  },
  {
   "cell_type": "markdown",
   "metadata": {},
   "source": [
    "## Feature Selection"
   ]
  },
  {
   "cell_type": "markdown",
   "metadata": {},
   "source": [
    "Let's perform Feature Selection using mean absolute SHAP values"
   ]
  },
  {
   "cell_type": "code",
   "execution_count": 109,
   "metadata": {},
   "outputs": [
    {
     "name": "stdout",
     "output_type": "stream",
     "text": [
      "> threshold=5.175686965230852e-06, features=254, adj_R2=0.3420325462579767\n",
      "> threshold=5.069741382612847e-05, features=253, adj_R2=0.3346947795232265\n",
      "> threshold=6.1282109527383e-05, features=252, adj_R2=0.3261928755236328\n",
      "> threshold=7.862837082939222e-05, features=251, adj_R2=0.3282433296929171\n",
      "> threshold=0.00017181674775201827, features=250, adj_R2=0.3253442583289286\n",
      "> threshold=0.00027266834513284266, features=249, adj_R2=0.3365443717046402\n",
      "> threshold=0.000307071692077443, features=248, adj_R2=0.3353092580141103\n",
      "> threshold=0.00031827177735976875, features=247, adj_R2=0.3319323748671554\n",
      "> threshold=0.0003224368847440928, features=246, adj_R2=0.33064205358972426\n",
      "> threshold=0.0003232140152249485, features=245, adj_R2=0.3234079604182268\n",
      "> threshold=0.0003264626720920205, features=244, adj_R2=0.3358376359372535\n",
      "> threshold=0.0003278906806372106, features=243, adj_R2=0.3415833539065765\n",
      "> threshold=0.00033163948683068156, features=242, adj_R2=0.332022644846556\n",
      "> threshold=0.0003488713700789958, features=241, adj_R2=0.329897478341618\n",
      "> threshold=0.00035506775020621717, features=240, adj_R2=0.3313264354734597\n",
      "> threshold=0.00036390015156939626, features=239, adj_R2=0.3461697266939736\n",
      "> threshold=0.0003649388381745666, features=238, adj_R2=0.3372026933274925\n",
      "> threshold=0.00036676888703368604, features=237, adj_R2=0.33661131477169576\n",
      "> threshold=0.0003676706983242184, features=236, adj_R2=0.33510951947823037\n",
      "> threshold=0.00037745499867014587, features=235, adj_R2=0.3299970184298347\n",
      "> threshold=0.00038025612593628466, features=234, adj_R2=0.3354700836932667\n",
      "> threshold=0.00038994650822132826, features=233, adj_R2=0.33143658779309554\n",
      "> threshold=0.0003919161681551486, features=232, adj_R2=0.3403599199923673\n",
      "> threshold=0.00040083375643007457, features=231, adj_R2=0.3487170567347455\n",
      "> threshold=0.00040489298407919705, features=230, adj_R2=0.32728214990988275\n",
      "> threshold=0.0004138619697187096, features=229, adj_R2=0.3372934714571212\n",
      "> threshold=0.00041487166890874505, features=228, adj_R2=0.33597504000391387\n",
      "> threshold=0.0004198512469884008, features=227, adj_R2=0.34049817567689233\n",
      "> threshold=0.0004386815708130598, features=226, adj_R2=0.33654537249770805\n",
      "> threshold=0.00043928067316301167, features=225, adj_R2=0.3321717234551496\n",
      "> threshold=0.0004411729169078171, features=224, adj_R2=0.3465050411177006\n",
      "> threshold=0.0004460230702534318, features=223, adj_R2=0.3374231787758442\n",
      "> threshold=0.0004465709498617798, features=222, adj_R2=0.33687826354132705\n",
      "> threshold=0.00044809619430452585, features=221, adj_R2=0.33568208901256186\n",
      "> threshold=0.0004520847578532994, features=220, adj_R2=0.3476637879876887\n",
      "> threshold=0.00045256494195200503, features=219, adj_R2=0.33939647517827626\n",
      "> threshold=0.00045292044524103403, features=218, adj_R2=0.3381853297780372\n",
      "> threshold=0.00045363689423538744, features=217, adj_R2=0.3389550884209928\n",
      "> threshold=0.00045906391460448503, features=216, adj_R2=0.33699398061345204\n",
      "> threshold=0.00046981085324659944, features=215, adj_R2=0.3380443918139245\n",
      "> threshold=0.0004733226087410003, features=214, adj_R2=0.32701547385026364\n",
      "> threshold=0.00047458388144150376, features=213, adj_R2=0.3412285561614201\n",
      "> threshold=0.0004807821533177048, features=212, adj_R2=0.3369423207475644\n",
      "> threshold=0.0004953164025209844, features=211, adj_R2=0.3409322823508421\n",
      "> threshold=0.000497944769449532, features=210, adj_R2=0.33961590374506584\n",
      "> threshold=0.0004995169583708048, features=209, adj_R2=0.32966212561493263\n",
      "> threshold=0.0005023895064368844, features=208, adj_R2=0.34136206299528177\n",
      "> threshold=0.0005054639186710119, features=207, adj_R2=0.337615342642277\n",
      "> threshold=0.0005060630501247942, features=206, adj_R2=0.334183396579596\n",
      "> threshold=0.0005108716432005167, features=205, adj_R2=0.33899180174251925\n",
      "> threshold=0.0005132549558766186, features=204, adj_R2=0.34447024582928365\n",
      "> threshold=0.0005187704227864742, features=203, adj_R2=0.3275075363944671\n",
      "> threshold=0.0005195006378926337, features=202, adj_R2=0.3364436791965682\n",
      "> threshold=0.000523718073964119, features=201, adj_R2=0.34148816281390676\n",
      "> threshold=0.0005281580961309373, features=200, adj_R2=0.3393398256733971\n",
      "> threshold=0.0005292495479807258, features=199, adj_R2=0.3401515526291499\n",
      "> threshold=0.0005304964142851532, features=198, adj_R2=0.34898608412201765\n",
      "> threshold=0.0005327846738509834, features=197, adj_R2=0.3385265425731913\n",
      "> threshold=0.0005340763600543141, features=196, adj_R2=0.33732821820890296\n",
      "> threshold=0.0005412647733464837, features=195, adj_R2=0.34727146809170745\n",
      "> threshold=0.0005477060913108289, features=194, adj_R2=0.35524079687493443\n",
      "> threshold=0.0005562283331528306, features=193, adj_R2=0.3368215368539453\n",
      "> threshold=0.0005589221836999059, features=192, adj_R2=0.3429855432282953\n",
      "> threshold=0.0005604930338449776, features=191, adj_R2=0.3364137698495912\n",
      "> threshold=0.0005611057276837528, features=190, adj_R2=0.34485040200955375\n",
      "> threshold=0.000563899811822921, features=189, adj_R2=0.33853448070595576\n",
      "> threshold=0.0005696789594367146, features=188, adj_R2=0.3391171968937156\n",
      "> threshold=0.0005734609439969063, features=187, adj_R2=0.3406747656718574\n",
      "> threshold=0.0005814944743178785, features=186, adj_R2=0.34296442805599164\n",
      "> threshold=0.0005924433353357017, features=185, adj_R2=0.3406145210325732\n",
      "> threshold=0.0005958118126727641, features=184, adj_R2=0.34051097065425573\n",
      "> threshold=0.0005965717136859894, features=183, adj_R2=0.34362746002896055\n",
      "> threshold=0.0005985384341329336, features=182, adj_R2=0.34181636424524253\n",
      "> threshold=0.0005991201614961028, features=181, adj_R2=0.3441383108454878\n",
      "> threshold=0.0005992338992655277, features=180, adj_R2=0.3518949959829342\n",
      "> threshold=0.000599498045630753, features=179, adj_R2=0.3443990758478142\n",
      "> threshold=0.0006011882796883583, features=178, adj_R2=0.3488281688057359\n",
      "> threshold=0.0006012509111315012, features=177, adj_R2=0.3356488270026279\n",
      "> threshold=0.0006019676220603287, features=176, adj_R2=0.34401715325104254\n",
      "> threshold=0.0006068770890124142, features=175, adj_R2=0.3318289755562541\n",
      "> threshold=0.0006078173173591495, features=174, adj_R2=0.3403748814263266\n",
      "> threshold=0.0006093786796554923, features=173, adj_R2=0.35258047524407493\n",
      "> threshold=0.0006101118633523583, features=172, adj_R2=0.3459449269849033\n",
      "> threshold=0.0006127179367467761, features=171, adj_R2=0.3448746724367398\n",
      "> threshold=0.0006163929356262088, features=170, adj_R2=0.3475886704217883\n",
      "> threshold=0.0006181131466291845, features=169, adj_R2=0.3478983349343856\n",
      "> threshold=0.0006197586772032082, features=168, adj_R2=0.33534237879247747\n",
      "> threshold=0.0006224857061170042, features=167, adj_R2=0.3470696560855114\n",
      "> threshold=0.0006245290278457105, features=166, adj_R2=0.34854111422267325\n",
      "> threshold=0.0006289195152930915, features=165, adj_R2=0.34684847369602884\n",
      "> threshold=0.0006364521686919034, features=164, adj_R2=0.3475765973900238\n",
      "> threshold=0.000639322679489851, features=163, adj_R2=0.3471878874384662\n",
      "> threshold=0.0006409666384570301, features=162, adj_R2=0.3443613165331456\n",
      "> threshold=0.0006426033214665949, features=161, adj_R2=0.33537727463624795\n",
      "> threshold=0.0006464862381108105, features=160, adj_R2=0.3544873481241873\n",
      "> threshold=0.0006483934703283012, features=159, adj_R2=0.3499059521957031\n",
      "> threshold=0.00065552385058254, features=158, adj_R2=0.3502465639881629\n",
      "> threshold=0.0006563315400853753, features=157, adj_R2=0.3470133118381232\n",
      "> threshold=0.0006617733160965145, features=156, adj_R2=0.33849664142421254\n",
      "> threshold=0.0006658642087131739, features=155, adj_R2=0.33730059574435556\n",
      "> threshold=0.000667945365421474, features=154, adj_R2=0.3495120568205707\n",
      "> threshold=0.0006697782664559782, features=153, adj_R2=0.35184929239212753\n",
      "> threshold=0.0006712469621561468, features=152, adj_R2=0.3471571684858645\n",
      "> threshold=0.0006726766005158424, features=151, adj_R2=0.3377735779852104\n",
      "> threshold=0.0006753525813110173, features=150, adj_R2=0.3490336795100338\n",
      "> threshold=0.000676761323120445, features=149, adj_R2=0.34371431944070946\n",
      "> threshold=0.0006811271887272596, features=148, adj_R2=0.3543003717765973\n",
      "> threshold=0.0006832513608969748, features=147, adj_R2=0.3457849533394799\n",
      "> threshold=0.0006889930227771401, features=146, adj_R2=0.355220427477881\n",
      "> threshold=0.000696800765581429, features=145, adj_R2=0.34509086332854405\n",
      "> threshold=0.0006995386211201549, features=144, adj_R2=0.3514286311790666\n",
      "> threshold=0.0007007017848081887, features=143, adj_R2=0.3507283545548168\n",
      "> threshold=0.0007055386085994542, features=142, adj_R2=0.3453640336936383\n",
      "> threshold=0.0007070060237310827, features=141, adj_R2=0.3452002180233569\n",
      "> threshold=0.0007076532347127795, features=140, adj_R2=0.3484850869738441\n",
      "> threshold=0.0007150084711611271, features=139, adj_R2=0.35676655294307363\n",
      "> threshold=0.0007156037609092891, features=138, adj_R2=0.348382202559373\n",
      "> threshold=0.000716296024620533, features=137, adj_R2=0.3489666532777271\n",
      "> threshold=0.0007234843214973807, features=136, adj_R2=0.33897906320864707\n",
      "> threshold=0.0007279517594724894, features=135, adj_R2=0.3489508429957009\n",
      "> threshold=0.0007300361176021397, features=134, adj_R2=0.3575389071573314\n",
      "> threshold=0.0007312201196327806, features=133, adj_R2=0.3494815096220658\n",
      "> threshold=0.0007348633371293545, features=132, adj_R2=0.35042401598916467\n",
      "> threshold=0.0007363714394159615, features=131, adj_R2=0.35661283257829846\n",
      "> threshold=0.0007381899049505591, features=130, adj_R2=0.3400483070238236\n",
      "> threshold=0.0007496238104067743, features=129, adj_R2=0.3581930501737934\n",
      "> threshold=0.000755112327169627, features=128, adj_R2=0.3574058109765342\n",
      "> threshold=0.0007551906164735556, features=127, adj_R2=0.3489404414818254\n",
      "> threshold=0.0007575913332402706, features=126, adj_R2=0.35523863509336945\n",
      "> threshold=0.0007584638078697026, features=125, adj_R2=0.3516528669218372\n",
      "> threshold=0.000765022065024823, features=124, adj_R2=0.3454888813484618\n",
      "> threshold=0.0007712226361036301, features=123, adj_R2=0.34008194891857935\n",
      "> threshold=0.000780814909376204, features=122, adj_R2=0.3678710115879828\n",
      "> threshold=0.0007809398812241852, features=121, adj_R2=0.35537994190889927\n",
      "> threshold=0.0007869848632253706, features=120, adj_R2=0.34381190314045124\n",
      "> threshold=0.000787999015301466, features=119, adj_R2=0.3557220238843826\n",
      "> threshold=0.0007880638004280627, features=118, adj_R2=0.3524107727570434\n",
      "> threshold=0.0007882745703682303, features=117, adj_R2=0.34900134090426693\n",
      "> threshold=0.0007898252224549651, features=116, adj_R2=0.346518483060746\n",
      "> threshold=0.0007982603274285793, features=115, adj_R2=0.3556372586400938\n",
      "> threshold=0.0008066475857049227, features=114, adj_R2=0.3619372719761346\n",
      "> threshold=0.0008313750731758773, features=113, adj_R2=0.3502190075242521\n",
      "> threshold=0.0008362476946786046, features=112, adj_R2=0.3653569231807798\n",
      "> threshold=0.0008422834216617048, features=111, adj_R2=0.3584339085934987\n",
      "> threshold=0.0008430851739831269, features=110, adj_R2=0.3578444469896482\n",
      "> threshold=0.0008560369024053216, features=109, adj_R2=0.3533247837760339\n",
      "> threshold=0.0008595211547799408, features=108, adj_R2=0.35694017034223524\n",
      "> threshold=0.0008597748237662017, features=107, adj_R2=0.35997410384346124\n",
      "> threshold=0.0008619790314696729, features=106, adj_R2=0.3551666422595054\n",
      "> threshold=0.0008661699830554426, features=105, adj_R2=0.3575747130740153\n",
      "> threshold=0.0008692950941622257, features=104, adj_R2=0.35686251487709814\n",
      "> threshold=0.0008758128387853503, features=103, adj_R2=0.360495527727724\n",
      "> threshold=0.0008787748520262539, features=102, adj_R2=0.3507657449341978\n",
      "> threshold=0.0008825761615298688, features=101, adj_R2=0.3548485929620722\n",
      "> threshold=0.0008856740314513445, features=100, adj_R2=0.36333816549940295\n",
      "> threshold=0.0008888710290193558, features=99, adj_R2=0.3514877144606774\n",
      "> threshold=0.0008911821059882641, features=98, adj_R2=0.35923035251361896\n",
      "> threshold=0.0008941320702433586, features=97, adj_R2=0.34301829937219536\n",
      "> threshold=0.0009063957259058952, features=96, adj_R2=0.3538373887547028\n",
      "> threshold=0.0009065996273420751, features=95, adj_R2=0.3573012588346287\n",
      "> threshold=0.00090909464051947, features=94, adj_R2=0.34469921228365513\n",
      "> threshold=0.0009173314902000129, features=93, adj_R2=0.3547119082653037\n",
      "> threshold=0.0009199507185257971, features=92, adj_R2=0.3570670347691916\n",
      "> threshold=0.0009212492732331157, features=91, adj_R2=0.36320825373771565\n",
      "> threshold=0.0009553325362503529, features=90, adj_R2=0.3493161992232432\n",
      "> threshold=0.0009562276536598802, features=89, adj_R2=0.35769952810428646\n",
      "> threshold=0.0009621772915124893, features=88, adj_R2=0.3560644604725689\n",
      "> threshold=0.0009686067933216691, features=87, adj_R2=0.3512397251395581\n",
      "> threshold=0.0009697108180262148, features=86, adj_R2=0.34651995090289195\n",
      "> threshold=0.0009731087484396994, features=85, adj_R2=0.34734371215726273\n",
      "> threshold=0.0009764429414644837, features=84, adj_R2=0.35864414749409174\n",
      "> threshold=0.0009809171315282583, features=83, adj_R2=0.35147689791659226\n",
      "> threshold=0.0009823204018175602, features=82, adj_R2=0.3524446348794203\n",
      "> threshold=0.0010097845224663615, features=81, adj_R2=0.3620413074750995\n",
      "> threshold=0.0010163505794480443, features=80, adj_R2=0.35145227847276067\n",
      "> threshold=0.0010181351099163294, features=79, adj_R2=0.35934022441011865\n",
      "> threshold=0.0010337969288229942, features=78, adj_R2=0.3584308279096083\n",
      "> threshold=0.0010398686863481998, features=77, adj_R2=0.3720271747571769\n",
      "> threshold=0.0010432464769110084, features=76, adj_R2=0.35598278486318896\n",
      "> threshold=0.0010436305310577154, features=75, adj_R2=0.35978921095314104\n",
      "> threshold=0.0010488549014553428, features=74, adj_R2=0.3554496064222667\n",
      "> threshold=0.0010581423994153738, features=73, adj_R2=0.3690345076376141\n",
      "> threshold=0.0010603077244013548, features=72, adj_R2=0.37096099814163647\n",
      "> threshold=0.0010661031119525433, features=71, adj_R2=0.35750935152076524\n",
      "> threshold=0.0010900063207373023, features=70, adj_R2=0.3620278329143014\n",
      "> threshold=0.001102127367630601, features=69, adj_R2=0.36348217889815765\n",
      "> threshold=0.0011080569820478559, features=68, adj_R2=0.35415048440550567\n",
      "> threshold=0.0011323653161525726, features=67, adj_R2=0.37084501771156014\n",
      "> threshold=0.0011431005550548434, features=66, adj_R2=0.3655118422263697\n",
      "> threshold=0.0011523172724992037, features=65, adj_R2=0.3593684599477889\n",
      "> threshold=0.0011839098297059536, features=64, adj_R2=0.3677755377957352\n",
      "> threshold=0.0011982414871454239, features=63, adj_R2=0.35702168330945017\n",
      "> threshold=0.0012195917079225183, features=62, adj_R2=0.35681947268703756\n",
      "> threshold=0.0012215487658977509, features=61, adj_R2=0.3633084220599076\n",
      "> threshold=0.0012285328703001142, features=60, adj_R2=0.3677697048401119\n",
      "> threshold=0.001232453272677958, features=59, adj_R2=0.3571620009936458\n",
      "> threshold=0.001237051677890122, features=58, adj_R2=0.35725366088153626\n",
      "> threshold=0.001244140905328095, features=57, adj_R2=0.3577449943021939\n",
      "> threshold=0.0012802466517314315, features=56, adj_R2=0.36554862865858256\n",
      "> threshold=0.0013321622973307967, features=55, adj_R2=0.3689264898189751\n",
      "> threshold=0.0013587577268481255, features=54, adj_R2=0.37385817600700527\n",
      "> threshold=0.0013791846577078104, features=53, adj_R2=0.36237837309420423\n",
      "> threshold=0.0013996316120028496, features=52, adj_R2=0.3613965342126108\n",
      "> threshold=0.001415683189406991, features=51, adj_R2=0.36111829984142335\n",
      "> threshold=0.0014349013799801469, features=50, adj_R2=0.3715438073579735\n",
      "> threshold=0.0014818670460954309, features=49, adj_R2=0.36341987095142314\n",
      "> threshold=0.001501790015026927, features=48, adj_R2=0.35782303920249786\n",
      "> threshold=0.0015401339624077082, features=47, adj_R2=0.3593198187058689\n",
      "> threshold=0.0015751642640680075, features=46, adj_R2=0.36579309468545906\n",
      "> threshold=0.0016186163993552327, features=45, adj_R2=0.3631686192741752\n",
      "> threshold=0.0016218029195442796, features=44, adj_R2=0.3470775299758153\n",
      "> threshold=0.0016283594304695725, features=43, adj_R2=0.37096759013732145\n",
      "> threshold=0.0016456461744382977, features=42, adj_R2=0.36758813272648533\n",
      "> threshold=0.0016793505055829883, features=41, adj_R2=0.35282384292637564\n",
      "> threshold=0.0017546425806358457, features=40, adj_R2=0.3571220351659821\n",
      "> threshold=0.0018117076251655817, features=39, adj_R2=0.3597959737352537\n",
      "> threshold=0.0018341868417337537, features=38, adj_R2=0.36024459654497365\n",
      "> threshold=0.0019093960290774703, features=37, adj_R2=0.3646608589546229\n",
      "> threshold=0.0019516245229169726, features=36, adj_R2=0.35795953436572087\n",
      "> threshold=0.0020188526250422, features=35, adj_R2=0.3589069112999706\n",
      "> threshold=0.002234500600025058, features=34, adj_R2=0.3603953634494574\n",
      "> threshold=0.002261610934510827, features=33, adj_R2=0.3585089545978166\n",
      "> threshold=0.0022708855103701353, features=32, adj_R2=0.3736340241087019\n",
      "> threshold=0.0023059756495058537, features=31, adj_R2=0.3726511542593312\n",
      "> threshold=0.0023094320204108953, features=30, adj_R2=0.3589387481439412\n",
      "> threshold=0.0024240873754024506, features=29, adj_R2=0.35829214276564464\n",
      "> threshold=0.002456758636981249, features=28, adj_R2=0.3674985118538972\n",
      "> threshold=0.002507605589926243, features=27, adj_R2=0.3650614012808659\n",
      "> threshold=0.0025653971824795008, features=26, adj_R2=0.3659803660218454\n",
      "> threshold=0.0027387836016714573, features=25, adj_R2=0.3510284384317652\n",
      "> threshold=0.002768635516986251, features=24, adj_R2=0.35341185526173396\n",
      "> threshold=0.002903955988585949, features=23, adj_R2=0.35751862914426485\n",
      "> threshold=0.0029972009360790253, features=22, adj_R2=0.3507146098113559\n",
      "> threshold=0.003079273272305727, features=21, adj_R2=0.36925329935809437\n",
      "> threshold=0.0034660950768738985, features=20, adj_R2=0.3495404380456653\n",
      "> threshold=0.003622149582952261, features=19, adj_R2=0.3501667257945133\n",
      "> threshold=0.003772701835259795, features=18, adj_R2=0.3373940300560725\n",
      "> threshold=0.003882589051499963, features=17, adj_R2=0.34428340274476654\n",
      "> threshold=0.004025548230856657, features=16, adj_R2=0.3547054536130383\n",
      "> threshold=0.004140916746109724, features=15, adj_R2=0.3453381103150363\n",
      "> threshold=0.004260177258402109, features=14, adj_R2=0.3218467884136878\n",
      "> threshold=0.00470967311412096, features=13, adj_R2=0.33190768712731367\n",
      "> threshold=0.004823845345526934, features=12, adj_R2=0.3273280086678809\n",
      "> threshold=0.0052503980696201324, features=11, adj_R2=0.3310782589866284\n",
      "> threshold=0.006793929263949394, features=10, adj_R2=0.32332352978333556\n",
      "> threshold=0.007233747746795416, features=9, adj_R2=0.3361025547264611\n",
      "> threshold=0.008763344027101994, features=8, adj_R2=0.30620256960770714\n",
      "> threshold=0.009468933567404747, features=7, adj_R2=0.27356991356176213\n",
      "> threshold=0.013656020164489746, features=6, adj_R2=0.2683996996737516\n",
      "> threshold=0.018529165536165237, features=5, adj_R2=0.24182906257402983\n",
      "> threshold=0.01879001222550869, features=4, adj_R2=0.21936137390463392\n",
      "> threshold=0.020627489313483238, features=3, adj_R2=0.1740355085762049\n",
      "> threshold=0.033541254699230194, features=2, adj_R2=0.18964753827764333\n",
      "> threshold=0.03645724058151245, features=1, adj_R2=0.18528132704660652\n"
     ]
    },
    {
     "data": {
      "image/png": "[encoded data removed]",
      "text/plain": [
       "<Figure size 800x600 with 1 Axes>"
      ]
     },
     "metadata": {},
     "output_type": "display_data"
    },
    {
     "name": "stdout",
     "output_type": "stream",
     "text": [
      "Optimal Threshold: 0.0013\n",
      "Number of Selected Features: 54\n",
      "R2 at Optimal Threshold: 0.3739\n",
      "\n",
      "\n",
      "Selected features are: \n",
      "\n",
      "ampl_score  del_score  mean.GC.content  total_n_PPIs.trans_IntINSIDER  total_n_ohnologs.mmpaper_trans\n",
      "dist.to.closest.FGS  Length_Counts.E1  Length_Counts.E10  Length_Counts.E11  Length_Counts.E12\n",
      "Length_Counts.E14  Length_Counts.E16  Length_Counts.E17  Length_Counts.E2  Length_Counts.E22\n",
      "Length_Counts.E23  Length_Counts.E24  Length_Counts.E25  Length_Counts.E3  Length_Counts.E4\n",
      "Length_Counts.E5  Length_Counts.E6  Length_Counts.E7  Length_Counts.E8  Length_Counts.E9\n",
      "all.int.trans_IntINSIDER  genes.bin  dist.to.closest.OG  dist.to.closest.TSG  mutations_norm\n",
      "distance.to.centromere  distance.to.telomere  Density.Ohnologs  Chromosome_Length  Centromere_Length\n",
      "Centromere_Type  16_87  11_78  12_116  22_43\n",
      "11_77  19_56  9_92  22_41  13_29\n",
      "4_154  2_196  4_159  2_197  8_52\n",
      "19_19  12_70  7_57  11_89\n",
      "\n",
      "\n",
      "Discarded features are: \n",
      "\n",
      "total_n_partners.trans  total_n_paralogs_trans  Length_Counts.E13  Length_Counts.E15  Length_Counts.E18\n",
      "Length_Counts.E19  Length_Counts.E20  Length_Counts.E21  partners.trans  density.OG\n",
      "density.TSG  Ess.distance_pancancer  ESSscore_pancancer  HAPLOscore_pancancer  Density.complex.proteins\n",
      "n_of_cancer_genes  n_of_TSGs  n_of_OGs  20_18  22_37\n",
      "3_93  20_51  12_117  6_9  20_50\n",
      "9_98  9_53  7_158  19_18  17_44\n",
      "17_36  7_17  7_89  2_15  11_74\n",
      "22_39  8_50  4_27  8_30  9_52\n",
      "8_29  9_89  7_159  4_30  9_10\n",
      "20_6  9_51  4_28  10_123  8_31\n",
      "20_49  8_4  22_40  1_238  6_135\n",
      "7_156  8_84  7_86  7_52  7_82\n",
      "7_87  9_73  1_234  13_33  9_91\n",
      "1_237  6_136  8_71  7_104  13_30\n",
      "6_23  9_90  6_163  17_37  9_99\n",
      "8_70  7_45  7_50  22_42  22_35\n",
      "15_13  11_73  12_13  20_52  9_85\n",
      "8_32  7_22  16_31  11_85  4_31\n",
      "4_93  11_54  1_239  8_8  16_82\n",
      "7_138  8_43  7_83  7_20  1_235\n",
      "7_139  7_51  1_123  7_18  7_155\n",
      "7_85  7_54  7_53  20_53  4_29\n",
      "4_185  9_88  17_38  4_33  3_182\n",
      "1_122  20_41  1_59  8_83  3_35\n",
      "9_8  2_108  1_107  13_17  11_79\n",
      "20_5  22_51  11_84  4_34  9_111\n",
      "9_110  11_67  8_33  17_57  20_26\n",
      "13_18  1_61  3_95  6_24  1_121\n",
      "11_88  7_3  8_72  1_60  11_72\n",
      "7_84  20_42  9_9  1_236  8_44\n",
      "1_58  3_155  12_115  12_17  1_108\n",
      "7_21  12_126  7_25  6_53  8_85\n",
      "11_86  1_120  9_71  1_13  7_59\n",
      "12_16  10_122  20_20  6_82  1_119\n",
      "7_58  20_27  7_19  7_154  16_43\n",
      "12_19  7_5  7_41  6_137  11_80\n",
      "8_34  20_24  9_82  11_66  22_50\n",
      "12_22  8_66  1_118  19_20  11_8\n",
      "8_82  16_4  6_25  16_48  9_70\n",
      "3_156  8_69  2_23  20_36  11_87\n"
     ]
    }
   ],
   "source": [
    "feature_names = model.feature_names_in_\n",
    "feature_importances_shap = np.mean(np.abs(explainer.shap_values(X_train)), axis = 0)\n",
    "\n",
    "X_train_reduced, X_test_reduced, selected_features = feature_selector_shap(feature_names, feature_importances_shap, \n",
    "                                                                            model, X_train, X_test, y_train, \n",
    "                                                                            inner_cv = inner_cv,\n",
    "                                                                            plot = True, verbose = True)"
   ]
  },
  {
   "cell_type": "code",
   "execution_count": 110,
   "metadata": {},
   "outputs": [],
   "source": [
    "features_to_discard = [feature for feature in selected_features if feature not in selected_features_in_at_least_one_cv]"
   ]
  },
  {
   "cell_type": "code",
   "execution_count": 111,
   "metadata": {},
   "outputs": [
    {
     "name": "stdout",
     "output_type": "stream",
     "text": [
      "Dropping columns never selected during Nested Cross Validation: ['Centromere_Type', '16_87', '12_116', '22_43', '13_29', '2_196', '4_159', '8_52', '12_70', '11_89']\n"
     ]
    }
   ],
   "source": [
    "print(f\"Dropping columns never selected during Nested Cross Validation: {features_to_discard}\")"
   ]
  },
  {
   "cell_type": "code",
   "execution_count": 112,
   "metadata": {},
   "outputs": [],
   "source": [
    "X_train_reduced = X_train_reduced.drop(features_to_discard, axis = 1); X_test_reduced = X_test_reduced.drop(features_to_discard, axis = 1)"
   ]
  },
  {
   "cell_type": "code",
   "execution_count": 113,
   "metadata": {},
   "outputs": [],
   "source": [
    "final_set_of_features = X_train_reduced.columns"
   ]
  },
  {
   "cell_type": "code",
   "execution_count": 114,
   "metadata": {
    "scrolled": true
   },
   "outputs": [],
   "source": [
    "opti_fs = sk.model_selection.RandomizedSearchCV(estimator = model, \n",
    "                                                param_distributions = search_space_grid, \n",
    "                                                cv = inner_cv, \n",
    "                                                n_jobs = n_jobs_sk,\n",
    "                                                n_iter = n_iter_rsearch,\n",
    "                                                random_state = hypertune_random_state_rsearch, \n",
    "                                                verbose = 0, refit = True)\n",
    "opti_fs.fit(X_train_reduced, y_train)\n",
    "clear_output(wait = False)"
   ]
  },
  {
   "cell_type": "code",
   "execution_count": 115,
   "metadata": {},
   "outputs": [],
   "source": [
    "model_fs = opti_fs.best_estimator_"
   ]
  },
  {
   "cell_type": "code",
   "execution_count": 116,
   "metadata": {},
   "outputs": [
    {
     "name": "stdout",
     "output_type": "stream",
     "text": [
      "subsample: 1.0\n",
      "scale_pos_weight: 0.0721836000471614\n",
      "reg_lambda: 9.688672930964799\n",
      "reg_alpha: 6.520472288781772e-05\n",
      "n_estimators: 100\n",
      "min_child_weight: 10\n",
      "max_depth: 0\n",
      "max_delta_step: 11\n",
      "learning_rate: 0.06437090781921778\n",
      "gamma: 1e-09\n",
      "colsample_bytree: 0.490277615068841\n",
      "colsample_bylevel: 0.6686396957437499\n"
     ]
    }
   ],
   "source": [
    "best_params_fs = opti_fs.best_params_\n",
    "\n",
    "for k,v in best_params_fs.items():\n",
    "    print(f\"{k}: {v}\")"
   ]
  },
  {
   "cell_type": "code",
   "execution_count": 118,
   "metadata": {},
   "outputs": [],
   "source": [
    "mean_r2_cv = np.mean(sk.model_selection.cross_val_score(model_fs, X_train_reduced, y_train, cv = outer_cv, scoring = \"r2\"))\n",
    "mean_rmse_cv = np.mean(-sk.model_selection.cross_val_score(model_fs, X_train_reduced, y_train, cv = outer_cv, scoring = \"neg_root_mean_squared_error\"))"
   ]
  },
  {
   "cell_type": "code",
   "execution_count": 119,
   "metadata": {},
   "outputs": [
    {
     "name": "stdout",
     "output_type": "stream",
     "text": [
      "Cross Validated r2 (cv = 5) is: 0.49389937571174325\n",
      "Cross Validated rmse (cv = 5) is: 0.22236945176883133\n"
     ]
    }
   ],
   "source": [
    "print(f\"Cross Validated r2 (cv = {outer_cv}) is: {mean_r2_cv}\")\n",
    "print(f\"Cross Validated rmse (cv = {outer_cv}) is: {mean_rmse_cv}\")"
   ]
  },
  {
   "cell_type": "code",
   "execution_count": 120,
   "metadata": {},
   "outputs": [],
   "source": [
    "if False:\n",
    "    plt.figure(figsize = (50,15))\n",
    "    plot_observed_predicted([y_train[1:500], sk.model_selection.cross_val_predict(model_fs, X_train_reduced, y_train, cv = outer_cv, method = \"predict\")[1:500]],\n",
    "                            [\"Observed\",\"CV Predicted\"], \n",
    "                            title = \"Observed VS CV Predicted\", \n",
    "                            x_label = \"Index\", y_label = \"mean_log2FC\")"
   ]
  },
  {
   "cell_type": "markdown",
   "metadata": {},
   "source": [
    "## Store Variables for later"
   ]
  },
  {
   "cell_type": "code",
   "execution_count": 122,
   "metadata": {},
   "outputs": [],
   "source": [
    "pickle.dump(X_train_reduced,open(X_train_filename,\"wb\"))\n",
    "pickle.dump(X_test_reduced,open(X_test_filename,\"wb\"))\n",
    "pickle.dump(y_train,open(y_train_filename,\"wb\"))\n",
    "pickle.dump(y_test,open(y_test_filename,\"wb\"))\n",
    "pickle.dump(bin_train,open(bin_train_filename,\"wb\"))\n",
    "pickle.dump(bin_test,open(bin_test_filename,\"wb\"))\n",
    "pickle.dump(model_fs,open(model_filename,\"wb\"))"
   ]
  }
 ],
 "metadata": {
  "kernelspec": {
   "display_name": "Python 3 (System)",
   "language": "python",
   "name": "python3-system"
  },
  "language_info": {
   "codemirror_mode": {
    "name": "ipython",
    "version": 3
   },
   "file_extension": ".py",
   "mimetype": "text/x-python",
   "name": "python",
   "nbconvert_exporter": "python",
   "pygments_lexer": "ipython3",
   "version": "3.10.12"
  }
 },
 "nbformat": 4,
 "nbformat_minor": 4
}
