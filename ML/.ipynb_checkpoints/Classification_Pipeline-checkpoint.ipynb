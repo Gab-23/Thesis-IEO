{
 "cells": [
  {
   "cell_type": "markdown",
   "metadata": {},
   "source": [
    "# Machine Learning Pipeline - Production"
   ]
  },
  {
   "cell_type": "markdown",
   "metadata": {},
   "source": [
    "Check the python kernel we are using, should be the local one, not the one in the virtual environment. <br>\n",
    "NOTE: A proper virtual environment will be setup later on"
   ]
  },
  {
   "cell_type": "code",
   "execution_count": 1,
   "metadata": {},
   "outputs": [
    {
     "name": "stdout",
     "output_type": "stream",
     "text": [
      "/usr/bin/python3\n"
     ]
    }
   ],
   "source": [
    "import sys\n",
    "print(sys.executable)"
   ]
  },
  {
   "cell_type": "markdown",
   "metadata": {
    "jp-MarkdownHeadingCollapsed": true
   },
   "source": [
    "## Define Variables"
   ]
  },
  {
   "cell_type": "markdown",
   "metadata": {},
   "source": [
    "Set up main variables that will be called later on, for readibility purposes"
   ]
  },
  {
   "cell_type": "code",
   "execution_count": 3,
   "metadata": {},
   "outputs": [],
   "source": [
    "install_bool = True\n",
    "path_to_datasets = \"/home/ieo7429/Desktop/THESIS_GAB/outfiles/target_variables/ML_tables_regression_classification_BRCA.RData\"\n",
    "mode = \"regrout\"\n",
    "cols_to_drop = [\"mean_log2FC\",\"weighted_log2FC\", \"joint_probability\", \"bool_diff_acc\", \n",
    "                \"sign_mean_log2FC_2\", \"sign_mean_log2FC_3\", \n",
    "                \"weighted_coef_of_var_log2FC\", \"weighted_log2FC\", \"bin\", \"Type\"]\n",
    "\n",
    "if \"ampl_score\" in cols_to_drop and \"del_score\" in cols_to_drop:\n",
    "    condition = \"without_CNA\"\n",
    "else:\n",
    "    condition = \"with CNA\"\n",
    "\n",
    "cv = 3\n",
    "plot_variation = True\n",
    "plot_gain = False\n",
    "plot_shap = True"
   ]
  },
  {
   "cell_type": "markdown",
   "metadata": {
    "jp-MarkdownHeadingCollapsed": true
   },
   "source": [
    "## Install packages"
   ]
  },
  {
   "cell_type": "markdown",
   "metadata": {},
   "source": [
    "Install all needed packages"
   ]
  },
  {
   "cell_type": "code",
   "execution_count": 4,
   "metadata": {},
   "outputs": [],
   "source": [
    "from IPython.display import clear_output\n",
    "\n",
    "if install_bool:\n",
    "    ! pip install pickleshare\n",
    "    ! pip install pandas\n",
    "    ! pip install scikit-learn\n",
    "    ! pip install seaborn\n",
    "    ! pip install scipy\n",
    "    ! pip install --upgrade pip setuptools wheel\n",
    "    ! pip install rpy2\n",
    "    ! pip install shap\n",
    "    ! pip install \"numpy<=2.1\"\n",
    "    %pip install -U ipywidgets\n",
    "\n",
    "clear_output(wait = False)"
   ]
  },
  {
   "cell_type": "markdown",
   "metadata": {
    "jp-MarkdownHeadingCollapsed": true
   },
   "source": [
    "## Import libraries"
   ]
  },
  {
   "cell_type": "markdown",
   "metadata": {},
   "source": [
    "Import all packages"
   ]
  },
  {
   "cell_type": "code",
   "execution_count": 5,
   "metadata": {},
   "outputs": [],
   "source": [
    "import numpy as np\n",
    "import pandas as pd\n",
    "import sklearn as sk\n",
    "import seaborn as sns\n",
    "import matplotlib.pyplot as plt\n",
    "import scipy as sp\n",
    "import rpy2.robjects as ro\n",
    "import xgboost as xgb\n",
    "import shap\n",
    "import warnings\n",
    "import pickleshare\n",
    "from rpy2.robjects import pandas2ri\n",
    "from rpy2.robjects.conversion import localconverter\n",
    "from skopt import BayesSearchCV\n",
    "from sklearn.feature_selection import SelectFromModel"
   ]
  },
  {
   "cell_type": "markdown",
   "metadata": {},
   "source": [
    "## Define Functions"
   ]
  },
  {
   "cell_type": "markdown",
   "metadata": {
    "jp-MarkdownHeadingCollapsed": true
   },
   "source": [
    "### load_datasets_from_r\n",
    "Reads \"ML.Tables\" .Rdata file and converts it to a nested dictionary."
   ]
  },
  {
   "cell_type": "code",
   "execution_count": 13,
   "metadata": {},
   "outputs": [],
   "source": [
    "def load_datasets_from_r(file_path):\n",
    "\n",
    "    \"\"\" \n",
    "    The function uses rpy2 to load datasets from an RData file.\n",
    "    In particular it expects a list of data.frames\n",
    "    It returns a dictionary of pandas DataFrames.\n",
    "    \"\"\"\n",
    "    \n",
    "    pandas2ri.activate()\n",
    "\n",
    "    ro.r['load'](file_path) # load the .RData\n",
    "\n",
    "    env = ro.globalenv # set the environment\n",
    "\n",
    "    r_list = env[list(env.keys())[0]] # take the list object\n",
    "\n",
    "    list_names = ro.r['names'](r_list) # take the names\n",
    "    list_names = [str(name) for name in list_names]\n",
    "\n",
    "    df_dict = {} # initialize outer dictionary\n",
    "    with (ro.default_converter + ro.pandas2ri.converter).context(): # start the conversion\n",
    "    # the conversion transforms a list of lists of lists of data.frames \n",
    "    # to a list of dictionaries of dictionaries of dictionaries of DataFrame\n",
    "        i = 0\n",
    "        for outer_dict in r_list:\n",
    "            df_dict[list_names[i]] = outer_dict\n",
    "            i += 1\n",
    "            \n",
    "    return(df_dict)"
   ]
  },
  {
   "cell_type": "markdown",
   "metadata": {
    "jp-MarkdownHeadingCollapsed": true
   },
   "source": [
    "### gini_coefficient"
   ]
  },
  {
   "cell_type": "markdown",
   "metadata": {},
   "source": [
    "Function to compute the gini coefficient (2 * AUC - 1)"
   ]
  },
  {
   "cell_type": "code",
   "execution_count": 6,
   "metadata": {},
   "outputs": [],
   "source": [
    "def gini_coefficient_score(y_true, y_pred_prob, **kwargs):\n",
    "    y_score = y_pred_prob\n",
    "    auc_score = sk.metrics.roc_auc_score(y_true, y_score)\n",
    "    gini_coef = 2 * auc_score - 1\n",
    "    return gini_coef"
   ]
  },
  {
   "cell_type": "code",
   "execution_count": 7,
   "metadata": {},
   "outputs": [],
   "source": [
    "gini_coefficient = sk.metrics.make_scorer(gini_coefficient_score, response_method = \"predict_proba\", greater_is_better= True)"
   ]
  },
  {
   "cell_type": "markdown",
   "metadata": {
    "jp-MarkdownHeadingCollapsed": true
   },
   "source": [
    "### feature_selector\n",
    "his function performs Incremental Feature Selection (IFS) to produce a reduced model <br> with best gini coefficient (2 * AUC - 1) performance with cross validation.\n",
    "Mean absolute SHAP values are used to select features"
   ]
  },
  {
   "cell_type": "code",
   "execution_count": 9,
   "metadata": {},
   "outputs": [],
   "source": [
    "def feature_selector_shap(feature_names, feature_importances, bayes_search, X_train, X_test, y_train, plot = True, verbose = True):\n",
    "\n",
    "    \"\"\"\n",
    "    The function takes as input feature names, feature importances, \n",
    "    a BayesSearchCV object, the training and test dataset\n",
    "    and returns the reduced training and test datasets.\n",
    "    - plot parameter regulates whether or not to plot the R2 vs number of feature plot\n",
    "    - verbose parameter regulates whether or not to produce a text output\n",
    "    \"\"\"\n",
    "\n",
    "\n",
    "    thresholds = np.sort(feature_importances) # sort the feature importances\n",
    "    num_features_list = [] # initialize list\n",
    "    gini_coef_list = [] # initialize list\n",
    "    \n",
    "    for threshold in thresholds: # iterate over thresholds\n",
    "        \n",
    "        vars_to_keep = np.where(feature_importances >= threshold)[0]\n",
    "        X_train_selected = X_train.iloc[:,vars_to_keep]\n",
    "\n",
    "        selected_model = xgb.XGBClassifier(**bayes_search.best_params_, n_jobs = 4, seed = 0, random_state = 42) # initialize regressor\n",
    "\n",
    "        gini_coef_scores = sk.model_selection.cross_val_score(estimator = selected_model, X = X_train_selected, y = y_train, scoring = gini_coefficient, cv = 5)\n",
    "        mean_gini_coef_score = np.mean(gini_coef_scores)\n",
    "        \n",
    "        num_features_list.append(X_train_selected.shape[1]) # append\n",
    "        gini_coef_list.append(mean_gini_coef_score) # append\n",
    "\n",
    "        if verbose:\n",
    "            print(f'> threshold={threshold}, features={X_train_selected.shape[1]}, gini coefficient={mean_gini_coef_score}')\n",
    "        \n",
    "        if len(vars_to_keep) == 1:\n",
    "            break\n",
    "\n",
    "    if plot:\n",
    "        plt.figure(figsize=(8, 6))\n",
    "        plt.plot(num_features_list, gini_coef_list, marker='o')\n",
    "        plt.xlabel('Number of Selected Features')\n",
    "        plt.ylabel('cross validated mean Ginny coefficient')\n",
    "        plt.title('Gini coefficient vs. Number of Selected Features')\n",
    "        plt.grid(True)\n",
    "        plt.show()\n",
    "\n",
    "    optimal_threshold_index = np.argmax(gini_coef_list)\n",
    "    optimal_num_features = num_features_list[optimal_threshold_index]\n",
    "    \n",
    "    if (optimal_threshold_index) == 0:\n",
    "        optimal_threshold = 0\n",
    "    else:   \n",
    "        optimal_threshold = thresholds[optimal_threshold_index - 1]\n",
    "\n",
    "    if verbose:\n",
    "        print(f\"Optimal Threshold: {optimal_threshold:.4f}\")\n",
    "        print(f\"Number of Selected Features: {optimal_num_features}\")\n",
    "        print(f\"Gini coef at Optimal Threshold: {gini_coef_list[optimal_threshold_index]:.4f}\")\n",
    "        print(\"\\n\")\n",
    "        \n",
    "    n = 5\n",
    "    selected_features = feature_names[np.where(feature_importances > optimal_threshold)]\n",
    "    selected_features = [str(name) for name in selected_features]\n",
    "    discarded_features = [str(name) for name in feature_names if str(name) not in selected_features]\n",
    "\n",
    "    if verbose:\n",
    "        print(\"Selected features are: \\n\")\n",
    "        for i in range(0,len(selected_features), n):\n",
    "            print(\"  \".join(selected_features[i:i+n]))\n",
    "        print(\"\\n\")\n",
    "        print(\"Discarded features are: \\n\")\n",
    "        for i in range(0,len(discarded_features), n):\n",
    "            print(\"  \".join(discarded_features[i:i+n]))\n",
    "\n",
    "    X_train_reduced = X_train[selected_features]\n",
    "    X_test_reduced = X_test[selected_features]\n",
    "    \n",
    "    return(X_train_reduced, X_test_reduced)    "
   ]
  },
  {
   "cell_type": "markdown",
   "metadata": {
    "jp-MarkdownHeadingCollapsed": true
   },
   "source": [
    "### Nested CV"
   ]
  },
  {
   "cell_type": "markdown",
   "metadata": {},
   "source": [
    "This function performs nested cross validation, optimizing the model at each step in order to properly estimate the model's error"
   ]
  },
  {
   "cell_type": "code",
   "execution_count": 10,
   "metadata": {},
   "outputs": [],
   "source": [
    "def nested_CV(cv, X_train, y_train, model, search_space, verbose):\n",
    "    \n",
    "    \"\"\"\n",
    "    The function performs nested cross validation to estimate model's error rate\n",
    "    It take the cv number, the training dataset, the target variable, the model or a BayesSearchCV\n",
    "    and a search space to perform hyperparameter tuning\n",
    "    \"\"\"\n",
    "\n",
    "    if isinstance(model, BayesSearchCV):\n",
    "        classifier = model.best_estimator_\n",
    "    else:\n",
    "        classifier = model\n",
    "    \n",
    "    kf = sk.model_selection.KFold(n_splits = cv, shuffle=True, random_state=4909)\n",
    "    \n",
    "    accuracy_array = np.zeros(cv)\n",
    "    f1_array = np.zeros(cv)\n",
    "    precision_array = np.zeros(cv)\n",
    "    recall_array = np.zeros(cv)\n",
    "    roc_auc_array = np.zeros(cv)\n",
    "    predictions_array = np.zeros(len(X_train))\n",
    "    probas_array = np.zeros(len(X_train))\n",
    "    \n",
    "    i = 0\n",
    "    for train_index, val_index in kf.split(X_train):\n",
    "\n",
    "        if verbose:\n",
    "            print(f\"Fold #{i + 1}\")\n",
    "        \n",
    "        X_train_cv, X_val = X_train.iloc[train_index], X_train.iloc[val_index]\n",
    "        y_train_cv, y_val = y_train[train_index], y_train[val_index]\n",
    "        \n",
    "        if verbose:\n",
    "            print(\"STEP 1 (Splitting)\")\n",
    "        \n",
    "        opti = BayesSearchCV(\n",
    "            estimator = classifier,\n",
    "            search_spaces = search_space,\n",
    "            n_iter = 50,\n",
    "            cv = cv,\n",
    "            random_state = 42,\n",
    "            refit = True,\n",
    "            n_jobs = 40\n",
    "        )\n",
    "        \n",
    "        if verbose:\n",
    "            print(\"STEP 2 (Tuning)\")\n",
    "        \n",
    "        opti.fit(X_train_cv, y_train_cv)\n",
    "        best_model = opti.best_estimator_\n",
    "    \n",
    "        if verbose: \n",
    "            print(\"STEP 3 (Fitting)\")\n",
    "        \n",
    "        cv_predictions = best_model.predict(X_val)\n",
    "        cv_pred_probas = best_model.predict_proba(X_val)[:,1]\n",
    "        \n",
    "        cv_accuracy = sk.metrics.accuracy_score(y_val, cv_predictions)\n",
    "        cv_f1 = sk.metrics.f1_score(y_val, cv_predictions)\n",
    "        cv_precision = sk.metrics.precision_score(y_val, cv_predictions)\n",
    "        cv_recall = sk.metrics.recall_score(y_val, cv_predictions)\n",
    "        cv_roc_auc = sk.metrics.roc_auc_score(y_val, cv_pred_probas)\n",
    "        \n",
    "        if verbose:\n",
    "            print(\"STEP 4 (Prediction)\")\n",
    "        \n",
    "        accuracy_array[i] = cv_accuracy \n",
    "        f1_array[i] = cv_f1\n",
    "        precision_array[i] = cv_precision\n",
    "        recall_array[i] = cv_recall\n",
    "        roc_auc_array[i] = cv_roc_auc\n",
    "        predictions_array[val_index] = cv_predictions\n",
    "        probas_array[val_index] = cv_pred_probas\n",
    "        \n",
    "        i += 1\n",
    "\n",
    "    return(accuracy_array, f1_array, precision_array, recall_array, roc_auc_array, predictions_array, probas_array)"
   ]
  },
  {
   "cell_type": "markdown",
   "metadata": {
    "jp-MarkdownHeadingCollapsed": true
   },
   "source": [
    "### Nested CV la vendetta"
   ]
  },
  {
   "cell_type": "code",
   "execution_count": 11,
   "metadata": {},
   "outputs": [],
   "source": [
    "def nested_CV_revenge(cv, X_train, y_train, model, search_space, verbose):\n",
    "    \n",
    "    \"\"\"\n",
    "    The function performs nested cross validation to estimate model's error rate\n",
    "    It take the cv number, the training dataset, the target variable, the model or a BayesSearchCV\n",
    "    and a search space to perform hyperparameter tuning\n",
    "    \"\"\"\n",
    "\n",
    "    if isinstance(model, BayesSearchCV):\n",
    "        classifier = model.best_estimator_\n",
    "    else:\n",
    "        classifier = model\n",
    "    \n",
    "    kf = sk.model_selection.KFold(n_splits = cv, shuffle=True, random_state=4909)\n",
    "    \n",
    "    accuracy_array = np.zeros(cv)\n",
    "    f1_array = np.zeros(cv)\n",
    "    precision_array = np.zeros(cv)\n",
    "    recall_array = np.zeros(cv)\n",
    "    roc_auc_array = np.zeros(cv)\n",
    "    predictions_array = np.zeros(len(X_train))\n",
    "    probas_array = np.zeros(len(X_train))\n",
    "    \n",
    "    i = 0\n",
    "    for train_index, val_index in kf.split(X_train):\n",
    "\n",
    "        if verbose:\n",
    "            print(f\"Fold #{i + 1}\")\n",
    "            \n",
    "        if verbose:\n",
    "            print(\"STEP 1 (Splitting)\")\n",
    "            \n",
    "        X_train_cv, X_val = X_train.iloc[train_index], X_train.iloc[val_index]\n",
    "        y_train_cv, y_val = y_train[train_index], y_train[val_index]\n",
    "        \n",
    "        if verbose:\n",
    "            print(\"STEP 2 (Tuning)\")\n",
    "\n",
    "        if verbose:\n",
    "            print(\"STEP 2.1 (HyperParameter Tuning Part 1)\")\n",
    "        \n",
    "        opti = BayesSearchCV(\n",
    "            estimator = classifier,\n",
    "            search_spaces = search_space,\n",
    "            n_iter = 50,\n",
    "            cv = cv,\n",
    "            random_state = 42,\n",
    "            refit = True,\n",
    "            n_jobs = 40,\n",
    "            verbose = 0\n",
    "        )\n",
    "        \n",
    "        model = opti.fit(X_train_cv, y_train_cv)\n",
    "        best_model = model.best_estimator_\n",
    "\n",
    "        if verbose:\n",
    "            print(\"STEP 2.2 (SHAP)\")\n",
    "        \n",
    "        explainer = shap.TreeExplainer(best_model)\n",
    "        shap_values = explainer(X_train_cv)\n",
    "\n",
    "        feature_names = best_model.feature_names_in_\n",
    "        feature_importances_shap = np.mean(np.abs(explainer.shap_values(X_train_cv)), axis = 0)\n",
    "    \n",
    "        if verbose:\n",
    "            print(\"STEP 2.3 (Feature selection)\")\n",
    "        \n",
    "        X_train_cv_reduced, X_val_cv_reduced = feature_selector_shap(feature_names, feature_importances_shap, \n",
    "                                                                model, X_train_cv, X_val, y_train_cv, \n",
    "                                                                plot = False, verbose = False)\n",
    "\n",
    "        if verbose:\n",
    "            print(\"STEP 2.4 (HyperParameter Tuning Part 2)\")\n",
    "        \n",
    "        opti_fs = BayesSearchCV(\n",
    "            estimator = model.best_estimator_, \n",
    "            search_spaces = search_space, \n",
    "            n_iter = 50, \n",
    "            cv = cv,\n",
    "            random_state = 42,\n",
    "            refit = True, \n",
    "            n_jobs = 40,\n",
    "            verbose = 0\n",
    "        )\n",
    "\n",
    "        model_fs = opti_fs.fit(X_train_cv_reduced, y_train_cv)\n",
    "        best_model_fs = model_fs.best_estimator_\n",
    "        \n",
    "        if verbose: \n",
    "            print(\"STEP 3 (Fitting)\")\n",
    "        \n",
    "        cv_predictions = best_model_fs.predict(X_val_cv_reduced)\n",
    "        cv_pred_probas = best_model_fs.predict_proba(X_val_cv_reduced)[:,1]\n",
    "        \n",
    "        cv_accuracy = sk.metrics.accuracy_score(y_val, cv_predictions)\n",
    "        cv_f1 = sk.metrics.f1_score(y_val, cv_predictions)\n",
    "        cv_precision = sk.metrics.precision_score(y_val, cv_predictions)\n",
    "        cv_recall = sk.metrics.recall_score(y_val, cv_predictions)\n",
    "        cv_roc_auc = sk.metrics.roc_auc_score(y_val, cv_pred_probas)\n",
    "        \n",
    "        if verbose:\n",
    "            print(\"STEP 4 (Prediction)\")\n",
    "        \n",
    "        accuracy_array[i] = cv_accuracy \n",
    "        f1_array[i] = cv_f1\n",
    "        precision_array[i] = cv_precision\n",
    "        recall_array[i] = cv_recall\n",
    "        roc_auc_array[i] = cv_roc_auc\n",
    "        predictions_array[val_index] = cv_predictions\n",
    "        probas_array[val_index] = cv_pred_probas\n",
    "        \n",
    "        i += 1\n",
    "\n",
    "    return(accuracy_array, f1_array, precision_array, recall_array, roc_auc_array, predictions_array, probas_array)"
   ]
  },
  {
   "cell_type": "markdown",
   "metadata": {},
   "source": [
    "## Load Data"
   ]
  },
  {
   "cell_type": "code",
   "execution_count": 14,
   "metadata": {},
   "outputs": [],
   "source": [
    "output_dict = load_datasets_from_r(path_to_datasets)"
   ]
  },
  {
   "cell_type": "code",
   "execution_count": 15,
   "metadata": {},
   "outputs": [],
   "source": [
    "working_df = output_dict[mode]"
   ]
  },
  {
   "cell_type": "code",
   "execution_count": 17,
   "metadata": {},
   "outputs": [
    {
     "data": {
      "image/png": "[encoded data removed]",
      "text/plain": [
       "<Figure size 1200x500 with 4 Axes>"
      ]
     },
     "metadata": {},
     "output_type": "display_data"
    }
   ],
   "source": [
    "fig, axes = plt.subplots(2, 2, figsize=(12, 5))\n",
    "\n",
    "A = axes[0,0]\n",
    "B = axes[0,1]\n",
    "C = axes[1,0]\n",
    "D = axes[1,1]\n",
    "\n",
    "sns.barplot(working_df.bool_diff_acc.value_counts(), ax = A)\n",
    "sns.barplot(working_df.sign_mean_log2FC_1.value_counts(), ax = B)\n",
    "sns.barplot(working_df.sign_mean_log2FC_2.value_counts(), ax = C)\n",
    "sns.barplot(working_df.sign_mean_log2FC_3.value_counts(), ax = D)\n",
    "\n",
    "A.set_title(\"Differential Accessibility across patients (boolean) [A]\")\n",
    "B.set_title(\"Differential Accessibility direction (v = 1) [B]\")\n",
    "C.set_title(\"Differential Accessibility direction (v = 2) [C]\")\n",
    "D.set_title(\"Differential Accessibility direction (v = 3) [D]\")\n",
    "\n",
    "A.set_xlabel(\"\"); A.set_ylabel(\"\")\n",
    "B.set_xlabel(\"\"); B.set_ylabel(\"\")\n",
    "C.set_xlabel(\"\"); C.set_ylabel(\"\")\n",
    "D.set_xlabel(\"\"); D.set_ylabel(\"\")\n",
    "\n",
    "plt.tight_layout()"
   ]
  },
  {
   "cell_type": "markdown",
   "metadata": {},
   "source": [
    "## Prepare Data"
   ]
  },
  {
   "cell_type": "code",
   "execution_count": 18,
   "metadata": {},
   "outputs": [],
   "source": [
    "bin_ids = working_df[[\"bin\"]]"
   ]
  },
  {
   "cell_type": "code",
   "execution_count": 19,
   "metadata": {},
   "outputs": [],
   "source": [
    "working_df = working_df.drop(cols_to_drop, axis= 1)"
   ]
  },
  {
   "cell_type": "code",
   "execution_count": 20,
   "metadata": {},
   "outputs": [],
   "source": [
    "X = working_df.iloc[:, 1:]\n",
    "y = working_df.iloc[:, 0]"
   ]
  },
  {
   "cell_type": "code",
   "execution_count": 21,
   "metadata": {},
   "outputs": [],
   "source": [
    "if \"sign_mean_log2FC_1\" in X.columns:\n",
    "    raise Exception(\"Target Variable in the training set!\")"
   ]
  },
  {
   "cell_type": "code",
   "execution_count": 22,
   "metadata": {},
   "outputs": [],
   "source": [
    "X_train, X_test, y_train, y_test, bin_train, bin_test = sk.model_selection.train_test_split(X, y, bin_ids, test_size=0.3, random_state=123)\n",
    "y_train = np.where(y_train == 1, 1, 0); y_test = np.where(y_test == 1, 1, 0)"
   ]
  },
  {
   "cell_type": "markdown",
   "metadata": {},
   "source": [
    "## Prepare the Classifier and the Search Space"
   ]
  },
  {
   "cell_type": "code",
   "execution_count": 23,
   "metadata": {},
   "outputs": [],
   "source": [
    "classifier = xgb.XGBClassifier(n_jobs = 40, nthread = 40, seed = 0, random_state = 42)\n",
    "\n",
    "search_space = {  \n",
    "    'learning_rate': (0.001, 1.0, 'log-uniform'),  \n",
    "    'n_estimators': (50, 500),  \n",
    "    'max_depth': (3, 15),  \n",
    "    'min_child_weight': (1, 10),  \n",
    "    'gamma': (1e-9, 5.0, 'log-uniform'),  \n",
    "    'subsample': (0.5, 1.0, 'uniform'),  \n",
    "    'colsample_bytree': (0.5, 1.0, 'uniform'),  \n",
    "    'colsample_bylevel': (0.5, 1.0, 'uniform'),  \n",
    "    'reg_alpha': (1e-9, 10.0, 'log-uniform'),  \n",
    "    'reg_lambda': (1e-9, 10.0, 'log-uniform'),  \n",
    "    'scale_pos_weight': (1e-6, 100, 'log-uniform'),  \n",
    "    'max_delta_step': (0, 10),  \n",
    "    'objective': ['binary:logistic'],  \n",
    "    'booster': ['gbtree', 'dart'],  \n",
    "    'eval_metric': ['logloss', 'error', 'auc']  \n",
    "}  "
   ]
  },
  {
   "cell_type": "code",
   "execution_count": null,
   "metadata": {},
   "outputs": [],
   "source": [
    "accuracy_array, f1_array, precision_array, recall_array, roc_auc_array, predictions_array, probas_array = nested_CV_revenge(cv = 3, \n",
    "                                                                                                                    X_train = X_train, \n",
    "                                                                                                                    y_train = y_train, \n",
    "                                                                                                                    model = classifier, \n",
    "                                                                                                                    search_space = search_space, \n",
    "                                                                                                                    verbose = True)"
   ]
  },
  {
   "cell_type": "markdown",
   "metadata": {},
   "source": [
    "## Evaluate Model Performances"
   ]
  },
  {
   "cell_type": "code",
   "execution_count": 20,
   "metadata": {},
   "outputs": [
    {
     "name": "stdout",
     "output_type": "stream",
     "text": [
      "Fold #1\n",
      "STEP 1 (Splitting)\n",
      "STEP 2 (Tuning)\n",
      "STEP 3 (Fitting)\n",
      "STEP 4 (Prediction)\n",
      "Fold #2\n",
      "STEP 1 (Splitting)\n",
      "STEP 2 (Tuning)\n",
      "STEP 3 (Fitting)\n",
      "STEP 4 (Prediction)\n",
      "Fold #3\n",
      "STEP 1 (Splitting)\n",
      "STEP 2 (Tuning)\n",
      "STEP 3 (Fitting)\n",
      "STEP 4 (Prediction)\n",
      "Fold #4\n",
      "STEP 1 (Splitting)\n",
      "STEP 2 (Tuning)\n",
      "STEP 3 (Fitting)\n",
      "STEP 4 (Prediction)\n",
      "Fold #5\n",
      "STEP 1 (Splitting)\n",
      "STEP 2 (Tuning)\n",
      "STEP 3 (Fitting)\n",
      "STEP 4 (Prediction)\n"
     ]
    }
   ],
   "source": [
    "accuracy_array, f1_array, precision_array, recall_array, roc_auc_array, predictions_array = nested_CV(cv = cv, \n",
    "                                                                                                      X_train = X_train, \n",
    "                                                                                                      y_train = y_train, \n",
    "                                                                                                      model = classifier, \n",
    "                                                                                                      search_space = search_space, \n",
    "                                                                                                      verbose = True)"
   ]
  },
  {
   "cell_type": "code",
   "execution_count": 21,
   "metadata": {},
   "outputs": [
    {
     "name": "stdout",
     "output_type": "stream",
     "text": [
      "The cross-validated accuracy (cv = 5) is : 0.779990543970537\n",
      "The cross-validated f1 score(cv = 5) is : 0.7802925617724903\n",
      "The cross-validated precision (cv = 5) is : 0.7730754667263154\n",
      "The cross-validated recall(cv = 5) is : 0.7919953586429263\n",
      "The cross-validated roc auc (cv = 5) is : 0.8713112162236676\n"
     ]
    }
   ],
   "source": [
    "print(f\"The cross-validated accuracy (cv = {cv}) is : {np.mean(accuracy_array)}\")\n",
    "print(f\"The cross-validated f1 score(cv = {cv}) is : {np.mean(f1_array)}\")\n",
    "print(f\"The cross-validated precision (cv = {cv}) is : {np.mean(precision_array)}\")\n",
    "print(f\"The cross-validated recall(cv = {cv}) is : {np.mean(recall_array)}\")\n",
    "print(f\"The cross-validated roc auc (cv = {cv}) is : {np.mean(roc_auc_array)}\")"
   ]
  },
  {
   "cell_type": "markdown",
   "metadata": {},
   "source": [
    "## Full Dataset Hyperparameter Tuning"
   ]
  },
  {
   "cell_type": "code",
   "execution_count": 22,
   "metadata": {},
   "outputs": [],
   "source": [
    "opti = BayesSearchCV(estimator = classifier, search_spaces = search_space, \n",
    "                     n_iter = 50, cv = cv, n_jobs = 15,\n",
    "                     verbose = 0, refit = True, random_state = 42)"
   ]
  },
  {
   "cell_type": "code",
   "execution_count": 23,
   "metadata": {},
   "outputs": [],
   "source": [
    "model = opti.fit(X_train, y_train)"
   ]
  },
  {
   "cell_type": "markdown",
   "metadata": {},
   "source": [
    "## Feature Importance Analysis"
   ]
  },
  {
   "cell_type": "markdown",
   "metadata": {},
   "source": [
    "Let's look at both XGBoost native feature importance and at mean absolute SHAP values as metric of feature importance"
   ]
  },
  {
   "cell_type": "code",
   "execution_count": 25,
   "metadata": {},
   "outputs": [],
   "source": [
    "feature_importances = model.best_estimator_.feature_importances_\n",
    "feature_names = model.best_estimator_.feature_names_in_.tolist()\n",
    "\n",
    "importance_df = pd.DataFrame({\n",
    "    'feature': feature_names,\n",
    "    'importance': feature_importances\n",
    "}).sort_values(by='importance', ascending=False)\n",
    "\n",
    "if plot_gain:\n",
    "    plt.figure(figsize=(10, 6))\n",
    "    plt.barh(\n",
    "        importance_df['feature'][:20][::1],\n",
    "        importance_df['importance'][:20][::1],\n",
    "        color='skyblue'\n",
    "    )\n",
    "    plt.xlabel('Importance Score', fontsize=12)\n",
    "    plt.ylabel('Feature', fontsize=12)\n",
    "    plt.title('XGBoost Feature Importances [GAIN]', fontsize=14)\n",
    "    plt.gca().invert_yaxis()\n",
    "    plt.grid(axis='x', linestyle='--', alpha=0.7)\n",
    "    plt.show()"
   ]
  },
  {
   "cell_type": "code",
   "execution_count": 26,
   "metadata": {},
   "outputs": [
    {
     "name": "stdout",
     "output_type": "stream",
     "text": [
      "regrout / with CNA\n"
     ]
    },
    {
     "data": {
      "image/png": "[encoded data removed]",
      "text/plain": [
       "<Figure size 2500x1000 with 1 Axes>"
      ]
     },
     "metadata": {},
     "output_type": "display_data"
    }
   ],
   "source": [
    "explainer = shap.TreeExplainer(model.best_estimator_)\n",
    "shap_values = explainer(X_train)\n",
    "shap_values_numpy = explainer.shap_values(X_train)\n",
    "\n",
    "if plot_shap:\n",
    "    print(\" / \".join([mode, condition]))\n",
    "    plt.figure(figsize = (100,25))\n",
    "    summary_plot = shap.summary_plot(shap_values, X_train, \n",
    "                                     plot_type='bar', max_display=10, plot_size= (25,10))\n",
    "    plt.show()"
   ]
  },
  {
   "cell_type": "markdown",
   "metadata": {},
   "source": [
    "## Feature Selection"
   ]
  },
  {
   "cell_type": "markdown",
   "metadata": {},
   "source": [
    "Let's perform Feature Selection using mean absolute SHAP values"
   ]
  },
  {
   "cell_type": "code",
   "execution_count": 27,
   "metadata": {},
   "outputs": [
    {
     "name": "stdout",
     "output_type": "stream",
     "text": [
      "> threshold=0.0, features=51, gini coefficient=0.7413662813063473\n",
      "> threshold=0.0, features=51, gini coefficient=0.7413662813063473\n",
      "> threshold=0.006664958782494068, features=49, gini coefficient=0.7375780327952939\n",
      "> threshold=0.013836076483130455, features=48, gini coefficient=0.7407093675478453\n",
      "> threshold=0.014348489232361317, features=47, gini coefficient=0.7373545802913498\n",
      "> threshold=0.01898995228111744, features=46, gini coefficient=0.7481358018666979\n",
      "> threshold=0.01944192685186863, features=45, gini coefficient=0.7397159268660618\n",
      "> threshold=0.022758103907108307, features=44, gini coefficient=0.7438446819387785\n",
      "> threshold=0.023290283977985382, features=43, gini coefficient=0.7453018422991453\n",
      "> threshold=0.023949045687913895, features=42, gini coefficient=0.7498497347223747\n",
      "> threshold=0.031910546123981476, features=41, gini coefficient=0.7453775232858243\n",
      "> threshold=0.03794277086853981, features=40, gini coefficient=0.7329553215738412\n",
      "> threshold=0.03956444561481476, features=39, gini coefficient=0.7388684495007538\n",
      "> threshold=0.04160522297024727, features=38, gini coefficient=0.7477423226059725\n",
      "> threshold=0.047513674944639206, features=37, gini coefficient=0.7505406570255237\n",
      "> threshold=0.04969772696495056, features=36, gini coefficient=0.747971694672324\n",
      "> threshold=0.049802567809820175, features=35, gini coefficient=0.7532554070642175\n",
      "> threshold=0.05353908613324165, features=34, gini coefficient=0.7398017645125827\n",
      "> threshold=0.056021854281425476, features=33, gini coefficient=0.7381791757338656\n",
      "> threshold=0.05775405839085579, features=32, gini coefficient=0.7552313913236899\n",
      "> threshold=0.0586455836892128, features=31, gini coefficient=0.7530516551673279\n",
      "> threshold=0.06106800213456154, features=30, gini coefficient=0.7556021423387321\n",
      "> threshold=0.06852860748767853, features=29, gini coefficient=0.7535464116345146\n",
      "> threshold=0.06937918066978455, features=28, gini coefficient=0.7559865007632464\n",
      "> threshold=0.0716903880238533, features=27, gini coefficient=0.7595307299832322\n",
      "> threshold=0.07774877548217773, features=26, gini coefficient=0.7545226584423468\n",
      "> threshold=0.07857359200716019, features=25, gini coefficient=0.7629546200478176\n",
      "> threshold=0.08266700804233551, features=24, gini coefficient=0.7639447436990141\n",
      "> threshold=0.08448713272809982, features=23, gini coefficient=0.7543567151058911\n",
      "> threshold=0.09132421761751175, features=22, gini coefficient=0.7673183394370089\n",
      "> threshold=0.09463096410036087, features=21, gini coefficient=0.7620024746006168\n",
      "> threshold=0.09639761596918106, features=20, gini coefficient=0.767914686452295\n",
      "> threshold=0.11266627907752991, features=19, gini coefficient=0.7655935693514356\n",
      "> threshold=0.11669366806745529, features=18, gini coefficient=0.7567223047654574\n",
      "> threshold=0.11756359040737152, features=17, gini coefficient=0.7686471015748809\n",
      "> threshold=0.11843309551477432, features=16, gini coefficient=0.7506400242450588\n",
      "> threshold=0.12700065970420837, features=15, gini coefficient=0.7533475115434959\n",
      "> threshold=0.13929155468940735, features=14, gini coefficient=0.7638051609762728\n",
      "> threshold=0.15990719199180603, features=13, gini coefficient=0.7623758241558662\n",
      "> threshold=0.16777925193309784, features=12, gini coefficient=0.7633199564395248\n",
      "> threshold=0.16976815462112427, features=11, gini coefficient=0.7454709689471452\n",
      "> threshold=0.1725221574306488, features=10, gini coefficient=0.7600943198246164\n",
      "> threshold=0.17802180349826813, features=9, gini coefficient=0.7413331419354793\n",
      "> threshold=0.18854941427707672, features=8, gini coefficient=0.7541707119171909\n",
      "> threshold=0.18855729699134827, features=7, gini coefficient=0.7332153083156978\n",
      "> threshold=0.20892848074436188, features=6, gini coefficient=0.7288902287403936\n",
      "> threshold=0.2162826806306839, features=5, gini coefficient=0.7348720064272956\n",
      "> threshold=0.22640439867973328, features=4, gini coefficient=0.7254091059275357\n",
      "> threshold=0.27637016773223877, features=3, gini coefficient=0.5670042114513196\n",
      "> threshold=0.57591712474823, features=2, gini coefficient=0.5396063880181351\n",
      "> threshold=0.6308090686798096, features=1, gini coefficient=0.4282843537443478\n"
     ]
    },
    {
     "data": {
      "image/png": "[encoded data removed]",
      "text/plain": [
       "<Figure size 800x600 with 1 Axes>"
      ]
     },
     "metadata": {},
     "output_type": "display_data"
    },
    {
     "name": "stdout",
     "output_type": "stream",
     "text": [
      "Optimal Threshold: 0.1167\n",
      "Number of Selected Features: 17\n",
      "Gini coef at Optimal Threshold: 0.7686\n",
      "\n",
      "\n",
      "Selected features are: \n",
      "\n",
      "ampl_score  del_score  mean.GC.content  total_n_ohnologs.mmpaper_trans  total_n_paralogs_trans\n",
      "dist.to.closest.FGS  Length_Counts.E1  Length_Counts.E2  Length_Counts.E21  Length_Counts.E25\n",
      "genes.bin  dist.to.closest.OG  dist.to.closest.TSG  distance.to.centromere  distance.to.telomere\n",
      "Chromosome_Length  Centromere_Length\n",
      "\n",
      "\n",
      "Discarded features are: \n",
      "\n",
      "total_n_partners.trans  total_n_PPIs.trans_IntINSIDER  Length_Counts.E10  Length_Counts.E11  Length_Counts.E12\n",
      "Length_Counts.E13  Length_Counts.E14  Length_Counts.E15  Length_Counts.E16  Length_Counts.E17\n",
      "Length_Counts.E18  Length_Counts.E19  Length_Counts.E20  Length_Counts.E22  Length_Counts.E23\n",
      "Length_Counts.E24  Length_Counts.E3  Length_Counts.E4  Length_Counts.E5  Length_Counts.E6\n",
      "Length_Counts.E7  Length_Counts.E8  Length_Counts.E9  all.int.trans_IntINSIDER  partners.trans\n",
      "density.OG  density.TSG  mutations_norm  Ess.distance_pancancer  ESSscore_pancancer\n",
      "HAPLOscore_pancancer  Density.complex.proteins  Density.Ohnologs  Centromere_Type\n"
     ]
    }
   ],
   "source": [
    "feature_names = model.best_estimator_.feature_names_in_\n",
    "feature_importances_shap = np.mean(np.abs(explainer.shap_values(X_train)), axis = 0)\n",
    "\n",
    "X_train_reduced, X_test_reduced = feature_selector_shap(feature_names, feature_importances_shap, \n",
    "                                                        model, X_train, X_test, y_train, \n",
    "                                                        plot = True, verbose = True)"
   ]
  },
  {
   "cell_type": "code",
   "execution_count": 59,
   "metadata": {},
   "outputs": [],
   "source": [
    "opti_fs = BayesSearchCV(estimator = model.best_estimator_, search_spaces = search_space, \n",
    "                        n_iter = 50, cv = cv, n_jobs = 15,\n",
    "                        verbose = 0, refit = True, random_state = 42)\n",
    "\n",
    "model_fs = opti_fs.fit(X_train_reduced, y_train)"
   ]
  },
  {
   "cell_type": "code",
   "execution_count": 67,
   "metadata": {},
   "outputs": [
    {
     "name": "stdout",
     "output_type": "stream",
     "text": [
      "Fold #1\n",
      "STEP 1 (Splitting)\n",
      "STEP 2 (Tuning)\n",
      "STEP 3 (Fitting)\n",
      "STEP 4 (Prediction)\n",
      "Fold #2\n",
      "STEP 1 (Splitting)\n",
      "STEP 2 (Tuning)\n",
      "STEP 3 (Fitting)\n",
      "STEP 4 (Prediction)\n",
      "Fold #3\n",
      "STEP 1 (Splitting)\n",
      "STEP 2 (Tuning)\n",
      "STEP 3 (Fitting)\n",
      "STEP 4 (Prediction)\n",
      "Fold #4\n",
      "STEP 1 (Splitting)\n",
      "STEP 2 (Tuning)\n",
      "STEP 3 (Fitting)\n",
      "STEP 4 (Prediction)\n",
      "Fold #5\n",
      "STEP 1 (Splitting)\n",
      "STEP 2 (Tuning)\n",
      "STEP 3 (Fitting)\n",
      "STEP 4 (Prediction)\n"
     ]
    }
   ],
   "source": [
    "accuracy_array_fs, f1_array_fs, precision_array_fs, recall_array_fs, roc_auc_array_fs, predictions_array_fs = nested_CV(cv = cv, X_train = X_train_reduced, y_train = y_train, model = model_fs, search_space = search_space, verbose = True)"
   ]
  },
  {
   "cell_type": "code",
   "execution_count": 73,
   "metadata": {},
   "outputs": [
    {
     "name": "stdout",
     "output_type": "stream",
     "text": [
      "The cross-validated accuracy (cv = 5) is : 0.779990543970537\n",
      "The cross-validated f1 score(cv = 5) is : 0.7821918470957314\n",
      "The cross-validated precision (cv = 5) is : 0.7683945420124724\n",
      "The cross-validated recall(cv = 5) is : 0.8011207779452072\n",
      "The cross-validated roc auc (cv = 5) is : 0.8698447237685836\n"
     ]
    }
   ],
   "source": [
    "print(f\"The cross-validated accuracy (cv = {cv}) is : {np.mean(accuracy_array_fs)}\")\n",
    "print(f\"The cross-validated f1 score(cv = {cv}) is : {np.mean(f1_array_fs)}\")\n",
    "print(f\"The cross-validated precision (cv = {cv}) is : {np.mean(precision_array_fs)}\")\n",
    "print(f\"The cross-validated recall(cv = {cv}) is : {np.mean(recall_array_fs)}\")\n",
    "print(f\"The cross-validated roc auc (cv = {cv}) is : {np.mean(roc_auc_array_fs)}\")"
   ]
  },
  {
   "cell_type": "markdown",
   "metadata": {},
   "source": [
    "### Optimize Classification threshold"
   ]
  },
  {
   "cell_type": "code",
   "execution_count": 41,
   "metadata": {},
   "outputs": [],
   "source": [
    "tuner_thr = sk.model_selection.TunedThresholdClassifierCV(model_fs.best_estimator_, scoring = \"balanced_accuracy\")\n",
    "model_thr = tuner_thr.fit(X_train_reduced, y_train)"
   ]
  }
 ],
 "metadata": {
  "kernelspec": {
   "display_name": "Python 3 (System)",
   "language": "python",
   "name": "python3-system"
  },
  "language_info": {
   "codemirror_mode": {
    "name": "ipython",
    "version": 3
   },
   "file_extension": ".py",
   "mimetype": "text/x-python",
   "name": "python",
   "nbconvert_exporter": "python",
   "pygments_lexer": "ipython3",
   "version": "3.10.12"
  }
 },
 "nbformat": 4,
 "nbformat_minor": 4
}
