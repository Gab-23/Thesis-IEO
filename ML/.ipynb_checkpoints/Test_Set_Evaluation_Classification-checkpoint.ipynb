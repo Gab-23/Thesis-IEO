{
 "cells": [
  {
   "cell_type": "code",
   "execution_count": null,
   "id": "9de009a4-9d7d-437c-a67c-efcf70cc9f91",
   "metadata": {},
   "outputs": [],
   "source": [
    "y_test = np.where(y_test == 1, 1, 0)\n",
    "\n",
    "best_classifier_shap = xgb.XGBClassifier(**model.best_params_, n_jobs = 4, seed = 0, random_state = 42)\n",
    "model_optimized_shap = best_classifier_shap.fit(X_train_reduced, y_train)\n",
    "y_predict_fs_shap = model_optimized_shap.predict(X_test_reduced)\n",
    "\n",
    "report_test = sk.metrics.classification_report(y_test, y_predict_fs_shap)\n",
    "confusion_matrix_test = sk.metrics.confusion_matrix(y_true = y_test, y_pred = y_predict_fs_shap)"
   ]
  },
  {
   "cell_type": "code",
   "execution_count": null,
   "id": "a113262a-1911-4126-8587-b83183f0810e",
   "metadata": {},
   "outputs": [],
   "source": [
    "disp = sk.metrics.ConfusionMatrixDisplay(confusion_matrix = confusion_matrix_test, display_labels = model_optimized_shap.classes_)\n",
    "disp.plot(); plt.show()"
   ]
  }
 ],
 "metadata": {
  "kernelspec": {
   "display_name": "Python 3 (ipykernel)",
   "language": "python",
   "name": "python3"
  },
  "language_info": {
   "codemirror_mode": {
    "name": "ipython",
    "version": 3
   },
   "file_extension": ".py",
   "mimetype": "text/x-python",
   "name": "python",
   "nbconvert_exporter": "python",
   "pygments_lexer": "ipython3",
   "version": "3.9.7"
  }
 },
 "nbformat": 4,
 "nbformat_minor": 5
}
